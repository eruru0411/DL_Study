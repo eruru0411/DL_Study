{
  "nbformat": 4,
  "nbformat_minor": 0,
  "metadata": {
    "colab": {
      "name": "210221国勢調査からの収入予測ipynb",
      "provenance": [],
      "collapsed_sections": [],
      "authorship_tag": "ABX9TyOW31Ym7M/Eg2DlFoKi8AiV",
      "include_colab_link": true
    },
    "kernelspec": {
      "name": "python3",
      "display_name": "Python 3"
    }
  },
  "cells": [
    {
      "cell_type": "markdown",
      "metadata": {
        "id": "view-in-github",
        "colab_type": "text"
      },
      "source": [
        "<a href=\"https://colab.research.google.com/github/eruru0411/git-test/blob/master/210221%E5%9B%BD%E5%8B%A2%E8%AA%BF%E6%9F%BB%E3%81%8B%E3%82%89%E3%81%AE%E5%8F%8E%E5%85%A5%E4%BA%88%E6%B8%ACipynb.ipynb\" target=\"_parent\"><img src=\"https://colab.research.google.com/assets/colab-badge.svg\" alt=\"Open In Colab\"/></a>"
      ]
    },
    {
      "cell_type": "markdown",
      "metadata": {
        "id": "lhRuEUVs0zyc"
      },
      "source": [
        "- 0\tindex\tint\tインデックスとして使用\r\n",
        "- 1\tage\tint\t年齢\r\n",
        "- 2\tworkclass\tvarchar\t職業クラス\r\n",
        "- 3\tfnlwgt\tint\tfnlwgt\r\n",
        "- 4\teducation\tvarchar\t教育\r\n",
        "- 5\teducation-num\tint\t教育年数\r\n",
        "- 6\tmarital-status\tvarchar\t配偶者の有無\r\n",
        "- 7\toccupation\tvarchar\t職業\r\n",
        "- 8\trelationship\tvarchar\t関係\r\n",
        "- 9\trace\tvarchar\t人種\r\n",
        "- 10\tsex\tvarchar\t性別\r\n",
        "- 11\tnative-country\tvarchar\t母国\r\n",
        "- 12\tY\tvarchar\t年収カテゴリ（>50K, <=50K）\r\n",
        "\r\n",
        "国勢調査から年収の予測（$50,000を超えるか否か）"
      ]
    },
    {
      "cell_type": "code",
      "metadata": {
        "colab": {
          "base_uri": "https://localhost:8080/"
        },
        "id": "Nfpc52cYyd90",
        "outputId": "82480d66-eb3a-4d5d-d84d-83ea82d718fb"
      },
      "source": [
        "from google.colab import drive\r\n",
        "drive.mount('/content/drive')"
      ],
      "execution_count": null,
      "outputs": [
        {
          "output_type": "stream",
          "text": [
            "Drive already mounted at /content/drive; to attempt to forcibly remount, call drive.mount(\"/content/drive\", force_remount=True).\n"
          ],
          "name": "stdout"
        }
      ]
    },
    {
      "cell_type": "code",
      "metadata": {
        "id": "cO8qE8lM0MO5"
      },
      "source": [
        "import pandas as pd\r\n",
        "import numpy as np\r\n",
        "import seaborn as sns\r\n",
        "import matplotlib.pyplot as plt\r\n",
        "\r\n",
        "from sklearn.ensemble import RandomForestClassifier\r\n",
        "from sklearn.metrics import confusion_matrix, accuracy_score, f1_score, roc_auc_score,precision_score,recall_score, roc_curve, classification_report,precision_recall_curve\r\n",
        "from sklearn.preprocessing import StandardScaler,RobustScaler,MinMaxScaler, Binarizer, OneHotEncoder, LabelEncoder\r\n",
        "from sklearn.model_selection import train_test_split, cross_val_score, GridSearchCV, KFold\r\n",
        "\r\n",
        "import warnings\r\n",
        "warnings.filterwarnings(action=\"ignore\")"
      ],
      "execution_count": null,
      "outputs": []
    },
    {
      "cell_type": "code",
      "metadata": {
        "id": "4QADGuHKyqd0"
      },
      "source": [
        "train       = pd.read_csv('/content/drive/MyDrive/Colab Notebooks/income/train.csv')\r\n",
        "test        = pd.read_csv('/content/drive/MyDrive/Colab Notebooks/income/test.csv')\r\n",
        "submission  = pd.read_csv('/content/drive/MyDrive/Colab Notebooks/income/sample_submit.csv')"
      ],
      "execution_count": null,
      "outputs": []
    },
    {
      "cell_type": "code",
      "metadata": {
        "colab": {
          "base_uri": "https://localhost:8080/"
        },
        "id": "k4L5e1KWzItc",
        "outputId": "eee3297a-af39-4015-fbfc-83b362fb42a2"
      },
      "source": [
        "train.info()"
      ],
      "execution_count": null,
      "outputs": [
        {
          "output_type": "stream",
          "text": [
            "<class 'pandas.core.frame.DataFrame'>\n",
            "RangeIndex: 11900 entries, 0 to 11899\n",
            "Data columns (total 13 columns):\n",
            " #   Column          Non-Null Count  Dtype \n",
            "---  ------          --------------  ----- \n",
            " 0   index           11900 non-null  int64 \n",
            " 1   age             11900 non-null  int64 \n",
            " 2   workclass       11900 non-null  object\n",
            " 3   fnlwgt          11900 non-null  int64 \n",
            " 4   education       11900 non-null  object\n",
            " 5   education-num   11900 non-null  int64 \n",
            " 6   marital-status  11900 non-null  object\n",
            " 7   occupation      11900 non-null  object\n",
            " 8   relationship    11900 non-null  object\n",
            " 9   race            11900 non-null  object\n",
            " 10  sex             11900 non-null  object\n",
            " 11  native-country  11900 non-null  object\n",
            " 12  Y               11900 non-null  int64 \n",
            "dtypes: int64(5), object(8)\n",
            "memory usage: 1.2+ MB\n"
          ],
          "name": "stdout"
        }
      ]
    },
    {
      "cell_type": "code",
      "metadata": {
        "colab": {
          "base_uri": "https://localhost:8080/",
          "height": 204
        },
        "id": "LlwXg6HQ0VUZ",
        "outputId": "3b7eae2c-6be2-441f-de0c-bbd17890101d"
      },
      "source": [
        "train.head()"
      ],
      "execution_count": null,
      "outputs": [
        {
          "output_type": "execute_result",
          "data": {
            "text/html": [
              "<div>\n",
              "<style scoped>\n",
              "    .dataframe tbody tr th:only-of-type {\n",
              "        vertical-align: middle;\n",
              "    }\n",
              "\n",
              "    .dataframe tbody tr th {\n",
              "        vertical-align: top;\n",
              "    }\n",
              "\n",
              "    .dataframe thead th {\n",
              "        text-align: right;\n",
              "    }\n",
              "</style>\n",
              "<table border=\"1\" class=\"dataframe\">\n",
              "  <thead>\n",
              "    <tr style=\"text-align: right;\">\n",
              "      <th></th>\n",
              "      <th>index</th>\n",
              "      <th>age</th>\n",
              "      <th>workclass</th>\n",
              "      <th>fnlwgt</th>\n",
              "      <th>education</th>\n",
              "      <th>education-num</th>\n",
              "      <th>marital-status</th>\n",
              "      <th>occupation</th>\n",
              "      <th>relationship</th>\n",
              "      <th>race</th>\n",
              "      <th>sex</th>\n",
              "      <th>native-country</th>\n",
              "      <th>Y</th>\n",
              "    </tr>\n",
              "  </thead>\n",
              "  <tbody>\n",
              "    <tr>\n",
              "      <th>0</th>\n",
              "      <td>322</td>\n",
              "      <td>21</td>\n",
              "      <td>Private</td>\n",
              "      <td>132652</td>\n",
              "      <td>Some-college</td>\n",
              "      <td>10</td>\n",
              "      <td>Divorced</td>\n",
              "      <td>Adm-clerical</td>\n",
              "      <td>Own-child</td>\n",
              "      <td>White</td>\n",
              "      <td>Female</td>\n",
              "      <td>United-States</td>\n",
              "      <td>0</td>\n",
              "    </tr>\n",
              "    <tr>\n",
              "      <th>1</th>\n",
              "      <td>11968</td>\n",
              "      <td>29</td>\n",
              "      <td>Private</td>\n",
              "      <td>132652</td>\n",
              "      <td>HS-grad</td>\n",
              "      <td>9</td>\n",
              "      <td>Divorced</td>\n",
              "      <td>Adm-clerical</td>\n",
              "      <td>Not-in-family</td>\n",
              "      <td>White</td>\n",
              "      <td>Female</td>\n",
              "      <td>United-States</td>\n",
              "      <td>0</td>\n",
              "    </tr>\n",
              "    <tr>\n",
              "      <th>2</th>\n",
              "      <td>10868</td>\n",
              "      <td>19</td>\n",
              "      <td>Private</td>\n",
              "      <td>132652</td>\n",
              "      <td>Bachelors</td>\n",
              "      <td>13</td>\n",
              "      <td>Never-married</td>\n",
              "      <td>Prof-specialty</td>\n",
              "      <td>Not-in-family</td>\n",
              "      <td>White</td>\n",
              "      <td>Female</td>\n",
              "      <td>United-States</td>\n",
              "      <td>0</td>\n",
              "    </tr>\n",
              "    <tr>\n",
              "      <th>3</th>\n",
              "      <td>3394</td>\n",
              "      <td>17</td>\n",
              "      <td>Private</td>\n",
              "      <td>132652</td>\n",
              "      <td>HS-grad</td>\n",
              "      <td>9</td>\n",
              "      <td>Never-married</td>\n",
              "      <td>Craft-repair</td>\n",
              "      <td>Own-child</td>\n",
              "      <td>White</td>\n",
              "      <td>Male</td>\n",
              "      <td>United-States</td>\n",
              "      <td>0</td>\n",
              "    </tr>\n",
              "    <tr>\n",
              "      <th>4</th>\n",
              "      <td>15993</td>\n",
              "      <td>47</td>\n",
              "      <td>Private</td>\n",
              "      <td>132652</td>\n",
              "      <td>Some-college</td>\n",
              "      <td>10</td>\n",
              "      <td>Married-civ-spouse</td>\n",
              "      <td>Craft-repair</td>\n",
              "      <td>Husband</td>\n",
              "      <td>White</td>\n",
              "      <td>Male</td>\n",
              "      <td>United-States</td>\n",
              "      <td>0</td>\n",
              "    </tr>\n",
              "  </tbody>\n",
              "</table>\n",
              "</div>"
            ],
            "text/plain": [
              "   index  age workclass  fnlwgt  ...   race     sex native-country  Y\n",
              "0    322   21   Private  132652  ...  White  Female  United-States  0\n",
              "1  11968   29   Private  132652  ...  White  Female  United-States  0\n",
              "2  10868   19   Private  132652  ...  White  Female  United-States  0\n",
              "3   3394   17   Private  132652  ...  White    Male  United-States  0\n",
              "4  15993   47   Private  132652  ...  White    Male  United-States  0\n",
              "\n",
              "[5 rows x 13 columns]"
            ]
          },
          "metadata": {
            "tags": []
          },
          "execution_count": 5
        }
      ]
    },
    {
      "cell_type": "code",
      "metadata": {
        "colab": {
          "base_uri": "https://localhost:8080/"
        },
        "id": "dEAkZ5tO0Y3B",
        "outputId": "43da14e6-7b70-4c53-93a0-339381d45911"
      },
      "source": [
        "test.info()"
      ],
      "execution_count": null,
      "outputs": [
        {
          "output_type": "stream",
          "text": [
            "<class 'pandas.core.frame.DataFrame'>\n",
            "RangeIndex: 5100 entries, 0 to 5099\n",
            "Data columns (total 12 columns):\n",
            " #   Column          Non-Null Count  Dtype \n",
            "---  ------          --------------  ----- \n",
            " 0   index           5100 non-null   int64 \n",
            " 1   age             5100 non-null   int64 \n",
            " 2   workclass       5100 non-null   object\n",
            " 3   fnlwgt          5100 non-null   int64 \n",
            " 4   education       5100 non-null   object\n",
            " 5   education-num   5100 non-null   int64 \n",
            " 6   marital-status  5100 non-null   object\n",
            " 7   occupation      5100 non-null   object\n",
            " 8   relationship    5100 non-null   object\n",
            " 9   race            5100 non-null   object\n",
            " 10  sex             5100 non-null   object\n",
            " 11  native-country  5100 non-null   object\n",
            "dtypes: int64(4), object(8)\n",
            "memory usage: 478.2+ KB\n"
          ],
          "name": "stdout"
        }
      ]
    },
    {
      "cell_type": "code",
      "metadata": {
        "colab": {
          "base_uri": "https://localhost:8080/",
          "height": 204
        },
        "id": "60khTJ_w0c2j",
        "outputId": "7501c706-2cd4-487b-8cf8-cf71d16b0ec3"
      },
      "source": [
        "test.head()"
      ],
      "execution_count": null,
      "outputs": [
        {
          "output_type": "execute_result",
          "data": {
            "text/html": [
              "<div>\n",
              "<style scoped>\n",
              "    .dataframe tbody tr th:only-of-type {\n",
              "        vertical-align: middle;\n",
              "    }\n",
              "\n",
              "    .dataframe tbody tr th {\n",
              "        vertical-align: top;\n",
              "    }\n",
              "\n",
              "    .dataframe thead th {\n",
              "        text-align: right;\n",
              "    }\n",
              "</style>\n",
              "<table border=\"1\" class=\"dataframe\">\n",
              "  <thead>\n",
              "    <tr style=\"text-align: right;\">\n",
              "      <th></th>\n",
              "      <th>index</th>\n",
              "      <th>age</th>\n",
              "      <th>workclass</th>\n",
              "      <th>fnlwgt</th>\n",
              "      <th>education</th>\n",
              "      <th>education-num</th>\n",
              "      <th>marital-status</th>\n",
              "      <th>occupation</th>\n",
              "      <th>relationship</th>\n",
              "      <th>race</th>\n",
              "      <th>sex</th>\n",
              "      <th>native-country</th>\n",
              "    </tr>\n",
              "  </thead>\n",
              "  <tbody>\n",
              "    <tr>\n",
              "      <th>0</th>\n",
              "      <td>3873</td>\n",
              "      <td>17</td>\n",
              "      <td>Local-gov</td>\n",
              "      <td>132652</td>\n",
              "      <td>Masters</td>\n",
              "      <td>14</td>\n",
              "      <td>Married-civ-spouse</td>\n",
              "      <td>Prof-specialty</td>\n",
              "      <td>Husband</td>\n",
              "      <td>White</td>\n",
              "      <td>Male</td>\n",
              "      <td>United-States</td>\n",
              "    </tr>\n",
              "    <tr>\n",
              "      <th>1</th>\n",
              "      <td>3625</td>\n",
              "      <td>23</td>\n",
              "      <td>Private</td>\n",
              "      <td>132652</td>\n",
              "      <td>Some-college</td>\n",
              "      <td>10</td>\n",
              "      <td>Married-civ-spouse</td>\n",
              "      <td>Sales</td>\n",
              "      <td>Husband</td>\n",
              "      <td>White</td>\n",
              "      <td>Male</td>\n",
              "      <td>United-States</td>\n",
              "    </tr>\n",
              "    <tr>\n",
              "      <th>2</th>\n",
              "      <td>3028</td>\n",
              "      <td>19</td>\n",
              "      <td>Private</td>\n",
              "      <td>132652</td>\n",
              "      <td>11th</td>\n",
              "      <td>7</td>\n",
              "      <td>Never-married</td>\n",
              "      <td>Handlers-cleaners</td>\n",
              "      <td>Own-child</td>\n",
              "      <td>White</td>\n",
              "      <td>Female</td>\n",
              "      <td>United-States</td>\n",
              "    </tr>\n",
              "    <tr>\n",
              "      <th>3</th>\n",
              "      <td>13814</td>\n",
              "      <td>30</td>\n",
              "      <td>State-gov</td>\n",
              "      <td>132652</td>\n",
              "      <td>HS-grad</td>\n",
              "      <td>9</td>\n",
              "      <td>Never-married</td>\n",
              "      <td>Protective-serv</td>\n",
              "      <td>Unmarried</td>\n",
              "      <td>Black</td>\n",
              "      <td>Female</td>\n",
              "      <td>United-States</td>\n",
              "    </tr>\n",
              "    <tr>\n",
              "      <th>4</th>\n",
              "      <td>15398</td>\n",
              "      <td>60</td>\n",
              "      <td>Private</td>\n",
              "      <td>132652</td>\n",
              "      <td>Bachelors</td>\n",
              "      <td>13</td>\n",
              "      <td>Married-civ-spouse</td>\n",
              "      <td>Prof-specialty</td>\n",
              "      <td>Husband</td>\n",
              "      <td>White</td>\n",
              "      <td>Male</td>\n",
              "      <td>United-States</td>\n",
              "    </tr>\n",
              "  </tbody>\n",
              "</table>\n",
              "</div>"
            ],
            "text/plain": [
              "   index  age  workclass  fnlwgt  ... relationship   race     sex native-country\n",
              "0   3873   17  Local-gov  132652  ...      Husband  White    Male  United-States\n",
              "1   3625   23    Private  132652  ...      Husband  White    Male  United-States\n",
              "2   3028   19    Private  132652  ...    Own-child  White  Female  United-States\n",
              "3  13814   30  State-gov  132652  ...    Unmarried  Black  Female  United-States\n",
              "4  15398   60    Private  132652  ...      Husband  White    Male  United-States\n",
              "\n",
              "[5 rows x 12 columns]"
            ]
          },
          "metadata": {
            "tags": []
          },
          "execution_count": 7
        }
      ]
    },
    {
      "cell_type": "code",
      "metadata": {
        "colab": {
          "base_uri": "https://localhost:8080/"
        },
        "id": "8lEQGni30euW",
        "outputId": "f4d65658-98b0-488f-e625-f630c8b3fa10"
      },
      "source": [
        "df = train.append(test)\r\n",
        "df.info()\r\n",
        "#workclass, education, marital-status, occupation, relationship, race, sex, native-country->수치화\r\n",
        "#age, education-num -> 범주화"
      ],
      "execution_count": null,
      "outputs": [
        {
          "output_type": "stream",
          "text": [
            "<class 'pandas.core.frame.DataFrame'>\n",
            "Int64Index: 17000 entries, 0 to 5099\n",
            "Data columns (total 13 columns):\n",
            " #   Column          Non-Null Count  Dtype  \n",
            "---  ------          --------------  -----  \n",
            " 0   index           17000 non-null  int64  \n",
            " 1   age             17000 non-null  int64  \n",
            " 2   workclass       17000 non-null  object \n",
            " 3   fnlwgt          17000 non-null  int64  \n",
            " 4   education       17000 non-null  object \n",
            " 5   education-num   17000 non-null  int64  \n",
            " 6   marital-status  17000 non-null  object \n",
            " 7   occupation      17000 non-null  object \n",
            " 8   relationship    17000 non-null  object \n",
            " 9   race            17000 non-null  object \n",
            " 10  sex             17000 non-null  object \n",
            " 11  native-country  17000 non-null  object \n",
            " 12  Y               11900 non-null  float64\n",
            "dtypes: float64(1), int64(4), object(8)\n",
            "memory usage: 1.8+ MB\n"
          ],
          "name": "stdout"
        }
      ]
    },
    {
      "cell_type": "code",
      "metadata": {
        "colab": {
          "base_uri": "https://localhost:8080/",
          "height": 297
        },
        "id": "QSusfSqo_Z40",
        "outputId": "f3b80cc0-a4e3-4767-adeb-e93721429b8e"
      },
      "source": [
        "df.describe()"
      ],
      "execution_count": null,
      "outputs": [
        {
          "output_type": "execute_result",
          "data": {
            "text/html": [
              "<div>\n",
              "<style scoped>\n",
              "    .dataframe tbody tr th:only-of-type {\n",
              "        vertical-align: middle;\n",
              "    }\n",
              "\n",
              "    .dataframe tbody tr th {\n",
              "        vertical-align: top;\n",
              "    }\n",
              "\n",
              "    .dataframe thead th {\n",
              "        text-align: right;\n",
              "    }\n",
              "</style>\n",
              "<table border=\"1\" class=\"dataframe\">\n",
              "  <thead>\n",
              "    <tr style=\"text-align: right;\">\n",
              "      <th></th>\n",
              "      <th>index</th>\n",
              "      <th>age</th>\n",
              "      <th>fnlwgt</th>\n",
              "      <th>education-num</th>\n",
              "      <th>Y</th>\n",
              "    </tr>\n",
              "  </thead>\n",
              "  <tbody>\n",
              "    <tr>\n",
              "      <th>count</th>\n",
              "      <td>17000.000000</td>\n",
              "      <td>17000.000000</td>\n",
              "      <td>17000.000000</td>\n",
              "      <td>17000.000000</td>\n",
              "      <td>11900.000000</td>\n",
              "    </tr>\n",
              "    <tr>\n",
              "      <th>mean</th>\n",
              "      <td>8499.500000</td>\n",
              "      <td>27.942529</td>\n",
              "      <td>130818.123176</td>\n",
              "      <td>10.391824</td>\n",
              "      <td>0.256134</td>\n",
              "    </tr>\n",
              "    <tr>\n",
              "      <th>std</th>\n",
              "      <td>4907.621624</td>\n",
              "      <td>9.504758</td>\n",
              "      <td>13811.388554</td>\n",
              "      <td>2.220970</td>\n",
              "      <td>0.436515</td>\n",
              "    </tr>\n",
              "    <tr>\n",
              "      <th>min</th>\n",
              "      <td>0.000000</td>\n",
              "      <td>17.000000</td>\n",
              "      <td>24694.000000</td>\n",
              "      <td>3.000000</td>\n",
              "      <td>0.000000</td>\n",
              "    </tr>\n",
              "    <tr>\n",
              "      <th>25%</th>\n",
              "      <td>4249.750000</td>\n",
              "      <td>21.000000</td>\n",
              "      <td>132652.000000</td>\n",
              "      <td>9.000000</td>\n",
              "      <td>0.000000</td>\n",
              "    </tr>\n",
              "    <tr>\n",
              "      <th>50%</th>\n",
              "      <td>8499.500000</td>\n",
              "      <td>24.000000</td>\n",
              "      <td>132652.000000</td>\n",
              "      <td>10.000000</td>\n",
              "      <td>0.000000</td>\n",
              "    </tr>\n",
              "    <tr>\n",
              "      <th>75%</th>\n",
              "      <td>12749.250000</td>\n",
              "      <td>34.000000</td>\n",
              "      <td>132652.000000</td>\n",
              "      <td>13.000000</td>\n",
              "      <td>1.000000</td>\n",
              "    </tr>\n",
              "    <tr>\n",
              "      <th>max</th>\n",
              "      <td>16999.000000</td>\n",
              "      <td>64.000000</td>\n",
              "      <td>132652.000000</td>\n",
              "      <td>16.000000</td>\n",
              "      <td>1.000000</td>\n",
              "    </tr>\n",
              "  </tbody>\n",
              "</table>\n",
              "</div>"
            ],
            "text/plain": [
              "              index           age         fnlwgt  education-num             Y\n",
              "count  17000.000000  17000.000000   17000.000000   17000.000000  11900.000000\n",
              "mean    8499.500000     27.942529  130818.123176      10.391824      0.256134\n",
              "std     4907.621624      9.504758   13811.388554       2.220970      0.436515\n",
              "min        0.000000     17.000000   24694.000000       3.000000      0.000000\n",
              "25%     4249.750000     21.000000  132652.000000       9.000000      0.000000\n",
              "50%     8499.500000     24.000000  132652.000000      10.000000      0.000000\n",
              "75%    12749.250000     34.000000  132652.000000      13.000000      1.000000\n",
              "max    16999.000000     64.000000  132652.000000      16.000000      1.000000"
            ]
          },
          "metadata": {
            "tags": []
          },
          "execution_count": 9
        }
      ]
    },
    {
      "cell_type": "code",
      "metadata": {
        "colab": {
          "base_uri": "https://localhost:8080/"
        },
        "id": "NZ46XGEnLemX",
        "outputId": "a1e14fe3-9b00-486e-b5a2-fdff6ad619d3"
      },
      "source": [
        "#결측치 확인\r\n",
        "df.isnull().sum()"
      ],
      "execution_count": null,
      "outputs": [
        {
          "output_type": "execute_result",
          "data": {
            "text/plain": [
              "index                0\n",
              "age                  0\n",
              "workclass            0\n",
              "fnlwgt               0\n",
              "education            0\n",
              "education-num        0\n",
              "marital-status       0\n",
              "occupation           0\n",
              "relationship         0\n",
              "race                 0\n",
              "sex                  0\n",
              "native-country       0\n",
              "Y                 5100\n",
              "dtype: int64"
            ]
          },
          "metadata": {
            "tags": []
          },
          "execution_count": 10
        }
      ]
    },
    {
      "cell_type": "code",
      "metadata": {
        "colab": {
          "base_uri": "https://localhost:8080/"
        },
        "id": "ueZtb3xQLi5e",
        "outputId": "c75721d1-98e3-4d2f-ea18-eac8062c64a0"
      },
      "source": [
        "#이상치 확인\r\n",
        "def CHECK_OUTLIER(df=None, column=None):\r\n",
        "    # target 값과 상관관계가 높은 열을 우선적으로 진행\r\n",
        "    Q1 = np.percentile(df[column].values, 25)\r\n",
        "    Q3 = np.percentile(df[column].values, 75)\r\n",
        "    IQR = Q3 - Q1\r\n",
        "    IQR_weight = IQR * 1.5\r\n",
        "    minimum = Q1 - IQR_weight\r\n",
        "    maximum = Q3 + IQR_weight\r\n",
        "    outlier_idx = df[column][  (df[column]<minimum) | (df[column]>maximum)  ].index\r\n",
        "    return outlier_idx\r\n",
        "\r\n",
        "numeric_columns = df.dtypes[df.dtypes!='object'].index #object를 뺀 컬럼만 돌려야함\r\n",
        "#columns = df.columns #[....]\r\n",
        "for i, col in enumerate(numeric_columns) :\r\n",
        "    outlier_idx = CHECK_OUTLIER(df=df, column=col)\r\n",
        "    print(col, outlier_idx)"
      ],
      "execution_count": null,
      "outputs": [
        {
          "output_type": "stream",
          "text": [
            "index Int64Index([], dtype='int64')\n",
            "age Int64Index([  22,   71,  549,  612,  688,  759,  802,  833,  968, 1223,\n",
            "            ...\n",
            "            3668, 3798, 3937, 4001, 4049, 4163, 4513, 4674, 4749, 4863],\n",
            "           dtype='int64', length=136)\n",
            "fnlwgt Int64Index([  18,  271,  297,  369,  386,  414,  444,  447,  508,  577,\n",
            "            ...\n",
            "            4603, 4647, 4746, 4892, 4910, 4922, 4976, 4985, 5048, 5077],\n",
            "           dtype='int64', length=295)\n",
            "education-num Int64Index([], dtype='int64')\n",
            "Y Int64Index([], dtype='int64')\n"
          ],
          "name": "stdout"
        }
      ]
    },
    {
      "cell_type": "code",
      "metadata": {
        "colab": {
          "base_uri": "https://localhost:8080/",
          "height": 283
        },
        "id": "4HCJB1wkL_Q8",
        "outputId": "52322bff-02e3-407f-ddcc-2c029d70a338"
      },
      "source": [
        "sns.boxplot(data=df) #fnlwgt 삭제?"
      ],
      "execution_count": null,
      "outputs": [
        {
          "output_type": "execute_result",
          "data": {
            "text/plain": [
              "<matplotlib.axes._subplots.AxesSubplot at 0x7f62d930ee80>"
            ]
          },
          "metadata": {
            "tags": []
          },
          "execution_count": 12
        },
        {
          "output_type": "display_data",
          "data": {
            "image/png": "[encoded data removed]",
            "text/plain": [
              "<Figure size 432x288 with 1 Axes>"
            ]
          },
          "metadata": {
            "tags": [],
            "needs_background": "light"
          }
        }
      ]
    },
    {
      "cell_type": "code",
      "metadata": {
        "id": "21KQrL5V1awn"
      },
      "source": [
        "# df.age.unique()\r\n",
        "# df.age.value_counts()"
      ],
      "execution_count": null,
      "outputs": []
    },
    {
      "cell_type": "code",
      "metadata": {
        "colab": {
          "base_uri": "https://localhost:8080/",
          "height": 406
        },
        "id": "_1nbBPYS2J4_",
        "outputId": "d3157683-9402-47b9-c1f0-ae0a59787945"
      },
      "source": [
        "plt.figure(figsize=(12,6))\r\n",
        "sns.countplot(x='age', data=df) #구간화 하기  -> 17-19/ 20-22/ 23-25/ 26-30/ 31-35/ 36-40/ 41-49/ 50-64?"
      ],
      "execution_count": null,
      "outputs": [
        {
          "output_type": "execute_result",
          "data": {
            "text/plain": [
              "<matplotlib.axes._subplots.AxesSubplot at 0x7f62d930e160>"
            ]
          },
          "metadata": {
            "tags": []
          },
          "execution_count": 14
        },
        {
          "output_type": "display_data",
          "data": {
            "image/png": "[encoded data removed]",
            "text/plain": [
              "<Figure size 864x432 with 1 Axes>"
            ]
          },
          "metadata": {
            "tags": [],
            "needs_background": "light"
          }
        }
      ]
    },
    {
      "cell_type": "code",
      "metadata": {
        "colab": {
          "base_uri": "https://localhost:8080/",
          "height": 406
        },
        "id": "L9I_eYNt2WDm",
        "outputId": "7465313f-57c4-4232-ec19-10f9234ab459"
      },
      "source": [
        "plt.figure(figsize=(12,6))\r\n",
        "sns.countplot(x='education-num', data=df)"
      ],
      "execution_count": null,
      "outputs": [
        {
          "output_type": "execute_result",
          "data": {
            "text/plain": [
              "<matplotlib.axes._subplots.AxesSubplot at 0x7f62d82d45f8>"
            ]
          },
          "metadata": {
            "tags": []
          },
          "execution_count": 15
        },
        {
          "output_type": "display_data",
          "data": {
            "image/png": "[encoded data removed]",
            "text/plain": [
              "<Figure size 864x432 with 1 Axes>"
            ]
          },
          "metadata": {
            "tags": [],
            "needs_background": "light"
          }
        }
      ]
    },
    {
      "cell_type": "code",
      "metadata": {
        "colab": {
          "base_uri": "https://localhost:8080/",
          "height": 297
        },
        "id": "JHrxkh6p6fbW",
        "outputId": "64e42895-218d-44b6-a6ac-4c1517ce6299"
      },
      "source": [
        "sns.countplot(x='sex', data=df, palette='Set3')"
      ],
      "execution_count": null,
      "outputs": [
        {
          "output_type": "execute_result",
          "data": {
            "text/plain": [
              "<matplotlib.axes._subplots.AxesSubplot at 0x7f62d81707f0>"
            ]
          },
          "metadata": {
            "tags": []
          },
          "execution_count": 16
        },
        {
          "output_type": "display_data",
          "data": {
            "image/png": "[encoded data removed]",
            "text/plain": [
              "<Figure size 432x288 with 1 Axes>"
            ]
          },
          "metadata": {
            "tags": [],
            "needs_background": "light"
          }
        }
      ]
    },
    {
      "cell_type": "code",
      "metadata": {
        "colab": {
          "base_uri": "https://localhost:8080/",
          "height": 297
        },
        "id": "1gqiGlp36zsi",
        "outputId": "beb167eb-afab-4a15-b943-802ee5802be4"
      },
      "source": [
        "sns.countplot(x='race', data=df, palette='pastel') "
      ],
      "execution_count": null,
      "outputs": [
        {
          "output_type": "execute_result",
          "data": {
            "text/plain": [
              "<matplotlib.axes._subplots.AxesSubplot at 0x7f62d80c32e8>"
            ]
          },
          "metadata": {
            "tags": []
          },
          "execution_count": 17
        },
        {
          "output_type": "display_data",
          "data": {
            "image/png": "[encoded data removed]",
            "text/plain": [
              "<Figure size 432x288 with 1 Axes>"
            ]
          },
          "metadata": {
            "tags": [],
            "needs_background": "light"
          }
        }
      ]
    },
    {
      "cell_type": "code",
      "metadata": {
        "colab": {
          "base_uri": "https://localhost:8080/",
          "height": 297
        },
        "id": "6VhYrrvO7L1G",
        "outputId": "11262e57-f408-428e-a8ee-2dec99b27602"
      },
      "source": [
        "sns.countplot(x='native-country', data=df, palette='pastel') "
      ],
      "execution_count": null,
      "outputs": [
        {
          "output_type": "execute_result",
          "data": {
            "text/plain": [
              "<matplotlib.axes._subplots.AxesSubplot at 0x7f62d81cc710>"
            ]
          },
          "metadata": {
            "tags": []
          },
          "execution_count": 18
        },
        {
          "output_type": "display_data",
          "data": {
            "image/png": "[encoded data removed]",
            "text/plain": [
              "<Figure size 432x288 with 1 Axes>"
            ]
          },
          "metadata": {
            "tags": [],
            "needs_background": "light"
          }
        }
      ]
    },
    {
      "cell_type": "code",
      "metadata": {
        "colab": {
          "base_uri": "https://localhost:8080/"
        },
        "id": "uzM1l8qD4iqy",
        "outputId": "ce8f0136-0bd2-4846-87f3-a0134a8fec4b"
      },
      "source": [
        "df['workclass'].value_counts() #onehot"
      ],
      "execution_count": null,
      "outputs": [
        {
          "output_type": "execute_result",
          "data": {
            "text/plain": [
              "Private             13239\n",
              "Self-emp-not-inc     1183\n",
              "Local-gov             837\n",
              "?                     740\n",
              "State-gov             426\n",
              "Self-emp-inc          336\n",
              "Federal-gov           239\n",
              "Name: workclass, dtype: int64"
            ]
          },
          "metadata": {
            "tags": []
          },
          "execution_count": 19
        }
      ]
    },
    {
      "cell_type": "code",
      "metadata": {
        "colab": {
          "base_uri": "https://localhost:8080/"
        },
        "id": "kdUzQfu_4wB1",
        "outputId": "4cd10733-af28-4c3b-e14c-87725720256c"
      },
      "source": [
        "df['occupation'].value_counts() #직업 -> onehot"
      ],
      "execution_count": null,
      "outputs": [
        {
          "output_type": "execute_result",
          "data": {
            "text/plain": [
              "Adm-clerical         2422\n",
              "Craft-repair         2332\n",
              "Sales                2226\n",
              "Prof-specialty       2174\n",
              "Exec-managerial      2139\n",
              "Other-service        1322\n",
              "Machine-op-inspct     917\n",
              "?                     860\n",
              "Handlers-cleaners     854\n",
              "Tech-support          597\n",
              "Farming-fishing       458\n",
              "Transport-moving      401\n",
              "Protective-serv       298\n",
              "Name: occupation, dtype: int64"
            ]
          },
          "metadata": {
            "tags": []
          },
          "execution_count": 20
        }
      ]
    },
    {
      "cell_type": "code",
      "metadata": {
        "colab": {
          "base_uri": "https://localhost:8080/"
        },
        "id": "Lt_R2_iDFPwK",
        "outputId": "9233988f-71e8-40e9-e778-2f9d7ce4b5d2"
      },
      "source": [
        "df['education'].value_counts() #교육 ->onehot"
      ],
      "execution_count": null,
      "outputs": [
        {
          "output_type": "execute_result",
          "data": {
            "text/plain": [
              "HS-grad         5681\n",
              "Some-college    4024\n",
              "Bachelors       3195\n",
              "Masters         1147\n",
              "Assoc-voc        928\n",
              "Assoc-acdm       452\n",
              "11th             441\n",
              "Prof-school      361\n",
              "10th             254\n",
              "7th-8th          175\n",
              "9th              161\n",
              "12th             101\n",
              "5th-6th           79\n",
              "1st-4th            1\n",
              "Name: education, dtype: int64"
            ]
          },
          "metadata": {
            "tags": []
          },
          "execution_count": 21
        }
      ]
    },
    {
      "cell_type": "code",
      "metadata": {
        "id": "WuGeZyWdDbEC"
      },
      "source": [
        "#OneHotEncoding\r\n",
        "df = pd.get_dummies(data=df, columns=['workclass'], prefix = 'work')\r\n",
        "df = pd.get_dummies(data=df, columns=['occupation'], prefix = 'occu')\r\n",
        "df = pd.get_dummies(data=df, columns=['education'], prefix = 'edu')"
      ],
      "execution_count": null,
      "outputs": []
    },
    {
      "cell_type": "code",
      "metadata": {
        "id": "qj7HjyAENLMW"
      },
      "source": [
        "#OneHotEncoding\r\n",
        "df = pd.get_dummies(data=df, columns=['marital-status'], prefix = 'marry')\r\n",
        "df = pd.get_dummies(data=df, columns=['relationship'], prefix = 'rela')"
      ],
      "execution_count": null,
      "outputs": []
    },
    {
      "cell_type": "code",
      "metadata": {
        "colab": {
          "base_uri": "https://localhost:8080/"
        },
        "id": "K8LBzS1TE9rv",
        "outputId": "5f3ad707-f67f-4698-fa58-d01d39780a8f"
      },
      "source": [
        "df.info()"
      ],
      "execution_count": null,
      "outputs": [
        {
          "output_type": "stream",
          "text": [
            "<class 'pandas.core.frame.DataFrame'>\n",
            "Int64Index: 17000 entries, 0 to 5099\n",
            "Data columns (total 53 columns):\n",
            " #   Column                    Non-Null Count  Dtype  \n",
            "---  ------                    --------------  -----  \n",
            " 0   index                     17000 non-null  int64  \n",
            " 1   age                       17000 non-null  int64  \n",
            " 2   fnlwgt                    17000 non-null  int64  \n",
            " 3   education-num             17000 non-null  int64  \n",
            " 4   race                      17000 non-null  object \n",
            " 5   sex                       17000 non-null  object \n",
            " 6   native-country            17000 non-null  object \n",
            " 7   Y                         11900 non-null  float64\n",
            " 8   work_?                    17000 non-null  uint8  \n",
            " 9   work_Federal-gov          17000 non-null  uint8  \n",
            " 10  work_Local-gov            17000 non-null  uint8  \n",
            " 11  work_Private              17000 non-null  uint8  \n",
            " 12  work_Self-emp-inc         17000 non-null  uint8  \n",
            " 13  work_Self-emp-not-inc     17000 non-null  uint8  \n",
            " 14  work_State-gov            17000 non-null  uint8  \n",
            " 15  occu_?                    17000 non-null  uint8  \n",
            " 16  occu_Adm-clerical         17000 non-null  uint8  \n",
            " 17  occu_Craft-repair         17000 non-null  uint8  \n",
            " 18  occu_Exec-managerial      17000 non-null  uint8  \n",
            " 19  occu_Farming-fishing      17000 non-null  uint8  \n",
            " 20  occu_Handlers-cleaners    17000 non-null  uint8  \n",
            " 21  occu_Machine-op-inspct    17000 non-null  uint8  \n",
            " 22  occu_Other-service        17000 non-null  uint8  \n",
            " 23  occu_Prof-specialty       17000 non-null  uint8  \n",
            " 24  occu_Protective-serv      17000 non-null  uint8  \n",
            " 25  occu_Sales                17000 non-null  uint8  \n",
            " 26  occu_Tech-support         17000 non-null  uint8  \n",
            " 27  occu_Transport-moving     17000 non-null  uint8  \n",
            " 28  edu_10th                  17000 non-null  uint8  \n",
            " 29  edu_11th                  17000 non-null  uint8  \n",
            " 30  edu_12th                  17000 non-null  uint8  \n",
            " 31  edu_1st-4th               17000 non-null  uint8  \n",
            " 32  edu_5th-6th               17000 non-null  uint8  \n",
            " 33  edu_7th-8th               17000 non-null  uint8  \n",
            " 34  edu_9th                   17000 non-null  uint8  \n",
            " 35  edu_Assoc-acdm            17000 non-null  uint8  \n",
            " 36  edu_Assoc-voc             17000 non-null  uint8  \n",
            " 37  edu_Bachelors             17000 non-null  uint8  \n",
            " 38  edu_HS-grad               17000 non-null  uint8  \n",
            " 39  edu_Masters               17000 non-null  uint8  \n",
            " 40  edu_Prof-school           17000 non-null  uint8  \n",
            " 41  edu_Some-college          17000 non-null  uint8  \n",
            " 42  marry_Divorced            17000 non-null  uint8  \n",
            " 43  marry_Married-civ-spouse  17000 non-null  uint8  \n",
            " 44  marry_Never-married       17000 non-null  uint8  \n",
            " 45  marry_Separated           17000 non-null  uint8  \n",
            " 46  marry_Widowed             17000 non-null  uint8  \n",
            " 47  rela_Husband              17000 non-null  uint8  \n",
            " 48  rela_Not-in-family        17000 non-null  uint8  \n",
            " 49  rela_Other-relative       17000 non-null  uint8  \n",
            " 50  rela_Own-child            17000 non-null  uint8  \n",
            " 51  rela_Unmarried            17000 non-null  uint8  \n",
            " 52  rela_Wife                 17000 non-null  uint8  \n",
            "dtypes: float64(1), int64(4), object(3), uint8(45)\n",
            "memory usage: 2.5+ MB\n"
          ],
          "name": "stdout"
        }
      ]
    },
    {
      "cell_type": "code",
      "metadata": {
        "id": "3XiSPMtP58mB"
      },
      "source": [
        "# df['marital-status'].value_counts() "
      ],
      "execution_count": null,
      "outputs": []
    },
    {
      "cell_type": "code",
      "metadata": {
        "id": "6wAsAJNg6MxR"
      },
      "source": [
        "# df['relationship'].value_counts() #marital-status랑 병합 가능할듯?"
      ],
      "execution_count": null,
      "outputs": []
    },
    {
      "cell_type": "code",
      "metadata": {
        "id": "di5Fhcsq7TEH"
      },
      "source": [
        "df['sex_cate'] = df['sex'].apply(lambda x: 0 if x == \"Female\" else 1) #여자면 0 남자면 1\r\n",
        "df['race_cate'] = df['race'].apply(lambda x:0 if x == \"White\" else 1 if x == \"Black\" else 2) #0:백인, 1:흑인, 2:아시아계\r\n",
        "df['native'] = df['native-country'].apply(lambda x:0 if x == \"United-States\" else 1 if x == \"Mexico\" else 2) #0:미국 1:멕시코 2:필리핀\r\n",
        "\r\n",
        "\r\n",
        "df['age_cate'] = df['age'].apply(lambda x:0 if x <= 19 else 1 if x <= 22 else 2 if x <= 25 else 3 if x <= 30 else 4 if x <= 35 else 5 if x <= 40 else 6) #0:17-19/ 1:20-22/ 2:23-25/ 3:26-30/ 4:31-35/ 5:36-40/ 6:41-64\r\n"
      ],
      "execution_count": null,
      "outputs": []
    },
    {
      "cell_type": "code",
      "metadata": {
        "id": "qqjaKI04__IS"
      },
      "source": [
        "del_col = df[['sex', 'race', 'native-country', 'age', 'fnlwgt']] #나중에 drop시킬 컬럼"
      ],
      "execution_count": null,
      "outputs": []
    },
    {
      "cell_type": "code",
      "metadata": {
        "id": "X63qrhnoDBdf"
      },
      "source": [
        "df = df.drop(del_col, axis=1)"
      ],
      "execution_count": null,
      "outputs": []
    },
    {
      "cell_type": "code",
      "metadata": {
        "id": "u77OA4Pb1EQw",
        "colab": {
          "base_uri": "https://localhost:8080/"
        },
        "outputId": "a016b192-5b7e-42e1-886b-161c018b146d"
      },
      "source": [
        "X = df.drop('Y', axis=1) \r\n",
        "y = df['Y'] #target\r\n",
        "print(X.shape, y.shape)"
      ],
      "execution_count": null,
      "outputs": [
        {
          "output_type": "stream",
          "text": [
            "(17000, 51) (17000,)\n"
          ],
          "name": "stdout"
        }
      ]
    },
    {
      "cell_type": "code",
      "metadata": {
        "colab": {
          "base_uri": "https://localhost:8080/"
        },
        "id": "Ap2wpqA0Nijh",
        "outputId": "62cf2e5d-e30b-4f54-8e5f-a3030e1a3866"
      },
      "source": [
        "df.info()"
      ],
      "execution_count": null,
      "outputs": [
        {
          "output_type": "stream",
          "text": [
            "<class 'pandas.core.frame.DataFrame'>\n",
            "Int64Index: 17000 entries, 0 to 5099\n",
            "Data columns (total 52 columns):\n",
            " #   Column                    Non-Null Count  Dtype  \n",
            "---  ------                    --------------  -----  \n",
            " 0   index                     17000 non-null  int64  \n",
            " 1   education-num             17000 non-null  int64  \n",
            " 2   Y                         11900 non-null  float64\n",
            " 3   work_?                    17000 non-null  uint8  \n",
            " 4   work_Federal-gov          17000 non-null  uint8  \n",
            " 5   work_Local-gov            17000 non-null  uint8  \n",
            " 6   work_Private              17000 non-null  uint8  \n",
            " 7   work_Self-emp-inc         17000 non-null  uint8  \n",
            " 8   work_Self-emp-not-inc     17000 non-null  uint8  \n",
            " 9   work_State-gov            17000 non-null  uint8  \n",
            " 10  occu_?                    17000 non-null  uint8  \n",
            " 11  occu_Adm-clerical         17000 non-null  uint8  \n",
            " 12  occu_Craft-repair         17000 non-null  uint8  \n",
            " 13  occu_Exec-managerial      17000 non-null  uint8  \n",
            " 14  occu_Farming-fishing      17000 non-null  uint8  \n",
            " 15  occu_Handlers-cleaners    17000 non-null  uint8  \n",
            " 16  occu_Machine-op-inspct    17000 non-null  uint8  \n",
            " 17  occu_Other-service        17000 non-null  uint8  \n",
            " 18  occu_Prof-specialty       17000 non-null  uint8  \n",
            " 19  occu_Protective-serv      17000 non-null  uint8  \n",
            " 20  occu_Sales                17000 non-null  uint8  \n",
            " 21  occu_Tech-support         17000 non-null  uint8  \n",
            " 22  occu_Transport-moving     17000 non-null  uint8  \n",
            " 23  edu_10th                  17000 non-null  uint8  \n",
            " 24  edu_11th                  17000 non-null  uint8  \n",
            " 25  edu_12th                  17000 non-null  uint8  \n",
            " 26  edu_1st-4th               17000 non-null  uint8  \n",
            " 27  edu_5th-6th               17000 non-null  uint8  \n",
            " 28  edu_7th-8th               17000 non-null  uint8  \n",
            " 29  edu_9th                   17000 non-null  uint8  \n",
            " 30  edu_Assoc-acdm            17000 non-null  uint8  \n",
            " 31  edu_Assoc-voc             17000 non-null  uint8  \n",
            " 32  edu_Bachelors             17000 non-null  uint8  \n",
            " 33  edu_HS-grad               17000 non-null  uint8  \n",
            " 34  edu_Masters               17000 non-null  uint8  \n",
            " 35  edu_Prof-school           17000 non-null  uint8  \n",
            " 36  edu_Some-college          17000 non-null  uint8  \n",
            " 37  marry_Divorced            17000 non-null  uint8  \n",
            " 38  marry_Married-civ-spouse  17000 non-null  uint8  \n",
            " 39  marry_Never-married       17000 non-null  uint8  \n",
            " 40  marry_Separated           17000 non-null  uint8  \n",
            " 41  marry_Widowed             17000 non-null  uint8  \n",
            " 42  rela_Husband              17000 non-null  uint8  \n",
            " 43  rela_Not-in-family        17000 non-null  uint8  \n",
            " 44  rela_Other-relative       17000 non-null  uint8  \n",
            " 45  rela_Own-child            17000 non-null  uint8  \n",
            " 46  rela_Unmarried            17000 non-null  uint8  \n",
            " 47  rela_Wife                 17000 non-null  uint8  \n",
            " 48  sex_cate                  17000 non-null  int64  \n",
            " 49  race_cate                 17000 non-null  int64  \n",
            " 50  native                    17000 non-null  int64  \n",
            " 51  age_cate                  17000 non-null  int64  \n",
            "dtypes: float64(1), int64(6), uint8(45)\n",
            "memory usage: 2.4 MB\n"
          ],
          "name": "stdout"
        }
      ]
    },
    {
      "cell_type": "code",
      "metadata": {
        "id": "ky3GF1legNuh"
      },
      "source": [
        "train_df = df.iloc[:11900,:]\r\n",
        "test_df = df.iloc[11900:,:]"
      ],
      "execution_count": null,
      "outputs": []
    },
    {
      "cell_type": "code",
      "metadata": {
        "id": "RBIlB9KzOgol"
      },
      "source": [
        "train_df = df[df['index'] <= 11900].copy() #문제+답안\r\n",
        "test_df = df[df['index'] > 11900] #답안만 가지고 있음\r\n",
        "# /iloc으로 자르면  y_test 결측치를 람다식에서 NaN을 0으로 채워버리게 되어서 iloc으로 자르지 않고 passengerId로 자름"
      ],
      "execution_count": null,
      "outputs": []
    },
    {
      "cell_type": "code",
      "metadata": {
        "id": "0YzpkgfnetDS"
      },
      "source": [
        "train_df.drop(\"index\", axis=1, inplace=True)\r\n",
        "test_df.drop(\"index\", axis=1, inplace=True) "
      ],
      "execution_count": null,
      "outputs": []
    },
    {
      "cell_type": "code",
      "metadata": {
        "colab": {
          "base_uri": "https://localhost:8080/"
        },
        "id": "Dbsy9dF7fhO_",
        "outputId": "80312923-10c5-466b-d184-9f1065ac9c01"
      },
      "source": [
        "train_df.isnull().sum()"
      ],
      "execution_count": null,
      "outputs": [
        {
          "output_type": "execute_result",
          "data": {
            "text/plain": [
              "education-num               0\n",
              "Y                           0\n",
              "work_?                      0\n",
              "work_Federal-gov            0\n",
              "work_Local-gov              0\n",
              "work_Private                0\n",
              "work_Self-emp-inc           0\n",
              "work_Self-emp-not-inc       0\n",
              "work_State-gov              0\n",
              "occu_?                      0\n",
              "occu_Adm-clerical           0\n",
              "occu_Craft-repair           0\n",
              "occu_Exec-managerial        0\n",
              "occu_Farming-fishing        0\n",
              "occu_Handlers-cleaners      0\n",
              "occu_Machine-op-inspct      0\n",
              "occu_Other-service          0\n",
              "occu_Prof-specialty         0\n",
              "occu_Protective-serv        0\n",
              "occu_Sales                  0\n",
              "occu_Tech-support           0\n",
              "occu_Transport-moving       0\n",
              "edu_10th                    0\n",
              "edu_11th                    0\n",
              "edu_12th                    0\n",
              "edu_1st-4th                 0\n",
              "edu_5th-6th                 0\n",
              "edu_7th-8th                 0\n",
              "edu_9th                     0\n",
              "edu_Assoc-acdm              0\n",
              "edu_Assoc-voc               0\n",
              "edu_Bachelors               0\n",
              "edu_HS-grad                 0\n",
              "edu_Masters                 0\n",
              "edu_Prof-school             0\n",
              "edu_Some-college            0\n",
              "marry_Divorced              0\n",
              "marry_Married-civ-spouse    0\n",
              "marry_Never-married         0\n",
              "marry_Separated             0\n",
              "marry_Widowed               0\n",
              "rela_Husband                0\n",
              "rela_Not-in-family          0\n",
              "rela_Other-relative         0\n",
              "rela_Own-child              0\n",
              "rela_Unmarried              0\n",
              "rela_Wife                   0\n",
              "sex_cate                    0\n",
              "race_cate                   0\n",
              "native                      0\n",
              "age_cate                    0\n",
              "dtype: int64"
            ]
          },
          "metadata": {
            "tags": []
          },
          "execution_count": 51
        }
      ]
    },
    {
      "cell_type": "code",
      "metadata": {
        "colab": {
          "base_uri": "https://localhost:8080/"
        },
        "id": "RBcAVj86VS1C",
        "outputId": "eda6bae7-a4cf-46bb-885a-16ad363b4545"
      },
      "source": [
        "X_train = train_df.drop(\"Y\", axis=1)\r\n",
        "y_train = train_df[\"Y\"]\r\n",
        "X_test = test_df.drop(\"Y\", axis=1)\r\n",
        "\r\n",
        "print(X_train.shape, y_train.shape, X_test.shape)\r\n",
        "print(X_train.head())\r\n",
        "print(X_test.head())"
      ],
      "execution_count": null,
      "outputs": [
        {
          "output_type": "stream",
          "text": [
            "(11900, 50) (11900,) (5100, 50)\n",
            "   education-num  work_?  work_Federal-gov  ...  race_cate  native  age_cate\n",
            "0             10       0                 0  ...          0       0         1\n",
            "1              9       0                 0  ...          0       0         3\n",
            "2             13       0                 0  ...          0       0         0\n",
            "3              9       0                 0  ...          0       0         0\n",
            "4             10       0                 0  ...          0       0         6\n",
            "\n",
            "[5 rows x 50 columns]\n",
            "   education-num  work_?  work_Federal-gov  ...  race_cate  native  age_cate\n",
            "0             14       0                 0  ...          0       0         0\n",
            "1             10       0                 0  ...          0       0         2\n",
            "2              7       0                 0  ...          0       0         0\n",
            "3              9       0                 0  ...          1       0         3\n",
            "4             13       0                 0  ...          0       0         6\n",
            "\n",
            "[5 rows x 50 columns]\n"
          ],
          "name": "stdout"
        }
      ]
    },
    {
      "cell_type": "code",
      "metadata": {
        "colab": {
          "base_uri": "https://localhost:8080/"
        },
        "id": "4c1t5iSvfZQO",
        "outputId": "ff3d0911-7fbb-4a62-9b3b-16bf415c52a9"
      },
      "source": [
        "y_train.isnull().sum()"
      ],
      "execution_count": null,
      "outputs": [
        {
          "output_type": "execute_result",
          "data": {
            "text/plain": [
              "0"
            ]
          },
          "metadata": {
            "tags": []
          },
          "execution_count": 53
        }
      ]
    },
    {
      "cell_type": "code",
      "metadata": {
        "id": "7ehWvMvpDGEf"
      },
      "source": [
        "def SPLIT_FIT_PREDICT(model, X, y, str=None, rate=0.2, prc=False, roc=False) :\r\n",
        "    X_train ,X_test , y_train, y_test = train_test_split(X, y, test_size=rate, random_state=121)\r\n",
        "    model.fit(X_train, y_train)\r\n",
        "    pred = model.predict(X_test)\r\n",
        "    proba = model.predict_proba(X_test)\r\n",
        "    auc = roc_auc_score(y_test, proba[:, 1].reshape(-1, 1))\r\n",
        "    SCORES(y_test, pred, proba, str)\r\n",
        "\r\n",
        "    if prc == True: #일반적으로 그리지 말고 true면 그려라\r\n",
        "        CHART_PRECISION_RECALL_CURV(y_test, proba)\r\n",
        "    if roc == True:\r\n",
        "        CHART_ROC_CURV(y_test, proba, auc)\r\n",
        "    return X_train, X_test, y_train, y_test   # pred, proba\r\n",
        "\r\n",
        "# rf_model = RandomForestClassifier()\r\n",
        "# SPLIT_FIT_PREDICT(rf_model, X, y, str=\"최초점수\", 0.5)\r\n",
        "# SPLIT_FIT_PREDICT(rf_model, X, y)\r\n",
        "\r\n",
        "def SCORES(y_test, pred, proba, str=None) :\r\n",
        "    print(\"------{}-------\".format(str))\r\n",
        "    acc = accuracy_score(y_test, pred)\r\n",
        "    f1 = f1_score(y_test, pred)\r\n",
        "    precision = precision_score(y_test, pred)\r\n",
        "    recall = recall_score(y_test, pred)\r\n",
        "    #auc = roc_auc_score(y_test, pred)\r\n",
        "    auc = roc_auc_score(y_test, proba[:, 1].reshape(-1, 1))\r\n",
        "    print(\"정확도{:.4f}  F1 {:.4f}=(정밀도{:.4f}  재현률{:.4f} auc{:.4f}) \".format(acc, f1, precision, recall, auc))\r\n",
        "    cf_matrix = confusion_matrix(y_test, pred)\r\n",
        "    print(cf_matrix)"
      ],
      "execution_count": null,
      "outputs": []
    },
    {
      "cell_type": "code",
      "metadata": {
        "id": "Asm9m9MvQ5MI"
      },
      "source": [
        "from sklearn.tree import DecisionTreeClassifier #의사결정트리\r\n",
        "from sklearn.neighbors import KNeighborsClassifier #이웃노드 분류\r\n",
        "from sklearn.metrics import accuracy_score, f1_score, recall_score, precision_score, roc_auc_score  #정확도 평가\r\n",
        "from sklearn.ensemble import RandomForestClassifier #랜덤포레스트"
      ],
      "execution_count": null,
      "outputs": []
    },
    {
      "cell_type": "code",
      "metadata": {
        "colab": {
          "base_uri": "https://localhost:8080/"
        },
        "id": "S-tdNwReMi_E",
        "outputId": "899a5f91-4e54-4433-d3d9-44af9eb9370b"
      },
      "source": [
        "dt_model = DecisionTreeClassifier()\r\n",
        "knn_model = KNeighborsClassifier()\r\n",
        "rf_model = RandomForestClassifier()\r\n",
        "\r\n",
        "# models = [dt_model, knn_model, rf_model] #어떤게 잘나오는지 알아보고 싶으면 X_train을 7:3으로 해서 제일 잘나온 모델 선택해서 답안지 내도 됨. 그러나 여기서는 rf_model 쓰겠음\r\n",
        "#fit : 학습하다\r\n",
        "rf_model.fit(X_train, y_train)\r\n",
        "#predict : 시험\r\n",
        "y_pred = rf_model.predict(X_test).astype(np.int32) \r\n",
        "print(y_pred)"
      ],
      "execution_count": null,
      "outputs": [
        {
          "output_type": "stream",
          "text": [
            "[1 0 0 ... 1 0 1]\n"
          ],
          "name": "stdout"
        }
      ]
    },
    {
      "cell_type": "code",
      "metadata": {
        "id": "XsiMuq61lNqF"
      },
      "source": [
        "col_names = ['ID', 'Y']\r\n",
        "submission  = pd.read_csv('/content/drive/MyDrive/Colab Notebooks/income/sample_submit.csv', header=None, names=col_names)"
      ],
      "execution_count": null,
      "outputs": []
    },
    {
      "cell_type": "code",
      "metadata": {
        "colab": {
          "base_uri": "https://localhost:8080/",
          "height": 419
        },
        "id": "iRxwsX4FstYj",
        "outputId": "8415bdd8-0444-4222-f570-78c99dde16b0"
      },
      "source": [
        "submission"
      ],
      "execution_count": null,
      "outputs": [
        {
          "output_type": "execute_result",
          "data": {
            "text/html": [
              "<div>\n",
              "<style scoped>\n",
              "    .dataframe tbody tr th:only-of-type {\n",
              "        vertical-align: middle;\n",
              "    }\n",
              "\n",
              "    .dataframe tbody tr th {\n",
              "        vertical-align: top;\n",
              "    }\n",
              "\n",
              "    .dataframe thead th {\n",
              "        text-align: right;\n",
              "    }\n",
              "</style>\n",
              "<table border=\"1\" class=\"dataframe\">\n",
              "  <thead>\n",
              "    <tr style=\"text-align: right;\">\n",
              "      <th></th>\n",
              "      <th>ID</th>\n",
              "      <th>Y</th>\n",
              "    </tr>\n",
              "  </thead>\n",
              "  <tbody>\n",
              "    <tr>\n",
              "      <th>0</th>\n",
              "      <td>3873</td>\n",
              "      <td>0</td>\n",
              "    </tr>\n",
              "    <tr>\n",
              "      <th>1</th>\n",
              "      <td>3625</td>\n",
              "      <td>0</td>\n",
              "    </tr>\n",
              "    <tr>\n",
              "      <th>2</th>\n",
              "      <td>3028</td>\n",
              "      <td>0</td>\n",
              "    </tr>\n",
              "    <tr>\n",
              "      <th>3</th>\n",
              "      <td>13814</td>\n",
              "      <td>0</td>\n",
              "    </tr>\n",
              "    <tr>\n",
              "      <th>4</th>\n",
              "      <td>15398</td>\n",
              "      <td>0</td>\n",
              "    </tr>\n",
              "    <tr>\n",
              "      <th>...</th>\n",
              "      <td>...</td>\n",
              "      <td>...</td>\n",
              "    </tr>\n",
              "    <tr>\n",
              "      <th>5095</th>\n",
              "      <td>6726</td>\n",
              "      <td>0</td>\n",
              "    </tr>\n",
              "    <tr>\n",
              "      <th>5096</th>\n",
              "      <td>1501</td>\n",
              "      <td>0</td>\n",
              "    </tr>\n",
              "    <tr>\n",
              "      <th>5097</th>\n",
              "      <td>6391</td>\n",
              "      <td>0</td>\n",
              "    </tr>\n",
              "    <tr>\n",
              "      <th>5098</th>\n",
              "      <td>7104</td>\n",
              "      <td>0</td>\n",
              "    </tr>\n",
              "    <tr>\n",
              "      <th>5099</th>\n",
              "      <td>4214</td>\n",
              "      <td>0</td>\n",
              "    </tr>\n",
              "  </tbody>\n",
              "</table>\n",
              "<p>5100 rows × 2 columns</p>\n",
              "</div>"
            ],
            "text/plain": [
              "         ID  Y\n",
              "0      3873  0\n",
              "1      3625  0\n",
              "2      3028  0\n",
              "3     13814  0\n",
              "4     15398  0\n",
              "...     ... ..\n",
              "5095   6726  0\n",
              "5096   1501  0\n",
              "5097   6391  0\n",
              "5098   7104  0\n",
              "5099   4214  0\n",
              "\n",
              "[5100 rows x 2 columns]"
            ]
          },
          "metadata": {
            "tags": []
          },
          "execution_count": 130
        }
      ]
    },
    {
      "cell_type": "code",
      "metadata": {
        "id": "HGcmGhoYTN5c"
      },
      "source": [
        "submission.iloc[:,1:]=y_pred.reshape(-1,1)\r\n",
        "submission.to_csv(\"income_submission.csv\", index=True)"
      ],
      "execution_count": null,
      "outputs": []
    },
    {
      "cell_type": "code",
      "metadata": {
        "id": "WniykQs9vJ83"
      },
      "source": [
        ""
      ],
      "execution_count": null,
      "outputs": []
    }
  ]
}