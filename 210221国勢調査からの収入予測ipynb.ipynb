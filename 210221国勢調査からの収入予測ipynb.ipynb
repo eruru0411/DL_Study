{
  "nbformat": 4,
  "nbformat_minor": 0,
  "metadata": {
    "colab": {
      "name": "210221国勢調査からの収入予測ipynb",
      "provenance": [],
      "collapsed_sections": [],
      "authorship_tag": "ABX9TyOwNTX7BBtDSzxCbxXf/G7q",
      "include_colab_link": true
    },
    "kernelspec": {
      "name": "python3",
      "display_name": "Python 3"
    }
  },
  "cells": [
    {
      "cell_type": "markdown",
      "metadata": {
        "id": "view-in-github",
        "colab_type": "text"
      },
      "source": [
        "<a href=\"https://colab.research.google.com/github/eruru0411/git-test/blob/master/210221%E5%9B%BD%E5%8B%A2%E8%AA%BF%E6%9F%BB%E3%81%8B%E3%82%89%E3%81%AE%E5%8F%8E%E5%85%A5%E4%BA%88%E6%B8%ACipynb.ipynb\" target=\"_parent\"><img src=\"https://colab.research.google.com/assets/colab-badge.svg\" alt=\"Open In Colab\"/></a>"
      ]
    },
    {
      "cell_type": "markdown",
      "metadata": {
        "id": "lhRuEUVs0zyc"
      },
      "source": [
        "- 0\tindex\tint\tインデックスとして使用\r\n",
        "- 1\tage\tint\t年齢\r\n",
        "- 2\tworkclass\tvarchar\t職業クラス\r\n",
        "- 3\tfnlwgt\tint\tfnlwgt\r\n",
        "- 4\teducation\tvarchar\t教育\r\n",
        "- 5\teducation-num\tint\t教育年数\r\n",
        "- 6\tmarital-status\tvarchar\t配偶者の有無\r\n",
        "- 7\toccupation\tvarchar\t職業\r\n",
        "- 8\trelationship\tvarchar\t関係\r\n",
        "- 9\trace\tvarchar\t人種\r\n",
        "- 10\tsex\tvarchar\t性別\r\n",
        "- 11\tnative-country\tvarchar\t母国\r\n",
        "- 12\tY\tvarchar\t年収カテゴリ（>50K, <=50K）\r\n",
        "\r\n",
        "国勢調査から年収の予測（$50,000を超えるか否か）"
      ]
    },
    {
      "cell_type": "code",
      "metadata": {
        "colab": {
          "base_uri": "https://localhost:8080/"
        },
        "id": "Nfpc52cYyd90",
        "outputId": "96654970-ef07-4b4f-9e9b-409a24fd4743"
      },
      "source": [
        "from google.colab import drive\r\n",
        "drive.mount('/content/drive')"
      ],
      "execution_count": 2,
      "outputs": [
        {
          "output_type": "stream",
          "text": [
            "Mounted at /content/drive\n"
          ],
          "name": "stdout"
        }
      ]
    },
    {
      "cell_type": "code",
      "metadata": {
        "id": "cO8qE8lM0MO5"
      },
      "source": [
        "import pandas as pd\r\n",
        "import numpy as np\r\n",
        "import seaborn as sns\r\n",
        "import matplotlib.pyplot as plt\r\n",
        "\r\n",
        "from sklearn.ensemble import RandomForestClassifier\r\n",
        "from sklearn.metrics import confusion_matrix, accuracy_score, f1_score, roc_auc_score,precision_score,recall_score, roc_curve, classification_report,precision_recall_curve\r\n",
        "from sklearn.preprocessing import StandardScaler,RobustScaler,MinMaxScaler, Binarizer, OneHotEncoder, LabelEncoder\r\n",
        "from sklearn.model_selection import train_test_split, cross_val_score, GridSearchCV, KFold\r\n",
        "\r\n",
        "import warnings\r\n",
        "warnings.filterwarnings(action=\"ignore\")"
      ],
      "execution_count": 247,
      "outputs": []
    },
    {
      "cell_type": "code",
      "metadata": {
        "id": "4QADGuHKyqd0"
      },
      "source": [
        "train       = pd.read_csv('/content/drive/MyDrive/Colab Notebooks/income/train.csv')\r\n",
        "test        = pd.read_csv('/content/drive/MyDrive/Colab Notebooks/income/test.csv')\r\n",
        "submission  = pd.read_csv('/content/drive/MyDrive/Colab Notebooks/income/sample_submit.csv')"
      ],
      "execution_count": 258,
      "outputs": []
    },
    {
      "cell_type": "code",
      "metadata": {
        "colab": {
          "base_uri": "https://localhost:8080/"
        },
        "id": "k4L5e1KWzItc",
        "outputId": "f5bf4b67-d285-458d-a30c-2507dc020214"
      },
      "source": [
        "train.info()"
      ],
      "execution_count": 259,
      "outputs": [
        {
          "output_type": "stream",
          "text": [
            "<class 'pandas.core.frame.DataFrame'>\n",
            "RangeIndex: 11900 entries, 0 to 11899\n",
            "Data columns (total 13 columns):\n",
            " #   Column          Non-Null Count  Dtype \n",
            "---  ------          --------------  ----- \n",
            " 0   index           11900 non-null  int64 \n",
            " 1   age             11900 non-null  int64 \n",
            " 2   workclass       11900 non-null  object\n",
            " 3   fnlwgt          11900 non-null  int64 \n",
            " 4   education       11900 non-null  object\n",
            " 5   education-num   11900 non-null  int64 \n",
            " 6   marital-status  11900 non-null  object\n",
            " 7   occupation      11900 non-null  object\n",
            " 8   relationship    11900 non-null  object\n",
            " 9   race            11900 non-null  object\n",
            " 10  sex             11900 non-null  object\n",
            " 11  native-country  11900 non-null  object\n",
            " 12  Y               11900 non-null  int64 \n",
            "dtypes: int64(5), object(8)\n",
            "memory usage: 1.2+ MB\n"
          ],
          "name": "stdout"
        }
      ]
    },
    {
      "cell_type": "code",
      "metadata": {
        "colab": {
          "base_uri": "https://localhost:8080/",
          "height": 343
        },
        "id": "LlwXg6HQ0VUZ",
        "outputId": "87f0cecb-8138-487b-f3e0-8ac17d12eb31"
      },
      "source": [
        "train.head()"
      ],
      "execution_count": 260,
      "outputs": [
        {
          "output_type": "execute_result",
          "data": {
            "text/html": [
              "<div>\n",
              "<style scoped>\n",
              "    .dataframe tbody tr th:only-of-type {\n",
              "        vertical-align: middle;\n",
              "    }\n",
              "\n",
              "    .dataframe tbody tr th {\n",
              "        vertical-align: top;\n",
              "    }\n",
              "\n",
              "    .dataframe thead th {\n",
              "        text-align: right;\n",
              "    }\n",
              "</style>\n",
              "<table border=\"1\" class=\"dataframe\">\n",
              "  <thead>\n",
              "    <tr style=\"text-align: right;\">\n",
              "      <th></th>\n",
              "      <th>index</th>\n",
              "      <th>age</th>\n",
              "      <th>workclass</th>\n",
              "      <th>fnlwgt</th>\n",
              "      <th>education</th>\n",
              "      <th>education-num</th>\n",
              "      <th>marital-status</th>\n",
              "      <th>occupation</th>\n",
              "      <th>relationship</th>\n",
              "      <th>race</th>\n",
              "      <th>sex</th>\n",
              "      <th>native-country</th>\n",
              "      <th>Y</th>\n",
              "    </tr>\n",
              "  </thead>\n",
              "  <tbody>\n",
              "    <tr>\n",
              "      <th>0</th>\n",
              "      <td>322</td>\n",
              "      <td>21</td>\n",
              "      <td>Private</td>\n",
              "      <td>132652</td>\n",
              "      <td>Some-college</td>\n",
              "      <td>10</td>\n",
              "      <td>Divorced</td>\n",
              "      <td>Adm-clerical</td>\n",
              "      <td>Own-child</td>\n",
              "      <td>White</td>\n",
              "      <td>Female</td>\n",
              "      <td>United-States</td>\n",
              "      <td>0</td>\n",
              "    </tr>\n",
              "    <tr>\n",
              "      <th>1</th>\n",
              "      <td>11968</td>\n",
              "      <td>29</td>\n",
              "      <td>Private</td>\n",
              "      <td>132652</td>\n",
              "      <td>HS-grad</td>\n",
              "      <td>9</td>\n",
              "      <td>Divorced</td>\n",
              "      <td>Adm-clerical</td>\n",
              "      <td>Not-in-family</td>\n",
              "      <td>White</td>\n",
              "      <td>Female</td>\n",
              "      <td>United-States</td>\n",
              "      <td>0</td>\n",
              "    </tr>\n",
              "    <tr>\n",
              "      <th>2</th>\n",
              "      <td>10868</td>\n",
              "      <td>19</td>\n",
              "      <td>Private</td>\n",
              "      <td>132652</td>\n",
              "      <td>Bachelors</td>\n",
              "      <td>13</td>\n",
              "      <td>Never-married</td>\n",
              "      <td>Prof-specialty</td>\n",
              "      <td>Not-in-family</td>\n",
              "      <td>White</td>\n",
              "      <td>Female</td>\n",
              "      <td>United-States</td>\n",
              "      <td>0</td>\n",
              "    </tr>\n",
              "    <tr>\n",
              "      <th>3</th>\n",
              "      <td>3394</td>\n",
              "      <td>17</td>\n",
              "      <td>Private</td>\n",
              "      <td>132652</td>\n",
              "      <td>HS-grad</td>\n",
              "      <td>9</td>\n",
              "      <td>Never-married</td>\n",
              "      <td>Craft-repair</td>\n",
              "      <td>Own-child</td>\n",
              "      <td>White</td>\n",
              "      <td>Male</td>\n",
              "      <td>United-States</td>\n",
              "      <td>0</td>\n",
              "    </tr>\n",
              "    <tr>\n",
              "      <th>4</th>\n",
              "      <td>15993</td>\n",
              "      <td>47</td>\n",
              "      <td>Private</td>\n",
              "      <td>132652</td>\n",
              "      <td>Some-college</td>\n",
              "      <td>10</td>\n",
              "      <td>Married-civ-spouse</td>\n",
              "      <td>Craft-repair</td>\n",
              "      <td>Husband</td>\n",
              "      <td>White</td>\n",
              "      <td>Male</td>\n",
              "      <td>United-States</td>\n",
              "      <td>0</td>\n",
              "    </tr>\n",
              "  </tbody>\n",
              "</table>\n",
              "</div>"
            ],
            "text/plain": [
              "   index  age workclass  fnlwgt  ...   race     sex native-country  Y\n",
              "0    322   21   Private  132652  ...  White  Female  United-States  0\n",
              "1  11968   29   Private  132652  ...  White  Female  United-States  0\n",
              "2  10868   19   Private  132652  ...  White  Female  United-States  0\n",
              "3   3394   17   Private  132652  ...  White    Male  United-States  0\n",
              "4  15993   47   Private  132652  ...  White    Male  United-States  0\n",
              "\n",
              "[5 rows x 13 columns]"
            ]
          },
          "metadata": {
            "tags": []
          },
          "execution_count": 260
        }
      ]
    },
    {
      "cell_type": "code",
      "metadata": {
        "colab": {
          "base_uri": "https://localhost:8080/"
        },
        "id": "dEAkZ5tO0Y3B",
        "outputId": "e62fd5e4-67b7-43d6-e8b8-5a2f47768979"
      },
      "source": [
        "test.info()"
      ],
      "execution_count": 261,
      "outputs": [
        {
          "output_type": "stream",
          "text": [
            "<class 'pandas.core.frame.DataFrame'>\n",
            "RangeIndex: 5100 entries, 0 to 5099\n",
            "Data columns (total 12 columns):\n",
            " #   Column          Non-Null Count  Dtype \n",
            "---  ------          --------------  ----- \n",
            " 0   index           5100 non-null   int64 \n",
            " 1   age             5100 non-null   int64 \n",
            " 2   workclass       5100 non-null   object\n",
            " 3   fnlwgt          5100 non-null   int64 \n",
            " 4   education       5100 non-null   object\n",
            " 5   education-num   5100 non-null   int64 \n",
            " 6   marital-status  5100 non-null   object\n",
            " 7   occupation      5100 non-null   object\n",
            " 8   relationship    5100 non-null   object\n",
            " 9   race            5100 non-null   object\n",
            " 10  sex             5100 non-null   object\n",
            " 11  native-country  5100 non-null   object\n",
            "dtypes: int64(4), object(8)\n",
            "memory usage: 478.2+ KB\n"
          ],
          "name": "stdout"
        }
      ]
    },
    {
      "cell_type": "code",
      "metadata": {
        "colab": {
          "base_uri": "https://localhost:8080/",
          "height": 377
        },
        "id": "60khTJ_w0c2j",
        "outputId": "97d51847-ee06-4714-b481-fdb2f5213a65"
      },
      "source": [
        "test.head()"
      ],
      "execution_count": 262,
      "outputs": [
        {
          "output_type": "execute_result",
          "data": {
            "text/html": [
              "<div>\n",
              "<style scoped>\n",
              "    .dataframe tbody tr th:only-of-type {\n",
              "        vertical-align: middle;\n",
              "    }\n",
              "\n",
              "    .dataframe tbody tr th {\n",
              "        vertical-align: top;\n",
              "    }\n",
              "\n",
              "    .dataframe thead th {\n",
              "        text-align: right;\n",
              "    }\n",
              "</style>\n",
              "<table border=\"1\" class=\"dataframe\">\n",
              "  <thead>\n",
              "    <tr style=\"text-align: right;\">\n",
              "      <th></th>\n",
              "      <th>index</th>\n",
              "      <th>age</th>\n",
              "      <th>workclass</th>\n",
              "      <th>fnlwgt</th>\n",
              "      <th>education</th>\n",
              "      <th>education-num</th>\n",
              "      <th>marital-status</th>\n",
              "      <th>occupation</th>\n",
              "      <th>relationship</th>\n",
              "      <th>race</th>\n",
              "      <th>sex</th>\n",
              "      <th>native-country</th>\n",
              "    </tr>\n",
              "  </thead>\n",
              "  <tbody>\n",
              "    <tr>\n",
              "      <th>0</th>\n",
              "      <td>3873</td>\n",
              "      <td>17</td>\n",
              "      <td>Local-gov</td>\n",
              "      <td>132652</td>\n",
              "      <td>Masters</td>\n",
              "      <td>14</td>\n",
              "      <td>Married-civ-spouse</td>\n",
              "      <td>Prof-specialty</td>\n",
              "      <td>Husband</td>\n",
              "      <td>White</td>\n",
              "      <td>Male</td>\n",
              "      <td>United-States</td>\n",
              "    </tr>\n",
              "    <tr>\n",
              "      <th>1</th>\n",
              "      <td>3625</td>\n",
              "      <td>23</td>\n",
              "      <td>Private</td>\n",
              "      <td>132652</td>\n",
              "      <td>Some-college</td>\n",
              "      <td>10</td>\n",
              "      <td>Married-civ-spouse</td>\n",
              "      <td>Sales</td>\n",
              "      <td>Husband</td>\n",
              "      <td>White</td>\n",
              "      <td>Male</td>\n",
              "      <td>United-States</td>\n",
              "    </tr>\n",
              "    <tr>\n",
              "      <th>2</th>\n",
              "      <td>3028</td>\n",
              "      <td>19</td>\n",
              "      <td>Private</td>\n",
              "      <td>132652</td>\n",
              "      <td>11th</td>\n",
              "      <td>7</td>\n",
              "      <td>Never-married</td>\n",
              "      <td>Handlers-cleaners</td>\n",
              "      <td>Own-child</td>\n",
              "      <td>White</td>\n",
              "      <td>Female</td>\n",
              "      <td>United-States</td>\n",
              "    </tr>\n",
              "    <tr>\n",
              "      <th>3</th>\n",
              "      <td>13814</td>\n",
              "      <td>30</td>\n",
              "      <td>State-gov</td>\n",
              "      <td>132652</td>\n",
              "      <td>HS-grad</td>\n",
              "      <td>9</td>\n",
              "      <td>Never-married</td>\n",
              "      <td>Protective-serv</td>\n",
              "      <td>Unmarried</td>\n",
              "      <td>Black</td>\n",
              "      <td>Female</td>\n",
              "      <td>United-States</td>\n",
              "    </tr>\n",
              "    <tr>\n",
              "      <th>4</th>\n",
              "      <td>15398</td>\n",
              "      <td>60</td>\n",
              "      <td>Private</td>\n",
              "      <td>132652</td>\n",
              "      <td>Bachelors</td>\n",
              "      <td>13</td>\n",
              "      <td>Married-civ-spouse</td>\n",
              "      <td>Prof-specialty</td>\n",
              "      <td>Husband</td>\n",
              "      <td>White</td>\n",
              "      <td>Male</td>\n",
              "      <td>United-States</td>\n",
              "    </tr>\n",
              "  </tbody>\n",
              "</table>\n",
              "</div>"
            ],
            "text/plain": [
              "   index  age  workclass  fnlwgt  ... relationship   race     sex native-country\n",
              "0   3873   17  Local-gov  132652  ...      Husband  White    Male  United-States\n",
              "1   3625   23    Private  132652  ...      Husband  White    Male  United-States\n",
              "2   3028   19    Private  132652  ...    Own-child  White  Female  United-States\n",
              "3  13814   30  State-gov  132652  ...    Unmarried  Black  Female  United-States\n",
              "4  15398   60    Private  132652  ...      Husband  White    Male  United-States\n",
              "\n",
              "[5 rows x 12 columns]"
            ]
          },
          "metadata": {
            "tags": []
          },
          "execution_count": 262
        }
      ]
    },
    {
      "cell_type": "code",
      "metadata": {
        "colab": {
          "base_uri": "https://localhost:8080/"
        },
        "id": "8lEQGni30euW",
        "outputId": "6471d1a5-2c68-4b17-c7e3-b12da31afcaa"
      },
      "source": [
        "df = train.append(test)\r\n",
        "df.info()\r\n",
        "#workclass, education, marital-status, occupation, relationship, race, sex, native-country->수치화\r\n",
        "#age, education-num -> 범주화"
      ],
      "execution_count": 263,
      "outputs": [
        {
          "output_type": "stream",
          "text": [
            "<class 'pandas.core.frame.DataFrame'>\n",
            "Int64Index: 17000 entries, 0 to 5099\n",
            "Data columns (total 13 columns):\n",
            " #   Column          Non-Null Count  Dtype  \n",
            "---  ------          --------------  -----  \n",
            " 0   index           17000 non-null  int64  \n",
            " 1   age             17000 non-null  int64  \n",
            " 2   workclass       17000 non-null  object \n",
            " 3   fnlwgt          17000 non-null  int64  \n",
            " 4   education       17000 non-null  object \n",
            " 5   education-num   17000 non-null  int64  \n",
            " 6   marital-status  17000 non-null  object \n",
            " 7   occupation      17000 non-null  object \n",
            " 8   relationship    17000 non-null  object \n",
            " 9   race            17000 non-null  object \n",
            " 10  sex             17000 non-null  object \n",
            " 11  native-country  17000 non-null  object \n",
            " 12  Y               11900 non-null  float64\n",
            "dtypes: float64(1), int64(4), object(8)\n",
            "memory usage: 1.8+ MB\n"
          ],
          "name": "stdout"
        }
      ]
    },
    {
      "cell_type": "code",
      "metadata": {
        "colab": {
          "base_uri": "https://localhost:8080/",
          "height": 334
        },
        "id": "QSusfSqo_Z40",
        "outputId": "0f433a73-0eae-427a-a0ba-203cbe0da39a"
      },
      "source": [
        "df.describe()"
      ],
      "execution_count": 243,
      "outputs": [
        {
          "output_type": "execute_result",
          "data": {
            "text/html": [
              "<div>\n",
              "<style scoped>\n",
              "    .dataframe tbody tr th:only-of-type {\n",
              "        vertical-align: middle;\n",
              "    }\n",
              "\n",
              "    .dataframe tbody tr th {\n",
              "        vertical-align: top;\n",
              "    }\n",
              "\n",
              "    .dataframe thead th {\n",
              "        text-align: right;\n",
              "    }\n",
              "</style>\n",
              "<table border=\"1\" class=\"dataframe\">\n",
              "  <thead>\n",
              "    <tr style=\"text-align: right;\">\n",
              "      <th></th>\n",
              "      <th>index</th>\n",
              "      <th>education-num</th>\n",
              "      <th>Y</th>\n",
              "      <th>work_?</th>\n",
              "      <th>work_Federal-gov</th>\n",
              "      <th>work_Local-gov</th>\n",
              "      <th>work_Private</th>\n",
              "      <th>work_Self-emp-inc</th>\n",
              "      <th>work_Self-emp-not-inc</th>\n",
              "      <th>work_State-gov</th>\n",
              "      <th>occu_?</th>\n",
              "      <th>occu_Adm-clerical</th>\n",
              "      <th>occu_Craft-repair</th>\n",
              "      <th>occu_Exec-managerial</th>\n",
              "      <th>occu_Farming-fishing</th>\n",
              "      <th>occu_Handlers-cleaners</th>\n",
              "      <th>occu_Machine-op-inspct</th>\n",
              "      <th>occu_Other-service</th>\n",
              "      <th>occu_Prof-specialty</th>\n",
              "      <th>occu_Protective-serv</th>\n",
              "      <th>occu_Sales</th>\n",
              "      <th>occu_Tech-support</th>\n",
              "      <th>occu_Transport-moving</th>\n",
              "      <th>edu_10th</th>\n",
              "      <th>edu_11th</th>\n",
              "      <th>edu_12th</th>\n",
              "      <th>edu_1st-4th</th>\n",
              "      <th>edu_5th-6th</th>\n",
              "      <th>edu_7th-8th</th>\n",
              "      <th>edu_9th</th>\n",
              "      <th>edu_Assoc-acdm</th>\n",
              "      <th>edu_Assoc-voc</th>\n",
              "      <th>edu_Bachelors</th>\n",
              "      <th>edu_HS-grad</th>\n",
              "      <th>edu_Masters</th>\n",
              "      <th>edu_Prof-school</th>\n",
              "      <th>edu_Some-college</th>\n",
              "      <th>sex_cate</th>\n",
              "      <th>race_cate</th>\n",
              "      <th>native</th>\n",
              "      <th>age_cate</th>\n",
              "    </tr>\n",
              "  </thead>\n",
              "  <tbody>\n",
              "    <tr>\n",
              "      <th>count</th>\n",
              "      <td>17000.000000</td>\n",
              "      <td>17000.000000</td>\n",
              "      <td>11900.000000</td>\n",
              "      <td>17000.000000</td>\n",
              "      <td>17000.000000</td>\n",
              "      <td>17000.000000</td>\n",
              "      <td>17000.000000</td>\n",
              "      <td>17000.000000</td>\n",
              "      <td>17000.000000</td>\n",
              "      <td>17000.000000</td>\n",
              "      <td>17000.000000</td>\n",
              "      <td>17000.000000</td>\n",
              "      <td>17000.000000</td>\n",
              "      <td>17000.000000</td>\n",
              "      <td>17000.000000</td>\n",
              "      <td>17000.000000</td>\n",
              "      <td>17000.000000</td>\n",
              "      <td>17000.000000</td>\n",
              "      <td>17000.000000</td>\n",
              "      <td>17000.000000</td>\n",
              "      <td>17000.000000</td>\n",
              "      <td>17000.000000</td>\n",
              "      <td>17000.000000</td>\n",
              "      <td>17000.000000</td>\n",
              "      <td>17000.000000</td>\n",
              "      <td>17000.000000</td>\n",
              "      <td>17000.000000</td>\n",
              "      <td>17000.000000</td>\n",
              "      <td>17000.000000</td>\n",
              "      <td>17000.000000</td>\n",
              "      <td>17000.000000</td>\n",
              "      <td>17000.000000</td>\n",
              "      <td>17000.000000</td>\n",
              "      <td>17000.000000</td>\n",
              "      <td>17000.000000</td>\n",
              "      <td>17000.000000</td>\n",
              "      <td>17000.000000</td>\n",
              "      <td>17000.000000</td>\n",
              "      <td>17000.000000</td>\n",
              "      <td>17000.000000</td>\n",
              "      <td>17000.000000</td>\n",
              "    </tr>\n",
              "    <tr>\n",
              "      <th>mean</th>\n",
              "      <td>8499.500000</td>\n",
              "      <td>10.391824</td>\n",
              "      <td>0.256134</td>\n",
              "      <td>0.043529</td>\n",
              "      <td>0.014059</td>\n",
              "      <td>0.049235</td>\n",
              "      <td>0.778765</td>\n",
              "      <td>0.019765</td>\n",
              "      <td>0.069588</td>\n",
              "      <td>0.025059</td>\n",
              "      <td>0.050588</td>\n",
              "      <td>0.142471</td>\n",
              "      <td>0.137176</td>\n",
              "      <td>0.125824</td>\n",
              "      <td>0.026941</td>\n",
              "      <td>0.050235</td>\n",
              "      <td>0.053941</td>\n",
              "      <td>0.077765</td>\n",
              "      <td>0.127882</td>\n",
              "      <td>0.017529</td>\n",
              "      <td>0.130941</td>\n",
              "      <td>0.035118</td>\n",
              "      <td>0.023588</td>\n",
              "      <td>0.014941</td>\n",
              "      <td>0.025941</td>\n",
              "      <td>0.005941</td>\n",
              "      <td>0.000059</td>\n",
              "      <td>0.004647</td>\n",
              "      <td>0.010294</td>\n",
              "      <td>0.009471</td>\n",
              "      <td>0.026588</td>\n",
              "      <td>0.054588</td>\n",
              "      <td>0.187941</td>\n",
              "      <td>0.334176</td>\n",
              "      <td>0.067471</td>\n",
              "      <td>0.021235</td>\n",
              "      <td>0.236706</td>\n",
              "      <td>0.668588</td>\n",
              "      <td>0.097412</td>\n",
              "      <td>0.002941</td>\n",
              "      <td>2.639588</td>\n",
              "    </tr>\n",
              "    <tr>\n",
              "      <th>std</th>\n",
              "      <td>4907.621624</td>\n",
              "      <td>2.220970</td>\n",
              "      <td>0.436515</td>\n",
              "      <td>0.204052</td>\n",
              "      <td>0.117737</td>\n",
              "      <td>0.216365</td>\n",
              "      <td>0.415091</td>\n",
              "      <td>0.139195</td>\n",
              "      <td>0.254459</td>\n",
              "      <td>0.156308</td>\n",
              "      <td>0.219162</td>\n",
              "      <td>0.349542</td>\n",
              "      <td>0.344044</td>\n",
              "      <td>0.331660</td>\n",
              "      <td>0.161916</td>\n",
              "      <td>0.218437</td>\n",
              "      <td>0.225908</td>\n",
              "      <td>0.267809</td>\n",
              "      <td>0.333969</td>\n",
              "      <td>0.131237</td>\n",
              "      <td>0.337346</td>\n",
              "      <td>0.184083</td>\n",
              "      <td>0.151767</td>\n",
              "      <td>0.121321</td>\n",
              "      <td>0.158965</td>\n",
              "      <td>0.076852</td>\n",
              "      <td>0.007670</td>\n",
              "      <td>0.068013</td>\n",
              "      <td>0.100939</td>\n",
              "      <td>0.096858</td>\n",
              "      <td>0.160881</td>\n",
              "      <td>0.227181</td>\n",
              "      <td>0.390677</td>\n",
              "      <td>0.471716</td>\n",
              "      <td>0.250843</td>\n",
              "      <td>0.144172</td>\n",
              "      <td>0.425073</td>\n",
              "      <td>0.470735</td>\n",
              "      <td>0.359314</td>\n",
              "      <td>0.062241</td>\n",
              "      <td>2.033989</td>\n",
              "    </tr>\n",
              "    <tr>\n",
              "      <th>min</th>\n",
              "      <td>0.000000</td>\n",
              "      <td>3.000000</td>\n",
              "      <td>0.000000</td>\n",
              "      <td>0.000000</td>\n",
              "      <td>0.000000</td>\n",
              "      <td>0.000000</td>\n",
              "      <td>0.000000</td>\n",
              "      <td>0.000000</td>\n",
              "      <td>0.000000</td>\n",
              "      <td>0.000000</td>\n",
              "      <td>0.000000</td>\n",
              "      <td>0.000000</td>\n",
              "      <td>0.000000</td>\n",
              "      <td>0.000000</td>\n",
              "      <td>0.000000</td>\n",
              "      <td>0.000000</td>\n",
              "      <td>0.000000</td>\n",
              "      <td>0.000000</td>\n",
              "      <td>0.000000</td>\n",
              "      <td>0.000000</td>\n",
              "      <td>0.000000</td>\n",
              "      <td>0.000000</td>\n",
              "      <td>0.000000</td>\n",
              "      <td>0.000000</td>\n",
              "      <td>0.000000</td>\n",
              "      <td>0.000000</td>\n",
              "      <td>0.000000</td>\n",
              "      <td>0.000000</td>\n",
              "      <td>0.000000</td>\n",
              "      <td>0.000000</td>\n",
              "      <td>0.000000</td>\n",
              "      <td>0.000000</td>\n",
              "      <td>0.000000</td>\n",
              "      <td>0.000000</td>\n",
              "      <td>0.000000</td>\n",
              "      <td>0.000000</td>\n",
              "      <td>0.000000</td>\n",
              "      <td>0.000000</td>\n",
              "      <td>0.000000</td>\n",
              "      <td>0.000000</td>\n",
              "      <td>0.000000</td>\n",
              "    </tr>\n",
              "    <tr>\n",
              "      <th>25%</th>\n",
              "      <td>4249.750000</td>\n",
              "      <td>9.000000</td>\n",
              "      <td>0.000000</td>\n",
              "      <td>0.000000</td>\n",
              "      <td>0.000000</td>\n",
              "      <td>0.000000</td>\n",
              "      <td>1.000000</td>\n",
              "      <td>0.000000</td>\n",
              "      <td>0.000000</td>\n",
              "      <td>0.000000</td>\n",
              "      <td>0.000000</td>\n",
              "      <td>0.000000</td>\n",
              "      <td>0.000000</td>\n",
              "      <td>0.000000</td>\n",
              "      <td>0.000000</td>\n",
              "      <td>0.000000</td>\n",
              "      <td>0.000000</td>\n",
              "      <td>0.000000</td>\n",
              "      <td>0.000000</td>\n",
              "      <td>0.000000</td>\n",
              "      <td>0.000000</td>\n",
              "      <td>0.000000</td>\n",
              "      <td>0.000000</td>\n",
              "      <td>0.000000</td>\n",
              "      <td>0.000000</td>\n",
              "      <td>0.000000</td>\n",
              "      <td>0.000000</td>\n",
              "      <td>0.000000</td>\n",
              "      <td>0.000000</td>\n",
              "      <td>0.000000</td>\n",
              "      <td>0.000000</td>\n",
              "      <td>0.000000</td>\n",
              "      <td>0.000000</td>\n",
              "      <td>0.000000</td>\n",
              "      <td>0.000000</td>\n",
              "      <td>0.000000</td>\n",
              "      <td>0.000000</td>\n",
              "      <td>0.000000</td>\n",
              "      <td>0.000000</td>\n",
              "      <td>0.000000</td>\n",
              "      <td>1.000000</td>\n",
              "    </tr>\n",
              "    <tr>\n",
              "      <th>50%</th>\n",
              "      <td>8499.500000</td>\n",
              "      <td>10.000000</td>\n",
              "      <td>0.000000</td>\n",
              "      <td>0.000000</td>\n",
              "      <td>0.000000</td>\n",
              "      <td>0.000000</td>\n",
              "      <td>1.000000</td>\n",
              "      <td>0.000000</td>\n",
              "      <td>0.000000</td>\n",
              "      <td>0.000000</td>\n",
              "      <td>0.000000</td>\n",
              "      <td>0.000000</td>\n",
              "      <td>0.000000</td>\n",
              "      <td>0.000000</td>\n",
              "      <td>0.000000</td>\n",
              "      <td>0.000000</td>\n",
              "      <td>0.000000</td>\n",
              "      <td>0.000000</td>\n",
              "      <td>0.000000</td>\n",
              "      <td>0.000000</td>\n",
              "      <td>0.000000</td>\n",
              "      <td>0.000000</td>\n",
              "      <td>0.000000</td>\n",
              "      <td>0.000000</td>\n",
              "      <td>0.000000</td>\n",
              "      <td>0.000000</td>\n",
              "      <td>0.000000</td>\n",
              "      <td>0.000000</td>\n",
              "      <td>0.000000</td>\n",
              "      <td>0.000000</td>\n",
              "      <td>0.000000</td>\n",
              "      <td>0.000000</td>\n",
              "      <td>0.000000</td>\n",
              "      <td>0.000000</td>\n",
              "      <td>0.000000</td>\n",
              "      <td>0.000000</td>\n",
              "      <td>0.000000</td>\n",
              "      <td>1.000000</td>\n",
              "      <td>0.000000</td>\n",
              "      <td>0.000000</td>\n",
              "      <td>2.000000</td>\n",
              "    </tr>\n",
              "    <tr>\n",
              "      <th>75%</th>\n",
              "      <td>12749.250000</td>\n",
              "      <td>13.000000</td>\n",
              "      <td>1.000000</td>\n",
              "      <td>0.000000</td>\n",
              "      <td>0.000000</td>\n",
              "      <td>0.000000</td>\n",
              "      <td>1.000000</td>\n",
              "      <td>0.000000</td>\n",
              "      <td>0.000000</td>\n",
              "      <td>0.000000</td>\n",
              "      <td>0.000000</td>\n",
              "      <td>0.000000</td>\n",
              "      <td>0.000000</td>\n",
              "      <td>0.000000</td>\n",
              "      <td>0.000000</td>\n",
              "      <td>0.000000</td>\n",
              "      <td>0.000000</td>\n",
              "      <td>0.000000</td>\n",
              "      <td>0.000000</td>\n",
              "      <td>0.000000</td>\n",
              "      <td>0.000000</td>\n",
              "      <td>0.000000</td>\n",
              "      <td>0.000000</td>\n",
              "      <td>0.000000</td>\n",
              "      <td>0.000000</td>\n",
              "      <td>0.000000</td>\n",
              "      <td>0.000000</td>\n",
              "      <td>0.000000</td>\n",
              "      <td>0.000000</td>\n",
              "      <td>0.000000</td>\n",
              "      <td>0.000000</td>\n",
              "      <td>0.000000</td>\n",
              "      <td>0.000000</td>\n",
              "      <td>1.000000</td>\n",
              "      <td>0.000000</td>\n",
              "      <td>0.000000</td>\n",
              "      <td>0.000000</td>\n",
              "      <td>1.000000</td>\n",
              "      <td>0.000000</td>\n",
              "      <td>0.000000</td>\n",
              "      <td>4.000000</td>\n",
              "    </tr>\n",
              "    <tr>\n",
              "      <th>max</th>\n",
              "      <td>16999.000000</td>\n",
              "      <td>16.000000</td>\n",
              "      <td>1.000000</td>\n",
              "      <td>1.000000</td>\n",
              "      <td>1.000000</td>\n",
              "      <td>1.000000</td>\n",
              "      <td>1.000000</td>\n",
              "      <td>1.000000</td>\n",
              "      <td>1.000000</td>\n",
              "      <td>1.000000</td>\n",
              "      <td>1.000000</td>\n",
              "      <td>1.000000</td>\n",
              "      <td>1.000000</td>\n",
              "      <td>1.000000</td>\n",
              "      <td>1.000000</td>\n",
              "      <td>1.000000</td>\n",
              "      <td>1.000000</td>\n",
              "      <td>1.000000</td>\n",
              "      <td>1.000000</td>\n",
              "      <td>1.000000</td>\n",
              "      <td>1.000000</td>\n",
              "      <td>1.000000</td>\n",
              "      <td>1.000000</td>\n",
              "      <td>1.000000</td>\n",
              "      <td>1.000000</td>\n",
              "      <td>1.000000</td>\n",
              "      <td>1.000000</td>\n",
              "      <td>1.000000</td>\n",
              "      <td>1.000000</td>\n",
              "      <td>1.000000</td>\n",
              "      <td>1.000000</td>\n",
              "      <td>1.000000</td>\n",
              "      <td>1.000000</td>\n",
              "      <td>1.000000</td>\n",
              "      <td>1.000000</td>\n",
              "      <td>1.000000</td>\n",
              "      <td>1.000000</td>\n",
              "      <td>1.000000</td>\n",
              "      <td>2.000000</td>\n",
              "      <td>2.000000</td>\n",
              "      <td>6.000000</td>\n",
              "    </tr>\n",
              "  </tbody>\n",
              "</table>\n",
              "</div>"
            ],
            "text/plain": [
              "              index  education-num  ...        native      age_cate\n",
              "count  17000.000000   17000.000000  ...  17000.000000  17000.000000\n",
              "mean    8499.500000      10.391824  ...      0.002941      2.639588\n",
              "std     4907.621624       2.220970  ...      0.062241      2.033989\n",
              "min        0.000000       3.000000  ...      0.000000      0.000000\n",
              "25%     4249.750000       9.000000  ...      0.000000      1.000000\n",
              "50%     8499.500000      10.000000  ...      0.000000      2.000000\n",
              "75%    12749.250000      13.000000  ...      0.000000      4.000000\n",
              "max    16999.000000      16.000000  ...      2.000000      6.000000\n",
              "\n",
              "[8 rows x 41 columns]"
            ]
          },
          "metadata": {
            "tags": []
          },
          "execution_count": 243
        }
      ]
    },
    {
      "cell_type": "code",
      "metadata": {
        "colab": {
          "base_uri": "https://localhost:8080/"
        },
        "id": "NZ46XGEnLemX",
        "outputId": "d400aacb-13f0-4cf6-cb09-eaf9a3465831"
      },
      "source": [
        "#결측치 확인\r\n",
        "df.isnull().sum()"
      ],
      "execution_count": 264,
      "outputs": [
        {
          "output_type": "execute_result",
          "data": {
            "text/plain": [
              "index                0\n",
              "age                  0\n",
              "workclass            0\n",
              "fnlwgt               0\n",
              "education            0\n",
              "education-num        0\n",
              "marital-status       0\n",
              "occupation           0\n",
              "relationship         0\n",
              "race                 0\n",
              "sex                  0\n",
              "native-country       0\n",
              "Y                 5100\n",
              "dtype: int64"
            ]
          },
          "metadata": {
            "tags": []
          },
          "execution_count": 264
        }
      ]
    },
    {
      "cell_type": "code",
      "metadata": {
        "colab": {
          "base_uri": "https://localhost:8080/"
        },
        "id": "ueZtb3xQLi5e",
        "outputId": "9ecb77a4-9e02-4217-8826-eedb307d99b8"
      },
      "source": [
        "#이상치 확인\r\n",
        "def CHECK_OUTLIER(df=None, column=None):\r\n",
        "    # target 값과 상관관계가 높은 열을 우선적으로 진행\r\n",
        "    Q1 = np.percentile(df[column].values, 25)\r\n",
        "    Q3 = np.percentile(df[column].values, 75)\r\n",
        "    IQR = Q3 - Q1\r\n",
        "    IQR_weight = IQR * 1.5\r\n",
        "    minimum = Q1 - IQR_weight\r\n",
        "    maximum = Q3 + IQR_weight\r\n",
        "    outlier_idx = df[column][  (df[column]<minimum) | (df[column]>maximum)  ].index\r\n",
        "    return outlier_idx\r\n",
        "\r\n",
        "numeric_columns = df.dtypes[df.dtypes!='object'].index #object를 뺀 컬럼만 돌려야함\r\n",
        "#columns = df.columns #[....]\r\n",
        "for i, col in enumerate(numeric_columns) :\r\n",
        "    outlier_idx = CHECK_OUTLIER(df=df, column=col)\r\n",
        "    print(col, outlier_idx)"
      ],
      "execution_count": 265,
      "outputs": [
        {
          "output_type": "stream",
          "text": [
            "index Int64Index([], dtype='int64')\n",
            "age Int64Index([  22,   71,  549,  612,  688,  759,  802,  833,  968, 1223,\n",
            "            ...\n",
            "            3668, 3798, 3937, 4001, 4049, 4163, 4513, 4674, 4749, 4863],\n",
            "           dtype='int64', length=136)\n",
            "fnlwgt Int64Index([  18,  271,  297,  369,  386,  414,  444,  447,  508,  577,\n",
            "            ...\n",
            "            4603, 4647, 4746, 4892, 4910, 4922, 4976, 4985, 5048, 5077],\n",
            "           dtype='int64', length=295)\n",
            "education-num Int64Index([], dtype='int64')\n",
            "Y Int64Index([], dtype='int64')\n"
          ],
          "name": "stdout"
        }
      ]
    },
    {
      "cell_type": "code",
      "metadata": {
        "colab": {
          "base_uri": "https://localhost:8080/",
          "height": 283
        },
        "id": "4HCJB1wkL_Q8",
        "outputId": "8cff9ee3-806c-4c29-ddda-8b3ff45a9bc2"
      },
      "source": [
        "sns.boxplot(data=df) #fnlwgt 삭제?"
      ],
      "execution_count": 266,
      "outputs": [
        {
          "output_type": "execute_result",
          "data": {
            "text/plain": [
              "<matplotlib.axes._subplots.AxesSubplot at 0x7ff96d2f1128>"
            ]
          },
          "metadata": {
            "tags": []
          },
          "execution_count": 266
        },
        {
          "output_type": "display_data",
          "data": {
            "image/png": "[encoded data removed]",
            "text/plain": [
              "<Figure size 432x288 with 1 Axes>"
            ]
          },
          "metadata": {
            "tags": [],
            "needs_background": "light"
          }
        }
      ]
    },
    {
      "cell_type": "code",
      "metadata": {
        "id": "21KQrL5V1awn"
      },
      "source": [
        "# df.age.unique()\r\n",
        "# df.age.value_counts()"
      ],
      "execution_count": 267,
      "outputs": []
    },
    {
      "cell_type": "code",
      "metadata": {
        "colab": {
          "base_uri": "https://localhost:8080/",
          "height": 406
        },
        "id": "_1nbBPYS2J4_",
        "outputId": "5a93a876-021a-499a-a60e-7ca12795af26"
      },
      "source": [
        "plt.figure(figsize=(12,6))\r\n",
        "sns.countplot(x='age', data=df) #구간화 하기  -> 17-19/ 20-22/ 23-25/ 26-30/ 31-35/ 36-40/ 41-49/ 50-64?"
      ],
      "execution_count": 268,
      "outputs": [
        {
          "output_type": "execute_result",
          "data": {
            "text/plain": [
              "<matplotlib.axes._subplots.AxesSubplot at 0x7ff966bafb00>"
            ]
          },
          "metadata": {
            "tags": []
          },
          "execution_count": 268
        },
        {
          "output_type": "display_data",
          "data": {
            "image/png": "[encoded data removed]",
            "text/plain": [
              "<Figure size 864x432 with 1 Axes>"
            ]
          },
          "metadata": {
            "tags": [],
            "needs_background": "light"
          }
        }
      ]
    },
    {
      "cell_type": "code",
      "metadata": {
        "colab": {
          "base_uri": "https://localhost:8080/",
          "height": 406
        },
        "id": "L9I_eYNt2WDm",
        "outputId": "ca0ce8f1-cad2-4d9c-e9ec-d2e6572255e2"
      },
      "source": [
        "plt.figure(figsize=(12,6))\r\n",
        "sns.countplot(x='education-num', data=df)"
      ],
      "execution_count": 269,
      "outputs": [
        {
          "output_type": "execute_result",
          "data": {
            "text/plain": [
              "<matplotlib.axes._subplots.AxesSubplot at 0x7ff966bcdc18>"
            ]
          },
          "metadata": {
            "tags": []
          },
          "execution_count": 269
        },
        {
          "output_type": "display_data",
          "data": {
            "image/png": "[encoded data removed]",
            "text/plain": [
              "<Figure size 864x432 with 1 Axes>"
            ]
          },
          "metadata": {
            "tags": [],
            "needs_background": "light"
          }
        }
      ]
    },
    {
      "cell_type": "code",
      "metadata": {
        "colab": {
          "base_uri": "https://localhost:8080/",
          "height": 297
        },
        "id": "JHrxkh6p6fbW",
        "outputId": "2f20b213-fe51-4747-985e-2a5990a08dc3"
      },
      "source": [
        "sns.countplot(x='sex', data=df, palette='Set3')"
      ],
      "execution_count": 270,
      "outputs": [
        {
          "output_type": "execute_result",
          "data": {
            "text/plain": [
              "<matplotlib.axes._subplots.AxesSubplot at 0x7ff9668cd4e0>"
            ]
          },
          "metadata": {
            "tags": []
          },
          "execution_count": 270
        },
        {
          "output_type": "display_data",
          "data": {
            "image/png": "[encoded data removed]",
            "text/plain": [
              "<Figure size 432x288 with 1 Axes>"
            ]
          },
          "metadata": {
            "tags": [],
            "needs_background": "light"
          }
        }
      ]
    },
    {
      "cell_type": "code",
      "metadata": {
        "colab": {
          "base_uri": "https://localhost:8080/",
          "height": 297
        },
        "id": "1gqiGlp36zsi",
        "outputId": "636bbb9a-8897-4b96-f51e-cf424181cda7"
      },
      "source": [
        "sns.countplot(x='race', data=df, palette='pastel') "
      ],
      "execution_count": 271,
      "outputs": [
        {
          "output_type": "execute_result",
          "data": {
            "text/plain": [
              "<matplotlib.axes._subplots.AxesSubplot at 0x7ff9667e3f60>"
            ]
          },
          "metadata": {
            "tags": []
          },
          "execution_count": 271
        },
        {
          "output_type": "display_data",
          "data": {
            "image/png": "[encoded data removed]",
            "text/plain": [
              "<Figure size 432x288 with 1 Axes>"
            ]
          },
          "metadata": {
            "tags": [],
            "needs_background": "light"
          }
        }
      ]
    },
    {
      "cell_type": "code",
      "metadata": {
        "colab": {
          "base_uri": "https://localhost:8080/",
          "height": 297
        },
        "id": "6VhYrrvO7L1G",
        "outputId": "17311fca-35e6-47bc-f0e5-2ac2a9ad39b1"
      },
      "source": [
        "sns.countplot(x='native-country', data=df, palette='pastel') "
      ],
      "execution_count": 272,
      "outputs": [
        {
          "output_type": "execute_result",
          "data": {
            "text/plain": [
              "<matplotlib.axes._subplots.AxesSubplot at 0x7ff96673fba8>"
            ]
          },
          "metadata": {
            "tags": []
          },
          "execution_count": 272
        },
        {
          "output_type": "display_data",
          "data": {
            "image/png": "[encoded data removed]",
            "text/plain": [
              "<Figure size 432x288 with 1 Axes>"
            ]
          },
          "metadata": {
            "tags": [],
            "needs_background": "light"
          }
        }
      ]
    },
    {
      "cell_type": "code",
      "metadata": {
        "colab": {
          "base_uri": "https://localhost:8080/"
        },
        "id": "uzM1l8qD4iqy",
        "outputId": "db958563-5eed-417e-fc4e-065f884feae1"
      },
      "source": [
        "df['workclass'].value_counts() #onehot"
      ],
      "execution_count": 273,
      "outputs": [
        {
          "output_type": "execute_result",
          "data": {
            "text/plain": [
              "Private             13239\n",
              "Self-emp-not-inc     1183\n",
              "Local-gov             837\n",
              "?                     740\n",
              "State-gov             426\n",
              "Self-emp-inc          336\n",
              "Federal-gov           239\n",
              "Name: workclass, dtype: int64"
            ]
          },
          "metadata": {
            "tags": []
          },
          "execution_count": 273
        }
      ]
    },
    {
      "cell_type": "code",
      "metadata": {
        "colab": {
          "base_uri": "https://localhost:8080/"
        },
        "id": "kdUzQfu_4wB1",
        "outputId": "92949b6f-47ff-4803-fbbd-2932a73ae4e1"
      },
      "source": [
        "df['occupation'].value_counts() #직업 -> onehot"
      ],
      "execution_count": 274,
      "outputs": [
        {
          "output_type": "execute_result",
          "data": {
            "text/plain": [
              "Adm-clerical         2422\n",
              "Craft-repair         2332\n",
              "Sales                2226\n",
              "Prof-specialty       2174\n",
              "Exec-managerial      2139\n",
              "Other-service        1322\n",
              "Machine-op-inspct     917\n",
              "?                     860\n",
              "Handlers-cleaners     854\n",
              "Tech-support          597\n",
              "Farming-fishing       458\n",
              "Transport-moving      401\n",
              "Protective-serv       298\n",
              "Name: occupation, dtype: int64"
            ]
          },
          "metadata": {
            "tags": []
          },
          "execution_count": 274
        }
      ]
    },
    {
      "cell_type": "code",
      "metadata": {
        "colab": {
          "base_uri": "https://localhost:8080/"
        },
        "id": "Lt_R2_iDFPwK",
        "outputId": "df14b919-222a-4a74-9099-17c78eeb7726"
      },
      "source": [
        "df['education'].value_counts() #교육 ->onehot"
      ],
      "execution_count": 275,
      "outputs": [
        {
          "output_type": "execute_result",
          "data": {
            "text/plain": [
              "HS-grad         5681\n",
              "Some-college    4024\n",
              "Bachelors       3195\n",
              "Masters         1147\n",
              "Assoc-voc        928\n",
              "Assoc-acdm       452\n",
              "11th             441\n",
              "Prof-school      361\n",
              "10th             254\n",
              "7th-8th          175\n",
              "9th              161\n",
              "12th             101\n",
              "5th-6th           79\n",
              "1st-4th            1\n",
              "Name: education, dtype: int64"
            ]
          },
          "metadata": {
            "tags": []
          },
          "execution_count": 275
        }
      ]
    },
    {
      "cell_type": "code",
      "metadata": {
        "id": "WuGeZyWdDbEC"
      },
      "source": [
        "#OneHotEncoding\r\n",
        "df = pd.get_dummies(data=df, columns=['workclass'], prefix = 'work')\r\n",
        "df = pd.get_dummies(data=df, columns=['occupation'], prefix = 'occu')\r\n",
        "df = pd.get_dummies(data=df, columns=['education'], prefix = 'edu')"
      ],
      "execution_count": 276,
      "outputs": []
    },
    {
      "cell_type": "code",
      "metadata": {
        "id": "qj7HjyAENLMW"
      },
      "source": [
        "#OneHotEncoding\r\n",
        "# df = pd.get_dummies(data=df, columns=['marital-status'], prefix = 'marry')\r\n",
        "# df = pd.get_dummies(data=df, columns=['relationship'], prefix = 'rela')"
      ],
      "execution_count": 277,
      "outputs": []
    },
    {
      "cell_type": "code",
      "metadata": {
        "colab": {
          "base_uri": "https://localhost:8080/"
        },
        "id": "K8LBzS1TE9rv",
        "outputId": "477ea085-d49d-4dae-d57c-1eaf40a2a1b3"
      },
      "source": [
        "df.info()"
      ],
      "execution_count": 278,
      "outputs": [
        {
          "output_type": "stream",
          "text": [
            "<class 'pandas.core.frame.DataFrame'>\n",
            "Int64Index: 17000 entries, 0 to 5099\n",
            "Data columns (total 53 columns):\n",
            " #   Column                    Non-Null Count  Dtype  \n",
            "---  ------                    --------------  -----  \n",
            " 0   index                     17000 non-null  int64  \n",
            " 1   age                       17000 non-null  int64  \n",
            " 2   fnlwgt                    17000 non-null  int64  \n",
            " 3   education-num             17000 non-null  int64  \n",
            " 4   race                      17000 non-null  object \n",
            " 5   sex                       17000 non-null  object \n",
            " 6   native-country            17000 non-null  object \n",
            " 7   Y                         11900 non-null  float64\n",
            " 8   work_?                    17000 non-null  uint8  \n",
            " 9   work_Federal-gov          17000 non-null  uint8  \n",
            " 10  work_Local-gov            17000 non-null  uint8  \n",
            " 11  work_Private              17000 non-null  uint8  \n",
            " 12  work_Self-emp-inc         17000 non-null  uint8  \n",
            " 13  work_Self-emp-not-inc     17000 non-null  uint8  \n",
            " 14  work_State-gov            17000 non-null  uint8  \n",
            " 15  occu_?                    17000 non-null  uint8  \n",
            " 16  occu_Adm-clerical         17000 non-null  uint8  \n",
            " 17  occu_Craft-repair         17000 non-null  uint8  \n",
            " 18  occu_Exec-managerial      17000 non-null  uint8  \n",
            " 19  occu_Farming-fishing      17000 non-null  uint8  \n",
            " 20  occu_Handlers-cleaners    17000 non-null  uint8  \n",
            " 21  occu_Machine-op-inspct    17000 non-null  uint8  \n",
            " 22  occu_Other-service        17000 non-null  uint8  \n",
            " 23  occu_Prof-specialty       17000 non-null  uint8  \n",
            " 24  occu_Protective-serv      17000 non-null  uint8  \n",
            " 25  occu_Sales                17000 non-null  uint8  \n",
            " 26  occu_Tech-support         17000 non-null  uint8  \n",
            " 27  occu_Transport-moving     17000 non-null  uint8  \n",
            " 28  edu_10th                  17000 non-null  uint8  \n",
            " 29  edu_11th                  17000 non-null  uint8  \n",
            " 30  edu_12th                  17000 non-null  uint8  \n",
            " 31  edu_1st-4th               17000 non-null  uint8  \n",
            " 32  edu_5th-6th               17000 non-null  uint8  \n",
            " 33  edu_7th-8th               17000 non-null  uint8  \n",
            " 34  edu_9th                   17000 non-null  uint8  \n",
            " 35  edu_Assoc-acdm            17000 non-null  uint8  \n",
            " 36  edu_Assoc-voc             17000 non-null  uint8  \n",
            " 37  edu_Bachelors             17000 non-null  uint8  \n",
            " 38  edu_HS-grad               17000 non-null  uint8  \n",
            " 39  edu_Masters               17000 non-null  uint8  \n",
            " 40  edu_Prof-school           17000 non-null  uint8  \n",
            " 41  edu_Some-college          17000 non-null  uint8  \n",
            " 42  marry_Divorced            17000 non-null  uint8  \n",
            " 43  marry_Married-civ-spouse  17000 non-null  uint8  \n",
            " 44  marry_Never-married       17000 non-null  uint8  \n",
            " 45  marry_Separated           17000 non-null  uint8  \n",
            " 46  marry_Widowed             17000 non-null  uint8  \n",
            " 47  rela_Husband              17000 non-null  uint8  \n",
            " 48  rela_Not-in-family        17000 non-null  uint8  \n",
            " 49  rela_Other-relative       17000 non-null  uint8  \n",
            " 50  rela_Own-child            17000 non-null  uint8  \n",
            " 51  rela_Unmarried            17000 non-null  uint8  \n",
            " 52  rela_Wife                 17000 non-null  uint8  \n",
            "dtypes: float64(1), int64(4), object(3), uint8(45)\n",
            "memory usage: 2.5+ MB\n"
          ],
          "name": "stdout"
        }
      ]
    },
    {
      "cell_type": "code",
      "metadata": {
        "colab": {
          "base_uri": "https://localhost:8080/"
        },
        "id": "3XiSPMtP58mB",
        "outputId": "88fb2c00-f8ed-49a7-aff6-4d2ac171bedc"
      },
      "source": [
        "df['marital-status'].value_counts() "
      ],
      "execution_count": 237,
      "outputs": [
        {
          "output_type": "execute_result",
          "data": {
            "text/plain": [
              "Married-civ-spouse    8619\n",
              "Never-married         4855\n",
              "Divorced              2703\n",
              "Separated              449\n",
              "Widowed                374\n",
              "Name: marital-status, dtype: int64"
            ]
          },
          "metadata": {
            "tags": []
          },
          "execution_count": 237
        }
      ]
    },
    {
      "cell_type": "code",
      "metadata": {
        "colab": {
          "base_uri": "https://localhost:8080/"
        },
        "id": "6wAsAJNg6MxR",
        "outputId": "f26f5034-bc0f-4bc0-ae80-82a1d9eedced"
      },
      "source": [
        "df['relationship'].value_counts() #marital-status랑 병합 가능할듯?"
      ],
      "execution_count": 238,
      "outputs": [
        {
          "output_type": "execute_result",
          "data": {
            "text/plain": [
              "Husband           7741\n",
              "Not-in-family     3580\n",
              "Own-child         2864\n",
              "Unmarried         1755\n",
              "Wife               777\n",
              "Other-relative     283\n",
              "Name: relationship, dtype: int64"
            ]
          },
          "metadata": {
            "tags": []
          },
          "execution_count": 238
        }
      ]
    },
    {
      "cell_type": "code",
      "metadata": {
        "id": "di5Fhcsq7TEH"
      },
      "source": [
        "df['sex_cate'] = df['sex'].apply(lambda x: 0 if x == \"Female\" else 1) #여자면 0 남자면 1\r\n",
        "df['race_cate'] = df['race'].apply(lambda x:0 if x == \"White\" else 1 if x == \"Black\" else 2) #0:백인, 1:흑인, 2:아시아계\r\n",
        "df['native'] = df['native-country'].apply(lambda x:0 if x == \"United-States\" else 1 if x == \"Mexico\" else 2) #0:미국 1:멕시코 2:필리핀\r\n",
        "\r\n",
        "\r\n",
        "df['age_cate'] = df['age'].apply(lambda x:0 if x <= 19 else 1 if x <= 22 else 2 if x <= 25 else 3 if x <= 30 else 4 if x <= 35 else 5 if x <= 40 else 6) #0:17-19/ 1:20-22/ 2:23-25/ 3:26-30/ 4:31-35/ 5:36-40/ 6:41-64\r\n"
      ],
      "execution_count": 279,
      "outputs": []
    },
    {
      "cell_type": "code",
      "metadata": {
        "id": "qqjaKI04__IS"
      },
      "source": [
        "del_col = df[['sex', 'race', 'native-country', 'age', 'fnlwgt']] #나중에 drop시킬 컬럼"
      ],
      "execution_count": 280,
      "outputs": []
    },
    {
      "cell_type": "code",
      "metadata": {
        "id": "X63qrhnoDBdf"
      },
      "source": [
        "df = df.drop(del_col, axis=1)"
      ],
      "execution_count": 281,
      "outputs": []
    },
    {
      "cell_type": "code",
      "metadata": {
        "id": "u77OA4Pb1EQw"
      },
      "source": [
        "X = df.drop('Y', axis=1) \r\n",
        "y = df['Y'] #target"
      ],
      "execution_count": 287,
      "outputs": []
    },
    {
      "cell_type": "code",
      "metadata": {
        "colab": {
          "base_uri": "https://localhost:8080/"
        },
        "id": "Ap2wpqA0Nijh",
        "outputId": "88cbe9e9-ad05-4873-d070-97d8011e25d1"
      },
      "source": [
        "df.info()"
      ],
      "execution_count": 283,
      "outputs": [
        {
          "output_type": "stream",
          "text": [
            "<class 'pandas.core.frame.DataFrame'>\n",
            "Int64Index: 17000 entries, 0 to 5099\n",
            "Data columns (total 52 columns):\n",
            " #   Column                    Non-Null Count  Dtype  \n",
            "---  ------                    --------------  -----  \n",
            " 0   index                     17000 non-null  int64  \n",
            " 1   education-num             17000 non-null  int64  \n",
            " 2   Y                         11900 non-null  float64\n",
            " 3   work_?                    17000 non-null  uint8  \n",
            " 4   work_Federal-gov          17000 non-null  uint8  \n",
            " 5   work_Local-gov            17000 non-null  uint8  \n",
            " 6   work_Private              17000 non-null  uint8  \n",
            " 7   work_Self-emp-inc         17000 non-null  uint8  \n",
            " 8   work_Self-emp-not-inc     17000 non-null  uint8  \n",
            " 9   work_State-gov            17000 non-null  uint8  \n",
            " 10  occu_?                    17000 non-null  uint8  \n",
            " 11  occu_Adm-clerical         17000 non-null  uint8  \n",
            " 12  occu_Craft-repair         17000 non-null  uint8  \n",
            " 13  occu_Exec-managerial      17000 non-null  uint8  \n",
            " 14  occu_Farming-fishing      17000 non-null  uint8  \n",
            " 15  occu_Handlers-cleaners    17000 non-null  uint8  \n",
            " 16  occu_Machine-op-inspct    17000 non-null  uint8  \n",
            " 17  occu_Other-service        17000 non-null  uint8  \n",
            " 18  occu_Prof-specialty       17000 non-null  uint8  \n",
            " 19  occu_Protective-serv      17000 non-null  uint8  \n",
            " 20  occu_Sales                17000 non-null  uint8  \n",
            " 21  occu_Tech-support         17000 non-null  uint8  \n",
            " 22  occu_Transport-moving     17000 non-null  uint8  \n",
            " 23  edu_10th                  17000 non-null  uint8  \n",
            " 24  edu_11th                  17000 non-null  uint8  \n",
            " 25  edu_12th                  17000 non-null  uint8  \n",
            " 26  edu_1st-4th               17000 non-null  uint8  \n",
            " 27  edu_5th-6th               17000 non-null  uint8  \n",
            " 28  edu_7th-8th               17000 non-null  uint8  \n",
            " 29  edu_9th                   17000 non-null  uint8  \n",
            " 30  edu_Assoc-acdm            17000 non-null  uint8  \n",
            " 31  edu_Assoc-voc             17000 non-null  uint8  \n",
            " 32  edu_Bachelors             17000 non-null  uint8  \n",
            " 33  edu_HS-grad               17000 non-null  uint8  \n",
            " 34  edu_Masters               17000 non-null  uint8  \n",
            " 35  edu_Prof-school           17000 non-null  uint8  \n",
            " 36  edu_Some-college          17000 non-null  uint8  \n",
            " 37  marry_Divorced            17000 non-null  uint8  \n",
            " 38  marry_Married-civ-spouse  17000 non-null  uint8  \n",
            " 39  marry_Never-married       17000 non-null  uint8  \n",
            " 40  marry_Separated           17000 non-null  uint8  \n",
            " 41  marry_Widowed             17000 non-null  uint8  \n",
            " 42  rela_Husband              17000 non-null  uint8  \n",
            " 43  rela_Not-in-family        17000 non-null  uint8  \n",
            " 44  rela_Other-relative       17000 non-null  uint8  \n",
            " 45  rela_Own-child            17000 non-null  uint8  \n",
            " 46  rela_Unmarried            17000 non-null  uint8  \n",
            " 47  rela_Wife                 17000 non-null  uint8  \n",
            " 48  sex_cate                  17000 non-null  int64  \n",
            " 49  race_cate                 17000 non-null  int64  \n",
            " 50  native                    17000 non-null  int64  \n",
            " 51  age_cate                  17000 non-null  int64  \n",
            "dtypes: float64(1), int64(6), uint8(45)\n",
            "memory usage: 2.4 MB\n"
          ],
          "name": "stdout"
        }
      ]
    },
    {
      "cell_type": "code",
      "metadata": {
        "colab": {
          "base_uri": "https://localhost:8080/"
        },
        "id": "RBIlB9KzOgol",
        "outputId": "722670d9-5572-4fd0-abad-f33a2d13bc49"
      },
      "source": [
        "train_df = df[df['index'] <= 11900].copy()   #문제 답안 다 가지고 있음 -> 따라서 기존처럼 X[\"Serv]=y이런식으로 할 필요 없음\r\n",
        "test_df = df[df['index'] > 11900] #답안만 가지고 있음\r\n",
        "# /iloc으로 자르면  y_test 결측치를 람다식에서 NaN을 0으로 채워버리게 되어서 iloc으로 자르지 않고 passengerId로 자름\r\n",
        "\r\n",
        "train_df.drop(\"index\", axis=1, inplace=True)\r\n",
        "test_df.drop(\"index\", axis=1, inplace=True) #PassengerId는 Index로 두면 됨(위에서 잘랐으므로 drop해도 상관 없음)\r\n",
        "\r\n",
        "X_train = train_df.drop(\"Y\", axis=1)\r\n",
        "y_train = train_df[\"Y\"]\r\n",
        "X_test = test_df.drop(\"Y\", axis=1)\r\n",
        "\r\n",
        "print(X_train.shape, y_train.shape, X_test.shape)\r\n",
        "print(X_train.head())\r\n",
        "print(X_test.head())"
      ],
      "execution_count": 297,
      "outputs": [
        {
          "output_type": "stream",
          "text": [
            "(11901, 50) (11901,) (5099, 50)\n",
            "    education-num  work_?  work_Federal-gov  ...  race_cate  native  age_cate\n",
            "0              10       0                 0  ...          0       0         1\n",
            "2              13       0                 0  ...          0       0         0\n",
            "3               9       0                 0  ...          0       0         0\n",
            "6              10       0                 0  ...          0       0         6\n",
            "10             10       1                 0  ...          0       0         0\n",
            "\n",
            "[5 rows x 50 columns]\n",
            "   education-num  work_?  work_Federal-gov  ...  race_cate  native  age_cate\n",
            "1              9       0                 0  ...          0       0         3\n",
            "4             10       0                 0  ...          0       0         6\n",
            "5             10       0                 0  ...          0       0         2\n",
            "7              9       0                 0  ...          1       0         0\n",
            "8             14       0                 0  ...          0       0         6\n",
            "\n",
            "[5 rows x 50 columns]\n"
          ],
          "name": "stdout"
        }
      ]
    },
    {
      "cell_type": "code",
      "metadata": {
        "colab": {
          "base_uri": "https://localhost:8080/",
          "height": 409
        },
        "id": "jGxGiqi83c_b",
        "outputId": "98d7019c-16f8-436c-84c4-d99cd0589d8f"
      },
      "source": [
        "#상관분석\r\n",
        "idx = df.corr().nlargest(5, 'Y')['Y'].index\r\n",
        "print(idx)\r\n",
        "sns.heatmap(df[idx].corr(), annot=True, fmt='.2g', cmap='YlGnBu', xticklabels = cols.values, yticklabels = cols.values)\r\n",
        "\r\n",
        "def CHART_HEATMAP(df,targetClass, topn=0):\r\n",
        "    plt.figure(figsize=(10,6))\r\n",
        "    if topn>0 :\r\n",
        "        idx = df.corr().nlargest(topn, targetClass).index\r\n",
        "        print(idx)\r\n",
        "        sns.heatmap(df[idx].corr(), annot=True,  fmt=\".2g\", cmap=\"Blues\")\r\n",
        "    elif topn<0 :\r\n",
        "        idx = df.corr().nsmallest(-1*topn, targetClass).index\r\n",
        "        print(idx)\r\n",
        "        sns.heatmap(df[idx].corr(), annot=True, fmt=\".2g\", cmap=\"Blues\")\r\n",
        "        # class_idx = df[\"Class\"].index "
      ],
      "execution_count": 284,
      "outputs": [
        {
          "output_type": "stream",
          "text": [
            "Index(['Y', 'marry_Married-civ-spouse', 'rela_Husband', 'education-num',\n",
            "       'sex_cate'],\n",
            "      dtype='object')\n"
          ],
          "name": "stdout"
        },
        {
          "output_type": "display_data",
          "data": {
            "image/png": "[encoded data removed]",
            "text/plain": [
              "<Figure size 432x288 with 2 Axes>"
            ]
          },
          "metadata": {
            "tags": [],
            "needs_background": "light"
          }
        }
      ]
    },
    {
      "cell_type": "code",
      "metadata": {
        "id": "7ehWvMvpDGEf"
      },
      "source": [
        "def SPLIT_FIT_PREDICT(model, X, y, str=None, rate=0.2, prc=False, roc=False) :\r\n",
        "    X_train ,X_test , y_train, y_test = train_test_split(X, y, test_size=rate, random_state=121)\r\n",
        "    model.fit(X_train, y_train)\r\n",
        "    pred = model.predict(X_test)\r\n",
        "    proba = model.predict_proba(X_test)\r\n",
        "    auc = roc_auc_score(y_test, proba[:, 1].reshape(-1, 1))\r\n",
        "    SCORES(y_test, pred, proba, str)\r\n",
        "\r\n",
        "    if prc == True: #일반적으로 그리지 말고 true면 그려라\r\n",
        "        CHART_PRECISION_RECALL_CURV(y_test, proba)\r\n",
        "    if roc == True:\r\n",
        "        CHART_ROC_CURV(y_test, proba, auc)\r\n",
        "    return X_train, X_test, y_train, y_test   # pred, proba\r\n",
        "\r\n",
        "# rf_model = RandomForestClassifier()\r\n",
        "# SPLIT_FIT_PREDICT(rf_model, X, y, str=\"최초점수\", 0.5)\r\n",
        "# SPLIT_FIT_PREDICT(rf_model, X, y)\r\n",
        "\r\n",
        "def SCORES(y_test, pred, proba, str=None) :\r\n",
        "    print(\"------{}-------\".format(str))\r\n",
        "    acc = accuracy_score(y_test, pred)\r\n",
        "    f1 = f1_score(y_test, pred)\r\n",
        "    precision = precision_score(y_test, pred)\r\n",
        "    recall = recall_score(y_test, pred)\r\n",
        "    #auc = roc_auc_score(y_test, pred)\r\n",
        "    auc = roc_auc_score(y_test, proba[:, 1].reshape(-1, 1))\r\n",
        "    print(\"정확도{:.4f}  F1 {:.4f}=(정밀도{:.4f}  재현률{:.4f} auc{:.4f}) \".format(acc, f1, precision, recall, auc))\r\n",
        "    cf_matrix = confusion_matrix(y_test, pred)\r\n",
        "    print(cf_matrix)"
      ],
      "execution_count": 285,
      "outputs": []
    },
    {
      "cell_type": "code",
      "metadata": {
        "id": "Asm9m9MvQ5MI"
      },
      "source": [
        "from sklearn.tree import DecisionTreeClassifier #의사결정트리\r\n",
        "from sklearn.neighbors import KNeighborsClassifier #이웃노드 분류\r\n",
        "from sklearn.metrics import accuracy_score, f1_score, recall_score, precision_score, roc_auc_score  #정확도 평가\r\n",
        "from sklearn.ensemble import RandomForestClassifier #랜덤포레스트"
      ],
      "execution_count": 295,
      "outputs": []
    },
    {
      "cell_type": "code",
      "metadata": {
        "colab": {
          "base_uri": "https://localhost:8080/",
          "height": 412
        },
        "id": "S-tdNwReMi_E",
        "outputId": "de35126c-4dcc-44a0-c41f-7d978ab2595f"
      },
      "source": [
        "dt_model = DecisionTreeClassifier()\r\n",
        "knn_model = KNeighborsClassifier()\r\n",
        "rf_model = RandomForestClassifier()\r\n",
        "\r\n",
        "# models = [dt_model, knn_model, rf_model] #어떤게 잘나오는지 알아보고 싶으면 X_train을 7:3으로 해서 제일 잘나온 모델 선택해서 답안지 내도 됨. 그러나 여기서는 rf_model 쓰겠음\r\n",
        "#fit : 학습하다\r\n",
        "rf_model.fit(X_train, y_train)\r\n",
        "#predict : 시험\r\n",
        "y_pred = rf_model.predict(X_test).astype(np.int32) #정답지는 캐글이 가지고 있으므로 score 낼 수 없음\r\n",
        "print(y_pred)"
      ],
      "execution_count": 298,
      "outputs": [
        {
          "output_type": "error",
          "ename": "ValueError",
          "evalue": "ignored",
          "traceback": [
            "\u001b[0;31m---------------------------------------------------------------------------\u001b[0m",
            "\u001b[0;31mValueError\u001b[0m                                Traceback (most recent call last)",
            "\u001b[0;32m<ipython-input-298-be9ef259c926>\u001b[0m in \u001b[0;36m<module>\u001b[0;34m()\u001b[0m\n\u001b[1;32m      5\u001b[0m \u001b[0;31m# models = [dt_model, knn_model, rf_model] #어떤게 잘나오는지 알아보고 싶으면 X_train을 7:3으로 해서 제일 잘나온 모델 선택해서 답안지 내도 됨. 그러나 여기서는 rf_model 쓰겠음\u001b[0m\u001b[0;34m\u001b[0m\u001b[0;34m\u001b[0m\u001b[0;34m\u001b[0m\u001b[0m\n\u001b[1;32m      6\u001b[0m \u001b[0;31m#fit : 학습하다\u001b[0m\u001b[0;34m\u001b[0m\u001b[0;34m\u001b[0m\u001b[0;34m\u001b[0m\u001b[0m\n\u001b[0;32m----> 7\u001b[0;31m \u001b[0mrf_model\u001b[0m\u001b[0;34m.\u001b[0m\u001b[0mfit\u001b[0m\u001b[0;34m(\u001b[0m\u001b[0mX_train\u001b[0m\u001b[0;34m,\u001b[0m \u001b[0my_train\u001b[0m\u001b[0;34m)\u001b[0m\u001b[0;34m\u001b[0m\u001b[0;34m\u001b[0m\u001b[0m\n\u001b[0m\u001b[1;32m      8\u001b[0m \u001b[0;31m#predict : 시험\u001b[0m\u001b[0;34m\u001b[0m\u001b[0;34m\u001b[0m\u001b[0;34m\u001b[0m\u001b[0m\n\u001b[1;32m      9\u001b[0m \u001b[0my_pred\u001b[0m \u001b[0;34m=\u001b[0m \u001b[0mrf_model\u001b[0m\u001b[0;34m.\u001b[0m\u001b[0mpredict\u001b[0m\u001b[0;34m(\u001b[0m\u001b[0mX_test\u001b[0m\u001b[0;34m)\u001b[0m\u001b[0;34m.\u001b[0m\u001b[0mastype\u001b[0m\u001b[0;34m(\u001b[0m\u001b[0mnp\u001b[0m\u001b[0;34m.\u001b[0m\u001b[0mint32\u001b[0m\u001b[0;34m)\u001b[0m \u001b[0;31m#정답지는 캐글이 가지고 있으므로 score 낼 수 없음\u001b[0m\u001b[0;34m\u001b[0m\u001b[0;34m\u001b[0m\u001b[0m\n",
            "\u001b[0;32m/usr/local/lib/python3.6/dist-packages/sklearn/ensemble/_forest.py\u001b[0m in \u001b[0;36mfit\u001b[0;34m(self, X, y, sample_weight)\u001b[0m\n\u001b[1;32m    294\u001b[0m         \u001b[0;31m# Validate or convert input data\u001b[0m\u001b[0;34m\u001b[0m\u001b[0;34m\u001b[0m\u001b[0;34m\u001b[0m\u001b[0m\n\u001b[1;32m    295\u001b[0m         \u001b[0mX\u001b[0m \u001b[0;34m=\u001b[0m \u001b[0mcheck_array\u001b[0m\u001b[0;34m(\u001b[0m\u001b[0mX\u001b[0m\u001b[0;34m,\u001b[0m \u001b[0maccept_sparse\u001b[0m\u001b[0;34m=\u001b[0m\u001b[0;34m\"csc\"\u001b[0m\u001b[0;34m,\u001b[0m \u001b[0mdtype\u001b[0m\u001b[0;34m=\u001b[0m\u001b[0mDTYPE\u001b[0m\u001b[0;34m)\u001b[0m\u001b[0;34m\u001b[0m\u001b[0;34m\u001b[0m\u001b[0m\n\u001b[0;32m--> 296\u001b[0;31m         \u001b[0my\u001b[0m \u001b[0;34m=\u001b[0m \u001b[0mcheck_array\u001b[0m\u001b[0;34m(\u001b[0m\u001b[0my\u001b[0m\u001b[0;34m,\u001b[0m \u001b[0maccept_sparse\u001b[0m\u001b[0;34m=\u001b[0m\u001b[0;34m'csc'\u001b[0m\u001b[0;34m,\u001b[0m \u001b[0mensure_2d\u001b[0m\u001b[0;34m=\u001b[0m\u001b[0;32mFalse\u001b[0m\u001b[0;34m,\u001b[0m \u001b[0mdtype\u001b[0m\u001b[0;34m=\u001b[0m\u001b[0;32mNone\u001b[0m\u001b[0;34m)\u001b[0m\u001b[0;34m\u001b[0m\u001b[0;34m\u001b[0m\u001b[0m\n\u001b[0m\u001b[1;32m    297\u001b[0m         \u001b[0;32mif\u001b[0m \u001b[0msample_weight\u001b[0m \u001b[0;32mis\u001b[0m \u001b[0;32mnot\u001b[0m \u001b[0;32mNone\u001b[0m\u001b[0;34m:\u001b[0m\u001b[0;34m\u001b[0m\u001b[0;34m\u001b[0m\u001b[0m\n\u001b[1;32m    298\u001b[0m             \u001b[0msample_weight\u001b[0m \u001b[0;34m=\u001b[0m \u001b[0m_check_sample_weight\u001b[0m\u001b[0;34m(\u001b[0m\u001b[0msample_weight\u001b[0m\u001b[0;34m,\u001b[0m \u001b[0mX\u001b[0m\u001b[0;34m)\u001b[0m\u001b[0;34m\u001b[0m\u001b[0;34m\u001b[0m\u001b[0m\n",
            "\u001b[0;32m/usr/local/lib/python3.6/dist-packages/sklearn/utils/validation.py\u001b[0m in \u001b[0;36mcheck_array\u001b[0;34m(array, accept_sparse, accept_large_sparse, dtype, order, copy, force_all_finite, ensure_2d, allow_nd, ensure_min_samples, ensure_min_features, warn_on_dtype, estimator)\u001b[0m\n\u001b[1;32m    576\u001b[0m         \u001b[0;32mif\u001b[0m \u001b[0mforce_all_finite\u001b[0m\u001b[0;34m:\u001b[0m\u001b[0;34m\u001b[0m\u001b[0;34m\u001b[0m\u001b[0m\n\u001b[1;32m    577\u001b[0m             _assert_all_finite(array,\n\u001b[0;32m--> 578\u001b[0;31m                                allow_nan=force_all_finite == 'allow-nan')\n\u001b[0m\u001b[1;32m    579\u001b[0m \u001b[0;34m\u001b[0m\u001b[0m\n\u001b[1;32m    580\u001b[0m     \u001b[0;32mif\u001b[0m \u001b[0mensure_min_samples\u001b[0m \u001b[0;34m>\u001b[0m \u001b[0;36m0\u001b[0m\u001b[0;34m:\u001b[0m\u001b[0;34m\u001b[0m\u001b[0;34m\u001b[0m\u001b[0m\n",
            "\u001b[0;32m/usr/local/lib/python3.6/dist-packages/sklearn/utils/validation.py\u001b[0m in \u001b[0;36m_assert_all_finite\u001b[0;34m(X, allow_nan, msg_dtype)\u001b[0m\n\u001b[1;32m     58\u001b[0m                     \u001b[0mmsg_err\u001b[0m\u001b[0;34m.\u001b[0m\u001b[0mformat\u001b[0m\u001b[0;34m\u001b[0m\u001b[0;34m\u001b[0m\u001b[0m\n\u001b[1;32m     59\u001b[0m                     (type_err,\n\u001b[0;32m---> 60\u001b[0;31m                      msg_dtype if msg_dtype is not None else X.dtype)\n\u001b[0m\u001b[1;32m     61\u001b[0m             )\n\u001b[1;32m     62\u001b[0m     \u001b[0;31m# for object dtype data, we only check for NaNs (GH-13254)\u001b[0m\u001b[0;34m\u001b[0m\u001b[0;34m\u001b[0m\u001b[0;34m\u001b[0m\u001b[0m\n",
            "\u001b[0;31mValueError\u001b[0m: Input contains NaN, infinity or a value too large for dtype('float64')."
          ]
        }
      ]
    },
    {
      "cell_type": "code",
      "metadata": {
        "id": "HGcmGhoYTN5c"
      },
      "source": [
        ""
      ],
      "execution_count": null,
      "outputs": []
    }
  ]
}