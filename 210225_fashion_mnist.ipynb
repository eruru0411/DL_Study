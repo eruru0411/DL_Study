{
  "nbformat": 4,
  "nbformat_minor": 0,
  "metadata": {
    "colab": {
      "name": "210225_fashion_mnist.ipynb",
      "provenance": [],
      "authorship_tag": "ABX9TyNbYiwSVTz0TJX4avSVXscw",
      "include_colab_link": true
    },
    "kernelspec": {
      "name": "python3",
      "display_name": "Python 3"
    }
  },
  "cells": [
    {
      "cell_type": "markdown",
      "metadata": {
        "id": "view-in-github",
        "colab_type": "text"
      },
      "source": [
        "<a href=\"https://colab.research.google.com/github/eruru0411/git-test/blob/master/210225_fashion_mnist.ipynb\" target=\"_parent\"><img src=\"https://colab.research.google.com/assets/colab-badge.svg\" alt=\"Open In Colab\"/></a>"
      ]
    },
    {
      "cell_type": "code",
      "metadata": {
        "id": "txvCq3IS9qJf"
      },
      "source": [
        "from keras.datasets import fashion_mnist\r\n",
        "import numpy as np\r\n",
        "import pandas as pd\r\n",
        "import tensorflow as tf\r\n",
        "import matplotlib.pyplot as plt"
      ],
      "execution_count": null,
      "outputs": []
    },
    {
      "cell_type": "code",
      "metadata": {
        "id": "rnH-16HT9v11"
      },
      "source": [
        "np.random.seed(121)\r\n",
        "tf.random.set_seed(121)\r\n",
        "\r\n",
        "def CHART_PLOT_HISTORY(history):\r\n",
        "    hist = pd.DataFrame(history.history)\r\n",
        "    hist['epoch'] = history.epoch\r\n",
        "\r\n",
        "    plt.figure(figsize=(8,12))\r\n",
        "\r\n",
        "    plt.subplot(2,1,1)\r\n",
        "    plt.xlabel('epoch')\r\n",
        "    plt.ylabel('accuracy')\r\n",
        "    plt.plot(hist['epoch'], hist['accuracy'], label='acc')\r\n",
        "    plt.plot(hist['epoch'], hist['val_accuracy'], label='val_acc')\r\n",
        "    plt.legend()\r\n",
        "\r\n",
        "    plt.subplot(2,1,2)\r\n",
        "    plt.xlabel('epoch')\r\n",
        "    plt.ylabel('loss')\r\n",
        "    plt.plot(hist['epoch'], hist['loss'],    label='loss')\r\n",
        "    plt.plot(hist['epoch'], hist['val_loss'],label='val_loss')\r\n",
        "    plt.legend()\r\n",
        "    plt.show()"
      ],
      "execution_count": null,
      "outputs": []
    },
    {
      "cell_type": "code",
      "metadata": {
        "colab": {
          "base_uri": "https://localhost:8080/"
        },
        "id": "cXtDHkWi9zO4",
        "outputId": "5499a8a9-cd32-49b1-ae79-42d2cb8d19bb"
      },
      "source": [
        "(X_train,y_train),(X_test,y_test) = fashion_mnist.load_data()\r\n",
        "print(X_train.shape, y_train.shape, X_test.shape, y_test.shape) #(60000, 28, 28) (60000,) (10000, 28, 28) (10000,)\r\n",
        "print(X_test, y_test[:2])"
      ],
      "execution_count": null,
      "outputs": [
        {
          "output_type": "stream",
          "text": [
            "(60000, 28, 28) (60000,) (10000, 28, 28) (10000,)\n",
            "[[[0 0 0 ... 0 0 0]\n",
            "  [0 0 0 ... 0 0 0]\n",
            "  [0 0 0 ... 0 0 0]\n",
            "  ...\n",
            "  [0 0 0 ... 0 0 0]\n",
            "  [0 0 0 ... 0 0 0]\n",
            "  [0 0 0 ... 0 0 0]]\n",
            "\n",
            " [[0 0 0 ... 0 0 0]\n",
            "  [0 0 0 ... 0 0 0]\n",
            "  [0 0 0 ... 0 0 0]\n",
            "  ...\n",
            "  [0 0 0 ... 0 0 0]\n",
            "  [0 0 0 ... 0 0 0]\n",
            "  [0 0 0 ... 0 0 0]]\n",
            "\n",
            " [[0 0 0 ... 0 0 0]\n",
            "  [0 0 0 ... 0 0 0]\n",
            "  [0 0 0 ... 0 0 0]\n",
            "  ...\n",
            "  [0 0 0 ... 0 0 0]\n",
            "  [0 0 0 ... 0 0 0]\n",
            "  [0 0 0 ... 0 0 0]]\n",
            "\n",
            " ...\n",
            "\n",
            " [[0 0 0 ... 0 0 0]\n",
            "  [0 0 0 ... 0 0 0]\n",
            "  [0 0 0 ... 0 0 0]\n",
            "  ...\n",
            "  [0 0 0 ... 0 0 0]\n",
            "  [0 0 0 ... 0 0 0]\n",
            "  [0 0 0 ... 0 0 0]]\n",
            "\n",
            " [[0 0 0 ... 0 0 0]\n",
            "  [0 0 0 ... 0 0 0]\n",
            "  [0 0 0 ... 0 0 0]\n",
            "  ...\n",
            "  [0 0 0 ... 0 0 0]\n",
            "  [0 0 0 ... 0 0 0]\n",
            "  [0 0 0 ... 0 0 0]]\n",
            "\n",
            " [[0 0 0 ... 0 0 0]\n",
            "  [0 0 0 ... 0 0 0]\n",
            "  [0 0 0 ... 0 0 0]\n",
            "  ...\n",
            "  [0 0 0 ... 0 0 0]\n",
            "  [0 0 0 ... 0 0 0]\n",
            "  [0 0 0 ... 0 0 0]]] [9 2]\n"
          ],
          "name": "stdout"
        }
      ]
    },
    {
      "cell_type": "code",
      "metadata": {
        "colab": {
          "base_uri": "https://localhost:8080/"
        },
        "id": "rNTas85L3SZz",
        "outputId": "577b9398-ebca-46e5-aca4-ecf205545a82"
      },
      "source": [
        "print(np.unique(y_train))"
      ],
      "execution_count": null,
      "outputs": [
        {
          "output_type": "stream",
          "text": [
            "[0 1 2 3 4 5 6 7 8 9]\n"
          ],
          "name": "stdout"
        }
      ]
    },
    {
      "cell_type": "code",
      "metadata": {
        "colab": {
          "base_uri": "https://localhost:8080/",
          "height": 283
        },
        "id": "H-yLrqSD91Gb",
        "outputId": "986c0bea-63f4-4828-cd40-2b35d6b8581c"
      },
      "source": [
        "plt.imshow(X_train[0]) #한장만 보겠음\r\n",
        "plt.show()\r\n",
        "print(y_train[0]) #첫번째 사진 정답 출력"
      ],
      "execution_count": null,
      "outputs": [
        {
          "output_type": "display_data",
          "data": {
            "image/png": "[encoded data removed]",
            "text/plain": [
              "<Figure size 432x288 with 1 Axes>"
            ]
          },
          "metadata": {
            "tags": [],
            "needs_background": "light"
          }
        },
        {
          "output_type": "stream",
          "text": [
            "9\n"
          ],
          "name": "stdout"
        }
      ]
    },
    {
      "cell_type": "code",
      "metadata": {
        "colab": {
          "base_uri": "https://localhost:8080/"
        },
        "id": "mRObdVe6WKGJ",
        "outputId": "326b82bb-78b5-48f7-9ea5-ecb043de4cd7"
      },
      "source": [
        "pd.value_counts(y_train)\r\n",
        "\r\n",
        "#이미지에서의 데이터 증강법 : image augmentation 사용\r\n",
        "#테스트 데이터는 증강 시키면 절대 안됨!"
      ],
      "execution_count": null,
      "outputs": [
        {
          "output_type": "execute_result",
          "data": {
            "text/plain": [
              "9    6000\n",
              "8    6000\n",
              "7    6000\n",
              "6    6000\n",
              "5    6000\n",
              "4    6000\n",
              "3    6000\n",
              "2    6000\n",
              "1    6000\n",
              "0    6000\n",
              "dtype: int64"
            ]
          },
          "metadata": {
            "tags": []
          },
          "execution_count": 62
        }
      ]
    },
    {
      "cell_type": "code",
      "metadata": {
        "id": "PPHJgdYpGFEs"
      },
      "source": [
        "#튜플로 저장\r\n",
        "item = {\r\n",
        "      0: 'T-shirt/top'\r\n",
        "    , 1: 'Trouser'\r\n",
        "    , 2: 'Pullover'\r\n",
        "    , 3: 'Dress'\r\n",
        "    , 4: 'Coat'\r\n",
        "    , 5: 'Sandal'\r\n",
        "    , 6: 'Shirt'\r\n",
        "    , 7: 'Sneaker'\r\n",
        "    , 8: 'Bag'\r\n",
        "    , 9: 'Ankle boot'\r\n",
        "}"
      ],
      "execution_count": null,
      "outputs": []
    },
    {
      "cell_type": "code",
      "metadata": {
        "colab": {
          "base_uri": "https://localhost:8080/"
        },
        "id": "eeKKyMVU958I",
        "outputId": "19302ce9-d63b-4470-e6dc-0232bc442661"
      },
      "source": [
        "from keras.models import Sequential\r\n",
        "from keras.layers import Dense, Conv2D, MaxPool2D, Flatten\r\n",
        "\r\n",
        "#(60000, 28, 28) (60000,)\r\n",
        "X_train = X_train.reshape(X_train.shape[0], 28,28,1) / 255\r\n",
        "X_test = X_test.reshape(X_test.shape[0], 28,28,1) / 255 \r\n",
        "\r\n",
        "model = Sequential()\r\n",
        "model.add(Conv2D(filters=20, kernel_size=(4,4), input_shape=(28,28,1), activation='relu'))\r\n",
        "model.add(MaxPool2D(pool_size=(2,2)))\r\n",
        "model.add(Conv2D(filters=40, kernel_size=(2,2), activation='relu'))\r\n",
        "model.add(MaxPool2D(pool_size=(2,2)))\r\n",
        "\r\n",
        "model.add(Flatten())\r\n",
        "model.add(Dense(64, activation='relu'))\r\n",
        "model.add(Dense(10, activation='softmax'))\r\n",
        "\r\n",
        "from keras.callbacks import EarlyStopping\r\n",
        "early_stop = EarlyStopping(monitor='val_loss', patience=10)\r\n",
        "\r\n",
        "model.compile(optimizer='adam', loss='sparse_categorical_crossentropy', metrics=['accuracy'])\r\n",
        "\r\n",
        "history = model.fit(X_train, y_train, epochs=100, batch_size=500, validation_data=(X_test,y_test), callbacks=[early_stop]) #공모전에서는 train으로 나눈파일 넣고 테스트는 predict에 따로 하기"
      ],
      "execution_count": null,
      "outputs": [
        {
          "output_type": "stream",
          "text": [
            "Epoch 1/100\n",
            "120/120 [==============================] - 22s 181ms/step - loss: 1.3457 - accuracy: 0.5641 - val_loss: 0.5766 - val_accuracy: 0.7851\n",
            "Epoch 2/100\n",
            "120/120 [==============================] - 22s 180ms/step - loss: 0.5310 - accuracy: 0.8028 - val_loss: 0.4855 - val_accuracy: 0.8276\n",
            "Epoch 3/100\n",
            "120/120 [==============================] - 22s 181ms/step - loss: 0.4674 - accuracy: 0.8280 - val_loss: 0.4525 - val_accuracy: 0.8394\n",
            "Epoch 4/100\n",
            "120/120 [==============================] - 22s 180ms/step - loss: 0.4229 - accuracy: 0.8479 - val_loss: 0.4357 - val_accuracy: 0.8434\n",
            "Epoch 5/100\n",
            "120/120 [==============================] - 22s 180ms/step - loss: 0.3830 - accuracy: 0.8609 - val_loss: 0.4090 - val_accuracy: 0.8508\n",
            "Epoch 6/100\n",
            "120/120 [==============================] - 22s 181ms/step - loss: 0.3701 - accuracy: 0.8661 - val_loss: 0.3995 - val_accuracy: 0.8554\n",
            "Epoch 7/100\n",
            "120/120 [==============================] - 22s 181ms/step - loss: 0.3523 - accuracy: 0.8731 - val_loss: 0.3707 - val_accuracy: 0.8672\n",
            "Epoch 8/100\n",
            "120/120 [==============================] - 22s 181ms/step - loss: 0.3408 - accuracy: 0.8774 - val_loss: 0.3675 - val_accuracy: 0.8663\n",
            "Epoch 9/100\n",
            "120/120 [==============================] - 22s 181ms/step - loss: 0.3302 - accuracy: 0.8816 - val_loss: 0.3756 - val_accuracy: 0.8660\n",
            "Epoch 10/100\n",
            "120/120 [==============================] - 22s 181ms/step - loss: 0.3239 - accuracy: 0.8848 - val_loss: 0.3581 - val_accuracy: 0.8699\n",
            "Epoch 11/100\n",
            "120/120 [==============================] - 22s 181ms/step - loss: 0.3083 - accuracy: 0.8886 - val_loss: 0.3469 - val_accuracy: 0.8762\n",
            "Epoch 12/100\n",
            "120/120 [==============================] - 22s 182ms/step - loss: 0.3061 - accuracy: 0.8888 - val_loss: 0.3502 - val_accuracy: 0.8730\n",
            "Epoch 13/100\n",
            "120/120 [==============================] - 22s 182ms/step - loss: 0.2953 - accuracy: 0.8925 - val_loss: 0.3351 - val_accuracy: 0.8796\n",
            "Epoch 14/100\n",
            "120/120 [==============================] - 22s 181ms/step - loss: 0.2870 - accuracy: 0.8961 - val_loss: 0.3559 - val_accuracy: 0.8690\n",
            "Epoch 15/100\n",
            "120/120 [==============================] - 22s 181ms/step - loss: 0.2794 - accuracy: 0.8980 - val_loss: 0.3319 - val_accuracy: 0.8814\n",
            "Epoch 16/100\n",
            "120/120 [==============================] - 22s 181ms/step - loss: 0.2780 - accuracy: 0.8978 - val_loss: 0.3400 - val_accuracy: 0.8750\n",
            "Epoch 17/100\n",
            "120/120 [==============================] - 22s 181ms/step - loss: 0.2804 - accuracy: 0.8978 - val_loss: 0.3215 - val_accuracy: 0.8843\n",
            "Epoch 18/100\n",
            "120/120 [==============================] - 22s 181ms/step - loss: 0.2661 - accuracy: 0.9046 - val_loss: 0.3259 - val_accuracy: 0.8848\n",
            "Epoch 19/100\n",
            "120/120 [==============================] - 22s 181ms/step - loss: 0.2677 - accuracy: 0.9023 - val_loss: 0.3175 - val_accuracy: 0.8845\n",
            "Epoch 20/100\n",
            "120/120 [==============================] - 22s 181ms/step - loss: 0.2572 - accuracy: 0.9061 - val_loss: 0.3171 - val_accuracy: 0.8857\n",
            "Epoch 21/100\n",
            "120/120 [==============================] - 22s 181ms/step - loss: 0.2515 - accuracy: 0.9080 - val_loss: 0.3170 - val_accuracy: 0.8854\n",
            "Epoch 22/100\n",
            "120/120 [==============================] - 22s 182ms/step - loss: 0.2484 - accuracy: 0.9081 - val_loss: 0.3130 - val_accuracy: 0.8875\n",
            "Epoch 23/100\n",
            "120/120 [==============================] - 22s 181ms/step - loss: 0.2442 - accuracy: 0.9105 - val_loss: 0.3046 - val_accuracy: 0.8917\n",
            "Epoch 24/100\n",
            "120/120 [==============================] - 22s 181ms/step - loss: 0.2379 - accuracy: 0.9130 - val_loss: 0.3182 - val_accuracy: 0.8878\n",
            "Epoch 25/100\n",
            "120/120 [==============================] - 22s 181ms/step - loss: 0.2381 - accuracy: 0.9122 - val_loss: 0.3051 - val_accuracy: 0.8903\n",
            "Epoch 26/100\n",
            "120/120 [==============================] - 22s 182ms/step - loss: 0.2367 - accuracy: 0.9129 - val_loss: 0.3060 - val_accuracy: 0.8907\n",
            "Epoch 27/100\n",
            "120/120 [==============================] - 22s 182ms/step - loss: 0.2263 - accuracy: 0.9174 - val_loss: 0.2976 - val_accuracy: 0.8925\n",
            "Epoch 28/100\n",
            "120/120 [==============================] - 22s 182ms/step - loss: 0.2228 - accuracy: 0.9180 - val_loss: 0.2918 - val_accuracy: 0.8960\n",
            "Epoch 29/100\n",
            "120/120 [==============================] - 22s 181ms/step - loss: 0.2178 - accuracy: 0.9213 - val_loss: 0.2962 - val_accuracy: 0.8915\n",
            "Epoch 30/100\n",
            "120/120 [==============================] - 22s 181ms/step - loss: 0.2175 - accuracy: 0.9203 - val_loss: 0.2886 - val_accuracy: 0.8965\n",
            "Epoch 31/100\n",
            "120/120 [==============================] - 22s 182ms/step - loss: 0.2100 - accuracy: 0.9221 - val_loss: 0.2849 - val_accuracy: 0.8981\n",
            "Epoch 32/100\n",
            "120/120 [==============================] - 22s 181ms/step - loss: 0.2133 - accuracy: 0.9204 - val_loss: 0.2947 - val_accuracy: 0.8948\n",
            "Epoch 33/100\n",
            "120/120 [==============================] - 22s 181ms/step - loss: 0.2038 - accuracy: 0.9241 - val_loss: 0.2873 - val_accuracy: 0.8978\n",
            "Epoch 34/100\n",
            "120/120 [==============================] - 22s 182ms/step - loss: 0.1996 - accuracy: 0.9260 - val_loss: 0.2884 - val_accuracy: 0.8985\n",
            "Epoch 35/100\n",
            "120/120 [==============================] - 22s 182ms/step - loss: 0.2005 - accuracy: 0.9249 - val_loss: 0.2891 - val_accuracy: 0.8959\n",
            "Epoch 36/100\n",
            "120/120 [==============================] - 22s 182ms/step - loss: 0.1914 - accuracy: 0.9298 - val_loss: 0.2910 - val_accuracy: 0.8988\n",
            "Epoch 37/100\n",
            "120/120 [==============================] - 22s 181ms/step - loss: 0.1925 - accuracy: 0.9290 - val_loss: 0.2803 - val_accuracy: 0.9004\n",
            "Epoch 38/100\n",
            "120/120 [==============================] - 22s 181ms/step - loss: 0.1841 - accuracy: 0.9326 - val_loss: 0.2809 - val_accuracy: 0.8998\n",
            "Epoch 39/100\n",
            "120/120 [==============================] - 22s 182ms/step - loss: 0.1857 - accuracy: 0.9312 - val_loss: 0.2843 - val_accuracy: 0.8993\n",
            "Epoch 40/100\n",
            "120/120 [==============================] - 22s 181ms/step - loss: 0.1806 - accuracy: 0.9336 - val_loss: 0.2879 - val_accuracy: 0.8995\n",
            "Epoch 41/100\n",
            "120/120 [==============================] - 22s 182ms/step - loss: 0.1775 - accuracy: 0.9334 - val_loss: 0.2836 - val_accuracy: 0.9010\n",
            "Epoch 42/100\n",
            "120/120 [==============================] - 22s 182ms/step - loss: 0.1799 - accuracy: 0.9327 - val_loss: 0.2929 - val_accuracy: 0.8988\n",
            "Epoch 43/100\n",
            "120/120 [==============================] - 22s 181ms/step - loss: 0.1737 - accuracy: 0.9360 - val_loss: 0.2810 - val_accuracy: 0.9001\n",
            "Epoch 44/100\n",
            "120/120 [==============================] - 22s 182ms/step - loss: 0.1683 - accuracy: 0.9368 - val_loss: 0.2930 - val_accuracy: 0.8993\n",
            "Epoch 45/100\n",
            "120/120 [==============================] - 22s 181ms/step - loss: 0.1655 - accuracy: 0.9403 - val_loss: 0.2805 - val_accuracy: 0.9022\n",
            "Epoch 46/100\n",
            "120/120 [==============================] - 22s 181ms/step - loss: 0.1661 - accuracy: 0.9387 - val_loss: 0.2860 - val_accuracy: 0.9021\n",
            "Epoch 47/100\n",
            "120/120 [==============================] - 22s 181ms/step - loss: 0.1678 - accuracy: 0.9383 - val_loss: 0.2859 - val_accuracy: 0.9042\n"
          ],
          "name": "stdout"
        }
      ]
    },
    {
      "cell_type": "code",
      "metadata": {
        "colab": {
          "base_uri": "https://localhost:8080/"
        },
        "id": "WRCVt2wk_bws",
        "outputId": "a68e66c3-f604-48bc-f5d1-be377dc521dd"
      },
      "source": [
        "print('acc: {:.4f}, loss:{:.4f}'.format(model.evaluate(X_test, y_test)[1], model.evaluate(X_test, y_test)[0]))"
      ],
      "execution_count": null,
      "outputs": [
        {
          "output_type": "stream",
          "text": [
            "313/313 [==============================] - 2s 6ms/step - loss: 0.2859 - accuracy: 0.9042\n",
            "313/313 [==============================] - 2s 6ms/step - loss: 0.2859 - accuracy: 0.9042\n",
            "acc: 0.9042, loss:0.2859\n"
          ],
          "name": "stdout"
        }
      ]
    },
    {
      "cell_type": "code",
      "metadata": {
        "colab": {
          "base_uri": "https://localhost:8080/",
          "height": 718
        },
        "id": "L0ptHx-m98-k",
        "outputId": "c9c722df-ae2a-4d82-d534-b0405f3f4150"
      },
      "source": [
        "CHART_PLOT_HISTORY(history)"
      ],
      "execution_count": null,
      "outputs": [
        {
          "output_type": "display_data",
          "data": {
            "image/png": "[encoded data removed]",
            "text/plain": [
              "<Figure size 576x864 with 2 Axes>"
            ]
          },
          "metadata": {
            "tags": [],
            "needs_background": "light"
          }
        }
      ]
    },
    {
      "cell_type": "code",
      "metadata": {
        "colab": {
          "base_uri": "https://localhost:8080/"
        },
        "id": "iQ84ynp0IF_u",
        "outputId": "72102361-41e8-4bba-e739-4dfc3bb2a1fc"
      },
      "source": [
        "#onehotencoding 후 다시 돌리기\r\n",
        "from keras.utils import to_categorical\r\n",
        "y_test = to_categorical(y_test)\r\n",
        "y_train = to_categorical(y_train)\r\n",
        "\r\n",
        "model.compile(optimizer='adam', loss='categorical_crossentropy', metrics=['accuracy'])\r\n",
        "\r\n",
        "history = model.fit(X_train, y_train, epochs=100, batch_size=500, validation_data=(X_test,y_test), callbacks=[early_stop])"
      ],
      "execution_count": null,
      "outputs": [
        {
          "output_type": "stream",
          "text": [
            "Epoch 1/100\n",
            "120/120 [==============================] - 22s 182ms/step - loss: 0.1661 - accuracy: 0.9392 - val_loss: 0.2926 - val_accuracy: 0.9035\n",
            "Epoch 2/100\n",
            "120/120 [==============================] - 22s 182ms/step - loss: 0.1568 - accuracy: 0.9418 - val_loss: 0.2861 - val_accuracy: 0.9020\n",
            "Epoch 3/100\n",
            "120/120 [==============================] - 22s 181ms/step - loss: 0.1573 - accuracy: 0.9425 - val_loss: 0.2933 - val_accuracy: 0.9013\n",
            "Epoch 4/100\n",
            "120/120 [==============================] - 22s 181ms/step - loss: 0.1509 - accuracy: 0.9445 - val_loss: 0.3065 - val_accuracy: 0.8952\n",
            "Epoch 5/100\n",
            "120/120 [==============================] - 22s 182ms/step - loss: 0.1518 - accuracy: 0.9445 - val_loss: 0.2887 - val_accuracy: 0.9025\n",
            "Epoch 6/100\n",
            "120/120 [==============================] - 22s 182ms/step - loss: 0.1458 - accuracy: 0.9462 - val_loss: 0.3012 - val_accuracy: 0.9018\n",
            "Epoch 7/100\n",
            "120/120 [==============================] - 22s 182ms/step - loss: 0.1457 - accuracy: 0.9458 - val_loss: 0.3092 - val_accuracy: 0.8970\n",
            "Epoch 8/100\n",
            "120/120 [==============================] - 22s 181ms/step - loss: 0.1433 - accuracy: 0.9474 - val_loss: 0.2970 - val_accuracy: 0.9028\n",
            "Epoch 9/100\n",
            "120/120 [==============================] - 22s 181ms/step - loss: 0.1400 - accuracy: 0.9481 - val_loss: 0.3029 - val_accuracy: 0.9028\n",
            "Epoch 10/100\n",
            "120/120 [==============================] - 22s 182ms/step - loss: 0.1344 - accuracy: 0.9515 - val_loss: 0.3049 - val_accuracy: 0.9014\n",
            "Epoch 11/100\n",
            "120/120 [==============================] - 22s 182ms/step - loss: 0.1330 - accuracy: 0.9515 - val_loss: 0.3043 - val_accuracy: 0.8989\n",
            "Epoch 12/100\n",
            "120/120 [==============================] - 22s 181ms/step - loss: 0.1341 - accuracy: 0.9511 - val_loss: 0.2989 - val_accuracy: 0.9036\n"
          ],
          "name": "stdout"
        }
      ]
    },
    {
      "cell_type": "code",
      "metadata": {
        "colab": {
          "base_uri": "https://localhost:8080/"
        },
        "id": "MVkQ-QWvIbyt",
        "outputId": "269bebe4-c0fa-43c0-f64e-a9651be982d1"
      },
      "source": [
        "print('acc: {:.4f}, loss:{:.4f}'.format(model.evaluate(X_test, y_test)[1], model.evaluate(X_test, y_test)[0]))"
      ],
      "execution_count": null,
      "outputs": [
        {
          "output_type": "stream",
          "text": [
            "313/313 [==============================] - 2s 6ms/step - loss: 0.2989 - accuracy: 0.9036\n",
            "313/313 [==============================] - 2s 6ms/step - loss: 0.2989 - accuracy: 0.9036\n",
            "acc: 0.9036, loss:0.2989\n"
          ],
          "name": "stdout"
        }
      ]
    },
    {
      "cell_type": "code",
      "metadata": {
        "colab": {
          "base_uri": "https://localhost:8080/",
          "height": 714
        },
        "id": "6HDQzyRYIfHF",
        "outputId": "97ce438f-1811-4fe1-8343-4329d56fdbd7"
      },
      "source": [
        "CHART_PLOT_HISTORY(history)"
      ],
      "execution_count": null,
      "outputs": [
        {
          "output_type": "display_data",
          "data": {
            "image/png": "[encoded data removed]",
            "text/plain": [
              "<Figure size 576x864 with 2 Axes>"
            ]
          },
          "metadata": {
            "tags": [],
            "needs_background": "light"
          }
        }
      ]
    },
    {
      "cell_type": "code",
      "metadata": {
        "id": "2is2VJzAIgn_"
      },
      "source": [
        ""
      ],
      "execution_count": null,
      "outputs": []
    }
  ]
}