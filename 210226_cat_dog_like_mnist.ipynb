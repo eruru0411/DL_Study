{
  "nbformat": 4,
  "nbformat_minor": 0,
  "metadata": {
    "colab": {
      "name": "210226_cat_dog_like_mnist.ipynb",
      "provenance": [],
      "machine_shape": "hm",
      "authorship_tag": "ABX9TyM3v0mYOTBsI8RhmIx5spap",
      "include_colab_link": true
    },
    "kernelspec": {
      "display_name": "Python 3",
      "name": "python3"
    }
  },
  "cells": [
    {
      "cell_type": "markdown",
      "metadata": {
        "id": "view-in-github",
        "colab_type": "text"
      },
      "source": [
        "<a href=\"https://colab.research.google.com/github/eruru0411/git-test/blob/master/210226_cat_dog_like_mnist.ipynb\" target=\"_parent\"><img src=\"https://colab.research.google.com/assets/colab-badge.svg\" alt=\"Open In Colab\"/></a>"
      ]
    },
    {
      "cell_type": "code",
      "metadata": {
        "colab": {
          "base_uri": "https://localhost:8080/"
        },
        "id": "gymlpWA8flZV",
        "outputId": "9e20cf42-7fa1-4e1c-b2eb-40ff0501fd16"
      },
      "source": [
        "from google.colab import drive\r\n",
        "drive.mount('/content/drive')\r\n",
        "colab_path = '/content/drive/MyDrive/Colab Notebooks/data/cat_dog_2/datasets/'"
      ],
      "execution_count": null,
      "outputs": [
        {
          "output_type": "stream",
          "text": [
            "Drive already mounted at /content/drive; to attempt to forcibly remount, call drive.mount(\"/content/drive\", force_remount=True).\n"
          ],
          "name": "stdout"
        }
      ]
    },
    {
      "cell_type": "code",
      "metadata": {
        "id": "iOmRTL3RhY57"
      },
      "source": [
        "from keras.datasets import mnist\r\n",
        "import numpy as np\r\n",
        "import pandas as pd\r\n",
        "import matplotlib.pyplot as plt\r\n",
        "import tensorflow as tf\r\n",
        "from keras.models import Sequential\r\n",
        "from keras.layers import Dense, Conv2D, MaxPool2D, Flatten\r\n",
        "\r\n",
        "import os \r\n",
        "from keras.preprocessing.image import load_img, img_to_array, ImageDataGenerator\r\n",
        "\r\n",
        "np.random.seed(121)\r\n",
        "tf.random.set_seed(121)\r\n",
        "\r\n",
        "import warnings\r\n",
        "warnings.filterwarnings(action='ignore')\r\n",
        "\r\n",
        "os.environ['TF_CPP_MIN_LOG_LEVEL'] = '2'"
      ],
      "execution_count": null,
      "outputs": []
    },
    {
      "cell_type": "code",
      "metadata": {
        "id": "jpNdXjfXiCXJ"
      },
      "source": [
        "def CHART_PLOT_HISTORY(history):\r\n",
        "    hist = pd.DataFrame(history.history)\r\n",
        "    hist['epoch'] = history.epoch\r\n",
        "\r\n",
        "    plt.figure(figsize=(8,12))\r\n",
        "\r\n",
        "    plt.subplot(2,1,1)\r\n",
        "    plt.xlabel('epoch')\r\n",
        "    plt.ylabel('accuracy')\r\n",
        "    plt.plot(hist['epoch'], hist['accuracy'],    label='acc')\r\n",
        "    plt.plot(hist['epoch'], hist['val_accuracy'],label = 'val_acc')\r\n",
        "    plt.legend()\r\n",
        "\r\n",
        "    plt.subplot(2,1,2)\r\n",
        "    plt.xlabel('epoch')\r\n",
        "    plt.ylabel('loss')\r\n",
        "    plt.plot(hist['epoch'], hist['loss'],    label='loss')\r\n",
        "    plt.plot(hist['epoch'], hist['val_loss'],label = 'val_loss')\r\n",
        "    plt.legend()\r\n",
        "    plt.show()"
      ],
      "execution_count": null,
      "outputs": []
    },
    {
      "cell_type": "markdown",
      "metadata": {
        "id": "WxpoOOSdirYO"
      },
      "source": [
        "### 데이터 불러오기"
      ]
    },
    {
      "cell_type": "code",
      "metadata": {
        "colab": {
          "background_save": true
        },
        "id": "l3eE9Merhbf1"
      },
      "source": [
        "import zipfile\r\n",
        "\r\n",
        "zip_file = zipfile.ZipFile(colab_path + 'train.zip')\r\n",
        "zip_file.extractall(colab_path + 'train/')"
      ],
      "execution_count": null,
      "outputs": []
    },
    {
      "cell_type": "code",
      "metadata": {
        "id": "7caDFw1bg6Hi"
      },
      "source": [
        "train_file_list = os.listdir(colab_path + \"train\")\r\n",
        "print(\"train img:\", len(train_file_list))\r\n",
        "\r\n",
        "test_file_list = os.listdir(colab_path + \"test\")\r\n",
        "print(\"test img:\", len(test_file_list))"
      ],
      "execution_count": null,
      "outputs": []
    },
    {
      "cell_type": "markdown",
      "metadata": {
        "id": "GoWXp52risbb"
      },
      "source": [
        "### sampling"
      ]
    },
    {
      "cell_type": "code",
      "metadata": {
        "id": "Iaz9yNneimLs"
      },
      "source": [
        "EPOCH = 35\r\n",
        "BATCH = 250\r\n",
        "\r\n",
        "# train_file_sampling = train_file_list[:1000] + train_file_list[-1000: ]\r\n",
        "# del train_file_list\r\n",
        "# train_file_list = train_file_sampling\r\n",
        "#\r\n",
        "# test_file_sampling = test_file_list[:200]\r\n",
        "# del test_file_list\r\n",
        "# test_file_list = test_file_sampling\r\n"
      ],
      "execution_count": null,
      "outputs": []
    },
    {
      "cell_type": "markdown",
      "metadata": {
        "id": "yzz7GX98jWfi"
      },
      "source": [
        "### train 이미지 배열화"
      ]
    },
    {
      "cell_type": "code",
      "metadata": {
        "id": "zdZPWxRVjT8b"
      },
      "source": [
        "img_arr_list = []\r\n",
        "label_list = []\r\n",
        "for fname in train_file_list:\r\n",
        "    path = os.path.join('./dataset/train/'+fname)\r\n",
        "    img_object = load_img(path, target_size=(128,128))\r\n",
        "    img_arr = img_to_array(img_object) / 255.0\r\n",
        "    img_arr_list.append(img_arr)\r\n",
        "    if fname.split(\".\")[0] == 'cat':\r\n",
        "        label_list.append(0)   #cat.1.jpg\r\n",
        "    else :\r\n",
        "        label_list.append(1)  # dog.1.jpg\r\n",
        "# X_train : (60000, 28(W), 28(H), 1(Channel))\r\n",
        "print(np.array(img_arr_list).shape)   #(2000, 128, 128, 3)\r\n",
        "print(np.array(label_list).shape)     #(2000,)\r\n",
        "\r\n",
        "X = np.array(img_arr_list)\r\n",
        "y = np.array(label_list)"
      ],
      "execution_count": null,
      "outputs": []
    },
    {
      "cell_type": "markdown",
      "metadata": {
        "id": "MC7m_vfRjblN"
      },
      "source": [
        "### train 8:2"
      ]
    },
    {
      "cell_type": "code",
      "metadata": {
        "id": "0SIMOgoXjaaY"
      },
      "source": [
        "train_idx = np.round(len(train_file_list)*0.8,decimals=0)\r\n",
        "test_idx  = np.round(len(test_file_list)*0.8,decimals=0)\r\n",
        "X_train = X[:train_idx]\r\n",
        "X_val   = X[train_idx:]\r\n",
        "y_train = y[:test_idx]\r\n",
        "y_val   = y[test_idx:]"
      ],
      "execution_count": null,
      "outputs": []
    },
    {
      "cell_type": "markdown",
      "metadata": {
        "id": "7agyixtgjz9X"
      },
      "source": [
        "### test 이미지 배열화"
      ]
    },
    {
      "cell_type": "code",
      "metadata": {
        "id": "3qC75syMjyWu"
      },
      "source": [
        "img_arr_list = []\r\n",
        "for fname in test_file_list:\r\n",
        "    path = os.path.join('./dataset/test/'+fname)\r\n",
        "    img_object = load_img(path, target_size=(128,128))\r\n",
        "    img_arr = img_to_array(img_object) / 255.0\r\n",
        "    img_arr_list.append(img_arr)\r\n",
        "\r\n",
        "# X_train : (60000, 28(W), 28(H), 1(Channel))\r\n",
        "print(np.array(img_arr_list).shape)   #(200, 128, 128, 3)\r\n",
        "X_test = np.array(img_arr_list)"
      ],
      "execution_count": null,
      "outputs": []
    },
    {
      "cell_type": "markdown",
      "metadata": {
        "id": "EAeGltSUj2iC"
      },
      "source": [
        "### 이하 MNIST 동일"
      ]
    },
    {
      "cell_type": "code",
      "metadata": {
        "id": "ot63QPeej6tc"
      },
      "source": [
        "model = Sequential()\r\n",
        "model.add(Conv2D(filters=20,kernel_size=(4,4), input_shape=(128, 128, 3), activation='relu')    )\r\n",
        "model.add(MaxPool2D(pool_size=(2, 2)))\r\n",
        "model.add(Conv2D(filters=40, kernel_size=(3,3), activation='relu'))\r\n",
        "model.add(MaxPool2D(pool_size=(2, 2)))  #Active map : 6*6*40\r\n",
        "model.add(Flatten())  #input_dim=\r\n",
        "model.add(Dense(64, activation='relu'))\r\n",
        "model.add(Dense(2, activation='softmax'))  #출력결과 0~9숫자\r\n",
        "print(model.summary())   #total params : 72,294"
      ],
      "execution_count": null,
      "outputs": []
    },
    {
      "cell_type": "code",
      "metadata": {
        "id": "Txd95Zjtj-Aj"
      },
      "source": [
        "from keras.callbacks import EarlyStopping\r\n",
        "early_stop = EarlyStopping(monitor='val_loss', patience=10)\r\n",
        "model.compile(optimizer=\"adam\",   #GD(경사하강) SGD momentum ada.. adam\r\n",
        "              loss='sparse_categorical_crossentropy', #손실함수 cost loss\r\n",
        "              metrics=[\"accuracy\"])"
      ],
      "execution_count": null,
      "outputs": []
    },
    {
      "cell_type": "code",
      "metadata": {
        "id": "s-duvFRyj_bT"
      },
      "source": [
        "history = model.fit(X_train,y_train,\r\n",
        "          epochs = EPOCH,\r\n",
        "          batch_size=BATCH,\r\n",
        "          validation_data=(X_val, y_val),\r\n",
        "          callbacks=[early_stop])"
      ],
      "execution_count": null,
      "outputs": []
    },
    {
      "cell_type": "code",
      "metadata": {
        "id": "tHaATh_skBG4"
      },
      "source": [
        "print('acc: {:.4f}, loss: {:.4f}'.format(model.evaluate(X_val, y_val)[1], model.evaluate(X_val, y_val)[0]))\r\n",
        "\r\n",
        "# pred = model.predict(X_test) #[[0.35  0.65] .... 200n]\r\n",
        "# print(np.argmax(pred))       #[[1] ... 200n]\r\n",
        "\r\n",
        "CHART_PLOT_HISTORY(history)"
      ],
      "execution_count": null,
      "outputs": []
    }
  ]
}