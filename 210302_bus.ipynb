{
  "nbformat": 4,
  "nbformat_minor": 0,
  "metadata": {
    "colab": {
      "name": "210302_bus.ipynb",
      "provenance": [],
      "authorship_tag": "ABX9TyOG7gPuob7XTkWDIr4ijdVc",
      "include_colab_link": true
    },
    "kernelspec": {
      "name": "python3",
      "display_name": "Python 3"
    }
  },
  "cells": [
    {
      "cell_type": "markdown",
      "metadata": {
        "id": "view-in-github",
        "colab_type": "text"
      },
      "source": [
        "<a href=\"https://colab.research.google.com/github/eruru0411/git-test/blob/master/210302_bus.ipynb\" target=\"_parent\"><img src=\"https://colab.research.google.com/assets/colab-badge.svg\" alt=\"Open In Colab\"/></a>"
      ]
    },
    {
      "cell_type": "code",
      "metadata": {
        "colab": {
          "base_uri": "https://localhost:8080/"
        },
        "id": "qSTdLd7NuNHc",
        "outputId": "958bbe1d-c669-4e68-f930-e96f0717ad26"
      },
      "source": [
        "from google.colab import drive\r\n",
        "drive.mount('/content/gdrive/')\r\n",
        "colab_path =  '/content/gdrive/MyDrive/final/'"
      ],
      "execution_count": 163,
      "outputs": [
        {
          "output_type": "stream",
          "text": [
            "Drive already mounted at /content/gdrive/; to attempt to forcibly remount, call drive.mount(\"/content/gdrive/\", force_remount=True).\n"
          ],
          "name": "stdout"
        }
      ]
    },
    {
      "cell_type": "code",
      "metadata": {
        "id": "0h_DREPIvXQp"
      },
      "source": [
        "# !pip install geojson"
      ],
      "execution_count": 164,
      "outputs": []
    },
    {
      "cell_type": "code",
      "metadata": {
        "id": "x3z80DmXxmEj"
      },
      "source": [
        "# !pip install rtree\r\n",
        "# !pip install geopandas\r\n",
        "# !pip3 install folium"
      ],
      "execution_count": 165,
      "outputs": []
    },
    {
      "cell_type": "code",
      "metadata": {
        "id": "lcVjWlXSw3iu"
      },
      "source": [
        "import pathlib\r\n",
        "import random\r\n",
        "from functools import reduce\r\n",
        "from collections import defaultdict\r\n",
        "\r\n",
        "import pandas as pd\r\n",
        "import geopandas as gpd\r\n",
        "import folium\r\n",
        "import shapely\r\n",
        "import numpy as np\r\n",
        "from IPython.display import display\r\n",
        "import matplotlib.pyplot as plt\r\n",
        "from tqdm.notebook import tqdm\r\n",
        "import xgboost\r\n",
        "import sklearn.cluster\r\n",
        "import tensorflow as tf"
      ],
      "execution_count": 166,
      "outputs": []
    },
    {
      "cell_type": "code",
      "metadata": {
        "id": "qVppaVMfMPPC"
      },
      "source": [
        "#Pydeck 사용을 위한 함수 정의\r\n",
        "import geopandas as gpd \r\n",
        "import shapely # Shapely 형태의 데이터를 받아 내부 좌표들을 List안에 반환합니다. \r\n",
        "def line_string_to_coordinates(line_string): \r\n",
        "    if isinstance(line_string, shapely.geometry.linestring.LineString): \r\n",
        "        lon, lat = line_string.xy \r\n",
        "        return [[x, y] for x, y in zip(lon, lat)] \r\n",
        "    elif isinstance(line_string, shapely.geometry.multilinestring.MultiLineString): \r\n",
        "        ret = [] \r\n",
        "        for i in range(len(line_string)): \r\n",
        "            lon, lat = line_string[i].xy \r\n",
        "            for x, y in zip(lon, lat): \r\n",
        "                ret.append([x, y])\r\n",
        "        return ret \r\n",
        "\r\n",
        "def multipolygon_to_coordinates(x): \r\n",
        "    lon, lat = x[0].exterior.xy \r\n",
        "    return [[x, y] for x, y in zip(lon, lat)] \r\n",
        "\r\n",
        "def polygon_to_coordinates(x): \r\n",
        "    lon, lat = x.exterior.xy \r\n",
        "    return [[x, y] for x, y in zip(lon, lat)] "
      ],
      "execution_count": 167,
      "outputs": []
    },
    {
      "cell_type": "code",
      "metadata": {
        "id": "egZmBiwgw4Gs",
        "colab": {
          "base_uri": "https://localhost:8080/",
          "height": 204
        },
        "outputId": "61737136-4cee-46f0-82e1-11aaf221047c"
      },
      "source": [
        "교통노드 = gpd.read_file(colab_path + '20.수원시_교통노드.geojson')\r\n",
        "교통노드.head()\r\n",
        "# ODE_ID    노드 ID값 \r\n",
        "# NODE_TYPE    노드의 유형코드 번호\r\n",
        "# NODE_NAME    노드의 이름\r\n",
        "# TURN_P    회전제한유무 코드\r\n",
        "# REMARK    노드관련 비고"
      ],
      "execution_count": 168,
      "outputs": [
        {
          "output_type": "execute_result",
          "data": {
            "text/html": [
              "<div>\n",
              "<style scoped>\n",
              "    .dataframe tbody tr th:only-of-type {\n",
              "        vertical-align: middle;\n",
              "    }\n",
              "\n",
              "    .dataframe tbody tr th {\n",
              "        vertical-align: top;\n",
              "    }\n",
              "\n",
              "    .dataframe thead th {\n",
              "        text-align: right;\n",
              "    }\n",
              "</style>\n",
              "<table border=\"1\" class=\"dataframe\">\n",
              "  <thead>\n",
              "    <tr style=\"text-align: right;\">\n",
              "      <th></th>\n",
              "      <th>NODE_ID</th>\n",
              "      <th>NODE_TYPE</th>\n",
              "      <th>NODE_NAME</th>\n",
              "      <th>TURN_P</th>\n",
              "      <th>REMARK</th>\n",
              "      <th>geometry</th>\n",
              "    </tr>\n",
              "  </thead>\n",
              "  <tbody>\n",
              "    <tr>\n",
              "      <th>0</th>\n",
              "      <td>2000001700</td>\n",
              "      <td>101</td>\n",
              "      <td>-</td>\n",
              "      <td>0</td>\n",
              "      <td>-</td>\n",
              "      <td>MULTIPOINT (126.98821 37.31794)</td>\n",
              "    </tr>\n",
              "    <tr>\n",
              "      <th>1</th>\n",
              "      <td>2000001500</td>\n",
              "      <td>101</td>\n",
              "      <td>-</td>\n",
              "      <td>0</td>\n",
              "      <td>-</td>\n",
              "      <td>MULTIPOINT (126.98977 37.31183)</td>\n",
              "    </tr>\n",
              "    <tr>\n",
              "      <th>2</th>\n",
              "      <td>2000001300</td>\n",
              "      <td>101</td>\n",
              "      <td>보건환경연구원앞</td>\n",
              "      <td>1</td>\n",
              "      <td>-</td>\n",
              "      <td>MULTIPOINT (126.99566 37.30880)</td>\n",
              "    </tr>\n",
              "    <tr>\n",
              "      <th>3</th>\n",
              "      <td>2000001200</td>\n",
              "      <td>103</td>\n",
              "      <td>-</td>\n",
              "      <td>1</td>\n",
              "      <td>-</td>\n",
              "      <td>MULTIPOINT (126.99790 37.30782)</td>\n",
              "    </tr>\n",
              "    <tr>\n",
              "      <th>4</th>\n",
              "      <td>2000001000</td>\n",
              "      <td>101</td>\n",
              "      <td>대우연구소사거리</td>\n",
              "      <td>1</td>\n",
              "      <td>-</td>\n",
              "      <td>MULTIPOINT (127.00208 37.30596)</td>\n",
              "    </tr>\n",
              "  </tbody>\n",
              "</table>\n",
              "</div>"
            ],
            "text/plain": [
              "      NODE_ID NODE_TYPE  ... REMARK                         geometry\n",
              "0  2000001700       101  ...      -  MULTIPOINT (126.98821 37.31794)\n",
              "1  2000001500       101  ...      -  MULTIPOINT (126.98977 37.31183)\n",
              "2  2000001300       101  ...      -  MULTIPOINT (126.99566 37.30880)\n",
              "3  2000001200       103  ...      -  MULTIPOINT (126.99790 37.30782)\n",
              "4  2000001000       101  ...      -  MULTIPOINT (127.00208 37.30596)\n",
              "\n",
              "[5 rows x 6 columns]"
            ]
          },
          "metadata": {
            "tags": []
          },
          "execution_count": 168
        }
      ]
    },
    {
      "cell_type": "code",
      "metadata": {
        "colab": {
          "base_uri": "https://localhost:8080/",
          "height": 430
        },
        "id": "5Sgl3owNLEBF",
        "outputId": "2caf2726-fac5-4638-c8b4-8faf2b22bda7"
      },
      "source": [
        "# geometry를 coordinate 형태로 적용\r\n",
        "교통노드['geometry'] = 교통노드['geometry'].apply(multipoint_to_coordinates)\r\n",
        "\r\n",
        "# 100X100 grid에서 central point 찾기\r\n",
        "교통노드_list = []\r\n",
        "교통노드_list2 = []\r\n",
        "for i in 교통노드['geometry']:\r\n",
        "    cent = [[i[0].centroid.coords[0][0],i[0].centroid.coords[0][1]]]\r\n",
        "    교통노드_list.append(cent)\r\n",
        "    교통노드_list2.append(Point(cent[0]))\r\n",
        "교통노드['coord_cent'] = 0\r\n",
        "교통노드['geo_cent'] = 0\r\n",
        "교통노드['coord_cent']= pd.DataFrame(교통노드_list) # pydeck을 위한 coordinate type\r\n",
        "교통노드['geo_cent'] = 교통노드_list2 # geopandas를 위한 geometry type"
      ],
      "execution_count": 169,
      "outputs": [
        {
          "output_type": "error",
          "ename": "NotImplementedError",
          "evalue": "ignored",
          "traceback": [
            "\u001b[0;31m---------------------------------------------------------------------------\u001b[0m",
            "\u001b[0;31mNotImplementedError\u001b[0m                       Traceback (most recent call last)",
            "\u001b[0;32m<ipython-input-169-e4b41c9b3ed9>\u001b[0m in \u001b[0;36m<module>\u001b[0;34m()\u001b[0m\n\u001b[1;32m      1\u001b[0m \u001b[0;31m# geometry를 coordinate 형태로 적용\u001b[0m\u001b[0;34m\u001b[0m\u001b[0;34m\u001b[0m\u001b[0;34m\u001b[0m\u001b[0m\n\u001b[0;32m----> 2\u001b[0;31m \u001b[0m교통노드\u001b[0m\u001b[0;34m[\u001b[0m\u001b[0;34m'geometry'\u001b[0m\u001b[0;34m]\u001b[0m \u001b[0;34m=\u001b[0m \u001b[0m교통노드\u001b[0m\u001b[0;34m[\u001b[0m\u001b[0;34m'geometry'\u001b[0m\u001b[0;34m]\u001b[0m\u001b[0;34m.\u001b[0m\u001b[0mapply\u001b[0m\u001b[0;34m(\u001b[0m\u001b[0mmultipoint_to_coordinates\u001b[0m\u001b[0;34m)\u001b[0m\u001b[0;34m\u001b[0m\u001b[0;34m\u001b[0m\u001b[0m\n\u001b[0m\u001b[1;32m      3\u001b[0m \u001b[0;34m\u001b[0m\u001b[0m\n\u001b[1;32m      4\u001b[0m \u001b[0;31m# 100X100 grid에서 central point 찾기\u001b[0m\u001b[0;34m\u001b[0m\u001b[0;34m\u001b[0m\u001b[0;34m\u001b[0m\u001b[0m\n\u001b[1;32m      5\u001b[0m \u001b[0m교통노드_list\u001b[0m \u001b[0;34m=\u001b[0m \u001b[0;34m[\u001b[0m\u001b[0;34m]\u001b[0m\u001b[0;34m\u001b[0m\u001b[0;34m\u001b[0m\u001b[0m\n",
            "\u001b[0;32m/usr/local/lib/python3.7/dist-packages/geopandas/geoseries.py\u001b[0m in \u001b[0;36mapply\u001b[0;34m(self, func, convert_dtype, args, **kwargs)\u001b[0m\n\u001b[1;32m    572\u001b[0m     \u001b[0;34m@\u001b[0m\u001b[0minherit_doc\u001b[0m\u001b[0;34m(\u001b[0m\u001b[0mpd\u001b[0m\u001b[0;34m.\u001b[0m\u001b[0mSeries\u001b[0m\u001b[0;34m)\u001b[0m\u001b[0;34m\u001b[0m\u001b[0;34m\u001b[0m\u001b[0m\n\u001b[1;32m    573\u001b[0m     \u001b[0;32mdef\u001b[0m \u001b[0mapply\u001b[0m\u001b[0;34m(\u001b[0m\u001b[0mself\u001b[0m\u001b[0;34m,\u001b[0m \u001b[0mfunc\u001b[0m\u001b[0;34m,\u001b[0m \u001b[0mconvert_dtype\u001b[0m\u001b[0;34m=\u001b[0m\u001b[0;32mTrue\u001b[0m\u001b[0;34m,\u001b[0m \u001b[0margs\u001b[0m\u001b[0;34m=\u001b[0m\u001b[0;34m(\u001b[0m\u001b[0;34m)\u001b[0m\u001b[0;34m,\u001b[0m \u001b[0;34m**\u001b[0m\u001b[0mkwargs\u001b[0m\u001b[0;34m)\u001b[0m\u001b[0;34m:\u001b[0m\u001b[0;34m\u001b[0m\u001b[0;34m\u001b[0m\u001b[0m\n\u001b[0;32m--> 574\u001b[0;31m         \u001b[0mresult\u001b[0m \u001b[0;34m=\u001b[0m \u001b[0msuper\u001b[0m\u001b[0;34m(\u001b[0m\u001b[0;34m)\u001b[0m\u001b[0;34m.\u001b[0m\u001b[0mapply\u001b[0m\u001b[0;34m(\u001b[0m\u001b[0mfunc\u001b[0m\u001b[0;34m,\u001b[0m \u001b[0mconvert_dtype\u001b[0m\u001b[0;34m=\u001b[0m\u001b[0mconvert_dtype\u001b[0m\u001b[0;34m,\u001b[0m \u001b[0margs\u001b[0m\u001b[0;34m=\u001b[0m\u001b[0margs\u001b[0m\u001b[0;34m,\u001b[0m \u001b[0;34m**\u001b[0m\u001b[0mkwargs\u001b[0m\u001b[0;34m)\u001b[0m\u001b[0;34m\u001b[0m\u001b[0;34m\u001b[0m\u001b[0m\n\u001b[0m\u001b[1;32m    575\u001b[0m         \u001b[0;32mif\u001b[0m \u001b[0misinstance\u001b[0m\u001b[0;34m(\u001b[0m\u001b[0mresult\u001b[0m\u001b[0;34m,\u001b[0m \u001b[0mGeoSeries\u001b[0m\u001b[0;34m)\u001b[0m\u001b[0;34m:\u001b[0m\u001b[0;34m\u001b[0m\u001b[0;34m\u001b[0m\u001b[0m\n\u001b[1;32m    576\u001b[0m             \u001b[0;32mif\u001b[0m \u001b[0mself\u001b[0m\u001b[0;34m.\u001b[0m\u001b[0mcrs\u001b[0m \u001b[0;32mis\u001b[0m \u001b[0;32mnot\u001b[0m \u001b[0;32mNone\u001b[0m\u001b[0;34m:\u001b[0m\u001b[0;34m\u001b[0m\u001b[0;34m\u001b[0m\u001b[0m\n",
            "\u001b[0;32m/usr/local/lib/python3.7/dist-packages/pandas/core/series.py\u001b[0m in \u001b[0;36mapply\u001b[0;34m(self, func, convert_dtype, args, **kwds)\u001b[0m\n\u001b[1;32m   4211\u001b[0m             \u001b[0;32melse\u001b[0m\u001b[0;34m:\u001b[0m\u001b[0;34m\u001b[0m\u001b[0;34m\u001b[0m\u001b[0m\n\u001b[1;32m   4212\u001b[0m                 \u001b[0mvalues\u001b[0m \u001b[0;34m=\u001b[0m \u001b[0mself\u001b[0m\u001b[0;34m.\u001b[0m\u001b[0mastype\u001b[0m\u001b[0;34m(\u001b[0m\u001b[0mobject\u001b[0m\u001b[0;34m)\u001b[0m\u001b[0;34m.\u001b[0m\u001b[0m_values\u001b[0m\u001b[0;34m\u001b[0m\u001b[0;34m\u001b[0m\u001b[0m\n\u001b[0;32m-> 4213\u001b[0;31m                 \u001b[0mmapped\u001b[0m \u001b[0;34m=\u001b[0m \u001b[0mlib\u001b[0m\u001b[0;34m.\u001b[0m\u001b[0mmap_infer\u001b[0m\u001b[0;34m(\u001b[0m\u001b[0mvalues\u001b[0m\u001b[0;34m,\u001b[0m \u001b[0mf\u001b[0m\u001b[0;34m,\u001b[0m \u001b[0mconvert\u001b[0m\u001b[0;34m=\u001b[0m\u001b[0mconvert_dtype\u001b[0m\u001b[0;34m)\u001b[0m\u001b[0;34m\u001b[0m\u001b[0;34m\u001b[0m\u001b[0m\n\u001b[0m\u001b[1;32m   4214\u001b[0m \u001b[0;34m\u001b[0m\u001b[0m\n\u001b[1;32m   4215\u001b[0m         \u001b[0;32mif\u001b[0m \u001b[0mlen\u001b[0m\u001b[0;34m(\u001b[0m\u001b[0mmapped\u001b[0m\u001b[0;34m)\u001b[0m \u001b[0;32mand\u001b[0m \u001b[0misinstance\u001b[0m\u001b[0;34m(\u001b[0m\u001b[0mmapped\u001b[0m\u001b[0;34m[\u001b[0m\u001b[0;36m0\u001b[0m\u001b[0;34m]\u001b[0m\u001b[0;34m,\u001b[0m \u001b[0mSeries\u001b[0m\u001b[0;34m)\u001b[0m\u001b[0;34m:\u001b[0m\u001b[0;34m\u001b[0m\u001b[0;34m\u001b[0m\u001b[0m\n",
            "\u001b[0;32mpandas/_libs/lib.pyx\u001b[0m in \u001b[0;36mpandas._libs.lib.map_infer\u001b[0;34m()\u001b[0m\n",
            "\u001b[0;32m<ipython-input-154-c18137a6c0df>\u001b[0m in \u001b[0;36mmultipoint_to_coordinates\u001b[0;34m(x)\u001b[0m\n\u001b[1;32m     23\u001b[0m \u001b[0;34m\u001b[0m\u001b[0m\n\u001b[1;32m     24\u001b[0m \u001b[0;32mdef\u001b[0m \u001b[0mmultipoint_to_coordinates\u001b[0m\u001b[0;34m(\u001b[0m\u001b[0mx\u001b[0m\u001b[0;34m)\u001b[0m\u001b[0;34m:\u001b[0m\u001b[0;34m\u001b[0m\u001b[0;34m\u001b[0m\u001b[0m\n\u001b[0;32m---> 25\u001b[0;31m     \u001b[0mlon\u001b[0m\u001b[0;34m,\u001b[0m \u001b[0mlat\u001b[0m \u001b[0;34m=\u001b[0m \u001b[0mx\u001b[0m\u001b[0;34m.\u001b[0m\u001b[0mxy\u001b[0m\u001b[0;34m\u001b[0m\u001b[0;34m\u001b[0m\u001b[0m\n\u001b[0m\u001b[1;32m     26\u001b[0m     \u001b[0;32mreturn\u001b[0m \u001b[0;34m[\u001b[0m\u001b[0;34m[\u001b[0m\u001b[0mx\u001b[0m\u001b[0;34m,\u001b[0m \u001b[0my\u001b[0m\u001b[0;34m]\u001b[0m \u001b[0;32mfor\u001b[0m \u001b[0mx\u001b[0m\u001b[0;34m,\u001b[0m \u001b[0my\u001b[0m \u001b[0;32min\u001b[0m \u001b[0mzip\u001b[0m\u001b[0;34m(\u001b[0m\u001b[0mlon\u001b[0m\u001b[0;34m,\u001b[0m \u001b[0mlat\u001b[0m\u001b[0;34m)\u001b[0m\u001b[0;34m]\u001b[0m\u001b[0;34m\u001b[0m\u001b[0;34m\u001b[0m\u001b[0m\n",
            "\u001b[0;32m/usr/local/lib/python3.7/dist-packages/shapely/geometry/base.py\u001b[0m in \u001b[0;36mxy\u001b[0;34m(self)\u001b[0m\n\u001b[1;32m    341\u001b[0m     \u001b[0;32mdef\u001b[0m \u001b[0mxy\u001b[0m\u001b[0;34m(\u001b[0m\u001b[0mself\u001b[0m\u001b[0;34m)\u001b[0m\u001b[0;34m:\u001b[0m\u001b[0;34m\u001b[0m\u001b[0;34m\u001b[0m\u001b[0m\n\u001b[1;32m    342\u001b[0m         \u001b[0;34m\"\"\"Separate arrays of X and Y coordinate values\"\"\"\u001b[0m\u001b[0;34m\u001b[0m\u001b[0;34m\u001b[0m\u001b[0m\n\u001b[0;32m--> 343\u001b[0;31m         \u001b[0;32mraise\u001b[0m \u001b[0mNotImplementedError\u001b[0m\u001b[0;34m\u001b[0m\u001b[0;34m\u001b[0m\u001b[0m\n\u001b[0m\u001b[1;32m    344\u001b[0m \u001b[0;34m\u001b[0m\u001b[0m\n\u001b[1;32m    345\u001b[0m     \u001b[0;31m# Python feature protocol\u001b[0m\u001b[0;34m\u001b[0m\u001b[0;34m\u001b[0m\u001b[0;34m\u001b[0m\u001b[0m\n",
            "\u001b[0;31mNotImplementedError\u001b[0m: "
          ]
        }
      ]
    },
    {
      "cell_type": "code",
      "metadata": {
        "colab": {
          "base_uri": "https://localhost:8080/"
        },
        "id": "R4lm4iUxKS1a",
        "outputId": "bba87a8a-26f5-47f3-b10b-4916f70945e7"
      },
      "source": [
        "교통노드.info()"
      ],
      "execution_count": 170,
      "outputs": [
        {
          "output_type": "stream",
          "text": [
            "<class 'geopandas.geodataframe.GeoDataFrame'>\n",
            "RangeIndex: 1003 entries, 0 to 1002\n",
            "Data columns (total 6 columns):\n",
            " #   Column     Non-Null Count  Dtype   \n",
            "---  ------     --------------  -----   \n",
            " 0   NODE_ID    1003 non-null   object  \n",
            " 1   NODE_TYPE  1003 non-null   object  \n",
            " 2   NODE_NAME  1003 non-null   object  \n",
            " 3   TURN_P     1003 non-null   object  \n",
            " 4   REMARK     694 non-null    object  \n",
            " 5   geometry   1003 non-null   geometry\n",
            "dtypes: geometry(1), object(5)\n",
            "memory usage: 47.1+ KB\n"
          ],
          "name": "stdout"
        }
      ]
    },
    {
      "cell_type": "code",
      "metadata": {
        "colab": {
          "base_uri": "https://localhost:8080/",
          "height": 479
        },
        "id": "DCHoOk2PA3Ts",
        "outputId": "77180906-820f-4aab-ccbb-aa43b6221048"
      },
      "source": [
        "교통링크 = gpd.read_file(colab_path + '21.수원시_교통링크.geojson')\r\n",
        "교통링크.head()\r\n",
        "#LINK_ID    링크를 식별하기 위한 ID\r\n",
        "# F_NODE    시작노드의 ID\r\n",
        "# T_NODE    종료노드의 ID\r\n",
        "# ROAD_USE    도로사용여부 코드\r\n",
        "# LANES    해당 링크의 차로수 \r\n",
        "# ROAD_RANK    해당 링크의 도로등급코드 \r\n",
        "# ROAD_NAME    해당 링크의 도로명\r\n",
        "# MULTI_LINK    해당 링크의 중용구간 여부(0:독립구간/1:중용구간)\r\n",
        "# CONNECT    해당 링크의 연결로코드\r\n",
        "# MAX_SPD    해당 링크의 최고제한속도\r\n",
        "# REST_VEH    해당 링크의 통행제한차량코드 \r\n",
        "# REST_W    해당 링크의 통과제한하중 \r\n",
        "# REST_H    해당 링크의 통과제한높이 \r\n",
        "# REMARK    해당 링크의 비고\r\n",
        "# ROAD_TYPE    도로의 유형\r\n",
        "# ROAD_NO    도로의 번호"
      ],
      "execution_count": 171,
      "outputs": [
        {
          "output_type": "execute_result",
          "data": {
            "text/html": [
              "<div>\n",
              "<style scoped>\n",
              "    .dataframe tbody tr th:only-of-type {\n",
              "        vertical-align: middle;\n",
              "    }\n",
              "\n",
              "    .dataframe tbody tr th {\n",
              "        vertical-align: top;\n",
              "    }\n",
              "\n",
              "    .dataframe thead th {\n",
              "        text-align: right;\n",
              "    }\n",
              "</style>\n",
              "<table border=\"1\" class=\"dataframe\">\n",
              "  <thead>\n",
              "    <tr style=\"text-align: right;\">\n",
              "      <th></th>\n",
              "      <th>LINK_ID</th>\n",
              "      <th>F_NODE</th>\n",
              "      <th>T_NODE</th>\n",
              "      <th>ROAD_USE</th>\n",
              "      <th>LANES</th>\n",
              "      <th>ROAD_RANK</th>\n",
              "      <th>ROAD_NAME</th>\n",
              "      <th>MULTI_LINK</th>\n",
              "      <th>CONNECT</th>\n",
              "      <th>MAX_SPD</th>\n",
              "      <th>REST_VEH</th>\n",
              "      <th>REST_W</th>\n",
              "      <th>REST_H</th>\n",
              "      <th>REMARK</th>\n",
              "      <th>ROAD_TYPE</th>\n",
              "      <th>ROAD_NO</th>\n",
              "      <th>geometry</th>\n",
              "    </tr>\n",
              "  </thead>\n",
              "  <tbody>\n",
              "    <tr>\n",
              "      <th>0</th>\n",
              "      <td>2260058800</td>\n",
              "      <td>2260000200</td>\n",
              "      <td>2010003601</td>\n",
              "      <td>0</td>\n",
              "      <td>4.0</td>\n",
              "      <td>107</td>\n",
              "      <td>역전로</td>\n",
              "      <td>0</td>\n",
              "      <td>000</td>\n",
              "      <td>60.0</td>\n",
              "      <td>0</td>\n",
              "      <td>0.0</td>\n",
              "      <td>0.0</td>\n",
              "      <td>None</td>\n",
              "      <td>000</td>\n",
              "      <td>-</td>\n",
              "      <td>MULTILINESTRING ((126.96189 37.30239, 126.9623...</td>\n",
              "    </tr>\n",
              "    <tr>\n",
              "      <th>1</th>\n",
              "      <td>2260058700</td>\n",
              "      <td>2010003601</td>\n",
              "      <td>2260000200</td>\n",
              "      <td>0</td>\n",
              "      <td>4.0</td>\n",
              "      <td>107</td>\n",
              "      <td>역전로</td>\n",
              "      <td>0</td>\n",
              "      <td>000</td>\n",
              "      <td>60.0</td>\n",
              "      <td>0</td>\n",
              "      <td>0.0</td>\n",
              "      <td>0.0</td>\n",
              "      <td>None</td>\n",
              "      <td>000</td>\n",
              "      <td>-</td>\n",
              "      <td>MULTILINESTRING ((126.96238 37.30224, 126.9620...</td>\n",
              "    </tr>\n",
              "    <tr>\n",
              "      <th>2</th>\n",
              "      <td>2020005104</td>\n",
              "      <td>2000000100</td>\n",
              "      <td>2020002403</td>\n",
              "      <td>0</td>\n",
              "      <td>2.0</td>\n",
              "      <td>103</td>\n",
              "      <td>창룡문길</td>\n",
              "      <td>0</td>\n",
              "      <td>000</td>\n",
              "      <td>60.0</td>\n",
              "      <td>0</td>\n",
              "      <td>0.0</td>\n",
              "      <td>500.0</td>\n",
              "      <td>□[2005-07-16 오후 2:15:26]</td>\n",
              "      <td>000</td>\n",
              "      <td>43</td>\n",
              "      <td>MULTILINESTRING ((127.02494 37.28944, 127.0247...</td>\n",
              "    </tr>\n",
              "    <tr>\n",
              "      <th>3</th>\n",
              "      <td>2020005102</td>\n",
              "      <td>2020002403</td>\n",
              "      <td>2020002402</td>\n",
              "      <td>0</td>\n",
              "      <td>2.0</td>\n",
              "      <td>103</td>\n",
              "      <td>창룡문길</td>\n",
              "      <td>0</td>\n",
              "      <td>000</td>\n",
              "      <td>60.0</td>\n",
              "      <td>0</td>\n",
              "      <td>0.0</td>\n",
              "      <td>500.0</td>\n",
              "      <td>□[2005-07-16 오후 2:15:26]</td>\n",
              "      <td>000</td>\n",
              "      <td>43</td>\n",
              "      <td>MULTILINESTRING ((127.02417 37.28771, 127.0241...</td>\n",
              "    </tr>\n",
              "    <tr>\n",
              "      <th>4</th>\n",
              "      <td>2020005101</td>\n",
              "      <td>2020002402</td>\n",
              "      <td>2020002403</td>\n",
              "      <td>0</td>\n",
              "      <td>2.0</td>\n",
              "      <td>103</td>\n",
              "      <td>창룡문길</td>\n",
              "      <td>0</td>\n",
              "      <td>000</td>\n",
              "      <td>60.0</td>\n",
              "      <td>0</td>\n",
              "      <td>0.0</td>\n",
              "      <td>500.0</td>\n",
              "      <td>□[2005-07-16 오후 2:15:26]</td>\n",
              "      <td>000</td>\n",
              "      <td>43</td>\n",
              "      <td>MULTILINESTRING ((127.02147 37.28344, 127.0221...</td>\n",
              "    </tr>\n",
              "  </tbody>\n",
              "</table>\n",
              "</div>"
            ],
            "text/plain": [
              "      LINK_ID  ...                                           geometry\n",
              "0  2260058800  ...  MULTILINESTRING ((126.96189 37.30239, 126.9623...\n",
              "1  2260058700  ...  MULTILINESTRING ((126.96238 37.30224, 126.9620...\n",
              "2  2020005104  ...  MULTILINESTRING ((127.02494 37.28944, 127.0247...\n",
              "3  2020005102  ...  MULTILINESTRING ((127.02417 37.28771, 127.0241...\n",
              "4  2020005101  ...  MULTILINESTRING ((127.02147 37.28344, 127.0221...\n",
              "\n",
              "[5 rows x 17 columns]"
            ]
          },
          "metadata": {
            "tags": []
          },
          "execution_count": 171
        }
      ]
    },
    {
      "cell_type": "code",
      "metadata": {
        "colab": {
          "base_uri": "https://localhost:8080/",
          "height": 481
        },
        "id": "DZz0a50BOYQt",
        "outputId": "8d9f7b49-9ca3-4fcf-852e-c7e4ee758d4c"
      },
      "source": [
        "교통링크['geometry'] = 교통링크['geometry'].apply(line_string_to_coordinates)\r\n",
        "교통링크.head()"
      ],
      "execution_count": 172,
      "outputs": [
        {
          "output_type": "stream",
          "text": [
            "/usr/local/lib/python3.7/dist-packages/geopandas/geodataframe.py:1321: UserWarning: Geometry column does not contain geometry.\n",
            "  warnings.warn(\"Geometry column does not contain geometry.\")\n"
          ],
          "name": "stderr"
        },
        {
          "output_type": "execute_result",
          "data": {
            "text/html": [
              "<div>\n",
              "<style scoped>\n",
              "    .dataframe tbody tr th:only-of-type {\n",
              "        vertical-align: middle;\n",
              "    }\n",
              "\n",
              "    .dataframe tbody tr th {\n",
              "        vertical-align: top;\n",
              "    }\n",
              "\n",
              "    .dataframe thead th {\n",
              "        text-align: right;\n",
              "    }\n",
              "</style>\n",
              "<table border=\"1\" class=\"dataframe\">\n",
              "  <thead>\n",
              "    <tr style=\"text-align: right;\">\n",
              "      <th></th>\n",
              "      <th>LINK_ID</th>\n",
              "      <th>F_NODE</th>\n",
              "      <th>T_NODE</th>\n",
              "      <th>ROAD_USE</th>\n",
              "      <th>LANES</th>\n",
              "      <th>ROAD_RANK</th>\n",
              "      <th>ROAD_NAME</th>\n",
              "      <th>MULTI_LINK</th>\n",
              "      <th>CONNECT</th>\n",
              "      <th>MAX_SPD</th>\n",
              "      <th>REST_VEH</th>\n",
              "      <th>REST_W</th>\n",
              "      <th>REST_H</th>\n",
              "      <th>REMARK</th>\n",
              "      <th>ROAD_TYPE</th>\n",
              "      <th>ROAD_NO</th>\n",
              "      <th>geometry</th>\n",
              "    </tr>\n",
              "  </thead>\n",
              "  <tbody>\n",
              "    <tr>\n",
              "      <th>0</th>\n",
              "      <td>2260058800</td>\n",
              "      <td>2260000200</td>\n",
              "      <td>2010003601</td>\n",
              "      <td>0</td>\n",
              "      <td>4.0</td>\n",
              "      <td>107</td>\n",
              "      <td>역전로</td>\n",
              "      <td>0</td>\n",
              "      <td>000</td>\n",
              "      <td>60.0</td>\n",
              "      <td>0</td>\n",
              "      <td>0.0</td>\n",
              "      <td>0.0</td>\n",
              "      <td>None</td>\n",
              "      <td>000</td>\n",
              "      <td>-</td>\n",
              "      <td>[[126.96189145923577, 37.30238803236395], [126...</td>\n",
              "    </tr>\n",
              "    <tr>\n",
              "      <th>1</th>\n",
              "      <td>2260058700</td>\n",
              "      <td>2010003601</td>\n",
              "      <td>2260000200</td>\n",
              "      <td>0</td>\n",
              "      <td>4.0</td>\n",
              "      <td>107</td>\n",
              "      <td>역전로</td>\n",
              "      <td>0</td>\n",
              "      <td>000</td>\n",
              "      <td>60.0</td>\n",
              "      <td>0</td>\n",
              "      <td>0.0</td>\n",
              "      <td>0.0</td>\n",
              "      <td>None</td>\n",
              "      <td>000</td>\n",
              "      <td>-</td>\n",
              "      <td>[[126.96238140350867, 37.30224143800985], [126...</td>\n",
              "    </tr>\n",
              "    <tr>\n",
              "      <th>2</th>\n",
              "      <td>2020005104</td>\n",
              "      <td>2000000100</td>\n",
              "      <td>2020002403</td>\n",
              "      <td>0</td>\n",
              "      <td>2.0</td>\n",
              "      <td>103</td>\n",
              "      <td>창룡문길</td>\n",
              "      <td>0</td>\n",
              "      <td>000</td>\n",
              "      <td>60.0</td>\n",
              "      <td>0</td>\n",
              "      <td>0.0</td>\n",
              "      <td>500.0</td>\n",
              "      <td>□[2005-07-16 오후 2:15:26]</td>\n",
              "      <td>000</td>\n",
              "      <td>43</td>\n",
              "      <td>[[127.02494418434263, 37.28944427018156], [127...</td>\n",
              "    </tr>\n",
              "    <tr>\n",
              "      <th>3</th>\n",
              "      <td>2020005102</td>\n",
              "      <td>2020002403</td>\n",
              "      <td>2020002402</td>\n",
              "      <td>0</td>\n",
              "      <td>2.0</td>\n",
              "      <td>103</td>\n",
              "      <td>창룡문길</td>\n",
              "      <td>0</td>\n",
              "      <td>000</td>\n",
              "      <td>60.0</td>\n",
              "      <td>0</td>\n",
              "      <td>0.0</td>\n",
              "      <td>500.0</td>\n",
              "      <td>□[2005-07-16 오후 2:15:26]</td>\n",
              "      <td>000</td>\n",
              "      <td>43</td>\n",
              "      <td>[[127.0241700003899, 37.28770536631607], [127....</td>\n",
              "    </tr>\n",
              "    <tr>\n",
              "      <th>4</th>\n",
              "      <td>2020005101</td>\n",
              "      <td>2020002402</td>\n",
              "      <td>2020002403</td>\n",
              "      <td>0</td>\n",
              "      <td>2.0</td>\n",
              "      <td>103</td>\n",
              "      <td>창룡문길</td>\n",
              "      <td>0</td>\n",
              "      <td>000</td>\n",
              "      <td>60.0</td>\n",
              "      <td>0</td>\n",
              "      <td>0.0</td>\n",
              "      <td>500.0</td>\n",
              "      <td>□[2005-07-16 오후 2:15:26]</td>\n",
              "      <td>000</td>\n",
              "      <td>43</td>\n",
              "      <td>[[127.02147429762914, 37.28343816414357], [127...</td>\n",
              "    </tr>\n",
              "  </tbody>\n",
              "</table>\n",
              "</div>"
            ],
            "text/plain": [
              "      LINK_ID  ...                                           geometry\n",
              "0  2260058800  ...  [[126.96189145923577, 37.30238803236395], [126...\n",
              "1  2260058700  ...  [[126.96238140350867, 37.30224143800985], [126...\n",
              "2  2020005104  ...  [[127.02494418434263, 37.28944427018156], [127...\n",
              "3  2020005102  ...  [[127.0241700003899, 37.28770536631607], [127....\n",
              "4  2020005101  ...  [[127.02147429762914, 37.28343816414357], [127...\n",
              "\n",
              "[5 rows x 17 columns]"
            ]
          },
          "metadata": {
            "tags": []
          },
          "execution_count": 172
        }
      ]
    },
    {
      "cell_type": "code",
      "metadata": {
        "colab": {
          "base_uri": "https://localhost:8080/",
          "height": 136
        },
        "id": "yjPhfQyAB_6s",
        "outputId": "23f885e7-5ef2-4210-9f76-728d637876ab"
      },
      "source": [
        "(인도 = gpd.read_file(colab_path + '26.수원시_인도(2017).geojson')\r\n",
        "인도.head()"
      ],
      "execution_count": 173,
      "outputs": [
        {
          "output_type": "error",
          "ename": "SyntaxError",
          "evalue": "ignored",
          "traceback": [
            "\u001b[0;36m  File \u001b[0;32m\"<ipython-input-173-871508cef576>\"\u001b[0;36m, line \u001b[0;32m1\u001b[0m\n\u001b[0;31m    (인도 = gpd.read_file(colab_path + '26.수원시_인도(2017).geojson')\u001b[0m\n\u001b[0m        ^\u001b[0m\n\u001b[0;31mSyntaxError\u001b[0m\u001b[0;31m:\u001b[0m invalid syntax\n"
          ]
        }
      ]
    },
    {
      "cell_type": "code",
      "metadata": {
        "id": "bpK-PQCQM8De",
        "colab": {
          "base_uri": "https://localhost:8080/",
          "height": 419
        },
        "outputId": "0a909a79-6c4c-4026-b5fa-74f0290c7ebe"
      },
      "source": [
        "인도['geometry'] = 인도['geometry'].apply(line_string_to_coordinates)\r\n",
        "인도"
      ],
      "execution_count": 174,
      "outputs": [
        {
          "output_type": "execute_result",
          "data": {
            "text/html": [
              "<div>\n",
              "<style scoped>\n",
              "    .dataframe tbody tr th:only-of-type {\n",
              "        vertical-align: middle;\n",
              "    }\n",
              "\n",
              "    .dataframe tbody tr th {\n",
              "        vertical-align: top;\n",
              "    }\n",
              "\n",
              "    .dataframe thead th {\n",
              "        text-align: right;\n",
              "    }\n",
              "</style>\n",
              "<table border=\"1\" class=\"dataframe\">\n",
              "  <thead>\n",
              "    <tr style=\"text-align: right;\">\n",
              "      <th></th>\n",
              "      <th>UFID</th>\n",
              "      <th>WIDT</th>\n",
              "      <th>QUAL</th>\n",
              "      <th>BYYN</th>\n",
              "      <th>KIND</th>\n",
              "      <th>geometry</th>\n",
              "    </tr>\n",
              "  </thead>\n",
              "  <tbody>\n",
              "    <tr>\n",
              "      <th>0</th>\n",
              "      <td>1000037612070A00310000000000154767</td>\n",
              "      <td>0.0</td>\n",
              "      <td>SWQ001</td>\n",
              "      <td>BYC001</td>\n",
              "      <td>SWK002</td>\n",
              "      <td>None</td>\n",
              "    </tr>\n",
              "    <tr>\n",
              "      <th>1</th>\n",
              "      <td>1000037612070A00310000000000154768</td>\n",
              "      <td>0.0</td>\n",
              "      <td>SWQ001</td>\n",
              "      <td>BYC001</td>\n",
              "      <td>SWK002</td>\n",
              "      <td>None</td>\n",
              "    </tr>\n",
              "    <tr>\n",
              "      <th>2</th>\n",
              "      <td>1000037612070A00310000000000154769</td>\n",
              "      <td>0.0</td>\n",
              "      <td>SWQ001</td>\n",
              "      <td>BYC001</td>\n",
              "      <td>SWK002</td>\n",
              "      <td>None</td>\n",
              "    </tr>\n",
              "    <tr>\n",
              "      <th>3</th>\n",
              "      <td>1000037612070A00310000000000154793</td>\n",
              "      <td>3.0</td>\n",
              "      <td>SWQ003</td>\n",
              "      <td>BYC001</td>\n",
              "      <td>SWK001</td>\n",
              "      <td>None</td>\n",
              "    </tr>\n",
              "    <tr>\n",
              "      <th>4</th>\n",
              "      <td>1000037612070A00310000000000154794</td>\n",
              "      <td>3.0</td>\n",
              "      <td>SWQ003</td>\n",
              "      <td>BYC001</td>\n",
              "      <td>SWK001</td>\n",
              "      <td>None</td>\n",
              "    </tr>\n",
              "    <tr>\n",
              "      <th>...</th>\n",
              "      <td>...</td>\n",
              "      <td>...</td>\n",
              "      <td>...</td>\n",
              "      <td>...</td>\n",
              "      <td>...</td>\n",
              "      <td>...</td>\n",
              "    </tr>\n",
              "    <tr>\n",
              "      <th>6645</th>\n",
              "      <td>1000037709083A00310000070000005528</td>\n",
              "      <td>6.0</td>\n",
              "      <td>SWQ003</td>\n",
              "      <td>BYC001</td>\n",
              "      <td>SWK001</td>\n",
              "      <td>None</td>\n",
              "    </tr>\n",
              "    <tr>\n",
              "      <th>6646</th>\n",
              "      <td>1000037709083A00310000070000005529</td>\n",
              "      <td>6.0</td>\n",
              "      <td>SWQ003</td>\n",
              "      <td>BYC001</td>\n",
              "      <td>SWK001</td>\n",
              "      <td>None</td>\n",
              "    </tr>\n",
              "    <tr>\n",
              "      <th>6647</th>\n",
              "      <td>1000037713001A00310000070000005753</td>\n",
              "      <td>3.0</td>\n",
              "      <td>SWQ003</td>\n",
              "      <td>BYC002</td>\n",
              "      <td>SWK001</td>\n",
              "      <td>None</td>\n",
              "    </tr>\n",
              "    <tr>\n",
              "      <th>6648</th>\n",
              "      <td>1000037713002A00310000070000005754</td>\n",
              "      <td>3.0</td>\n",
              "      <td>SWQ003</td>\n",
              "      <td>BYC002</td>\n",
              "      <td>SWK001</td>\n",
              "      <td>None</td>\n",
              "    </tr>\n",
              "    <tr>\n",
              "      <th>6649</th>\n",
              "      <td>1000037612098A00310000070000005765</td>\n",
              "      <td>3.5</td>\n",
              "      <td>SWQ003</td>\n",
              "      <td>BYC002</td>\n",
              "      <td>SWK001</td>\n",
              "      <td>None</td>\n",
              "    </tr>\n",
              "  </tbody>\n",
              "</table>\n",
              "<p>6650 rows × 6 columns</p>\n",
              "</div>"
            ],
            "text/plain": [
              "                                    UFID  WIDT    QUAL    BYYN    KIND geometry\n",
              "0     1000037612070A00310000000000154767   0.0  SWQ001  BYC001  SWK002     None\n",
              "1     1000037612070A00310000000000154768   0.0  SWQ001  BYC001  SWK002     None\n",
              "2     1000037612070A00310000000000154769   0.0  SWQ001  BYC001  SWK002     None\n",
              "3     1000037612070A00310000000000154793   3.0  SWQ003  BYC001  SWK001     None\n",
              "4     1000037612070A00310000000000154794   3.0  SWQ003  BYC001  SWK001     None\n",
              "...                                  ...   ...     ...     ...     ...      ...\n",
              "6645  1000037709083A00310000070000005528   6.0  SWQ003  BYC001  SWK001     None\n",
              "6646  1000037709083A00310000070000005529   6.0  SWQ003  BYC001  SWK001     None\n",
              "6647  1000037713001A00310000070000005753   3.0  SWQ003  BYC002  SWK001     None\n",
              "6648  1000037713002A00310000070000005754   3.0  SWQ003  BYC002  SWK001     None\n",
              "6649  1000037612098A00310000070000005765   3.5  SWQ003  BYC002  SWK001     None\n",
              "\n",
              "[6650 rows x 6 columns]"
            ]
          },
          "metadata": {
            "tags": []
          },
          "execution_count": 174
        }
      ]
    },
    {
      "cell_type": "code",
      "metadata": {
        "colab": {
          "base_uri": "https://localhost:8080/"
        },
        "id": "JAXIVMWMFpMK",
        "outputId": "3a89a851-e16a-4467-852d-44d311c2b5c3"
      },
      "source": [
        "인도.info()\r\n",
        "#UFID    인도별 고유 코드\r\n",
        "# WIDT    인도의 폭 \r\n",
        "# QUAL    인도의 재질을 나타내는 코드\r\n",
        "# BYYN    자전거도로의 유무\r\n",
        "# KIND    도로의 종류에 대한 정보"
      ],
      "execution_count": 175,
      "outputs": [
        {
          "output_type": "stream",
          "text": [
            "<class 'geopandas.geodataframe.GeoDataFrame'>\n",
            "RangeIndex: 6650 entries, 0 to 6649\n",
            "Data columns (total 6 columns):\n",
            " #   Column    Non-Null Count  Dtype   \n",
            "---  ------    --------------  -----   \n",
            " 0   UFID      6650 non-null   object  \n",
            " 1   WIDT      6650 non-null   float64 \n",
            " 2   QUAL      6650 non-null   object  \n",
            " 3   BYYN      6650 non-null   object  \n",
            " 4   KIND      6650 non-null   object  \n",
            " 5   geometry  0 non-null      geometry\n",
            "dtypes: float64(1), geometry(1), object(4)\n",
            "memory usage: 311.8+ KB\n"
          ],
          "name": "stdout"
        }
      ]
    },
    {
      "cell_type": "code",
      "metadata": {
        "colab": {
          "base_uri": "https://localhost:8080/",
          "height": 479
        },
        "id": "kga-5gMJCNPs",
        "outputId": "129bdf3b-7e95-4043-dfe0-0581eb50fc47"
      },
      "source": [
        "도로명주소 = gpd.read_file(colab_path + '27.수원시_도로명주소(건물).geojson')\r\n",
        "도로명주소.head()\r\n",
        "#BDTYP_CD    건물용도코드\r\n",
        "# BULD_NM    건축물대장 건물명 -> 삭제\r\n",
        "# BULD_NM_DC    상세건물명 -> 삭제\r\n",
        "# BULD_SE_CD    건물 구분 코드\r\n",
        "# BUL_MAN_NO    건물 일련번호\r\n",
        "# EMD_CD    읍면동 코드\r\n",
        "# GRO_FLO_CO    건물의 지상층수\r\n",
        "# LNBR_MNNM    건물의 지번본번\r\n",
        "# LNBR_SLNO    건물의 지번부번\r\n",
        "# UND_FLO_CO    건물의 지하층수"
      ],
      "execution_count": 176,
      "outputs": [
        {
          "output_type": "execute_result",
          "data": {
            "text/html": [
              "<div>\n",
              "<style scoped>\n",
              "    .dataframe tbody tr th:only-of-type {\n",
              "        vertical-align: middle;\n",
              "    }\n",
              "\n",
              "    .dataframe tbody tr th {\n",
              "        vertical-align: top;\n",
              "    }\n",
              "\n",
              "    .dataframe thead th {\n",
              "        text-align: right;\n",
              "    }\n",
              "</style>\n",
              "<table border=\"1\" class=\"dataframe\">\n",
              "  <thead>\n",
              "    <tr style=\"text-align: right;\">\n",
              "      <th></th>\n",
              "      <th>BDTYP_CD</th>\n",
              "      <th>BULD_NM</th>\n",
              "      <th>BULD_NM_DC</th>\n",
              "      <th>BULD_SE_CD</th>\n",
              "      <th>BUL_MAN_NO</th>\n",
              "      <th>EMD_CD</th>\n",
              "      <th>GRO_FLO_CO</th>\n",
              "      <th>LNBR_MNNM</th>\n",
              "      <th>LNBR_SLNO</th>\n",
              "      <th>UND_FLO_CO</th>\n",
              "      <th>geometry</th>\n",
              "    </tr>\n",
              "  </thead>\n",
              "  <tbody>\n",
              "    <tr>\n",
              "      <th>0</th>\n",
              "      <td>03199</td>\n",
              "      <td>None</td>\n",
              "      <td>None</td>\n",
              "      <td>0</td>\n",
              "      <td>79835</td>\n",
              "      <td>129</td>\n",
              "      <td>2</td>\n",
              "      <td>42</td>\n",
              "      <td>1</td>\n",
              "      <td>0</td>\n",
              "      <td>MULTIPOLYGON (((126.98724 37.32587, 126.98738 ...</td>\n",
              "    </tr>\n",
              "    <tr>\n",
              "      <th>1</th>\n",
              "      <td>03999</td>\n",
              "      <td>None</td>\n",
              "      <td>None</td>\n",
              "      <td>0</td>\n",
              "      <td>48024</td>\n",
              "      <td>137</td>\n",
              "      <td>3</td>\n",
              "      <td>260</td>\n",
              "      <td>32</td>\n",
              "      <td>0</td>\n",
              "      <td>MULTIPOLYGON (((127.02670 37.29163, 127.02682 ...</td>\n",
              "    </tr>\n",
              "    <tr>\n",
              "      <th>2</th>\n",
              "      <td>03999</td>\n",
              "      <td>None</td>\n",
              "      <td>None</td>\n",
              "      <td>0</td>\n",
              "      <td>71095</td>\n",
              "      <td>137</td>\n",
              "      <td>3</td>\n",
              "      <td>260</td>\n",
              "      <td>31</td>\n",
              "      <td>0</td>\n",
              "      <td>MULTIPOLYGON (((127.02683 37.29170, 127.02686 ...</td>\n",
              "    </tr>\n",
              "    <tr>\n",
              "      <th>3</th>\n",
              "      <td>01001</td>\n",
              "      <td>None</td>\n",
              "      <td>None</td>\n",
              "      <td>0</td>\n",
              "      <td>71094</td>\n",
              "      <td>137</td>\n",
              "      <td>2</td>\n",
              "      <td>260</td>\n",
              "      <td>30</td>\n",
              "      <td>0</td>\n",
              "      <td>MULTIPOLYGON (((127.02691 37.29185, 127.02694 ...</td>\n",
              "    </tr>\n",
              "    <tr>\n",
              "      <th>4</th>\n",
              "      <td>01001</td>\n",
              "      <td>None</td>\n",
              "      <td>None</td>\n",
              "      <td>0</td>\n",
              "      <td>14512</td>\n",
              "      <td>137</td>\n",
              "      <td>2</td>\n",
              "      <td>260</td>\n",
              "      <td>27</td>\n",
              "      <td>0</td>\n",
              "      <td>MULTIPOLYGON (((127.02694 37.29181, 127.02705 ...</td>\n",
              "    </tr>\n",
              "  </tbody>\n",
              "</table>\n",
              "</div>"
            ],
            "text/plain": [
              "  BDTYP_CD  ...                                           geometry\n",
              "0    03199  ...  MULTIPOLYGON (((126.98724 37.32587, 126.98738 ...\n",
              "1    03999  ...  MULTIPOLYGON (((127.02670 37.29163, 127.02682 ...\n",
              "2    03999  ...  MULTIPOLYGON (((127.02683 37.29170, 127.02686 ...\n",
              "3    01001  ...  MULTIPOLYGON (((127.02691 37.29185, 127.02694 ...\n",
              "4    01001  ...  MULTIPOLYGON (((127.02694 37.29181, 127.02705 ...\n",
              "\n",
              "[5 rows x 11 columns]"
            ]
          },
          "metadata": {
            "tags": []
          },
          "execution_count": 176
        }
      ]
    },
    {
      "cell_type": "code",
      "metadata": {
        "colab": {
          "base_uri": "https://localhost:8080/",
          "height": 430
        },
        "id": "SQtQy0SkNAeX",
        "outputId": "d5f809f6-3fa3-457d-bd47-d693f67f0a31"
      },
      "source": [
        "도로명주소['geometry'] = 도로명주소['geometry'].apply(multipolygon_to_coordinates)\r\n",
        "도로명주소.head()"
      ],
      "execution_count": 177,
      "outputs": [
        {
          "output_type": "stream",
          "text": [
            "/usr/local/lib/python3.7/dist-packages/geopandas/geodataframe.py:1321: UserWarning: Geometry column does not contain geometry.\n",
            "  warnings.warn(\"Geometry column does not contain geometry.\")\n"
          ],
          "name": "stderr"
        },
        {
          "output_type": "execute_result",
          "data": {
            "text/html": [
              "<div>\n",
              "<style scoped>\n",
              "    .dataframe tbody tr th:only-of-type {\n",
              "        vertical-align: middle;\n",
              "    }\n",
              "\n",
              "    .dataframe tbody tr th {\n",
              "        vertical-align: top;\n",
              "    }\n",
              "\n",
              "    .dataframe thead th {\n",
              "        text-align: right;\n",
              "    }\n",
              "</style>\n",
              "<table border=\"1\" class=\"dataframe\">\n",
              "  <thead>\n",
              "    <tr style=\"text-align: right;\">\n",
              "      <th></th>\n",
              "      <th>BDTYP_CD</th>\n",
              "      <th>BULD_NM</th>\n",
              "      <th>BULD_NM_DC</th>\n",
              "      <th>BULD_SE_CD</th>\n",
              "      <th>BUL_MAN_NO</th>\n",
              "      <th>EMD_CD</th>\n",
              "      <th>GRO_FLO_CO</th>\n",
              "      <th>LNBR_MNNM</th>\n",
              "      <th>LNBR_SLNO</th>\n",
              "      <th>UND_FLO_CO</th>\n",
              "      <th>geometry</th>\n",
              "    </tr>\n",
              "  </thead>\n",
              "  <tbody>\n",
              "    <tr>\n",
              "      <th>0</th>\n",
              "      <td>03199</td>\n",
              "      <td>None</td>\n",
              "      <td>None</td>\n",
              "      <td>0</td>\n",
              "      <td>79835</td>\n",
              "      <td>129</td>\n",
              "      <td>2</td>\n",
              "      <td>42</td>\n",
              "      <td>1</td>\n",
              "      <td>0</td>\n",
              "      <td>[[126.98724065183272, 37.325871368656884], [12...</td>\n",
              "    </tr>\n",
              "    <tr>\n",
              "      <th>1</th>\n",
              "      <td>03999</td>\n",
              "      <td>None</td>\n",
              "      <td>None</td>\n",
              "      <td>0</td>\n",
              "      <td>48024</td>\n",
              "      <td>137</td>\n",
              "      <td>3</td>\n",
              "      <td>260</td>\n",
              "      <td>32</td>\n",
              "      <td>0</td>\n",
              "      <td>[[127.0266952386987, 37.29163160413217], [127....</td>\n",
              "    </tr>\n",
              "    <tr>\n",
              "      <th>2</th>\n",
              "      <td>03999</td>\n",
              "      <td>None</td>\n",
              "      <td>None</td>\n",
              "      <td>0</td>\n",
              "      <td>71095</td>\n",
              "      <td>137</td>\n",
              "      <td>3</td>\n",
              "      <td>260</td>\n",
              "      <td>31</td>\n",
              "      <td>0</td>\n",
              "      <td>[[127.02683288105953, 37.29169633184529], [127...</td>\n",
              "    </tr>\n",
              "    <tr>\n",
              "      <th>3</th>\n",
              "      <td>01001</td>\n",
              "      <td>None</td>\n",
              "      <td>None</td>\n",
              "      <td>0</td>\n",
              "      <td>71094</td>\n",
              "      <td>137</td>\n",
              "      <td>2</td>\n",
              "      <td>260</td>\n",
              "      <td>30</td>\n",
              "      <td>0</td>\n",
              "      <td>[[127.02691312767476, 37.291849408780486], [12...</td>\n",
              "    </tr>\n",
              "    <tr>\n",
              "      <th>4</th>\n",
              "      <td>01001</td>\n",
              "      <td>None</td>\n",
              "      <td>None</td>\n",
              "      <td>0</td>\n",
              "      <td>14512</td>\n",
              "      <td>137</td>\n",
              "      <td>2</td>\n",
              "      <td>260</td>\n",
              "      <td>27</td>\n",
              "      <td>0</td>\n",
              "      <td>[[127.02693842442056, 37.291813191998436], [12...</td>\n",
              "    </tr>\n",
              "  </tbody>\n",
              "</table>\n",
              "</div>"
            ],
            "text/plain": [
              "  BDTYP_CD  ...                                           geometry\n",
              "0    03199  ...  [[126.98724065183272, 37.325871368656884], [12...\n",
              "1    03999  ...  [[127.0266952386987, 37.29163160413217], [127....\n",
              "2    03999  ...  [[127.02683288105953, 37.29169633184529], [127...\n",
              "3    01001  ...  [[127.02691312767476, 37.291849408780486], [12...\n",
              "4    01001  ...  [[127.02693842442056, 37.291813191998436], [12...\n",
              "\n",
              "[5 rows x 11 columns]"
            ]
          },
          "metadata": {
            "tags": []
          },
          "execution_count": 177
        }
      ]
    },
    {
      "cell_type": "code",
      "metadata": {
        "colab": {
          "base_uri": "https://localhost:8080/"
        },
        "id": "p2F88xEaE27R",
        "outputId": "139c3b6b-9a12-4616-e62a-3d01ea413336"
      },
      "source": [
        "도로명주소.info()"
      ],
      "execution_count": 178,
      "outputs": [
        {
          "output_type": "stream",
          "text": [
            "<class 'geopandas.geodataframe.GeoDataFrame'>\n",
            "RangeIndex: 71216 entries, 0 to 71215\n",
            "Data columns (total 11 columns):\n",
            " #   Column      Non-Null Count  Dtype \n",
            "---  ------      --------------  ----- \n",
            " 0   BDTYP_CD    71216 non-null  object\n",
            " 1   BULD_NM     16286 non-null  object\n",
            " 2   BULD_NM_DC  8102 non-null   object\n",
            " 3   BULD_SE_CD  71216 non-null  object\n",
            " 4   BUL_MAN_NO  71216 non-null  int64 \n",
            " 5   EMD_CD      71216 non-null  object\n",
            " 6   GRO_FLO_CO  71216 non-null  int64 \n",
            " 7   LNBR_MNNM   71216 non-null  int64 \n",
            " 8   LNBR_SLNO   71216 non-null  int64 \n",
            " 9   UND_FLO_CO  71216 non-null  int64 \n",
            " 10  geometry    71216 non-null  object\n",
            "dtypes: int64(5), object(6)\n",
            "memory usage: 6.0+ MB\n"
          ],
          "name": "stdout"
        }
      ]
    },
    {
      "cell_type": "code",
      "metadata": {
        "colab": {
          "base_uri": "https://localhost:8080/",
          "height": 204
        },
        "id": "wpj5puakDfXQ",
        "outputId": "46c93269-fd41-40ea-90b9-466d4dc6360c"
      },
      "source": [
        "지적도 = gpd.read_file(colab_path + '32.수원시_지적도.geojson')\r\n",
        "지적도.head()"
      ],
      "execution_count": 179,
      "outputs": [
        {
          "output_type": "execute_result",
          "data": {
            "text/html": [
              "<div>\n",
              "<style scoped>\n",
              "    .dataframe tbody tr th:only-of-type {\n",
              "        vertical-align: middle;\n",
              "    }\n",
              "\n",
              "    .dataframe tbody tr th {\n",
              "        vertical-align: top;\n",
              "    }\n",
              "\n",
              "    .dataframe thead th {\n",
              "        text-align: right;\n",
              "    }\n",
              "</style>\n",
              "<table border=\"1\" class=\"dataframe\">\n",
              "  <thead>\n",
              "    <tr style=\"text-align: right;\">\n",
              "      <th></th>\n",
              "      <th>PNU</th>\n",
              "      <th>JIBUN</th>\n",
              "      <th>geometry</th>\n",
              "    </tr>\n",
              "  </thead>\n",
              "  <tbody>\n",
              "    <tr>\n",
              "      <th>0</th>\n",
              "      <td>4111710300101670003</td>\n",
              "      <td>167-3전</td>\n",
              "      <td>MULTIPOLYGON (((127.05529 37.28866, 127.05533 ...</td>\n",
              "    </tr>\n",
              "    <tr>\n",
              "      <th>1</th>\n",
              "      <td>4111113800101980001</td>\n",
              "      <td>198-1전</td>\n",
              "      <td>MULTIPOLYGON (((127.01543 37.32614, 127.01547 ...</td>\n",
              "    </tr>\n",
              "    <tr>\n",
              "      <th>2</th>\n",
              "      <td>4111710300201190028</td>\n",
              "      <td>산119-28임</td>\n",
              "      <td>MULTIPOLYGON (((127.05120 37.28951, 127.05120 ...</td>\n",
              "    </tr>\n",
              "    <tr>\n",
              "      <th>3</th>\n",
              "      <td>4111710300109070001</td>\n",
              "      <td>907-1잡</td>\n",
              "      <td>MULTIPOLYGON (((127.03676 37.29320, 127.03723 ...</td>\n",
              "    </tr>\n",
              "    <tr>\n",
              "      <th>4</th>\n",
              "      <td>4111710300101770017</td>\n",
              "      <td>177-17임</td>\n",
              "      <td>MULTIPOLYGON (((127.05132 37.28945, 127.05170 ...</td>\n",
              "    </tr>\n",
              "  </tbody>\n",
              "</table>\n",
              "</div>"
            ],
            "text/plain": [
              "                   PNU  ...                                           geometry\n",
              "0  4111710300101670003  ...  MULTIPOLYGON (((127.05529 37.28866, 127.05533 ...\n",
              "1  4111113800101980001  ...  MULTIPOLYGON (((127.01543 37.32614, 127.01547 ...\n",
              "2  4111710300201190028  ...  MULTIPOLYGON (((127.05120 37.28951, 127.05120 ...\n",
              "3  4111710300109070001  ...  MULTIPOLYGON (((127.03676 37.29320, 127.03723 ...\n",
              "4  4111710300101770017  ...  MULTIPOLYGON (((127.05132 37.28945, 127.05170 ...\n",
              "\n",
              "[5 rows x 3 columns]"
            ]
          },
          "metadata": {
            "tags": []
          },
          "execution_count": 179
        }
      ]
    },
    {
      "cell_type": "code",
      "metadata": {
        "colab": {
          "base_uri": "https://localhost:8080/",
          "height": 260
        },
        "id": "bWCLzxCTMNTB",
        "outputId": "87363ddd-fb4e-4e56-8075-b045cd7f9459"
      },
      "source": [
        "지적도['geometry'] = 지적도['geometry'].apply(multipolygon_to_coordinates)\r\n",
        "지적도.head()"
      ],
      "execution_count": 180,
      "outputs": [
        {
          "output_type": "stream",
          "text": [
            "/usr/local/lib/python3.7/dist-packages/geopandas/geodataframe.py:1321: UserWarning: Geometry column does not contain geometry.\n",
            "  warnings.warn(\"Geometry column does not contain geometry.\")\n"
          ],
          "name": "stderr"
        },
        {
          "output_type": "execute_result",
          "data": {
            "text/html": [
              "<div>\n",
              "<style scoped>\n",
              "    .dataframe tbody tr th:only-of-type {\n",
              "        vertical-align: middle;\n",
              "    }\n",
              "\n",
              "    .dataframe tbody tr th {\n",
              "        vertical-align: top;\n",
              "    }\n",
              "\n",
              "    .dataframe thead th {\n",
              "        text-align: right;\n",
              "    }\n",
              "</style>\n",
              "<table border=\"1\" class=\"dataframe\">\n",
              "  <thead>\n",
              "    <tr style=\"text-align: right;\">\n",
              "      <th></th>\n",
              "      <th>PNU</th>\n",
              "      <th>JIBUN</th>\n",
              "      <th>geometry</th>\n",
              "    </tr>\n",
              "  </thead>\n",
              "  <tbody>\n",
              "    <tr>\n",
              "      <th>0</th>\n",
              "      <td>4111710300101670003</td>\n",
              "      <td>167-3전</td>\n",
              "      <td>[[127.05528958143441, 37.2886637490931], [127....</td>\n",
              "    </tr>\n",
              "    <tr>\n",
              "      <th>1</th>\n",
              "      <td>4111113800101980001</td>\n",
              "      <td>198-1전</td>\n",
              "      <td>[[127.01542984431295, 37.32613895945019], [127...</td>\n",
              "    </tr>\n",
              "    <tr>\n",
              "      <th>2</th>\n",
              "      <td>4111710300201190028</td>\n",
              "      <td>산119-28임</td>\n",
              "      <td>[[127.05120312136171, 37.28950604393701], [127...</td>\n",
              "    </tr>\n",
              "    <tr>\n",
              "      <th>3</th>\n",
              "      <td>4111710300109070001</td>\n",
              "      <td>907-1잡</td>\n",
              "      <td>[[127.03676458675396, 37.29319598101757], [127...</td>\n",
              "    </tr>\n",
              "    <tr>\n",
              "      <th>4</th>\n",
              "      <td>4111710300101770017</td>\n",
              "      <td>177-17임</td>\n",
              "      <td>[[127.05131698711158, 37.28945310556074], [127...</td>\n",
              "    </tr>\n",
              "  </tbody>\n",
              "</table>\n",
              "</div>"
            ],
            "text/plain": [
              "                   PNU  ...                                           geometry\n",
              "0  4111710300101670003  ...  [[127.05528958143441, 37.2886637490931], [127....\n",
              "1  4111113800101980001  ...  [[127.01542984431295, 37.32613895945019], [127...\n",
              "2  4111710300201190028  ...  [[127.05120312136171, 37.28950604393701], [127...\n",
              "3  4111710300109070001  ...  [[127.03676458675396, 37.29319598101757], [127...\n",
              "4  4111710300101770017  ...  [[127.05131698711158, 37.28945310556074], [127...\n",
              "\n",
              "[5 rows x 3 columns]"
            ]
          },
          "metadata": {
            "tags": []
          },
          "execution_count": 180
        }
      ]
    },
    {
      "cell_type": "code",
      "metadata": {
        "colab": {
          "base_uri": "https://localhost:8080/"
        },
        "id": "_GIvC8TxNHN6",
        "outputId": "49099b6a-7309-4336-f0cb-83730a0fac6a"
      },
      "source": [
        "지적도.info()"
      ],
      "execution_count": 181,
      "outputs": [
        {
          "output_type": "stream",
          "text": [
            "<class 'geopandas.geodataframe.GeoDataFrame'>\n",
            "RangeIndex: 128841 entries, 0 to 128840\n",
            "Data columns (total 3 columns):\n",
            " #   Column    Non-Null Count   Dtype \n",
            "---  ------    --------------   ----- \n",
            " 0   PNU       128841 non-null  object\n",
            " 1   JIBUN     128841 non-null  object\n",
            " 2   geometry  128841 non-null  object\n",
            "dtypes: object(3)\n",
            "memory usage: 2.9+ MB\n"
          ],
          "name": "stdout"
        }
      ]
    },
    {
      "cell_type": "code",
      "metadata": {
        "id": "HJpD5ficCqCK"
      },
      "source": [
        "#설치장소 필터링 "
      ],
      "execution_count": 182,
      "outputs": []
    },
    {
      "cell_type": "code",
      "metadata": {
        "id": "o1Cdj9oIQEAN"
      },
      "source": [
        "#교통량 분석\r\n",
        "#상세도로망 - 빈도강도, 시간강도\r\n",
        "#상세도로망 - 추정교통량 "
      ],
      "execution_count": 183,
      "outputs": []
    },
    {
      "cell_type": "markdown",
      "metadata": {
        "id": "MsjzfQcgTbgL"
      },
      "source": [
        "### 교통량 분석\r\n"
      ]
    },
    {
      "cell_type": "code",
      "metadata": {
        "colab": {
          "base_uri": "https://localhost:8080/"
        },
        "id": "v1shFGtbRHBn",
        "outputId": "fcc207e7-feb7-4d8c-fa72-28edf3ce92bc"
      },
      "source": [
        "상세도로망 = gpd.read_file(colab_path + '22.수원시_상세도로망_LV6.geojson')\r\n",
        "상세도로망.info()\r\n",
        "#link_id    해당 링크의 ID\r\n",
        "# max_speed    해당 도로의 제한속도\r\n",
        "# road_name    해당 도로의 명칭\r\n",
        "# road_no    해당 도로의 번호\r\n",
        "# road_rank    해당 도로의 도로등급코드\r\n",
        "# link_type    해당 도로의 링크종별코드\r\n",
        "# road_type    해당 도로의 교통시설물 종류\r\n",
        "# facil_name    해당 시설 명칭\r\n",
        "# up_lanes    해당 도로의 상행 차로수\r\n",
        "# dw_lanes    해당 도로의 하행 차로수\r\n",
        "# oneway    해당 도로의 일방통행 구분코드\r\n",
        "# length    해당 도로의 길이\r\n",
        "# width    해당 도로의 도로폭\r\n",
        "# car_lane    해당 도로의 자동차전용도로 구분코드\r\n",
        "# num_cross    해당 도로의 신호등 수 \r\n",
        "# barrier    해당 도로의 중앙분리대 구분코드\r\n",
        "# up_its_id    상행차로의 ITS_LINK_ID\r\n",
        "# dw_its_id    하행차로의 ITS_LINK_ID"
      ],
      "execution_count": 194,
      "outputs": [
        {
          "output_type": "stream",
          "text": [
            "<class 'geopandas.geodataframe.GeoDataFrame'>\n",
            "RangeIndex: 6653 entries, 0 to 6652\n",
            "Data columns (total 19 columns):\n",
            " #   Column      Non-Null Count  Dtype   \n",
            "---  ------      --------------  -----   \n",
            " 0   link_id     6653 non-null   object  \n",
            " 1   max_speed   6653 non-null   object  \n",
            " 2   road_name   5478 non-null   object  \n",
            " 3   road_no     6653 non-null   object  \n",
            " 4   road_rank   6653 non-null   object  \n",
            " 5   link_type   6653 non-null   object  \n",
            " 6   road_type   6653 non-null   object  \n",
            " 7   facil_name  179 non-null    object  \n",
            " 8   up_lanes    6653 non-null   object  \n",
            " 9   dw_lanes    6653 non-null   object  \n",
            " 10  oneway      6653 non-null   object  \n",
            " 11  length      6653 non-null   object  \n",
            " 12  width       6653 non-null   object  \n",
            " 13  car_lane    6653 non-null   object  \n",
            " 14  num_cross   6653 non-null   object  \n",
            " 15  barrier     6653 non-null   object  \n",
            " 16  up_its_id   6653 non-null   object  \n",
            " 17  dw_its_id   6653 non-null   object  \n",
            " 18  geometry    6653 non-null   geometry\n",
            "dtypes: geometry(1), object(18)\n",
            "memory usage: 987.7+ KB\n"
          ],
          "name": "stdout"
        }
      ]
    },
    {
      "cell_type": "code",
      "metadata": {
        "colab": {
          "base_uri": "https://localhost:8080/",
          "height": 479
        },
        "id": "WpBG_i2tT3nN",
        "outputId": "6404797d-c96a-48e4-c364-7a18b8dcfbe9"
      },
      "source": [
        "상세도로망.head()"
      ],
      "execution_count": 193,
      "outputs": [
        {
          "output_type": "execute_result",
          "data": {
            "text/html": [
              "<div>\n",
              "<style scoped>\n",
              "    .dataframe tbody tr th:only-of-type {\n",
              "        vertical-align: middle;\n",
              "    }\n",
              "\n",
              "    .dataframe tbody tr th {\n",
              "        vertical-align: top;\n",
              "    }\n",
              "\n",
              "    .dataframe thead th {\n",
              "        text-align: right;\n",
              "    }\n",
              "</style>\n",
              "<table border=\"1\" class=\"dataframe\">\n",
              "  <thead>\n",
              "    <tr style=\"text-align: right;\">\n",
              "      <th></th>\n",
              "      <th>link_id</th>\n",
              "      <th>max_speed</th>\n",
              "      <th>road_name</th>\n",
              "      <th>road_no</th>\n",
              "      <th>road_rank</th>\n",
              "      <th>link_type</th>\n",
              "      <th>road_type</th>\n",
              "      <th>facil_name</th>\n",
              "      <th>up_lanes</th>\n",
              "      <th>dw_lanes</th>\n",
              "      <th>oneway</th>\n",
              "      <th>length</th>\n",
              "      <th>width</th>\n",
              "      <th>car_lane</th>\n",
              "      <th>num_cross</th>\n",
              "      <th>barrier</th>\n",
              "      <th>up_its_id</th>\n",
              "      <th>dw_its_id</th>\n",
              "      <th>geometry</th>\n",
              "    </tr>\n",
              "  </thead>\n",
              "  <tbody>\n",
              "    <tr>\n",
              "      <th>0</th>\n",
              "      <td>478300330</td>\n",
              "      <td>60</td>\n",
              "      <td>삼천병마로</td>\n",
              "      <td>0</td>\n",
              "      <td>107</td>\n",
              "      <td>32768</td>\n",
              "      <td>0</td>\n",
              "      <td>None</td>\n",
              "      <td>1</td>\n",
              "      <td>1</td>\n",
              "      <td>0</td>\n",
              "      <td>0.081</td>\n",
              "      <td>2</td>\n",
              "      <td>0</td>\n",
              "      <td>0</td>\n",
              "      <td>0</td>\n",
              "      <td>2010013500</td>\n",
              "      <td>2010013600</td>\n",
              "      <td>MULTILINESTRING ((126.96360 37.24516, 126.9633...</td>\n",
              "    </tr>\n",
              "    <tr>\n",
              "      <th>1</th>\n",
              "      <td>478300581</td>\n",
              "      <td>80</td>\n",
              "      <td>매송고색로</td>\n",
              "      <td>43</td>\n",
              "      <td>103</td>\n",
              "      <td>32768</td>\n",
              "      <td>3</td>\n",
              "      <td>오목천교</td>\n",
              "      <td>3</td>\n",
              "      <td>3</td>\n",
              "      <td>0</td>\n",
              "      <td>0.056</td>\n",
              "      <td>4</td>\n",
              "      <td>0</td>\n",
              "      <td>0</td>\n",
              "      <td>3</td>\n",
              "      <td>2010001400</td>\n",
              "      <td>2010001300</td>\n",
              "      <td>MULTILINESTRING ((126.96904 37.24752, 126.9696...</td>\n",
              "    </tr>\n",
              "    <tr>\n",
              "      <th>2</th>\n",
              "      <td>478310046</td>\n",
              "      <td>80</td>\n",
              "      <td>매송고색로</td>\n",
              "      <td>43</td>\n",
              "      <td>103</td>\n",
              "      <td>32768</td>\n",
              "      <td>0</td>\n",
              "      <td>None</td>\n",
              "      <td>3</td>\n",
              "      <td>3</td>\n",
              "      <td>0</td>\n",
              "      <td>0.043</td>\n",
              "      <td>4</td>\n",
              "      <td>0</td>\n",
              "      <td>0</td>\n",
              "      <td>15</td>\n",
              "      <td>2010001703</td>\n",
              "      <td>2010001702</td>\n",
              "      <td>MULTILINESTRING ((126.98178 37.25112, 126.9822...</td>\n",
              "    </tr>\n",
              "    <tr>\n",
              "      <th>3</th>\n",
              "      <td>478310049</td>\n",
              "      <td>80</td>\n",
              "      <td>매송고색로</td>\n",
              "      <td>43</td>\n",
              "      <td>103</td>\n",
              "      <td>32768</td>\n",
              "      <td>0</td>\n",
              "      <td>None</td>\n",
              "      <td>3</td>\n",
              "      <td>3</td>\n",
              "      <td>0</td>\n",
              "      <td>0.035</td>\n",
              "      <td>4</td>\n",
              "      <td>0</td>\n",
              "      <td>0</td>\n",
              "      <td>15</td>\n",
              "      <td>2010001702</td>\n",
              "      <td>2010001703</td>\n",
              "      <td>MULTILINESTRING ((126.98263 37.25136, 126.9822...</td>\n",
              "    </tr>\n",
              "    <tr>\n",
              "      <th>4</th>\n",
              "      <td>478310050</td>\n",
              "      <td>80</td>\n",
              "      <td>매송고색로</td>\n",
              "      <td>43</td>\n",
              "      <td>103</td>\n",
              "      <td>32768</td>\n",
              "      <td>0</td>\n",
              "      <td>None</td>\n",
              "      <td>3</td>\n",
              "      <td>3</td>\n",
              "      <td>0</td>\n",
              "      <td>0.035</td>\n",
              "      <td>4</td>\n",
              "      <td>0</td>\n",
              "      <td>1</td>\n",
              "      <td>15</td>\n",
              "      <td>2010001704</td>\n",
              "      <td>2010001705</td>\n",
              "      <td>MULTILINESTRING ((126.98072 37.25081, 126.9805...</td>\n",
              "    </tr>\n",
              "  </tbody>\n",
              "</table>\n",
              "</div>"
            ],
            "text/plain": [
              "     link_id  ...                                           geometry\n",
              "0  478300330  ...  MULTILINESTRING ((126.96360 37.24516, 126.9633...\n",
              "1  478300581  ...  MULTILINESTRING ((126.96904 37.24752, 126.9696...\n",
              "2  478310046  ...  MULTILINESTRING ((126.98178 37.25112, 126.9822...\n",
              "3  478310049  ...  MULTILINESTRING ((126.98263 37.25136, 126.9822...\n",
              "4  478310050  ...  MULTILINESTRING ((126.98072 37.25081, 126.9805...\n",
              "\n",
              "[5 rows x 19 columns]"
            ]
          },
          "metadata": {
            "tags": []
          },
          "execution_count": 193
        }
      ]
    },
    {
      "cell_type": "code",
      "metadata": {
        "colab": {
          "base_uri": "https://localhost:8080/"
        },
        "id": "wKzPvukTR4D9",
        "outputId": "cfc294dc-e034-424b-f38e-766dff33ebb6"
      },
      "source": [
        "시간대교통량 = pd.read_csv(colab_path + '23.수원시_평일_일별_시간대별_추정교통량_LV6.csv')\r\n",
        "시간대교통량.info()\r\n",
        "# 상세도로망_LinkID    도로에 대한 정보입니다.\r\n",
        "# 도로등급    해당 도로의 등급입니다.\r\n",
        "# 링크길이    링크길이 정보입니다.\r\n",
        "# 도로명    도로 이름입니다.\r\n",
        "# 시도명    해당 시도 정보입니다.\r\n",
        "# 시군구명    해당 시군구 정보입니다.\r\n",
        "# 읍면동명    해당 읍면동 이름입니다.\r\n",
        "# 시간적범위    측정에 대한 시간적 범위 정보입니다.\r\n",
        "# 전체_추정교통량    전체 교통량 추정치입니다.\r\n",
        "# 승용차_추정교통량    승용차의 교통량 추정치입니다.\r\n",
        "# 버스_추정교통량    버스의 교통량 추정치입니다.\r\n",
        "# 화물차_추정교통량    화물차의 교통량 추정치입니다."
      ],
      "execution_count": 192,
      "outputs": [
        {
          "output_type": "stream",
          "text": [
            "<class 'pandas.core.frame.DataFrame'>\n",
            "RangeIndex: 291700 entries, 0 to 291699\n",
            "Data columns (total 12 columns):\n",
            " #   Column        Non-Null Count   Dtype  \n",
            "---  ------        --------------   -----  \n",
            " 0   상세도로망_LinkID  291700 non-null  int64  \n",
            " 1   도로등급          291700 non-null  int64  \n",
            " 2   링크길이          291700 non-null  float64\n",
            " 3   도로명           239525 non-null  object \n",
            " 4   시도명           291700 non-null  object \n",
            " 5   시군구명          291700 non-null  object \n",
            " 6   읍면동명          291700 non-null  object \n",
            " 7   시간적범위         291700 non-null  object \n",
            " 8   전체_추정교통량      291700 non-null  int64  \n",
            " 9   승용차_추정교통량     291700 non-null  int64  \n",
            " 10  버스_추정교통량      291700 non-null  int64  \n",
            " 11  화물차_추정교통량     291700 non-null  int64  \n",
            "dtypes: float64(1), int64(6), object(5)\n",
            "memory usage: 26.7+ MB\n"
          ],
          "name": "stdout"
        },
        {
          "output_type": "stream",
          "text": [
            "/usr/local/lib/python3.7/dist-packages/IPython/core/interactiveshell.py:2718: DtypeWarning: Columns (7) have mixed types.Specify dtype option on import or set low_memory=False.\n",
            "  interactivity=interactivity, compiler=compiler, result=result)\n"
          ],
          "name": "stderr"
        }
      ]
    },
    {
      "cell_type": "code",
      "metadata": {
        "colab": {
          "base_uri": "https://localhost:8080/",
          "height": 408
        },
        "id": "YnTarDabTjui",
        "outputId": "d2cb79db-84f4-4021-defd-1d3ad819c2d8"
      },
      "source": [
        "시간대교통량.head()"
      ],
      "execution_count": 190,
      "outputs": [
        {
          "output_type": "execute_result",
          "data": {
            "text/html": [
              "<div>\n",
              "<style scoped>\n",
              "    .dataframe tbody tr th:only-of-type {\n",
              "        vertical-align: middle;\n",
              "    }\n",
              "\n",
              "    .dataframe tbody tr th {\n",
              "        vertical-align: top;\n",
              "    }\n",
              "\n",
              "    .dataframe thead th {\n",
              "        text-align: right;\n",
              "    }\n",
              "</style>\n",
              "<table border=\"1\" class=\"dataframe\">\n",
              "  <thead>\n",
              "    <tr style=\"text-align: right;\">\n",
              "      <th></th>\n",
              "      <th>상세도로망_LinkID</th>\n",
              "      <th>도로등급</th>\n",
              "      <th>링크길이</th>\n",
              "      <th>도로명</th>\n",
              "      <th>시도명</th>\n",
              "      <th>시군구명</th>\n",
              "      <th>읍면동명</th>\n",
              "      <th>시간적범위</th>\n",
              "      <th>전체_추정교통량</th>\n",
              "      <th>승용차_추정교통량</th>\n",
              "      <th>버스_추정교통량</th>\n",
              "      <th>화물차_추정교통량</th>\n",
              "    </tr>\n",
              "  </thead>\n",
              "  <tbody>\n",
              "    <tr>\n",
              "      <th>0</th>\n",
              "      <td>47834670601</td>\n",
              "      <td>103</td>\n",
              "      <td>0.004</td>\n",
              "      <td>매송고색로</td>\n",
              "      <td>경기도</td>\n",
              "      <td>수원시권선구</td>\n",
              "      <td>평동</td>\n",
              "      <td>0</td>\n",
              "      <td>128</td>\n",
              "      <td>109</td>\n",
              "      <td>1</td>\n",
              "      <td>19</td>\n",
              "    </tr>\n",
              "    <tr>\n",
              "      <th>1</th>\n",
              "      <td>47834670602</td>\n",
              "      <td>103</td>\n",
              "      <td>0.004</td>\n",
              "      <td>매송고색로</td>\n",
              "      <td>경기도</td>\n",
              "      <td>수원시권선구</td>\n",
              "      <td>평동</td>\n",
              "      <td>0</td>\n",
              "      <td>114</td>\n",
              "      <td>102</td>\n",
              "      <td>1</td>\n",
              "      <td>11</td>\n",
              "    </tr>\n",
              "    <tr>\n",
              "      <th>2</th>\n",
              "      <td>47834131701</td>\n",
              "      <td>103</td>\n",
              "      <td>0.007</td>\n",
              "      <td>매송고색로</td>\n",
              "      <td>경기도</td>\n",
              "      <td>수원시권선구</td>\n",
              "      <td>평동</td>\n",
              "      <td>0</td>\n",
              "      <td>122</td>\n",
              "      <td>109</td>\n",
              "      <td>1</td>\n",
              "      <td>12</td>\n",
              "    </tr>\n",
              "    <tr>\n",
              "      <th>3</th>\n",
              "      <td>47834131702</td>\n",
              "      <td>103</td>\n",
              "      <td>0.007</td>\n",
              "      <td>매송고색로</td>\n",
              "      <td>경기도</td>\n",
              "      <td>수원시권선구</td>\n",
              "      <td>평동</td>\n",
              "      <td>0</td>\n",
              "      <td>131</td>\n",
              "      <td>111</td>\n",
              "      <td>1</td>\n",
              "      <td>19</td>\n",
              "    </tr>\n",
              "    <tr>\n",
              "      <th>4</th>\n",
              "      <td>47834086501</td>\n",
              "      <td>103</td>\n",
              "      <td>0.012</td>\n",
              "      <td>매송고색로</td>\n",
              "      <td>경기도</td>\n",
              "      <td>수원시권선구</td>\n",
              "      <td>평동</td>\n",
              "      <td>0</td>\n",
              "      <td>117</td>\n",
              "      <td>105</td>\n",
              "      <td>0</td>\n",
              "      <td>11</td>\n",
              "    </tr>\n",
              "  </tbody>\n",
              "</table>\n",
              "</div>"
            ],
            "text/plain": [
              "   상세도로망_LinkID  도로등급   링크길이    도로명  ... 전체_추정교통량 승용차_추정교통량 버스_추정교통량 화물차_추정교통량\n",
              "0   47834670601   103  0.004  매송고색로  ...      128       109        1        19\n",
              "1   47834670602   103  0.004  매송고색로  ...      114       102        1        11\n",
              "2   47834131701   103  0.007  매송고색로  ...      122       109        1        12\n",
              "3   47834131702   103  0.007  매송고색로  ...      131       111        1        19\n",
              "4   47834086501   103  0.012  매송고색로  ...      117       105        0        11\n",
              "\n",
              "[5 rows x 12 columns]"
            ]
          },
          "metadata": {
            "tags": []
          },
          "execution_count": 190
        }
      ]
    },
    {
      "cell_type": "code",
      "metadata": {
        "colab": {
          "base_uri": "https://localhost:8080/"
        },
        "id": "V8jxlLY2Vhp_",
        "outputId": "6b1dbe23-0588-4efc-bb9c-039c74772bb6"
      },
      "source": [
        "시간대교통량['시간적범위'].value_counts()"
      ],
      "execution_count": 198,
      "outputs": [
        {
          "output_type": "execute_result",
          "data": {
            "text/plain": [
              "fulltime    11668\n",
              "0            9607\n",
              "1            9607\n",
              "2            9607\n",
              "3            9607\n",
              "4            9607\n",
              "5            9607\n",
              "6            9607\n",
              "7            9607\n",
              "8            9407\n",
              "11           9250\n",
              "10           9250\n",
              "9            9250\n",
              "12           8573\n",
              "13           7918\n",
              "14           7724\n",
              "15           7025\n",
              "16           7014\n",
              "17           7014\n",
              "18           6982\n",
              "19           6462\n",
              "20           6065\n",
              "21           6065\n",
              "22           6045\n",
              "23           5960\n",
              "23           5708\n",
              "22           5623\n",
              "21           5603\n",
              "20           5603\n",
              "19           5206\n",
              "18           4686\n",
              "17           4654\n",
              "16           4654\n",
              "15           4643\n",
              "14           3944\n",
              "13           3750\n",
              "12           3095\n",
              "10           2418\n",
              "9            2418\n",
              "11           2418\n",
              "8            2261\n",
              "2            2061\n",
              "6            2061\n",
              "0            2061\n",
              "3            2061\n",
              "7            2061\n",
              "4            2061\n",
              "1            2061\n",
              "5            2061\n",
              "Name: 시간적범위, dtype: int64"
            ]
          },
          "metadata": {
            "tags": []
          },
          "execution_count": 198
        }
      ]
    },
    {
      "cell_type": "code",
      "metadata": {
        "id": "S6WYohAoTvPh"
      },
      "source": [
        "#상세도로망['geometry'] = 상세도로망['geometry'].buffer(0.001).apply(line_string_to_coordinates)\r\n",
        "상세도로망['geometry'] = 상세도로망['geometry'].apply(line_string_to_coordinates)\r\n",
        "상세도로망 = pd.DataFrame(상세도로망) # geopanadas 가 아닌 pandas 의 데이터프레임으로 꼭 바꿔줘야 합니다. \r\n",
        "상세도로망['width'] = 상세도로망['width'].apply(int) / 상세도로망['width'].apply(int).max() #정규화도로폭?"
      ],
      "execution_count": 205,
      "outputs": []
    },
    {
      "cell_type": "code",
      "metadata": {
        "colab": {
          "base_uri": "https://localhost:8080/",
          "height": 430
        },
        "id": "g7FC9i6JRgfp",
        "outputId": "43a832f8-e7ac-439c-b1ac-cc5d65ffa768"
      },
      "source": [
        "# 대부분의 사람은 7시에 주거지역에서 업무지역으로 움직일 것으로 가정\r\n",
        "# 버스만 고려\r\n",
        "시간대교통량_7시 = 시간대교통량[시간대교통량['시간적범위']==7]\r\n",
        "\r\n",
        "상세도로망_ = []\r\n",
        "for i in 상세도로망.link_id:\r\n",
        "    상세도로망.append([i,sum(시간대교통량_7시[시간대교통량_7시['상세도로망_LinkID'].apply(str).str.contains(i)]['버스_추정교통량'])])\r\n",
        "    \r\n",
        "상세도로망_ = pd.DataFrame(상세도로망).fillna(0)\r\n",
        "상세도로망_.columns = [\"상세도로망_LinkID\", \"버스_추정교통량\"]\r\n",
        "df_10_11_time7=pd.merge(상세도로망, 상세도로망_,on = '상세도로망_LinkID' )\r\n",
        "\r\n",
        "# 교통량 합이 가장 높은 도로\r\n",
        "df_10_11_time7.iloc[df_10_11_time7[\"교통량\"].sort_values(ascending=False).index].reindex().head()"
      ],
      "execution_count": 211,
      "outputs": [
        {
          "output_type": "error",
          "ename": "ValueError",
          "evalue": "ignored",
          "traceback": [
            "\u001b[0;31m---------------------------------------------------------------------------\u001b[0m",
            "\u001b[0;31mValueError\u001b[0m                                Traceback (most recent call last)",
            "\u001b[0;32m<ipython-input-211-7af77fb470fc>\u001b[0m in \u001b[0;36m<module>\u001b[0;34m()\u001b[0m\n\u001b[1;32m      8\u001b[0m \u001b[0;34m\u001b[0m\u001b[0m\n\u001b[1;32m      9\u001b[0m \u001b[0m상세도로망_\u001b[0m \u001b[0;34m=\u001b[0m \u001b[0mpd\u001b[0m\u001b[0;34m.\u001b[0m\u001b[0mDataFrame\u001b[0m\u001b[0;34m(\u001b[0m\u001b[0m상세도로망\u001b[0m\u001b[0;34m)\u001b[0m\u001b[0;34m.\u001b[0m\u001b[0mfillna\u001b[0m\u001b[0;34m(\u001b[0m\u001b[0;36m0\u001b[0m\u001b[0;34m)\u001b[0m\u001b[0;34m\u001b[0m\u001b[0;34m\u001b[0m\u001b[0m\n\u001b[0;32m---> 10\u001b[0;31m \u001b[0m상세도로망_\u001b[0m\u001b[0;34m.\u001b[0m\u001b[0mcolumns\u001b[0m \u001b[0;34m=\u001b[0m \u001b[0;34m[\u001b[0m\u001b[0;34m\"상세도로망_LinkID\"\u001b[0m\u001b[0;34m,\u001b[0m \u001b[0;34m\"버스_추정교통량\"\u001b[0m\u001b[0;34m]\u001b[0m\u001b[0;34m\u001b[0m\u001b[0;34m\u001b[0m\u001b[0m\n\u001b[0m\u001b[1;32m     11\u001b[0m \u001b[0mdf_10_11_time7\u001b[0m\u001b[0;34m=\u001b[0m\u001b[0mpd\u001b[0m\u001b[0;34m.\u001b[0m\u001b[0mmerge\u001b[0m\u001b[0;34m(\u001b[0m\u001b[0m상세도로망\u001b[0m\u001b[0;34m,\u001b[0m \u001b[0m상세도로망_\u001b[0m\u001b[0;34m,\u001b[0m\u001b[0mon\u001b[0m \u001b[0;34m=\u001b[0m \u001b[0;34m'상세도로망_LinkID'\u001b[0m \u001b[0;34m)\u001b[0m\u001b[0;34m\u001b[0m\u001b[0;34m\u001b[0m\u001b[0m\n\u001b[1;32m     12\u001b[0m \u001b[0;34m\u001b[0m\u001b[0m\n",
            "\u001b[0;32m/usr/local/lib/python3.7/dist-packages/pandas/core/generic.py\u001b[0m in \u001b[0;36m__setattr__\u001b[0;34m(self, name, value)\u001b[0m\n\u001b[1;32m   5152\u001b[0m         \u001b[0;32mtry\u001b[0m\u001b[0;34m:\u001b[0m\u001b[0;34m\u001b[0m\u001b[0;34m\u001b[0m\u001b[0m\n\u001b[1;32m   5153\u001b[0m             \u001b[0mobject\u001b[0m\u001b[0;34m.\u001b[0m\u001b[0m__getattribute__\u001b[0m\u001b[0;34m(\u001b[0m\u001b[0mself\u001b[0m\u001b[0;34m,\u001b[0m \u001b[0mname\u001b[0m\u001b[0;34m)\u001b[0m\u001b[0;34m\u001b[0m\u001b[0;34m\u001b[0m\u001b[0m\n\u001b[0;32m-> 5154\u001b[0;31m             \u001b[0;32mreturn\u001b[0m \u001b[0mobject\u001b[0m\u001b[0;34m.\u001b[0m\u001b[0m__setattr__\u001b[0m\u001b[0;34m(\u001b[0m\u001b[0mself\u001b[0m\u001b[0;34m,\u001b[0m \u001b[0mname\u001b[0m\u001b[0;34m,\u001b[0m \u001b[0mvalue\u001b[0m\u001b[0;34m)\u001b[0m\u001b[0;34m\u001b[0m\u001b[0;34m\u001b[0m\u001b[0m\n\u001b[0m\u001b[1;32m   5155\u001b[0m         \u001b[0;32mexcept\u001b[0m \u001b[0mAttributeError\u001b[0m\u001b[0;34m:\u001b[0m\u001b[0;34m\u001b[0m\u001b[0;34m\u001b[0m\u001b[0m\n\u001b[1;32m   5156\u001b[0m             \u001b[0;32mpass\u001b[0m\u001b[0;34m\u001b[0m\u001b[0;34m\u001b[0m\u001b[0m\n",
            "\u001b[0;32mpandas/_libs/properties.pyx\u001b[0m in \u001b[0;36mpandas._libs.properties.AxisProperty.__set__\u001b[0;34m()\u001b[0m\n",
            "\u001b[0;32m/usr/local/lib/python3.7/dist-packages/pandas/core/generic.py\u001b[0m in \u001b[0;36m_set_axis\u001b[0;34m(self, axis, labels)\u001b[0m\n\u001b[1;32m    562\u001b[0m     \u001b[0;32mdef\u001b[0m \u001b[0m_set_axis\u001b[0m\u001b[0;34m(\u001b[0m\u001b[0mself\u001b[0m\u001b[0;34m,\u001b[0m \u001b[0maxis\u001b[0m\u001b[0;34m:\u001b[0m \u001b[0mint\u001b[0m\u001b[0;34m,\u001b[0m \u001b[0mlabels\u001b[0m\u001b[0;34m:\u001b[0m \u001b[0mIndex\u001b[0m\u001b[0;34m)\u001b[0m \u001b[0;34m->\u001b[0m \u001b[0;32mNone\u001b[0m\u001b[0;34m:\u001b[0m\u001b[0;34m\u001b[0m\u001b[0;34m\u001b[0m\u001b[0m\n\u001b[1;32m    563\u001b[0m         \u001b[0mlabels\u001b[0m \u001b[0;34m=\u001b[0m \u001b[0mensure_index\u001b[0m\u001b[0;34m(\u001b[0m\u001b[0mlabels\u001b[0m\u001b[0;34m)\u001b[0m\u001b[0;34m\u001b[0m\u001b[0;34m\u001b[0m\u001b[0m\n\u001b[0;32m--> 564\u001b[0;31m         \u001b[0mself\u001b[0m\u001b[0;34m.\u001b[0m\u001b[0m_mgr\u001b[0m\u001b[0;34m.\u001b[0m\u001b[0mset_axis\u001b[0m\u001b[0;34m(\u001b[0m\u001b[0maxis\u001b[0m\u001b[0;34m,\u001b[0m \u001b[0mlabels\u001b[0m\u001b[0;34m)\u001b[0m\u001b[0;34m\u001b[0m\u001b[0;34m\u001b[0m\u001b[0m\n\u001b[0m\u001b[1;32m    565\u001b[0m         \u001b[0mself\u001b[0m\u001b[0;34m.\u001b[0m\u001b[0m_clear_item_cache\u001b[0m\u001b[0;34m(\u001b[0m\u001b[0;34m)\u001b[0m\u001b[0;34m\u001b[0m\u001b[0;34m\u001b[0m\u001b[0m\n\u001b[1;32m    566\u001b[0m \u001b[0;34m\u001b[0m\u001b[0m\n",
            "\u001b[0;32m/usr/local/lib/python3.7/dist-packages/pandas/core/internals/managers.py\u001b[0m in \u001b[0;36mset_axis\u001b[0;34m(self, axis, new_labels)\u001b[0m\n\u001b[1;32m    225\u001b[0m         \u001b[0;32mif\u001b[0m \u001b[0mnew_len\u001b[0m \u001b[0;34m!=\u001b[0m \u001b[0mold_len\u001b[0m\u001b[0;34m:\u001b[0m\u001b[0;34m\u001b[0m\u001b[0;34m\u001b[0m\u001b[0m\n\u001b[1;32m    226\u001b[0m             raise ValueError(\n\u001b[0;32m--> 227\u001b[0;31m                 \u001b[0;34mf\"Length mismatch: Expected axis has {old_len} elements, new \"\u001b[0m\u001b[0;34m\u001b[0m\u001b[0;34m\u001b[0m\u001b[0m\n\u001b[0m\u001b[1;32m    228\u001b[0m                 \u001b[0;34mf\"values have {new_len} elements\"\u001b[0m\u001b[0;34m\u001b[0m\u001b[0;34m\u001b[0m\u001b[0m\n\u001b[1;32m    229\u001b[0m             )\n",
            "\u001b[0;31mValueError\u001b[0m: Length mismatch: Expected axis has 19 elements, new values have 2 elements"
          ]
        }
      ]
    },
    {
      "cell_type": "code",
      "metadata": {
        "colab": {
          "base_uri": "https://localhost:8080/",
          "height": 244
        },
        "id": "pt3SiTpaY3nm",
        "outputId": "adb8c818-c97d-46d9-aa7b-e5686896d593"
      },
      "source": [
        "layer = pdk.Layer( 'PathLayer', \r\n",
        "                  df_10_11_time7, \r\n",
        "                  get_path='coordinate', \r\n",
        "                  get_width='교통량/2', \r\n",
        "                  get_color='[255, 255 * 정규화도로폭, 120]', \r\n",
        "                  pickable=True, auto_highlight=True \r\n",
        "                 ) \r\n",
        "\r\n",
        "center = [127.696280, 34.940640] \r\n",
        "view_state = pdk.ViewState( \r\n",
        "    longitude=center[0], \r\n",
        "    latitude=center[1], \r\n",
        "    zoom=10\r\n",
        ") \r\n",
        "r = pdk.Deck(layers=[layer], initial_view_state=view_state,\r\n",
        "            mapbox_key =\"pk.eyJ1IjoiaWx3b29sZWUiLCJhIjoiY2tsczRpYmRkMDA2czJ3bXM1MHQ0ZWM5aSJ9.m8U8iCHkhBFTpeQ-YNtg3A\") \r\n",
        "r.to_html()"
      ],
      "execution_count": 212,
      "outputs": [
        {
          "output_type": "error",
          "ename": "NameError",
          "evalue": "ignored",
          "traceback": [
            "\u001b[0;31m---------------------------------------------------------------------------\u001b[0m",
            "\u001b[0;31mNameError\u001b[0m                                 Traceback (most recent call last)",
            "\u001b[0;32m<ipython-input-212-d9b37f69127d>\u001b[0m in \u001b[0;36m<module>\u001b[0;34m()\u001b[0m\n\u001b[1;32m      1\u001b[0m layer = pdk.Layer( 'PathLayer', \n\u001b[0;32m----> 2\u001b[0;31m                   \u001b[0mdf_10_11_time7\u001b[0m\u001b[0;34m,\u001b[0m\u001b[0;34m\u001b[0m\u001b[0;34m\u001b[0m\u001b[0m\n\u001b[0m\u001b[1;32m      3\u001b[0m                   \u001b[0mget_path\u001b[0m\u001b[0;34m=\u001b[0m\u001b[0;34m'coordinate'\u001b[0m\u001b[0;34m,\u001b[0m\u001b[0;34m\u001b[0m\u001b[0;34m\u001b[0m\u001b[0m\n\u001b[1;32m      4\u001b[0m                   \u001b[0mget_width\u001b[0m\u001b[0;34m=\u001b[0m\u001b[0;34m'교통량/2'\u001b[0m\u001b[0;34m,\u001b[0m\u001b[0;34m\u001b[0m\u001b[0;34m\u001b[0m\u001b[0m\n\u001b[1;32m      5\u001b[0m                   \u001b[0mget_color\u001b[0m\u001b[0;34m=\u001b[0m\u001b[0;34m'[255, 255 * 정규화도로폭, 120]'\u001b[0m\u001b[0;34m,\u001b[0m\u001b[0;34m\u001b[0m\u001b[0;34m\u001b[0m\u001b[0m\n",
            "\u001b[0;31mNameError\u001b[0m: name 'df_10_11_time7' is not defined"
          ]
        }
      ]
    },
    {
      "cell_type": "code",
      "metadata": {
        "colab": {
          "base_uri": "https://localhost:8080/"
        },
        "id": "eiqreu7wbgKA",
        "outputId": "ff476e32-0a9f-400f-96d2-467db769c163"
      },
      "source": [
        "혼잡시간강도 = pd.read_csv(colab_path + \"25.수원시_평일_일별_혼잡시간강도_LV6.csv\")\r\n",
        "혼잡시간강도.info()"
      ],
      "execution_count": 216,
      "outputs": [
        {
          "output_type": "stream",
          "text": [
            "<class 'pandas.core.frame.DataFrame'>\n",
            "RangeIndex: 10855 entries, 0 to 10854\n",
            "Data columns (total 8 columns):\n",
            " #   Column        Non-Null Count  Dtype  \n",
            "---  ------        --------------  -----  \n",
            " 0   상세도로망_LinkID  10855 non-null  int64  \n",
            " 1   도로등급          10855 non-null  int64  \n",
            " 2   링크길이          10855 non-null  float64\n",
            " 3   도로명           9434 non-null   object \n",
            " 4   시도명           10855 non-null  object \n",
            " 5   시군구명          10855 non-null  object \n",
            " 6   읍면동명          10855 non-null  object \n",
            " 7   혼잡시간강도        10855 non-null  float64\n",
            "dtypes: float64(2), int64(2), object(4)\n",
            "memory usage: 678.6+ KB\n"
          ],
          "name": "stdout"
        }
      ]
    },
    {
      "cell_type": "code",
      "metadata": {
        "colab": {
          "base_uri": "https://localhost:8080/"
        },
        "id": "mZ1VPXpebUdo",
        "outputId": "88c5c171-c56b-480a-ed45-0d7b94af607a"
      },
      "source": [
        "혼잡빈도강도 = pd.read_csv(colab_path + \"24.수원시_평일_일별_혼잡빈도강도_LV6.csv\")\r\n",
        "혼잡빈도강도.info()"
      ],
      "execution_count": 217,
      "outputs": [
        {
          "output_type": "stream",
          "text": [
            "<class 'pandas.core.frame.DataFrame'>\n",
            "RangeIndex: 10855 entries, 0 to 10854\n",
            "Data columns (total 8 columns):\n",
            " #   Column        Non-Null Count  Dtype  \n",
            "---  ------        --------------  -----  \n",
            " 0   상세도로망_LinkID  10855 non-null  int64  \n",
            " 1   도로등급          10855 non-null  int64  \n",
            " 2   링크길이          10855 non-null  float64\n",
            " 3   도로명           9434 non-null   object \n",
            " 4   시도명           10855 non-null  object \n",
            " 5   시군구명          10855 non-null  object \n",
            " 6   읍면동명          10855 non-null  object \n",
            " 7   혼잡빈도강도        10855 non-null  float64\n",
            "dtypes: float64(2), int64(2), object(4)\n",
            "memory usage: 678.6+ KB\n"
          ],
          "name": "stdout"
        }
      ]
    },
    {
      "cell_type": "markdown",
      "metadata": {
        "id": "84S5TgjIbiPA"
      },
      "source": [
        "### 데이터 결합 [교통량(전일), 혼잡시간강도, 혼잡빈도강도]"
      ]
    },
    {
      "cell_type": "code",
      "metadata": {
        "colab": {
          "base_uri": "https://localhost:8080/"
        },
        "id": "ESKpemmob5L4",
        "outputId": "014c6036-4bc4-46fe-848f-de7a96986687"
      },
      "source": [
        "#교통량 데이터에서 시간적범위가 'fulltime'인 데이터만 필터링\r\n",
        "교통량_전일 = 시간대교통량[시간대교통량['시간적범위']=='fulltime']\r\n",
        "교통량_전일.info()"
      ],
      "execution_count": 218,
      "outputs": [
        {
          "output_type": "stream",
          "text": [
            "<class 'pandas.core.frame.DataFrame'>\n",
            "Int64Index: 11668 entries, 250662 to 274392\n",
            "Data columns (total 12 columns):\n",
            " #   Column        Non-Null Count  Dtype  \n",
            "---  ------        --------------  -----  \n",
            " 0   상세도로망_LinkID  11668 non-null  int64  \n",
            " 1   도로등급          11668 non-null  int64  \n",
            " 2   링크길이          11668 non-null  float64\n",
            " 3   도로명           9581 non-null   object \n",
            " 4   시도명           11668 non-null  object \n",
            " 5   시군구명          11668 non-null  object \n",
            " 6   읍면동명          11668 non-null  object \n",
            " 7   시간적범위         11668 non-null  object \n",
            " 8   전체_추정교통량      11668 non-null  int64  \n",
            " 9   승용차_추정교통량     11668 non-null  int64  \n",
            " 10  버스_추정교통량      11668 non-null  int64  \n",
            " 11  화물차_추정교통량     11668 non-null  int64  \n",
            "dtypes: float64(1), int64(6), object(5)\n",
            "memory usage: 1.2+ MB\n"
          ],
          "name": "stdout"
        }
      ]
    },
    {
      "cell_type": "code",
      "metadata": {
        "id": "gyBvcXVeca0B"
      },
      "source": [
        "#merge할 혼잡시간강도, 혼잡빈도강도 df 생성\r\n",
        "혼잡시간강도_전일 = 혼잡시간강도[['상세도로망_LinkID','혼잡시간강도']]\r\n",
        "혼잡빈도강도_전일 = 혼잡빈도강도[['상세도로망_LinkID','혼잡빈도강도']]"
      ],
      "execution_count": 219,
      "outputs": []
    },
    {
      "cell_type": "code",
      "metadata": {
        "id": "fUBFaLyRdDzR"
      },
      "source": [
        "#교통량_전일, 혼잡시간강도_전일, 혼잡빈도강도_전일 병합(merge)"
      ],
      "execution_count": null,
      "outputs": []
    }
  ]
}