{
  "nbformat": 4,
  "nbformat_minor": 0,
  "metadata": {
    "colab": {
      "name": "Food_Demand.ipynb",
      "provenance": [],
      "collapsed_sections": [],
      "machine_shape": "hm",
      "include_colab_link": true
    },
    "kernelspec": {
      "name": "python3",
      "display_name": "Python 3"
    }
  },
  "cells": [
    {
      "cell_type": "markdown",
      "metadata": {
        "id": "view-in-github",
        "colab_type": "text"
      },
      "source": [
        "<a href=\"https://colab.research.google.com/github/eruru0411/git-test/blob/master/Food_Demand.ipynb\" target=\"_parent\"><img src=\"https://colab.research.google.com/assets/colab-badge.svg\" alt=\"Open In Colab\"/></a>"
      ]
    },
    {
      "cell_type": "code",
      "metadata": {
        "id": "6LsuhT_DEoZ5"
      },
      "source": [
        "# train\n",
        "# 변수                          정의\n",
        "\n",
        "# ID       \t                   고유 ID\n",
        "# 주                             주 번호\n",
        "# center_id                    이행 센터의 고유 ID\n",
        "# meal_id                      식사의 고유 ID\n",
        "# 체크 아웃_가격 할인,     세금 및 배송비를 포함한 최종 가격 기준_가격 기준 식사 가격\n",
        "# e-mailer_for_promotion 식사 홍보를 위해 보낸 전자 메일러\n",
        "# 홈페이지 특집 식사       홈페이지에 소개된 식사\n",
        "# num_orders(대상)         주문 수- target\n",
        "\n",
        "\n",
        "# fulfilment_center_info.csv\n",
        "# 변수            정의\n",
        "# center_id       이행 센터의 고유 ID\n",
        "# city_code       도시의 고유 코드\n",
        "# region_code     지역에 대한 고유 코드\n",
        "# center type     익명 센터 유형\n",
        "# op_area         작동 영역(km^2)\n",
        "\n",
        "\n",
        "# meal_info.csv\n",
        "# 변수             정의\n",
        "# meal_id         식사의 고유 ID\n",
        "# category        식사 유형(음료/과자/국...)\n",
        "# cuisine(요리)   식사 요리(인도/이탈리아/…)"
      ],
      "execution_count": null,
      "outputs": []
    },
    {
      "cell_type": "code",
      "metadata": {
        "id": "VIioa4Vv0ra8"
      },
      "source": [
        "# 1. EDA  : 데이터 사전 탐색\n",
        "#    0) Dataframe 살펴보기\n",
        "#    1) 차트그리기\n",
        "# 2. 결측치/이상치 --> 처리\n",
        "# 3. 피쳐 전처리/가공\n",
        "# 4. 학습/평가 : f1, auc\n",
        "# 5. 검증(GridSearchCV, confusion_matrix)\n",
        "\n",
        "import pandas  as pd\n",
        "import numpy   as np\n",
        "import seaborn as sns\n",
        "import matplotlib.pyplot as plt\n",
        "\n",
        "from scipy            import stats\n",
        "from sklearn.ensemble import RandomForestClassifier\n",
        "from sklearn.metrics  import confusion_matrix, accuracy_score, f1_score, roc_auc_score,\\\n",
        "                             precision_score,recall_score, roc_curve, classification_report,precision_recall_curve\n",
        "from sklearn                 import preprocessing\n",
        "from sklearn.preprocessing   import StandardScaler,RobustScaler,MinMaxScaler, Binarizer, OneHotEncoder, LabelEncoder\n",
        "from sklearn.model_selection import train_test_split, cross_val_score, cross_validate, GridSearchCV, KFold\n",
        "import warnings\n",
        "warnings.filterwarnings(action=\"ignore\")\n",
        "barline = \"\\n============================================\"\n",
        "e = \"\\n\"\n",
        "\n",
        "# Dataframe 확인 ---------------------------------------\n",
        "def MyCheckDataframe(df, target=\"target\") :\n",
        "    print(\"Check Dataframe ----------------------------\")\n",
        "    print(\"Shape :\", e, df.shape)\n",
        "    print(\"Info  :\", e, df.info())\n",
        "    print(\"Head  :\", e, df.head())\n",
        "    print(\"Count :\", e, df[target].value_counts())\n",
        "\n",
        "    y = df[target]\n",
        "    X = df.drop(target, axis=1)\n",
        "    print(\"Target Shape :\", e, X.shape, y.shape, barline)\n",
        "    return X, y\n",
        "# X,y = CHECK_DATAFRAME(df, target=\"\")\n",
        "\n",
        "\n",
        "# -------------------------------------\n",
        "# 4-2. IQR : 25%~75% 범위 값\n",
        "# -------------------------------------\n",
        "def MyCheckOutlier(df=None, column=None, print=None):\n",
        "    # target 값과 상관관계가 높은 열을 우선적으로 진행\n",
        "    for k, v in df.items():\n",
        "        Q1 = v.quantile(0.25)\n",
        "        Q3 = v.quantile(0.75)\n",
        "        IQR = Q3 - Q1\n",
        "        IQR_weight = IQR * 1.5\n",
        "        minimum = Q1 - IQR_weight\n",
        "        maximum = Q3 + IQR_weight\n",
        "        outlier_idx = v[(v < minimum) | (v> maximum)].index\n",
        "\n",
        "        if print == True:\n",
        "            perc = np.shape(outlier_idx)[0] * 100.0 / np.shape(df)[0]\n",
        "            print(\"Column %s outliers = %.2f%%\" % (k, perc))\n",
        "\n",
        "    print(barline)\n",
        "    return outlier_idx\n",
        "    # Q1  = np.percentile(df[column].values, 25)\n",
        "    # Q3  = np.percentile(df[column].values, 75)\n",
        "    # IQR = Q3 - Q1\n",
        "    # IQR_weight  = IQR * 1.5\n",
        "    # minimum     = Q1 - IQR_weight\n",
        "    # maximum     = Q3 + IQR_weight\n",
        "    # outlier_idx = df[column][  (df[column] < minimum) | (df[column] > maximum)  ].index\n",
        "\n",
        "# outlier_idx = CHECK_OUTLIER(df=df, column=col)\n",
        "# print(col, oulier_idx)\n",
        "# df.drop(outlier_idx, axis=0, inplace=True)\n",
        "    #---------------------------------------------\n",
        "    # numeric_columns = df.dtypes[df.dtypes != 'object'].index\n",
        "    # for i, col in enumerate(numeric_columns) :\n",
        "    #     oulier_idx = CHECK_OUTLIER(df=df, column=col)\n",
        "    #     print(col , oulier_idx)\n",
        "    #     #df.drop(outlier_idx, axis=0, inplace=True)\n",
        "\n",
        "\n",
        "def MyCheckZeros(X):\n",
        "    print(\"Check Zeros --------------------------------\")\n",
        "    for col in X.columns:\n",
        "        gcnt = X[col][X[col] == 0].count()\n",
        "        print(col, \":\", gcnt, \"(\", np.round(gcnt / X.shape[0] * 100, 2), \")\")\n",
        "    print(barline)\n",
        "\n",
        "def MyCheckNull(X):\n",
        "    print(\"Check Null ---------------------------------\")\n",
        "    # print(df.isnull().sum())\n",
        "    for col in X.columns:\n",
        "        gcnt = X[col][X[col] == np.nan].count()\n",
        "        print(col, \":\", gcnt, \"(\", np.round(gcnt / X.shape[0] * 100, 2), \")\")\n",
        "    print(barline)\n",
        "\n",
        "def MyScores(y_test, pred, proba, str=None) :\n",
        "    print(\"Scores : {} ---------\" .format(str))\n",
        "    acc       = accuracy_score(y_test, pred)\n",
        "    f1        = f1_score(y_test, pred)\n",
        "    precision = precision_score(y_test, pred)\n",
        "    recall    = recall_score(y_test, pred)\n",
        "    auc       = roc_auc_score(y_test, proba[:, 1].reshape(-1, 1))\n",
        "    print(\"정확도{:.4f}  F1 {:.4f}=(정밀도{:.4f} 재현률{:.4f}) auc {:.4f}\" .format(acc, f1, precision, recall, auc))\n",
        "    cf_matrix = confusion_matrix(y_test, pred)\n",
        "    print(\"Confusion Matrix\", e, cf_matrix, barline)\n",
        "\n",
        "\n",
        "def MySplitFitPredict(model, X, y, str=None, rate=0.2, prc=False, roc=False) :\n",
        "    X_train ,X_test , y_train, y_test = train_test_split(X, y, test_size=rate, random_state=121)\n",
        "    model.fit(X_train, y_train)\n",
        "    pred  = model.predict(X_test)\n",
        "    proba = model.predict_proba(X_test)\n",
        "\n",
        "    MyScores(y_test, pred, proba, str)\n",
        "\n",
        "    if prc == True:\n",
        "        MyChartPrcRclCurve(y_test, proba)\n",
        "    if roc == True:\n",
        "        MyChartRocCurve(y_test, proba)\n",
        "    return proba # X_train, X_test, y_train, y_test, proba # , pred, proba\n",
        "# rf_model = RandomForestClassifier()\n",
        "# SPLIT_FIT_PREDICT(rf_model, X, y, str=\"최초점수\", 0.5)\n",
        "# SPLIT_FIT_PREDICT(rf_model, X, y)\n",
        "\n",
        "\n",
        "def MyChartHeatmap(df, targetClass=None, topn=0):\n",
        "    plt.figure(figsize=(10,6))\n",
        "    if   topn > 0 :\n",
        "        idx = df.corr().nlargest(topn, targetClass).index\n",
        "        print(\"Correlation: Top\", topn, e, idx, barline)\n",
        "        sns.heatmap(df[idx].corr(), annot=True, fmt=\".2g\", cmap=\"Blues\")\n",
        "    elif topn < 0 :\n",
        "        idx = df.corr().nsmallest(-1 * topn, targetClass).index\n",
        "        print(\"Correlation: Bottom\", -topn, e, idx, barline)\n",
        "        sns.heatmap(df[idx].corr(), annot=True, fmt=\".2g\", cmap=\"Blues\")\n",
        "        # cols = ['V12', 'V14', 'V10', 'V17', 'V3','Class']\n",
        "        # sns.heatmap(df[cols].corr(), annot=True, fmt=\".2g\", cmap=\"Blues\")\n",
        "    else :\n",
        "        sns.heatmap(df.corr(), annot=True, fmt=\".2g\", cmap=\"Blues\")\n",
        "    plt.show()\n",
        "# CHART_HEATMAP(df, 5)\n",
        "# CHART_HEATMAP(df, -5)\n",
        "# CHART_HEATMAP(df)\n",
        "\n",
        "def MyCrossValidate(model, X, y, cv=5) :\n",
        "    print(\"Cross Validation ---------------------------\")\n",
        "    my_score   = {\"acc\":\"accuracy\", \"f1\":\"f1\"}\n",
        "    score_list = cross_validate(model, X, y, scoring=my_score, cv=5, verbose=0)\n",
        "    score_df   = pd.DataFrame(score_list)\n",
        "    print(\"cross_validation 평균 정확도 : \" , score_df[\"test_acc\"].mean())\n",
        "    print(\"cross_validation 평균 f1    : \"    , score_df[\"test_f1\"].mean())\n",
        "    print(barline)\n",
        "# CROSS_VALIDATION(model, X, y)\n",
        "\n",
        "def MyGridSearchCV(my_hyper_param, model, X, y) :\n",
        "    print(\"GridSerchCV --------------------------------\")\n",
        "    X_train, X_test, y_train, y_test = train_test_split(X, y, test_size=0.2, random_state=121)\n",
        "    my_score  = {\"acc\": \"accuracy\", \"f1\": \"f1\"}\n",
        "    gcv_model = GridSearchCV(model, param_grid=my_hyper_param, scoring=my_score, refit=\"f1\", cv=5, verbose=0)\n",
        "    gcv_model.fit(X_train, y_train)\n",
        "\n",
        "    # print(\"best_estimator:\", gcv_model.best_estimator_)\n",
        "    print(\"best_params :\", gcv_model.best_params_)\n",
        "    print(\"best_score  :\", gcv_model.best_score_)\n",
        "    print(\"GridSearchCV 평균 정확도 : \", gcv_model.cv_results_[\"mean_test_acc\"].mean())  #mean_test_(본인의score키값)\n",
        "    print(\"GridSearchCV 평균 F1    : \", gcv_model.cv_results_[\"mean_test_f1\"].mean())\n",
        "    print(barline)\n",
        "# my_hyper_param = {  \"n_estimators\"     :[100]}\n",
        "# GRIDSEARCHCV(my_hyper_param, model, X_train, y_train)\n",
        "\n",
        "\n",
        "def MyGroupFillNa(bycol, cols, tcol):\n",
        "    dict = df.groupby(by=[bycol])[cols].mean().astype(np.int32).to_dict()\n",
        "    fill_mean_func = lambda gname: gname.fillna(dict[bycol][gname[tcol]])\n",
        "    df   = df.groupby(bycol).apply(fill_mean_func)\n",
        "    return df\n",
        "# df[\"Name2\"] = df[\"Name\"].str.extract(\"([A-Za-z]+)\\.\")\n",
        "# dict = df.groupby(by=[\"Name2\"])[[\"Name2\",\"Age\"]].mean().astype(np.int32).to_dict()\n",
        "# fill_mean_func = lambda gname: gname.fillna(dict['Age'][gname.name])\n",
        "# df = df.groupby('Name2').apply(fill_mean_func)\n",
        "# df = GROUP_FILLNA_MEAN(\"Name2\",[\"Name2\",\"Age\"],\"name\"\n",
        "\n",
        "def MyReplace(target_df, a, b) :\n",
        "    target_df = target_df.replace(a, b)\n",
        "    return target_df\n",
        "#DF_REPLACE(X[[\"Insulin\", \"BMI\"]], 0, X[[\"Insulin\", \"BMI\"]].median())\n",
        "#X[\"BMI\"] = DF_REPLACE(X[\"BMI\"], 0, 99)\n",
        "\n",
        "# def MyScaler(scaler_model):\n",
        "#     scaler   = scaler_model\n",
        "#     X_scaler = scaler.fit_transform(X)\n",
        "#     return X_scaler\n",
        "# # X_scaler = SCALER(StandardScaler())\n",
        "def MyScaler(X):\n",
        "    scaler   = StandardScaler()\n",
        "    X_scaler = scaler.fit_transform(X)\n",
        "    return X_scaler\n",
        "# X_scaler = SCALER(StandardScaler())\n",
        "\n",
        "def MyChartPrcRclCurve(y_test, proba):\n",
        "    precision, recall, th = precision_recall_curve(y_test, proba[:, 1])\n",
        "    print(len(precision), len(recall), len(th), barline)\n",
        "    plt.plot(th, precision[:len(th)], label=\"precision\")\n",
        "    plt.plot(th, recall[:len(th)],    label=\"recall\")\n",
        "    plt.xlabel(\"threadshold\"); plt.ylabel(\"precision & recall value\")\n",
        "    plt.legend()  # plt.legend([\"precision\",\"recall\"])\n",
        "    plt.grid()\n",
        "    plt.show()\n",
        "\n",
        "def MyChartRocCurve(y_test, proba):\n",
        "    fpr, tpr, th = roc_curve(y_test, proba[:, 1])\n",
        "    plt.plot(fpr, tpr, label='ROC')\n",
        "    plt.plot([0, 1], [0, 1], label='th:0.5')\n",
        "    # plt.title(auc)\n",
        "    plt.xlabel(\"FPR\"); plt.ylabel(\"TPR(recall)\")\n",
        "    plt.grid()\n",
        "    plt.show()\n",
        "\n",
        "\n",
        "# ------------------------------------------------\n",
        "# precision_recall_curve : 임계치 튜닝을 통한 점수 보정\n",
        "#-------------------------------------------------\n",
        "ths = [.4, .43, .45, .47, .49, .51, .53]\n",
        "def MyPrcRclTune(model, X, y, ths=ths):\n",
        "    for th in ths:\n",
        "        print(\"N : P =\", th, \":\", 1 - th)\n",
        "        prob = MySplitFitPredict(model, X, y, prc=True)\n",
        "        print(prob[4])\n",
        "        bn = Binarizer(threshold=ths)\n",
        "        fit_trans = bn.fit_transform(prob[:, 1].reshape(-1, 1))  # 세로로 reshape\n",
        "\n",
        "        auc = roc_auc_score(y_test, prob[:, 1].reshape(-1, 1))\n",
        "        print(auc)\n",
        "\n",
        "# ------------------------------------------------\n",
        "# boxplot : Boston-house-prices 사용\n",
        "# distplot: Boston-house-prices 사용\n",
        "#-------------------------------------------------\n",
        "def MyPlots(data, plot, ncols=7, nrows=2):\n",
        "    fig, axs = plt.subplots(ncols=ncols, nrows=nrows, figsize=(10, 10))\n",
        "    index = 0\n",
        "    axs = axs.flatten()     # 1차원으로 바꿔주기\n",
        "    for k, v in data.items():\n",
        "        if   plot == 'distplot':\n",
        "            sns.distplot(v, ax=axs[index])\n",
        "        elif plot == 'boxplot':\n",
        "            sns.boxplot(y=k, data=data, ax=axs[index])\n",
        "        index += 1\n",
        "    plt.tight_layout(pad=0.4, w_pad=0.5, h_pad=5.0)"
      ],
      "execution_count": null,
      "outputs": []
    },
    {
      "cell_type": "code",
      "metadata": {
        "colab": {
          "base_uri": "https://localhost:8080/"
        },
        "id": "03cm1gim3da3",
        "outputId": "2bbbef5e-8501-46d6-a2b7-1c616b31c536"
      },
      "source": [
        "from google.colab import drive\n",
        "drive.mount('/content/drive')"
      ],
      "execution_count": null,
      "outputs": [
        {
          "output_type": "stream",
          "text": [
            "Drive already mounted at /content/drive; to attempt to forcibly remount, call drive.mount(\"/content/drive\", force_remount=True).\n"
          ],
          "name": "stdout"
        }
      ]
    },
    {
      "cell_type": "code",
      "metadata": {
        "id": "Ox4eQtpB15Qf"
      },
      "source": [
        "df       =pd.read_csv('/content/drive/MyDrive/Food_Demand/train.csv')\n",
        "test        =pd.read_csv('/content/drive/MyDrive/Food_Demand/test_QoiMO9B.csv')\n",
        "submission  =pd.read_csv('/content/drive/MyDrive/Food_Demand/sample_submission_hSlSoT6.csv')\n",
        "\n",
        "\n",
        "meal        =pd.read_csv('/content/drive/MyDrive/Food_Demand/meal_info.csv')\n",
        "center  =pd.read_csv('/content/drive/MyDrive/Food_Demand/fulfilment_center_info.csv')"
      ],
      "execution_count": null,
      "outputs": []
    },
    {
      "cell_type": "code",
      "metadata": {
        "colab": {
          "base_uri": "https://localhost:8080/"
        },
        "id": "Sp6KxkTE5kQ1",
        "outputId": "ebee4537-ec5f-4acc-86d1-d3af55aa3663"
      },
      "source": [
        "print(\"The Shape of df :\",df.shape)\n",
        "print(\"The Shape of Fulmilment :\",center.shape)\n",
        "print(\"The Shape of Meal :\",meal.shape)\n",
        "print(\"The Shape of test :\",test.shape)"
      ],
      "execution_count": null,
      "outputs": [
        {
          "output_type": "stream",
          "text": [
            "The Shape of df : (456548, 9)\n",
            "The Shape of Fulmilment : (77, 5)\n",
            "The Shape of Meal : (51, 3)\n",
            "The Shape of test : (32573, 8)\n"
          ],
          "name": "stdout"
        }
      ]
    },
    {
      "cell_type": "code",
      "metadata": {
        "colab": {
          "base_uri": "https://localhost:8080/",
          "height": 195
        },
        "id": "PO6T2k5WIZ5m",
        "outputId": "83ed25cd-4f19-40b3-9104-6f434974aab6"
      },
      "source": [
        "center.head()"
      ],
      "execution_count": null,
      "outputs": [
        {
          "output_type": "execute_result",
          "data": {
            "text/html": [
              "<div>\n",
              "<style scoped>\n",
              "    .dataframe tbody tr th:only-of-type {\n",
              "        vertical-align: middle;\n",
              "    }\n",
              "\n",
              "    .dataframe tbody tr th {\n",
              "        vertical-align: top;\n",
              "    }\n",
              "\n",
              "    .dataframe thead th {\n",
              "        text-align: right;\n",
              "    }\n",
              "</style>\n",
              "<table border=\"1\" class=\"dataframe\">\n",
              "  <thead>\n",
              "    <tr style=\"text-align: right;\">\n",
              "      <th></th>\n",
              "      <th>center_id</th>\n",
              "      <th>city_code</th>\n",
              "      <th>region_code</th>\n",
              "      <th>center_type</th>\n",
              "      <th>op_area</th>\n",
              "    </tr>\n",
              "  </thead>\n",
              "  <tbody>\n",
              "    <tr>\n",
              "      <th>0</th>\n",
              "      <td>11</td>\n",
              "      <td>679</td>\n",
              "      <td>56</td>\n",
              "      <td>TYPE_A</td>\n",
              "      <td>3.7</td>\n",
              "    </tr>\n",
              "    <tr>\n",
              "      <th>1</th>\n",
              "      <td>13</td>\n",
              "      <td>590</td>\n",
              "      <td>56</td>\n",
              "      <td>TYPE_B</td>\n",
              "      <td>6.7</td>\n",
              "    </tr>\n",
              "    <tr>\n",
              "      <th>2</th>\n",
              "      <td>124</td>\n",
              "      <td>590</td>\n",
              "      <td>56</td>\n",
              "      <td>TYPE_C</td>\n",
              "      <td>4.0</td>\n",
              "    </tr>\n",
              "    <tr>\n",
              "      <th>3</th>\n",
              "      <td>66</td>\n",
              "      <td>648</td>\n",
              "      <td>34</td>\n",
              "      <td>TYPE_A</td>\n",
              "      <td>4.1</td>\n",
              "    </tr>\n",
              "    <tr>\n",
              "      <th>4</th>\n",
              "      <td>94</td>\n",
              "      <td>632</td>\n",
              "      <td>34</td>\n",
              "      <td>TYPE_C</td>\n",
              "      <td>3.6</td>\n",
              "    </tr>\n",
              "  </tbody>\n",
              "</table>\n",
              "</div>"
            ],
            "text/plain": [
              "   center_id  city_code  region_code center_type  op_area\n",
              "0         11        679           56      TYPE_A      3.7\n",
              "1         13        590           56      TYPE_B      6.7\n",
              "2        124        590           56      TYPE_C      4.0\n",
              "3         66        648           34      TYPE_A      4.1\n",
              "4         94        632           34      TYPE_C      3.6"
            ]
          },
          "metadata": {
            "tags": []
          },
          "execution_count": 5
        }
      ]
    },
    {
      "cell_type": "code",
      "metadata": {
        "colab": {
          "base_uri": "https://localhost:8080/",
          "height": 195
        },
        "id": "LenwqFJCIaDD",
        "outputId": "9fd9f90c-faf7-40c7-8245-ad7b5ae182d5"
      },
      "source": [
        "meal.head()"
      ],
      "execution_count": null,
      "outputs": [
        {
          "output_type": "execute_result",
          "data": {
            "text/html": [
              "<div>\n",
              "<style scoped>\n",
              "    .dataframe tbody tr th:only-of-type {\n",
              "        vertical-align: middle;\n",
              "    }\n",
              "\n",
              "    .dataframe tbody tr th {\n",
              "        vertical-align: top;\n",
              "    }\n",
              "\n",
              "    .dataframe thead th {\n",
              "        text-align: right;\n",
              "    }\n",
              "</style>\n",
              "<table border=\"1\" class=\"dataframe\">\n",
              "  <thead>\n",
              "    <tr style=\"text-align: right;\">\n",
              "      <th></th>\n",
              "      <th>meal_id</th>\n",
              "      <th>category</th>\n",
              "      <th>cuisine</th>\n",
              "    </tr>\n",
              "  </thead>\n",
              "  <tbody>\n",
              "    <tr>\n",
              "      <th>0</th>\n",
              "      <td>1885</td>\n",
              "      <td>Beverages</td>\n",
              "      <td>Thai</td>\n",
              "    </tr>\n",
              "    <tr>\n",
              "      <th>1</th>\n",
              "      <td>1993</td>\n",
              "      <td>Beverages</td>\n",
              "      <td>Thai</td>\n",
              "    </tr>\n",
              "    <tr>\n",
              "      <th>2</th>\n",
              "      <td>2539</td>\n",
              "      <td>Beverages</td>\n",
              "      <td>Thai</td>\n",
              "    </tr>\n",
              "    <tr>\n",
              "      <th>3</th>\n",
              "      <td>1248</td>\n",
              "      <td>Beverages</td>\n",
              "      <td>Indian</td>\n",
              "    </tr>\n",
              "    <tr>\n",
              "      <th>4</th>\n",
              "      <td>2631</td>\n",
              "      <td>Beverages</td>\n",
              "      <td>Indian</td>\n",
              "    </tr>\n",
              "  </tbody>\n",
              "</table>\n",
              "</div>"
            ],
            "text/plain": [
              "   meal_id   category cuisine\n",
              "0     1885  Beverages    Thai\n",
              "1     1993  Beverages    Thai\n",
              "2     2539  Beverages    Thai\n",
              "3     1248  Beverages  Indian\n",
              "4     2631  Beverages  Indian"
            ]
          },
          "metadata": {
            "tags": []
          },
          "execution_count": 8
        }
      ]
    },
    {
      "cell_type": "code",
      "metadata": {
        "colab": {
          "base_uri": "https://localhost:8080/",
          "height": 195
        },
        "id": "t2_7wVZ6Ja8Q",
        "outputId": "651f3184-217b-4221-d686-c6d86e24a692"
      },
      "source": [
        "df.head()"
      ],
      "execution_count": null,
      "outputs": [
        {
          "output_type": "execute_result",
          "data": {
            "text/html": [
              "<div>\n",
              "<style scoped>\n",
              "    .dataframe tbody tr th:only-of-type {\n",
              "        vertical-align: middle;\n",
              "    }\n",
              "\n",
              "    .dataframe tbody tr th {\n",
              "        vertical-align: top;\n",
              "    }\n",
              "\n",
              "    .dataframe thead th {\n",
              "        text-align: right;\n",
              "    }\n",
              "</style>\n",
              "<table border=\"1\" class=\"dataframe\">\n",
              "  <thead>\n",
              "    <tr style=\"text-align: right;\">\n",
              "      <th></th>\n",
              "      <th>id</th>\n",
              "      <th>week</th>\n",
              "      <th>center_id</th>\n",
              "      <th>meal_id</th>\n",
              "      <th>checkout_price</th>\n",
              "      <th>base_price</th>\n",
              "      <th>emailer_for_promotion</th>\n",
              "      <th>homepage_featured</th>\n",
              "      <th>num_orders</th>\n",
              "    </tr>\n",
              "  </thead>\n",
              "  <tbody>\n",
              "    <tr>\n",
              "      <th>0</th>\n",
              "      <td>1379560</td>\n",
              "      <td>1</td>\n",
              "      <td>55</td>\n",
              "      <td>1885</td>\n",
              "      <td>136.83</td>\n",
              "      <td>152.29</td>\n",
              "      <td>0</td>\n",
              "      <td>0</td>\n",
              "      <td>177</td>\n",
              "    </tr>\n",
              "    <tr>\n",
              "      <th>1</th>\n",
              "      <td>1466964</td>\n",
              "      <td>1</td>\n",
              "      <td>55</td>\n",
              "      <td>1993</td>\n",
              "      <td>136.83</td>\n",
              "      <td>135.83</td>\n",
              "      <td>0</td>\n",
              "      <td>0</td>\n",
              "      <td>270</td>\n",
              "    </tr>\n",
              "    <tr>\n",
              "      <th>2</th>\n",
              "      <td>1346989</td>\n",
              "      <td>1</td>\n",
              "      <td>55</td>\n",
              "      <td>2539</td>\n",
              "      <td>134.86</td>\n",
              "      <td>135.86</td>\n",
              "      <td>0</td>\n",
              "      <td>0</td>\n",
              "      <td>189</td>\n",
              "    </tr>\n",
              "    <tr>\n",
              "      <th>3</th>\n",
              "      <td>1338232</td>\n",
              "      <td>1</td>\n",
              "      <td>55</td>\n",
              "      <td>2139</td>\n",
              "      <td>339.50</td>\n",
              "      <td>437.53</td>\n",
              "      <td>0</td>\n",
              "      <td>0</td>\n",
              "      <td>54</td>\n",
              "    </tr>\n",
              "    <tr>\n",
              "      <th>4</th>\n",
              "      <td>1448490</td>\n",
              "      <td>1</td>\n",
              "      <td>55</td>\n",
              "      <td>2631</td>\n",
              "      <td>243.50</td>\n",
              "      <td>242.50</td>\n",
              "      <td>0</td>\n",
              "      <td>0</td>\n",
              "      <td>40</td>\n",
              "    </tr>\n",
              "  </tbody>\n",
              "</table>\n",
              "</div>"
            ],
            "text/plain": [
              "        id  week  ...  homepage_featured  num_orders\n",
              "0  1379560     1  ...                  0         177\n",
              "1  1466964     1  ...                  0         270\n",
              "2  1346989     1  ...                  0         189\n",
              "3  1338232     1  ...                  0          54\n",
              "4  1448490     1  ...                  0          40\n",
              "\n",
              "[5 rows x 9 columns]"
            ]
          },
          "metadata": {
            "tags": []
          },
          "execution_count": 9
        }
      ]
    },
    {
      "cell_type": "code",
      "metadata": {
        "id": "ulWi-eJOIi-S"
      },
      "source": [
        "df=pd.concat([df,test],axis=0)"
      ],
      "execution_count": null,
      "outputs": []
    },
    {
      "cell_type": "code",
      "metadata": {
        "id": "5pnX0fODIjAw"
      },
      "source": [
        "df=df.merge(center,on='center_id',how='left')"
      ],
      "execution_count": null,
      "outputs": []
    },
    {
      "cell_type": "code",
      "metadata": {
        "id": "l_CISNTiIjDK"
      },
      "source": [
        "df=df.merge(meal,on='meal_id',how='left')"
      ],
      "execution_count": null,
      "outputs": []
    },
    {
      "cell_type": "code",
      "metadata": {
        "colab": {
          "base_uri": "https://localhost:8080/",
          "height": 215
        },
        "id": "n0bWgsBs3Ox4",
        "outputId": "7966ec2e-15fe-4648-e0e5-a1e746a397ae"
      },
      "source": [
        "df.head()"
      ],
      "execution_count": null,
      "outputs": [
        {
          "output_type": "execute_result",
          "data": {
            "text/html": [
              "<div>\n",
              "<style scoped>\n",
              "    .dataframe tbody tr th:only-of-type {\n",
              "        vertical-align: middle;\n",
              "    }\n",
              "\n",
              "    .dataframe tbody tr th {\n",
              "        vertical-align: top;\n",
              "    }\n",
              "\n",
              "    .dataframe thead th {\n",
              "        text-align: right;\n",
              "    }\n",
              "</style>\n",
              "<table border=\"1\" class=\"dataframe\">\n",
              "  <thead>\n",
              "    <tr style=\"text-align: right;\">\n",
              "      <th></th>\n",
              "      <th>id</th>\n",
              "      <th>week</th>\n",
              "      <th>center_id</th>\n",
              "      <th>meal_id</th>\n",
              "      <th>checkout_price</th>\n",
              "      <th>base_price</th>\n",
              "      <th>emailer_for_promotion</th>\n",
              "      <th>homepage_featured</th>\n",
              "      <th>num_orders</th>\n",
              "      <th>city_code</th>\n",
              "      <th>region_code</th>\n",
              "      <th>center_type</th>\n",
              "      <th>op_area</th>\n",
              "      <th>category</th>\n",
              "      <th>cuisine</th>\n",
              "    </tr>\n",
              "  </thead>\n",
              "  <tbody>\n",
              "    <tr>\n",
              "      <th>0</th>\n",
              "      <td>1379560</td>\n",
              "      <td>1</td>\n",
              "      <td>55</td>\n",
              "      <td>1885</td>\n",
              "      <td>136.83</td>\n",
              "      <td>152.29</td>\n",
              "      <td>0</td>\n",
              "      <td>0</td>\n",
              "      <td>177.0</td>\n",
              "      <td>647</td>\n",
              "      <td>56</td>\n",
              "      <td>TYPE_C</td>\n",
              "      <td>2.0</td>\n",
              "      <td>Beverages</td>\n",
              "      <td>Thai</td>\n",
              "    </tr>\n",
              "    <tr>\n",
              "      <th>1</th>\n",
              "      <td>1466964</td>\n",
              "      <td>1</td>\n",
              "      <td>55</td>\n",
              "      <td>1993</td>\n",
              "      <td>136.83</td>\n",
              "      <td>135.83</td>\n",
              "      <td>0</td>\n",
              "      <td>0</td>\n",
              "      <td>270.0</td>\n",
              "      <td>647</td>\n",
              "      <td>56</td>\n",
              "      <td>TYPE_C</td>\n",
              "      <td>2.0</td>\n",
              "      <td>Beverages</td>\n",
              "      <td>Thai</td>\n",
              "    </tr>\n",
              "    <tr>\n",
              "      <th>2</th>\n",
              "      <td>1346989</td>\n",
              "      <td>1</td>\n",
              "      <td>55</td>\n",
              "      <td>2539</td>\n",
              "      <td>134.86</td>\n",
              "      <td>135.86</td>\n",
              "      <td>0</td>\n",
              "      <td>0</td>\n",
              "      <td>189.0</td>\n",
              "      <td>647</td>\n",
              "      <td>56</td>\n",
              "      <td>TYPE_C</td>\n",
              "      <td>2.0</td>\n",
              "      <td>Beverages</td>\n",
              "      <td>Thai</td>\n",
              "    </tr>\n",
              "    <tr>\n",
              "      <th>3</th>\n",
              "      <td>1338232</td>\n",
              "      <td>1</td>\n",
              "      <td>55</td>\n",
              "      <td>2139</td>\n",
              "      <td>339.50</td>\n",
              "      <td>437.53</td>\n",
              "      <td>0</td>\n",
              "      <td>0</td>\n",
              "      <td>54.0</td>\n",
              "      <td>647</td>\n",
              "      <td>56</td>\n",
              "      <td>TYPE_C</td>\n",
              "      <td>2.0</td>\n",
              "      <td>Beverages</td>\n",
              "      <td>Indian</td>\n",
              "    </tr>\n",
              "    <tr>\n",
              "      <th>4</th>\n",
              "      <td>1448490</td>\n",
              "      <td>1</td>\n",
              "      <td>55</td>\n",
              "      <td>2631</td>\n",
              "      <td>243.50</td>\n",
              "      <td>242.50</td>\n",
              "      <td>0</td>\n",
              "      <td>0</td>\n",
              "      <td>40.0</td>\n",
              "      <td>647</td>\n",
              "      <td>56</td>\n",
              "      <td>TYPE_C</td>\n",
              "      <td>2.0</td>\n",
              "      <td>Beverages</td>\n",
              "      <td>Indian</td>\n",
              "    </tr>\n",
              "  </tbody>\n",
              "</table>\n",
              "</div>"
            ],
            "text/plain": [
              "        id  week  center_id  meal_id  ...  center_type  op_area   category  cuisine\n",
              "0  1379560     1         55     1885  ...       TYPE_C      2.0  Beverages     Thai\n",
              "1  1466964     1         55     1993  ...       TYPE_C      2.0  Beverages     Thai\n",
              "2  1346989     1         55     2539  ...       TYPE_C      2.0  Beverages     Thai\n",
              "3  1338232     1         55     2139  ...       TYPE_C      2.0  Beverages   Indian\n",
              "4  1448490     1         55     2631  ...       TYPE_C      2.0  Beverages   Indian\n",
              "\n",
              "[5 rows x 15 columns]"
            ]
          },
          "metadata": {
            "tags": []
          },
          "execution_count": 13
        }
      ]
    },
    {
      "cell_type": "code",
      "metadata": {
        "id": "L32liXcQOLLQ"
      },
      "source": [
        "# #중위값 채우기\n",
        "# zero_column = [\"num_orders\"] #제로컬럼 나열(문제가 되는 피처들)\n",
        "\n",
        "# df[\"num_orders\"] = df[zero_column].median().round(1) #제로컬럼에 해당하는 각각의 중위값을 담음\n",
        "# df[\"num_orders\"] = df[zero_column].replace(0, zero_column_mean) #replace : 어떠한 값으로 바꾸어줄지를 설정 , 0인 애들을 중위값으로 채움"
      ],
      "execution_count": null,
      "outputs": []
    },
    {
      "cell_type": "code",
      "metadata": {
        "colab": {
          "base_uri": "https://localhost:8080/"
        },
        "id": "u3cI0dzGIZht",
        "outputId": "fd0b4a90-4587-488e-9886-5cbd59ad1c04"
      },
      "source": [
        "df.isnull().sum()"
      ],
      "execution_count": null,
      "outputs": [
        {
          "output_type": "execute_result",
          "data": {
            "text/plain": [
              "id                           0\n",
              "week                         0\n",
              "center_id                    0\n",
              "meal_id                      0\n",
              "checkout_price               0\n",
              "base_price                   0\n",
              "emailer_for_promotion        0\n",
              "homepage_featured            0\n",
              "num_orders               32573\n",
              "city_code                    0\n",
              "region_code                  0\n",
              "center_type                  0\n",
              "op_area                      0\n",
              "category                     0\n",
              "cuisine                      0\n",
              "dtype: int64"
            ]
          },
          "metadata": {
            "tags": []
          },
          "execution_count": 9
        }
      ]
    },
    {
      "cell_type": "code",
      "metadata": {
        "colab": {
          "base_uri": "https://localhost:8080/"
        },
        "id": "XWfRM7aiKMGs",
        "outputId": "ab45d9ba-9d3b-4adf-afc3-5dc82ff4755d"
      },
      "source": [
        "df.info()"
      ],
      "execution_count": null,
      "outputs": [
        {
          "output_type": "stream",
          "text": [
            "<class 'pandas.core.frame.DataFrame'>\n",
            "Int64Index: 489121 entries, 0 to 489120\n",
            "Data columns (total 15 columns):\n",
            " #   Column                 Non-Null Count   Dtype  \n",
            "---  ------                 --------------   -----  \n",
            " 0   id                     489121 non-null  int64  \n",
            " 1   week                   489121 non-null  int64  \n",
            " 2   center_id              489121 non-null  int64  \n",
            " 3   meal_id                489121 non-null  int64  \n",
            " 4   checkout_price         489121 non-null  float64\n",
            " 5   base_price             489121 non-null  float64\n",
            " 6   emailer_for_promotion  489121 non-null  int64  \n",
            " 7   homepage_featured      489121 non-null  int64  \n",
            " 8   num_orders             456548 non-null  float64\n",
            " 9   city_code              489121 non-null  int64  \n",
            " 10  region_code            489121 non-null  int64  \n",
            " 11  center_type            489121 non-null  object \n",
            " 12  op_area                489121 non-null  float64\n",
            " 13  category               489121 non-null  object \n",
            " 14  cuisine                489121 non-null  object \n",
            "dtypes: float64(4), int64(8), object(3)\n",
            "memory usage: 59.7+ MB\n"
          ],
          "name": "stdout"
        }
      ]
    },
    {
      "cell_type": "code",
      "metadata": {
        "colab": {
          "base_uri": "https://localhost:8080/"
        },
        "id": "dQN0o2VIO8sj",
        "outputId": "b4356ab0-91f1-4d68-f342-4c8b0f1fdaaa"
      },
      "source": [
        "print(df[[\"num_orders\"]].describe()) "
      ],
      "execution_count": null,
      "outputs": [
        {
          "output_type": "stream",
          "text": [
            "          num_orders\n",
            "count  456548.000000\n",
            "mean      261.872760\n",
            "std       395.922798\n",
            "min        13.000000\n",
            "25%        54.000000\n",
            "50%       136.000000\n",
            "75%       324.000000\n",
            "max     24299.000000\n"
          ],
          "name": "stdout"
        }
      ]
    },
    {
      "cell_type": "code",
      "metadata": {
        "colab": {
          "base_uri": "https://localhost:8080/",
          "height": 195
        },
        "id": "r2MRzZUT316m",
        "outputId": "c5839229-a90d-4e50-a570-4979a2b690e9"
      },
      "source": [
        "test.head()"
      ],
      "execution_count": null,
      "outputs": [
        {
          "output_type": "execute_result",
          "data": {
            "text/html": [
              "<div>\n",
              "<style scoped>\n",
              "    .dataframe tbody tr th:only-of-type {\n",
              "        vertical-align: middle;\n",
              "    }\n",
              "\n",
              "    .dataframe tbody tr th {\n",
              "        vertical-align: top;\n",
              "    }\n",
              "\n",
              "    .dataframe thead th {\n",
              "        text-align: right;\n",
              "    }\n",
              "</style>\n",
              "<table border=\"1\" class=\"dataframe\">\n",
              "  <thead>\n",
              "    <tr style=\"text-align: right;\">\n",
              "      <th></th>\n",
              "      <th>id</th>\n",
              "      <th>week</th>\n",
              "      <th>center_id</th>\n",
              "      <th>meal_id</th>\n",
              "      <th>checkout_price</th>\n",
              "      <th>base_price</th>\n",
              "      <th>emailer_for_promotion</th>\n",
              "      <th>homepage_featured</th>\n",
              "    </tr>\n",
              "  </thead>\n",
              "  <tbody>\n",
              "    <tr>\n",
              "      <th>0</th>\n",
              "      <td>1028232</td>\n",
              "      <td>146</td>\n",
              "      <td>55</td>\n",
              "      <td>1885</td>\n",
              "      <td>158.11</td>\n",
              "      <td>159.11</td>\n",
              "      <td>0</td>\n",
              "      <td>0</td>\n",
              "    </tr>\n",
              "    <tr>\n",
              "      <th>1</th>\n",
              "      <td>1127204</td>\n",
              "      <td>146</td>\n",
              "      <td>55</td>\n",
              "      <td>1993</td>\n",
              "      <td>160.11</td>\n",
              "      <td>159.11</td>\n",
              "      <td>0</td>\n",
              "      <td>0</td>\n",
              "    </tr>\n",
              "    <tr>\n",
              "      <th>2</th>\n",
              "      <td>1212707</td>\n",
              "      <td>146</td>\n",
              "      <td>55</td>\n",
              "      <td>2539</td>\n",
              "      <td>157.14</td>\n",
              "      <td>159.14</td>\n",
              "      <td>0</td>\n",
              "      <td>0</td>\n",
              "    </tr>\n",
              "    <tr>\n",
              "      <th>3</th>\n",
              "      <td>1082698</td>\n",
              "      <td>146</td>\n",
              "      <td>55</td>\n",
              "      <td>2631</td>\n",
              "      <td>162.02</td>\n",
              "      <td>162.02</td>\n",
              "      <td>0</td>\n",
              "      <td>0</td>\n",
              "    </tr>\n",
              "    <tr>\n",
              "      <th>4</th>\n",
              "      <td>1400926</td>\n",
              "      <td>146</td>\n",
              "      <td>55</td>\n",
              "      <td>1248</td>\n",
              "      <td>163.93</td>\n",
              "      <td>163.93</td>\n",
              "      <td>0</td>\n",
              "      <td>0</td>\n",
              "    </tr>\n",
              "  </tbody>\n",
              "</table>\n",
              "</div>"
            ],
            "text/plain": [
              "        id  week  ...  emailer_for_promotion  homepage_featured\n",
              "0  1028232   146  ...                      0                  0\n",
              "1  1127204   146  ...                      0                  0\n",
              "2  1212707   146  ...                      0                  0\n",
              "3  1082698   146  ...                      0                  0\n",
              "4  1400926   146  ...                      0                  0\n",
              "\n",
              "[5 rows x 8 columns]"
            ]
          },
          "metadata": {
            "tags": []
          },
          "execution_count": 12
        }
      ]
    },
    {
      "cell_type": "code",
      "metadata": {
        "colab": {
          "base_uri": "https://localhost:8080/",
          "height": 195
        },
        "id": "rib9wnXy4XNF",
        "outputId": "411540ec-ae51-4cda-8748-b90fc1456d1c"
      },
      "source": [
        "submission.head()"
      ],
      "execution_count": null,
      "outputs": [
        {
          "output_type": "execute_result",
          "data": {
            "text/html": [
              "<div>\n",
              "<style scoped>\n",
              "    .dataframe tbody tr th:only-of-type {\n",
              "        vertical-align: middle;\n",
              "    }\n",
              "\n",
              "    .dataframe tbody tr th {\n",
              "        vertical-align: top;\n",
              "    }\n",
              "\n",
              "    .dataframe thead th {\n",
              "        text-align: right;\n",
              "    }\n",
              "</style>\n",
              "<table border=\"1\" class=\"dataframe\">\n",
              "  <thead>\n",
              "    <tr style=\"text-align: right;\">\n",
              "      <th></th>\n",
              "      <th>id</th>\n",
              "      <th>num_orders</th>\n",
              "    </tr>\n",
              "  </thead>\n",
              "  <tbody>\n",
              "    <tr>\n",
              "      <th>0</th>\n",
              "      <td>1028232</td>\n",
              "      <td>0</td>\n",
              "    </tr>\n",
              "    <tr>\n",
              "      <th>1</th>\n",
              "      <td>1127204</td>\n",
              "      <td>0</td>\n",
              "    </tr>\n",
              "    <tr>\n",
              "      <th>2</th>\n",
              "      <td>1212707</td>\n",
              "      <td>0</td>\n",
              "    </tr>\n",
              "    <tr>\n",
              "      <th>3</th>\n",
              "      <td>1082698</td>\n",
              "      <td>0</td>\n",
              "    </tr>\n",
              "    <tr>\n",
              "      <th>4</th>\n",
              "      <td>1400926</td>\n",
              "      <td>0</td>\n",
              "    </tr>\n",
              "  </tbody>\n",
              "</table>\n",
              "</div>"
            ],
            "text/plain": [
              "        id  num_orders\n",
              "0  1028232           0\n",
              "1  1127204           0\n",
              "2  1212707           0\n",
              "3  1082698           0\n",
              "4  1400926           0"
            ]
          },
          "metadata": {
            "tags": []
          },
          "execution_count": 9
        }
      ]
    },
    {
      "cell_type": "code",
      "metadata": {
        "colab": {
          "base_uri": "https://localhost:8080/",
          "height": 195
        },
        "id": "3TVADcWM4dWr",
        "outputId": "5f3340d1-dbd3-47d0-fb06-f040a690193b"
      },
      "source": [
        "meal.head()"
      ],
      "execution_count": null,
      "outputs": [
        {
          "output_type": "execute_result",
          "data": {
            "text/html": [
              "<div>\n",
              "<style scoped>\n",
              "    .dataframe tbody tr th:only-of-type {\n",
              "        vertical-align: middle;\n",
              "    }\n",
              "\n",
              "    .dataframe tbody tr th {\n",
              "        vertical-align: top;\n",
              "    }\n",
              "\n",
              "    .dataframe thead th {\n",
              "        text-align: right;\n",
              "    }\n",
              "</style>\n",
              "<table border=\"1\" class=\"dataframe\">\n",
              "  <thead>\n",
              "    <tr style=\"text-align: right;\">\n",
              "      <th></th>\n",
              "      <th>meal_id</th>\n",
              "      <th>category</th>\n",
              "      <th>cuisine</th>\n",
              "    </tr>\n",
              "  </thead>\n",
              "  <tbody>\n",
              "    <tr>\n",
              "      <th>0</th>\n",
              "      <td>1885</td>\n",
              "      <td>Beverages</td>\n",
              "      <td>Thai</td>\n",
              "    </tr>\n",
              "    <tr>\n",
              "      <th>1</th>\n",
              "      <td>1993</td>\n",
              "      <td>Beverages</td>\n",
              "      <td>Thai</td>\n",
              "    </tr>\n",
              "    <tr>\n",
              "      <th>2</th>\n",
              "      <td>2539</td>\n",
              "      <td>Beverages</td>\n",
              "      <td>Thai</td>\n",
              "    </tr>\n",
              "    <tr>\n",
              "      <th>3</th>\n",
              "      <td>1248</td>\n",
              "      <td>Beverages</td>\n",
              "      <td>Indian</td>\n",
              "    </tr>\n",
              "    <tr>\n",
              "      <th>4</th>\n",
              "      <td>2631</td>\n",
              "      <td>Beverages</td>\n",
              "      <td>Indian</td>\n",
              "    </tr>\n",
              "  </tbody>\n",
              "</table>\n",
              "</div>"
            ],
            "text/plain": [
              "   meal_id   category cuisine\n",
              "0     1885  Beverages    Thai\n",
              "1     1993  Beverages    Thai\n",
              "2     2539  Beverages    Thai\n",
              "3     1248  Beverages  Indian\n",
              "4     2631  Beverages  Indian"
            ]
          },
          "metadata": {
            "tags": []
          },
          "execution_count": 10
        }
      ]
    },
    {
      "cell_type": "code",
      "metadata": {
        "colab": {
          "base_uri": "https://localhost:8080/",
          "height": 195
        },
        "id": "jLhMY7Ox4hrF",
        "outputId": "db46b043-41e3-430d-c411-0d2236fae590"
      },
      "source": [
        "fulfilment.head()"
      ],
      "execution_count": null,
      "outputs": [
        {
          "output_type": "execute_result",
          "data": {
            "text/html": [
              "<div>\n",
              "<style scoped>\n",
              "    .dataframe tbody tr th:only-of-type {\n",
              "        vertical-align: middle;\n",
              "    }\n",
              "\n",
              "    .dataframe tbody tr th {\n",
              "        vertical-align: top;\n",
              "    }\n",
              "\n",
              "    .dataframe thead th {\n",
              "        text-align: right;\n",
              "    }\n",
              "</style>\n",
              "<table border=\"1\" class=\"dataframe\">\n",
              "  <thead>\n",
              "    <tr style=\"text-align: right;\">\n",
              "      <th></th>\n",
              "      <th>center_id</th>\n",
              "      <th>city_code</th>\n",
              "      <th>region_code</th>\n",
              "      <th>center_type</th>\n",
              "      <th>op_area</th>\n",
              "    </tr>\n",
              "  </thead>\n",
              "  <tbody>\n",
              "    <tr>\n",
              "      <th>0</th>\n",
              "      <td>11</td>\n",
              "      <td>679</td>\n",
              "      <td>56</td>\n",
              "      <td>TYPE_A</td>\n",
              "      <td>3.7</td>\n",
              "    </tr>\n",
              "    <tr>\n",
              "      <th>1</th>\n",
              "      <td>13</td>\n",
              "      <td>590</td>\n",
              "      <td>56</td>\n",
              "      <td>TYPE_B</td>\n",
              "      <td>6.7</td>\n",
              "    </tr>\n",
              "    <tr>\n",
              "      <th>2</th>\n",
              "      <td>124</td>\n",
              "      <td>590</td>\n",
              "      <td>56</td>\n",
              "      <td>TYPE_C</td>\n",
              "      <td>4.0</td>\n",
              "    </tr>\n",
              "    <tr>\n",
              "      <th>3</th>\n",
              "      <td>66</td>\n",
              "      <td>648</td>\n",
              "      <td>34</td>\n",
              "      <td>TYPE_A</td>\n",
              "      <td>4.1</td>\n",
              "    </tr>\n",
              "    <tr>\n",
              "      <th>4</th>\n",
              "      <td>94</td>\n",
              "      <td>632</td>\n",
              "      <td>34</td>\n",
              "      <td>TYPE_C</td>\n",
              "      <td>3.6</td>\n",
              "    </tr>\n",
              "  </tbody>\n",
              "</table>\n",
              "</div>"
            ],
            "text/plain": [
              "   center_id  city_code  region_code center_type  op_area\n",
              "0         11        679           56      TYPE_A      3.7\n",
              "1         13        590           56      TYPE_B      6.7\n",
              "2        124        590           56      TYPE_C      4.0\n",
              "3         66        648           34      TYPE_A      4.1\n",
              "4         94        632           34      TYPE_C      3.6"
            ]
          },
          "metadata": {
            "tags": []
          },
          "execution_count": 11
        }
      ]
    },
    {
      "cell_type": "code",
      "metadata": {
        "colab": {
          "base_uri": "https://localhost:8080/"
        },
        "id": "ge8HBlXh4vUR",
        "outputId": "4496f6f5-6b7e-4b55-a4f1-86bf10fcfaab"
      },
      "source": [
        "df.info()"
      ],
      "execution_count": null,
      "outputs": [
        {
          "output_type": "stream",
          "text": [
            "<class 'pandas.core.frame.DataFrame'>\n",
            "Int64Index: 489121 entries, 0 to 489120\n",
            "Data columns (total 15 columns):\n",
            " #   Column                 Non-Null Count   Dtype  \n",
            "---  ------                 --------------   -----  \n",
            " 0   id                     489121 non-null  int64  \n",
            " 1   week                   489121 non-null  int64  \n",
            " 2   center_id              489121 non-null  int64  \n",
            " 3   meal_id                489121 non-null  int64  \n",
            " 4   checkout_price         489121 non-null  float64\n",
            " 5   base_price             489121 non-null  float64\n",
            " 6   emailer_for_promotion  489121 non-null  int64  \n",
            " 7   homepage_featured      489121 non-null  int64  \n",
            " 8   num_orders             456548 non-null  float64\n",
            " 9   city_code              489121 non-null  int64  \n",
            " 10  region_code            489121 non-null  int64  \n",
            " 11  center_type            489121 non-null  object \n",
            " 12  op_area                489121 non-null  float64\n",
            " 13  category               489121 non-null  object \n",
            " 14  cuisine                489121 non-null  object \n",
            "dtypes: float64(4), int64(8), object(3)\n",
            "memory usage: 59.7+ MB\n"
          ],
          "name": "stdout"
        }
      ]
    },
    {
      "cell_type": "code",
      "metadata": {
        "colab": {
          "base_uri": "https://localhost:8080/"
        },
        "id": "AqCxCAud49LI",
        "outputId": "d146f657-3c86-43d5-f99c-8a631c06238d"
      },
      "source": [
        "meal.info()"
      ],
      "execution_count": null,
      "outputs": [
        {
          "output_type": "stream",
          "text": [
            "<class 'pandas.core.frame.DataFrame'>\n",
            "RangeIndex: 51 entries, 0 to 50\n",
            "Data columns (total 3 columns):\n",
            " #   Column    Non-Null Count  Dtype \n",
            "---  ------    --------------  ----- \n",
            " 0   meal_id   51 non-null     int64 \n",
            " 1   category  51 non-null     object\n",
            " 2   cuisine   51 non-null     object\n",
            "dtypes: int64(1), object(2)\n",
            "memory usage: 1.3+ KB\n"
          ],
          "name": "stdout"
        }
      ]
    },
    {
      "cell_type": "code",
      "metadata": {
        "colab": {
          "base_uri": "https://localhost:8080/"
        },
        "id": "Da9yreUa5B3n",
        "outputId": "99610d42-43db-4a20-be5f-e1577a3b33b2"
      },
      "source": [
        "center.info()"
      ],
      "execution_count": null,
      "outputs": [
        {
          "output_type": "stream",
          "text": [
            "<class 'pandas.core.frame.DataFrame'>\n",
            "RangeIndex: 77 entries, 0 to 76\n",
            "Data columns (total 5 columns):\n",
            " #   Column       Non-Null Count  Dtype  \n",
            "---  ------       --------------  -----  \n",
            " 0   center_id    77 non-null     int64  \n",
            " 1   city_code    77 non-null     int64  \n",
            " 2   region_code  77 non-null     int64  \n",
            " 3   center_type  77 non-null     object \n",
            " 4   op_area      77 non-null     float64\n",
            "dtypes: float64(1), int64(3), object(1)\n",
            "memory usage: 3.1+ KB\n"
          ],
          "name": "stdout"
        }
      ]
    },
    {
      "cell_type": "code",
      "metadata": {
        "colab": {
          "base_uri": "https://localhost:8080/",
          "height": 481
        },
        "id": "-12e0Xua5FNo",
        "outputId": "3b74f36d-adbe-4d88-f47f-5c3f2b29ee07"
      },
      "source": [
        "MyChartHeatmap(df)"
      ],
      "execution_count": null,
      "outputs": [
        {
          "output_type": "display_data",
          "data": {
            "image/png": "[encoded data removed]",
            "text/plain": [
              "<Figure size 720x432 with 2 Axes>"
            ]
          },
          "metadata": {
            "tags": [],
            "needs_background": "light"
          }
        }
      ]
    },
    {
      "cell_type": "code",
      "metadata": {
        "id": "nhVNoKjU_D0p"
      },
      "source": [
        "df['Month'] = df['week'].apply(lambda x: int(x / 4))\n",
        "df['Year'] = df['week'].apply(lambda x: int(x / 52))\n",
        "df['Quarter'] = df['week'].apply(lambda x: int(x / 13))"
      ],
      "execution_count": null,
      "outputs": []
    },
    {
      "cell_type": "code",
      "metadata": {
        "id": "rxrPCobUDKWK"
      },
      "source": [
        "df = df.drop(\"id\", axis=1)"
      ],
      "execution_count": null,
      "outputs": []
    },
    {
      "cell_type": "code",
      "metadata": {
        "id": "HvjafwbhToAb"
      },
      "source": [
        "df = df.dropna(axis=0)\n"
      ],
      "execution_count": null,
      "outputs": []
    },
    {
      "cell_type": "code",
      "metadata": {
        "colab": {
          "base_uri": "https://localhost:8080/"
        },
        "id": "9F4mkppI_S-N",
        "outputId": "bc33b281-3adb-4628-ae59-5682a092ee9b"
      },
      "source": [
        "df.info()"
      ],
      "execution_count": null,
      "outputs": [
        {
          "output_type": "stream",
          "text": [
            "<class 'pandas.core.frame.DataFrame'>\n",
            "Int64Index: 456548 entries, 0 to 456547\n",
            "Data columns (total 17 columns):\n",
            " #   Column                 Non-Null Count   Dtype  \n",
            "---  ------                 --------------   -----  \n",
            " 0   week                   456548 non-null  int64  \n",
            " 1   center_id              456548 non-null  int64  \n",
            " 2   meal_id                456548 non-null  int64  \n",
            " 3   checkout_price         456548 non-null  float64\n",
            " 4   base_price             456548 non-null  float64\n",
            " 5   emailer_for_promotion  456548 non-null  int64  \n",
            " 6   homepage_featured      456548 non-null  int64  \n",
            " 7   num_orders             456548 non-null  float64\n",
            " 8   city_code              456548 non-null  int64  \n",
            " 9   region_code            456548 non-null  int64  \n",
            " 10  center_type            456548 non-null  object \n",
            " 11  op_area                456548 non-null  float64\n",
            " 12  category               456548 non-null  object \n",
            " 13  cuisine                456548 non-null  object \n",
            " 14  Month                  456548 non-null  int64  \n",
            " 15  Year                   456548 non-null  int64  \n",
            " 16  Quarter                456548 non-null  int64  \n",
            "dtypes: float64(4), int64(10), object(3)\n",
            "memory usage: 62.7+ MB\n"
          ],
          "name": "stdout"
        }
      ]
    },
    {
      "cell_type": "code",
      "metadata": {
        "id": "REI0hSV3Emdq"
      },
      "source": [
        ""
      ],
      "execution_count": null,
      "outputs": []
    },
    {
      "cell_type": "code",
      "metadata": {
        "colab": {
          "base_uri": "https://localhost:8080/",
          "height": 481
        },
        "id": "v-0lG5e3_eNI",
        "outputId": "8e542da9-2bfb-43c2-9126-cff4ca2764cd"
      },
      "source": [
        "MyChartHeatmap(df)"
      ],
      "execution_count": null,
      "outputs": [
        {
          "output_type": "display_data",
          "data": {
            "image/png": "[encoded data removed]",
            "text/plain": [
              "<Figure size 720x432 with 2 Axes>"
            ]
          },
          "metadata": {
            "tags": [],
            "needs_background": "light"
          }
        }
      ]
    },
    {
      "cell_type": "code",
      "metadata": {
        "colab": {
          "base_uri": "https://localhost:8080/",
          "height": 836
        },
        "id": "NuwmOoEwCguE",
        "outputId": "a86da8d7-d9f5-440d-c187-707c60b53253"
      },
      "source": [
        "df.hist(bins=10, figsize=(8,10))"
      ],
      "execution_count": null,
      "outputs": [
        {
          "output_type": "execute_result",
          "data": {
            "text/plain": [
              "array([[<matplotlib.axes._subplots.AxesSubplot object at 0x7f91f956c6d8>,\n",
              "        <matplotlib.axes._subplots.AxesSubplot object at 0x7f91f9468b00>,\n",
              "        <matplotlib.axes._subplots.AxesSubplot object at 0x7f91f940cd68>],\n",
              "       [<matplotlib.axes._subplots.AxesSubplot object at 0x7f91f9432fd0>,\n",
              "        <matplotlib.axes._subplots.AxesSubplot object at 0x7f91f93ee128>,\n",
              "        <matplotlib.axes._subplots.AxesSubplot object at 0x7f91f939b4a8>],\n",
              "       [<matplotlib.axes._subplots.AxesSubplot object at 0x7f91f934a828>,\n",
              "        <matplotlib.axes._subplots.AxesSubplot object at 0x7f91f9379b70>,\n",
              "        <matplotlib.axes._subplots.AxesSubplot object at 0x7f91f9379be0>],\n",
              "       [<matplotlib.axes._subplots.AxesSubplot object at 0x7f91f92e92e8>,\n",
              "        <matplotlib.axes._subplots.AxesSubplot object at 0x7f91f929d668>,\n",
              "        <matplotlib.axes._subplots.AxesSubplot object at 0x7f91f924d9e8>]],\n",
              "      dtype=object)"
            ]
          },
          "metadata": {
            "tags": []
          },
          "execution_count": 10
        },
        {
          "output_type": "display_data",
          "data": {
            "image/png": "[encoded data removed]",
            "text/plain": [
              "<Figure size 576x720 with 12 Axes>"
            ]
          },
          "metadata": {
            "tags": [],
            "needs_background": "light"
          }
        }
      ]
    },
    {
      "cell_type": "code",
      "metadata": {
        "colab": {
          "base_uri": "https://localhost:8080/",
          "height": 402
        },
        "id": "icGmQJAECxcg",
        "outputId": "66e2b153-4e36-495a-cb37-0589d58270b4"
      },
      "source": [
        "df.describe().transpose()"
      ],
      "execution_count": null,
      "outputs": [
        {
          "output_type": "execute_result",
          "data": {
            "text/html": [
              "<div>\n",
              "<style scoped>\n",
              "    .dataframe tbody tr th:only-of-type {\n",
              "        vertical-align: middle;\n",
              "    }\n",
              "\n",
              "    .dataframe tbody tr th {\n",
              "        vertical-align: top;\n",
              "    }\n",
              "\n",
              "    .dataframe thead th {\n",
              "        text-align: right;\n",
              "    }\n",
              "</style>\n",
              "<table border=\"1\" class=\"dataframe\">\n",
              "  <thead>\n",
              "    <tr style=\"text-align: right;\">\n",
              "      <th></th>\n",
              "      <th>count</th>\n",
              "      <th>mean</th>\n",
              "      <th>std</th>\n",
              "      <th>min</th>\n",
              "      <th>25%</th>\n",
              "      <th>50%</th>\n",
              "      <th>75%</th>\n",
              "      <th>max</th>\n",
              "    </tr>\n",
              "  </thead>\n",
              "  <tbody>\n",
              "    <tr>\n",
              "      <th>id</th>\n",
              "      <td>456548.0</td>\n",
              "      <td>1.250096e+06</td>\n",
              "      <td>144354.822378</td>\n",
              "      <td>1000000.00</td>\n",
              "      <td>1124998.75</td>\n",
              "      <td>1250183.50</td>\n",
              "      <td>1375140.25</td>\n",
              "      <td>1499999.00</td>\n",
              "    </tr>\n",
              "    <tr>\n",
              "      <th>week</th>\n",
              "      <td>456548.0</td>\n",
              "      <td>7.476877e+01</td>\n",
              "      <td>41.524956</td>\n",
              "      <td>1.00</td>\n",
              "      <td>39.00</td>\n",
              "      <td>76.00</td>\n",
              "      <td>111.00</td>\n",
              "      <td>145.00</td>\n",
              "    </tr>\n",
              "    <tr>\n",
              "      <th>center_id</th>\n",
              "      <td>456548.0</td>\n",
              "      <td>8.210580e+01</td>\n",
              "      <td>45.975046</td>\n",
              "      <td>10.00</td>\n",
              "      <td>43.00</td>\n",
              "      <td>76.00</td>\n",
              "      <td>110.00</td>\n",
              "      <td>186.00</td>\n",
              "    </tr>\n",
              "    <tr>\n",
              "      <th>meal_id</th>\n",
              "      <td>456548.0</td>\n",
              "      <td>2.024337e+03</td>\n",
              "      <td>547.420920</td>\n",
              "      <td>1062.00</td>\n",
              "      <td>1558.00</td>\n",
              "      <td>1993.00</td>\n",
              "      <td>2539.00</td>\n",
              "      <td>2956.00</td>\n",
              "    </tr>\n",
              "    <tr>\n",
              "      <th>checkout_price</th>\n",
              "      <td>456548.0</td>\n",
              "      <td>3.322389e+02</td>\n",
              "      <td>152.939723</td>\n",
              "      <td>2.97</td>\n",
              "      <td>228.95</td>\n",
              "      <td>296.82</td>\n",
              "      <td>445.23</td>\n",
              "      <td>866.27</td>\n",
              "    </tr>\n",
              "    <tr>\n",
              "      <th>base_price</th>\n",
              "      <td>456548.0</td>\n",
              "      <td>3.541566e+02</td>\n",
              "      <td>160.715914</td>\n",
              "      <td>55.35</td>\n",
              "      <td>243.50</td>\n",
              "      <td>310.46</td>\n",
              "      <td>458.87</td>\n",
              "      <td>866.27</td>\n",
              "    </tr>\n",
              "    <tr>\n",
              "      <th>emailer_for_promotion</th>\n",
              "      <td>456548.0</td>\n",
              "      <td>8.115247e-02</td>\n",
              "      <td>0.273069</td>\n",
              "      <td>0.00</td>\n",
              "      <td>0.00</td>\n",
              "      <td>0.00</td>\n",
              "      <td>0.00</td>\n",
              "      <td>1.00</td>\n",
              "    </tr>\n",
              "    <tr>\n",
              "      <th>homepage_featured</th>\n",
              "      <td>456548.0</td>\n",
              "      <td>1.091999e-01</td>\n",
              "      <td>0.311890</td>\n",
              "      <td>0.00</td>\n",
              "      <td>0.00</td>\n",
              "      <td>0.00</td>\n",
              "      <td>0.00</td>\n",
              "      <td>1.00</td>\n",
              "    </tr>\n",
              "    <tr>\n",
              "      <th>num_orders</th>\n",
              "      <td>456548.0</td>\n",
              "      <td>2.618728e+02</td>\n",
              "      <td>395.922798</td>\n",
              "      <td>13.00</td>\n",
              "      <td>54.00</td>\n",
              "      <td>136.00</td>\n",
              "      <td>324.00</td>\n",
              "      <td>24299.00</td>\n",
              "    </tr>\n",
              "    <tr>\n",
              "      <th>Month</th>\n",
              "      <td>456548.0</td>\n",
              "      <td>1.831845e+01</td>\n",
              "      <td>10.388115</td>\n",
              "      <td>0.00</td>\n",
              "      <td>9.00</td>\n",
              "      <td>19.00</td>\n",
              "      <td>27.00</td>\n",
              "      <td>36.00</td>\n",
              "    </tr>\n",
              "    <tr>\n",
              "      <th>Year</th>\n",
              "      <td>456548.0</td>\n",
              "      <td>9.692519e-01</td>\n",
              "      <td>0.795789</td>\n",
              "      <td>0.00</td>\n",
              "      <td>0.00</td>\n",
              "      <td>1.00</td>\n",
              "      <td>2.00</td>\n",
              "      <td>2.00</td>\n",
              "    </tr>\n",
              "    <tr>\n",
              "      <th>Quarter</th>\n",
              "      <td>456548.0</td>\n",
              "      <td>5.295553e+00</td>\n",
              "      <td>3.201207</td>\n",
              "      <td>0.00</td>\n",
              "      <td>3.00</td>\n",
              "      <td>5.00</td>\n",
              "      <td>8.00</td>\n",
              "      <td>11.00</td>\n",
              "    </tr>\n",
              "  </tbody>\n",
              "</table>\n",
              "</div>"
            ],
            "text/plain": [
              "                          count          mean  ...         75%         max\n",
              "id                     456548.0  1.250096e+06  ...  1375140.25  1499999.00\n",
              "week                   456548.0  7.476877e+01  ...      111.00      145.00\n",
              "center_id              456548.0  8.210580e+01  ...      110.00      186.00\n",
              "meal_id                456548.0  2.024337e+03  ...     2539.00     2956.00\n",
              "checkout_price         456548.0  3.322389e+02  ...      445.23      866.27\n",
              "base_price             456548.0  3.541566e+02  ...      458.87      866.27\n",
              "emailer_for_promotion  456548.0  8.115247e-02  ...        0.00        1.00\n",
              "homepage_featured      456548.0  1.091999e-01  ...        0.00        1.00\n",
              "num_orders             456548.0  2.618728e+02  ...      324.00    24299.00\n",
              "Month                  456548.0  1.831845e+01  ...       27.00       36.00\n",
              "Year                   456548.0  9.692519e-01  ...        2.00        2.00\n",
              "Quarter                456548.0  5.295553e+00  ...        8.00       11.00\n",
              "\n",
              "[12 rows x 8 columns]"
            ]
          },
          "metadata": {
            "tags": []
          },
          "execution_count": 11
        }
      ]
    },
    {
      "cell_type": "code",
      "metadata": {
        "colab": {
          "base_uri": "https://localhost:8080/",
          "height": 854
        },
        "id": "8acBAE67BgpO",
        "outputId": "41968396-a9e4-4939-9d53-38d8628fb571"
      },
      "source": [
        "MyPlots(df, \"boxplot\", ncols=5, nrows=2)"
      ],
      "execution_count": null,
      "outputs": [
        {
          "output_type": "error",
          "ename": "IndexError",
          "evalue": "ignored",
          "traceback": [
            "\u001b[0;31m---------------------------------------------------------------------------\u001b[0m",
            "\u001b[0;31mIndexError\u001b[0m                                Traceback (most recent call last)",
            "\u001b[0;32m<ipython-input-65-9cc6c3148615>\u001b[0m in \u001b[0;36m<module>\u001b[0;34m()\u001b[0m\n\u001b[0;32m----> 1\u001b[0;31m \u001b[0mMyPlots\u001b[0m\u001b[0;34m(\u001b[0m\u001b[0mdf\u001b[0m\u001b[0;34m,\u001b[0m \u001b[0;34m\"boxplot\"\u001b[0m\u001b[0;34m,\u001b[0m \u001b[0mncols\u001b[0m\u001b[0;34m=\u001b[0m\u001b[0;36m5\u001b[0m\u001b[0;34m,\u001b[0m \u001b[0mnrows\u001b[0m\u001b[0;34m=\u001b[0m\u001b[0;36m2\u001b[0m\u001b[0;34m)\u001b[0m\u001b[0;34m\u001b[0m\u001b[0;34m\u001b[0m\u001b[0m\n\u001b[0m",
            "\u001b[0;32m<ipython-input-24-ffe4a090c9a3>\u001b[0m in \u001b[0;36mMyPlots\u001b[0;34m(data, plot, ncols, nrows)\u001b[0m\n\u001b[1;32m    243\u001b[0m             \u001b[0msns\u001b[0m\u001b[0;34m.\u001b[0m\u001b[0mdistplot\u001b[0m\u001b[0;34m(\u001b[0m\u001b[0mv\u001b[0m\u001b[0;34m,\u001b[0m \u001b[0max\u001b[0m\u001b[0;34m=\u001b[0m\u001b[0maxs\u001b[0m\u001b[0;34m[\u001b[0m\u001b[0mindex\u001b[0m\u001b[0;34m]\u001b[0m\u001b[0;34m)\u001b[0m\u001b[0;34m\u001b[0m\u001b[0;34m\u001b[0m\u001b[0m\n\u001b[1;32m    244\u001b[0m         \u001b[0;32melif\u001b[0m \u001b[0mplot\u001b[0m \u001b[0;34m==\u001b[0m \u001b[0;34m'boxplot'\u001b[0m\u001b[0;34m:\u001b[0m\u001b[0;34m\u001b[0m\u001b[0;34m\u001b[0m\u001b[0m\n\u001b[0;32m--> 245\u001b[0;31m             \u001b[0msns\u001b[0m\u001b[0;34m.\u001b[0m\u001b[0mboxplot\u001b[0m\u001b[0;34m(\u001b[0m\u001b[0my\u001b[0m\u001b[0;34m=\u001b[0m\u001b[0mk\u001b[0m\u001b[0;34m,\u001b[0m \u001b[0mdata\u001b[0m\u001b[0;34m=\u001b[0m\u001b[0mdata\u001b[0m\u001b[0;34m,\u001b[0m \u001b[0max\u001b[0m\u001b[0;34m=\u001b[0m\u001b[0maxs\u001b[0m\u001b[0;34m[\u001b[0m\u001b[0mindex\u001b[0m\u001b[0;34m]\u001b[0m\u001b[0;34m)\u001b[0m\u001b[0;34m\u001b[0m\u001b[0;34m\u001b[0m\u001b[0m\n\u001b[0m\u001b[1;32m    246\u001b[0m         \u001b[0mindex\u001b[0m \u001b[0;34m+=\u001b[0m \u001b[0;36m1\u001b[0m\u001b[0;34m\u001b[0m\u001b[0;34m\u001b[0m\u001b[0m\n\u001b[1;32m    247\u001b[0m     \u001b[0mplt\u001b[0m\u001b[0;34m.\u001b[0m\u001b[0mtight_layout\u001b[0m\u001b[0;34m(\u001b[0m\u001b[0mpad\u001b[0m\u001b[0;34m=\u001b[0m\u001b[0;36m0.4\u001b[0m\u001b[0;34m,\u001b[0m \u001b[0mw_pad\u001b[0m\u001b[0;34m=\u001b[0m\u001b[0;36m0.5\u001b[0m\u001b[0;34m,\u001b[0m \u001b[0mh_pad\u001b[0m\u001b[0;34m=\u001b[0m\u001b[0;36m5.0\u001b[0m\u001b[0;34m)\u001b[0m\u001b[0;34m\u001b[0m\u001b[0;34m\u001b[0m\u001b[0m\n",
            "\u001b[0;31mIndexError\u001b[0m: index 10 is out of bounds for axis 0 with size 10"
          ]
        },
        {
          "output_type": "display_data",
          "data": {
            "image/png": "[encoded data removed]",
            "text/plain": [
              "<Figure size 720x720 with 10 Axes>"
            ]
          },
          "metadata": {
            "tags": [],
            "needs_background": "light"
          }
        }
      ]
    },
    {
      "cell_type": "code",
      "metadata": {
        "colab": {
          "base_uri": "https://localhost:8080/",
          "height": 839
        },
        "id": "ySTZHT1zCBtw",
        "outputId": "a34f2df7-24a2-403a-e462-29b3cb3650d8"
      },
      "source": [
        "fig, axs = plt.subplots(ncols=5, nrows=2, figsize=(20, 10))\n",
        "index = 0\n",
        "axs = axs.flatten()\n",
        "for k,v in df.items():\n",
        "    sns.distplot(v, ax=axs[index])\n",
        "    index += 1\n",
        "plt.tight_layout(pad=0.4, w_pad=0.5, h_pad=5.0)"
      ],
      "execution_count": null,
      "outputs": [
        {
          "output_type": "error",
          "ename": "IndexError",
          "evalue": "ignored",
          "traceback": [
            "\u001b[0;31m---------------------------------------------------------------------------\u001b[0m",
            "\u001b[0;31mIndexError\u001b[0m                                Traceback (most recent call last)",
            "\u001b[0;32m<ipython-input-9-c6264fc53187>\u001b[0m in \u001b[0;36m<module>\u001b[0;34m()\u001b[0m\n\u001b[1;32m      3\u001b[0m \u001b[0maxs\u001b[0m \u001b[0;34m=\u001b[0m \u001b[0maxs\u001b[0m\u001b[0;34m.\u001b[0m\u001b[0mflatten\u001b[0m\u001b[0;34m(\u001b[0m\u001b[0;34m)\u001b[0m\u001b[0;34m\u001b[0m\u001b[0;34m\u001b[0m\u001b[0m\n\u001b[1;32m      4\u001b[0m \u001b[0;32mfor\u001b[0m \u001b[0mk\u001b[0m\u001b[0;34m,\u001b[0m\u001b[0mv\u001b[0m \u001b[0;32min\u001b[0m \u001b[0mdf\u001b[0m\u001b[0;34m.\u001b[0m\u001b[0mitems\u001b[0m\u001b[0;34m(\u001b[0m\u001b[0;34m)\u001b[0m\u001b[0;34m:\u001b[0m\u001b[0;34m\u001b[0m\u001b[0;34m\u001b[0m\u001b[0m\n\u001b[0;32m----> 5\u001b[0;31m     \u001b[0msns\u001b[0m\u001b[0;34m.\u001b[0m\u001b[0mdistplot\u001b[0m\u001b[0;34m(\u001b[0m\u001b[0mv\u001b[0m\u001b[0;34m,\u001b[0m \u001b[0max\u001b[0m\u001b[0;34m=\u001b[0m\u001b[0maxs\u001b[0m\u001b[0;34m[\u001b[0m\u001b[0mindex\u001b[0m\u001b[0;34m]\u001b[0m\u001b[0;34m)\u001b[0m\u001b[0;34m\u001b[0m\u001b[0;34m\u001b[0m\u001b[0m\n\u001b[0m\u001b[1;32m      6\u001b[0m     \u001b[0mindex\u001b[0m \u001b[0;34m+=\u001b[0m \u001b[0;36m1\u001b[0m\u001b[0;34m\u001b[0m\u001b[0;34m\u001b[0m\u001b[0m\n\u001b[1;32m      7\u001b[0m \u001b[0mplt\u001b[0m\u001b[0;34m.\u001b[0m\u001b[0mtight_layout\u001b[0m\u001b[0;34m(\u001b[0m\u001b[0mpad\u001b[0m\u001b[0;34m=\u001b[0m\u001b[0;36m0.4\u001b[0m\u001b[0;34m,\u001b[0m \u001b[0mw_pad\u001b[0m\u001b[0;34m=\u001b[0m\u001b[0;36m0.5\u001b[0m\u001b[0;34m,\u001b[0m \u001b[0mh_pad\u001b[0m\u001b[0;34m=\u001b[0m\u001b[0;36m5.0\u001b[0m\u001b[0;34m)\u001b[0m\u001b[0;34m\u001b[0m\u001b[0;34m\u001b[0m\u001b[0m\n",
            "\u001b[0;31mIndexError\u001b[0m: index 10 is out of bounds for axis 0 with size 10"
          ]
        },
        {
          "output_type": "display_data",
          "data": {
            "image/png": "[encoded data removed]",
            "text/plain": [
              "<Figure size 1440x720 with 10 Axes>"
            ]
          },
          "metadata": {
            "tags": [],
            "needs_background": "light"
          }
        }
      ]
    },
    {
      "cell_type": "code",
      "metadata": {
        "colab": {
          "base_uri": "https://localhost:8080/"
        },
        "id": "tquH5gRSVZlH",
        "outputId": "ff47b63b-a994-496d-9017-aae6cc0889b2"
      },
      "source": [
        "df.info()"
      ],
      "execution_count": null,
      "outputs": [
        {
          "output_type": "stream",
          "text": [
            "<class 'pandas.core.frame.DataFrame'>\n",
            "Int64Index: 456548 entries, 0 to 456547\n",
            "Data columns (total 17 columns):\n",
            " #   Column                 Non-Null Count   Dtype  \n",
            "---  ------                 --------------   -----  \n",
            " 0   week                   456548 non-null  int64  \n",
            " 1   center_id              456548 non-null  int64  \n",
            " 2   meal_id                456548 non-null  int64  \n",
            " 3   checkout_price         456548 non-null  float64\n",
            " 4   base_price             456548 non-null  float64\n",
            " 5   emailer_for_promotion  456548 non-null  int64  \n",
            " 6   homepage_featured      456548 non-null  int64  \n",
            " 7   num_orders             456548 non-null  float64\n",
            " 8   city_code              456548 non-null  int64  \n",
            " 9   region_code            456548 non-null  int64  \n",
            " 10  center_type            456548 non-null  object \n",
            " 11  op_area                456548 non-null  float64\n",
            " 12  category               456548 non-null  object \n",
            " 13  cuisine                456548 non-null  object \n",
            " 14  Month                  456548 non-null  int64  \n",
            " 15  Year                   456548 non-null  int64  \n",
            " 16  Quarter                456548 non-null  int64  \n",
            "dtypes: float64(4), int64(10), object(3)\n",
            "memory usage: 62.7+ MB\n"
          ],
          "name": "stdout"
        }
      ]
    },
    {
      "cell_type": "code",
      "metadata": {
        "colab": {
          "base_uri": "https://localhost:8080/"
        },
        "id": "VHQX9clPVkJX",
        "outputId": "16c1aed4-ade2-48e4-d771-63535bc579aa"
      },
      "source": [
        "df[\"category\"].value_counts()"
      ],
      "execution_count": null,
      "outputs": [
        {
          "output_type": "execute_result",
          "data": {
            "text/plain": [
              "Beverages       127890\n",
              "Rice Bowl        33408\n",
              "Sandwich         33291\n",
              "Pizza            33138\n",
              "Starters         29941\n",
              "Other Snacks     29379\n",
              "Desert           29294\n",
              "Salad            28559\n",
              "Pasta            27694\n",
              "Seafood          26916\n",
              "Biryani          20614\n",
              "Extras           13562\n",
              "Soup             12675\n",
              "Fish             10187\n",
              "Name: category, dtype: int64"
            ]
          },
          "metadata": {
            "tags": []
          },
          "execution_count": 114
        }
      ]
    },
    {
      "cell_type": "code",
      "metadata": {
        "colab": {
          "base_uri": "https://localhost:8080/"
        },
        "id": "_p4IcoWoXG6y",
        "outputId": "ffd6ad98-c8e9-4b0c-d361-d7288d699b6e"
      },
      "source": [
        "df[\"category\"].value_counts().sort_index()\n",
        "\n",
        "def category_drop(category):\n",
        "  if   category <= 'Beverages': cate = 0\n",
        "  elif category <= 'Rice Bowl': cate = 1\n",
        "  elif category <= 'Sandwich': cate = 2\n",
        "  elif category <= 'Pizza':    cate = 3\n",
        "  elif category <= 'Starters': cate = 4\n",
        "  elif category <= 'Other Snacks': cate = 5\n",
        "  elif category <= 'Desert': cate = 6\n",
        "  elif category <= 'Salad': cate = 7\n",
        "  elif category <= 'Pasta': cate = 8\n",
        "  elif category <= 'Seafood': cate = 9\n",
        "  elif category <= 'Biryani': cate = 10\n",
        "  elif category <= 'Extras': cate = 11\n",
        "  elif category <= 'Soup': cate = 12\n",
        "  else:           cate = 13\n",
        "  return cate\n",
        "\n",
        "df[\"category_cate\"] = df[\"category\"].apply(lambda x: category_drop(x))\n",
        "df[\"category_cate\"].value_counts()\n",
        "df.info()"
      ],
      "execution_count": null,
      "outputs": [
        {
          "output_type": "stream",
          "text": [
            "<class 'pandas.core.frame.DataFrame'>\n",
            "Int64Index: 456548 entries, 0 to 456547\n",
            "Data columns (total 18 columns):\n",
            " #   Column                 Non-Null Count   Dtype  \n",
            "---  ------                 --------------   -----  \n",
            " 0   week                   456548 non-null  int64  \n",
            " 1   center_id              456548 non-null  int64  \n",
            " 2   meal_id                456548 non-null  int64  \n",
            " 3   checkout_price         456548 non-null  float64\n",
            " 4   base_price             456548 non-null  float64\n",
            " 5   emailer_for_promotion  456548 non-null  int64  \n",
            " 6   homepage_featured      456548 non-null  int64  \n",
            " 7   num_orders             456548 non-null  float64\n",
            " 8   city_code              456548 non-null  int64  \n",
            " 9   region_code            456548 non-null  int64  \n",
            " 10  center_type            456548 non-null  object \n",
            " 11  op_area                456548 non-null  float64\n",
            " 12  category               456548 non-null  object \n",
            " 13  cuisine                456548 non-null  object \n",
            " 14  Month                  456548 non-null  int64  \n",
            " 15  Year                   456548 non-null  int64  \n",
            " 16  Quarter                456548 non-null  int64  \n",
            " 17  category_cate          456548 non-null  int64  \n",
            "dtypes: float64(4), int64(11), object(3)\n",
            "memory usage: 66.2+ MB\n"
          ],
          "name": "stdout"
        }
      ]
    },
    {
      "cell_type": "code",
      "metadata": {
        "id": "J_TGQCArWiDf"
      },
      "source": [
        "# #-----------------------------------------\n",
        "# X[\"Age_cate\"] = X[\"Age\"].apply(lambda x : int(x//10))#해당하는 나이는 나이 구간으로 집어넣음, 몫으로 가지고 옴\n",
        "# X = pd.get_dummies(data=X , columns=[\"Age_cate\"], prefix = \"OH_Age_cate\") #drop.first=True : 원본을 지워버림\n",
        "# print(X.info())"
      ],
      "execution_count": null,
      "outputs": []
    },
    {
      "cell_type": "code",
      "metadata": {
        "colab": {
          "base_uri": "https://localhost:8080/"
        },
        "id": "gMNC_UCVVsvD",
        "outputId": "86ba8c92-f6f1-4cbe-9612-a1083a428ba3"
      },
      "source": [
        "df['center_type'].value_counts()"
      ],
      "execution_count": null,
      "outputs": [
        {
          "output_type": "execute_result",
          "data": {
            "text/plain": [
              "TYPE_A    262881\n",
              "TYPE_C     99593\n",
              "TYPE_B     94074\n",
              "Name: center_type, dtype: int64"
            ]
          },
          "metadata": {
            "tags": []
          },
          "execution_count": 115
        }
      ]
    },
    {
      "cell_type": "code",
      "metadata": {
        "colab": {
          "base_uri": "https://localhost:8080/"
        },
        "id": "aoWeO6CdYJ-2",
        "outputId": "c21ea80d-edb5-4318-e872-ea14404e2496"
      },
      "source": [
        "df[\"center_type\"].value_counts().sort_index()\n",
        "\n",
        "def center_type_drop(center_type):\n",
        "  if   center_type <= 'TYPE_A': cate = 0\n",
        "  elif center_type <= 'TYPE_B': cate = 1\n",
        "  else:           cate = 2\n",
        "  return cate\n",
        "\n",
        "df[\"center_type_cate\"] = df[\"center_type\"].apply(lambda x: center_type_drop(x))\n",
        "df[\"center_type_cate\"].value_counts()\n",
        "df.info()"
      ],
      "execution_count": null,
      "outputs": [
        {
          "output_type": "stream",
          "text": [
            "<class 'pandas.core.frame.DataFrame'>\n",
            "Int64Index: 456548 entries, 0 to 456547\n",
            "Data columns (total 19 columns):\n",
            " #   Column                 Non-Null Count   Dtype  \n",
            "---  ------                 --------------   -----  \n",
            " 0   week                   456548 non-null  int64  \n",
            " 1   center_id              456548 non-null  int64  \n",
            " 2   meal_id                456548 non-null  int64  \n",
            " 3   checkout_price         456548 non-null  float64\n",
            " 4   base_price             456548 non-null  float64\n",
            " 5   emailer_for_promotion  456548 non-null  int64  \n",
            " 6   homepage_featured      456548 non-null  int64  \n",
            " 7   num_orders             456548 non-null  float64\n",
            " 8   city_code              456548 non-null  int64  \n",
            " 9   region_code            456548 non-null  int64  \n",
            " 10  center_type            456548 non-null  object \n",
            " 11  op_area                456548 non-null  float64\n",
            " 12  category               456548 non-null  object \n",
            " 13  cuisine                456548 non-null  object \n",
            " 14  Month                  456548 non-null  int64  \n",
            " 15  Year                   456548 non-null  int64  \n",
            " 16  Quarter                456548 non-null  int64  \n",
            " 17  category_cate          456548 non-null  int64  \n",
            " 18  center_type_cate       456548 non-null  int64  \n",
            "dtypes: float64(4), int64(12), object(3)\n",
            "memory usage: 69.7+ MB\n"
          ],
          "name": "stdout"
        }
      ]
    },
    {
      "cell_type": "code",
      "metadata": {
        "colab": {
          "base_uri": "https://localhost:8080/"
        },
        "id": "-w_D8M3NWJjA",
        "outputId": "5968b02c-6779-49da-c5a9-1e95241d7bd2"
      },
      "source": [
        "df['cuisine'].value_counts()"
      ],
      "execution_count": null,
      "outputs": [
        {
          "output_type": "execute_result",
          "data": {
            "text/plain": [
              "Italian        122925\n",
              "Thai           118216\n",
              "Indian         112612\n",
              "Continental    102795\n",
              "Name: cuisine, dtype: int64"
            ]
          },
          "metadata": {
            "tags": []
          },
          "execution_count": 116
        }
      ]
    },
    {
      "cell_type": "code",
      "metadata": {
        "colab": {
          "base_uri": "https://localhost:8080/"
        },
        "id": "jvOxXemNY70Q",
        "outputId": "620a30ae-ea4e-444f-ba89-7fbf204641b1"
      },
      "source": [
        "df[\"cuisine\"].value_counts().sort_index()\n",
        "\n",
        "def cuisine_drop(cuisine):\n",
        "  if   cuisine <= 'Italian': cate = 0\n",
        "  elif cuisine <= 'Thai': cate = 1\n",
        "  elif cuisine <= 'Indian': cate = 2\n",
        "  else:           cate = 3\n",
        "  return cate\n",
        "\n",
        "df[\"cuisine_cate\"] = df[\"cuisine\"].apply(lambda x: center_type_drop(x))\n",
        "df[\"cuisine_cate\"].value_counts()\n",
        "df.info()"
      ],
      "execution_count": null,
      "outputs": [
        {
          "output_type": "stream",
          "text": [
            "<class 'pandas.core.frame.DataFrame'>\n",
            "Int64Index: 456548 entries, 0 to 456547\n",
            "Data columns (total 20 columns):\n",
            " #   Column                 Non-Null Count   Dtype  \n",
            "---  ------                 --------------   -----  \n",
            " 0   week                   456548 non-null  int64  \n",
            " 1   center_id              456548 non-null  int64  \n",
            " 2   meal_id                456548 non-null  int64  \n",
            " 3   checkout_price         456548 non-null  float64\n",
            " 4   base_price             456548 non-null  float64\n",
            " 5   emailer_for_promotion  456548 non-null  int64  \n",
            " 6   homepage_featured      456548 non-null  int64  \n",
            " 7   num_orders             456548 non-null  float64\n",
            " 8   city_code              456548 non-null  int64  \n",
            " 9   region_code            456548 non-null  int64  \n",
            " 10  center_type            456548 non-null  object \n",
            " 11  op_area                456548 non-null  float64\n",
            " 12  category               456548 non-null  object \n",
            " 13  cuisine                456548 non-null  object \n",
            " 14  Month                  456548 non-null  int64  \n",
            " 15  Year                   456548 non-null  int64  \n",
            " 16  Quarter                456548 non-null  int64  \n",
            " 17  category_cate          456548 non-null  int64  \n",
            " 18  center_type_cate       456548 non-null  int64  \n",
            " 19  cuisine_cate           456548 non-null  int64  \n",
            "dtypes: float64(4), int64(13), object(3)\n",
            "memory usage: 73.1+ MB\n"
          ],
          "name": "stdout"
        }
      ]
    },
    {
      "cell_type": "code",
      "metadata": {
        "id": "wJ9KmWH6ZaZ3"
      },
      "source": [
        "df = df.drop(\"center_type\", axis=1)\n",
        "df = df.drop(\"category\", axis=1)\n",
        "df = df.drop(\"cuisine\", axis=1)"
      ],
      "execution_count": null,
      "outputs": []
    },
    {
      "cell_type": "code",
      "metadata": {
        "colab": {
          "base_uri": "https://localhost:8080/"
        },
        "id": "o1821KhoZxwA",
        "outputId": "0f86cc70-4a63-4340-8e31-eac2fcf430b1"
      },
      "source": [
        "df.info()"
      ],
      "execution_count": null,
      "outputs": [
        {
          "output_type": "stream",
          "text": [
            "<class 'pandas.core.frame.DataFrame'>\n",
            "Int64Index: 456548 entries, 0 to 456547\n",
            "Data columns (total 17 columns):\n",
            " #   Column                 Non-Null Count   Dtype  \n",
            "---  ------                 --------------   -----  \n",
            " 0   week                   456548 non-null  int64  \n",
            " 1   center_id              456548 non-null  int64  \n",
            " 2   meal_id                456548 non-null  int64  \n",
            " 3   checkout_price         456548 non-null  float64\n",
            " 4   base_price             456548 non-null  float64\n",
            " 5   emailer_for_promotion  456548 non-null  int64  \n",
            " 6   homepage_featured      456548 non-null  int64  \n",
            " 7   num_orders             456548 non-null  float64\n",
            " 8   city_code              456548 non-null  int64  \n",
            " 9   region_code            456548 non-null  int64  \n",
            " 10  op_area                456548 non-null  float64\n",
            " 11  Month                  456548 non-null  int64  \n",
            " 12  Year                   456548 non-null  int64  \n",
            " 13  Quarter                456548 non-null  int64  \n",
            " 14  category_cate          456548 non-null  int64  \n",
            " 15  center_type_cate       456548 non-null  int64  \n",
            " 16  cuisine_cate           456548 non-null  int64  \n",
            "dtypes: float64(4), int64(13)\n",
            "memory usage: 62.7 MB\n"
          ],
          "name": "stdout"
        }
      ]
    },
    {
      "cell_type": "code",
      "metadata": {
        "colab": {
          "base_uri": "https://localhost:8080/"
        },
        "id": "H08GrHYB_npB",
        "outputId": "6a7afc9a-eaaf-46ea-dcb3-c1dc99695a60"
      },
      "source": [
        "y = df[\"num_orders\"] #타겟데이터 꺼내기\n",
        "X = df.drop(\"num_orders\", axis=1) #잘라낸것을 X에 대입\n",
        "print(X.shape, y.shape)#잘 잘라냈는지 확인"
      ],
      "execution_count": null,
      "outputs": [
        {
          "output_type": "stream",
          "text": [
            "(456548, 16) (456548,)\n"
          ],
          "name": "stdout"
        }
      ]
    },
    {
      "cell_type": "code",
      "metadata": {
        "id": "pthpTiKBAlhy"
      },
      "source": [
        "def GET_MY_SCORE(y_test, pred, str=None) :\n",
        "    print(\"-----------{}------------\".format(str))\n",
        "    X_train, X_test, y_train , y_test = train_test_split(X,y, test_size = 0.2, random_state=121)\n",
        "    rf_model = RandomForestClassifier()\n",
        "    rf_model.fit(X_train, y_train) # 학습해서 메모리에 올려놔라. 아직 리턴값은 없음.\n",
        "    pred = rf_model.predict(X_test)\n",
        "    acc = accuracy_score(y_test, pred)\n",
        "    f1 = f1_score(y_test, pred)\n",
        "    precision = precision_score(y_test, pred)\n",
        "    recall = recall_score(y_test, pred) \n",
        "    rocauc = roc_auc_score(y_test, pred)\n",
        "    #print(\"정확도:\", acc, \"f1:\",f1 )\n",
        "    print(\"정확도: {:.4f} F1: {:.4f} (정밀도: {:.4f} 재현율: {:.4f}) rocauc:{:.4f} \".format(acc, f1, precision, recall, rocauc))\n",
        "    print(acc) # f는 자연수를 의미. 소수점 4자리까지 자연수로 보여달라 이런 의미\n",
        "    cf_matrix = confusion_matrix(y_test, pred)\n",
        "    print(cf_matrix) "
      ],
      "execution_count": null,
      "outputs": []
    },
    {
      "cell_type": "code",
      "metadata": {
        "colab": {
          "base_uri": "https://localhost:8080/"
        },
        "id": "3iXzvLbA7Hkr",
        "outputId": "3492555a-a13d-4493-b408-6f1e301442e6"
      },
      "source": [
        "train = df.iloc[ :456548, :]\n",
        "test =  df.iloc[456548:, :]\n",
        "\n",
        "# print(train.shape , test.shape)\n",
        "\n",
        "y_train = train[\"num_orders\"]                             # 학습용 답안\n",
        "X_train = train.drop(\"num_orders\", axis=1)                # 학습용 답안\n",
        "test = test.drop(\"num_orders\", axis=1)  #, inplace=True)  # 시험용 문제\n",
        "print(y_train.shape , X_train.shape, test.shape)"
      ],
      "execution_count": null,
      "outputs": [
        {
          "output_type": "stream",
          "text": [
            "(456548,) (456548, 16) (0, 16)\n"
          ],
          "name": "stdout"
        }
      ]
    },
    {
      "cell_type": "code",
      "metadata": {
        "id": "liH5_pmMZyfk"
      },
      "source": [
        "rf_model = RandomForestClassifier()\n",
        "MySplitFitPredict(rf_model, X_train, y_train)"
      ],
      "execution_count": null,
      "outputs": []
    },
    {
      "cell_type": "code",
      "metadata": {
        "id": "zOpTs3CqZyiM"
      },
      "source": [
        ""
      ],
      "execution_count": null,
      "outputs": []
    },
    {
      "cell_type": "code",
      "metadata": {
        "id": "RHkrIcMYZykf"
      },
      "source": [
        ""
      ],
      "execution_count": null,
      "outputs": []
    },
    {
      "cell_type": "code",
      "metadata": {
        "id": "d5iuVXU0ZynE"
      },
      "source": [
        ""
      ],
      "execution_count": null,
      "outputs": []
    },
    {
      "cell_type": "code",
      "metadata": {
        "id": "J0ft4gyfZyrf"
      },
      "source": [
        ""
      ],
      "execution_count": null,
      "outputs": []
    },
    {
      "cell_type": "code",
      "metadata": {
        "id": "bKPCcjI8ZyuG"
      },
      "source": [
        ""
      ],
      "execution_count": null,
      "outputs": []
    },
    {
      "cell_type": "code",
      "metadata": {
        "id": "TP2ZG_pRZyvr"
      },
      "source": [
        ""
      ],
      "execution_count": null,
      "outputs": []
    },
    {
      "cell_type": "code",
      "metadata": {
        "id": "zWDsCerEZyyX"
      },
      "source": [
        ""
      ],
      "execution_count": null,
      "outputs": []
    },
    {
      "cell_type": "code",
      "metadata": {
        "id": "4LoflXEnZy0P"
      },
      "source": [
        ""
      ],
      "execution_count": null,
      "outputs": []
    },
    {
      "cell_type": "code",
      "metadata": {
        "id": "DzgTSm-aZy2f"
      },
      "source": [
        ""
      ],
      "execution_count": null,
      "outputs": []
    },
    {
      "cell_type": "code",
      "metadata": {
        "id": "rH-r50niZy36"
      },
      "source": [
        ""
      ],
      "execution_count": null,
      "outputs": []
    },
    {
      "cell_type": "code",
      "metadata": {
        "id": "Qe9UNTi8Zy6y"
      },
      "source": [
        ""
      ],
      "execution_count": null,
      "outputs": []
    },
    {
      "cell_type": "code",
      "metadata": {
        "id": "IyW96x7DZy8h"
      },
      "source": [
        ""
      ],
      "execution_count": null,
      "outputs": []
    },
    {
      "cell_type": "code",
      "metadata": {
        "id": "gr1wG5MkZy-v"
      },
      "source": [
        ""
      ],
      "execution_count": null,
      "outputs": []
    },
    {
      "cell_type": "code",
      "metadata": {
        "id": "l9X1J68LZzBc"
      },
      "source": [
        ""
      ],
      "execution_count": null,
      "outputs": []
    },
    {
      "cell_type": "code",
      "metadata": {
        "colab": {
          "base_uri": "https://localhost:8080/"
        },
        "id": "VD3uwBaQIRkR",
        "outputId": "62d0fc8e-957b-47fd-c56e-1e1e7bb56ffc"
      },
      "source": [
        "from sklearn.ensemble import RandomForestClassifier\n",
        "\n",
        "model = RandomForestClassifier(n_jobs=-1, random_state=0, min_samples_leaf=30)\n",
        "model.fit(X_train, y_train)"
      ],
      "execution_count": null,
      "outputs": [
        {
          "output_type": "execute_result",
          "data": {
            "text/plain": [
              "RandomForestClassifier(bootstrap=True, ccp_alpha=0.0, class_weight=None,\n",
              "                       criterion='gini', max_depth=None, max_features='auto',\n",
              "                       max_leaf_nodes=None, max_samples=None,\n",
              "                       min_impurity_decrease=0.0, min_impurity_split=None,\n",
              "                       min_samples_leaf=30, min_samples_split=2,\n",
              "                       min_weight_fraction_leaf=0.0, n_estimators=100,\n",
              "                       n_jobs=-1, oob_score=False, random_state=0, verbose=0,\n",
              "                       warm_start=False)"
            ]
          },
          "metadata": {
            "tags": []
          },
          "execution_count": 21
        }
      ]
    },
    {
      "cell_type": "code",
      "metadata": {
        "id": "lRbfxERRGx5P"
      },
      "source": [
        "scaler   = RobustScaler()\n",
        "\n",
        "X_scaler = scaler.fit_transform(X_train)"
      ],
      "execution_count": null,
      "outputs": []
    },
    {
      "cell_type": "code",
      "metadata": {
        "colab": {
          "base_uri": "https://localhost:8080/",
          "height": 369
        },
        "id": "gu9w6lnJGzQX",
        "outputId": "a5a92115-b302-46c9-ad9d-2b345fff148b"
      },
      "source": [
        "my_hyper_param = {  \"n_estimators\"     :[100, 300],\n",
        "                    \"max_depth\"        :[4, 5, 6],\n",
        "                    \"min_samples_leaf\" :[2, 3, 4],\n",
        "                    \"random_state\"     :[121,]    }\n",
        "\n",
        "def MyGridSearchCV(my_hyper_param, model, X, y) :\n",
        "    print(\"GridSerchCV --------------------------------\")\n",
        "    X_train, X_test, y_train, y_test = train_test_split(X, y, test_size=0.2, random_state=121)\n",
        "    my_score  = {\"acc\": \"accuracy\", \"f1\": \"f1\"}\n",
        "    gcv_model = GridSearchCV(model, param_grid=my_hyper_param, scoring=my_score, refit=\"f1\", cv=5, verbose=0)\n",
        "    gcv_model.fit(X_train, y_train)\n",
        "\n",
        "    # print(\"best_estimator:\", gcv_model.best_estimator_)\n",
        "    print(\"best_params :\", gcv_model.best_params_)\n",
        "    print(\"best_score  :\", gcv_model.best_score_)\n",
        "    print(\"GridSearchCV 평균 정확도 : \", gcv_model.cv_results_[\"mean_test_acc\"].mean())  #mean_test_(본인의score키값)\n",
        "    print(\"GridSearchCV 평균 F1    : \", gcv_model.cv_results_[\"mean_test_f1\"].mean())\n",
        "    print(barline)\n",
        "\n",
        "MyGridSearchCV(my_hyper_param, model, X_scaler, y_train)"
      ],
      "execution_count": null,
      "outputs": [
        {
          "output_type": "stream",
          "text": [
            "GridSerchCV --------------------------------\n"
          ],
          "name": "stdout"
        },
        {
          "output_type": "error",
          "ename": "ValueError",
          "evalue": "ignored",
          "traceback": [
            "\u001b[0;31m---------------------------------------------------------------------------\u001b[0m",
            "\u001b[0;31mValueError\u001b[0m                                Traceback (most recent call last)",
            "\u001b[0;32m<ipython-input-22-302094d6d48a>\u001b[0m in \u001b[0;36m<module>\u001b[0;34m()\u001b[0m\n\u001b[1;32m     18\u001b[0m     \u001b[0mprint\u001b[0m\u001b[0;34m(\u001b[0m\u001b[0mbarline\u001b[0m\u001b[0;34m)\u001b[0m\u001b[0;34m\u001b[0m\u001b[0;34m\u001b[0m\u001b[0m\n\u001b[1;32m     19\u001b[0m \u001b[0;34m\u001b[0m\u001b[0m\n\u001b[0;32m---> 20\u001b[0;31m \u001b[0mMyGridSearchCV\u001b[0m\u001b[0;34m(\u001b[0m\u001b[0mmy_hyper_param\u001b[0m\u001b[0;34m,\u001b[0m \u001b[0mmodel\u001b[0m\u001b[0;34m,\u001b[0m \u001b[0mX_scaler\u001b[0m\u001b[0;34m,\u001b[0m \u001b[0my_train\u001b[0m\u001b[0;34m)\u001b[0m\u001b[0;34m\u001b[0m\u001b[0;34m\u001b[0m\u001b[0m\n\u001b[0m",
            "\u001b[0;32m<ipython-input-22-302094d6d48a>\u001b[0m in \u001b[0;36mMyGridSearchCV\u001b[0;34m(my_hyper_param, model, X, y)\u001b[0m\n\u001b[1;32m      9\u001b[0m     \u001b[0mmy_score\u001b[0m  \u001b[0;34m=\u001b[0m \u001b[0;34m{\u001b[0m\u001b[0;34m\"acc\"\u001b[0m\u001b[0;34m:\u001b[0m \u001b[0;34m\"accuracy\"\u001b[0m\u001b[0;34m,\u001b[0m \u001b[0;34m\"f1\"\u001b[0m\u001b[0;34m:\u001b[0m \u001b[0;34m\"f1\"\u001b[0m\u001b[0;34m}\u001b[0m\u001b[0;34m\u001b[0m\u001b[0;34m\u001b[0m\u001b[0m\n\u001b[1;32m     10\u001b[0m     \u001b[0mgcv_model\u001b[0m \u001b[0;34m=\u001b[0m \u001b[0mGridSearchCV\u001b[0m\u001b[0;34m(\u001b[0m\u001b[0mmodel\u001b[0m\u001b[0;34m,\u001b[0m \u001b[0mparam_grid\u001b[0m\u001b[0;34m=\u001b[0m\u001b[0mmy_hyper_param\u001b[0m\u001b[0;34m,\u001b[0m \u001b[0mscoring\u001b[0m\u001b[0;34m=\u001b[0m\u001b[0mmy_score\u001b[0m\u001b[0;34m,\u001b[0m \u001b[0mrefit\u001b[0m\u001b[0;34m=\u001b[0m\u001b[0;34m\"f1\"\u001b[0m\u001b[0;34m,\u001b[0m \u001b[0mcv\u001b[0m\u001b[0;34m=\u001b[0m\u001b[0;36m5\u001b[0m\u001b[0;34m,\u001b[0m \u001b[0mverbose\u001b[0m\u001b[0;34m=\u001b[0m\u001b[0;36m0\u001b[0m\u001b[0;34m)\u001b[0m\u001b[0;34m\u001b[0m\u001b[0;34m\u001b[0m\u001b[0m\n\u001b[0;32m---> 11\u001b[0;31m     \u001b[0mgcv_model\u001b[0m\u001b[0;34m.\u001b[0m\u001b[0mfit\u001b[0m\u001b[0;34m(\u001b[0m\u001b[0mX_train\u001b[0m\u001b[0;34m,\u001b[0m \u001b[0my_train\u001b[0m\u001b[0;34m)\u001b[0m\u001b[0;34m\u001b[0m\u001b[0;34m\u001b[0m\u001b[0m\n\u001b[0m\u001b[1;32m     12\u001b[0m \u001b[0;34m\u001b[0m\u001b[0m\n\u001b[1;32m     13\u001b[0m     \u001b[0;31m# print(\"best_estimator:\", gcv_model.best_estimator_)\u001b[0m\u001b[0;34m\u001b[0m\u001b[0;34m\u001b[0m\u001b[0;34m\u001b[0m\u001b[0m\n",
            "\u001b[0;32m/usr/local/lib/python3.6/dist-packages/sklearn/model_selection/_search.py\u001b[0m in \u001b[0;36mfit\u001b[0;34m(self, X, y, groups, **fit_params)\u001b[0m\n\u001b[1;32m    708\u001b[0m                 \u001b[0;32mreturn\u001b[0m \u001b[0mresults\u001b[0m\u001b[0;34m\u001b[0m\u001b[0;34m\u001b[0m\u001b[0m\n\u001b[1;32m    709\u001b[0m \u001b[0;34m\u001b[0m\u001b[0m\n\u001b[0;32m--> 710\u001b[0;31m             \u001b[0mself\u001b[0m\u001b[0;34m.\u001b[0m\u001b[0m_run_search\u001b[0m\u001b[0;34m(\u001b[0m\u001b[0mevaluate_candidates\u001b[0m\u001b[0;34m)\u001b[0m\u001b[0;34m\u001b[0m\u001b[0;34m\u001b[0m\u001b[0m\n\u001b[0m\u001b[1;32m    711\u001b[0m \u001b[0;34m\u001b[0m\u001b[0m\n\u001b[1;32m    712\u001b[0m         \u001b[0;31m# For multi-metric evaluation, store the best_index_, best_params_ and\u001b[0m\u001b[0;34m\u001b[0m\u001b[0;34m\u001b[0m\u001b[0;34m\u001b[0m\u001b[0m\n",
            "\u001b[0;32m/usr/local/lib/python3.6/dist-packages/sklearn/model_selection/_search.py\u001b[0m in \u001b[0;36m_run_search\u001b[0;34m(self, evaluate_candidates)\u001b[0m\n\u001b[1;32m   1149\u001b[0m     \u001b[0;32mdef\u001b[0m \u001b[0m_run_search\u001b[0m\u001b[0;34m(\u001b[0m\u001b[0mself\u001b[0m\u001b[0;34m,\u001b[0m \u001b[0mevaluate_candidates\u001b[0m\u001b[0;34m)\u001b[0m\u001b[0;34m:\u001b[0m\u001b[0;34m\u001b[0m\u001b[0;34m\u001b[0m\u001b[0m\n\u001b[1;32m   1150\u001b[0m         \u001b[0;34m\"\"\"Search all candidates in param_grid\"\"\"\u001b[0m\u001b[0;34m\u001b[0m\u001b[0;34m\u001b[0m\u001b[0m\n\u001b[0;32m-> 1151\u001b[0;31m         \u001b[0mevaluate_candidates\u001b[0m\u001b[0;34m(\u001b[0m\u001b[0mParameterGrid\u001b[0m\u001b[0;34m(\u001b[0m\u001b[0mself\u001b[0m\u001b[0;34m.\u001b[0m\u001b[0mparam_grid\u001b[0m\u001b[0;34m)\u001b[0m\u001b[0;34m)\u001b[0m\u001b[0;34m\u001b[0m\u001b[0;34m\u001b[0m\u001b[0m\n\u001b[0m\u001b[1;32m   1152\u001b[0m \u001b[0;34m\u001b[0m\u001b[0m\n\u001b[1;32m   1153\u001b[0m \u001b[0;34m\u001b[0m\u001b[0m\n",
            "\u001b[0;32m/usr/local/lib/python3.6/dist-packages/sklearn/model_selection/_search.py\u001b[0m in \u001b[0;36mevaluate_candidates\u001b[0;34m(candidate_params)\u001b[0m\n\u001b[1;32m    687\u001b[0m                                \u001b[0;32mfor\u001b[0m \u001b[0mparameters\u001b[0m\u001b[0;34m,\u001b[0m \u001b[0;34m(\u001b[0m\u001b[0mtrain\u001b[0m\u001b[0;34m,\u001b[0m \u001b[0mtest\u001b[0m\u001b[0;34m)\u001b[0m\u001b[0;34m\u001b[0m\u001b[0;34m\u001b[0m\u001b[0m\n\u001b[1;32m    688\u001b[0m                                in product(candidate_params,\n\u001b[0;32m--> 689\u001b[0;31m                                           cv.split(X, y, groups)))\n\u001b[0m\u001b[1;32m    690\u001b[0m \u001b[0;34m\u001b[0m\u001b[0m\n\u001b[1;32m    691\u001b[0m                 \u001b[0;32mif\u001b[0m \u001b[0mlen\u001b[0m\u001b[0;34m(\u001b[0m\u001b[0mout\u001b[0m\u001b[0;34m)\u001b[0m \u001b[0;34m<\u001b[0m \u001b[0;36m1\u001b[0m\u001b[0;34m:\u001b[0m\u001b[0;34m\u001b[0m\u001b[0;34m\u001b[0m\u001b[0m\n",
            "\u001b[0;32m/usr/local/lib/python3.6/dist-packages/joblib/parallel.py\u001b[0m in \u001b[0;36m__call__\u001b[0;34m(self, iterable)\u001b[0m\n\u001b[1;32m   1039\u001b[0m             \u001b[0;31m# remaining jobs.\u001b[0m\u001b[0;34m\u001b[0m\u001b[0;34m\u001b[0m\u001b[0;34m\u001b[0m\u001b[0m\n\u001b[1;32m   1040\u001b[0m             \u001b[0mself\u001b[0m\u001b[0;34m.\u001b[0m\u001b[0m_iterating\u001b[0m \u001b[0;34m=\u001b[0m \u001b[0;32mFalse\u001b[0m\u001b[0;34m\u001b[0m\u001b[0;34m\u001b[0m\u001b[0m\n\u001b[0;32m-> 1041\u001b[0;31m             \u001b[0;32mif\u001b[0m \u001b[0mself\u001b[0m\u001b[0;34m.\u001b[0m\u001b[0mdispatch_one_batch\u001b[0m\u001b[0;34m(\u001b[0m\u001b[0miterator\u001b[0m\u001b[0;34m)\u001b[0m\u001b[0;34m:\u001b[0m\u001b[0;34m\u001b[0m\u001b[0;34m\u001b[0m\u001b[0m\n\u001b[0m\u001b[1;32m   1042\u001b[0m                 \u001b[0mself\u001b[0m\u001b[0;34m.\u001b[0m\u001b[0m_iterating\u001b[0m \u001b[0;34m=\u001b[0m \u001b[0mself\u001b[0m\u001b[0;34m.\u001b[0m\u001b[0m_original_iterator\u001b[0m \u001b[0;32mis\u001b[0m \u001b[0;32mnot\u001b[0m \u001b[0;32mNone\u001b[0m\u001b[0;34m\u001b[0m\u001b[0;34m\u001b[0m\u001b[0m\n\u001b[1;32m   1043\u001b[0m \u001b[0;34m\u001b[0m\u001b[0m\n",
            "\u001b[0;32m/usr/local/lib/python3.6/dist-packages/joblib/parallel.py\u001b[0m in \u001b[0;36mdispatch_one_batch\u001b[0;34m(self, iterator)\u001b[0m\n\u001b[1;32m    857\u001b[0m                 \u001b[0;32mreturn\u001b[0m \u001b[0;32mFalse\u001b[0m\u001b[0;34m\u001b[0m\u001b[0;34m\u001b[0m\u001b[0m\n\u001b[1;32m    858\u001b[0m             \u001b[0;32melse\u001b[0m\u001b[0;34m:\u001b[0m\u001b[0;34m\u001b[0m\u001b[0;34m\u001b[0m\u001b[0m\n\u001b[0;32m--> 859\u001b[0;31m                 \u001b[0mself\u001b[0m\u001b[0;34m.\u001b[0m\u001b[0m_dispatch\u001b[0m\u001b[0;34m(\u001b[0m\u001b[0mtasks\u001b[0m\u001b[0;34m)\u001b[0m\u001b[0;34m\u001b[0m\u001b[0;34m\u001b[0m\u001b[0m\n\u001b[0m\u001b[1;32m    860\u001b[0m                 \u001b[0;32mreturn\u001b[0m \u001b[0;32mTrue\u001b[0m\u001b[0;34m\u001b[0m\u001b[0;34m\u001b[0m\u001b[0m\n\u001b[1;32m    861\u001b[0m \u001b[0;34m\u001b[0m\u001b[0m\n",
            "\u001b[0;32m/usr/local/lib/python3.6/dist-packages/joblib/parallel.py\u001b[0m in \u001b[0;36m_dispatch\u001b[0;34m(self, batch)\u001b[0m\n\u001b[1;32m    775\u001b[0m         \u001b[0;32mwith\u001b[0m \u001b[0mself\u001b[0m\u001b[0;34m.\u001b[0m\u001b[0m_lock\u001b[0m\u001b[0;34m:\u001b[0m\u001b[0;34m\u001b[0m\u001b[0;34m\u001b[0m\u001b[0m\n\u001b[1;32m    776\u001b[0m             \u001b[0mjob_idx\u001b[0m \u001b[0;34m=\u001b[0m \u001b[0mlen\u001b[0m\u001b[0;34m(\u001b[0m\u001b[0mself\u001b[0m\u001b[0;34m.\u001b[0m\u001b[0m_jobs\u001b[0m\u001b[0;34m)\u001b[0m\u001b[0;34m\u001b[0m\u001b[0;34m\u001b[0m\u001b[0m\n\u001b[0;32m--> 777\u001b[0;31m             \u001b[0mjob\u001b[0m \u001b[0;34m=\u001b[0m \u001b[0mself\u001b[0m\u001b[0;34m.\u001b[0m\u001b[0m_backend\u001b[0m\u001b[0;34m.\u001b[0m\u001b[0mapply_async\u001b[0m\u001b[0;34m(\u001b[0m\u001b[0mbatch\u001b[0m\u001b[0;34m,\u001b[0m \u001b[0mcallback\u001b[0m\u001b[0;34m=\u001b[0m\u001b[0mcb\u001b[0m\u001b[0;34m)\u001b[0m\u001b[0;34m\u001b[0m\u001b[0;34m\u001b[0m\u001b[0m\n\u001b[0m\u001b[1;32m    778\u001b[0m             \u001b[0;31m# A job can complete so quickly than its callback is\u001b[0m\u001b[0;34m\u001b[0m\u001b[0;34m\u001b[0m\u001b[0;34m\u001b[0m\u001b[0m\n\u001b[1;32m    779\u001b[0m             \u001b[0;31m# called before we get here, causing self._jobs to\u001b[0m\u001b[0;34m\u001b[0m\u001b[0;34m\u001b[0m\u001b[0;34m\u001b[0m\u001b[0m\n",
            "\u001b[0;32m/usr/local/lib/python3.6/dist-packages/joblib/_parallel_backends.py\u001b[0m in \u001b[0;36mapply_async\u001b[0;34m(self, func, callback)\u001b[0m\n\u001b[1;32m    206\u001b[0m     \u001b[0;32mdef\u001b[0m \u001b[0mapply_async\u001b[0m\u001b[0;34m(\u001b[0m\u001b[0mself\u001b[0m\u001b[0;34m,\u001b[0m \u001b[0mfunc\u001b[0m\u001b[0;34m,\u001b[0m \u001b[0mcallback\u001b[0m\u001b[0;34m=\u001b[0m\u001b[0;32mNone\u001b[0m\u001b[0;34m)\u001b[0m\u001b[0;34m:\u001b[0m\u001b[0;34m\u001b[0m\u001b[0;34m\u001b[0m\u001b[0m\n\u001b[1;32m    207\u001b[0m         \u001b[0;34m\"\"\"Schedule a func to be run\"\"\"\u001b[0m\u001b[0;34m\u001b[0m\u001b[0;34m\u001b[0m\u001b[0m\n\u001b[0;32m--> 208\u001b[0;31m         \u001b[0mresult\u001b[0m \u001b[0;34m=\u001b[0m \u001b[0mImmediateResult\u001b[0m\u001b[0;34m(\u001b[0m\u001b[0mfunc\u001b[0m\u001b[0;34m)\u001b[0m\u001b[0;34m\u001b[0m\u001b[0;34m\u001b[0m\u001b[0m\n\u001b[0m\u001b[1;32m    209\u001b[0m         \u001b[0;32mif\u001b[0m \u001b[0mcallback\u001b[0m\u001b[0;34m:\u001b[0m\u001b[0;34m\u001b[0m\u001b[0;34m\u001b[0m\u001b[0m\n\u001b[1;32m    210\u001b[0m             \u001b[0mcallback\u001b[0m\u001b[0;34m(\u001b[0m\u001b[0mresult\u001b[0m\u001b[0;34m)\u001b[0m\u001b[0;34m\u001b[0m\u001b[0;34m\u001b[0m\u001b[0m\n",
            "\u001b[0;32m/usr/local/lib/python3.6/dist-packages/joblib/_parallel_backends.py\u001b[0m in \u001b[0;36m__init__\u001b[0;34m(self, batch)\u001b[0m\n\u001b[1;32m    570\u001b[0m         \u001b[0;31m# Don't delay the application, to avoid keeping the input\u001b[0m\u001b[0;34m\u001b[0m\u001b[0;34m\u001b[0m\u001b[0;34m\u001b[0m\u001b[0m\n\u001b[1;32m    571\u001b[0m         \u001b[0;31m# arguments in memory\u001b[0m\u001b[0;34m\u001b[0m\u001b[0;34m\u001b[0m\u001b[0;34m\u001b[0m\u001b[0m\n\u001b[0;32m--> 572\u001b[0;31m         \u001b[0mself\u001b[0m\u001b[0;34m.\u001b[0m\u001b[0mresults\u001b[0m \u001b[0;34m=\u001b[0m \u001b[0mbatch\u001b[0m\u001b[0;34m(\u001b[0m\u001b[0;34m)\u001b[0m\u001b[0;34m\u001b[0m\u001b[0;34m\u001b[0m\u001b[0m\n\u001b[0m\u001b[1;32m    573\u001b[0m \u001b[0;34m\u001b[0m\u001b[0m\n\u001b[1;32m    574\u001b[0m     \u001b[0;32mdef\u001b[0m \u001b[0mget\u001b[0m\u001b[0;34m(\u001b[0m\u001b[0mself\u001b[0m\u001b[0;34m)\u001b[0m\u001b[0;34m:\u001b[0m\u001b[0;34m\u001b[0m\u001b[0;34m\u001b[0m\u001b[0m\n",
            "\u001b[0;32m/usr/local/lib/python3.6/dist-packages/joblib/parallel.py\u001b[0m in \u001b[0;36m__call__\u001b[0;34m(self)\u001b[0m\n\u001b[1;32m    261\u001b[0m         \u001b[0;32mwith\u001b[0m \u001b[0mparallel_backend\u001b[0m\u001b[0;34m(\u001b[0m\u001b[0mself\u001b[0m\u001b[0;34m.\u001b[0m\u001b[0m_backend\u001b[0m\u001b[0;34m,\u001b[0m \u001b[0mn_jobs\u001b[0m\u001b[0;34m=\u001b[0m\u001b[0mself\u001b[0m\u001b[0;34m.\u001b[0m\u001b[0m_n_jobs\u001b[0m\u001b[0;34m)\u001b[0m\u001b[0;34m:\u001b[0m\u001b[0;34m\u001b[0m\u001b[0;34m\u001b[0m\u001b[0m\n\u001b[1;32m    262\u001b[0m             return [func(*args, **kwargs)\n\u001b[0;32m--> 263\u001b[0;31m                     for func, args, kwargs in self.items]\n\u001b[0m\u001b[1;32m    264\u001b[0m \u001b[0;34m\u001b[0m\u001b[0m\n\u001b[1;32m    265\u001b[0m     \u001b[0;32mdef\u001b[0m \u001b[0m__reduce__\u001b[0m\u001b[0;34m(\u001b[0m\u001b[0mself\u001b[0m\u001b[0;34m)\u001b[0m\u001b[0;34m:\u001b[0m\u001b[0;34m\u001b[0m\u001b[0;34m\u001b[0m\u001b[0m\n",
            "\u001b[0;32m/usr/local/lib/python3.6/dist-packages/joblib/parallel.py\u001b[0m in \u001b[0;36m<listcomp>\u001b[0;34m(.0)\u001b[0m\n\u001b[1;32m    261\u001b[0m         \u001b[0;32mwith\u001b[0m \u001b[0mparallel_backend\u001b[0m\u001b[0;34m(\u001b[0m\u001b[0mself\u001b[0m\u001b[0;34m.\u001b[0m\u001b[0m_backend\u001b[0m\u001b[0;34m,\u001b[0m \u001b[0mn_jobs\u001b[0m\u001b[0;34m=\u001b[0m\u001b[0mself\u001b[0m\u001b[0;34m.\u001b[0m\u001b[0m_n_jobs\u001b[0m\u001b[0;34m)\u001b[0m\u001b[0;34m:\u001b[0m\u001b[0;34m\u001b[0m\u001b[0;34m\u001b[0m\u001b[0m\n\u001b[1;32m    262\u001b[0m             return [func(*args, **kwargs)\n\u001b[0;32m--> 263\u001b[0;31m                     for func, args, kwargs in self.items]\n\u001b[0m\u001b[1;32m    264\u001b[0m \u001b[0;34m\u001b[0m\u001b[0m\n\u001b[1;32m    265\u001b[0m     \u001b[0;32mdef\u001b[0m \u001b[0m__reduce__\u001b[0m\u001b[0;34m(\u001b[0m\u001b[0mself\u001b[0m\u001b[0;34m)\u001b[0m\u001b[0;34m:\u001b[0m\u001b[0;34m\u001b[0m\u001b[0;34m\u001b[0m\u001b[0m\n",
            "\u001b[0;32m/usr/local/lib/python3.6/dist-packages/sklearn/model_selection/_validation.py\u001b[0m in \u001b[0;36m_fit_and_score\u001b[0;34m(estimator, X, y, scorer, train, test, verbose, parameters, fit_params, return_train_score, return_parameters, return_n_test_samples, return_times, return_estimator, error_score)\u001b[0m\n\u001b[1;32m    542\u001b[0m     \u001b[0;32melse\u001b[0m\u001b[0;34m:\u001b[0m\u001b[0;34m\u001b[0m\u001b[0;34m\u001b[0m\u001b[0m\n\u001b[1;32m    543\u001b[0m         \u001b[0mfit_time\u001b[0m \u001b[0;34m=\u001b[0m \u001b[0mtime\u001b[0m\u001b[0;34m.\u001b[0m\u001b[0mtime\u001b[0m\u001b[0;34m(\u001b[0m\u001b[0;34m)\u001b[0m \u001b[0;34m-\u001b[0m \u001b[0mstart_time\u001b[0m\u001b[0;34m\u001b[0m\u001b[0;34m\u001b[0m\u001b[0m\n\u001b[0;32m--> 544\u001b[0;31m         \u001b[0mtest_scores\u001b[0m \u001b[0;34m=\u001b[0m \u001b[0m_score\u001b[0m\u001b[0;34m(\u001b[0m\u001b[0mestimator\u001b[0m\u001b[0;34m,\u001b[0m \u001b[0mX_test\u001b[0m\u001b[0;34m,\u001b[0m \u001b[0my_test\u001b[0m\u001b[0;34m,\u001b[0m \u001b[0mscorer\u001b[0m\u001b[0;34m)\u001b[0m\u001b[0;34m\u001b[0m\u001b[0;34m\u001b[0m\u001b[0m\n\u001b[0m\u001b[1;32m    545\u001b[0m         \u001b[0mscore_time\u001b[0m \u001b[0;34m=\u001b[0m \u001b[0mtime\u001b[0m\u001b[0;34m.\u001b[0m\u001b[0mtime\u001b[0m\u001b[0;34m(\u001b[0m\u001b[0;34m)\u001b[0m \u001b[0;34m-\u001b[0m \u001b[0mstart_time\u001b[0m \u001b[0;34m-\u001b[0m \u001b[0mfit_time\u001b[0m\u001b[0;34m\u001b[0m\u001b[0;34m\u001b[0m\u001b[0m\n\u001b[1;32m    546\u001b[0m         \u001b[0;32mif\u001b[0m \u001b[0mreturn_train_score\u001b[0m\u001b[0;34m:\u001b[0m\u001b[0;34m\u001b[0m\u001b[0;34m\u001b[0m\u001b[0m\n",
            "\u001b[0;32m/usr/local/lib/python3.6/dist-packages/sklearn/model_selection/_validation.py\u001b[0m in \u001b[0;36m_score\u001b[0;34m(estimator, X_test, y_test, scorer)\u001b[0m\n\u001b[1;32m    589\u001b[0m         \u001b[0mscores\u001b[0m \u001b[0;34m=\u001b[0m \u001b[0mscorer\u001b[0m\u001b[0;34m(\u001b[0m\u001b[0mestimator\u001b[0m\u001b[0;34m,\u001b[0m \u001b[0mX_test\u001b[0m\u001b[0;34m)\u001b[0m\u001b[0;34m\u001b[0m\u001b[0;34m\u001b[0m\u001b[0m\n\u001b[1;32m    590\u001b[0m     \u001b[0;32melse\u001b[0m\u001b[0;34m:\u001b[0m\u001b[0;34m\u001b[0m\u001b[0;34m\u001b[0m\u001b[0m\n\u001b[0;32m--> 591\u001b[0;31m         \u001b[0mscores\u001b[0m \u001b[0;34m=\u001b[0m \u001b[0mscorer\u001b[0m\u001b[0;34m(\u001b[0m\u001b[0mestimator\u001b[0m\u001b[0;34m,\u001b[0m \u001b[0mX_test\u001b[0m\u001b[0;34m,\u001b[0m \u001b[0my_test\u001b[0m\u001b[0;34m)\u001b[0m\u001b[0;34m\u001b[0m\u001b[0;34m\u001b[0m\u001b[0m\n\u001b[0m\u001b[1;32m    592\u001b[0m \u001b[0;34m\u001b[0m\u001b[0m\n\u001b[1;32m    593\u001b[0m     error_msg = (\"scoring must return a number, got %s (%s) \"\n",
            "\u001b[0;32m/usr/local/lib/python3.6/dist-packages/sklearn/metrics/_scorer.py\u001b[0m in \u001b[0;36m__call__\u001b[0;34m(self, estimator, *args, **kwargs)\u001b[0m\n\u001b[1;32m     85\u001b[0m             \u001b[0;32mif\u001b[0m \u001b[0misinstance\u001b[0m\u001b[0;34m(\u001b[0m\u001b[0mscorer\u001b[0m\u001b[0;34m,\u001b[0m \u001b[0m_BaseScorer\u001b[0m\u001b[0;34m)\u001b[0m\u001b[0;34m:\u001b[0m\u001b[0;34m\u001b[0m\u001b[0;34m\u001b[0m\u001b[0m\n\u001b[1;32m     86\u001b[0m                 score = scorer._score(cached_call, estimator,\n\u001b[0;32m---> 87\u001b[0;31m                                       *args, **kwargs)\n\u001b[0m\u001b[1;32m     88\u001b[0m             \u001b[0;32melse\u001b[0m\u001b[0;34m:\u001b[0m\u001b[0;34m\u001b[0m\u001b[0;34m\u001b[0m\u001b[0m\n\u001b[1;32m     89\u001b[0m                 \u001b[0mscore\u001b[0m \u001b[0;34m=\u001b[0m \u001b[0mscorer\u001b[0m\u001b[0;34m(\u001b[0m\u001b[0mestimator\u001b[0m\u001b[0;34m,\u001b[0m \u001b[0;34m*\u001b[0m\u001b[0margs\u001b[0m\u001b[0;34m,\u001b[0m \u001b[0;34m**\u001b[0m\u001b[0mkwargs\u001b[0m\u001b[0;34m)\u001b[0m\u001b[0;34m\u001b[0m\u001b[0;34m\u001b[0m\u001b[0m\n",
            "\u001b[0;32m/usr/local/lib/python3.6/dist-packages/sklearn/metrics/_scorer.py\u001b[0m in \u001b[0;36m_score\u001b[0;34m(self, method_caller, estimator, X, y_true, sample_weight)\u001b[0m\n\u001b[1;32m    210\u001b[0m         \u001b[0;32melse\u001b[0m\u001b[0;34m:\u001b[0m\u001b[0;34m\u001b[0m\u001b[0;34m\u001b[0m\u001b[0m\n\u001b[1;32m    211\u001b[0m             return self._sign * self._score_func(y_true, y_pred,\n\u001b[0;32m--> 212\u001b[0;31m                                                  **self._kwargs)\n\u001b[0m\u001b[1;32m    213\u001b[0m \u001b[0;34m\u001b[0m\u001b[0m\n\u001b[1;32m    214\u001b[0m \u001b[0;34m\u001b[0m\u001b[0m\n",
            "\u001b[0;32m/usr/local/lib/python3.6/dist-packages/sklearn/metrics/_classification.py\u001b[0m in \u001b[0;36mf1_score\u001b[0;34m(y_true, y_pred, labels, pos_label, average, sample_weight, zero_division)\u001b[0m\n\u001b[1;32m   1097\u001b[0m                        \u001b[0mpos_label\u001b[0m\u001b[0;34m=\u001b[0m\u001b[0mpos_label\u001b[0m\u001b[0;34m,\u001b[0m \u001b[0maverage\u001b[0m\u001b[0;34m=\u001b[0m\u001b[0maverage\u001b[0m\u001b[0;34m,\u001b[0m\u001b[0;34m\u001b[0m\u001b[0;34m\u001b[0m\u001b[0m\n\u001b[1;32m   1098\u001b[0m                        \u001b[0msample_weight\u001b[0m\u001b[0;34m=\u001b[0m\u001b[0msample_weight\u001b[0m\u001b[0;34m,\u001b[0m\u001b[0;34m\u001b[0m\u001b[0;34m\u001b[0m\u001b[0m\n\u001b[0;32m-> 1099\u001b[0;31m                        zero_division=zero_division)\n\u001b[0m\u001b[1;32m   1100\u001b[0m \u001b[0;34m\u001b[0m\u001b[0m\n\u001b[1;32m   1101\u001b[0m \u001b[0;34m\u001b[0m\u001b[0m\n",
            "\u001b[0;32m/usr/local/lib/python3.6/dist-packages/sklearn/metrics/_classification.py\u001b[0m in \u001b[0;36mfbeta_score\u001b[0;34m(y_true, y_pred, beta, labels, pos_label, average, sample_weight, zero_division)\u001b[0m\n\u001b[1;32m   1224\u001b[0m                                                  \u001b[0mwarn_for\u001b[0m\u001b[0;34m=\u001b[0m\u001b[0;34m(\u001b[0m\u001b[0;34m'f-score'\u001b[0m\u001b[0;34m,\u001b[0m\u001b[0;34m)\u001b[0m\u001b[0;34m,\u001b[0m\u001b[0;34m\u001b[0m\u001b[0;34m\u001b[0m\u001b[0m\n\u001b[1;32m   1225\u001b[0m                                                  \u001b[0msample_weight\u001b[0m\u001b[0;34m=\u001b[0m\u001b[0msample_weight\u001b[0m\u001b[0;34m,\u001b[0m\u001b[0;34m\u001b[0m\u001b[0;34m\u001b[0m\u001b[0m\n\u001b[0;32m-> 1226\u001b[0;31m                                                  zero_division=zero_division)\n\u001b[0m\u001b[1;32m   1227\u001b[0m     \u001b[0;32mreturn\u001b[0m \u001b[0mf\u001b[0m\u001b[0;34m\u001b[0m\u001b[0;34m\u001b[0m\u001b[0m\n\u001b[1;32m   1228\u001b[0m \u001b[0;34m\u001b[0m\u001b[0m\n",
            "\u001b[0;32m/usr/local/lib/python3.6/dist-packages/sklearn/metrics/_classification.py\u001b[0m in \u001b[0;36mprecision_recall_fscore_support\u001b[0;34m(y_true, y_pred, beta, labels, pos_label, average, warn_for, sample_weight, zero_division)\u001b[0m\n\u001b[1;32m   1482\u001b[0m         \u001b[0;32mraise\u001b[0m \u001b[0mValueError\u001b[0m\u001b[0;34m(\u001b[0m\u001b[0;34m\"beta should be >=0 in the F-beta score\"\u001b[0m\u001b[0;34m)\u001b[0m\u001b[0;34m\u001b[0m\u001b[0;34m\u001b[0m\u001b[0m\n\u001b[1;32m   1483\u001b[0m     labels = _check_set_wise_labels(y_true, y_pred, average, labels,\n\u001b[0;32m-> 1484\u001b[0;31m                                     pos_label)\n\u001b[0m\u001b[1;32m   1485\u001b[0m \u001b[0;34m\u001b[0m\u001b[0m\n\u001b[1;32m   1486\u001b[0m     \u001b[0;31m# Calculate tp_sum, pred_sum, true_sum ###\u001b[0m\u001b[0;34m\u001b[0m\u001b[0;34m\u001b[0m\u001b[0;34m\u001b[0m\u001b[0m\n",
            "\u001b[0;32m/usr/local/lib/python3.6/dist-packages/sklearn/metrics/_classification.py\u001b[0m in \u001b[0;36m_check_set_wise_labels\u001b[0;34m(y_true, y_pred, average, labels, pos_label)\u001b[0m\n\u001b[1;32m   1314\u001b[0m             raise ValueError(\"Target is %s but average='binary'. Please \"\n\u001b[1;32m   1315\u001b[0m                              \u001b[0;34m\"choose another average setting, one of %r.\"\u001b[0m\u001b[0;34m\u001b[0m\u001b[0;34m\u001b[0m\u001b[0m\n\u001b[0;32m-> 1316\u001b[0;31m                              % (y_type, average_options))\n\u001b[0m\u001b[1;32m   1317\u001b[0m     \u001b[0;32melif\u001b[0m \u001b[0mpos_label\u001b[0m \u001b[0;32mnot\u001b[0m \u001b[0;32min\u001b[0m \u001b[0;34m(\u001b[0m\u001b[0;32mNone\u001b[0m\u001b[0;34m,\u001b[0m \u001b[0;36m1\u001b[0m\u001b[0;34m)\u001b[0m\u001b[0;34m:\u001b[0m\u001b[0;34m\u001b[0m\u001b[0;34m\u001b[0m\u001b[0m\n\u001b[1;32m   1318\u001b[0m         warnings.warn(\"Note that pos_label (set to %r) is ignored when \"\n",
            "\u001b[0;31mValueError\u001b[0m: Target is multiclass but average='binary'. Please choose another average setting, one of [None, 'micro', 'macro', 'weighted']."
          ]
        }
      ]
    },
    {
      "cell_type": "code",
      "metadata": {
        "id": "XiAanidQGzSy"
      },
      "source": [
        ""
      ],
      "execution_count": null,
      "outputs": []
    },
    {
      "cell_type": "code",
      "metadata": {
        "id": "us20d5WuGzYi"
      },
      "source": [
        ""
      ],
      "execution_count": null,
      "outputs": []
    },
    {
      "cell_type": "code",
      "metadata": {
        "id": "beyblMgyGzdG"
      },
      "source": [
        ""
      ],
      "execution_count": null,
      "outputs": []
    },
    {
      "cell_type": "code",
      "metadata": {
        "id": "vu31DFHMUI2f"
      },
      "source": [
        "from sklearn.linear_model import SGDRegressor"
      ],
      "execution_count": null,
      "outputs": []
    },
    {
      "cell_type": "code",
      "metadata": {
        "colab": {
          "base_uri": "https://localhost:8080/",
          "height": 134
        },
        "id": "33sr773rakn1",
        "outputId": "ce04f6ee-af79-4648-8a53-202507da1df8"
      },
      "source": [
        "import tensorflow as tf\n",
        "import pandas as pd\n",
        "import numpy\n",
        "import os\n",
        "import matplotlib.pyplot as plt\n",
        "\n",
        "from keras.models import Sequential\n",
        "from keras.layers import Dense\n",
        "from keras.callbacks import ModelCheckpoint, EarlyStopping\n",
        "\n",
        "model = Sequential()\n",
        "#model.add(LSTM(32, input_shape=(600,6)))\n",
        "model.add(Dense(30,  input_dim=16, activation='relu')) #input_dim 칼럼\n",
        "model.add(Dense(20, activation='relu'))\n",
        "model.add(Dense(12, kernel_initializer='normal', activation='relu'))\n",
        "Dropout(0.25)\n",
        "model.add(Dense(8, activation='relu'))\n",
        "model.add(Dense(61)\n",
        "\n",
        "# LSTM: (3125, 600, 6) -> 600개씩 feature 6개를 잘라\n",
        "# Dense: (3125*600, 6)  -> 6개 feature: 3125개\n",
        "\n",
        "\n",
        "model.compile(loss='binary_crossentropy',\n",
        "          optimizer='adam',\n",
        "          metrics=['accuracy'])\n",
        "# model.compile(optimizer='rmsprop', loss='categorical_crossentropy', metrics=['accuracy'])\n",
        "\n",
        "# 모델 저장 폴더 만들기\n",
        "# MODEL_DIR = 'content/MyDrive/Colab Notebooks/dacon/model/'\n",
        "# if not os.path.exists(MODEL_DIR):\n",
        "#    os.mkdir(MODEL_DIR)\n",
        "\n",
        "modelpath=\"content/MyDrive/Colab Notebooks/dacon/model/{epoch:02d}-{val_loss:.4f}.hdf5\"\n",
        "\n",
        "# 모델 업데이트 및 저장\n",
        "checkpointer = ModelCheckpoint(filepath=modelpath, monitor='val_loss', verbose=1, save_best_only=True)\n",
        "\n",
        "# 학습 자동 중단 설정\n",
        "early_stopping_callback = EarlyStopping(monitor='val_loss', patience=100)\n",
        "\n",
        "# model.fit(X, y, validation_split=0.2, epochs=3500, batch_size=500, verbose=0, callbacks=[early_stopping_callback,checkpointer])\n",
        "model.fit(X,y, epochs=3000, batch_size=128, validation_split=0.2, verbose=0, callbacks=[early_stopping_callback,checkpointer])\n",
        "# model.fit(X,y, epochs=30, batch_size=128, validation_split=0.2)   # leaderboard"
      ],
      "execution_count": null,
      "outputs": [
        {
          "output_type": "error",
          "ename": "SyntaxError",
          "evalue": "ignored",
          "traceback": [
            "\u001b[0;36m  File \u001b[0;32m\"<ipython-input-27-256f7259552f>\"\u001b[0;36m, line \u001b[0;32m24\u001b[0m\n\u001b[0;31m    model.compile(loss='binary_crossentropy',\u001b[0m\n\u001b[0m        ^\u001b[0m\n\u001b[0;31mSyntaxError\u001b[0m\u001b[0;31m:\u001b[0m invalid syntax\n"
          ]
        }
      ]
    },
    {
      "cell_type": "code",
      "metadata": {
        "id": "BDu6zTlQVRCB",
        "colab": {
          "base_uri": "https://localhost:8080/",
          "height": 386
        },
        "outputId": "a7bb7fee-e468-46a8-c1f0-2f39c1898008"
      },
      "source": [
        "X_train, X_test, y_train , y_test = train_test_split(X,y, test_size = 0.2, random_state=121)\n",
        "rf_model = RandomForestClassifier()\n",
        "rf_model.fit(X_train, y_train) # 학습해서 메모리에 올려놔라. 아직 리턴값은 없음.\n",
        "pred = rf_model.predict(X_test)\n",
        "\n",
        "acc = accuracy_score(y_test, pred)\n",
        "f1 = f1_score(y_test, pred)\n",
        "precision = precision_score(y_test, pred)\n",
        "recall = recall_score(y_test, pred) \n",
        "rocauc = roc_auc_score(y_test, pred)\n",
        "#print(\"정확도:\", acc, \"f1:\",f1 )\n",
        "print(\"정확도: {:.4f} F1: {:.4f} (정밀도: {:.4f} 재현율: {:.4f}) rocauc:{:.4f} \".format(acc, f1, precision, recall, rocauc))\n",
        "print(acc) # f는 자연수를 의미. 소수점 4자리까지 자연수로 보여달라 이런 의미\n",
        "cf_matrix = confusion_matrix(y_test, pred)\n",
        "print(cf_matrix) # 여기서 (1,2)위치는 정밀도(FP) : 예측이 당뇨(P)인데 실제로는 정상(N)"
      ],
      "execution_count": null,
      "outputs": [
        {
          "output_type": "error",
          "ename": "KeyboardInterrupt",
          "evalue": "ignored",
          "traceback": [
            "\u001b[0;31m---------------------------------------------------------------------------\u001b[0m",
            "\u001b[0;31mKeyboardInterrupt\u001b[0m                         Traceback (most recent call last)",
            "\u001b[0;32m<ipython-input-39-e73e097afc73>\u001b[0m in \u001b[0;36m<module>\u001b[0;34m()\u001b[0m\n\u001b[1;32m      1\u001b[0m \u001b[0mX_train\u001b[0m\u001b[0;34m,\u001b[0m \u001b[0mX_test\u001b[0m\u001b[0;34m,\u001b[0m \u001b[0my_train\u001b[0m \u001b[0;34m,\u001b[0m \u001b[0my_test\u001b[0m \u001b[0;34m=\u001b[0m \u001b[0mtrain_test_split\u001b[0m\u001b[0;34m(\u001b[0m\u001b[0mX\u001b[0m\u001b[0;34m,\u001b[0m\u001b[0my\u001b[0m\u001b[0;34m,\u001b[0m \u001b[0mtest_size\u001b[0m \u001b[0;34m=\u001b[0m \u001b[0;36m0.2\u001b[0m\u001b[0;34m,\u001b[0m \u001b[0mrandom_state\u001b[0m\u001b[0;34m=\u001b[0m\u001b[0;36m121\u001b[0m\u001b[0;34m)\u001b[0m\u001b[0;34m\u001b[0m\u001b[0;34m\u001b[0m\u001b[0m\n\u001b[1;32m      2\u001b[0m \u001b[0mrf_model\u001b[0m \u001b[0;34m=\u001b[0m \u001b[0mRandomForestClassifier\u001b[0m\u001b[0;34m(\u001b[0m\u001b[0;34m)\u001b[0m\u001b[0;34m\u001b[0m\u001b[0;34m\u001b[0m\u001b[0m\n\u001b[0;32m----> 3\u001b[0;31m \u001b[0mrf_model\u001b[0m\u001b[0;34m.\u001b[0m\u001b[0mfit\u001b[0m\u001b[0;34m(\u001b[0m\u001b[0mX_train\u001b[0m\u001b[0;34m,\u001b[0m \u001b[0my_train\u001b[0m\u001b[0;34m)\u001b[0m \u001b[0;31m# 학습해서 메모리에 올려놔라. 아직 리턴값은 없음.\u001b[0m\u001b[0;34m\u001b[0m\u001b[0;34m\u001b[0m\u001b[0m\n\u001b[0m\u001b[1;32m      4\u001b[0m \u001b[0mpred\u001b[0m \u001b[0;34m=\u001b[0m \u001b[0mrf_model\u001b[0m\u001b[0;34m.\u001b[0m\u001b[0mpredict\u001b[0m\u001b[0;34m(\u001b[0m\u001b[0mX_test\u001b[0m\u001b[0;34m)\u001b[0m\u001b[0;34m\u001b[0m\u001b[0;34m\u001b[0m\u001b[0m\n\u001b[1;32m      5\u001b[0m \u001b[0;34m\u001b[0m\u001b[0m\n",
            "\u001b[0;32m/usr/local/lib/python3.6/dist-packages/sklearn/ensemble/_forest.py\u001b[0m in \u001b[0;36mfit\u001b[0;34m(self, X, y, sample_weight)\u001b[0m\n\u001b[1;32m    381\u001b[0m                     \u001b[0mverbose\u001b[0m\u001b[0;34m=\u001b[0m\u001b[0mself\u001b[0m\u001b[0;34m.\u001b[0m\u001b[0mverbose\u001b[0m\u001b[0;34m,\u001b[0m \u001b[0mclass_weight\u001b[0m\u001b[0;34m=\u001b[0m\u001b[0mself\u001b[0m\u001b[0;34m.\u001b[0m\u001b[0mclass_weight\u001b[0m\u001b[0;34m,\u001b[0m\u001b[0;34m\u001b[0m\u001b[0;34m\u001b[0m\u001b[0m\n\u001b[1;32m    382\u001b[0m                     n_samples_bootstrap=n_samples_bootstrap)\n\u001b[0;32m--> 383\u001b[0;31m                 for i, t in enumerate(trees))\n\u001b[0m\u001b[1;32m    384\u001b[0m \u001b[0;34m\u001b[0m\u001b[0m\n\u001b[1;32m    385\u001b[0m             \u001b[0;31m# Collect newly grown trees\u001b[0m\u001b[0;34m\u001b[0m\u001b[0;34m\u001b[0m\u001b[0;34m\u001b[0m\u001b[0m\n",
            "\u001b[0;32m/usr/local/lib/python3.6/dist-packages/joblib/parallel.py\u001b[0m in \u001b[0;36m__call__\u001b[0;34m(self, iterable)\u001b[0m\n\u001b[1;32m   1042\u001b[0m                 \u001b[0mself\u001b[0m\u001b[0;34m.\u001b[0m\u001b[0m_iterating\u001b[0m \u001b[0;34m=\u001b[0m \u001b[0mself\u001b[0m\u001b[0;34m.\u001b[0m\u001b[0m_original_iterator\u001b[0m \u001b[0;32mis\u001b[0m \u001b[0;32mnot\u001b[0m \u001b[0;32mNone\u001b[0m\u001b[0;34m\u001b[0m\u001b[0;34m\u001b[0m\u001b[0m\n\u001b[1;32m   1043\u001b[0m \u001b[0;34m\u001b[0m\u001b[0m\n\u001b[0;32m-> 1044\u001b[0;31m             \u001b[0;32mwhile\u001b[0m \u001b[0mself\u001b[0m\u001b[0;34m.\u001b[0m\u001b[0mdispatch_one_batch\u001b[0m\u001b[0;34m(\u001b[0m\u001b[0miterator\u001b[0m\u001b[0;34m)\u001b[0m\u001b[0;34m:\u001b[0m\u001b[0;34m\u001b[0m\u001b[0;34m\u001b[0m\u001b[0m\n\u001b[0m\u001b[1;32m   1045\u001b[0m                 \u001b[0;32mpass\u001b[0m\u001b[0;34m\u001b[0m\u001b[0;34m\u001b[0m\u001b[0m\n\u001b[1;32m   1046\u001b[0m \u001b[0;34m\u001b[0m\u001b[0m\n",
            "\u001b[0;32m/usr/local/lib/python3.6/dist-packages/joblib/parallel.py\u001b[0m in \u001b[0;36mdispatch_one_batch\u001b[0;34m(self, iterator)\u001b[0m\n\u001b[1;32m    857\u001b[0m                 \u001b[0;32mreturn\u001b[0m \u001b[0;32mFalse\u001b[0m\u001b[0;34m\u001b[0m\u001b[0;34m\u001b[0m\u001b[0m\n\u001b[1;32m    858\u001b[0m             \u001b[0;32melse\u001b[0m\u001b[0;34m:\u001b[0m\u001b[0;34m\u001b[0m\u001b[0;34m\u001b[0m\u001b[0m\n\u001b[0;32m--> 859\u001b[0;31m                 \u001b[0mself\u001b[0m\u001b[0;34m.\u001b[0m\u001b[0m_dispatch\u001b[0m\u001b[0;34m(\u001b[0m\u001b[0mtasks\u001b[0m\u001b[0;34m)\u001b[0m\u001b[0;34m\u001b[0m\u001b[0;34m\u001b[0m\u001b[0m\n\u001b[0m\u001b[1;32m    860\u001b[0m                 \u001b[0;32mreturn\u001b[0m \u001b[0;32mTrue\u001b[0m\u001b[0;34m\u001b[0m\u001b[0;34m\u001b[0m\u001b[0m\n\u001b[1;32m    861\u001b[0m \u001b[0;34m\u001b[0m\u001b[0m\n",
            "\u001b[0;32m/usr/local/lib/python3.6/dist-packages/joblib/parallel.py\u001b[0m in \u001b[0;36m_dispatch\u001b[0;34m(self, batch)\u001b[0m\n\u001b[1;32m    775\u001b[0m         \u001b[0;32mwith\u001b[0m \u001b[0mself\u001b[0m\u001b[0;34m.\u001b[0m\u001b[0m_lock\u001b[0m\u001b[0;34m:\u001b[0m\u001b[0;34m\u001b[0m\u001b[0;34m\u001b[0m\u001b[0m\n\u001b[1;32m    776\u001b[0m             \u001b[0mjob_idx\u001b[0m \u001b[0;34m=\u001b[0m \u001b[0mlen\u001b[0m\u001b[0;34m(\u001b[0m\u001b[0mself\u001b[0m\u001b[0;34m.\u001b[0m\u001b[0m_jobs\u001b[0m\u001b[0;34m)\u001b[0m\u001b[0;34m\u001b[0m\u001b[0;34m\u001b[0m\u001b[0m\n\u001b[0;32m--> 777\u001b[0;31m             \u001b[0mjob\u001b[0m \u001b[0;34m=\u001b[0m \u001b[0mself\u001b[0m\u001b[0;34m.\u001b[0m\u001b[0m_backend\u001b[0m\u001b[0;34m.\u001b[0m\u001b[0mapply_async\u001b[0m\u001b[0;34m(\u001b[0m\u001b[0mbatch\u001b[0m\u001b[0;34m,\u001b[0m \u001b[0mcallback\u001b[0m\u001b[0;34m=\u001b[0m\u001b[0mcb\u001b[0m\u001b[0;34m)\u001b[0m\u001b[0;34m\u001b[0m\u001b[0;34m\u001b[0m\u001b[0m\n\u001b[0m\u001b[1;32m    778\u001b[0m             \u001b[0;31m# A job can complete so quickly than its callback is\u001b[0m\u001b[0;34m\u001b[0m\u001b[0;34m\u001b[0m\u001b[0;34m\u001b[0m\u001b[0m\n\u001b[1;32m    779\u001b[0m             \u001b[0;31m# called before we get here, causing self._jobs to\u001b[0m\u001b[0;34m\u001b[0m\u001b[0;34m\u001b[0m\u001b[0;34m\u001b[0m\u001b[0m\n",
            "\u001b[0;32m/usr/local/lib/python3.6/dist-packages/joblib/_parallel_backends.py\u001b[0m in \u001b[0;36mapply_async\u001b[0;34m(self, func, callback)\u001b[0m\n\u001b[1;32m    206\u001b[0m     \u001b[0;32mdef\u001b[0m \u001b[0mapply_async\u001b[0m\u001b[0;34m(\u001b[0m\u001b[0mself\u001b[0m\u001b[0;34m,\u001b[0m \u001b[0mfunc\u001b[0m\u001b[0;34m,\u001b[0m \u001b[0mcallback\u001b[0m\u001b[0;34m=\u001b[0m\u001b[0;32mNone\u001b[0m\u001b[0;34m)\u001b[0m\u001b[0;34m:\u001b[0m\u001b[0;34m\u001b[0m\u001b[0;34m\u001b[0m\u001b[0m\n\u001b[1;32m    207\u001b[0m         \u001b[0;34m\"\"\"Schedule a func to be run\"\"\"\u001b[0m\u001b[0;34m\u001b[0m\u001b[0;34m\u001b[0m\u001b[0m\n\u001b[0;32m--> 208\u001b[0;31m         \u001b[0mresult\u001b[0m \u001b[0;34m=\u001b[0m \u001b[0mImmediateResult\u001b[0m\u001b[0;34m(\u001b[0m\u001b[0mfunc\u001b[0m\u001b[0;34m)\u001b[0m\u001b[0;34m\u001b[0m\u001b[0;34m\u001b[0m\u001b[0m\n\u001b[0m\u001b[1;32m    209\u001b[0m         \u001b[0;32mif\u001b[0m \u001b[0mcallback\u001b[0m\u001b[0;34m:\u001b[0m\u001b[0;34m\u001b[0m\u001b[0;34m\u001b[0m\u001b[0m\n\u001b[1;32m    210\u001b[0m             \u001b[0mcallback\u001b[0m\u001b[0;34m(\u001b[0m\u001b[0mresult\u001b[0m\u001b[0;34m)\u001b[0m\u001b[0;34m\u001b[0m\u001b[0;34m\u001b[0m\u001b[0m\n",
            "\u001b[0;32m/usr/local/lib/python3.6/dist-packages/joblib/_parallel_backends.py\u001b[0m in \u001b[0;36m__init__\u001b[0;34m(self, batch)\u001b[0m\n\u001b[1;32m    570\u001b[0m         \u001b[0;31m# Don't delay the application, to avoid keeping the input\u001b[0m\u001b[0;34m\u001b[0m\u001b[0;34m\u001b[0m\u001b[0;34m\u001b[0m\u001b[0m\n\u001b[1;32m    571\u001b[0m         \u001b[0;31m# arguments in memory\u001b[0m\u001b[0;34m\u001b[0m\u001b[0;34m\u001b[0m\u001b[0;34m\u001b[0m\u001b[0m\n\u001b[0;32m--> 572\u001b[0;31m         \u001b[0mself\u001b[0m\u001b[0;34m.\u001b[0m\u001b[0mresults\u001b[0m \u001b[0;34m=\u001b[0m \u001b[0mbatch\u001b[0m\u001b[0;34m(\u001b[0m\u001b[0;34m)\u001b[0m\u001b[0;34m\u001b[0m\u001b[0;34m\u001b[0m\u001b[0m\n\u001b[0m\u001b[1;32m    573\u001b[0m \u001b[0;34m\u001b[0m\u001b[0m\n\u001b[1;32m    574\u001b[0m     \u001b[0;32mdef\u001b[0m \u001b[0mget\u001b[0m\u001b[0;34m(\u001b[0m\u001b[0mself\u001b[0m\u001b[0;34m)\u001b[0m\u001b[0;34m:\u001b[0m\u001b[0;34m\u001b[0m\u001b[0;34m\u001b[0m\u001b[0m\n",
            "\u001b[0;32m/usr/local/lib/python3.6/dist-packages/joblib/parallel.py\u001b[0m in \u001b[0;36m__call__\u001b[0;34m(self)\u001b[0m\n\u001b[1;32m    261\u001b[0m         \u001b[0;32mwith\u001b[0m \u001b[0mparallel_backend\u001b[0m\u001b[0;34m(\u001b[0m\u001b[0mself\u001b[0m\u001b[0;34m.\u001b[0m\u001b[0m_backend\u001b[0m\u001b[0;34m,\u001b[0m \u001b[0mn_jobs\u001b[0m\u001b[0;34m=\u001b[0m\u001b[0mself\u001b[0m\u001b[0;34m.\u001b[0m\u001b[0m_n_jobs\u001b[0m\u001b[0;34m)\u001b[0m\u001b[0;34m:\u001b[0m\u001b[0;34m\u001b[0m\u001b[0;34m\u001b[0m\u001b[0m\n\u001b[1;32m    262\u001b[0m             return [func(*args, **kwargs)\n\u001b[0;32m--> 263\u001b[0;31m                     for func, args, kwargs in self.items]\n\u001b[0m\u001b[1;32m    264\u001b[0m \u001b[0;34m\u001b[0m\u001b[0m\n\u001b[1;32m    265\u001b[0m     \u001b[0;32mdef\u001b[0m \u001b[0m__reduce__\u001b[0m\u001b[0;34m(\u001b[0m\u001b[0mself\u001b[0m\u001b[0;34m)\u001b[0m\u001b[0;34m:\u001b[0m\u001b[0;34m\u001b[0m\u001b[0;34m\u001b[0m\u001b[0m\n",
            "\u001b[0;32m/usr/local/lib/python3.6/dist-packages/joblib/parallel.py\u001b[0m in \u001b[0;36m<listcomp>\u001b[0;34m(.0)\u001b[0m\n\u001b[1;32m    261\u001b[0m         \u001b[0;32mwith\u001b[0m \u001b[0mparallel_backend\u001b[0m\u001b[0;34m(\u001b[0m\u001b[0mself\u001b[0m\u001b[0;34m.\u001b[0m\u001b[0m_backend\u001b[0m\u001b[0;34m,\u001b[0m \u001b[0mn_jobs\u001b[0m\u001b[0;34m=\u001b[0m\u001b[0mself\u001b[0m\u001b[0;34m.\u001b[0m\u001b[0m_n_jobs\u001b[0m\u001b[0;34m)\u001b[0m\u001b[0;34m:\u001b[0m\u001b[0;34m\u001b[0m\u001b[0;34m\u001b[0m\u001b[0m\n\u001b[1;32m    262\u001b[0m             return [func(*args, **kwargs)\n\u001b[0;32m--> 263\u001b[0;31m                     for func, args, kwargs in self.items]\n\u001b[0m\u001b[1;32m    264\u001b[0m \u001b[0;34m\u001b[0m\u001b[0m\n\u001b[1;32m    265\u001b[0m     \u001b[0;32mdef\u001b[0m \u001b[0m__reduce__\u001b[0m\u001b[0;34m(\u001b[0m\u001b[0mself\u001b[0m\u001b[0;34m)\u001b[0m\u001b[0;34m:\u001b[0m\u001b[0;34m\u001b[0m\u001b[0;34m\u001b[0m\u001b[0m\n",
            "\u001b[0;32m/usr/local/lib/python3.6/dist-packages/sklearn/ensemble/_forest.py\u001b[0m in \u001b[0;36m_parallel_build_trees\u001b[0;34m(tree, forest, X, y, sample_weight, tree_idx, n_trees, verbose, class_weight, n_samples_bootstrap)\u001b[0m\n\u001b[1;32m    163\u001b[0m             \u001b[0mcurr_sample_weight\u001b[0m \u001b[0;34m*=\u001b[0m \u001b[0mcompute_sample_weight\u001b[0m\u001b[0;34m(\u001b[0m\u001b[0;34m'balanced'\u001b[0m\u001b[0;34m,\u001b[0m \u001b[0my\u001b[0m\u001b[0;34m,\u001b[0m \u001b[0mindices\u001b[0m\u001b[0;34m)\u001b[0m\u001b[0;34m\u001b[0m\u001b[0;34m\u001b[0m\u001b[0m\n\u001b[1;32m    164\u001b[0m \u001b[0;34m\u001b[0m\u001b[0m\n\u001b[0;32m--> 165\u001b[0;31m         \u001b[0mtree\u001b[0m\u001b[0;34m.\u001b[0m\u001b[0mfit\u001b[0m\u001b[0;34m(\u001b[0m\u001b[0mX\u001b[0m\u001b[0;34m,\u001b[0m \u001b[0my\u001b[0m\u001b[0;34m,\u001b[0m \u001b[0msample_weight\u001b[0m\u001b[0;34m=\u001b[0m\u001b[0mcurr_sample_weight\u001b[0m\u001b[0;34m,\u001b[0m \u001b[0mcheck_input\u001b[0m\u001b[0;34m=\u001b[0m\u001b[0;32mFalse\u001b[0m\u001b[0;34m)\u001b[0m\u001b[0;34m\u001b[0m\u001b[0;34m\u001b[0m\u001b[0m\n\u001b[0m\u001b[1;32m    166\u001b[0m     \u001b[0;32melse\u001b[0m\u001b[0;34m:\u001b[0m\u001b[0;34m\u001b[0m\u001b[0;34m\u001b[0m\u001b[0m\n\u001b[1;32m    167\u001b[0m         \u001b[0mtree\u001b[0m\u001b[0;34m.\u001b[0m\u001b[0mfit\u001b[0m\u001b[0;34m(\u001b[0m\u001b[0mX\u001b[0m\u001b[0;34m,\u001b[0m \u001b[0my\u001b[0m\u001b[0;34m,\u001b[0m \u001b[0msample_weight\u001b[0m\u001b[0;34m=\u001b[0m\u001b[0msample_weight\u001b[0m\u001b[0;34m,\u001b[0m \u001b[0mcheck_input\u001b[0m\u001b[0;34m=\u001b[0m\u001b[0;32mFalse\u001b[0m\u001b[0;34m)\u001b[0m\u001b[0;34m\u001b[0m\u001b[0;34m\u001b[0m\u001b[0m\n",
            "\u001b[0;32m/usr/local/lib/python3.6/dist-packages/sklearn/tree/_classes.py\u001b[0m in \u001b[0;36mfit\u001b[0;34m(self, X, y, sample_weight, check_input, X_idx_sorted)\u001b[0m\n\u001b[1;32m    875\u001b[0m             \u001b[0msample_weight\u001b[0m\u001b[0;34m=\u001b[0m\u001b[0msample_weight\u001b[0m\u001b[0;34m,\u001b[0m\u001b[0;34m\u001b[0m\u001b[0;34m\u001b[0m\u001b[0m\n\u001b[1;32m    876\u001b[0m             \u001b[0mcheck_input\u001b[0m\u001b[0;34m=\u001b[0m\u001b[0mcheck_input\u001b[0m\u001b[0;34m,\u001b[0m\u001b[0;34m\u001b[0m\u001b[0;34m\u001b[0m\u001b[0m\n\u001b[0;32m--> 877\u001b[0;31m             X_idx_sorted=X_idx_sorted)\n\u001b[0m\u001b[1;32m    878\u001b[0m         \u001b[0;32mreturn\u001b[0m \u001b[0mself\u001b[0m\u001b[0;34m\u001b[0m\u001b[0;34m\u001b[0m\u001b[0m\n\u001b[1;32m    879\u001b[0m \u001b[0;34m\u001b[0m\u001b[0m\n",
            "\u001b[0;32m/usr/local/lib/python3.6/dist-packages/sklearn/tree/_classes.py\u001b[0m in \u001b[0;36mfit\u001b[0;34m(self, X, y, sample_weight, check_input, X_idx_sorted)\u001b[0m\n\u001b[1;32m    365\u001b[0m                                            min_impurity_split)\n\u001b[1;32m    366\u001b[0m \u001b[0;34m\u001b[0m\u001b[0m\n\u001b[0;32m--> 367\u001b[0;31m         \u001b[0mbuilder\u001b[0m\u001b[0;34m.\u001b[0m\u001b[0mbuild\u001b[0m\u001b[0;34m(\u001b[0m\u001b[0mself\u001b[0m\u001b[0;34m.\u001b[0m\u001b[0mtree_\u001b[0m\u001b[0;34m,\u001b[0m \u001b[0mX\u001b[0m\u001b[0;34m,\u001b[0m \u001b[0my\u001b[0m\u001b[0;34m,\u001b[0m \u001b[0msample_weight\u001b[0m\u001b[0;34m,\u001b[0m \u001b[0mX_idx_sorted\u001b[0m\u001b[0;34m)\u001b[0m\u001b[0;34m\u001b[0m\u001b[0;34m\u001b[0m\u001b[0m\n\u001b[0m\u001b[1;32m    368\u001b[0m \u001b[0;34m\u001b[0m\u001b[0m\n\u001b[1;32m    369\u001b[0m         \u001b[0;32mif\u001b[0m \u001b[0mself\u001b[0m\u001b[0;34m.\u001b[0m\u001b[0mn_outputs_\u001b[0m \u001b[0;34m==\u001b[0m \u001b[0;36m1\u001b[0m \u001b[0;32mand\u001b[0m \u001b[0mis_classifier\u001b[0m\u001b[0;34m(\u001b[0m\u001b[0mself\u001b[0m\u001b[0;34m)\u001b[0m\u001b[0;34m:\u001b[0m\u001b[0;34m\u001b[0m\u001b[0;34m\u001b[0m\u001b[0m\n",
            "\u001b[0;31mKeyboardInterrupt\u001b[0m: "
          ]
        }
      ]
    },
    {
      "cell_type": "code",
      "metadata": {
        "colab": {
          "base_uri": "https://localhost:8080/",
          "height": 239
        },
        "id": "fF9lFPSx4sTc",
        "outputId": "51fd69be-735c-4ff0-9f97-214308e07df3"
      },
      "source": [
        "model = Sequential()\n",
        "model.add(LSTM(32, input_shape=(600,6)))\n",
        "# model.add(Dense(30,  input_dim=24, activation='relu'))\n",
        "model.add(Dense(20, activation='relu'))\n",
        "Dropout(0.25)\n",
        "model.add(Dense(12, kernel_initializer='normal', activation='relu'))\n",
        "model.add(Dense(8, activation='relu'))\n",
        "model.add(Dense(61, activation='softmax'))\n",
        "\n",
        "model.compile(loss='categorical_crossentropy',\n",
        "          optimizer='adam',\n",
        "          metrics=['accuracy'])\n",
        "\n",
        "# 모델 업데이트 및 저장\n",
        "modelpath=\"content/MyDrive/Colab Notebooks/dacon/model/{epoch:02d}-{val_loss:.4f}.hdf5\"\n",
        "checkpointer = ModelCheckpoint(filepath=modelpath, monitor='val_loss', verbose=1, save_best_only=True)\n",
        "\n",
        "# 학습 자동 중단 설정\n",
        "early_stopping_callback = EarlyStopping(monitor='val_loss', patience=100)\n",
        "\n",
        "model.fit(X_scaled,y, epochs=3000, batch_size=128, validation_split=0.2, verbose=0, callbacks=[early_stopping_callback,checkpointer])"
      ],
      "execution_count": null,
      "outputs": [
        {
          "output_type": "error",
          "ename": "NameError",
          "evalue": "ignored",
          "traceback": [
            "\u001b[0;31m---------------------------------------------------------------------------\u001b[0m",
            "\u001b[0;31mNameError\u001b[0m                                 Traceback (most recent call last)",
            "\u001b[0;32m<ipython-input-29-d1d25fdeb8f3>\u001b[0m in \u001b[0;36m<module>\u001b[0;34m()\u001b[0m\n\u001b[0;32m----> 1\u001b[0;31m \u001b[0mmodel\u001b[0m \u001b[0;34m=\u001b[0m \u001b[0mSequential\u001b[0m\u001b[0;34m(\u001b[0m\u001b[0;34m)\u001b[0m\u001b[0;34m\u001b[0m\u001b[0;34m\u001b[0m\u001b[0m\n\u001b[0m\u001b[1;32m      2\u001b[0m \u001b[0mmodel\u001b[0m\u001b[0;34m.\u001b[0m\u001b[0madd\u001b[0m\u001b[0;34m(\u001b[0m\u001b[0mLSTM\u001b[0m\u001b[0;34m(\u001b[0m\u001b[0;36m32\u001b[0m\u001b[0;34m,\u001b[0m \u001b[0minput_shape\u001b[0m\u001b[0;34m=\u001b[0m\u001b[0;34m(\u001b[0m\u001b[0;36m600\u001b[0m\u001b[0;34m,\u001b[0m\u001b[0;36m6\u001b[0m\u001b[0;34m)\u001b[0m\u001b[0;34m)\u001b[0m\u001b[0;34m)\u001b[0m\u001b[0;34m\u001b[0m\u001b[0;34m\u001b[0m\u001b[0m\n\u001b[1;32m      3\u001b[0m \u001b[0;31m# model.add(Dense(30,  input_dim=24, activation='relu'))\u001b[0m\u001b[0;34m\u001b[0m\u001b[0;34m\u001b[0m\u001b[0;34m\u001b[0m\u001b[0m\n\u001b[1;32m      4\u001b[0m \u001b[0mmodel\u001b[0m\u001b[0;34m.\u001b[0m\u001b[0madd\u001b[0m\u001b[0;34m(\u001b[0m\u001b[0mDense\u001b[0m\u001b[0;34m(\u001b[0m\u001b[0;36m20\u001b[0m\u001b[0;34m,\u001b[0m \u001b[0mactivation\u001b[0m\u001b[0;34m=\u001b[0m\u001b[0;34m'relu'\u001b[0m\u001b[0;34m)\u001b[0m\u001b[0;34m)\u001b[0m\u001b[0;34m\u001b[0m\u001b[0;34m\u001b[0m\u001b[0m\n\u001b[1;32m      5\u001b[0m \u001b[0mDropout\u001b[0m\u001b[0;34m(\u001b[0m\u001b[0;36m0.25\u001b[0m\u001b[0;34m)\u001b[0m\u001b[0;34m\u001b[0m\u001b[0;34m\u001b[0m\u001b[0m\n",
            "\u001b[0;31mNameError\u001b[0m: name 'Sequential' is not defined"
          ]
        }
      ]
    },
    {
      "cell_type": "code",
      "metadata": {
        "colab": {
          "base_uri": "https://localhost:8080/"
        },
        "id": "os9efclk68a_",
        "outputId": "d73d8020-5c1e-4fed-9b21-41685e885c41"
      },
      "source": [
        "df.info()"
      ],
      "execution_count": null,
      "outputs": [
        {
          "output_type": "stream",
          "text": [
            "<class 'pandas.core.frame.DataFrame'>\n",
            "Int64Index: 456548 entries, 0 to 456547\n",
            "Data columns (total 17 columns):\n",
            " #   Column                 Non-Null Count   Dtype  \n",
            "---  ------                 --------------   -----  \n",
            " 0   week                   456548 non-null  int64  \n",
            " 1   center_id              456548 non-null  int64  \n",
            " 2   meal_id                456548 non-null  int64  \n",
            " 3   checkout_price         456548 non-null  float64\n",
            " 4   base_price             456548 non-null  float64\n",
            " 5   emailer_for_promotion  456548 non-null  int64  \n",
            " 6   homepage_featured      456548 non-null  int64  \n",
            " 7   num_orders             456548 non-null  float64\n",
            " 8   city_code              456548 non-null  int64  \n",
            " 9   region_code            456548 non-null  int64  \n",
            " 10  op_area                456548 non-null  float64\n",
            " 11  Month                  456548 non-null  int64  \n",
            " 12  Year                   456548 non-null  int64  \n",
            " 13  Quarter                456548 non-null  int64  \n",
            " 14  category_cate          456548 non-null  int64  \n",
            " 15  center_type_cate       456548 non-null  int64  \n",
            " 16  cuisine_cate           456548 non-null  int64  \n",
            "dtypes: float64(4), int64(13)\n",
            "memory usage: 62.7 MB\n"
          ],
          "name": "stdout"
        }
      ]
    },
    {
      "cell_type": "code",
      "metadata": {
        "id": "oSm0slCL7orh"
      },
      "source": [
        "#전처리 전의 점수(전처리 후의 점수와 비교하기 위함)\n",
        "X_train ,X_test , y_train, y_test = train_test_split(X, y, test_size=0.2, random_state=121) #random_state=121 : 헷갈리면 안되기에 아무 수치나\n",
        "#문제 문제 8:2, 답안 답안 8:2\n",
        "rf_model = RandomForestClassifier() #모델을 다른것 사용하려면 이 한 줄만 바꾸면 됨\n",
        "rf_model.fit(X_train, y_train)#fit: 해당 모델을 이용해서 학습해라, 완료시 return데이터는 없음, X_train, y_train : 문제와 답안\n",
        "pred = rf_model.predict(X_test) #X_test 시험지를 주고 맞추라는 의미\n",
        "GET_MY_SCORE(y_test, pred, \"최초점수\") #확인했으나 그닥 마음에 드는 점수가 아님"
      ],
      "execution_count": null,
      "outputs": []
    },
    {
      "cell_type": "code",
      "metadata": {
        "colab": {
          "base_uri": "https://localhost:8080/"
        },
        "id": "38S5wqf1-70j",
        "outputId": "08c66199-0f84-4a7d-d33f-89f4acebd22b"
      },
      "source": [
        "from sklearn.ensemble import RandomForestClassifier\n",
        "\n",
        "model = RandomForestClassifier(n_jobs=-1, random_state=0, min_samples_leaf=30)\n",
        "model.fit(X_train, y_train)"
      ],
      "execution_count": null,
      "outputs": [
        {
          "output_type": "execute_result",
          "data": {
            "text/plain": [
              "RandomForestClassifier(bootstrap=True, ccp_alpha=0.0, class_weight=None,\n",
              "                       criterion='gini', max_depth=None, max_features='auto',\n",
              "                       max_leaf_nodes=None, max_samples=None,\n",
              "                       min_impurity_decrease=0.0, min_impurity_split=None,\n",
              "                       min_samples_leaf=30, min_samples_split=2,\n",
              "                       min_weight_fraction_leaf=0.0, n_estimators=100,\n",
              "                       n_jobs=-1, oob_score=False, random_state=0, verbose=0,\n",
              "                       warm_start=False)"
            ]
          },
          "metadata": {
            "tags": []
          },
          "execution_count": 21
        }
      ]
    },
    {
      "cell_type": "code",
      "metadata": {
        "id": "lvZCPzLVDmzt"
      },
      "source": [
        "scaler   = RobustScaler()\n",
        "\n",
        "X_scaler = scaler.fit_transform(X_train)"
      ],
      "execution_count": null,
      "outputs": []
    },
    {
      "cell_type": "code",
      "metadata": {
        "colab": {
          "base_uri": "https://localhost:8080/",
          "height": 369
        },
        "id": "LFJp8mYqDru8",
        "outputId": "850d676b-0837-4e23-9ffc-08a42378ac62"
      },
      "source": [
        "my_hyper_param = {  \"n_estimators\"     :[100, 300],\n",
        "                    \"max_depth\"        :[4, 5, 6],\n",
        "                    \"min_samples_leaf\" :[2, 3, 4],\n",
        "                    \"random_state\"     :[121,]    }\n",
        "\n",
        "def MyGridSearchCV(my_hyper_param, model, X, y) :\n",
        "    print(\"GridSerchCV --------------------------------\")\n",
        "    X_train, X_test, y_train, y_test = train_test_split(X, y, test_size=0.2, random_state=121)\n",
        "    my_score  = {\"acc\": \"accuracy\", \"f1\": \"f1\"}\n",
        "    gcv_model = GridSearchCV(model, param_grid=my_hyper_param, scoring=my_score, refit=\"f1\", cv=5, verbose=0)\n",
        "    gcv_model.fit(X_train, y_train)\n",
        "\n",
        "    # print(\"best_estimator:\", gcv_model.best_estimator_)\n",
        "    print(\"best_params :\", gcv_model.best_params_)\n",
        "    print(\"best_score  :\", gcv_model.best_score_)\n",
        "    print(\"GridSearchCV 평균 정확도 : \", gcv_model.cv_results_[\"mean_test_acc\"].mean())  #mean_test_(본인의score키값)\n",
        "    print(\"GridSearchCV 평균 F1    : \", gcv_model.cv_results_[\"mean_test_f1\"].mean())\n",
        "    print(barline)\n",
        "\n",
        "MyGridSearchCV(my_hyper_param, model, X_scaler, y_train)"
      ],
      "execution_count": null,
      "outputs": [
        {
          "output_type": "stream",
          "text": [
            "GridSerchCV --------------------------------\n"
          ],
          "name": "stdout"
        },
        {
          "output_type": "error",
          "ename": "ValueError",
          "evalue": "ignored",
          "traceback": [
            "\u001b[0;31m---------------------------------------------------------------------------\u001b[0m",
            "\u001b[0;31mValueError\u001b[0m                                Traceback (most recent call last)",
            "\u001b[0;32m<ipython-input-23-302094d6d48a>\u001b[0m in \u001b[0;36m<module>\u001b[0;34m()\u001b[0m\n\u001b[1;32m     18\u001b[0m     \u001b[0mprint\u001b[0m\u001b[0;34m(\u001b[0m\u001b[0mbarline\u001b[0m\u001b[0;34m)\u001b[0m\u001b[0;34m\u001b[0m\u001b[0;34m\u001b[0m\u001b[0m\n\u001b[1;32m     19\u001b[0m \u001b[0;34m\u001b[0m\u001b[0m\n\u001b[0;32m---> 20\u001b[0;31m \u001b[0mMyGridSearchCV\u001b[0m\u001b[0;34m(\u001b[0m\u001b[0mmy_hyper_param\u001b[0m\u001b[0;34m,\u001b[0m \u001b[0mmodel\u001b[0m\u001b[0;34m,\u001b[0m \u001b[0mX_scaler\u001b[0m\u001b[0;34m,\u001b[0m \u001b[0my_train\u001b[0m\u001b[0;34m)\u001b[0m\u001b[0;34m\u001b[0m\u001b[0;34m\u001b[0m\u001b[0m\n\u001b[0m",
            "\u001b[0;32m<ipython-input-23-302094d6d48a>\u001b[0m in \u001b[0;36mMyGridSearchCV\u001b[0;34m(my_hyper_param, model, X, y)\u001b[0m\n\u001b[1;32m      9\u001b[0m     \u001b[0mmy_score\u001b[0m  \u001b[0;34m=\u001b[0m \u001b[0;34m{\u001b[0m\u001b[0;34m\"acc\"\u001b[0m\u001b[0;34m:\u001b[0m \u001b[0;34m\"accuracy\"\u001b[0m\u001b[0;34m,\u001b[0m \u001b[0;34m\"f1\"\u001b[0m\u001b[0;34m:\u001b[0m \u001b[0;34m\"f1\"\u001b[0m\u001b[0;34m}\u001b[0m\u001b[0;34m\u001b[0m\u001b[0;34m\u001b[0m\u001b[0m\n\u001b[1;32m     10\u001b[0m     \u001b[0mgcv_model\u001b[0m \u001b[0;34m=\u001b[0m \u001b[0mGridSearchCV\u001b[0m\u001b[0;34m(\u001b[0m\u001b[0mmodel\u001b[0m\u001b[0;34m,\u001b[0m \u001b[0mparam_grid\u001b[0m\u001b[0;34m=\u001b[0m\u001b[0mmy_hyper_param\u001b[0m\u001b[0;34m,\u001b[0m \u001b[0mscoring\u001b[0m\u001b[0;34m=\u001b[0m\u001b[0mmy_score\u001b[0m\u001b[0;34m,\u001b[0m \u001b[0mrefit\u001b[0m\u001b[0;34m=\u001b[0m\u001b[0;34m\"f1\"\u001b[0m\u001b[0;34m,\u001b[0m \u001b[0mcv\u001b[0m\u001b[0;34m=\u001b[0m\u001b[0;36m5\u001b[0m\u001b[0;34m,\u001b[0m \u001b[0mverbose\u001b[0m\u001b[0;34m=\u001b[0m\u001b[0;36m0\u001b[0m\u001b[0;34m)\u001b[0m\u001b[0;34m\u001b[0m\u001b[0;34m\u001b[0m\u001b[0m\n\u001b[0;32m---> 11\u001b[0;31m     \u001b[0mgcv_model\u001b[0m\u001b[0;34m.\u001b[0m\u001b[0mfit\u001b[0m\u001b[0;34m(\u001b[0m\u001b[0mX_train\u001b[0m\u001b[0;34m,\u001b[0m \u001b[0my_train\u001b[0m\u001b[0;34m)\u001b[0m\u001b[0;34m\u001b[0m\u001b[0;34m\u001b[0m\u001b[0m\n\u001b[0m\u001b[1;32m     12\u001b[0m \u001b[0;34m\u001b[0m\u001b[0m\n\u001b[1;32m     13\u001b[0m     \u001b[0;31m# print(\"best_estimator:\", gcv_model.best_estimator_)\u001b[0m\u001b[0;34m\u001b[0m\u001b[0;34m\u001b[0m\u001b[0;34m\u001b[0m\u001b[0m\n",
            "\u001b[0;32m/usr/local/lib/python3.6/dist-packages/sklearn/model_selection/_search.py\u001b[0m in \u001b[0;36mfit\u001b[0;34m(self, X, y, groups, **fit_params)\u001b[0m\n\u001b[1;32m    708\u001b[0m                 \u001b[0;32mreturn\u001b[0m \u001b[0mresults\u001b[0m\u001b[0;34m\u001b[0m\u001b[0;34m\u001b[0m\u001b[0m\n\u001b[1;32m    709\u001b[0m \u001b[0;34m\u001b[0m\u001b[0m\n\u001b[0;32m--> 710\u001b[0;31m             \u001b[0mself\u001b[0m\u001b[0;34m.\u001b[0m\u001b[0m_run_search\u001b[0m\u001b[0;34m(\u001b[0m\u001b[0mevaluate_candidates\u001b[0m\u001b[0;34m)\u001b[0m\u001b[0;34m\u001b[0m\u001b[0;34m\u001b[0m\u001b[0m\n\u001b[0m\u001b[1;32m    711\u001b[0m \u001b[0;34m\u001b[0m\u001b[0m\n\u001b[1;32m    712\u001b[0m         \u001b[0;31m# For multi-metric evaluation, store the best_index_, best_params_ and\u001b[0m\u001b[0;34m\u001b[0m\u001b[0;34m\u001b[0m\u001b[0;34m\u001b[0m\u001b[0m\n",
            "\u001b[0;32m/usr/local/lib/python3.6/dist-packages/sklearn/model_selection/_search.py\u001b[0m in \u001b[0;36m_run_search\u001b[0;34m(self, evaluate_candidates)\u001b[0m\n\u001b[1;32m   1149\u001b[0m     \u001b[0;32mdef\u001b[0m \u001b[0m_run_search\u001b[0m\u001b[0;34m(\u001b[0m\u001b[0mself\u001b[0m\u001b[0;34m,\u001b[0m \u001b[0mevaluate_candidates\u001b[0m\u001b[0;34m)\u001b[0m\u001b[0;34m:\u001b[0m\u001b[0;34m\u001b[0m\u001b[0;34m\u001b[0m\u001b[0m\n\u001b[1;32m   1150\u001b[0m         \u001b[0;34m\"\"\"Search all candidates in param_grid\"\"\"\u001b[0m\u001b[0;34m\u001b[0m\u001b[0;34m\u001b[0m\u001b[0m\n\u001b[0;32m-> 1151\u001b[0;31m         \u001b[0mevaluate_candidates\u001b[0m\u001b[0;34m(\u001b[0m\u001b[0mParameterGrid\u001b[0m\u001b[0;34m(\u001b[0m\u001b[0mself\u001b[0m\u001b[0;34m.\u001b[0m\u001b[0mparam_grid\u001b[0m\u001b[0;34m)\u001b[0m\u001b[0;34m)\u001b[0m\u001b[0;34m\u001b[0m\u001b[0;34m\u001b[0m\u001b[0m\n\u001b[0m\u001b[1;32m   1152\u001b[0m \u001b[0;34m\u001b[0m\u001b[0m\n\u001b[1;32m   1153\u001b[0m \u001b[0;34m\u001b[0m\u001b[0m\n",
            "\u001b[0;32m/usr/local/lib/python3.6/dist-packages/sklearn/model_selection/_search.py\u001b[0m in \u001b[0;36mevaluate_candidates\u001b[0;34m(candidate_params)\u001b[0m\n\u001b[1;32m    687\u001b[0m                                \u001b[0;32mfor\u001b[0m \u001b[0mparameters\u001b[0m\u001b[0;34m,\u001b[0m \u001b[0;34m(\u001b[0m\u001b[0mtrain\u001b[0m\u001b[0;34m,\u001b[0m \u001b[0mtest\u001b[0m\u001b[0;34m)\u001b[0m\u001b[0;34m\u001b[0m\u001b[0;34m\u001b[0m\u001b[0m\n\u001b[1;32m    688\u001b[0m                                in product(candidate_params,\n\u001b[0;32m--> 689\u001b[0;31m                                           cv.split(X, y, groups)))\n\u001b[0m\u001b[1;32m    690\u001b[0m \u001b[0;34m\u001b[0m\u001b[0m\n\u001b[1;32m    691\u001b[0m                 \u001b[0;32mif\u001b[0m \u001b[0mlen\u001b[0m\u001b[0;34m(\u001b[0m\u001b[0mout\u001b[0m\u001b[0;34m)\u001b[0m \u001b[0;34m<\u001b[0m \u001b[0;36m1\u001b[0m\u001b[0;34m:\u001b[0m\u001b[0;34m\u001b[0m\u001b[0;34m\u001b[0m\u001b[0m\n",
            "\u001b[0;32m/usr/local/lib/python3.6/dist-packages/joblib/parallel.py\u001b[0m in \u001b[0;36m__call__\u001b[0;34m(self, iterable)\u001b[0m\n\u001b[1;32m   1039\u001b[0m             \u001b[0;31m# remaining jobs.\u001b[0m\u001b[0;34m\u001b[0m\u001b[0;34m\u001b[0m\u001b[0;34m\u001b[0m\u001b[0m\n\u001b[1;32m   1040\u001b[0m             \u001b[0mself\u001b[0m\u001b[0;34m.\u001b[0m\u001b[0m_iterating\u001b[0m \u001b[0;34m=\u001b[0m \u001b[0;32mFalse\u001b[0m\u001b[0;34m\u001b[0m\u001b[0;34m\u001b[0m\u001b[0m\n\u001b[0;32m-> 1041\u001b[0;31m             \u001b[0;32mif\u001b[0m \u001b[0mself\u001b[0m\u001b[0;34m.\u001b[0m\u001b[0mdispatch_one_batch\u001b[0m\u001b[0;34m(\u001b[0m\u001b[0miterator\u001b[0m\u001b[0;34m)\u001b[0m\u001b[0;34m:\u001b[0m\u001b[0;34m\u001b[0m\u001b[0;34m\u001b[0m\u001b[0m\n\u001b[0m\u001b[1;32m   1042\u001b[0m                 \u001b[0mself\u001b[0m\u001b[0;34m.\u001b[0m\u001b[0m_iterating\u001b[0m \u001b[0;34m=\u001b[0m \u001b[0mself\u001b[0m\u001b[0;34m.\u001b[0m\u001b[0m_original_iterator\u001b[0m \u001b[0;32mis\u001b[0m \u001b[0;32mnot\u001b[0m \u001b[0;32mNone\u001b[0m\u001b[0;34m\u001b[0m\u001b[0;34m\u001b[0m\u001b[0m\n\u001b[1;32m   1043\u001b[0m \u001b[0;34m\u001b[0m\u001b[0m\n",
            "\u001b[0;32m/usr/local/lib/python3.6/dist-packages/joblib/parallel.py\u001b[0m in \u001b[0;36mdispatch_one_batch\u001b[0;34m(self, iterator)\u001b[0m\n\u001b[1;32m    857\u001b[0m                 \u001b[0;32mreturn\u001b[0m \u001b[0;32mFalse\u001b[0m\u001b[0;34m\u001b[0m\u001b[0;34m\u001b[0m\u001b[0m\n\u001b[1;32m    858\u001b[0m             \u001b[0;32melse\u001b[0m\u001b[0;34m:\u001b[0m\u001b[0;34m\u001b[0m\u001b[0;34m\u001b[0m\u001b[0m\n\u001b[0;32m--> 859\u001b[0;31m                 \u001b[0mself\u001b[0m\u001b[0;34m.\u001b[0m\u001b[0m_dispatch\u001b[0m\u001b[0;34m(\u001b[0m\u001b[0mtasks\u001b[0m\u001b[0;34m)\u001b[0m\u001b[0;34m\u001b[0m\u001b[0;34m\u001b[0m\u001b[0m\n\u001b[0m\u001b[1;32m    860\u001b[0m                 \u001b[0;32mreturn\u001b[0m \u001b[0;32mTrue\u001b[0m\u001b[0;34m\u001b[0m\u001b[0;34m\u001b[0m\u001b[0m\n\u001b[1;32m    861\u001b[0m \u001b[0;34m\u001b[0m\u001b[0m\n",
            "\u001b[0;32m/usr/local/lib/python3.6/dist-packages/joblib/parallel.py\u001b[0m in \u001b[0;36m_dispatch\u001b[0;34m(self, batch)\u001b[0m\n\u001b[1;32m    775\u001b[0m         \u001b[0;32mwith\u001b[0m \u001b[0mself\u001b[0m\u001b[0;34m.\u001b[0m\u001b[0m_lock\u001b[0m\u001b[0;34m:\u001b[0m\u001b[0;34m\u001b[0m\u001b[0;34m\u001b[0m\u001b[0m\n\u001b[1;32m    776\u001b[0m             \u001b[0mjob_idx\u001b[0m \u001b[0;34m=\u001b[0m \u001b[0mlen\u001b[0m\u001b[0;34m(\u001b[0m\u001b[0mself\u001b[0m\u001b[0;34m.\u001b[0m\u001b[0m_jobs\u001b[0m\u001b[0;34m)\u001b[0m\u001b[0;34m\u001b[0m\u001b[0;34m\u001b[0m\u001b[0m\n\u001b[0;32m--> 777\u001b[0;31m             \u001b[0mjob\u001b[0m \u001b[0;34m=\u001b[0m \u001b[0mself\u001b[0m\u001b[0;34m.\u001b[0m\u001b[0m_backend\u001b[0m\u001b[0;34m.\u001b[0m\u001b[0mapply_async\u001b[0m\u001b[0;34m(\u001b[0m\u001b[0mbatch\u001b[0m\u001b[0;34m,\u001b[0m \u001b[0mcallback\u001b[0m\u001b[0;34m=\u001b[0m\u001b[0mcb\u001b[0m\u001b[0;34m)\u001b[0m\u001b[0;34m\u001b[0m\u001b[0;34m\u001b[0m\u001b[0m\n\u001b[0m\u001b[1;32m    778\u001b[0m             \u001b[0;31m# A job can complete so quickly than its callback is\u001b[0m\u001b[0;34m\u001b[0m\u001b[0;34m\u001b[0m\u001b[0;34m\u001b[0m\u001b[0m\n\u001b[1;32m    779\u001b[0m             \u001b[0;31m# called before we get here, causing self._jobs to\u001b[0m\u001b[0;34m\u001b[0m\u001b[0;34m\u001b[0m\u001b[0;34m\u001b[0m\u001b[0m\n",
            "\u001b[0;32m/usr/local/lib/python3.6/dist-packages/joblib/_parallel_backends.py\u001b[0m in \u001b[0;36mapply_async\u001b[0;34m(self, func, callback)\u001b[0m\n\u001b[1;32m    206\u001b[0m     \u001b[0;32mdef\u001b[0m \u001b[0mapply_async\u001b[0m\u001b[0;34m(\u001b[0m\u001b[0mself\u001b[0m\u001b[0;34m,\u001b[0m \u001b[0mfunc\u001b[0m\u001b[0;34m,\u001b[0m \u001b[0mcallback\u001b[0m\u001b[0;34m=\u001b[0m\u001b[0;32mNone\u001b[0m\u001b[0;34m)\u001b[0m\u001b[0;34m:\u001b[0m\u001b[0;34m\u001b[0m\u001b[0;34m\u001b[0m\u001b[0m\n\u001b[1;32m    207\u001b[0m         \u001b[0;34m\"\"\"Schedule a func to be run\"\"\"\u001b[0m\u001b[0;34m\u001b[0m\u001b[0;34m\u001b[0m\u001b[0m\n\u001b[0;32m--> 208\u001b[0;31m         \u001b[0mresult\u001b[0m \u001b[0;34m=\u001b[0m \u001b[0mImmediateResult\u001b[0m\u001b[0;34m(\u001b[0m\u001b[0mfunc\u001b[0m\u001b[0;34m)\u001b[0m\u001b[0;34m\u001b[0m\u001b[0;34m\u001b[0m\u001b[0m\n\u001b[0m\u001b[1;32m    209\u001b[0m         \u001b[0;32mif\u001b[0m \u001b[0mcallback\u001b[0m\u001b[0;34m:\u001b[0m\u001b[0;34m\u001b[0m\u001b[0;34m\u001b[0m\u001b[0m\n\u001b[1;32m    210\u001b[0m             \u001b[0mcallback\u001b[0m\u001b[0;34m(\u001b[0m\u001b[0mresult\u001b[0m\u001b[0;34m)\u001b[0m\u001b[0;34m\u001b[0m\u001b[0;34m\u001b[0m\u001b[0m\n",
            "\u001b[0;32m/usr/local/lib/python3.6/dist-packages/joblib/_parallel_backends.py\u001b[0m in \u001b[0;36m__init__\u001b[0;34m(self, batch)\u001b[0m\n\u001b[1;32m    570\u001b[0m         \u001b[0;31m# Don't delay the application, to avoid keeping the input\u001b[0m\u001b[0;34m\u001b[0m\u001b[0;34m\u001b[0m\u001b[0;34m\u001b[0m\u001b[0m\n\u001b[1;32m    571\u001b[0m         \u001b[0;31m# arguments in memory\u001b[0m\u001b[0;34m\u001b[0m\u001b[0;34m\u001b[0m\u001b[0;34m\u001b[0m\u001b[0m\n\u001b[0;32m--> 572\u001b[0;31m         \u001b[0mself\u001b[0m\u001b[0;34m.\u001b[0m\u001b[0mresults\u001b[0m \u001b[0;34m=\u001b[0m \u001b[0mbatch\u001b[0m\u001b[0;34m(\u001b[0m\u001b[0;34m)\u001b[0m\u001b[0;34m\u001b[0m\u001b[0;34m\u001b[0m\u001b[0m\n\u001b[0m\u001b[1;32m    573\u001b[0m \u001b[0;34m\u001b[0m\u001b[0m\n\u001b[1;32m    574\u001b[0m     \u001b[0;32mdef\u001b[0m \u001b[0mget\u001b[0m\u001b[0;34m(\u001b[0m\u001b[0mself\u001b[0m\u001b[0;34m)\u001b[0m\u001b[0;34m:\u001b[0m\u001b[0;34m\u001b[0m\u001b[0;34m\u001b[0m\u001b[0m\n",
            "\u001b[0;32m/usr/local/lib/python3.6/dist-packages/joblib/parallel.py\u001b[0m in \u001b[0;36m__call__\u001b[0;34m(self)\u001b[0m\n\u001b[1;32m    261\u001b[0m         \u001b[0;32mwith\u001b[0m \u001b[0mparallel_backend\u001b[0m\u001b[0;34m(\u001b[0m\u001b[0mself\u001b[0m\u001b[0;34m.\u001b[0m\u001b[0m_backend\u001b[0m\u001b[0;34m,\u001b[0m \u001b[0mn_jobs\u001b[0m\u001b[0;34m=\u001b[0m\u001b[0mself\u001b[0m\u001b[0;34m.\u001b[0m\u001b[0m_n_jobs\u001b[0m\u001b[0;34m)\u001b[0m\u001b[0;34m:\u001b[0m\u001b[0;34m\u001b[0m\u001b[0;34m\u001b[0m\u001b[0m\n\u001b[1;32m    262\u001b[0m             return [func(*args, **kwargs)\n\u001b[0;32m--> 263\u001b[0;31m                     for func, args, kwargs in self.items]\n\u001b[0m\u001b[1;32m    264\u001b[0m \u001b[0;34m\u001b[0m\u001b[0m\n\u001b[1;32m    265\u001b[0m     \u001b[0;32mdef\u001b[0m \u001b[0m__reduce__\u001b[0m\u001b[0;34m(\u001b[0m\u001b[0mself\u001b[0m\u001b[0;34m)\u001b[0m\u001b[0;34m:\u001b[0m\u001b[0;34m\u001b[0m\u001b[0;34m\u001b[0m\u001b[0m\n",
            "\u001b[0;32m/usr/local/lib/python3.6/dist-packages/joblib/parallel.py\u001b[0m in \u001b[0;36m<listcomp>\u001b[0;34m(.0)\u001b[0m\n\u001b[1;32m    261\u001b[0m         \u001b[0;32mwith\u001b[0m \u001b[0mparallel_backend\u001b[0m\u001b[0;34m(\u001b[0m\u001b[0mself\u001b[0m\u001b[0;34m.\u001b[0m\u001b[0m_backend\u001b[0m\u001b[0;34m,\u001b[0m \u001b[0mn_jobs\u001b[0m\u001b[0;34m=\u001b[0m\u001b[0mself\u001b[0m\u001b[0;34m.\u001b[0m\u001b[0m_n_jobs\u001b[0m\u001b[0;34m)\u001b[0m\u001b[0;34m:\u001b[0m\u001b[0;34m\u001b[0m\u001b[0;34m\u001b[0m\u001b[0m\n\u001b[1;32m    262\u001b[0m             return [func(*args, **kwargs)\n\u001b[0;32m--> 263\u001b[0;31m                     for func, args, kwargs in self.items]\n\u001b[0m\u001b[1;32m    264\u001b[0m \u001b[0;34m\u001b[0m\u001b[0m\n\u001b[1;32m    265\u001b[0m     \u001b[0;32mdef\u001b[0m \u001b[0m__reduce__\u001b[0m\u001b[0;34m(\u001b[0m\u001b[0mself\u001b[0m\u001b[0;34m)\u001b[0m\u001b[0;34m:\u001b[0m\u001b[0;34m\u001b[0m\u001b[0;34m\u001b[0m\u001b[0m\n",
            "\u001b[0;32m/usr/local/lib/python3.6/dist-packages/sklearn/model_selection/_validation.py\u001b[0m in \u001b[0;36m_fit_and_score\u001b[0;34m(estimator, X, y, scorer, train, test, verbose, parameters, fit_params, return_train_score, return_parameters, return_n_test_samples, return_times, return_estimator, error_score)\u001b[0m\n\u001b[1;32m    542\u001b[0m     \u001b[0;32melse\u001b[0m\u001b[0;34m:\u001b[0m\u001b[0;34m\u001b[0m\u001b[0;34m\u001b[0m\u001b[0m\n\u001b[1;32m    543\u001b[0m         \u001b[0mfit_time\u001b[0m \u001b[0;34m=\u001b[0m \u001b[0mtime\u001b[0m\u001b[0;34m.\u001b[0m\u001b[0mtime\u001b[0m\u001b[0;34m(\u001b[0m\u001b[0;34m)\u001b[0m \u001b[0;34m-\u001b[0m \u001b[0mstart_time\u001b[0m\u001b[0;34m\u001b[0m\u001b[0;34m\u001b[0m\u001b[0m\n\u001b[0;32m--> 544\u001b[0;31m         \u001b[0mtest_scores\u001b[0m \u001b[0;34m=\u001b[0m \u001b[0m_score\u001b[0m\u001b[0;34m(\u001b[0m\u001b[0mestimator\u001b[0m\u001b[0;34m,\u001b[0m \u001b[0mX_test\u001b[0m\u001b[0;34m,\u001b[0m \u001b[0my_test\u001b[0m\u001b[0;34m,\u001b[0m \u001b[0mscorer\u001b[0m\u001b[0;34m)\u001b[0m\u001b[0;34m\u001b[0m\u001b[0;34m\u001b[0m\u001b[0m\n\u001b[0m\u001b[1;32m    545\u001b[0m         \u001b[0mscore_time\u001b[0m \u001b[0;34m=\u001b[0m \u001b[0mtime\u001b[0m\u001b[0;34m.\u001b[0m\u001b[0mtime\u001b[0m\u001b[0;34m(\u001b[0m\u001b[0;34m)\u001b[0m \u001b[0;34m-\u001b[0m \u001b[0mstart_time\u001b[0m \u001b[0;34m-\u001b[0m \u001b[0mfit_time\u001b[0m\u001b[0;34m\u001b[0m\u001b[0;34m\u001b[0m\u001b[0m\n\u001b[1;32m    546\u001b[0m         \u001b[0;32mif\u001b[0m \u001b[0mreturn_train_score\u001b[0m\u001b[0;34m:\u001b[0m\u001b[0;34m\u001b[0m\u001b[0;34m\u001b[0m\u001b[0m\n",
            "\u001b[0;32m/usr/local/lib/python3.6/dist-packages/sklearn/model_selection/_validation.py\u001b[0m in \u001b[0;36m_score\u001b[0;34m(estimator, X_test, y_test, scorer)\u001b[0m\n\u001b[1;32m    589\u001b[0m         \u001b[0mscores\u001b[0m \u001b[0;34m=\u001b[0m \u001b[0mscorer\u001b[0m\u001b[0;34m(\u001b[0m\u001b[0mestimator\u001b[0m\u001b[0;34m,\u001b[0m \u001b[0mX_test\u001b[0m\u001b[0;34m)\u001b[0m\u001b[0;34m\u001b[0m\u001b[0;34m\u001b[0m\u001b[0m\n\u001b[1;32m    590\u001b[0m     \u001b[0;32melse\u001b[0m\u001b[0;34m:\u001b[0m\u001b[0;34m\u001b[0m\u001b[0;34m\u001b[0m\u001b[0m\n\u001b[0;32m--> 591\u001b[0;31m         \u001b[0mscores\u001b[0m \u001b[0;34m=\u001b[0m \u001b[0mscorer\u001b[0m\u001b[0;34m(\u001b[0m\u001b[0mestimator\u001b[0m\u001b[0;34m,\u001b[0m \u001b[0mX_test\u001b[0m\u001b[0;34m,\u001b[0m \u001b[0my_test\u001b[0m\u001b[0;34m)\u001b[0m\u001b[0;34m\u001b[0m\u001b[0;34m\u001b[0m\u001b[0m\n\u001b[0m\u001b[1;32m    592\u001b[0m \u001b[0;34m\u001b[0m\u001b[0m\n\u001b[1;32m    593\u001b[0m     error_msg = (\"scoring must return a number, got %s (%s) \"\n",
            "\u001b[0;32m/usr/local/lib/python3.6/dist-packages/sklearn/metrics/_scorer.py\u001b[0m in \u001b[0;36m__call__\u001b[0;34m(self, estimator, *args, **kwargs)\u001b[0m\n\u001b[1;32m     85\u001b[0m             \u001b[0;32mif\u001b[0m \u001b[0misinstance\u001b[0m\u001b[0;34m(\u001b[0m\u001b[0mscorer\u001b[0m\u001b[0;34m,\u001b[0m \u001b[0m_BaseScorer\u001b[0m\u001b[0;34m)\u001b[0m\u001b[0;34m:\u001b[0m\u001b[0;34m\u001b[0m\u001b[0;34m\u001b[0m\u001b[0m\n\u001b[1;32m     86\u001b[0m                 score = scorer._score(cached_call, estimator,\n\u001b[0;32m---> 87\u001b[0;31m                                       *args, **kwargs)\n\u001b[0m\u001b[1;32m     88\u001b[0m             \u001b[0;32melse\u001b[0m\u001b[0;34m:\u001b[0m\u001b[0;34m\u001b[0m\u001b[0;34m\u001b[0m\u001b[0m\n\u001b[1;32m     89\u001b[0m                 \u001b[0mscore\u001b[0m \u001b[0;34m=\u001b[0m \u001b[0mscorer\u001b[0m\u001b[0;34m(\u001b[0m\u001b[0mestimator\u001b[0m\u001b[0;34m,\u001b[0m \u001b[0;34m*\u001b[0m\u001b[0margs\u001b[0m\u001b[0;34m,\u001b[0m \u001b[0;34m**\u001b[0m\u001b[0mkwargs\u001b[0m\u001b[0;34m)\u001b[0m\u001b[0;34m\u001b[0m\u001b[0;34m\u001b[0m\u001b[0m\n",
            "\u001b[0;32m/usr/local/lib/python3.6/dist-packages/sklearn/metrics/_scorer.py\u001b[0m in \u001b[0;36m_score\u001b[0;34m(self, method_caller, estimator, X, y_true, sample_weight)\u001b[0m\n\u001b[1;32m    210\u001b[0m         \u001b[0;32melse\u001b[0m\u001b[0;34m:\u001b[0m\u001b[0;34m\u001b[0m\u001b[0;34m\u001b[0m\u001b[0m\n\u001b[1;32m    211\u001b[0m             return self._sign * self._score_func(y_true, y_pred,\n\u001b[0;32m--> 212\u001b[0;31m                                                  **self._kwargs)\n\u001b[0m\u001b[1;32m    213\u001b[0m \u001b[0;34m\u001b[0m\u001b[0m\n\u001b[1;32m    214\u001b[0m \u001b[0;34m\u001b[0m\u001b[0m\n",
            "\u001b[0;32m/usr/local/lib/python3.6/dist-packages/sklearn/metrics/_classification.py\u001b[0m in \u001b[0;36mf1_score\u001b[0;34m(y_true, y_pred, labels, pos_label, average, sample_weight, zero_division)\u001b[0m\n\u001b[1;32m   1097\u001b[0m                        \u001b[0mpos_label\u001b[0m\u001b[0;34m=\u001b[0m\u001b[0mpos_label\u001b[0m\u001b[0;34m,\u001b[0m \u001b[0maverage\u001b[0m\u001b[0;34m=\u001b[0m\u001b[0maverage\u001b[0m\u001b[0;34m,\u001b[0m\u001b[0;34m\u001b[0m\u001b[0;34m\u001b[0m\u001b[0m\n\u001b[1;32m   1098\u001b[0m                        \u001b[0msample_weight\u001b[0m\u001b[0;34m=\u001b[0m\u001b[0msample_weight\u001b[0m\u001b[0;34m,\u001b[0m\u001b[0;34m\u001b[0m\u001b[0;34m\u001b[0m\u001b[0m\n\u001b[0;32m-> 1099\u001b[0;31m                        zero_division=zero_division)\n\u001b[0m\u001b[1;32m   1100\u001b[0m \u001b[0;34m\u001b[0m\u001b[0m\n\u001b[1;32m   1101\u001b[0m \u001b[0;34m\u001b[0m\u001b[0m\n",
            "\u001b[0;32m/usr/local/lib/python3.6/dist-packages/sklearn/metrics/_classification.py\u001b[0m in \u001b[0;36mfbeta_score\u001b[0;34m(y_true, y_pred, beta, labels, pos_label, average, sample_weight, zero_division)\u001b[0m\n\u001b[1;32m   1224\u001b[0m                                                  \u001b[0mwarn_for\u001b[0m\u001b[0;34m=\u001b[0m\u001b[0;34m(\u001b[0m\u001b[0;34m'f-score'\u001b[0m\u001b[0;34m,\u001b[0m\u001b[0;34m)\u001b[0m\u001b[0;34m,\u001b[0m\u001b[0;34m\u001b[0m\u001b[0;34m\u001b[0m\u001b[0m\n\u001b[1;32m   1225\u001b[0m                                                  \u001b[0msample_weight\u001b[0m\u001b[0;34m=\u001b[0m\u001b[0msample_weight\u001b[0m\u001b[0;34m,\u001b[0m\u001b[0;34m\u001b[0m\u001b[0;34m\u001b[0m\u001b[0m\n\u001b[0;32m-> 1226\u001b[0;31m                                                  zero_division=zero_division)\n\u001b[0m\u001b[1;32m   1227\u001b[0m     \u001b[0;32mreturn\u001b[0m \u001b[0mf\u001b[0m\u001b[0;34m\u001b[0m\u001b[0;34m\u001b[0m\u001b[0m\n\u001b[1;32m   1228\u001b[0m \u001b[0;34m\u001b[0m\u001b[0m\n",
            "\u001b[0;32m/usr/local/lib/python3.6/dist-packages/sklearn/metrics/_classification.py\u001b[0m in \u001b[0;36mprecision_recall_fscore_support\u001b[0;34m(y_true, y_pred, beta, labels, pos_label, average, warn_for, sample_weight, zero_division)\u001b[0m\n\u001b[1;32m   1482\u001b[0m         \u001b[0;32mraise\u001b[0m \u001b[0mValueError\u001b[0m\u001b[0;34m(\u001b[0m\u001b[0;34m\"beta should be >=0 in the F-beta score\"\u001b[0m\u001b[0;34m)\u001b[0m\u001b[0;34m\u001b[0m\u001b[0;34m\u001b[0m\u001b[0m\n\u001b[1;32m   1483\u001b[0m     labels = _check_set_wise_labels(y_true, y_pred, average, labels,\n\u001b[0;32m-> 1484\u001b[0;31m                                     pos_label)\n\u001b[0m\u001b[1;32m   1485\u001b[0m \u001b[0;34m\u001b[0m\u001b[0m\n\u001b[1;32m   1486\u001b[0m     \u001b[0;31m# Calculate tp_sum, pred_sum, true_sum ###\u001b[0m\u001b[0;34m\u001b[0m\u001b[0;34m\u001b[0m\u001b[0;34m\u001b[0m\u001b[0m\n",
            "\u001b[0;32m/usr/local/lib/python3.6/dist-packages/sklearn/metrics/_classification.py\u001b[0m in \u001b[0;36m_check_set_wise_labels\u001b[0;34m(y_true, y_pred, average, labels, pos_label)\u001b[0m\n\u001b[1;32m   1314\u001b[0m             raise ValueError(\"Target is %s but average='binary'. Please \"\n\u001b[1;32m   1315\u001b[0m                              \u001b[0;34m\"choose another average setting, one of %r.\"\u001b[0m\u001b[0;34m\u001b[0m\u001b[0;34m\u001b[0m\u001b[0m\n\u001b[0;32m-> 1316\u001b[0;31m                              % (y_type, average_options))\n\u001b[0m\u001b[1;32m   1317\u001b[0m     \u001b[0;32melif\u001b[0m \u001b[0mpos_label\u001b[0m \u001b[0;32mnot\u001b[0m \u001b[0;32min\u001b[0m \u001b[0;34m(\u001b[0m\u001b[0;32mNone\u001b[0m\u001b[0;34m,\u001b[0m \u001b[0;36m1\u001b[0m\u001b[0;34m)\u001b[0m\u001b[0;34m:\u001b[0m\u001b[0;34m\u001b[0m\u001b[0;34m\u001b[0m\u001b[0m\n\u001b[1;32m   1318\u001b[0m         warnings.warn(\"Note that pos_label (set to %r) is ignored when \"\n",
            "\u001b[0;31mValueError\u001b[0m: Target is multiclass but average='binary'. Please choose another average setting, one of [None, 'micro', 'macro', 'weighted']."
          ]
        }
      ]
    },
    {
      "cell_type": "code",
      "metadata": {
        "id": "s9eUa_YwDvbi"
      },
      "source": [
        ""
      ],
      "execution_count": null,
      "outputs": []
    },
    {
      "cell_type": "code",
      "metadata": {
        "id": "xzi3Z5CKhBf3"
      },
      "source": [
        ""
      ],
      "execution_count": null,
      "outputs": []
    },
    {
      "cell_type": "code",
      "metadata": {
        "id": "OmKIzuObhBin"
      },
      "source": [
        ""
      ],
      "execution_count": null,
      "outputs": []
    },
    {
      "cell_type": "code",
      "metadata": {
        "id": "jesNfWeDhBlB"
      },
      "source": [
        ""
      ],
      "execution_count": null,
      "outputs": []
    },
    {
      "cell_type": "code",
      "metadata": {
        "id": "5KgBV5S0hZrG"
      },
      "source": [
        ""
      ],
      "execution_count": null,
      "outputs": []
    }
  ]
}