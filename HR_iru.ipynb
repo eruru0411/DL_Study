{
  "nbformat": 4,
  "nbformat_minor": 0,
  "metadata": {
    "colab": {
      "name": "HR_iru",
      "provenance": [],
      "collapsed_sections": [],
      "include_colab_link": true
    },
    "kernelspec": {
      "name": "python3",
      "display_name": "Python 3"
    }
  },
  "cells": [
    {
      "cell_type": "markdown",
      "metadata": {
        "id": "view-in-github",
        "colab_type": "text"
      },
      "source": [
        "<a href=\"https://colab.research.google.com/github/eruru0411/git-test/blob/master/HR_iru.ipynb\" target=\"_parent\"><img src=\"https://colab.research.google.com/assets/colab-badge.svg\" alt=\"Open In Colab\"/></a>"
      ]
    },
    {
      "cell_type": "code",
      "metadata": {
        "id": "pnNS7w5ndGtU"
      },
      "source": [
        "import pandas  as pd\r\n",
        "import numpy   as np\r\n",
        "import seaborn as sns\r\n",
        "import matplotlib.pyplot as plt\r\n",
        "\r\n",
        "from scipy            import stats\r\n",
        "from sklearn.ensemble import RandomForestClassifier, RandomForestRegressor\r\n",
        "from sklearn.metrics  import confusion_matrix, accuracy_score, f1_score, roc_auc_score,\\\r\n",
        "                             precision_score,recall_score, roc_curve, classification_report,precision_recall_curve\r\n",
        "from sklearn                 import preprocessing\r\n",
        "from sklearn.preprocessing   import StandardScaler,RobustScaler,MinMaxScaler, Binarizer, OneHotEncoder, LabelEncoder\r\n",
        "from sklearn.model_selection import train_test_split, cross_val_score, cross_validate, GridSearchCV, KFold\r\n",
        "import warnings\r\n",
        "warnings.filterwarnings(action=\"ignore\")\r\n",
        "barline = \"\\n============================================\"\r\n",
        "e = \"\\n\""
      ],
      "execution_count": null,
      "outputs": []
    },
    {
      "cell_type": "code",
      "metadata": {
        "id": "eSd9q75o0Inc"
      },
      "source": [
        "# 1. EDA  : 데이터 사전 탐색\r\n",
        "#    0) Dataframe 살펴보기\r\n",
        "#    1) 차트그리기\r\n",
        "# 2. 결측치/이상치 --> 처리\r\n",
        "# 3. 피쳐 전처리/가공\r\n",
        "# 4. 학습/평가 : f1, auc\r\n",
        "# 5. 검증(GridSearchCV, confusion_matrix)\r\n",
        "\r\n",
        "import pandas  as pd\r\n",
        "import numpy   as np\r\n",
        "import seaborn as sns\r\n",
        "import matplotlib.pyplot as plt\r\n",
        "\r\n",
        "from scipy            import stats\r\n",
        "from sklearn.ensemble import RandomForestClassifier\r\n",
        "from sklearn.metrics  import confusion_matrix, accuracy_score, f1_score, roc_auc_score,\\\r\n",
        "                             precision_score,recall_score, roc_curve, classification_report,precision_recall_curve\r\n",
        "from sklearn                 import preprocessing\r\n",
        "from sklearn.preprocessing   import StandardScaler,RobustScaler,MinMaxScaler, Binarizer, OneHotEncoder, LabelEncoder\r\n",
        "from sklearn.model_selection import train_test_split, cross_val_score, cross_validate, GridSearchCV, KFold\r\n",
        "import warnings\r\n",
        "warnings.filterwarnings(action=\"ignore\")\r\n",
        "barline = \"\\n============================================\"\r\n",
        "e = \"\\n\"\r\n",
        "\r\n",
        "# Dataframe 확인 ---------------------------------------\r\n",
        "def MyCheckDataframe(df, target=\"target\") :\r\n",
        "    print(\"Check Dataframe ----------------------------\")\r\n",
        "    print(\"Shape :\", e, df.shape)\r\n",
        "    print(\"Info  :\", e, df.info())\r\n",
        "    print(\"Head  :\", e, df.head())\r\n",
        "    print(\"Count :\", e, df[target].value_counts())\r\n",
        "\r\n",
        "    y = df[target]\r\n",
        "    X = df.drop(target, axis=1)\r\n",
        "    print(\"Target Shape :\", e, X.shape, y.shape, barline)\r\n",
        "    return X, y\r\n",
        "# X,y = CHECK_DATAFRAME(df, target=\"\")\r\n",
        "\r\n",
        "\r\n",
        "# -------------------------------------\r\n",
        "# 4-2. IQR : 25%~75% 범위 값\r\n",
        "# -------------------------------------\r\n",
        "def MyCheckOutlier(df=None, column=None, print=None):\r\n",
        "    # target 값과 상관관계가 높은 열을 우선적으로 진행\r\n",
        "    for k, v in df.items():\r\n",
        "        Q1 = v.quantile(0.25)\r\n",
        "        Q3 = v.quantile(0.75)\r\n",
        "        IQR = Q3 - Q1\r\n",
        "        IQR_weight = IQR * 1.5\r\n",
        "        minimum = Q1 - IQR_weight\r\n",
        "        maximum = Q3 + IQR_weight\r\n",
        "        outlier_idx = v[(v < minimum) | (v> maximum)].index\r\n",
        "\r\n",
        "        if print == True:\r\n",
        "            perc = np.shape(outlier_idx)[0] * 100.0 / np.shape(df)[0]\r\n",
        "            print(\"Column %s outliers = %.2f%%\" % (k, perc))\r\n",
        "\r\n",
        "    print(barline)\r\n",
        "    return outlier_idx\r\n",
        "    # Q1  = np.percentile(df[column].values, 25)\r\n",
        "    # Q3  = np.percentile(df[column].values, 75)\r\n",
        "    # IQR = Q3 - Q1\r\n",
        "    # IQR_weight  = IQR * 1.5\r\n",
        "    # minimum     = Q1 - IQR_weight\r\n",
        "    # maximum     = Q3 + IQR_weight\r\n",
        "    # outlier_idx = df[column][  (df[column] < minimum) | (df[column] > maximum)  ].index\r\n",
        "\r\n",
        "# outlier_idx = CHECK_OUTLIER(df=df, column=col)\r\n",
        "# print(col, oulier_idx)\r\n",
        "# df.drop(outlier_idx, axis=0, inplace=True)\r\n",
        "    #---------------------------------------------\r\n",
        "    # numeric_columns = df.dtypes[df.dtypes != 'object'].index\r\n",
        "    # for i, col in enumerate(numeric_columns) :\r\n",
        "    #     oulier_idx = CHECK_OUTLIER(df=df, column=col)\r\n",
        "    #     print(col , oulier_idx)\r\n",
        "    #     #df.drop(outlier_idx, axis=0, inplace=True)\r\n",
        "\r\n",
        "\r\n",
        "def MyCheckZeros(X):\r\n",
        "    print(\"Check Zeros --------------------------------\")\r\n",
        "    for col in X.columns:\r\n",
        "        gcnt = X[col][X[col] == 0].count()\r\n",
        "        print(col, \":\", gcnt, \"(\", np.round(gcnt / X.shape[0] * 100, 2), \")\")\r\n",
        "    print(barline)\r\n",
        "\r\n",
        "def MyCheckNull(X):\r\n",
        "    print(\"Check Null ---------------------------------\")\r\n",
        "    # print(df.isnull().sum())\r\n",
        "    for col in X.columns:\r\n",
        "        gcnt = X[col][X[col] == np.nan].count()\r\n",
        "        print(col, \":\", gcnt, \"(\", np.round(gcnt / X.shape[0] * 100, 2), \")\")\r\n",
        "    print(barline)\r\n",
        "\r\n",
        "def MyScores(y_test, pred, proba, str=None) :\r\n",
        "    print(\"Scores : {} ---------\" .format(str))\r\n",
        "    acc       = accuracy_score(y_test, pred)\r\n",
        "    f1        = f1_score(y_test, pred)\r\n",
        "    precision = precision_score(y_test, pred)\r\n",
        "    recall    = recall_score(y_test, pred)\r\n",
        "    auc       = roc_auc_score(y_test, proba[:, 1].reshape(-1, 1))\r\n",
        "    print(\"정확도{:.4f}  F1 {:.4f}=(정밀도{:.4f} 재현률{:.4f}) auc {:.4f}\" .format(acc, f1, precision, recall, auc))\r\n",
        "    cf_matrix = confusion_matrix(y_test, pred)\r\n",
        "    print(\"Confusion Matrix\", e, cf_matrix, barline)\r\n",
        "\r\n",
        "\r\n",
        "def MySplitFitPredict(model, X, y, str=None, rate=0.2, prc=False, roc=False) :\r\n",
        "    X_train ,X_test , y_train, y_test = train_test_split(X, y, test_size=rate, random_state=121)\r\n",
        "    model.fit(X_train, y_train)\r\n",
        "    pred  = model.predict(X_test)\r\n",
        "    proba = model.predict_proba(X_test)\r\n",
        "\r\n",
        "    MyScores(y_test, pred, proba, str)\r\n",
        "\r\n",
        "    if prc == True:\r\n",
        "        MyChartPrcRclCurve(y_test, proba)\r\n",
        "    if roc == True:\r\n",
        "        MyChartRocCurve(y_test, proba)\r\n",
        "    return X_train, X_test, y_train, y_test, pred, proba\r\n",
        "# rf_model = RandomForestClassifier()\r\n",
        "# SPLIT_FIT_PREDICT(rf_model, X, y, str=\"최초점수\", 0.5)\r\n",
        "# SPLIT_FIT_PREDICT(rf_model, X, y)\r\n",
        "\r\n",
        "\r\n",
        "def MyChartHeatmap(df, targetClass=None, topn=0):\r\n",
        "    plt.figure(figsize=(10,6))\r\n",
        "    if   topn > 0 :\r\n",
        "        idx = df.corr().nlargest(topn, targetClass).index\r\n",
        "        print(\"Correlation: Top\", topn, e, idx, barline)\r\n",
        "        sns.heatmap(df[idx].corr(), annot=True, fmt=\".2g\", cmap=\"Blues\")\r\n",
        "    elif topn < 0 :\r\n",
        "        idx = df.corr().nsmallest(-1 * topn, targetClass).index\r\n",
        "        print(\"Correlation: Bottom\", -topn, e, idx, barline)\r\n",
        "        sns.heatmap(df[idx].corr(), annot=True, fmt=\".2g\", cmap=\"Blues\")\r\n",
        "        # cols = ['V12', 'V14', 'V10', 'V17', 'V3','Class']\r\n",
        "        # sns.heatmap(df[cols].corr(), annot=True, fmt=\".2g\", cmap=\"Blues\")\r\n",
        "    else :\r\n",
        "        sns.heatmap(df.corr(), annot=True, fmt=\".2g\", cmap=\"Blues\")\r\n",
        "    plt.show()\r\n",
        "# CHART_HEATMAP(df, 5)\r\n",
        "# CHART_HEATMAP(df, -5)\r\n",
        "# CHART_HEATMAP(df)\r\n",
        "\r\n",
        "def MyCrossValidate(model, X, y, cv=5) :\r\n",
        "    print(\"Cross Validation ---------------------------\")\r\n",
        "    my_score   = {\"acc\":\"accuracy\", \"f1\":\"f1\"}\r\n",
        "    score_list = cross_validate(model, X, y, scoring=my_score, cv=5, verbose=0)\r\n",
        "    score_df   = pd.DataFrame(score_list)\r\n",
        "    print(\"cross_validation 평균 정확도 : \" , score_df[\"test_acc\"].mean())\r\n",
        "    print(\"cross_validation 평균 f1    : \"    , score_df[\"test_f1\"].mean())\r\n",
        "    print(barline)\r\n",
        "# CROSS_VALIDATION(model, X, y)\r\n",
        "\r\n",
        "def MyGridSearchCV(my_hyper_param, model, X, y) :\r\n",
        "    print(\"GridSerchCV --------------------------------\")\r\n",
        "    X_train, X_test, y_train, y_test = train_test_split(X, y, test_size=0.2, random_state=121)\r\n",
        "    my_score  = {\"acc\": \"accuracy\", \"f1\": \"f1\"}\r\n",
        "    gcv_model = GridSearchCV(model, param_grid=my_hyper_param, scoring=my_score, refit=\"f1\", cv=5, verbose=0)\r\n",
        "    gcv_model.fit(X_train, y_train)\r\n",
        "\r\n",
        "    # print(\"best_estimator:\", gcv_model.best_estimator_)\r\n",
        "    print(\"best_params :\", gcv_model.best_params_)\r\n",
        "    print(\"best_score  :\", gcv_model.best_score_)\r\n",
        "    print(\"GridSearchCV 평균 정확도 : \", gcv_model.cv_results_[\"mean_test_acc\"].mean())  #mean_test_(본인의score키값)\r\n",
        "    print(\"GridSearchCV 평균 F1    : \", gcv_model.cv_results_[\"mean_test_f1\"].mean())\r\n",
        "    print(barline)\r\n",
        "# my_hyper_param = {  \"n_estimators\"     :[100]}\r\n",
        "# GRIDSEARCHCV(my_hyper_param, model, X_train, y_train)\r\n",
        "\r\n",
        "\r\n",
        "def MyGroupFillNa(bycol, cols, tcol):\r\n",
        "    dict = df.groupby(by=[bycol])[cols].mean().astype(np.int32).to_dict()\r\n",
        "    fill_mean_func = lambda gname: gname.fillna(dict[bycol][gname[tcol]])\r\n",
        "    df   = df.groupby(bycol).apply(fill_mean_func)\r\n",
        "    return df\r\n",
        "# df[\"Name2\"] = df[\"Name\"].str.extract(\"([A-Za-z]+)\\.\")\r\n",
        "# dict = df.groupby(by=[\"Name2\"])[[\"Name2\",\"Age\"]].mean().astype(np.int32).to_dict()\r\n",
        "# fill_mean_func = lambda gname: gname.fillna(dict['Age'][gname.name])\r\n",
        "# df = df.groupby('Name2').apply(fill_mean_func)\r\n",
        "# df = GROUP_FILLNA_MEAN(\"Name2\",[\"Name2\",\"Age\"],\"name\"\r\n",
        "\r\n",
        "def MyReplace(target_df, a, b) :\r\n",
        "    target_df = target_df.replace(a, b)\r\n",
        "    return target_df\r\n",
        "#DF_REPLACE(X[[\"Insulin\", \"BMI\"]], 0, X[[\"Insulin\", \"BMI\"]].median())\r\n",
        "#X[\"BMI\"] = DF_REPLACE(X[\"BMI\"], 0, 99)\r\n",
        "\r\n",
        "# def MyScaler(scaler_model):\r\n",
        "#     scaler   = scaler_model\r\n",
        "#     X_scaler = scaler.fit_transform(X)\r\n",
        "#     return X_scaler\r\n",
        "# # X_scaler = SCALER(StandardScaler())\r\n",
        "def MyScaler(X):\r\n",
        "    scaler   = StandardScaler()\r\n",
        "    X_scaler = scaler.fit_transform(X)\r\n",
        "    return X_scaler\r\n",
        "# X_scaler = SCALER(StandardScaler())\r\n",
        "\r\n",
        "def MyChartPrcRclCurve(y_test, proba):\r\n",
        "    precision, recall, th = precision_recall_curve(y_test, proba[:, 1])\r\n",
        "    print(len(precision), len(recall), len(th), barline)\r\n",
        "    plt.plot(th, precision[:len(th)], label=\"precision\")\r\n",
        "    plt.plot(th, recall[:len(th)],    label=\"recall\")\r\n",
        "    plt.xlabel(\"threadshold\"); plt.ylabel(\"precision & recall value\")\r\n",
        "    plt.legend()  # plt.legend([\"precision\",\"recall\"])\r\n",
        "    plt.grid()\r\n",
        "    plt.show()\r\n",
        "\r\n",
        "def MyChartRocCurve(y_test, proba):\r\n",
        "    fpr, tpr, th = roc_curve(y_test, proba[:, 1])\r\n",
        "    plt.plot(fpr, tpr, label='ROC')\r\n",
        "    plt.plot([0, 1], [0, 1], label='th:0.5')\r\n",
        "    # plt.title(auc)\r\n",
        "    plt.xlabel(\"FPR\"); plt.ylabel(\"TPR(recall)\")\r\n",
        "    plt.grid()\r\n",
        "    plt.show()\r\n",
        "\r\n",
        "\r\n",
        "# ------------------------------------------------\r\n",
        "# precision_recall_curve : 임계치 튜닝을 통한 점수 보정\r\n",
        "#-------------------------------------------------\r\n",
        "ths = [.4, .43, .45, .47, .49, .51, .53]\r\n",
        "def MyPrcRclTune(model, X, y, ths=ths):\r\n",
        "    for th in ths:\r\n",
        "        print(\"N : P =\", th, \":\", 1 - th)\r\n",
        "        prob = MySplitFitPredict(model, X, y, prc=True)\r\n",
        "        print(prob[4])\r\n",
        "        bn = Binarizer(threshold=ths)\r\n",
        "        fit_trans = bn.fit_transform(prob[:, 1].reshape(-1, 1))  # 세로로 reshape\r\n",
        "\r\n",
        "        auc = roc_auc_score(y_test, prob[:, 1].reshape(-1, 1))\r\n",
        "        print(auc)\r\n",
        "\r\n",
        "# ------------------------------------------------\r\n",
        "# boxplot : Boston-house-prices 사용\r\n",
        "# distplot: Boston-house-prices 사용\r\n",
        "#-------------------------------------------------\r\n",
        "def MyPlots(data, plot, ncols=7, nrows=2):\r\n",
        "    fig, axs = plt.subplots(ncols=ncols, nrows=nrows, figsize=(20, 10))\r\n",
        "    index = 0\r\n",
        "    axs = axs.flatten()     # 1차원으로 바꿔주기\r\n",
        "    for k, v in data.items():\r\n",
        "        if   plot == 'distplot':\r\n",
        "            sns.distplot(v, ax=axs[index])\r\n",
        "        elif plot == 'boxplot':\r\n",
        "            sns.boxplot(y=k, data=data, ax=axs[index])\r\n",
        "        index += 1\r\n",
        "    plt.tight_layout(pad=0.4, w_pad=0.5, h_pad=5.0)"
      ],
      "execution_count": null,
      "outputs": []
    },
    {
      "cell_type": "code",
      "metadata": {
        "colab": {
          "base_uri": "https://localhost:8080/"
        },
        "id": "JZ1B4ZA6dJf_",
        "outputId": "4cc3e03e-cfcb-4333-a48b-0a454a211b48"
      },
      "source": [
        "train_df = pd.read_csv(\"train.csv\")\r\n",
        "test_df  = pd.read_csv(\"test.csv\")\r\n",
        "df = train_df.append(test_df)\r\n",
        "df.shape"
      ],
      "execution_count": null,
      "outputs": [
        {
          "output_type": "execute_result",
          "data": {
            "text/plain": [
              "(78298, 14)"
            ]
          },
          "metadata": {
            "tags": []
          },
          "execution_count": 3
        }
      ]
    },
    {
      "cell_type": "code",
      "metadata": {
        "id": "QK8PNN2P1foQ",
        "colab": {
          "base_uri": "https://localhost:8080/"
        },
        "outputId": "051d8060-6cb8-4378-afbe-ebe296c254a5"
      },
      "source": [
        "print(train_df.isnull().sum())"
      ],
      "execution_count": null,
      "outputs": [
        {
          "output_type": "stream",
          "text": [
            "employee_id                0\n",
            "department                 0\n",
            "region                     0\n",
            "education               2409\n",
            "gender                     0\n",
            "recruitment_channel        0\n",
            "no_of_trainings            0\n",
            "age                        0\n",
            "previous_year_rating    4124\n",
            "length_of_service          0\n",
            "KPIs_met >80%              0\n",
            "awards_won?                0\n",
            "avg_training_score         0\n",
            "is_promoted                0\n",
            "dtype: int64\n"
          ],
          "name": "stdout"
        }
      ]
    },
    {
      "cell_type": "code",
      "metadata": {
        "id": "xQHT13mldd_X"
      },
      "source": [
        "# df.info()"
      ],
      "execution_count": null,
      "outputs": []
    },
    {
      "cell_type": "code",
      "metadata": {
        "id": "xBGuo2jhrX6q"
      },
      "source": [
        "# test_df = pd.read_csv(\"test.csv\")\r\n",
        "# test_df.info()"
      ],
      "execution_count": null,
      "outputs": []
    },
    {
      "cell_type": "code",
      "metadata": {
        "id": "bFDnDrwGJZii"
      },
      "source": [
        "# df = train_df.append(test_df)"
      ],
      "execution_count": null,
      "outputs": []
    },
    {
      "cell_type": "code",
      "metadata": {
        "id": "j2YNsBhtdo-3"
      },
      "source": [
        "# df.head()"
      ],
      "execution_count": null,
      "outputs": []
    },
    {
      "cell_type": "code",
      "metadata": {
        "id": "6vENI01CvErx"
      },
      "source": [
        "# df.tail()"
      ],
      "execution_count": null,
      "outputs": []
    },
    {
      "cell_type": "code",
      "metadata": {
        "id": "qEq4ZVYNxRBT"
      },
      "source": [
        "# df[\"education\"].value_counts() # 머신러닝으로 채워넣기(bike 참조)\r\n",
        "# df[\"recruitment_channel\"].value_counts() #0~2 범주화 시키기 0:인력소싱업체 1:추천? 2:기타\r\n",
        "# df[\"department\"].value_counts() #범주화 시키기 "
      ],
      "execution_count": null,
      "outputs": []
    },
    {
      "cell_type": "code",
      "metadata": {
        "id": "gkSO44A9dqut",
        "colab": {
          "base_uri": "https://localhost:8080/"
        },
        "outputId": "cb28fc2b-0b6c-4ea9-e39f-b7ff20c916c0"
      },
      "source": [
        "df.isnull().sum()"
      ],
      "execution_count": null,
      "outputs": [
        {
          "output_type": "execute_result",
          "data": {
            "text/plain": [
              "employee_id                 0\n",
              "department                  0\n",
              "region                      0\n",
              "education                3443\n",
              "gender                      0\n",
              "recruitment_channel         0\n",
              "no_of_trainings             0\n",
              "age                         0\n",
              "previous_year_rating     5936\n",
              "length_of_service           0\n",
              "KPIs_met >80%               0\n",
              "awards_won?                 0\n",
              "avg_training_score          0\n",
              "is_promoted             23490\n",
              "dtype: int64"
            ]
          },
          "metadata": {
            "tags": []
          },
          "execution_count": 11
        }
      ]
    },
    {
      "cell_type": "code",
      "metadata": {
        "id": "kYM6JKFEriED"
      },
      "source": [
        "# import missingno as msno\r\n",
        "# msno.bar(df)"
      ],
      "execution_count": null,
      "outputs": []
    },
    {
      "cell_type": "code",
      "metadata": {
        "id": "PNvKrAyktrlh"
      },
      "source": [
        "# df.describe()"
      ],
      "execution_count": null,
      "outputs": []
    },
    {
      "cell_type": "code",
      "metadata": {
        "id": "pKG4yiRF4xt5"
      },
      "source": [
        "# df.plot(kind='box', subplots=True, figsize=(20, 15), layout=(4,10), sharex=False, sharey=False)\r\n",
        "# plt.show()"
      ],
      "execution_count": null,
      "outputs": []
    },
    {
      "cell_type": "code",
      "metadata": {
        "id": "qYPWd6F_g-7N"
      },
      "source": [
        "# plt.figure(figsize=(8, 4))\r\n",
        "# # sns.countplot(df['gender'], hue=df['is_promoted'],palette='pastel')\r\n",
        "# sns.countplot(df['department'], hue=df['is_promoted'],palette='pastel')\r\n",
        "# plt.xticks(rotation=90)\r\n",
        "# plt.show()"
      ],
      "execution_count": null,
      "outputs": []
    },
    {
      "cell_type": "code",
      "metadata": {
        "id": "fPcEXz4s8lk4",
        "colab": {
          "base_uri": "https://localhost:8080/"
        },
        "outputId": "5e5f2f01-d897-4dda-c2e1-2af56ff694fe"
      },
      "source": [
        "df1 = df.set_index('employee_id') # df.drop(\"employee_id\", axis=1)\r\n",
        "\r\n",
        "# previous_year_rating: length_of_service가 1인 사람(새로운 직원)인 경우 전년도 평가 지표가 없음\r\n",
        "df1[\"previous_year_rating\"] = df1[\"previous_year_rating\"].fillna(0)\r\n",
        "\r\n",
        "# 나이: 20~60 구간? 5년..? 20~25, 26~30, 31~35, 36~40, 41~50, 50up\r\n",
        "df1[\"age\"].value_counts().sort_index()\r\n",
        "\r\n",
        "def age_drop(age):\r\n",
        "  if   age <= 25: cate = 0\r\n",
        "  elif age <= 30: cate = 1\r\n",
        "  elif age <= 35: cate = 2\r\n",
        "  elif age <= 40: cate = 3\r\n",
        "  elif age <= 50: cate = 4\r\n",
        "  else:           cate = 5\r\n",
        "  return cate\r\n",
        "\r\n",
        "df1[\"age_cate\"] = df1[\"age\"].apply(lambda x: age_drop(x))\r\n",
        "df1[\"age_cate\"].value_counts()\r\n",
        "df1.info()"
      ],
      "execution_count": null,
      "outputs": [
        {
          "output_type": "stream",
          "text": [
            "<class 'pandas.core.frame.DataFrame'>\n",
            "Int64Index: 78298 entries, 65438 to 5973\n",
            "Data columns (total 14 columns):\n",
            " #   Column                Non-Null Count  Dtype  \n",
            "---  ------                --------------  -----  \n",
            " 0   department            78298 non-null  object \n",
            " 1   region                78298 non-null  object \n",
            " 2   education             74855 non-null  object \n",
            " 3   gender                78298 non-null  object \n",
            " 4   recruitment_channel   78298 non-null  object \n",
            " 5   no_of_trainings       78298 non-null  int64  \n",
            " 6   age                   78298 non-null  int64  \n",
            " 7   previous_year_rating  78298 non-null  float64\n",
            " 8   length_of_service     78298 non-null  int64  \n",
            " 9   KPIs_met >80%         78298 non-null  int64  \n",
            " 10  awards_won?           78298 non-null  int64  \n",
            " 11  avg_training_score    78298 non-null  int64  \n",
            " 12  is_promoted           54808 non-null  float64\n",
            " 13  age_cate              78298 non-null  int64  \n",
            "dtypes: float64(2), int64(7), object(5)\n",
            "memory usage: 9.0+ MB\n"
          ],
          "name": "stdout"
        }
      ]
    },
    {
      "cell_type": "code",
      "metadata": {
        "id": "C1K5ZJqOYquQ",
        "colab": {
          "base_uri": "https://localhost:8080/"
        },
        "outputId": "33892da8-8c5f-4167-c283-159feb639340"
      },
      "source": [
        "# length_of_service: 1, 2~4, 5~7, 8~10, 11~20, 21up\r\n",
        "df1[\"length_of_service\"].value_counts().sort_index()\r\n",
        "\r\n",
        "def los_drop(year):\r\n",
        "  if   year ==  1: cate = 0   # 신입\r\n",
        "  elif year <=  4: cate = 1\r\n",
        "  elif year <=  7: cate = 2\r\n",
        "  elif year <= 10: cate = 3\r\n",
        "  elif year <= 20: cate = 4\r\n",
        "  else:            cate = 5   # 20년 넘게 근속\r\n",
        "  return cate\r\n",
        "\r\n",
        "df1[\"workyear\"] = df1[\"length_of_service\"].apply(lambda x: los_drop(x))\r\n",
        "\r\n",
        "df1[\"workyear\"].value_counts()"
      ],
      "execution_count": null,
      "outputs": [
        {
          "output_type": "execute_result",
          "data": {
            "text/plain": [
              "1    29367\n",
              "2    23091\n",
              "3    10979\n",
              "4     7606\n",
              "0     6539\n",
              "5      716\n",
              "Name: workyear, dtype: int64"
            ]
          },
          "metadata": {
            "tags": []
          },
          "execution_count": 17
        }
      ]
    },
    {
      "cell_type": "code",
      "metadata": {
        "id": "Dn4fPh7ZaHW_",
        "colab": {
          "base_uri": "https://localhost:8080/",
          "height": 235
        },
        "outputId": "d107267d-c120-4081-99af-75dd7f1831aa"
      },
      "source": [
        "df1[\"gender\"] = df1[\"gender\"].apply(lambda x: 0 if x == \"f\" else 1)\r\n",
        "\r\n",
        "df1[\"edu\"]  = df1[\"education\"].map({\"Below Secondary\": 0, \"Bachelor's\": 1, \"Master's & above\": 2})\r\n",
        "df1[\"ch\"]   = df1[\"recruitment_channel\"].map({\"other\": 0, \"sourcing\": 1, \"referred\": 2})\r\n",
        "\r\n",
        "df1.drop(\"education\", axis=1, inplace=True)\r\n",
        "df1.drop(\"recruitment_channel\", axis=1, inplace=True)\r\n",
        "df1.drop(\"age\", axis=1, inplace=True)\r\n",
        "df1.drop(\"length_of_service\", axis=1, inplace=True)\r\n",
        "\r\n",
        "df1.rename(columns={df1.columns[3]: 'train_no',\r\n",
        "                    df1.columns[4]: 'last_rate',\r\n",
        "                    df1.columns[5]: 'KPI80',\r\n",
        "                    df1.columns[6]: 'awards',\r\n",
        "                    df1.columns[7]: 'avg_score'}, inplace=True)\r\n",
        "\r\n",
        "df1.head()"
      ],
      "execution_count": null,
      "outputs": [
        {
          "output_type": "execute_result",
          "data": {
            "text/html": [
              "<div>\n",
              "<style scoped>\n",
              "    .dataframe tbody tr th:only-of-type {\n",
              "        vertical-align: middle;\n",
              "    }\n",
              "\n",
              "    .dataframe tbody tr th {\n",
              "        vertical-align: top;\n",
              "    }\n",
              "\n",
              "    .dataframe thead th {\n",
              "        text-align: right;\n",
              "    }\n",
              "</style>\n",
              "<table border=\"1\" class=\"dataframe\">\n",
              "  <thead>\n",
              "    <tr style=\"text-align: right;\">\n",
              "      <th></th>\n",
              "      <th>department</th>\n",
              "      <th>region</th>\n",
              "      <th>gender</th>\n",
              "      <th>train_no</th>\n",
              "      <th>last_rate</th>\n",
              "      <th>KPI80</th>\n",
              "      <th>awards</th>\n",
              "      <th>avg_score</th>\n",
              "      <th>is_promoted</th>\n",
              "      <th>age_cate</th>\n",
              "      <th>workyear</th>\n",
              "      <th>edu</th>\n",
              "      <th>ch</th>\n",
              "    </tr>\n",
              "    <tr>\n",
              "      <th>employee_id</th>\n",
              "      <th></th>\n",
              "      <th></th>\n",
              "      <th></th>\n",
              "      <th></th>\n",
              "      <th></th>\n",
              "      <th></th>\n",
              "      <th></th>\n",
              "      <th></th>\n",
              "      <th></th>\n",
              "      <th></th>\n",
              "      <th></th>\n",
              "      <th></th>\n",
              "      <th></th>\n",
              "    </tr>\n",
              "  </thead>\n",
              "  <tbody>\n",
              "    <tr>\n",
              "      <th>65438</th>\n",
              "      <td>Sales &amp; Marketing</td>\n",
              "      <td>region_7</td>\n",
              "      <td>0</td>\n",
              "      <td>1</td>\n",
              "      <td>5.0</td>\n",
              "      <td>1</td>\n",
              "      <td>0</td>\n",
              "      <td>49</td>\n",
              "      <td>0.0</td>\n",
              "      <td>2</td>\n",
              "      <td>3</td>\n",
              "      <td>2.0</td>\n",
              "      <td>1</td>\n",
              "    </tr>\n",
              "    <tr>\n",
              "      <th>65141</th>\n",
              "      <td>Operations</td>\n",
              "      <td>region_22</td>\n",
              "      <td>1</td>\n",
              "      <td>1</td>\n",
              "      <td>5.0</td>\n",
              "      <td>0</td>\n",
              "      <td>0</td>\n",
              "      <td>60</td>\n",
              "      <td>0.0</td>\n",
              "      <td>1</td>\n",
              "      <td>1</td>\n",
              "      <td>1.0</td>\n",
              "      <td>0</td>\n",
              "    </tr>\n",
              "    <tr>\n",
              "      <th>7513</th>\n",
              "      <td>Sales &amp; Marketing</td>\n",
              "      <td>region_19</td>\n",
              "      <td>1</td>\n",
              "      <td>1</td>\n",
              "      <td>3.0</td>\n",
              "      <td>0</td>\n",
              "      <td>0</td>\n",
              "      <td>50</td>\n",
              "      <td>0.0</td>\n",
              "      <td>2</td>\n",
              "      <td>2</td>\n",
              "      <td>1.0</td>\n",
              "      <td>1</td>\n",
              "    </tr>\n",
              "    <tr>\n",
              "      <th>2542</th>\n",
              "      <td>Sales &amp; Marketing</td>\n",
              "      <td>region_23</td>\n",
              "      <td>1</td>\n",
              "      <td>2</td>\n",
              "      <td>1.0</td>\n",
              "      <td>0</td>\n",
              "      <td>0</td>\n",
              "      <td>50</td>\n",
              "      <td>0.0</td>\n",
              "      <td>3</td>\n",
              "      <td>3</td>\n",
              "      <td>1.0</td>\n",
              "      <td>0</td>\n",
              "    </tr>\n",
              "    <tr>\n",
              "      <th>48945</th>\n",
              "      <td>Technology</td>\n",
              "      <td>region_26</td>\n",
              "      <td>1</td>\n",
              "      <td>1</td>\n",
              "      <td>3.0</td>\n",
              "      <td>0</td>\n",
              "      <td>0</td>\n",
              "      <td>73</td>\n",
              "      <td>0.0</td>\n",
              "      <td>4</td>\n",
              "      <td>1</td>\n",
              "      <td>1.0</td>\n",
              "      <td>0</td>\n",
              "    </tr>\n",
              "  </tbody>\n",
              "</table>\n",
              "</div>"
            ],
            "text/plain": [
              "                    department     region  gender  ...  workyear  edu  ch\n",
              "employee_id                                        ...                   \n",
              "65438        Sales & Marketing   region_7       0  ...         3  2.0   1\n",
              "65141               Operations  region_22       1  ...         1  1.0   0\n",
              "7513         Sales & Marketing  region_19       1  ...         2  1.0   1\n",
              "2542         Sales & Marketing  region_23       1  ...         3  1.0   0\n",
              "48945               Technology  region_26       1  ...         1  1.0   0\n",
              "\n",
              "[5 rows x 13 columns]"
            ]
          },
          "metadata": {
            "tags": []
          },
          "execution_count": 18
        }
      ]
    },
    {
      "cell_type": "code",
      "metadata": {
        "id": "JwOzCMUSJf3n",
        "colab": {
          "base_uri": "https://localhost:8080/",
          "height": 429
        },
        "outputId": "368c5729-4cbc-48f6-c308-16c1710bea67"
      },
      "source": [
        "MyChartHeatmap(df1)"
      ],
      "execution_count": null,
      "outputs": [
        {
          "output_type": "display_data",
          "data": {
            "image/png": "[encoded data removed]",
            "text/plain": [
              "<Figure size 720x432 with 2 Axes>"
            ]
          },
          "metadata": {
            "tags": [],
            "needs_background": "light"
          }
        }
      ]
    },
    {
      "cell_type": "code",
      "metadata": {
        "id": "Yyyi5-BW9YN8"
      },
      "source": [
        "# encoding으로 가져가기"
      ],
      "execution_count": null,
      "outputs": []
    },
    {
      "cell_type": "markdown",
      "metadata": {
        "id": "5s74KtPnPvFA"
      },
      "source": [
        "last_rate\r\n",
        "KPI80\r\n",
        "awards\r\n",
        "avg_score\r\n",
        "- 중요 피쳐만 분석"
      ]
    },
    {
      "cell_type": "code",
      "metadata": {
        "colab": {
          "base_uri": "https://localhost:8080/"
        },
        "id": "39iW9NFNP5L_",
        "outputId": "91fd8ba7-8797-4aa1-8c98-75af74df1113"
      },
      "source": [
        "get_col = [\"last_rate\", \"KPI80\", \"awards\", \"avg_score\", \"is_promoted\"]\r\n",
        "df_only4 = df1[get_col]\r\n",
        "\r\n",
        "df_only4.info()"
      ],
      "execution_count": null,
      "outputs": [
        {
          "output_type": "stream",
          "text": [
            "<class 'pandas.core.frame.DataFrame'>\n",
            "Int64Index: 78298 entries, 65438 to 5973\n",
            "Data columns (total 5 columns):\n",
            " #   Column       Non-Null Count  Dtype  \n",
            "---  ------       --------------  -----  \n",
            " 0   last_rate    78298 non-null  float64\n",
            " 1   KPI80        78298 non-null  int64  \n",
            " 2   awards       78298 non-null  int64  \n",
            " 3   avg_score    78298 non-null  int64  \n",
            " 4   is_promoted  54808 non-null  float64\n",
            "dtypes: float64(2), int64(3)\n",
            "memory usage: 3.6 MB\n"
          ],
          "name": "stdout"
        }
      ]
    },
    {
      "cell_type": "code",
      "metadata": {
        "colab": {
          "base_uri": "https://localhost:8080/",
          "height": 386
        },
        "id": "KccUPOS3Q9_U",
        "outputId": "0d8b3a61-4007-405d-be56-237ce7231d04"
      },
      "source": [
        "MyChartHeatmap(df_only4, \"is_promoted\")"
      ],
      "execution_count": null,
      "outputs": [
        {
          "output_type": "display_data",
          "data": {
            "image/png": "[encoded data removed]",
            "text/plain": [
              "<Figure size 720x432 with 2 Axes>"
            ]
          },
          "metadata": {
            "tags": [],
            "needs_background": "light"
          }
        }
      ]
    },
    {
      "cell_type": "code",
      "metadata": {
        "colab": {
          "base_uri": "https://localhost:8080/",
          "height": 297
        },
        "id": "joBjEpIzRH9H",
        "outputId": "2e11b3a7-f035-4835-9c3d-4d64f09e7640"
      },
      "source": [
        "df_only4.head()\r\n",
        "df_only4.describe()"
      ],
      "execution_count": null,
      "outputs": [
        {
          "output_type": "execute_result",
          "data": {
            "text/html": [
              "<div>\n",
              "<style scoped>\n",
              "    .dataframe tbody tr th:only-of-type {\n",
              "        vertical-align: middle;\n",
              "    }\n",
              "\n",
              "    .dataframe tbody tr th {\n",
              "        vertical-align: top;\n",
              "    }\n",
              "\n",
              "    .dataframe thead th {\n",
              "        text-align: right;\n",
              "    }\n",
              "</style>\n",
              "<table border=\"1\" class=\"dataframe\">\n",
              "  <thead>\n",
              "    <tr style=\"text-align: right;\">\n",
              "      <th></th>\n",
              "      <th>last_rate</th>\n",
              "      <th>KPI80</th>\n",
              "      <th>awards</th>\n",
              "      <th>avg_score</th>\n",
              "      <th>is_promoted</th>\n",
              "    </tr>\n",
              "  </thead>\n",
              "  <tbody>\n",
              "    <tr>\n",
              "      <th>count</th>\n",
              "      <td>78298.000000</td>\n",
              "      <td>78298.000000</td>\n",
              "      <td>78298.000000</td>\n",
              "      <td>78298.000000</td>\n",
              "      <td>54808.000000</td>\n",
              "    </tr>\n",
              "    <tr>\n",
              "      <th>mean</th>\n",
              "      <td>3.079593</td>\n",
              "      <td>0.354032</td>\n",
              "      <td>0.023053</td>\n",
              "      <td>63.349664</td>\n",
              "      <td>0.085170</td>\n",
              "    </tr>\n",
              "    <tr>\n",
              "      <th>std</th>\n",
              "      <td>1.499173</td>\n",
              "      <td>0.478222</td>\n",
              "      <td>0.150073</td>\n",
              "      <td>13.383664</td>\n",
              "      <td>0.279137</td>\n",
              "    </tr>\n",
              "    <tr>\n",
              "      <th>min</th>\n",
              "      <td>0.000000</td>\n",
              "      <td>0.000000</td>\n",
              "      <td>0.000000</td>\n",
              "      <td>39.000000</td>\n",
              "      <td>0.000000</td>\n",
              "    </tr>\n",
              "    <tr>\n",
              "      <th>25%</th>\n",
              "      <td>2.000000</td>\n",
              "      <td>0.000000</td>\n",
              "      <td>0.000000</td>\n",
              "      <td>51.000000</td>\n",
              "      <td>0.000000</td>\n",
              "    </tr>\n",
              "    <tr>\n",
              "      <th>50%</th>\n",
              "      <td>3.000000</td>\n",
              "      <td>0.000000</td>\n",
              "      <td>0.000000</td>\n",
              "      <td>60.000000</td>\n",
              "      <td>0.000000</td>\n",
              "    </tr>\n",
              "    <tr>\n",
              "      <th>75%</th>\n",
              "      <td>4.000000</td>\n",
              "      <td>1.000000</td>\n",
              "      <td>0.000000</td>\n",
              "      <td>76.000000</td>\n",
              "      <td>0.000000</td>\n",
              "    </tr>\n",
              "    <tr>\n",
              "      <th>max</th>\n",
              "      <td>5.000000</td>\n",
              "      <td>1.000000</td>\n",
              "      <td>1.000000</td>\n",
              "      <td>99.000000</td>\n",
              "      <td>1.000000</td>\n",
              "    </tr>\n",
              "  </tbody>\n",
              "</table>\n",
              "</div>"
            ],
            "text/plain": [
              "          last_rate         KPI80        awards     avg_score   is_promoted\n",
              "count  78298.000000  78298.000000  78298.000000  78298.000000  54808.000000\n",
              "mean       3.079593      0.354032      0.023053     63.349664      0.085170\n",
              "std        1.499173      0.478222      0.150073     13.383664      0.279137\n",
              "min        0.000000      0.000000      0.000000     39.000000      0.000000\n",
              "25%        2.000000      0.000000      0.000000     51.000000      0.000000\n",
              "50%        3.000000      0.000000      0.000000     60.000000      0.000000\n",
              "75%        4.000000      1.000000      0.000000     76.000000      0.000000\n",
              "max        5.000000      1.000000      1.000000     99.000000      1.000000"
            ]
          },
          "metadata": {
            "tags": []
          },
          "execution_count": 23
        }
      ]
    },
    {
      "cell_type": "code",
      "metadata": {
        "colab": {
          "base_uri": "https://localhost:8080/",
          "height": 235
        },
        "id": "7n0lIi7-RbA0",
        "outputId": "9bf85d22-8692-4af5-e560-59faa418df64"
      },
      "source": [
        "#import math\r\n",
        "\r\n",
        "df_only4[\"sqrt_score\"] = np.sqrt(df_only4[\"avg_score\"])\r\n",
        "df_only4.head()"
      ],
      "execution_count": null,
      "outputs": [
        {
          "output_type": "execute_result",
          "data": {
            "text/html": [
              "<div>\n",
              "<style scoped>\n",
              "    .dataframe tbody tr th:only-of-type {\n",
              "        vertical-align: middle;\n",
              "    }\n",
              "\n",
              "    .dataframe tbody tr th {\n",
              "        vertical-align: top;\n",
              "    }\n",
              "\n",
              "    .dataframe thead th {\n",
              "        text-align: right;\n",
              "    }\n",
              "</style>\n",
              "<table border=\"1\" class=\"dataframe\">\n",
              "  <thead>\n",
              "    <tr style=\"text-align: right;\">\n",
              "      <th></th>\n",
              "      <th>last_rate</th>\n",
              "      <th>KPI80</th>\n",
              "      <th>awards</th>\n",
              "      <th>avg_score</th>\n",
              "      <th>is_promoted</th>\n",
              "      <th>sqrt_score</th>\n",
              "    </tr>\n",
              "    <tr>\n",
              "      <th>employee_id</th>\n",
              "      <th></th>\n",
              "      <th></th>\n",
              "      <th></th>\n",
              "      <th></th>\n",
              "      <th></th>\n",
              "      <th></th>\n",
              "    </tr>\n",
              "  </thead>\n",
              "  <tbody>\n",
              "    <tr>\n",
              "      <th>65438</th>\n",
              "      <td>5.0</td>\n",
              "      <td>1</td>\n",
              "      <td>0</td>\n",
              "      <td>49</td>\n",
              "      <td>0.0</td>\n",
              "      <td>7.000000</td>\n",
              "    </tr>\n",
              "    <tr>\n",
              "      <th>65141</th>\n",
              "      <td>5.0</td>\n",
              "      <td>0</td>\n",
              "      <td>0</td>\n",
              "      <td>60</td>\n",
              "      <td>0.0</td>\n",
              "      <td>7.745967</td>\n",
              "    </tr>\n",
              "    <tr>\n",
              "      <th>7513</th>\n",
              "      <td>3.0</td>\n",
              "      <td>0</td>\n",
              "      <td>0</td>\n",
              "      <td>50</td>\n",
              "      <td>0.0</td>\n",
              "      <td>7.071068</td>\n",
              "    </tr>\n",
              "    <tr>\n",
              "      <th>2542</th>\n",
              "      <td>1.0</td>\n",
              "      <td>0</td>\n",
              "      <td>0</td>\n",
              "      <td>50</td>\n",
              "      <td>0.0</td>\n",
              "      <td>7.071068</td>\n",
              "    </tr>\n",
              "    <tr>\n",
              "      <th>48945</th>\n",
              "      <td>3.0</td>\n",
              "      <td>0</td>\n",
              "      <td>0</td>\n",
              "      <td>73</td>\n",
              "      <td>0.0</td>\n",
              "      <td>8.544004</td>\n",
              "    </tr>\n",
              "  </tbody>\n",
              "</table>\n",
              "</div>"
            ],
            "text/plain": [
              "             last_rate  KPI80  awards  avg_score  is_promoted  sqrt_score\n",
              "employee_id                                                              \n",
              "65438              5.0      1       0         49          0.0    7.000000\n",
              "65141              5.0      0       0         60          0.0    7.745967\n",
              "7513               3.0      0       0         50          0.0    7.071068\n",
              "2542               1.0      0       0         50          0.0    7.071068\n",
              "48945              3.0      0       0         73          0.0    8.544004"
            ]
          },
          "metadata": {
            "tags": []
          },
          "execution_count": 24
        }
      ]
    },
    {
      "cell_type": "code",
      "metadata": {
        "id": "e3DjgmMRTVNg"
      },
      "source": [
        "df_only4.drop(\"avg_score\", axis=1, inplace=True)\r\n"
      ],
      "execution_count": null,
      "outputs": []
    },
    {
      "cell_type": "code",
      "metadata": {
        "colab": {
          "base_uri": "https://localhost:8080/",
          "height": 235
        },
        "id": "CPNZIT9oVPfe",
        "outputId": "bc34d355-8ab9-4928-b926-9e18b727e3a8"
      },
      "source": [
        "df_only4[\"last_rate\"] = df_only4[\"last_rate\"].astype(np.int32)\r\n",
        "df_only4[\"is_promoted\"] = df_only4[\"is_promoted\"].apply(lambda x: 0 if x == 0.0 else 1)\r\n",
        "\r\n",
        "df_only4.head()"
      ],
      "execution_count": null,
      "outputs": [
        {
          "output_type": "execute_result",
          "data": {
            "text/html": [
              "<div>\n",
              "<style scoped>\n",
              "    .dataframe tbody tr th:only-of-type {\n",
              "        vertical-align: middle;\n",
              "    }\n",
              "\n",
              "    .dataframe tbody tr th {\n",
              "        vertical-align: top;\n",
              "    }\n",
              "\n",
              "    .dataframe thead th {\n",
              "        text-align: right;\n",
              "    }\n",
              "</style>\n",
              "<table border=\"1\" class=\"dataframe\">\n",
              "  <thead>\n",
              "    <tr style=\"text-align: right;\">\n",
              "      <th></th>\n",
              "      <th>last_rate</th>\n",
              "      <th>KPI80</th>\n",
              "      <th>awards</th>\n",
              "      <th>is_promoted</th>\n",
              "      <th>sqrt_score</th>\n",
              "    </tr>\n",
              "    <tr>\n",
              "      <th>employee_id</th>\n",
              "      <th></th>\n",
              "      <th></th>\n",
              "      <th></th>\n",
              "      <th></th>\n",
              "      <th></th>\n",
              "    </tr>\n",
              "  </thead>\n",
              "  <tbody>\n",
              "    <tr>\n",
              "      <th>65438</th>\n",
              "      <td>5</td>\n",
              "      <td>1</td>\n",
              "      <td>0</td>\n",
              "      <td>0</td>\n",
              "      <td>7.000000</td>\n",
              "    </tr>\n",
              "    <tr>\n",
              "      <th>65141</th>\n",
              "      <td>5</td>\n",
              "      <td>0</td>\n",
              "      <td>0</td>\n",
              "      <td>0</td>\n",
              "      <td>7.745967</td>\n",
              "    </tr>\n",
              "    <tr>\n",
              "      <th>7513</th>\n",
              "      <td>3</td>\n",
              "      <td>0</td>\n",
              "      <td>0</td>\n",
              "      <td>0</td>\n",
              "      <td>7.071068</td>\n",
              "    </tr>\n",
              "    <tr>\n",
              "      <th>2542</th>\n",
              "      <td>1</td>\n",
              "      <td>0</td>\n",
              "      <td>0</td>\n",
              "      <td>0</td>\n",
              "      <td>7.071068</td>\n",
              "    </tr>\n",
              "    <tr>\n",
              "      <th>48945</th>\n",
              "      <td>3</td>\n",
              "      <td>0</td>\n",
              "      <td>0</td>\n",
              "      <td>0</td>\n",
              "      <td>8.544004</td>\n",
              "    </tr>\n",
              "  </tbody>\n",
              "</table>\n",
              "</div>"
            ],
            "text/plain": [
              "             last_rate  KPI80  awards  is_promoted  sqrt_score\n",
              "employee_id                                                   \n",
              "65438                5      1       0            0    7.000000\n",
              "65141                5      0       0            0    7.745967\n",
              "7513                 3      0       0            0    7.071068\n",
              "2542                 1      0       0            0    7.071068\n",
              "48945                3      0       0            0    8.544004"
            ]
          },
          "metadata": {
            "tags": []
          },
          "execution_count": 26
        }
      ]
    },
    {
      "cell_type": "markdown",
      "metadata": {
        "id": "DHSPx8aaXUyb"
      },
      "source": [
        "여기서부터 df_only4로 바꿔서 실행"
      ]
    },
    {
      "cell_type": "code",
      "metadata": {
        "colab": {
          "base_uri": "https://localhost:8080/"
        },
        "id": "_SpNWTDDQQP-",
        "outputId": "3d1f3436-9077-4fa2-d325-41a876061852"
      },
      "source": [
        "train = df_only4.iloc[ :54808, :]\r\n",
        "test =  df_only4.iloc[54808:, :]\r\n",
        "\r\n",
        "# print(train.shape , test.shape)\r\n",
        "\r\n",
        "y_train = train[\"is_promoted\"]                             # 학습용 답안\r\n",
        "X_train = train.drop(\"is_promoted\", axis=1)                # 학습용 답안\r\n",
        "test = test.drop(\"is_promoted\", axis=1)  #, inplace=True)  # 시험용 문제\r\n",
        "print(y_train.shape , X_train.shape, test.shape)"
      ],
      "execution_count": null,
      "outputs": [
        {
          "output_type": "stream",
          "text": [
            "(54808,) (54808, 4) (23490, 4)\n"
          ],
          "name": "stdout"
        }
      ]
    },
    {
      "cell_type": "code",
      "metadata": {
        "colab": {
          "base_uri": "https://localhost:8080/"
        },
        "id": "7UPRYLA6TxC2",
        "outputId": "91056981-4da9-4664-a87e-7c888daced36"
      },
      "source": [
        "df_only4.info()"
      ],
      "execution_count": null,
      "outputs": [
        {
          "output_type": "stream",
          "text": [
            "<class 'pandas.core.frame.DataFrame'>\n",
            "Int64Index: 78298 entries, 65438 to 5973\n",
            "Data columns (total 5 columns):\n",
            " #   Column       Non-Null Count  Dtype  \n",
            "---  ------       --------------  -----  \n",
            " 0   last_rate    78298 non-null  int32  \n",
            " 1   KPI80        78298 non-null  int64  \n",
            " 2   awards       78298 non-null  int64  \n",
            " 3   is_promoted  78298 non-null  int64  \n",
            " 4   sqrt_score   78298 non-null  float64\n",
            "dtypes: float64(1), int32(1), int64(3)\n",
            "memory usage: 3.3 MB\n"
          ],
          "name": "stdout"
        }
      ]
    },
    {
      "cell_type": "code",
      "metadata": {
        "colab": {
          "base_uri": "https://localhost:8080/"
        },
        "id": "YGM6O2NTQf1E",
        "outputId": "f0f0c5cf-212e-4338-c302-7b219694b32f"
      },
      "source": [
        "rf_model = RandomForestClassifier()\r\n",
        "MySplitFitPredict(rf_model, X_train, y_train)"
      ],
      "execution_count": null,
      "outputs": [
        {
          "output_type": "stream",
          "text": [
            "Scores : None ---------\n",
            "정확도0.9224  F1 0.2436=(정밀도0.7611 재현률0.1450) auc 0.8103\n",
            "Confusion Matrix \n",
            " [[9974   43]\n",
            " [ 808  137]] \n",
            "============================================\n"
          ],
          "name": "stdout"
        },
        {
          "output_type": "execute_result",
          "data": {
            "text/plain": [
              "(             last_rate  KPI80  awards  sqrt_score\n",
              " employee_id                                      \n",
              " 50466                4      1       0    6.928203\n",
              " 25978                5      1       0    7.615773\n",
              " 58383                3      1       0    8.485281\n",
              " 71973                3      0       0    7.211103\n",
              " 42417                5      1       0    7.549834\n",
              " ...                ...    ...     ...         ...\n",
              " 31719                4      1       0    9.110434\n",
              " 61150                2      0       0    6.928203\n",
              " 155                  5      1       0    8.000000\n",
              " 75073                3      1       0    7.745967\n",
              " 42907                3      0       0    8.717798\n",
              " \n",
              " [43846 rows x 4 columns],              last_rate  KPI80  awards  sqrt_score\n",
              " employee_id                                      \n",
              " 11342                3      1       0    7.681146\n",
              " 8425                 3      0       0    7.810250\n",
              " 71426                4      1       0    9.000000\n",
              " 32435                4      0       0    7.141428\n",
              " 5706                 0      0       0    6.928203\n",
              " ...                ...    ...     ...         ...\n",
              " 73660                1      0       0    6.928203\n",
              " 58121                2      0       0    7.745967\n",
              " 11151                3      0       0    9.110434\n",
              " 30762                4      1       0    8.306624\n",
              " 41952                1      0       0    7.000000\n",
              " \n",
              " [10962 rows x 4 columns], employee_id\n",
              " 50466    0\n",
              " 25978    0\n",
              " 58383    0\n",
              " 71973    0\n",
              " 42417    0\n",
              "         ..\n",
              " 31719    0\n",
              " 61150    0\n",
              " 155      0\n",
              " 75073    0\n",
              " 42907    0\n",
              " Name: is_promoted, Length: 43846, dtype: int64, employee_id\n",
              " 11342    0\n",
              " 8425     0\n",
              " 71426    0\n",
              " 32435    0\n",
              " 5706     0\n",
              "         ..\n",
              " 73660    0\n",
              " 58121    0\n",
              " 11151    0\n",
              " 30762    0\n",
              " 41952    0\n",
              " Name: is_promoted, Length: 10962, dtype: int64, array([0, 0, 0, ..., 0, 0, 0]), array([[0.81617461, 0.18382539],\n",
              "        [0.97534403, 0.02465597],\n",
              "        [0.86861787, 0.13138213],\n",
              "        ...,\n",
              "        [0.92490193, 0.07509807],\n",
              "        [0.91766658, 0.08233342],\n",
              "        [1.        , 0.        ]]))"
            ]
          },
          "metadata": {
            "tags": []
          },
          "execution_count": 29
        }
      ]
    },
    {
      "cell_type": "code",
      "metadata": {
        "id": "UetJGq2ViWvC"
      },
      "source": [
        "# def rateCheck(df, col=\"\"):\r\n",
        "#   rate_df = pd.DataFrame()\r\n",
        "#   rate_df[\"count0\"] = df[col][df[\"is_promoted\"]==0].value_counts()\r\n",
        "#   rate_df[\"count1\"] = df[col][df[\"is_promoted\"]==1].value_counts()\r\n",
        "#   rate_df[\"rate0\"] = rate_df[\"count0\"]  / (rate_df[\"count0\"] + rate_df[\"count1\"]) * 100     # df[\"is_promoted\"].count()\r\n",
        "#   rate_df[\"rate1\"] = rate_df[\"count1\"]  / (rate_df[\"count0\"] + rate_df[\"count1\"]) * 100\r\n",
        "#   print(rate_df)\r\n",
        "\r\n",
        "# # rateCheck(df1, \"region\")"
      ],
      "execution_count": null,
      "outputs": []
    },
    {
      "cell_type": "code",
      "metadata": {
        "id": "8c-4FePJoEIv"
      },
      "source": [
        "# plt.figure(figsize=(12,8))\r\n",
        "# sns.heatmap(df1.corr(), annot=True, fmt=\".2g\", cmap=\"Blues\")"
      ],
      "execution_count": null,
      "outputs": []
    },
    {
      "cell_type": "code",
      "metadata": {
        "id": "T6IEL7fHBBbZ"
      },
      "source": [
        "\r\n",
        "def data_encoding( encoding_strategy , encoding_data , encoding_columns ):\r\n",
        "    \r\n",
        "    if encoding_strategy == \"LabelEncoding\":\r\n",
        "        print(\"IF LabelEncoding\")\r\n",
        "        Encoder = LabelEncoder()\r\n",
        "        for column in encoding_columns :\r\n",
        "            print(\"column\",column )\r\n",
        "            encoding_data[ column ] = Encoder.fit_transform(tuple(encoding_data[ column ]))\r\n",
        "        \r\n",
        "    elif encoding_strategy == \"OneHotEncoding\":\r\n",
        "        print(\"ELIF OneHotEncoding\")\r\n",
        "        encoding_data = pd.get_dummies(encoding_data)\r\n",
        "        \r\n",
        "    elif encoding_strategy == \"TargetEncoding\":\r\n",
        "        print(\"ELIF TargetEncoding\")\r\n",
        "        ## Code Coming soon\r\n",
        "        print(\"TargetEncoding\")\r\n",
        "\r\n",
        "    else :\r\n",
        "        print(\"ELSE OneHotEncoding\")\r\n",
        "        encoding_data = pd.get_dummies(encoding_data)\r\n",
        "        \r\n",
        "    dtypes_list =['float64','float32','int64','int32']\r\n",
        "    encoding_data.astype( dtypes_list[0] ).dtypes\r\n",
        "    \r\n",
        "    return encoding_data"
      ],
      "execution_count": null,
      "outputs": []
    },
    {
      "cell_type": "code",
      "metadata": {
        "id": "k6ljzD8jdugb"
      },
      "source": [
        "# df1 = pd.get_dummies(data=df1, columns=[\"department\"], prefix=\"dept\", drop_first = False)\r\n",
        "# df1 = pd.get_dummies(data=df1, columns=[\"region\"], prefix=\"\", drop_first = False)"
      ],
      "execution_count": null,
      "outputs": []
    },
    {
      "cell_type": "code",
      "metadata": {
        "id": "nPw5j22deIRq"
      },
      "source": [
        "# df1.info()\r\n",
        "# print(df1.columns)"
      ],
      "execution_count": null,
      "outputs": []
    },
    {
      "cell_type": "code",
      "metadata": {
        "id": "Do64rdin27Ct"
      },
      "source": [
        "# df1[:54808].isnull().sum()"
      ],
      "execution_count": null,
      "outputs": []
    },
    {
      "cell_type": "code",
      "metadata": {
        "id": "FljvEzEOzOWZ"
      },
      "source": [
        "# df1.isnull().sum()"
      ],
      "execution_count": null,
      "outputs": []
    },
    {
      "cell_type": "code",
      "metadata": {
        "id": "HherG7h3K7Pj"
      },
      "source": [
        "# change_col = ['gender','train_no','last_rate','KPI80', 'awards',\t'avg_score', 'age_cate', 'workyear', 'edu', 'ch']\r\n",
        "# df1[\"edu\"] = df1[\"edu\"].astype('int32')"
      ],
      "execution_count": null,
      "outputs": []
    },
    {
      "cell_type": "code",
      "metadata": {
        "id": "Rs8zLzUaLKFu"
      },
      "source": [
        "# df2[\"gender\"] = df2[\"gender\"].astype('uint8')\r\n",
        "# df2[\"train_no\"] = df2[\"train_no\"].astype('uint8')\r\n",
        "# df2[\"KPI80\"] = df2[\"KPI80\"].astype('uint8')\r\n",
        "# df2[\"awards\"] = df2[\"awards\"].astype('uint8')\r\n",
        "# df2[\"avg_score\"] = df2[\"avg_score\"].astype('uint8')\r\n",
        "# df2[\"age_cate\"] = df2[\"age_cate\"].astype('uint8')\r\n",
        "# df2[\"workyear\"] = df2[\"workyear\"].astype('uint8')\r\n",
        "# df2[\"ch\"] = df2[\"ch\"].astype('uint8')\r\n",
        "# df2[\"last_rate\"] = df2[\"last_rate\"].astype('uint8')"
      ],
      "execution_count": null,
      "outputs": []
    },
    {
      "cell_type": "code",
      "metadata": {
        "id": "tmDsxPy46Qm2"
      },
      "source": [
        "# # train_data_len = train_df.shape[0]\r\n",
        "# # test_data_len = test_df.shape[0]\r\n",
        "\r\n",
        "# train = df1.iloc[ :54808, :]\r\n",
        "# test =  df1.iloc[54808:, :]\r\n",
        "\r\n",
        "# # print(train.shape , test.shape)\r\n",
        "\r\n",
        "# y_train = train[\"is_promoted\"]               # 학습용 답안\r\n",
        "# X_train = train.drop(\"is_promoted\", axis=1)               # 학습용 답안\r\n",
        "# test = test.drop(\"is_promoted\", axis=1)  #, inplace=True)  # 시험용 문제\r\n",
        "# print(y_train.shape , X_train.shape, test.shape)"
      ],
      "execution_count": null,
      "outputs": []
    },
    {
      "cell_type": "code",
      "metadata": {
        "id": "xjvGpDsLteS0"
      },
      "source": [
        "# df1.info()"
      ],
      "execution_count": null,
      "outputs": []
    },
    {
      "cell_type": "code",
      "metadata": {
        "id": "ypWZBkfl5cRJ"
      },
      "source": [
        "# X_train.info()"
      ],
      "execution_count": null,
      "outputs": []
    },
    {
      "cell_type": "code",
      "metadata": {
        "id": "K2nWNj4LeqC_"
      },
      "source": [
        "# edu: null 채우기\r\n",
        "# df = test\r\n",
        "# target = \"edu\"\r\n",
        "\r\n",
        "# edu_nan = df[df[target].isnull() == True]\r\n",
        "# edu_012 = df[df[target].isnull() == False]\r\n",
        "\r\n",
        "# col = df.loc[:, df.columns != target].columns\r\n",
        "\r\n",
        "# rf_edu = RandomForestRegressor()\r\n",
        "# rf_edu.fit(edu_012[col], edu_012[target])\r\n",
        "# edu_val = rf_edu.predict(X = edu_nan[col])\r\n",
        "# edu_nan[target] = edu_val\r\n",
        "# test = edu_012.append(edu_nan)"
      ],
      "execution_count": null,
      "outputs": []
    },
    {
      "cell_type": "code",
      "metadata": {
        "colab": {
          "base_uri": "https://localhost:8080/",
          "height": 1000
        },
        "id": "hbFAflsS_76_",
        "outputId": "a3b9472d-d033-4922-e816-24aaaa597f6c"
      },
      "source": [
        "# 인코딩 해봅시다 !\r\n",
        "train_all = df1.iloc[ :54808, :]\r\n",
        "test_all  = df1.iloc[54808:, :]\r\n",
        "\r\n",
        "\t# region\tgender\ttrain_no\tlast_rate\tKPI80\tawards\tavg_score\tis_promoted\tage_cate\tworkyear\tedu\tch\r\n",
        "\r\n",
        "enc_col = ['department', 'region', 'gender', 'edu', 'ch']\r\n",
        "# print(train.shape , test.shape)\r\n",
        "\r\n",
        "y_train_all = train_all[\"is_promoted\"]                             # 학습용 답안\r\n",
        "X_train_all = train_all.drop(\"is_promoted\", axis=1)                # 학습용 답안\r\n",
        "test_all = test_all.drop(\"is_promoted\", axis=1)  #, inplace=True)  # 시험용 문제\r\n",
        "# print(y_train.shape , X_train.shape, test.shape)\r\n",
        "encoding_strategy = [ \"LabelEncoding\", \"OneHotEncoding\", \"TargetEncoding\", \"ELSE\" ]\r\n",
        "\r\n",
        "X_train_encode = data_encoding( encoding_strategy[1] , X_train_all , enc_col )\r\n",
        "# X_test_encode =  data_encoding( encoding_strategy[1] , X_test , enc_col )\r\n",
        "\r\n",
        "# X_train = X_train[[\"no_of_trainings\", \"age\", \"previous_year_rating\", \"length_of_service\", \"KPIs_met >80%\", \"awards_won?\", \"avg_training_score\" ]]\r\n",
        "# X_test = X_test[[\"no_of_trainings\", \"age\", \"previous_year_rating\", \"length_of_service\", \"KPIs_met >80%\", \"awards_won?\", \"avg_training_score\" ]]\r\n",
        "\r\n",
        "# X_train_encode = pd.concat([X_train,X_train_encode], axis=1)\r\n",
        "# X_test_encode = pd.concat([X_test,X_test_encode], axis=1)\r\n",
        "\r\n",
        "display(X_train_encode.isnull().sum())"
      ],
      "execution_count": null,
      "outputs": [
        {
          "output_type": "stream",
          "text": [
            "ELIF OneHotEncoding\n"
          ],
          "name": "stdout"
        },
        {
          "output_type": "display_data",
          "data": {
            "text/plain": [
              "gender                             0\n",
              "train_no                           0\n",
              "last_rate                          0\n",
              "KPI80                              0\n",
              "awards                             0\n",
              "avg_score                          0\n",
              "age_cate                           0\n",
              "workyear                           0\n",
              "edu                             2409\n",
              "ch                                 0\n",
              "department_Analytics               0\n",
              "department_Finance                 0\n",
              "department_HR                      0\n",
              "department_Legal                   0\n",
              "department_Operations              0\n",
              "department_Procurement             0\n",
              "department_R&D                     0\n",
              "department_Sales & Marketing       0\n",
              "department_Technology              0\n",
              "region_region_1                    0\n",
              "region_region_10                   0\n",
              "region_region_11                   0\n",
              "region_region_12                   0\n",
              "region_region_13                   0\n",
              "region_region_14                   0\n",
              "region_region_15                   0\n",
              "region_region_16                   0\n",
              "region_region_17                   0\n",
              "region_region_18                   0\n",
              "region_region_19                   0\n",
              "region_region_2                    0\n",
              "region_region_20                   0\n",
              "region_region_21                   0\n",
              "region_region_22                   0\n",
              "region_region_23                   0\n",
              "region_region_24                   0\n",
              "region_region_25                   0\n",
              "region_region_26                   0\n",
              "region_region_27                   0\n",
              "region_region_28                   0\n",
              "region_region_29                   0\n",
              "region_region_3                    0\n",
              "region_region_30                   0\n",
              "region_region_31                   0\n",
              "region_region_32                   0\n",
              "region_region_33                   0\n",
              "region_region_34                   0\n",
              "region_region_4                    0\n",
              "region_region_5                    0\n",
              "region_region_6                    0\n",
              "region_region_7                    0\n",
              "region_region_8                    0\n",
              "region_region_9                    0\n",
              "dtype: int64"
            ]
          },
          "metadata": {
            "tags": []
          }
        }
      ]
    },
    {
      "cell_type": "code",
      "metadata": {
        "id": "gHD-XNA_8gV4"
      },
      "source": [
        "#test.isnull().sum() # edu null 처리 완료"
      ],
      "execution_count": null,
      "outputs": []
    },
    {
      "cell_type": "code",
      "metadata": {
        "id": "oLMx4Df38rqI"
      },
      "source": [
        "# edu: null 채우기\r\n",
        "df = X_train_encode\r\n",
        "target = \"edu\"\r\n",
        "\r\n",
        "edu_nan = df[df[target].isnull() == True]\r\n",
        "edu_012 = df[df[target].isnull() == False]\r\n",
        "\r\n",
        "col = df.loc[:, df.columns != target].columns\r\n",
        "\r\n",
        "rf_edu = RandomForestRegressor()\r\n",
        "rf_edu.fit(edu_012[col], edu_012[target])\r\n",
        "edu_val = rf_edu.predict(X = edu_nan[col])\r\n",
        "edu_nan[target] = edu_val\r\n",
        "X_train = edu_012.append(edu_nan)"
      ],
      "execution_count": null,
      "outputs": []
    },
    {
      "cell_type": "code",
      "metadata": {
        "id": "WbHDbgfJztIx",
        "colab": {
          "base_uri": "https://localhost:8080/"
        },
        "outputId": "f5603b21-f93f-4c60-8c92-799209822f2f"
      },
      "source": [
        "X_train.isnull().sum()"
      ],
      "execution_count": null,
      "outputs": [
        {
          "output_type": "execute_result",
          "data": {
            "text/plain": [
              "gender                          0\n",
              "train_no                        0\n",
              "last_rate                       0\n",
              "KPI80                           0\n",
              "awards                          0\n",
              "avg_score                       0\n",
              "age_cate                        0\n",
              "workyear                        0\n",
              "edu                             0\n",
              "ch                              0\n",
              "department_Analytics            0\n",
              "department_Finance              0\n",
              "department_HR                   0\n",
              "department_Legal                0\n",
              "department_Operations           0\n",
              "department_Procurement          0\n",
              "department_R&D                  0\n",
              "department_Sales & Marketing    0\n",
              "department_Technology           0\n",
              "region_region_1                 0\n",
              "region_region_10                0\n",
              "region_region_11                0\n",
              "region_region_12                0\n",
              "region_region_13                0\n",
              "region_region_14                0\n",
              "region_region_15                0\n",
              "region_region_16                0\n",
              "region_region_17                0\n",
              "region_region_18                0\n",
              "region_region_19                0\n",
              "region_region_2                 0\n",
              "region_region_20                0\n",
              "region_region_21                0\n",
              "region_region_22                0\n",
              "region_region_23                0\n",
              "region_region_24                0\n",
              "region_region_25                0\n",
              "region_region_26                0\n",
              "region_region_27                0\n",
              "region_region_28                0\n",
              "region_region_29                0\n",
              "region_region_3                 0\n",
              "region_region_30                0\n",
              "region_region_31                0\n",
              "region_region_32                0\n",
              "region_region_33                0\n",
              "region_region_34                0\n",
              "region_region_4                 0\n",
              "region_region_5                 0\n",
              "region_region_6                 0\n",
              "region_region_7                 0\n",
              "region_region_8                 0\n",
              "region_region_9                 0\n",
              "dtype: int64"
            ]
          },
          "metadata": {
            "tags": []
          },
          "execution_count": 46
        }
      ]
    },
    {
      "cell_type": "code",
      "metadata": {
        "id": "3YGCgJvECebh"
      },
      "source": [
        "# X_train_encode = data_encoding( encoding_strategy[1] , X_train_encode , \"edu\" )\r\n",
        "\r\n",
        "# X_train.isnull().sum()"
      ],
      "execution_count": null,
      "outputs": []
    },
    {
      "cell_type": "code",
      "metadata": {
        "colab": {
          "base_uri": "https://localhost:8080/"
        },
        "id": "Ze3XAa0sCuZz",
        "outputId": "95782fe9-8ed7-4d9a-8c9c-498c3d2d301f"
      },
      "source": [
        "rf_model = RandomForestClassifier()\r\n",
        "MySplitFitPredict(rf_model, X_train, y_train)"
      ],
      "execution_count": null,
      "outputs": [
        {
          "output_type": "stream",
          "text": [
            "Scores : None ---------\n",
            "정확도0.9080  F1 0.0137=(정밀도0.0897 재현률0.0074) auc 0.5030\n",
            "Confusion Matrix \n",
            " [[9946   71]\n",
            " [ 938    7]] \n",
            "============================================\n"
          ],
          "name": "stdout"
        },
        {
          "output_type": "execute_result",
          "data": {
            "text/plain": [
              "(             gender  train_no  ...  region_region_8  region_region_9\n",
              " employee_id                    ...                                  \n",
              " 24935             1         1  ...                0                0\n",
              " 39376             1         1  ...                0                0\n",
              " 12538             1         1  ...                0                0\n",
              " 22594             1         1  ...                0                0\n",
              " 76786             1         1  ...                0                0\n",
              " ...             ...       ...  ...              ...              ...\n",
              " 7803              0         1  ...                0                0\n",
              " 45185             1         1  ...                0                0\n",
              " 68991             1         1  ...                0                0\n",
              " 40746             1         1  ...                0                0\n",
              " 68463             1         2  ...                0                0\n",
              " \n",
              " [43846 rows x 53 columns],\n",
              "              gender  train_no  ...  region_region_8  region_region_9\n",
              " employee_id                    ...                                  \n",
              " 15642             1         2  ...                0                0\n",
              " 14703             1         1  ...                0                0\n",
              " 18425             1         1  ...                0                0\n",
              " 66763             1         1  ...                0                0\n",
              " 49591             1         2  ...                0                0\n",
              " ...             ...       ...  ...              ...              ...\n",
              " 56328             1         1  ...                0                0\n",
              " 5761              0         1  ...                0                0\n",
              " 53539             1         2  ...                0                0\n",
              " 54244             1         1  ...                0                0\n",
              " 74356             1         1  ...                0                0\n",
              " \n",
              " [10962 rows x 53 columns],\n",
              " employee_id\n",
              " 50466    0\n",
              " 25978    0\n",
              " 58383    0\n",
              " 71973    0\n",
              " 42417    0\n",
              "         ..\n",
              " 31719    0\n",
              " 61150    0\n",
              " 155      0\n",
              " 75073    0\n",
              " 42907    0\n",
              " Name: is_promoted, Length: 43846, dtype: int64,\n",
              " employee_id\n",
              " 11342    0\n",
              " 8425     0\n",
              " 71426    0\n",
              " 32435    0\n",
              " 5706     0\n",
              "         ..\n",
              " 73660    0\n",
              " 58121    0\n",
              " 11151    0\n",
              " 30762    0\n",
              " 41952    0\n",
              " Name: is_promoted, Length: 10962, dtype: int64,\n",
              " array([0, 0, 0, ..., 0, 0, 0]),\n",
              " array([[0.96      , 0.04      ],\n",
              "        [0.97      , 0.03      ],\n",
              "        [0.97833333, 0.02166667],\n",
              "        ...,\n",
              "        [0.94      , 0.06      ],\n",
              "        [0.97      , 0.03      ],\n",
              "        [1.        , 0.        ]]))"
            ]
          },
          "metadata": {
            "tags": []
          },
          "execution_count": 48
        }
      ]
    },
    {
      "cell_type": "code",
      "metadata": {
        "id": "mlNFXcqTX_mL"
      },
      "source": [
        "# # Dataframe 확인 ---------------------------------------\r\n",
        "# def MyCheckDataframe(df, target=\"target\") :\r\n",
        "#     # print(\"Check Dataframe ----------------------------\")\r\n",
        "#     # print(\"Shape :\", e, df.shape)\r\n",
        "#     # print(\"Info  :\", e, df.info())\r\n",
        "#     # print(\"Head  :\", e, df.head())\r\n",
        "#     # print(\"Count :\", e, df[target].value_counts())\r\n",
        "\r\n",
        "#     y = df[target]\r\n",
        "#     X = df.drop(target, axis=1)\r\n",
        "#     print(\"Target Shape :\", e, X.shape, y.shape, barline)\r\n",
        "#     return X, y"
      ],
      "execution_count": null,
      "outputs": []
    },
    {
      "cell_type": "code",
      "metadata": {
        "id": "7YkzMtTpYCwl"
      },
      "source": [
        "# X, y = MyCheckDataframe(X_train, \"is_promoted\")"
      ],
      "execution_count": null,
      "outputs": []
    },
    {
      "cell_type": "code",
      "metadata": {
        "id": "BWJJ39svnjSk"
      },
      "source": [
        "# X_train.info()"
      ],
      "execution_count": null,
      "outputs": []
    },
    {
      "cell_type": "code",
      "metadata": {
        "id": "yXTkdGB0yWr6"
      },
      "source": [
        "# y_train"
      ],
      "execution_count": null,
      "outputs": []
    },
    {
      "cell_type": "code",
      "metadata": {
        "id": "ZW8qwVceHc_x",
        "colab": {
          "base_uri": "https://localhost:8080/"
        },
        "outputId": "67108cbc-322e-4bc3-902b-e6fd79ad5e8e"
      },
      "source": [
        "rf_model = RandomForestClassifier()\r\n",
        "MySplitFitPredict(rf_model, X_train, y_train)"
      ],
      "execution_count": null,
      "outputs": [
        {
          "output_type": "stream",
          "text": [
            "Scores : None ---------\n",
            "정확도0.9087  F1 0.0118=(정밀도0.0882 재현률0.0063) auc 0.5071\n",
            "Confusion Matrix \n",
            " [[9955   62]\n",
            " [ 939    6]] \n",
            "============================================\n"
          ],
          "name": "stdout"
        },
        {
          "output_type": "execute_result",
          "data": {
            "text/plain": [
              "(             gender  train_no  ...  region_region_8  region_region_9\n",
              " employee_id                    ...                                  \n",
              " 24935             1         1  ...                0                0\n",
              " 39376             1         1  ...                0                0\n",
              " 12538             1         1  ...                0                0\n",
              " 22594             1         1  ...                0                0\n",
              " 76786             1         1  ...                0                0\n",
              " ...             ...       ...  ...              ...              ...\n",
              " 7803              0         1  ...                0                0\n",
              " 45185             1         1  ...                0                0\n",
              " 68991             1         1  ...                0                0\n",
              " 40746             1         1  ...                0                0\n",
              " 68463             1         2  ...                0                0\n",
              " \n",
              " [43846 rows x 53 columns],\n",
              "              gender  train_no  ...  region_region_8  region_region_9\n",
              " employee_id                    ...                                  \n",
              " 15642             1         2  ...                0                0\n",
              " 14703             1         1  ...                0                0\n",
              " 18425             1         1  ...                0                0\n",
              " 66763             1         1  ...                0                0\n",
              " 49591             1         2  ...                0                0\n",
              " ...             ...       ...  ...              ...              ...\n",
              " 56328             1         1  ...                0                0\n",
              " 5761              0         1  ...                0                0\n",
              " 53539             1         2  ...                0                0\n",
              " 54244             1         1  ...                0                0\n",
              " 74356             1         1  ...                0                0\n",
              " \n",
              " [10962 rows x 53 columns],\n",
              " employee_id\n",
              " 50466    0\n",
              " 25978    0\n",
              " 58383    0\n",
              " 71973    0\n",
              " 42417    0\n",
              "         ..\n",
              " 31719    0\n",
              " 61150    0\n",
              " 155      0\n",
              " 75073    0\n",
              " 42907    0\n",
              " Name: is_promoted, Length: 43846, dtype: int64,\n",
              " employee_id\n",
              " 11342    0\n",
              " 8425     0\n",
              " 71426    0\n",
              " 32435    0\n",
              " 5706     0\n",
              "         ..\n",
              " 73660    0\n",
              " 58121    0\n",
              " 11151    0\n",
              " 30762    0\n",
              " 41952    0\n",
              " Name: is_promoted, Length: 10962, dtype: int64,\n",
              " array([0, 0, 0, ..., 0, 0, 0]),\n",
              " array([[0.97, 0.03],\n",
              "        [0.97, 0.03],\n",
              "        [1.  , 0.  ],\n",
              "        ...,\n",
              "        [0.92, 0.08],\n",
              "        [0.98, 0.02],\n",
              "        [0.96, 0.04]]))"
            ]
          },
          "metadata": {
            "tags": []
          },
          "execution_count": 53
        }
      ]
    },
    {
      "cell_type": "code",
      "metadata": {
        "id": "kSDb_wYizXgh",
        "colab": {
          "base_uri": "https://localhost:8080/",
          "height": 1000
        },
        "outputId": "3f4fe87b-bef4-4d13-d203-e6352fe2db0e"
      },
      "source": [
        "X_scaler = MyScaler(X_train)\r\n",
        "MySplitFitPredict(rf_model, X_scaler, y_train, str=\"스케일링 적용 후 점수\", rate=0.2, prc=True, roc=True)"
      ],
      "execution_count": null,
      "outputs": [
        {
          "output_type": "stream",
          "text": [
            "Scores : 스케일링 적용 후 점수 ---------\n",
            "정확도0.9078  F1 0.0137=(정밀도0.0875 재현률0.0074) auc 0.5007\n",
            "Confusion Matrix \n",
            " [[9944   73]\n",
            " [ 938    7]] \n",
            "============================================\n",
            "680 680 679 \n",
            "============================================\n"
          ],
          "name": "stdout"
        },
        {
          "output_type": "display_data",
          "data": {
            "image/png": "[encoded data removed]",
            "text/plain": [
              "<Figure size 432x288 with 1 Axes>"
            ]
          },
          "metadata": {
            "tags": [],
            "needs_background": "light"
          }
        },
        {
          "output_type": "display_data",
          "data": {
            "image/png": "[encoded data removed]",
            "text/plain": [
              "<Figure size 432x288 with 1 Axes>"
            ]
          },
          "metadata": {
            "tags": [],
            "needs_background": "light"
          }
        },
        {
          "output_type": "execute_result",
          "data": {
            "text/plain": [
              "(array([[ 0.65094726, -0.41527615,  1.28387791, ..., -0.31133238,\n",
              "         -0.1099789 , -0.08787657],\n",
              "        [ 0.65094726, -0.41527615, -0.05262314, ...,  3.21200129,\n",
              "         -0.1099789 , -0.08787657],\n",
              "        [ 0.65094726, -0.41527615,  1.28387791, ..., -0.31133238,\n",
              "         -0.1099789 , -0.08787657],\n",
              "        ...,\n",
              "        [ 0.65094726, -0.41527615, -2.05737473, ..., -0.31133238,\n",
              "         -0.1099789 , -0.08787657],\n",
              "        [ 0.65094726, -0.41527615,  1.28387791, ..., -0.31133238,\n",
              "         -0.1099789 , -0.08787657],\n",
              "        [ 0.65094726,  1.22606339,  0.61562739, ..., -0.31133238,\n",
              "         -0.1099789 , -0.08787657]]),\n",
              " array([[ 0.65094726,  1.22606339, -0.05262314, ..., -0.31133238,\n",
              "         -0.1099789 , -0.08787657],\n",
              "        [ 0.65094726, -0.41527615, -0.05262314, ..., -0.31133238,\n",
              "         -0.1099789 , -0.08787657],\n",
              "        [ 0.65094726, -0.41527615, -0.05262314, ..., -0.31133238,\n",
              "         -0.1099789 , -0.08787657],\n",
              "        ...,\n",
              "        [ 0.65094726,  1.22606339,  0.61562739, ..., -0.31133238,\n",
              "         -0.1099789 , -0.08787657],\n",
              "        [ 0.65094726, -0.41527615, -0.72087367, ..., -0.31133238,\n",
              "         -0.1099789 , -0.08787657],\n",
              "        [ 0.65094726, -0.41527615,  1.28387791, ..., -0.31133238,\n",
              "         -0.1099789 , -0.08787657]]),\n",
              " employee_id\n",
              " 50466    0\n",
              " 25978    0\n",
              " 58383    0\n",
              " 71973    0\n",
              " 42417    0\n",
              "         ..\n",
              " 31719    0\n",
              " 61150    0\n",
              " 155      0\n",
              " 75073    0\n",
              " 42907    0\n",
              " Name: is_promoted, Length: 43846, dtype: int64,\n",
              " employee_id\n",
              " 11342    0\n",
              " 8425     0\n",
              " 71426    0\n",
              " 32435    0\n",
              " 5706     0\n",
              "         ..\n",
              " 73660    0\n",
              " 58121    0\n",
              " 11151    0\n",
              " 30762    0\n",
              " 41952    0\n",
              " Name: is_promoted, Length: 10962, dtype: int64,\n",
              " array([0, 0, 0, ..., 0, 0, 0]),\n",
              " array([[0.98, 0.02],\n",
              "        [0.97, 0.03],\n",
              "        [0.99, 0.01],\n",
              "        ...,\n",
              "        [0.98, 0.02],\n",
              "        [0.98, 0.02],\n",
              "        [0.99, 0.01]]))"
            ]
          },
          "metadata": {
            "tags": []
          },
          "execution_count": 54
        }
      ]
    },
    {
      "cell_type": "code",
      "metadata": {
        "id": "PC-xiwr8wlXr"
      },
      "source": [
        "# ------------------------------------------------\r\n",
        "# precision_recall_curve : 임계치 튜닝을 통한 점수 보정\r\n",
        "#-------------------------------------------------\r\n",
        "# ths = [.4, .43, .45, .47, .49, .51, .53]\r\n",
        "# def MyPrcRclTune(model, X, y, ths=ths):\r\n",
        "#     for th in ths:\r\n",
        "#         print(\"N : P =\", th, \":\", 1 - th)\r\n",
        "#         prob = MySplitFitPredict(model, X, y, prc=True)\r\n",
        "#         print(\"prob\\n\", prob[4])\r\n",
        "#         bn = Binarizer(threshold=ths)\r\n",
        "#         fit_trans = bn.fit_transform(prob[:, 1].reshape(-1, 1))  # 세로로 reshape\r\n",
        "\r\n",
        "#         auc = roc_auc_score(y_test, prob[:, 1].reshape(-1, 1))\r\n",
        "#         print(auc)\r\n",
        "\r\n",
        "# MyPrcRclTune(rf_model, X_train, y_train, ths=ths)"
      ],
      "execution_count": null,
      "outputs": []
    },
    {
      "cell_type": "code",
      "metadata": {
        "id": "VLwGKdeJ0VFG"
      },
      "source": [
        "# MyCrossValidate(rf_model, X_train, y_train)"
      ],
      "execution_count": null,
      "outputs": []
    },
    {
      "cell_type": "code",
      "metadata": {
        "id": "CeqqXwtt1yye"
      },
      "source": [
        "# # 할수록 점수가 떨어져용^^...ㅎㅎ f1 = 0.11055041071734745 -> 2/17 0.00을 보았다 ㅎㅎ\r\n",
        "# my_hyper_param = {  \"n_estimators\"     :[100, 300],\r\n",
        "#                     \"max_depth\"        :[3, 5, 7],\r\n",
        "#                     \"min_samples_leaf\" :[3, 5, 7],\r\n",
        "#                     \"random_state\"     :[121,]    }\r\n",
        "\r\n",
        "# MyGridSearchCV(my_hyper_param, rf_model, X_train, y_train)"
      ],
      "execution_count": null,
      "outputs": []
    },
    {
      "cell_type": "code",
      "metadata": {
        "id": "LTSPRB7310Dc"
      },
      "source": [
        "# ------------------------------------\r\n",
        "# Under Sampling: iloc\r\n",
        "# ------------------------------------\r\n",
        "\r\n",
        "# P_df = df_only4[df_only4[\"is_promoted\"] == 1]\r\n",
        "# N_df = df_only4[df_only4[\"is_promoted\"] == 0][:len(P_df)]\r\n",
        "\r\n",
        "\r\n",
        "# under_df = P_df.append(N_df)\r\n",
        "# print(P_df.shape, N_df.shape, under_df.shape)\r\n",
        "\r\n",
        "# y = under_df[\"is_promoted\"]\r\n",
        "# X = under_df.drop(\"is_promoted\", axis=1)\r\n",
        "# model = RandomForestClassifier()\r\n",
        "# print(X.shape, y.shape)\r\n",
        "# MySplitFitPredict(model, X_train, y_train, str=\"언더샘플링\", rate=0.2)"
      ],
      "execution_count": null,
      "outputs": []
    },
    {
      "cell_type": "code",
      "metadata": {
        "id": "qy9lTBRM4-s3",
        "colab": {
          "base_uri": "https://localhost:8080/"
        },
        "outputId": "283c3718-0888-4a2e-fdfd-1880024d2ecf"
      },
      "source": [
        "# ------------------------------------\r\n",
        "# Over Sampling : SMOTE\r\n",
        "# ------------------------------------\r\n",
        "from imblearn.over_sampling import SMOTE\r\n",
        "\r\n",
        "# print(df_only4.shape)\r\n",
        "# print(df_only4[\"is_promoted\"].value_counts)\r\n",
        "\r\n",
        "y = df_only4[\"is_promoted\"]\r\n",
        "X = df_only4.drop(\"is_promoted\", axis=1)\r\n",
        "smote = SMOTE()\r\n",
        "X, y = smote.fit_resample(X, y)\r\n",
        "X_over, y_over = smote.fit_resample(X, y)\r\n",
        "\r\n",
        "# print(X_over.shape, y_over.shape)\r\n",
        "# print(pd.Series(y_over).value_counts())\r\n",
        "\r\n",
        "model = RandomForestClassifier()\r\n",
        "# print(X.shape, y.shape)\r\n",
        "smote_result = MySplitFitPredict(model, X_over, y_over, str=\"오버샘플링\", rate=0.2)\r\n",
        "smote_pred = smote_result[4].reshape(-1, 1)\r\n",
        "smote_pred.shape"
      ],
      "execution_count": null,
      "outputs": [
        {
          "output_type": "stream",
          "text": [
            "Scores : 오버샘플링 ---------\n",
            "정확도0.5610  F1 0.5105=(정밀도0.5697 재현률0.4625) auc 0.5785\n",
            "Confusion Matrix \n",
            " [[6659 3469]\n",
            " [5336 4592]] \n",
            "============================================\n"
          ],
          "name": "stdout"
        },
        {
          "output_type": "execute_result",
          "data": {
            "text/plain": [
              "(20056, 1)"
            ]
          },
          "metadata": {
            "tags": []
          },
          "execution_count": 59
        }
      ]
    },
    {
      "cell_type": "code",
      "metadata": {
        "id": "lOhaXK0xDQ0W",
        "colab": {
          "base_uri": "https://localhost:8080/"
        },
        "outputId": "933b4f90-4b62-49dd-ac96-931ff0a613ed"
      },
      "source": [
        "#test = test.astype('int32')\r\n",
        "test.info()"
      ],
      "execution_count": null,
      "outputs": [
        {
          "output_type": "stream",
          "text": [
            "<class 'pandas.core.frame.DataFrame'>\n",
            "Int64Index: 23490 entries, 8724 to 5973\n",
            "Data columns (total 4 columns):\n",
            " #   Column      Non-Null Count  Dtype  \n",
            "---  ------      --------------  -----  \n",
            " 0   last_rate   23490 non-null  int32  \n",
            " 1   KPI80       23490 non-null  int64  \n",
            " 2   awards      23490 non-null  int64  \n",
            " 3   sqrt_score  23490 non-null  float64\n",
            "dtypes: float64(1), int32(1), int64(2)\n",
            "memory usage: 825.8 KB\n"
          ],
          "name": "stdout"
        }
      ]
    },
    {
      "cell_type": "code",
      "metadata": {
        "id": "M3gTg6Jc8qfc"
      },
      "source": [
        "from sklearn.tree      import DecisionTreeClassifier\r\n",
        "from sklearn.neighbors import KNeighborsClassifier\r\n",
        "from sklearn.ensemble  import RandomForestClassifier\r\n",
        "from sklearn.metrics   import accuracy_score, f1_score, recall_score, precision_score, roc_auc_score\r\n",
        "\r\n",
        "# X_train, X_test, y_train, y_test = train_test_split(X, y, test_size=0.2, random_state=121, shuffle=True)\r\n",
        "\r\n",
        "dt_model  = DecisionTreeClassifier()\r\n",
        "knn_model = KNeighborsClassifier()\r\n",
        "rf_model  = RandomForestClassifier()\r\n",
        "\r\n",
        "models = [dt_model, knn_model, rf_model]\r\n",
        "for model in models :\r\n",
        "    # fit : 학습하다\r\n",
        "    model.fit(X_over, y_over)\r\n",
        "    # predict : 시험\r\n",
        "    y_pred = model.predict(test)\r\n",
        "#     # score : 예측 정확도 확인\r\n",
        "#     #score = f1_score(test, y_pred)  # 점수는 kaggle이, 나는 X"
      ],
      "execution_count": null,
      "outputs": []
    },
    {
      "cell_type": "code",
      "metadata": {
        "colab": {
          "base_uri": "https://localhost:8080/"
        },
        "id": "OWXLan5n7aGQ",
        "outputId": "c6dc2eac-ec3e-40d6-93ba-6cb931aca897"
      },
      "source": [
        "y_pred.shape"
      ],
      "execution_count": null,
      "outputs": [
        {
          "output_type": "execute_result",
          "data": {
            "text/plain": [
              "(23490,)"
            ]
          },
          "metadata": {
            "tags": []
          },
          "execution_count": 62
        }
      ]
    },
    {
      "cell_type": "code",
      "metadata": {
        "id": "13TLwmCFC7el"
      },
      "source": [
        "from google.colab import drive\r\n",
        "drive.mount('/content/gdrive', force_remount=True)"
      ],
      "execution_count": null,
      "outputs": []
    },
    {
      "cell_type": "code",
      "metadata": {
        "id": "SMvOrkNW6_q5"
      },
      "source": [
        "sub_df = pd.read_csv(\"sample_submission.csv\")\r\n",
        "prom_id = sub_df[\"employee_id\"]\r\n",
        "mydic = {\"employee_id\" : prom_id,\r\n",
        "         \"is_promoted\" : y_pred.astype(np.int32) }\r\n",
        "sub_df = pd.DataFrame(mydic)\r\n",
        "sub_df.to_csv(\"/content/gdrive/My Drive/Colab Notebooks/submitted2.csv\", index=None)"
      ],
      "execution_count": null,
      "outputs": []
    },
    {
      "cell_type": "code",
      "metadata": {
        "id": "OkkRjoJtI6Br"
      },
      "source": [
        ""
      ],
      "execution_count": null,
      "outputs": []
    }
  ]
}