{
  "nbformat": 4,
  "nbformat_minor": 0,
  "metadata": {
    "colab": {
      "name": "LH.ipynb",
      "provenance": [],
      "collapsed_sections": [
        "fe9z28dm9MSz",
        "vlW-gme36Trc",
        "ZHwvIoARDt0h",
        "C5QrfF_Tiqbx",
        "ly6hBwJOTSsl",
        "dVT48L6Y6H6U",
        "9m3he6PQDwU3",
        "gnwyGI02_Uje",
        "yTHDfyV2SeU3",
        "UgC3MdupyHWr",
        "IIyd3LjJDLsM"
      ],
      "include_colab_link": true
    },
    "kernelspec": {
      "name": "python3",
      "display_name": "Python 3"
    }
  },
  "cells": [
    {
      "cell_type": "markdown",
      "metadata": {
        "id": "view-in-github",
        "colab_type": "text"
      },
      "source": [
        "<a href=\"https://colab.research.google.com/github/eruru0411/git-test/blob/master/LH.ipynb\" target=\"_parent\"><img src=\"https://colab.research.google.com/assets/colab-badge.svg\" alt=\"Open In Colab\"/></a>"
      ]
    },
    {
      "cell_type": "markdown",
      "metadata": {
        "id": "SpwK3xed-lY3"
      },
      "source": [
        "## install / import / def"
      ]
    },
    {
      "cell_type": "markdown",
      "metadata": {
        "id": "fe9z28dm9MSz"
      },
      "source": [
        "### 글꼴 설치"
      ]
    },
    {
      "cell_type": "code",
      "metadata": {
        "colab": {
          "base_uri": "https://localhost:8080/"
        },
        "id": "i9JM__QM9Dhj",
        "outputId": "6d7fe2dd-7dff-43f5-d50f-123ff696a08b"
      },
      "source": [
        "!sudo apt-get install -y fonts-nanum\r\n",
        "!sudo fc-cache -fv\r\n",
        "!rm ~/.cache/matplotlib -rf"
      ],
      "execution_count": null,
      "outputs": [
        {
          "output_type": "stream",
          "text": [
            "Reading package lists... Done\n",
            "Building dependency tree       \n",
            "Reading state information... Done\n",
            "The following NEW packages will be installed:\n",
            "  fonts-nanum\n",
            "0 upgraded, 1 newly installed, 0 to remove and 29 not upgraded.\n",
            "Need to get 9,604 kB of archives.\n",
            "After this operation, 29.5 MB of additional disk space will be used.\n",
            "Get:1 http://archive.ubuntu.com/ubuntu bionic/universe amd64 fonts-nanum all 20170925-1 [9,604 kB]\n",
            "Fetched 9,604 kB in 2s (5,101 kB/s)\n",
            "debconf: unable to initialize frontend: Dialog\n",
            "debconf: (No usable dialog-like program is installed, so the dialog based frontend cannot be used. at /usr/share/perl5/Debconf/FrontEnd/Dialog.pm line 76, <> line 1.)\n",
            "debconf: falling back to frontend: Readline\n",
            "debconf: unable to initialize frontend: Readline\n",
            "debconf: (This frontend requires a controlling tty.)\n",
            "debconf: falling back to frontend: Teletype\n",
            "dpkg-preconfigure: unable to re-open stdin: \n",
            "Selecting previously unselected package fonts-nanum.\n",
            "(Reading database ... 160975 files and directories currently installed.)\n",
            "Preparing to unpack .../fonts-nanum_20170925-1_all.deb ...\n",
            "Unpacking fonts-nanum (20170925-1) ...\n",
            "Setting up fonts-nanum (20170925-1) ...\n",
            "Processing triggers for fontconfig (2.12.6-0ubuntu2) ...\n",
            "/usr/share/fonts: caching, new cache contents: 0 fonts, 1 dirs\n",
            "/usr/share/fonts/truetype: caching, new cache contents: 0 fonts, 3 dirs\n",
            "/usr/share/fonts/truetype/humor-sans: caching, new cache contents: 1 fonts, 0 dirs\n",
            "/usr/share/fonts/truetype/liberation: caching, new cache contents: 16 fonts, 0 dirs\n",
            "/usr/share/fonts/truetype/nanum: caching, new cache contents: 10 fonts, 0 dirs\n",
            "/usr/local/share/fonts: caching, new cache contents: 0 fonts, 0 dirs\n",
            "/root/.local/share/fonts: skipping, no such directory\n",
            "/root/.fonts: skipping, no such directory\n",
            "/var/cache/fontconfig: cleaning cache directory\n",
            "/root/.cache/fontconfig: not cleaning non-existent cache directory\n",
            "/root/.fontconfig: not cleaning non-existent cache directory\n",
            "fc-cache: succeeded\n"
          ],
          "name": "stdout"
        }
      ]
    },
    {
      "cell_type": "markdown",
      "metadata": {
        "id": "vlW-gme36Trc"
      },
      "source": [
        "### import : for modeling\r\n",
        "- MyChartPlotHistory(history)\r\n",
        "- tensorflow, pandas, numpy, matplotlib, seaborn, keras"
      ]
    },
    {
      "cell_type": "code",
      "metadata": {
        "id": "_v_jUxIy6M-e"
      },
      "source": [
        "# from keras.datasets import fashion_mnist\r\n",
        "import tensorflow as tf\r\n",
        "\r\n",
        "import pandas as pd\r\n",
        "import numpy as np\r\n",
        "import matplotlib.pyplot as plt\r\n",
        "import seaborn as sns\r\n",
        "\r\n",
        "from keras.models import Sequential\r\n",
        "from keras.layers import Dense, Conv2D, MaxPool2D, Flatten\r\n",
        "from keras.utils  import to_categorical\r\n",
        "from keras.preprocessing.image import ImageDataGenerator, load_img    # keras 이미지 전처리를 위한 클래스\r\n",
        "\r\n",
        "# (X_train, y_train), (X_test, y_test) = fashion_mnist.load_data() 는 tensorflow에 있는 데이터로만 가능\r\n",
        "import os           # dir 읽어서 올림\r\n",
        "from sklearn.model_selection import train_test_split\r\n",
        "\r\n",
        "from keras.callbacks import EarlyStopping\r\n",
        "early_stop = EarlyStopping(monitor='val_loss', patience=10)\r\n",
        "\r\n",
        "import warnings\r\n",
        "warnings.filterwarnings(action=\"ignore\")\r\n",
        "\r\n",
        "np.random.seed(121)\r\n",
        "tf.random.set_seed(121)"
      ],
      "execution_count": null,
      "outputs": []
    },
    {
      "cell_type": "code",
      "metadata": {
        "id": "2O7I-PQ37BHu"
      },
      "source": [
        "def MyChartPlotHistory(history):\r\n",
        "    hist = pd.DataFrame(history.history)\r\n",
        "    hist['epoch'] = history.epoch\r\n",
        "\r\n",
        "    plt.figure(figsize=(8,12))\r\n",
        "\r\n",
        "    plt.subplot(2,1,1)\r\n",
        "    plt.xlabel('epoch')\r\n",
        "    plt.ylabel('accuracy')\r\n",
        "    plt.plot(hist['epoch'], hist['accuracy'],    label='acc')\r\n",
        "    plt.plot(hist['epoch'], hist['val_accuracy'],label = 'val_acc')\r\n",
        "    plt.legend()\r\n",
        "\r\n",
        "    plt.subplot(2,1,2)\r\n",
        "    plt.xlabel('epoch')\r\n",
        "    plt.ylabel('loss')\r\n",
        "    plt.plot(hist['epoch'], hist['loss'],    label = 'loss')\r\n",
        "    plt.plot(hist['epoch'], hist['val_loss'],label = 'val_loss')\r\n",
        "    plt.legend()\r\n",
        "    plt.show()"
      ],
      "execution_count": null,
      "outputs": []
    },
    {
      "cell_type": "markdown",
      "metadata": {
        "id": "ZHwvIoARDt0h"
      },
      "source": [
        "### import: for map\r\n",
        "- install pydeck, mip, geopandas\r\n",
        "- sharply, geopandas"
      ]
    },
    {
      "cell_type": "code",
      "metadata": {
        "colab": {
          "base_uri": "https://localhost:8080/"
        },
        "id": "HEeUS6Sj2BPe",
        "outputId": "0b7558b6-edee-40f0-9d20-ae2a39b924a1"
      },
      "source": [
        "pip install geoplot"
      ],
      "execution_count": null,
      "outputs": [
        {
          "output_type": "stream",
          "text": [
            "Requirement already satisfied: geoplot in /usr/local/lib/python3.7/dist-packages (0.4.1)\n",
            "Requirement already satisfied: geopandas in /usr/local/lib/python3.7/dist-packages (from geoplot) (0.9.0)\n",
            "Requirement already satisfied: descartes in /usr/local/lib/python3.7/dist-packages (from geoplot) (1.1.0)\n",
            "Requirement already satisfied: contextily>=1.0.0 in /usr/local/lib/python3.7/dist-packages (from geoplot) (1.1.0)\n",
            "Requirement already satisfied: cartopy in /usr/local/lib/python3.7/dist-packages (from geoplot) (0.18.0)\n",
            "Requirement already satisfied: mapclassify>=2.1 in /usr/local/lib/python3.7/dist-packages (from geoplot) (2.4.2)\n",
            "Requirement already satisfied: seaborn in /usr/local/lib/python3.7/dist-packages (from geoplot) (0.11.1)\n",
            "Requirement already satisfied: matplotlib in /usr/local/lib/python3.7/dist-packages (from geoplot) (3.2.2)\n",
            "Requirement already satisfied: pandas in /usr/local/lib/python3.7/dist-packages (from geoplot) (1.1.5)\n",
            "Requirement already satisfied: pyproj>=2.2.0 in /usr/local/lib/python3.7/dist-packages (from geopandas->geoplot) (3.0.1)\n",
            "Requirement already satisfied: shapely>=1.6 in /usr/local/lib/python3.7/dist-packages (from geopandas->geoplot) (1.7.1)\n",
            "Requirement already satisfied: fiona>=1.8 in /usr/local/lib/python3.7/dist-packages (from geopandas->geoplot) (1.8.18)\n",
            "Requirement already satisfied: requests in /usr/local/lib/python3.7/dist-packages (from contextily>=1.0.0->geoplot) (2.23.0)\n",
            "Requirement already satisfied: pillow in /usr/local/lib/python3.7/dist-packages (from contextily>=1.0.0->geoplot) (7.0.0)\n",
            "Requirement already satisfied: joblib in /usr/local/lib/python3.7/dist-packages (from contextily>=1.0.0->geoplot) (1.0.1)\n",
            "Requirement already satisfied: geopy in /usr/local/lib/python3.7/dist-packages (from contextily>=1.0.0->geoplot) (1.17.0)\n",
            "Requirement already satisfied: rasterio in /usr/local/lib/python3.7/dist-packages (from contextily>=1.0.0->geoplot) (1.2.1)\n",
            "Requirement already satisfied: mercantile in /usr/local/lib/python3.7/dist-packages (from contextily>=1.0.0->geoplot) (1.1.6)\n",
            "Requirement already satisfied: six>=1.3.0 in /usr/local/lib/python3.7/dist-packages (from cartopy->geoplot) (1.15.0)\n",
            "Requirement already satisfied: numpy>=1.10 in /usr/local/lib/python3.7/dist-packages (from cartopy->geoplot) (1.19.5)\n",
            "Requirement already satisfied: pyshp>=1.1.4 in /usr/local/lib/python3.7/dist-packages (from cartopy->geoplot) (2.1.3)\n",
            "Requirement already satisfied: setuptools>=0.7.2 in /usr/local/lib/python3.7/dist-packages (from cartopy->geoplot) (54.0.0)\n",
            "Requirement already satisfied: networkx in /usr/local/lib/python3.7/dist-packages (from mapclassify>=2.1->geoplot) (2.5)\n",
            "Requirement already satisfied: scikit-learn in /usr/local/lib/python3.7/dist-packages (from mapclassify>=2.1->geoplot) (0.22.2.post1)\n",
            "Requirement already satisfied: scipy>=1.0 in /usr/local/lib/python3.7/dist-packages (from mapclassify>=2.1->geoplot) (1.4.1)\n",
            "Requirement already satisfied: cycler>=0.10 in /usr/local/lib/python3.7/dist-packages (from matplotlib->geoplot) (0.10.0)\n",
            "Requirement already satisfied: kiwisolver>=1.0.1 in /usr/local/lib/python3.7/dist-packages (from matplotlib->geoplot) (1.3.1)\n",
            "Requirement already satisfied: pyparsing!=2.0.4,!=2.1.2,!=2.1.6,>=2.0.1 in /usr/local/lib/python3.7/dist-packages (from matplotlib->geoplot) (2.4.7)\n",
            "Requirement already satisfied: python-dateutil>=2.1 in /usr/local/lib/python3.7/dist-packages (from matplotlib->geoplot) (2.8.1)\n",
            "Requirement already satisfied: pytz>=2017.2 in /usr/local/lib/python3.7/dist-packages (from pandas->geoplot) (2018.9)\n",
            "Requirement already satisfied: certifi in /usr/local/lib/python3.7/dist-packages (from pyproj>=2.2.0->geopandas->geoplot) (2020.12.5)\n",
            "Requirement already satisfied: cligj>=0.5 in /usr/local/lib/python3.7/dist-packages (from fiona>=1.8->geopandas->geoplot) (0.7.1)\n",
            "Requirement already satisfied: attrs>=17 in /usr/local/lib/python3.7/dist-packages (from fiona>=1.8->geopandas->geoplot) (20.3.0)\n",
            "Requirement already satisfied: munch in /usr/local/lib/python3.7/dist-packages (from fiona>=1.8->geopandas->geoplot) (2.5.0)\n",
            "Requirement already satisfied: click<8,>=4.0 in /usr/local/lib/python3.7/dist-packages (from fiona>=1.8->geopandas->geoplot) (7.1.2)\n",
            "Requirement already satisfied: click-plugins>=1.0 in /usr/local/lib/python3.7/dist-packages (from fiona>=1.8->geopandas->geoplot) (1.1.1)\n",
            "Requirement already satisfied: chardet<4,>=3.0.2 in /usr/local/lib/python3.7/dist-packages (from requests->contextily>=1.0.0->geoplot) (3.0.4)\n",
            "Requirement already satisfied: idna<3,>=2.5 in /usr/local/lib/python3.7/dist-packages (from requests->contextily>=1.0.0->geoplot) (2.10)\n",
            "Requirement already satisfied: urllib3!=1.25.0,!=1.25.1,<1.26,>=1.21.1 in /usr/local/lib/python3.7/dist-packages (from requests->contextily>=1.0.0->geoplot) (1.24.3)\n",
            "Requirement already satisfied: geographiclib<2,>=1.49 in /usr/local/lib/python3.7/dist-packages (from geopy->contextily>=1.0.0->geoplot) (1.50)\n",
            "Requirement already satisfied: snuggs>=1.4.1 in /usr/local/lib/python3.7/dist-packages (from rasterio->contextily>=1.0.0->geoplot) (1.4.7)\n",
            "Requirement already satisfied: affine in /usr/local/lib/python3.7/dist-packages (from rasterio->contextily>=1.0.0->geoplot) (2.3.0)\n",
            "Requirement already satisfied: decorator>=4.3.0 in /usr/local/lib/python3.7/dist-packages (from networkx->mapclassify>=2.1->geoplot) (4.4.2)\n"
          ],
          "name": "stdout"
        }
      ]
    },
    {
      "cell_type": "code",
      "metadata": {
        "id": "ykye8vMFH_1Y",
        "colab": {
          "base_uri": "https://localhost:8080/"
        },
        "outputId": "fa61fc37-e2f7-4f1a-f39e-3d611aa52d9f"
      },
      "source": [
        "pip install pydeck"
      ],
      "execution_count": null,
      "outputs": [
        {
          "output_type": "stream",
          "text": [
            "Requirement already satisfied: pydeck in /usr/local/lib/python3.7/dist-packages (0.6.1)\n",
            "Requirement already satisfied: jinja2>=2.10.1 in /usr/local/lib/python3.7/dist-packages (from pydeck) (2.11.3)\n",
            "Requirement already satisfied: ipykernel>=5.1.2; python_version >= \"3.4\" in /usr/local/lib/python3.7/dist-packages (from pydeck) (5.5.0)\n",
            "Requirement already satisfied: ipywidgets>=7.0.0 in /usr/local/lib/python3.7/dist-packages (from pydeck) (7.6.3)\n",
            "Requirement already satisfied: numpy>=1.16.4 in /usr/local/lib/python3.7/dist-packages (from pydeck) (1.19.5)\n",
            "Requirement already satisfied: traitlets>=4.3.2 in /usr/local/lib/python3.7/dist-packages (from pydeck) (5.0.5)\n",
            "Requirement already satisfied: MarkupSafe>=0.23 in /usr/local/lib/python3.7/dist-packages (from jinja2>=2.10.1->pydeck) (1.1.1)\n",
            "Requirement already satisfied: ipython>=5.0.0 in /usr/local/lib/python3.7/dist-packages (from ipykernel>=5.1.2; python_version >= \"3.4\"->pydeck) (5.5.0)\n",
            "Requirement already satisfied: jupyter-client in /usr/local/lib/python3.7/dist-packages (from ipykernel>=5.1.2; python_version >= \"3.4\"->pydeck) (5.3.5)\n",
            "Requirement already satisfied: tornado>=4.2 in /usr/local/lib/python3.7/dist-packages (from ipykernel>=5.1.2; python_version >= \"3.4\"->pydeck) (5.1.1)\n",
            "Requirement already satisfied: widgetsnbextension~=3.5.0 in /usr/local/lib/python3.7/dist-packages (from ipywidgets>=7.0.0->pydeck) (3.5.1)\n",
            "Requirement already satisfied: nbformat>=4.2.0 in /usr/local/lib/python3.7/dist-packages (from ipywidgets>=7.0.0->pydeck) (5.1.2)\n",
            "Requirement already satisfied: jupyterlab-widgets>=1.0.0; python_version >= \"3.6\" in /usr/local/lib/python3.7/dist-packages (from ipywidgets>=7.0.0->pydeck) (1.0.0)\n",
            "Requirement already satisfied: ipython-genutils in /usr/local/lib/python3.7/dist-packages (from traitlets>=4.3.2->pydeck) (0.2.0)\n",
            "Requirement already satisfied: pygments in /usr/local/lib/python3.7/dist-packages (from ipython>=5.0.0->ipykernel>=5.1.2; python_version >= \"3.4\"->pydeck) (2.6.1)\n",
            "Requirement already satisfied: pickleshare in /usr/local/lib/python3.7/dist-packages (from ipython>=5.0.0->ipykernel>=5.1.2; python_version >= \"3.4\"->pydeck) (0.7.5)\n",
            "Requirement already satisfied: decorator in /usr/local/lib/python3.7/dist-packages (from ipython>=5.0.0->ipykernel>=5.1.2; python_version >= \"3.4\"->pydeck) (4.4.2)\n",
            "Requirement already satisfied: simplegeneric>0.8 in /usr/local/lib/python3.7/dist-packages (from ipython>=5.0.0->ipykernel>=5.1.2; python_version >= \"3.4\"->pydeck) (0.8.1)\n",
            "Requirement already satisfied: prompt-toolkit<2.0.0,>=1.0.4 in /usr/local/lib/python3.7/dist-packages (from ipython>=5.0.0->ipykernel>=5.1.2; python_version >= \"3.4\"->pydeck) (1.0.18)\n",
            "Requirement already satisfied: setuptools>=18.5 in /usr/local/lib/python3.7/dist-packages (from ipython>=5.0.0->ipykernel>=5.1.2; python_version >= \"3.4\"->pydeck) (54.0.0)\n",
            "Requirement already satisfied: pexpect; sys_platform != \"win32\" in /usr/local/lib/python3.7/dist-packages (from ipython>=5.0.0->ipykernel>=5.1.2; python_version >= \"3.4\"->pydeck) (4.8.0)\n",
            "Requirement already satisfied: jupyter-core>=4.6.0 in /usr/local/lib/python3.7/dist-packages (from jupyter-client->ipykernel>=5.1.2; python_version >= \"3.4\"->pydeck) (4.7.1)\n",
            "Requirement already satisfied: python-dateutil>=2.1 in /usr/local/lib/python3.7/dist-packages (from jupyter-client->ipykernel>=5.1.2; python_version >= \"3.4\"->pydeck) (2.8.1)\n",
            "Requirement already satisfied: pyzmq>=13 in /usr/local/lib/python3.7/dist-packages (from jupyter-client->ipykernel>=5.1.2; python_version >= \"3.4\"->pydeck) (22.0.3)\n",
            "Requirement already satisfied: notebook>=4.4.1 in /usr/local/lib/python3.7/dist-packages (from widgetsnbextension~=3.5.0->ipywidgets>=7.0.0->pydeck) (5.3.1)\n",
            "Requirement already satisfied: jsonschema!=2.5.0,>=2.4 in /usr/local/lib/python3.7/dist-packages (from nbformat>=4.2.0->ipywidgets>=7.0.0->pydeck) (2.6.0)\n",
            "Requirement already satisfied: wcwidth in /usr/local/lib/python3.7/dist-packages (from prompt-toolkit<2.0.0,>=1.0.4->ipython>=5.0.0->ipykernel>=5.1.2; python_version >= \"3.4\"->pydeck) (0.2.5)\n",
            "Requirement already satisfied: six>=1.9.0 in /usr/local/lib/python3.7/dist-packages (from prompt-toolkit<2.0.0,>=1.0.4->ipython>=5.0.0->ipykernel>=5.1.2; python_version >= \"3.4\"->pydeck) (1.15.0)\n",
            "Requirement already satisfied: ptyprocess>=0.5 in /usr/local/lib/python3.7/dist-packages (from pexpect; sys_platform != \"win32\"->ipython>=5.0.0->ipykernel>=5.1.2; python_version >= \"3.4\"->pydeck) (0.7.0)\n",
            "Requirement already satisfied: terminado>=0.8.1 in /usr/local/lib/python3.7/dist-packages (from notebook>=4.4.1->widgetsnbextension~=3.5.0->ipywidgets>=7.0.0->pydeck) (0.9.2)\n",
            "Requirement already satisfied: Send2Trash in /usr/local/lib/python3.7/dist-packages (from notebook>=4.4.1->widgetsnbextension~=3.5.0->ipywidgets>=7.0.0->pydeck) (1.5.0)\n",
            "Requirement already satisfied: nbconvert in /usr/local/lib/python3.7/dist-packages (from notebook>=4.4.1->widgetsnbextension~=3.5.0->ipywidgets>=7.0.0->pydeck) (5.6.1)\n",
            "Requirement already satisfied: mistune<2,>=0.8.1 in /usr/local/lib/python3.7/dist-packages (from nbconvert->notebook>=4.4.1->widgetsnbextension~=3.5.0->ipywidgets>=7.0.0->pydeck) (0.8.4)\n",
            "Requirement already satisfied: testpath in /usr/local/lib/python3.7/dist-packages (from nbconvert->notebook>=4.4.1->widgetsnbextension~=3.5.0->ipywidgets>=7.0.0->pydeck) (0.4.4)\n",
            "Requirement already satisfied: entrypoints>=0.2.2 in /usr/local/lib/python3.7/dist-packages (from nbconvert->notebook>=4.4.1->widgetsnbextension~=3.5.0->ipywidgets>=7.0.0->pydeck) (0.3)\n",
            "Requirement already satisfied: defusedxml in /usr/local/lib/python3.7/dist-packages (from nbconvert->notebook>=4.4.1->widgetsnbextension~=3.5.0->ipywidgets>=7.0.0->pydeck) (0.6.0)\n",
            "Requirement already satisfied: pandocfilters>=1.4.1 in /usr/local/lib/python3.7/dist-packages (from nbconvert->notebook>=4.4.1->widgetsnbextension~=3.5.0->ipywidgets>=7.0.0->pydeck) (1.4.3)\n",
            "Requirement already satisfied: bleach in /usr/local/lib/python3.7/dist-packages (from nbconvert->notebook>=4.4.1->widgetsnbextension~=3.5.0->ipywidgets>=7.0.0->pydeck) (3.3.0)\n",
            "Requirement already satisfied: webencodings in /usr/local/lib/python3.7/dist-packages (from bleach->nbconvert->notebook>=4.4.1->widgetsnbextension~=3.5.0->ipywidgets>=7.0.0->pydeck) (0.5.1)\n",
            "Requirement already satisfied: packaging in /usr/local/lib/python3.7/dist-packages (from bleach->nbconvert->notebook>=4.4.1->widgetsnbextension~=3.5.0->ipywidgets>=7.0.0->pydeck) (20.9)\n",
            "Requirement already satisfied: pyparsing>=2.0.2 in /usr/local/lib/python3.7/dist-packages (from packaging->bleach->nbconvert->notebook>=4.4.1->widgetsnbextension~=3.5.0->ipywidgets>=7.0.0->pydeck) (2.4.7)\n"
          ],
          "name": "stdout"
        }
      ]
    },
    {
      "cell_type": "code",
      "metadata": {
        "id": "5VG_evBzLLq6",
        "colab": {
          "base_uri": "https://localhost:8080/"
        },
        "outputId": "dcb15489-dc4d-4a80-cfea-8f27f16a166a"
      },
      "source": [
        "pip install mip"
      ],
      "execution_count": null,
      "outputs": [
        {
          "output_type": "stream",
          "text": [
            "Requirement already satisfied: mip in /usr/local/lib/python3.7/dist-packages (1.13.0)\n",
            "Requirement already satisfied: cffi in /usr/local/lib/python3.7/dist-packages (from mip) (1.14.5)\n",
            "Requirement already satisfied: pycparser in /usr/local/lib/python3.7/dist-packages (from cffi->mip) (2.20)\n"
          ],
          "name": "stdout"
        }
      ]
    },
    {
      "cell_type": "code",
      "metadata": {
        "id": "yJr-GWdPLM2Q",
        "colab": {
          "base_uri": "https://localhost:8080/"
        },
        "outputId": "9e0f2892-6709-4230-83eb-d9beeadef086"
      },
      "source": [
        "pip install geopandas"
      ],
      "execution_count": null,
      "outputs": [
        {
          "output_type": "stream",
          "text": [
            "Requirement already satisfied: geopandas in /usr/local/lib/python3.7/dist-packages (0.9.0)\n",
            "Requirement already satisfied: pyproj>=2.2.0 in /usr/local/lib/python3.7/dist-packages (from geopandas) (3.0.1)\n",
            "Requirement already satisfied: fiona>=1.8 in /usr/local/lib/python3.7/dist-packages (from geopandas) (1.8.18)\n",
            "Requirement already satisfied: shapely>=1.6 in /usr/local/lib/python3.7/dist-packages (from geopandas) (1.7.1)\n",
            "Requirement already satisfied: pandas>=0.24.0 in /usr/local/lib/python3.7/dist-packages (from geopandas) (1.1.5)\n",
            "Requirement already satisfied: certifi in /usr/local/lib/python3.7/dist-packages (from pyproj>=2.2.0->geopandas) (2020.12.5)\n",
            "Requirement already satisfied: click-plugins>=1.0 in /usr/local/lib/python3.7/dist-packages (from fiona>=1.8->geopandas) (1.1.1)\n",
            "Requirement already satisfied: click<8,>=4.0 in /usr/local/lib/python3.7/dist-packages (from fiona>=1.8->geopandas) (7.1.2)\n",
            "Requirement already satisfied: six>=1.7 in /usr/local/lib/python3.7/dist-packages (from fiona>=1.8->geopandas) (1.15.0)\n",
            "Requirement already satisfied: cligj>=0.5 in /usr/local/lib/python3.7/dist-packages (from fiona>=1.8->geopandas) (0.7.1)\n",
            "Requirement already satisfied: munch in /usr/local/lib/python3.7/dist-packages (from fiona>=1.8->geopandas) (2.5.0)\n",
            "Requirement already satisfied: attrs>=17 in /usr/local/lib/python3.7/dist-packages (from fiona>=1.8->geopandas) (20.3.0)\n",
            "Requirement already satisfied: pytz>=2017.2 in /usr/local/lib/python3.7/dist-packages (from pandas>=0.24.0->geopandas) (2018.9)\n",
            "Requirement already satisfied: numpy>=1.15.4 in /usr/local/lib/python3.7/dist-packages (from pandas>=0.24.0->geopandas) (1.19.5)\n",
            "Requirement already satisfied: python-dateutil>=2.7.3 in /usr/local/lib/python3.7/dist-packages (from pandas>=0.24.0->geopandas) (2.8.1)\n"
          ],
          "name": "stdout"
        }
      ]
    },
    {
      "cell_type": "code",
      "metadata": {
        "colab": {
          "base_uri": "https://localhost:8080/"
        },
        "id": "hi2c8-qL__qk",
        "outputId": "4c19f79c-47b6-4222-9028-a69cd6a71539"
      },
      "source": [
        "import pathlib\r\n",
        "import random\r\n",
        "from functools import reduce\r\n",
        "from collections import defaultdict\r\n",
        "\r\n",
        "# import pandas as pd\r\n",
        "import geopandas as gpd\r\n",
        "import folium\r\n",
        "import shapely\r\n",
        "import fiona\r\n",
        "# import numpy as np\r\n",
        "from IPython.display import display\r\n",
        "import matplotlib.pyplot as plt\r\n",
        "from tqdm.notebook import tqdm\r\n",
        "import sklearn.cluster\r\n",
        "# import tensorflow as tf\r\n",
        "\r\n",
        "#from geoband import API\r\n",
        "\r\n",
        "import pydeck as pdk\r\n",
        "import os\r\n",
        "\r\n",
        "import cufflinks as cf \r\n",
        "cf.go_offline(connected=True)\r\n",
        "cf.set_config_file(theme='polar')\r\n",
        "\r\n",
        "pd.set_option('display.max_columns', 500)\r\n",
        "pd.set_option('display.width', 1000)\r\n",
        "\r\n",
        "import warnings\r\n",
        "warnings.filterwarnings('ignore')\r\n",
        "\r\n",
        "import matplotlib.pyplot as plt\r\n",
        "# plt.rcParams[\"font.family\"] = 'Nanum Gothic'\r\n",
        "plt.rc('font', family='NanumBarunGothic') \r\n",
        "\r\n",
        "from shapely.geometry import Polygon, Point\r\n",
        "from numpy import random\r\n",
        "\r\n",
        "#최적화 solver\r\n",
        "import time\r\n",
        "from mip import Model, xsum, maximize, BINARY  "
      ],
      "execution_count": null,
      "outputs": [
        {
          "output_type": "display_data",
          "data": {
            "text/html": [
              "        <script type=\"text/javascript\">\n",
              "        window.PlotlyConfig = {MathJaxConfig: 'local'};\n",
              "        if (window.MathJax) {MathJax.Hub.Config({SVG: {font: \"STIX-Web\"}});}\n",
              "        if (typeof require !== 'undefined') {\n",
              "        require.undef(\"plotly\");\n",
              "        requirejs.config({\n",
              "            paths: {\n",
              "                'plotly': ['https://cdn.plot.ly/plotly-latest.min']\n",
              "            }\n",
              "        });\n",
              "        require(['plotly'], function(Plotly) {\n",
              "            window._Plotly = Plotly;\n",
              "        });\n",
              "        }\n",
              "        </script>\n",
              "        "
            ]
          },
          "metadata": {
            "tags": []
          }
        }
      ]
    },
    {
      "cell_type": "code",
      "metadata": {
        "id": "w2Eqql1d91yN"
      },
      "source": [
        "#Pydeck 사용을 위한 함수 정의\r\n",
        "import geopandas as gpd \r\n",
        "import shapely # Shapely 형태의 데이터를 받아 내부 좌표들을 List안에 반환합니다. \r\n",
        "def line_string_to_coordinates(line_string): \r\n",
        "    if isinstance(line_string, shapely.geometry.linestring.LineString): \r\n",
        "        lon, lat = line_string.xy \r\n",
        "        return [[x, y] for x, y in zip(lon, lat)] \r\n",
        "    elif isinstance(line_string, shapely.geometry.multilinestring.MultiLineString): \r\n",
        "        ret = [] \r\n",
        "        for i in range(len(line_string)): \r\n",
        "            lon, lat = line_string[i].xy \r\n",
        "            for x, y in zip(lon, lat): \r\n",
        "                ret.append([x, y])\r\n",
        "        return ret \r\n",
        "\r\n",
        "def multipolygon_to_coordinates(x): \r\n",
        "    lon, lat = x[0].exterior.xy \r\n",
        "    return [[x, y] for x, y in zip(lon, lat)] \r\n",
        "\r\n",
        "def polygon_to_coordinates(x): \r\n",
        "    lon, lat = x.exterior.xy \r\n",
        "    return [[x, y] for x, y in zip(lon, lat)] "
      ],
      "execution_count": null,
      "outputs": []
    },
    {
      "cell_type": "code",
      "metadata": {
        "id": "NmzO4-X6_ktX"
      },
      "source": [
        "def geo_to_df(df_whatwillread, na_col=None, norm_col=None, geotype='multipolygon'):\r\n",
        "\r\n",
        "    # 격자별 인구 현황\r\n",
        "    # df_08= gpd.read_file(\"../../data/GY/input/08.광양시_격자별인구현황(100X100).geojson\")  --> df\r\n",
        "    df_08 = df_whatwillread\r\n",
        "\r\n",
        "    # val 열 na 제거\r\n",
        "    if na_col != None:\r\n",
        "      df_08[na_col] = df_08[na_col].fillna(0)\r\n",
        "\r\n",
        "\r\n",
        "    # 인구 수 정규화\r\n",
        "    if norm_col != None:\r\n",
        "      df_08['정규화'] = df_08[norm_col] / df_08[norm_col].max()\r\n",
        "\r\n",
        "    # geotype == 'multipolygon'\r\n",
        "    if geotype == 'multipolygon':\r\n",
        "      # geometry를 coordinate 형태로 적용\r\n",
        "      df_08['coordinates'] = df_08['geometry'].apply(multipolygon_to_coordinates) #pydeck 을 위한 coordinate type\r\n",
        "    elif geotype == 'multilinestring':\r\n",
        "      df_08['coordinates'] = df_08['geometry'].apply(line_string_to_coordinates) \r\n",
        "    elif geotype == 'polygon':\r\n",
        "      df_08['coordinates'] = df_08['geometry'].apply(polygon_to_coordinates)\r\n",
        "    elif geotype == 'multipoint':\r\n",
        "      df_08['coordinates'] = df_08['geometry'].apply(multipoint_to_coordinates)        \r\n",
        "\r\n",
        "    # 100X100 grid에서 central point 찾기\r\n",
        "    df_08_list = []\r\n",
        "    df_08_list2 = []\r\n",
        "    for i in df_08['geometry']:\r\n",
        "        cent = [[i[0].centroid.coords[0][0],i[0].centroid.coords[0][1]]]\r\n",
        "        df_08_list.append(cent)\r\n",
        "        df_08_list2.append(Point(cent[0]))\r\n",
        "    df_08['coord_cent'] = 0\r\n",
        "    df_08['geo_cent'] = 0\r\n",
        "    df_08['coord_cent']= pd.DataFrame(df_08_list) # pydeck을 위한 coordinate type\r\n",
        "    df_08['geo_cent'] = df_08_list2               # geopandas를 위한 geometry type\r\n",
        "\r\n",
        "\r\n",
        "    # 쉬운 분석을 위한 임의의 grid id 부여\r\n",
        "    df_08['grid_id']=0\r\n",
        "    idx = []\r\n",
        "    for i in range(len(df_08)):\r\n",
        "        idx.append(str(i).zfill(5))\r\n",
        "    df_08['grid_id'] = pd.DataFrame(idx)"
      ],
      "execution_count": null,
      "outputs": []
    },
    {
      "cell_type": "code",
      "metadata": {
        "id": "lVnssdhz6g7L"
      },
      "source": [
        "# for gpd plot\r\n",
        "def gpdplot(dataframe, gpd_col, title=\"\", show=True, cmap='YlGnBu_r', sub=False, nrow=None, ncol=None, figsize=(5, 5)):\r\n",
        "    if sub == True:\r\n",
        "        count=0\r\n",
        "        fig, axes = plt.subplots(nrow, ncol, figsize=figsize)\r\n",
        "        for r in range(nrow):\r\n",
        "            if count > len(dataframe): break\r\n",
        "            for c in range(ncol):\r\n",
        "                if count >= len(dataframe): break\r\n",
        "                ax = dataframe[count].plot(column=gpd_col[count], cmap=cmap, ax=axes[r,c])\r\n",
        "                ax.set_title(title[count], fontsize=20)\r\n",
        "                ax.set_axis_off()\r\n",
        "                count += 1\r\n",
        "                            \r\n",
        "    else:\r\n",
        "        ax = dataframe.plot(column=gpd_col, cmap=cmap, figsize=figsize)\r\n",
        "        ax.set_title(title, fontsize=20)\r\n",
        "        ax.set_axis_off()\r\n",
        "    if show == True:\r\n",
        "        plt.show()"
      ],
      "execution_count": null,
      "outputs": []
    },
    {
      "cell_type": "markdown",
      "metadata": {
        "id": "lg2Fapm1dKuG"
      },
      "source": [
        "## Data"
      ]
    },
    {
      "cell_type": "markdown",
      "metadata": {
        "id": "x8Wko39pehET"
      },
      "source": [
        "![image.png](data:image/png;base64,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)\r\n",
        "![image.png](data:image/png;base64,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)"
      ]
    },
    {
      "cell_type": "markdown",
      "metadata": {
        "id": "3f_iiZ4sl1xT"
      },
      "source": [
        "요일별 생략 가능 -> 시간대별 데이터 나눠서 사용\r\n"
      ]
    },
    {
      "cell_type": "code",
      "metadata": {
        "id": "aQNuqPPtG4CE",
        "colab": {
          "base_uri": "https://localhost:8080/"
        },
        "outputId": "fd76c4d4-e961-4a56-c109-3bc953dca99d"
      },
      "source": [
        "from google.colab import drive\r\n",
        "drive.mount('/content/drive')\r\n",
        "colab_path = '/content/drive/MyDrive/Colab Notebooks/data/LH/'\r\n",
        "# colab_path = '/content/drive/MyDrive/data/LH/'"
      ],
      "execution_count": null,
      "outputs": [
        {
          "output_type": "stream",
          "text": [
            "Drive already mounted at /content/drive; to attempt to forcibly remount, call drive.mount(\"/content/drive\", force_remount=True).\n"
          ],
          "name": "stdout"
        }
      ]
    },
    {
      "cell_type": "markdown",
      "metadata": {
        "id": "Nnl2Hzh3ZW8G"
      },
      "source": [
        "### csv"
      ]
    },
    {
      "cell_type": "code",
      "metadata": {
        "colab": {
          "base_uri": "https://localhost:8080/",
          "height": 194
        },
        "id": "hWqPaGvxYyjJ",
        "outputId": "f53969e0-c007-455a-98a3-1807a15aabe7"
      },
      "source": [
        "df_버정 = pd.read_csv(colab_path + '1.버스정류장_mod(utf-8).csv', usecols=['정류장ID', '쉘터', 'BIS설치여부', 'lon', 'lat'])\r\n",
        "df_버정.head()"
      ],
      "execution_count": null,
      "outputs": [
        {
          "output_type": "execute_result",
          "data": {
            "text/html": [
              "<div>\n",
              "<style scoped>\n",
              "    .dataframe tbody tr th:only-of-type {\n",
              "        vertical-align: middle;\n",
              "    }\n",
              "\n",
              "    .dataframe tbody tr th {\n",
              "        vertical-align: top;\n",
              "    }\n",
              "\n",
              "    .dataframe thead th {\n",
              "        text-align: right;\n",
              "    }\n",
              "</style>\n",
              "<table border=\"1\" class=\"dataframe\">\n",
              "  <thead>\n",
              "    <tr style=\"text-align: right;\">\n",
              "      <th></th>\n",
              "      <th>정류장ID</th>\n",
              "      <th>쉘터</th>\n",
              "      <th>BIS설치여부</th>\n",
              "      <th>lon</th>\n",
              "      <th>lat</th>\n",
              "    </tr>\n",
              "  </thead>\n",
              "  <tbody>\n",
              "    <tr>\n",
              "      <th>0</th>\n",
              "      <td>201000313</td>\n",
              "      <td>1.0</td>\n",
              "      <td>1.0</td>\n",
              "      <td>126.970983</td>\n",
              "      <td>37.256983</td>\n",
              "    </tr>\n",
              "    <tr>\n",
              "      <th>1</th>\n",
              "      <td>201000345</td>\n",
              "      <td>NaN</td>\n",
              "      <td>1.0</td>\n",
              "      <td>127.016000</td>\n",
              "      <td>37.251091</td>\n",
              "    </tr>\n",
              "    <tr>\n",
              "      <th>2</th>\n",
              "      <td>201000379</td>\n",
              "      <td>NaN</td>\n",
              "      <td>1.0</td>\n",
              "      <td>126.953845</td>\n",
              "      <td>37.268806</td>\n",
              "    </tr>\n",
              "    <tr>\n",
              "      <th>3</th>\n",
              "      <td>201000055</td>\n",
              "      <td>NaN</td>\n",
              "      <td>1.0</td>\n",
              "      <td>127.029815</td>\n",
              "      <td>37.256755</td>\n",
              "    </tr>\n",
              "    <tr>\n",
              "      <th>4</th>\n",
              "      <td>201000268</td>\n",
              "      <td>1.0</td>\n",
              "      <td>1.0</td>\n",
              "      <td>127.034254</td>\n",
              "      <td>37.246081</td>\n",
              "    </tr>\n",
              "  </tbody>\n",
              "</table>\n",
              "</div>"
            ],
            "text/plain": [
              "       정류장ID   쉘터  BIS설치여부         lon        lat\n",
              "0  201000313  1.0      1.0  126.970983  37.256983\n",
              "1  201000345  NaN      1.0  127.016000  37.251091\n",
              "2  201000379  NaN      1.0  126.953845  37.268806\n",
              "3  201000055  NaN      1.0  127.029815  37.256755\n",
              "4  201000268  1.0      1.0  127.034254  37.246081"
            ]
          },
          "metadata": {
            "tags": []
          },
          "execution_count": 179
        }
      ]
    },
    {
      "cell_type": "code",
      "metadata": {
        "colab": {
          "base_uri": "https://localhost:8080/"
        },
        "id": "z4RlELnyZZRK",
        "outputId": "e712aad1-61b5-4e2b-ff58-1bc699941643"
      },
      "source": [
        "df_버정 = df_버정.fillna(0)\r\n",
        "df_BIS = df_버정[df_버정['BIS설치여부'] == 1.0]\r\n",
        "df_BIS.info()"
      ],
      "execution_count": null,
      "outputs": [
        {
          "output_type": "stream",
          "text": [
            "<class 'pandas.core.frame.DataFrame'>\n",
            "Int64Index: 928 entries, 0 to 927\n",
            "Data columns (total 5 columns):\n",
            " #   Column   Non-Null Count  Dtype  \n",
            "---  ------   --------------  -----  \n",
            " 0   정류장ID    928 non-null    int64  \n",
            " 1   쉘터       928 non-null    float64\n",
            " 2   BIS설치여부  928 non-null    float64\n",
            " 3   lon      928 non-null    float64\n",
            " 4   lat      928 non-null    float64\n",
            "dtypes: float64(4), int64(1)\n",
            "memory usage: 43.5 KB\n"
          ],
          "name": "stdout"
        }
      ]
    },
    {
      "cell_type": "markdown",
      "metadata": {
        "id": "b5bVH5qr6wS5"
      },
      "source": [
        "#### <b>df_대기오염도</b>: 11.대기오염도_측정현황.csv\r\n",
        "- 시각화: folium - 법정시군구별, 버스 정류장, 미세먼지 top 10"
      ]
    },
    {
      "cell_type": "code",
      "metadata": {
        "colab": {
          "base_uri": "https://localhost:8080/",
          "height": 737
        },
        "id": "zbUwAMf4es0d",
        "outputId": "3fa84503-4a3d-4499-8eb5-85b74c9f591e"
      },
      "source": [
        "df_대기오염도 = pd.read_csv(colab_path + \"11.대기오염도_측정현황_mod(utf-8).csv\")\r\n",
        "df_대기오염도.info()\r\n",
        "\r\n",
        "#설치전 null값 -> 0으로 처리\r\n",
        "df_대기오염도 = df_대기오염도.fillna(0)\r\n",
        "df_대기오염도"
      ],
      "execution_count": null,
      "outputs": [
        {
          "output_type": "stream",
          "text": [
            "<class 'pandas.core.frame.DataFrame'>\n",
            "RangeIndex: 192 entries, 0 to 191\n",
            "Data columns (total 12 columns):\n",
            " #   Column      Non-Null Count  Dtype  \n",
            "---  ------      --------------  -----  \n",
            " 0   구분          192 non-null    object \n",
            " 1   측정연도        192 non-null    int64  \n",
            " 2   측정월         192 non-null    int64  \n",
            " 3   측정소         192 non-null    object \n",
            " 4   미세먼지        189 non-null    float64\n",
            " 5   초미세먼지       189 non-null    float64\n",
            " 6   오존          189 non-null    float64\n",
            " 7   이산화질소       189 non-null    float64\n",
            " 8   아황산가스(ppm)  189 non-null    float64\n",
            " 9   일산화탄소       189 non-null    float64\n",
            " 10  lon         192 non-null    float64\n",
            " 11  lat         192 non-null    float64\n",
            "dtypes: float64(8), int64(2), object(2)\n",
            "memory usage: 18.1+ KB\n"
          ],
          "name": "stdout"
        },
        {
          "output_type": "execute_result",
          "data": {
            "text/html": [
              "<div>\n",
              "<style scoped>\n",
              "    .dataframe tbody tr th:only-of-type {\n",
              "        vertical-align: middle;\n",
              "    }\n",
              "\n",
              "    .dataframe tbody tr th {\n",
              "        vertical-align: top;\n",
              "    }\n",
              "\n",
              "    .dataframe thead th {\n",
              "        text-align: right;\n",
              "    }\n",
              "</style>\n",
              "<table border=\"1\" class=\"dataframe\">\n",
              "  <thead>\n",
              "    <tr style=\"text-align: right;\">\n",
              "      <th></th>\n",
              "      <th>구분</th>\n",
              "      <th>측정연도</th>\n",
              "      <th>측정월</th>\n",
              "      <th>측정소</th>\n",
              "      <th>미세먼지</th>\n",
              "      <th>초미세먼지</th>\n",
              "      <th>오존</th>\n",
              "      <th>이산화질소</th>\n",
              "      <th>아황산가스(ppm)</th>\n",
              "      <th>일산화탄소</th>\n",
              "      <th>lon</th>\n",
              "      <th>lat</th>\n",
              "    </tr>\n",
              "  </thead>\n",
              "  <tbody>\n",
              "    <tr>\n",
              "      <th>0</th>\n",
              "      <td>도시대기</td>\n",
              "      <td>2019</td>\n",
              "      <td>1</td>\n",
              "      <td>고색동</td>\n",
              "      <td>62.0</td>\n",
              "      <td>41.0</td>\n",
              "      <td>0.010</td>\n",
              "      <td>0.042</td>\n",
              "      <td>0.005</td>\n",
              "      <td>0.8</td>\n",
              "      <td>126.976384</td>\n",
              "      <td>37.252329</td>\n",
              "    </tr>\n",
              "    <tr>\n",
              "      <th>1</th>\n",
              "      <td>도시대기</td>\n",
              "      <td>2019</td>\n",
              "      <td>2</td>\n",
              "      <td>고색동</td>\n",
              "      <td>55.0</td>\n",
              "      <td>36.0</td>\n",
              "      <td>0.015</td>\n",
              "      <td>0.037</td>\n",
              "      <td>0.004</td>\n",
              "      <td>0.7</td>\n",
              "      <td>126.976384</td>\n",
              "      <td>37.252329</td>\n",
              "    </tr>\n",
              "    <tr>\n",
              "      <th>2</th>\n",
              "      <td>도시대기</td>\n",
              "      <td>2019</td>\n",
              "      <td>3</td>\n",
              "      <td>고색동</td>\n",
              "      <td>66.0</td>\n",
              "      <td>47.0</td>\n",
              "      <td>0.024</td>\n",
              "      <td>0.033</td>\n",
              "      <td>0.004</td>\n",
              "      <td>0.7</td>\n",
              "      <td>126.976384</td>\n",
              "      <td>37.252329</td>\n",
              "    </tr>\n",
              "    <tr>\n",
              "      <th>3</th>\n",
              "      <td>도시대기</td>\n",
              "      <td>2019</td>\n",
              "      <td>4</td>\n",
              "      <td>고색동</td>\n",
              "      <td>36.0</td>\n",
              "      <td>19.0</td>\n",
              "      <td>0.029</td>\n",
              "      <td>0.030</td>\n",
              "      <td>0.003</td>\n",
              "      <td>0.5</td>\n",
              "      <td>126.976384</td>\n",
              "      <td>37.252329</td>\n",
              "    </tr>\n",
              "    <tr>\n",
              "      <th>4</th>\n",
              "      <td>도시대기</td>\n",
              "      <td>2019</td>\n",
              "      <td>5</td>\n",
              "      <td>고색동</td>\n",
              "      <td>43.0</td>\n",
              "      <td>25.0</td>\n",
              "      <td>0.041</td>\n",
              "      <td>0.025</td>\n",
              "      <td>0.004</td>\n",
              "      <td>0.5</td>\n",
              "      <td>126.976384</td>\n",
              "      <td>37.252329</td>\n",
              "    </tr>\n",
              "    <tr>\n",
              "      <th>...</th>\n",
              "      <td>...</td>\n",
              "      <td>...</td>\n",
              "      <td>...</td>\n",
              "      <td>...</td>\n",
              "      <td>...</td>\n",
              "      <td>...</td>\n",
              "      <td>...</td>\n",
              "      <td>...</td>\n",
              "      <td>...</td>\n",
              "      <td>...</td>\n",
              "      <td>...</td>\n",
              "      <td>...</td>\n",
              "    </tr>\n",
              "    <tr>\n",
              "      <th>187</th>\n",
              "      <td>도시대기</td>\n",
              "      <td>2020</td>\n",
              "      <td>8</td>\n",
              "      <td>호매실동</td>\n",
              "      <td>27.0</td>\n",
              "      <td>16.0</td>\n",
              "      <td>0.016</td>\n",
              "      <td>0.014</td>\n",
              "      <td>0.002</td>\n",
              "      <td>0.5</td>\n",
              "      <td>126.957008</td>\n",
              "      <td>37.266153</td>\n",
              "    </tr>\n",
              "    <tr>\n",
              "      <th>188</th>\n",
              "      <td>도시대기</td>\n",
              "      <td>2020</td>\n",
              "      <td>9</td>\n",
              "      <td>호매실동</td>\n",
              "      <td>21.0</td>\n",
              "      <td>12.0</td>\n",
              "      <td>0.026</td>\n",
              "      <td>0.018</td>\n",
              "      <td>0.002</td>\n",
              "      <td>0.5</td>\n",
              "      <td>126.957008</td>\n",
              "      <td>37.266153</td>\n",
              "    </tr>\n",
              "    <tr>\n",
              "      <th>189</th>\n",
              "      <td>도시대기</td>\n",
              "      <td>2020</td>\n",
              "      <td>10</td>\n",
              "      <td>호매실동</td>\n",
              "      <td>38.0</td>\n",
              "      <td>17.0</td>\n",
              "      <td>0.018</td>\n",
              "      <td>0.028</td>\n",
              "      <td>0.003</td>\n",
              "      <td>0.5</td>\n",
              "      <td>126.957008</td>\n",
              "      <td>37.266153</td>\n",
              "    </tr>\n",
              "    <tr>\n",
              "      <th>190</th>\n",
              "      <td>도시대기</td>\n",
              "      <td>2020</td>\n",
              "      <td>11</td>\n",
              "      <td>호매실동</td>\n",
              "      <td>46.0</td>\n",
              "      <td>28.0</td>\n",
              "      <td>0.012</td>\n",
              "      <td>0.034</td>\n",
              "      <td>0.003</td>\n",
              "      <td>0.5</td>\n",
              "      <td>126.957008</td>\n",
              "      <td>37.266153</td>\n",
              "    </tr>\n",
              "    <tr>\n",
              "      <th>191</th>\n",
              "      <td>도시대기</td>\n",
              "      <td>2020</td>\n",
              "      <td>12</td>\n",
              "      <td>호매실동</td>\n",
              "      <td>44.0</td>\n",
              "      <td>27.0</td>\n",
              "      <td>0.010</td>\n",
              "      <td>0.034</td>\n",
              "      <td>0.003</td>\n",
              "      <td>0.5</td>\n",
              "      <td>126.957008</td>\n",
              "      <td>37.266153</td>\n",
              "    </tr>\n",
              "  </tbody>\n",
              "</table>\n",
              "<p>192 rows × 12 columns</p>\n",
              "</div>"
            ],
            "text/plain": [
              "       구분  측정연도  측정월   측정소  미세먼지  초미세먼지     오존  이산화질소  아황산가스(ppm)  일산화탄소         lon        lat\n",
              "0    도시대기  2019    1   고색동  62.0   41.0  0.010  0.042       0.005    0.8  126.976384  37.252329\n",
              "1    도시대기  2019    2   고색동  55.0   36.0  0.015  0.037       0.004    0.7  126.976384  37.252329\n",
              "2    도시대기  2019    3   고색동  66.0   47.0  0.024  0.033       0.004    0.7  126.976384  37.252329\n",
              "3    도시대기  2019    4   고색동  36.0   19.0  0.029  0.030       0.003    0.5  126.976384  37.252329\n",
              "4    도시대기  2019    5   고색동  43.0   25.0  0.041  0.025       0.004    0.5  126.976384  37.252329\n",
              "..    ...   ...  ...   ...   ...    ...    ...    ...         ...    ...         ...        ...\n",
              "187  도시대기  2020    8  호매실동  27.0   16.0  0.016  0.014       0.002    0.5  126.957008  37.266153\n",
              "188  도시대기  2020    9  호매실동  21.0   12.0  0.026  0.018       0.002    0.5  126.957008  37.266153\n",
              "189  도시대기  2020   10  호매실동  38.0   17.0  0.018  0.028       0.003    0.5  126.957008  37.266153\n",
              "190  도시대기  2020   11  호매실동  46.0   28.0  0.012  0.034       0.003    0.5  126.957008  37.266153\n",
              "191  도시대기  2020   12  호매실동  44.0   27.0  0.010  0.034       0.003    0.5  126.957008  37.266153\n",
              "\n",
              "[192 rows x 12 columns]"
            ]
          },
          "metadata": {
            "tags": []
          },
          "execution_count": 14
        }
      ]
    },
    {
      "cell_type": "code",
      "metadata": {
        "colab": {
          "base_uri": "https://localhost:8080/"
        },
        "id": "yEcb8PF8fcTC",
        "outputId": "1c38d4a8-7951-42e2-930b-4f082e1952cd"
      },
      "source": [
        "def 미세먼지_drop(미세먼지):\r\n",
        "  if   미세먼지 <= 30:  cate = \"좋음\"\r\n",
        "  elif 미세먼지 <= 80:  cate = \"보통\"\r\n",
        "  elif 미세먼지 <= 150: cate = \"나쁨\"\r\n",
        "  else:                 cate = \"매우나쁨\"\r\n",
        "  return cate\r\n",
        "\r\n",
        "def 초미세먼지_drop(초미세먼지):\r\n",
        "  if   초미세먼지 <= 15: cate = \"좋음\"\r\n",
        "  elif 초미세먼지 <= 50: cate = \"보통\"\r\n",
        "  elif 초미세먼지 <= 100: cate = \"나쁨\"\r\n",
        "  else:           cate = \"매우나쁨\"\r\n",
        "  return cate\r\n",
        "\r\n",
        "df_대기오염도[\"미세먼지정도\"]   = df_대기오염도[\"미세먼지\"].apply(lambda x: 미세먼지_drop(x))\r\n",
        "df_대기오염도[\"초미세먼지정도\"] = df_대기오염도[\"초미세먼지\"].apply(lambda x: 초미세먼지_drop(x))\r\n",
        "\r\n",
        "df_대기오염도.info()"
      ],
      "execution_count": null,
      "outputs": [
        {
          "output_type": "stream",
          "text": [
            "<class 'pandas.core.frame.DataFrame'>\n",
            "RangeIndex: 192 entries, 0 to 191\n",
            "Data columns (total 14 columns):\n",
            " #   Column      Non-Null Count  Dtype  \n",
            "---  ------      --------------  -----  \n",
            " 0   구분          192 non-null    object \n",
            " 1   측정연도        192 non-null    int64  \n",
            " 2   측정월         192 non-null    int64  \n",
            " 3   측정소         192 non-null    object \n",
            " 4   미세먼지        192 non-null    float64\n",
            " 5   초미세먼지       192 non-null    float64\n",
            " 6   오존          192 non-null    float64\n",
            " 7   이산화질소       192 non-null    float64\n",
            " 8   아황산가스(ppm)  192 non-null    float64\n",
            " 9   일산화탄소       192 non-null    float64\n",
            " 10  lon         192 non-null    float64\n",
            " 11  lat         192 non-null    float64\n",
            " 12  미세먼지정도      192 non-null    object \n",
            " 13  초미세먼지정도     192 non-null    object \n",
            "dtypes: float64(8), int64(2), object(4)\n",
            "memory usage: 21.1+ KB\n"
          ],
          "name": "stdout"
        }
      ]
    },
    {
      "cell_type": "code",
      "metadata": {
        "colab": {
          "base_uri": "https://localhost:8080/",
          "height": 340
        },
        "id": "z9YPfj6igJBq",
        "outputId": "096ff3c1-0dfb-42aa-ee59-a99a33f2d4a2"
      },
      "source": [
        "df_대기오염도 = df_대기오염도.sort_values(by='초미세먼지', ascending=False)\r\n",
        "df_대기오염도 = df_대기오염도.sort_values(by='미세먼지'  , ascending=False)\r\n",
        "\r\n",
        "df_대기오염도_worst = df_대기오염도[:10]\r\n",
        "df_대기오염도_worst"
      ],
      "execution_count": null,
      "outputs": [
        {
          "output_type": "execute_result",
          "data": {
            "text/html": [
              "<div>\n",
              "<style scoped>\n",
              "    .dataframe tbody tr th:only-of-type {\n",
              "        vertical-align: middle;\n",
              "    }\n",
              "\n",
              "    .dataframe tbody tr th {\n",
              "        vertical-align: top;\n",
              "    }\n",
              "\n",
              "    .dataframe thead th {\n",
              "        text-align: right;\n",
              "    }\n",
              "</style>\n",
              "<table border=\"1\" class=\"dataframe\">\n",
              "  <thead>\n",
              "    <tr style=\"text-align: right;\">\n",
              "      <th></th>\n",
              "      <th>구분</th>\n",
              "      <th>측정연도</th>\n",
              "      <th>측정월</th>\n",
              "      <th>측정소</th>\n",
              "      <th>미세먼지</th>\n",
              "      <th>초미세먼지</th>\n",
              "      <th>오존</th>\n",
              "      <th>이산화질소</th>\n",
              "      <th>아황산가스(ppm)</th>\n",
              "      <th>일산화탄소</th>\n",
              "      <th>lon</th>\n",
              "      <th>lat</th>\n",
              "      <th>미세먼지정도</th>\n",
              "      <th>초미세먼지정도</th>\n",
              "    </tr>\n",
              "  </thead>\n",
              "  <tbody>\n",
              "    <tr>\n",
              "      <th>50</th>\n",
              "      <td>도로변</td>\n",
              "      <td>2019</td>\n",
              "      <td>3</td>\n",
              "      <td>동수원</td>\n",
              "      <td>89.0</td>\n",
              "      <td>54.0</td>\n",
              "      <td>0.018</td>\n",
              "      <td>0.047</td>\n",
              "      <td>0.004</td>\n",
              "      <td>0.8</td>\n",
              "      <td>127.030494</td>\n",
              "      <td>37.276744</td>\n",
              "      <td>나쁨</td>\n",
              "      <td>나쁨</td>\n",
              "    </tr>\n",
              "    <tr>\n",
              "      <th>48</th>\n",
              "      <td>도로변</td>\n",
              "      <td>2019</td>\n",
              "      <td>1</td>\n",
              "      <td>동수원</td>\n",
              "      <td>83.0</td>\n",
              "      <td>45.0</td>\n",
              "      <td>0.006</td>\n",
              "      <td>0.050</td>\n",
              "      <td>0.004</td>\n",
              "      <td>1.1</td>\n",
              "      <td>127.030494</td>\n",
              "      <td>37.276744</td>\n",
              "      <td>나쁨</td>\n",
              "      <td>보통</td>\n",
              "    </tr>\n",
              "    <tr>\n",
              "      <th>49</th>\n",
              "      <td>도로변</td>\n",
              "      <td>2019</td>\n",
              "      <td>2</td>\n",
              "      <td>동수원</td>\n",
              "      <td>74.0</td>\n",
              "      <td>43.0</td>\n",
              "      <td>0.010</td>\n",
              "      <td>0.050</td>\n",
              "      <td>0.004</td>\n",
              "      <td>0.9</td>\n",
              "      <td>127.030494</td>\n",
              "      <td>37.276744</td>\n",
              "      <td>보통</td>\n",
              "      <td>보통</td>\n",
              "    </tr>\n",
              "    <tr>\n",
              "      <th>146</th>\n",
              "      <td>도시대기</td>\n",
              "      <td>2019</td>\n",
              "      <td>3</td>\n",
              "      <td>천천동</td>\n",
              "      <td>73.0</td>\n",
              "      <td>49.0</td>\n",
              "      <td>0.027</td>\n",
              "      <td>0.031</td>\n",
              "      <td>0.003</td>\n",
              "      <td>0.6</td>\n",
              "      <td>126.975305</td>\n",
              "      <td>37.292877</td>\n",
              "      <td>보통</td>\n",
              "      <td>보통</td>\n",
              "    </tr>\n",
              "    <tr>\n",
              "      <th>122</th>\n",
              "      <td>도시대기</td>\n",
              "      <td>2019</td>\n",
              "      <td>3</td>\n",
              "      <td>인계동</td>\n",
              "      <td>71.0</td>\n",
              "      <td>50.0</td>\n",
              "      <td>0.026</td>\n",
              "      <td>0.034</td>\n",
              "      <td>0.003</td>\n",
              "      <td>0.7</td>\n",
              "      <td>127.028723</td>\n",
              "      <td>37.263637</td>\n",
              "      <td>보통</td>\n",
              "      <td>보통</td>\n",
              "    </tr>\n",
              "    <tr>\n",
              "      <th>98</th>\n",
              "      <td>도시대기</td>\n",
              "      <td>2019</td>\n",
              "      <td>3</td>\n",
              "      <td>영통동</td>\n",
              "      <td>71.0</td>\n",
              "      <td>41.0</td>\n",
              "      <td>0.027</td>\n",
              "      <td>0.036</td>\n",
              "      <td>0.003</td>\n",
              "      <td>0.7</td>\n",
              "      <td>127.056294</td>\n",
              "      <td>37.246901</td>\n",
              "      <td>보통</td>\n",
              "      <td>보통</td>\n",
              "    </tr>\n",
              "    <tr>\n",
              "      <th>26</th>\n",
              "      <td>도시대기</td>\n",
              "      <td>2019</td>\n",
              "      <td>3</td>\n",
              "      <td>광교동</td>\n",
              "      <td>70.0</td>\n",
              "      <td>46.0</td>\n",
              "      <td>0.024</td>\n",
              "      <td>0.037</td>\n",
              "      <td>0.004</td>\n",
              "      <td>0.6</td>\n",
              "      <td>127.070615</td>\n",
              "      <td>37.291321</td>\n",
              "      <td>보통</td>\n",
              "      <td>보통</td>\n",
              "    </tr>\n",
              "    <tr>\n",
              "      <th>120</th>\n",
              "      <td>도시대기</td>\n",
              "      <td>2019</td>\n",
              "      <td>1</td>\n",
              "      <td>인계동</td>\n",
              "      <td>68.0</td>\n",
              "      <td>42.0</td>\n",
              "      <td>0.013</td>\n",
              "      <td>0.043</td>\n",
              "      <td>0.004</td>\n",
              "      <td>0.9</td>\n",
              "      <td>127.028723</td>\n",
              "      <td>37.263637</td>\n",
              "      <td>보통</td>\n",
              "      <td>보통</td>\n",
              "    </tr>\n",
              "    <tr>\n",
              "      <th>144</th>\n",
              "      <td>도시대기</td>\n",
              "      <td>2019</td>\n",
              "      <td>1</td>\n",
              "      <td>천천동</td>\n",
              "      <td>68.0</td>\n",
              "      <td>39.0</td>\n",
              "      <td>0.012</td>\n",
              "      <td>0.042</td>\n",
              "      <td>0.004</td>\n",
              "      <td>0.7</td>\n",
              "      <td>126.975305</td>\n",
              "      <td>37.292877</td>\n",
              "      <td>보통</td>\n",
              "      <td>보통</td>\n",
              "    </tr>\n",
              "    <tr>\n",
              "      <th>96</th>\n",
              "      <td>도시대기</td>\n",
              "      <td>2019</td>\n",
              "      <td>1</td>\n",
              "      <td>영통동</td>\n",
              "      <td>68.0</td>\n",
              "      <td>23.0</td>\n",
              "      <td>0.010</td>\n",
              "      <td>0.046</td>\n",
              "      <td>0.003</td>\n",
              "      <td>0.9</td>\n",
              "      <td>127.056294</td>\n",
              "      <td>37.246901</td>\n",
              "      <td>보통</td>\n",
              "      <td>보통</td>\n",
              "    </tr>\n",
              "  </tbody>\n",
              "</table>\n",
              "</div>"
            ],
            "text/plain": [
              "       구분  측정연도  측정월  측정소  미세먼지  초미세먼지     오존  이산화질소  아황산가스(ppm)  일산화탄소         lon        lat 미세먼지정도 초미세먼지정도\n",
              "50    도로변  2019    3  동수원  89.0   54.0  0.018  0.047       0.004    0.8  127.030494  37.276744     나쁨      나쁨\n",
              "48    도로변  2019    1  동수원  83.0   45.0  0.006  0.050       0.004    1.1  127.030494  37.276744     나쁨      보통\n",
              "49    도로변  2019    2  동수원  74.0   43.0  0.010  0.050       0.004    0.9  127.030494  37.276744     보통      보통\n",
              "146  도시대기  2019    3  천천동  73.0   49.0  0.027  0.031       0.003    0.6  126.975305  37.292877     보통      보통\n",
              "122  도시대기  2019    3  인계동  71.0   50.0  0.026  0.034       0.003    0.7  127.028723  37.263637     보통      보통\n",
              "98   도시대기  2019    3  영통동  71.0   41.0  0.027  0.036       0.003    0.7  127.056294  37.246901     보통      보통\n",
              "26   도시대기  2019    3  광교동  70.0   46.0  0.024  0.037       0.004    0.6  127.070615  37.291321     보통      보통\n",
              "120  도시대기  2019    1  인계동  68.0   42.0  0.013  0.043       0.004    0.9  127.028723  37.263637     보통      보통\n",
              "144  도시대기  2019    1  천천동  68.0   39.0  0.012  0.042       0.004    0.7  126.975305  37.292877     보통      보통\n",
              "96   도시대기  2019    1  영통동  68.0   23.0  0.010  0.046       0.003    0.9  127.056294  37.246901     보통      보통"
            ]
          },
          "metadata": {
            "tags": []
          },
          "execution_count": 16
        }
      ]
    },
    {
      "cell_type": "code",
      "metadata": {
        "colab": {
          "base_uri": "https://localhost:8080/",
          "height": 205
        },
        "id": "9vfnOfAZg-uT",
        "outputId": "808e4cbb-ec57-47f9-bbf7-99bf77bfadd1"
      },
      "source": [
        "center = (37.27505, 127.0094448)\r\n",
        "zoom = 12\r\n",
        "\r\n",
        "s_map = folium.Map(location=center, zoom_start=zoom, attr='수원시',\r\n",
        "                   tiles='http://api.vworld.kr/req/wmts/1.0.0/C475A102-4BC0-3992-8A8F-D9241A7B2094/Base/{z}/{y}/{x}.png')\r\n",
        "\r\n",
        "folium.GeoJson(df_법정시군구29).add_to(s_map)"
      ],
      "execution_count": null,
      "outputs": [
        {
          "output_type": "error",
          "ename": "NameError",
          "evalue": "ignored",
          "traceback": [
            "\u001b[0;31m---------------------------------------------------------------------------\u001b[0m",
            "\u001b[0;31mNameError\u001b[0m                                 Traceback (most recent call last)",
            "\u001b[0;32m<ipython-input-17-02fc60e129ff>\u001b[0m in \u001b[0;36m<module>\u001b[0;34m()\u001b[0m\n\u001b[1;32m      5\u001b[0m                    tiles='http://api.vworld.kr/req/wmts/1.0.0/C475A102-4BC0-3992-8A8F-D9241A7B2094/Base/{z}/{y}/{x}.png')\n\u001b[1;32m      6\u001b[0m \u001b[0;34m\u001b[0m\u001b[0m\n\u001b[0;32m----> 7\u001b[0;31m \u001b[0mfolium\u001b[0m\u001b[0;34m.\u001b[0m\u001b[0mGeoJson\u001b[0m\u001b[0;34m(\u001b[0m\u001b[0mdf_법정시군구29\u001b[0m\u001b[0;34m)\u001b[0m\u001b[0;34m.\u001b[0m\u001b[0madd_to\u001b[0m\u001b[0;34m(\u001b[0m\u001b[0ms_map\u001b[0m\u001b[0;34m)\u001b[0m\u001b[0;34m\u001b[0m\u001b[0;34m\u001b[0m\u001b[0m\n\u001b[0m",
            "\u001b[0;31mNameError\u001b[0m: name 'df_법정시군구29' is not defined"
          ]
        }
      ]
    },
    {
      "cell_type": "code",
      "metadata": {
        "id": "pX3SJ90zgccC"
      },
      "source": [
        "for index, row in df_대기오염도.iterrows():\r\n",
        "    folium.Marker([row['lat'], row['lon']], icon=folium.Icon(color='red', icon='star')).add_to(s_map)\r\n",
        "\r\n",
        "from folium.plugins import MarkerCluster, MiniMap\r\n",
        "mc = MarkerCluster()\r\n",
        "\r\n",
        "for row in df_BIS.itertuples():\r\n",
        "    mc.add_child(folium.Marker(location = [row.lat, row.lon], popup = row.정류장명)).add_to(s_map)\r\n",
        "    #s_map.add_child(mc)\r\n",
        "# s\r\n",
        "\r\n",
        "s_map"
      ],
      "execution_count": null,
      "outputs": []
    },
    {
      "cell_type": "markdown",
      "metadata": {
        "id": "rRlKwBOMidqw"
      },
      "source": [
        "## From COMPAS"
      ]
    },
    {
      "cell_type": "markdown",
      "metadata": {
        "id": "C5QrfF_Tiqbx"
      },
      "source": [
        "### input parameter type - 실행X(참고용)\r\n"
      ]
    },
    {
      "cell_type": "markdown",
      "metadata": {
        "id": "O309hOyF11Yf"
      },
      "source": [
        "type name|Description\r\n",
        "-|-\t\r\n",
        "feature_name|feature 명. <br>공간연산에 필요한 feature 목록을 compas에서 제공합니다.<br>feature_name에는 반드시 compas에서 제공된 목록에 있는 feature 명만 사용 가능합니다.\r\n",
        "feature_list|feture 이름 List.<br>공간연산시 여러 개의 feature가 필요한 경우 콤마(,)를 구분자로 해서 feature_list를 API에 제공해야 합니다.\r\n",
        "cql|\tCasandra Query Languate\r\n",
        "GeoJSON|\t위치정보를 갖는 점을 기반으로 체계적으로 지형을 표현하기 위해 설계된 개방형 공개 표준 형식.\r\n",
        "boolean\t|True / False"
      ]
    },
    {
      "cell_type": "markdown",
      "metadata": {
        "id": "_v5cKfI9jhcW"
      },
      "source": [
        "4  Sample Featrues Data\r\n",
        "Geoband 에서 제공하는 Feature 데이타 입니다. 공간분석시 사용가능합니다.\r\n",
        "API 호출시 Feature Name을 사용하시기 바랍니다.\r\n",
        "\r\n",
        "Type\t|Title\t|Feature Name\t|SRS\r\n",
        "-|-|-|-\r\n",
        "Polygon\t|시도\t|geoband:tl_scco_ctprvn\t|EPSG:4326\r\n",
        "Polygon\t|시군구\t|geoband:tl_scco_sig\t|EPSG:4326\r\n",
        "Polygon\t|리\t|geoband:tl_scco_li\t|EPSG:4326\r\n",
        "Polygon\t|읍면동\t|geoband:tl_scco_emd\t|EPSG:4326\r\n",
        "Point\t|녹시율(부산)\t|geoband:gvi_busan\t|EPSG:4326\r\n",
        "Point\t|녹시율(대구)\t|geoband:gvi_daegu\t|EPSG:4326\r\n",
        "Point\t|녹시율(광주)\t|geoband:gvi_gwangju\t|EPSG:4326\r\n",
        "Point\t|녹시율(화성)\t|geoband:gvi_hwaseong\t|EPSG:4326\r\n",
        "Point\t|녹시율(인천)\t|geoband:gvi_incheon\t|EPSG:4326\r\n",
        "Point\t|녹시율(세종)\t|geoband:gvi_sejong\t|EPSG:4326\r\n",
        "Point\t|녹시율(서울)\t|geoband:gvi_seoul\t|EPSG:4326\r\n",
        "Point\t|녹시율(울산)\t|geoband:gvi_ulsan\t|EPSG:4326\r\n",
        "Point\t|서울시 아파트\t|geoband:apartment\t|EPSG:4326\r\n",
        "Point\t|전국 은행\t|geoband:bank\t|EPSG:4326\r\n",
        "Point\t|전국 버거킹\t|geoband:bugerking\t|EPSG:4326\r\n",
        "Point\t|전국 던킨도너츠\t|geoband:dunkindonuts\t|EPSG:4326\r\n",
        "Point\t|전국 지진\t|geoband:earthquake\t|EPSG:3857\r\n",
        "Polygon\t|서울시 동\t|geoband:emd\t|EPSG:3857\r\n",
        "Point\t|전국 대기업\t|geoband:enterprise\t|EPSG:3857\r\n",
        "Point\t|전국 소방서\t|geoband:firestation\t|EPSG:3857\r\n",
        "Point\t|서울시 가스충전소\t|geoband:gasstation\t|EPSG:3857\r\n",
        "Point\t|전국 골프장\t|geoband:golf\t|EPSG:3857\r\n",
        "Point\t|서울시 병원\t|geoband:hospital\t|EPSG:3857\r\n",
        "Point\t|전국 KFC\t|geoband:kfc\t|EPSG:3857\r\n",
        "Polygon\t|전국 읍면동\t|geoband:korea_emd\t|EPSG:3857\r\n",
        "Point\t|전국 학교\t|geoband:korea_school\t|EPSG:3857\r\n",
        "Polygon\t|전국 시군구\t|geoband:korea_sgg\t|EPSG:3857\r\n",
        "Line\t|서울시 샘플 라인\t|geoband:line\t|EPSG:3857\r\n",
        "Point\t|전국 롯데리아\t|geoband:lotteria\t|EPSG:3857\r\n",
        "Point\t|서울시 재래시장\t|geoband:market\t|EPSG:3857\r\n",
        "Point\t|전국 맥도널드\t|geoband:mcdonalds\t|EPSG:3857\r\n",
        "Point\t|전국 아웃브레이크\t|geoband:outbreak\t|EPSG:3857\r\n",
        "Line\t|서울시 OD 데이터\t|geoband:od_flow\t|EPSG:3857\r\n",
        "Polygon\t|서울시 오버레이1\t|geoband:overlay01\t|EPSG:3857\r\n",
        "Polygon\t|서울시 오버레이2\t|geoband:overlay02\t|EPSG:3857\r\n",
        "Point\t|서울시 주점\t|geoband:pubs\t|EPSG:3857\r\n",
        "Line\t|서울시 도로망\t|geoband:road\t|EPSG:3857\r\n",
        "Polygon\t|서울 구별 인구 변화\t|geoband:seoul_series\t|EPSG:3857\r\n",
        "Point\t|서울시 학교\t|geoband:school\t|EPSG:3857\r\n",
        "Polygon\t|서울시 구\t|geoband:sgg\t|EPSG:3857\r\n",
        "Polygon\t|서울시 경계\t|geoband:sid\t|EPSG:3857\r\n",
        "Point\t|전국 철도역\t|geoband:stations\t|EPSG:3857\r\n",
        "Point\t|서울시 마트\t|geoband:stores\t|EPSG:3857\r\n",
        "Point\t|서울시 극장\t|geoband:theaters\t|EPSG:3857\r\n",
        "Line\t|전국 지하철노선\t|geoband:subway\t|EPSG:3857\r\n",
        "Point\t|서울시 위험 화학물 취급업소\t|geoband:toxic_office\t|EPSG:3857\r\n",
        "Point\t|서울시 추적점\t|geoband:track_points\t|EPSG:3857\r\n",
        "Point\t|서울시 구청\t|geoband:wardoffice\t|EPSG:3857"
      ]
    },
    {
      "cell_type": "code",
      "metadata": {
        "id": "YkRhyY-wic5x",
        "colab": {
          "base_uri": "https://localhost:8080/",
          "height": 312
        },
        "outputId": "87cd7988-7f03-4caf-be76-3910317d55b7"
      },
      "source": [
        "from geoband.API import *"
      ],
      "execution_count": null,
      "outputs": [
        {
          "output_type": "error",
          "ename": "ModuleNotFoundError",
          "evalue": "ignored",
          "traceback": [
            "\u001b[0;31m---------------------------------------------------------------------------\u001b[0m",
            "\u001b[0;31mModuleNotFoundError\u001b[0m                       Traceback (most recent call last)",
            "\u001b[0;32m<ipython-input-15-4dc475327bff>\u001b[0m in \u001b[0;36m<module>\u001b[0;34m()\u001b[0m\n\u001b[0;32m----> 1\u001b[0;31m \u001b[0;32mfrom\u001b[0m \u001b[0mgeoband\u001b[0m\u001b[0;34m.\u001b[0m\u001b[0mAPI\u001b[0m \u001b[0;32mimport\u001b[0m \u001b[0;34m*\u001b[0m\u001b[0;34m\u001b[0m\u001b[0;34m\u001b[0m\u001b[0m\n\u001b[0m",
            "\u001b[0;31mModuleNotFoundError\u001b[0m: No module named 'geoband'",
            "",
            "\u001b[0;31m---------------------------------------------------------------------------\u001b[0;32m\nNOTE: If your import is failing due to a missing package, you can\nmanually install dependencies using either !pip or !apt.\n\nTo view examples of installing some common dependencies, click the\n\"Open Examples\" button below.\n\u001b[0;31m---------------------------------------------------------------------------\u001b[0m\n"
          ]
        }
      ]
    },
    {
      "cell_type": "markdown",
      "metadata": {
        "id": "4xfRyLNMD_S3"
      },
      "source": [
        "### EDA"
      ]
    },
    {
      "cell_type": "markdown",
      "metadata": {
        "id": "ly6hBwJOTSsl"
      },
      "source": [
        "####  <b>geojson</b> 풀기 for pydeck - type : multipolygon, multilinestring, multipoints\n",
        "- 도로명27, 지적도32, 행정읍면동31, 법정시군구29, 법정읍면동30, 교통노드20, 교통링크21, 건물연면적28, 인도26\n",
        "- 상세도로망22(비공개)\n",
        "\n",
        "dataframe | type | ncols |columns \n",
        "-|-|-|-\n",
        "df_교통노드20|multipoint|6|<b>NODE_ID</b>/ NODE_TYPE/ NODE_NAME/ TURN_P/ REMARK/ geometry\n",
        "df_교통링크21|multilinestring|17|<b>LINK_ID</b>/ F_NODE/ T_NODE/ ROAD_USE/ LANES/ ROAD_RANK/ ROAD_NAME/ MULTI_LINK/ CONNECT/ MAX_SPD/ REST_VEH/ REST_W/ REST_H/ REMARK/ ROAD_TYPE/ ROAD_NO/<br> geometry/ coordinates/ coord_cent/ geo_cent/ grid_id\n",
        "df_인도26| multilinestring | 6 |<b>UFID</b>/ WIDT/ QUAL/ BYYN/ KIND/ geometry/ coordinates/ coord_cent/ geo_cent/ grid_id\n",
        "df_도로명27|multipolygon|11|<b>BDTYP_CD</b>/ BULD_NM/ BULD_NM_DC/ BULD_SE_CD/ BUL_MAN_NO/ EMD_CD/ GRO_FLO_CO/ LNBR_MNNM/ LNBR_SLNO/ UND_FLO_CO/ <br>geometry/ coordinates/ coord_cent/ geo_cent/ grid_id\n",
        "df_연면적28|multipolygon|3|<b>gid</b>/ val/ geometry/ 정규화/ coordinates/ coord_cent/ geo_cent/ grid_id\n",
        "df_법정시군구29|multipolygon|3|<b>SIG_CD</b>/ SIG_KOR_NM/ geometry/ coordinates/ coord_cent/ geo_cent/ grid_id\n",
        "df_법정읍면동30|multipolygon|3|<b>EMD_CD</b>/ EMD_KOR_NM/ geometry/ coordinates/ coord_cent/ geo_cent/ grid_id\n",
        "df_행정읍면동31|multipolygon|3|<b>ADM_DR_CD</b>/ ADM_DR_NM/ geometry/ coordinates/ coord_cent/ geo_cent/ grid_id\n",
        "df_지적도32|multipolygon|3|<b>PNU</b>/ JIBUN/ geometry/ coordinates/ coord_cent/ geo_cent/ grid_id\n",
        "|<b>비공개 데이터</b>||\n",
        "df_상세도로망22| multilinestring| 19 |<b>link_id</b>/ max_speed/ road_name/ road_no/ road_rank/ link_type/ road_type/ facil_name/ up_lanes/ dw_lanes/ oneway/ length/ width/ car_lane/ num_cross/ barrier/ up_its_id/ dw_its_id/ <br>geometry/ coordinates/ coord_cent/ geo_cent/ grid_id\n"
      ]
    },
    {
      "cell_type": "code",
      "metadata": {
        "id": "DZAJ74_9T_Ch"
      },
      "source": [
        "df_교통노드20   = gpd.read_file(colab_path + '20.교통노드.geojson', encoding='utf-8')\n",
        "df_교통링크21   = gpd.read_file(colab_path + '21.교통링크.geojson', encoding='utf-8')\n",
        "df_인도26       = gpd.read_file(colab_path + '26.인도2017.geojson', encoding='utf-8')\n",
        "df_도로명27     = gpd.read_file(colab_path + '27.건물도로명주소.geojson', encoding='utf-8')\n",
        "df_연면적28     = gpd.read_file(colab_path + '28.건물연면적_격자.geojson', encoding='utf-8')\n",
        "df_법정시군구29 = gpd.read_file(colab_path + '29.법정경계(시군구).geojson', encoding='utf-8')\n",
        "df_법정읍면동30 = gpd.read_file(colab_path + '30.법정경계(읍면동).geojson', encoding='utf-8')\n",
        "df_행정읍면동31 = gpd.read_file(colab_path + '31.행정경계(읍면동).geojson', encoding='utf-8')\n",
        "df_지적도32     = gpd.read_file(colab_path + '32.지적도.geojson', encoding='utf-8')\n",
        "df_상세도로망22 = gpd.read_file(colab_path + '22.상세도로망_LV6.geojson', encoding='utf-8')"
      ],
      "execution_count": null,
      "outputs": []
    },
    {
      "cell_type": "code",
      "metadata": {
        "id": "tyXdV7l45iK5"
      },
      "source": [
        "# df_교통노드20.head()      # REMARK - null / col 6 / multipoint        \r\n",
        "# df_교통링크21.head()      # REMARK, REST_VEH - null / col 17 -> REST_VEH na_col / multilinestring\r\n",
        "# df_인도26.head()          # col 6 / multilinestring                   \r\n",
        "# df_도로명27.head()        # BULD_NM, BULD_NM_DC - null / col 11 / multipolygon   \r\n",
        "# df_연면적28.head()        # val(격자 내 건물 연면적) - null / col 3 -> val na_col, norm / multipolygon\r\n",
        "# df_법정시군구29.head()    # col 3 / multipolygon\r\n",
        "# df_법정읍면동30.head()    # col 3 / multipolygon\r\n",
        "# df_행정읍면동31.head()    # col 3 / multipolygon\r\n",
        "# df_지적도32.head()        # col 3 / multipolygon\r\n",
        "# df_상세도로망22.head()    # road_name, facil_name - null / col 19 / multilinestring"
      ],
      "execution_count": null,
      "outputs": []
    },
    {
      "cell_type": "code",
      "metadata": {
        "id": "YNFcn0eqVlxI"
      },
      "source": [
        "# type: multipolygon\n",
        "geo_to_df(df_도로명27)\n",
        "geo_to_df(df_연면적28, na_col='val', norm_col='val')\n",
        "geo_to_df(df_법정시군구29)\n",
        "geo_to_df(df_법정읍면동30)\n",
        "geo_to_df(df_행정읍면동31)\n",
        "geo_to_df(df_지적도32)"
      ],
      "execution_count": null,
      "outputs": []
    },
    {
      "cell_type": "code",
      "metadata": {
        "id": "aYNiTpXcddYk"
      },
      "source": [
        "# type: multilinestring\n",
        "geo_to_df(df_교통링크21, geotype='multilinestring')    # multilinestring\n",
        "geo_to_df(df_상세도로망22, geotype='multilinestring')  # multilinestring\n",
        "geo_to_df(df_인도26, geotype='multilinestring')        # multilinestring\n",
        "# geo_to_df(df_교통노드20)    # multipoint"
      ],
      "execution_count": null,
      "outputs": []
    },
    {
      "cell_type": "code",
      "metadata": {
        "colab": {
          "base_uri": "https://localhost:8080/"
        },
        "id": "Yi9rEGT-n14G",
        "outputId": "60099ebb-737c-4a4c-db07-6d6438e75b8e"
      },
      "source": [
        "df_가능인도 = df_인도26[df_인도26['WIDT']>= 1.5]\r\n",
        "df_가능인도.info()"
      ],
      "execution_count": null,
      "outputs": [
        {
          "output_type": "stream",
          "text": [
            "<class 'geopandas.geodataframe.GeoDataFrame'>\n",
            "Int64Index: 5076 entries, 3 to 6649\n",
            "Data columns (total 10 columns):\n",
            " #   Column       Non-Null Count  Dtype   \n",
            "---  ------       --------------  -----   \n",
            " 0   UFID         5076 non-null   object  \n",
            " 1   WIDT         5076 non-null   float64 \n",
            " 2   QUAL         5076 non-null   object  \n",
            " 3   BYYN         5076 non-null   object  \n",
            " 4   KIND         5076 non-null   object  \n",
            " 5   geometry     5076 non-null   geometry\n",
            " 6   coordinates  5076 non-null   object  \n",
            " 7   coord_cent   5076 non-null   object  \n",
            " 8   geo_cent     5076 non-null   object  \n",
            " 9   grid_id      5076 non-null   object  \n",
            "dtypes: float64(1), geometry(1), object(8)\n",
            "memory usage: 436.2+ KB\n"
          ],
          "name": "stdout"
        }
      ]
    },
    {
      "cell_type": "markdown",
      "metadata": {
        "id": "dVT48L6Y6H6U"
      },
      "source": [
        "#### <b>df_지적도32</b>: 도로, 공장, 학교, 주차장, 유원지, 체육시설"
      ]
    },
    {
      "cell_type": "code",
      "metadata": {
        "colab": {
          "base_uri": "https://localhost:8080/",
          "height": 278
        },
        "id": "_QqDjobr6fyF",
        "outputId": "9bcc32db-06bf-4420-986e-9335572843de"
      },
      "source": [
        "df_지적도32.head()"
      ],
      "execution_count": null,
      "outputs": [
        {
          "output_type": "execute_result",
          "data": {
            "text/html": [
              "<div>\n",
              "<style scoped>\n",
              "    .dataframe tbody tr th:only-of-type {\n",
              "        vertical-align: middle;\n",
              "    }\n",
              "\n",
              "    .dataframe tbody tr th {\n",
              "        vertical-align: top;\n",
              "    }\n",
              "\n",
              "    .dataframe thead th {\n",
              "        text-align: right;\n",
              "    }\n",
              "</style>\n",
              "<table border=\"1\" class=\"dataframe\">\n",
              "  <thead>\n",
              "    <tr style=\"text-align: right;\">\n",
              "      <th></th>\n",
              "      <th>PNU</th>\n",
              "      <th>JIBUN</th>\n",
              "      <th>geometry</th>\n",
              "      <th>coordinates</th>\n",
              "      <th>coord_cent</th>\n",
              "      <th>geo_cent</th>\n",
              "      <th>grid_id</th>\n",
              "    </tr>\n",
              "  </thead>\n",
              "  <tbody>\n",
              "    <tr>\n",
              "      <th>0</th>\n",
              "      <td>4111710300101670003</td>\n",
              "      <td>167-3전</td>\n",
              "      <td>MULTIPOLYGON (((127.05529 37.28866, 127.05533 ...</td>\n",
              "      <td>[[127.05528958143441, 37.2886637490931], [127....</td>\n",
              "      <td>[127.05547584284302, 37.288664233630406]</td>\n",
              "      <td>POINT (127.055475842843 37.28866423363041)</td>\n",
              "      <td>00000</td>\n",
              "    </tr>\n",
              "    <tr>\n",
              "      <th>1</th>\n",
              "      <td>4111113800101980001</td>\n",
              "      <td>198-1전</td>\n",
              "      <td>MULTIPOLYGON (((127.01543 37.32614, 127.01547 ...</td>\n",
              "      <td>[[127.01542984431295, 37.32613895945019], [127...</td>\n",
              "      <td>[127.0154508779549, 37.32608379742076]</td>\n",
              "      <td>POINT (127.0154508779549 37.32608379742076)</td>\n",
              "      <td>00001</td>\n",
              "    </tr>\n",
              "    <tr>\n",
              "      <th>2</th>\n",
              "      <td>4111710300201190028</td>\n",
              "      <td>산119-28임</td>\n",
              "      <td>MULTIPOLYGON (((127.05120 37.28951, 127.05120 ...</td>\n",
              "      <td>[[127.05120312136171, 37.28950604393701], [127...</td>\n",
              "      <td>[127.05114793605217, 37.28938244343387]</td>\n",
              "      <td>POINT (127.0511479360522 37.28938244343387)</td>\n",
              "      <td>00002</td>\n",
              "    </tr>\n",
              "    <tr>\n",
              "      <th>3</th>\n",
              "      <td>4111710300109070001</td>\n",
              "      <td>907-1잡</td>\n",
              "      <td>MULTIPOLYGON (((127.03676 37.29320, 127.03723 ...</td>\n",
              "      <td>[[127.03676458675396, 37.29319598101757], [127...</td>\n",
              "      <td>[127.03752564377774, 37.2935264620074]</td>\n",
              "      <td>POINT (127.0375256437777 37.2935264620074)</td>\n",
              "      <td>00003</td>\n",
              "    </tr>\n",
              "    <tr>\n",
              "      <th>4</th>\n",
              "      <td>4111710300101770017</td>\n",
              "      <td>177-17임</td>\n",
              "      <td>MULTIPOLYGON (((127.05132 37.28945, 127.05170 ...</td>\n",
              "      <td>[[127.05131698711158, 37.28945310556074], [127...</td>\n",
              "      <td>[127.05144254811702, 37.28933850350089]</td>\n",
              "      <td>POINT (127.051442548117 37.28933850350089)</td>\n",
              "      <td>00004</td>\n",
              "    </tr>\n",
              "  </tbody>\n",
              "</table>\n",
              "</div>"
            ],
            "text/plain": [
              "                   PNU     JIBUN                                           geometry                                        coordinates                                coord_cent                                     geo_cent grid_id\n",
              "0  4111710300101670003    167-3전  MULTIPOLYGON (((127.05529 37.28866, 127.05533 ...  [[127.05528958143441, 37.2886637490931], [127....  [127.05547584284302, 37.288664233630406]   POINT (127.055475842843 37.28866423363041)   00000\n",
              "1  4111113800101980001    198-1전  MULTIPOLYGON (((127.01543 37.32614, 127.01547 ...  [[127.01542984431295, 37.32613895945019], [127...    [127.0154508779549, 37.32608379742076]  POINT (127.0154508779549 37.32608379742076)   00001\n",
              "2  4111710300201190028  산119-28임  MULTIPOLYGON (((127.05120 37.28951, 127.05120 ...  [[127.05120312136171, 37.28950604393701], [127...   [127.05114793605217, 37.28938244343387]  POINT (127.0511479360522 37.28938244343387)   00002\n",
              "3  4111710300109070001    907-1잡  MULTIPOLYGON (((127.03676 37.29320, 127.03723 ...  [[127.03676458675396, 37.29319598101757], [127...    [127.03752564377774, 37.2935264620074]   POINT (127.0375256437777 37.2935264620074)   00003\n",
              "4  4111710300101770017   177-17임  MULTIPOLYGON (((127.05132 37.28945, 127.05170 ...  [[127.05131698711158, 37.28945310556074], [127...   [127.05144254811702, 37.28933850350089]   POINT (127.051442548117 37.28933850350089)   00004"
            ]
          },
          "metadata": {
            "tags": []
          },
          "execution_count": 23
        }
      ]
    },
    {
      "cell_type": "code",
      "metadata": {
        "colab": {
          "base_uri": "https://localhost:8080/",
          "height": 186
        },
        "id": "90gs2KgV6GsB",
        "outputId": "4cc07f84-b0bc-4186-f5f4-3bbf423fa5ac"
      },
      "source": [
        "for idx in range(df_지적도32.shape[0]):\r\n",
        "    df_지적도32['JIBUN'][idx] = df_지적도32['JIBUN'][idx][-1]\r\n",
        "\r\n",
        "df_지적도32.head(3)"
      ],
      "execution_count": null,
      "outputs": [
        {
          "output_type": "execute_result",
          "data": {
            "text/html": [
              "<div>\n",
              "<style scoped>\n",
              "    .dataframe tbody tr th:only-of-type {\n",
              "        vertical-align: middle;\n",
              "    }\n",
              "\n",
              "    .dataframe tbody tr th {\n",
              "        vertical-align: top;\n",
              "    }\n",
              "\n",
              "    .dataframe thead th {\n",
              "        text-align: right;\n",
              "    }\n",
              "</style>\n",
              "<table border=\"1\" class=\"dataframe\">\n",
              "  <thead>\n",
              "    <tr style=\"text-align: right;\">\n",
              "      <th></th>\n",
              "      <th>PNU</th>\n",
              "      <th>JIBUN</th>\n",
              "      <th>geometry</th>\n",
              "      <th>coordinates</th>\n",
              "      <th>coord_cent</th>\n",
              "      <th>geo_cent</th>\n",
              "      <th>grid_id</th>\n",
              "    </tr>\n",
              "  </thead>\n",
              "  <tbody>\n",
              "    <tr>\n",
              "      <th>0</th>\n",
              "      <td>4111710300101670003</td>\n",
              "      <td>전</td>\n",
              "      <td>MULTIPOLYGON (((127.05529 37.28866, 127.05533 ...</td>\n",
              "      <td>[[127.05528958143441, 37.2886637490931], [127....</td>\n",
              "      <td>[127.05547584284302, 37.288664233630406]</td>\n",
              "      <td>POINT (127.055475842843 37.28866423363041)</td>\n",
              "      <td>00000</td>\n",
              "    </tr>\n",
              "    <tr>\n",
              "      <th>1</th>\n",
              "      <td>4111113800101980001</td>\n",
              "      <td>전</td>\n",
              "      <td>MULTIPOLYGON (((127.01543 37.32614, 127.01547 ...</td>\n",
              "      <td>[[127.01542984431295, 37.32613895945019], [127...</td>\n",
              "      <td>[127.0154508779549, 37.32608379742076]</td>\n",
              "      <td>POINT (127.0154508779549 37.32608379742076)</td>\n",
              "      <td>00001</td>\n",
              "    </tr>\n",
              "    <tr>\n",
              "      <th>2</th>\n",
              "      <td>4111710300201190028</td>\n",
              "      <td>임</td>\n",
              "      <td>MULTIPOLYGON (((127.05120 37.28951, 127.05120 ...</td>\n",
              "      <td>[[127.05120312136171, 37.28950604393701], [127...</td>\n",
              "      <td>[127.05114793605217, 37.28938244343387]</td>\n",
              "      <td>POINT (127.0511479360522 37.28938244343387)</td>\n",
              "      <td>00002</td>\n",
              "    </tr>\n",
              "  </tbody>\n",
              "</table>\n",
              "</div>"
            ],
            "text/plain": [
              "                   PNU JIBUN                                           geometry                                        coordinates                                coord_cent                                     geo_cent grid_id\n",
              "0  4111710300101670003     전  MULTIPOLYGON (((127.05529 37.28866, 127.05533 ...  [[127.05528958143441, 37.2886637490931], [127....  [127.05547584284302, 37.288664233630406]   POINT (127.055475842843 37.28866423363041)   00000\n",
              "1  4111113800101980001     전  MULTIPOLYGON (((127.01543 37.32614, 127.01547 ...  [[127.01542984431295, 37.32613895945019], [127...    [127.0154508779549, 37.32608379742076]  POINT (127.0154508779549 37.32608379742076)   00001\n",
              "2  4111710300201190028     임  MULTIPOLYGON (((127.05120 37.28951, 127.05120 ...  [[127.05120312136171, 37.28950604393701], [127...   [127.05114793605217, 37.28938244343387]  POINT (127.0511479360522 37.28938244343387)   00002"
            ]
          },
          "metadata": {
            "tags": []
          },
          "execution_count": 24
        }
      ]
    },
    {
      "cell_type": "code",
      "metadata": {
        "colab": {
          "base_uri": "https://localhost:8080/"
        },
        "id": "pNu_hBqrDm-5",
        "outputId": "e3540833-1253-4966-f690-6c5ea011c87d"
      },
      "source": [
        "df_지적도32['JIBUN'].unique()"
      ],
      "execution_count": null,
      "outputs": [
        {
          "output_type": "execute_result",
          "data": {
            "text/plain": [
              "array(['전', '임', '잡', '도', '대', '답', '공', '천', '과', '구', '학', '창', '종',\n",
              "       '차', '철', '묘', '장', '목', '유', '주', '수', '사', '체', '제', '가', '양',\n",
              "       '2', '원'], dtype=object)"
            ]
          },
          "metadata": {
            "tags": []
          },
          "execution_count": 25
        }
      ]
    },
    {
      "cell_type": "code",
      "metadata": {
        "colab": {
          "base_uri": "https://localhost:8080/"
        },
        "id": "9uAmmO2oFVCj",
        "outputId": "fb68d613-86fd-46cc-c78d-d6d453c635ad"
      },
      "source": [
        "jibun = ['도','장','학','차','원','체']\r\n",
        "df_지적도32 = df_지적도32[df_지적도32['JIBUN'].isin(jibun)]\r\n",
        "df_지적도32.info()"
      ],
      "execution_count": null,
      "outputs": [
        {
          "output_type": "stream",
          "text": [
            "<class 'geopandas.geodataframe.GeoDataFrame'>\n",
            "Int64Index: 28844 entries, 5 to 128834\n",
            "Data columns (total 7 columns):\n",
            " #   Column       Non-Null Count  Dtype   \n",
            "---  ------       --------------  -----   \n",
            " 0   PNU          28844 non-null  object  \n",
            " 1   JIBUN        28844 non-null  object  \n",
            " 2   geometry     28844 non-null  geometry\n",
            " 3   coordinates  28844 non-null  object  \n",
            " 4   coord_cent   28844 non-null  object  \n",
            " 5   geo_cent     28844 non-null  object  \n",
            " 6   grid_id      28844 non-null  object  \n",
            "dtypes: geometry(1), object(6)\n",
            "memory usage: 1.8+ MB\n"
          ],
          "name": "stdout"
        }
      ]
    },
    {
      "cell_type": "markdown",
      "metadata": {
        "id": "LI36KEas2BB8"
      },
      "source": [
        "#### <b>merge_버정</b>: df_승하차이력 + df_버정\r\n",
        "- <b>df_승하차이력</b>: 버스정류장별 승하차이력(비공개, 2.~6.)\r\n",
        "- <b>df_버정</b>: 1.버스정류장 정보\r\n",
        "- <b>df_노선현황7</b>: 7.버스정류장별_노선현황(비공개)"
      ]
    },
    {
      "cell_type": "code",
      "metadata": {
        "id": "L4cn0VNPAEZ3"
      },
      "source": [
        "df_1 = pd.read_csv(colab_path + '2.버스정류장별_승하차이력(1).csv', encoding='utf-8')\r\n",
        "df_2 = pd.read_csv(colab_path + '3.버스정류장별_승하차이력(2).csv', encoding='utf-8')\r\n",
        "df_3 = pd.read_csv(colab_path + '4.버스정류장별_승하차이력(3).csv', encoding='utf-8')\r\n",
        "df_4 = pd.read_csv(colab_path + '5.버스정류장별_승하차이력(4).csv', encoding='utf-8')\r\n",
        "df_5 = pd.read_csv(colab_path + '6.버스정류장별_승하차이력(5).csv', encoding='utf-8')"
      ],
      "execution_count": null,
      "outputs": []
    },
    {
      "cell_type": "code",
      "metadata": {
        "id": "7UpdYtNKAMzW"
      },
      "source": [
        "df_승하차이력 = df_1.append(df_2)\r\n",
        "df_승하차이력 = df_승하차이력.append(df_3)\r\n",
        "df_승하차이력 = df_승하차이력.append(df_4)\r\n",
        "df_승하차이력 = df_승하차이력.append(df_5)"
      ],
      "execution_count": null,
      "outputs": []
    },
    {
      "cell_type": "code",
      "metadata": {
        "id": "Qc5zOg0HNhT7"
      },
      "source": [
        "df_승하차이력['전체 승차 건수'] = df_승하차이력['전체 승차 건수'].astype(np.int32)\r\n",
        "df_승하차이력['초승 건수']      = df_승하차이력['초승 건수'].astype(np.int32)\r\n",
        "df_승하차이력['환승 건수']      = df_승하차이력['환승 건수'].astype(np.int32)\r\n",
        "df_승하차이력['전체 하차 건수'] = df_승하차이력['전체 하차 건수'].astype(np.int32)\r\n",
        "df_승하차이력['하차 건수']      = df_승하차이력['하차 건수'].astype(np.int32)\r\n",
        "df_승하차이력['미태그 건수']    = df_승하차이력['미태그 건수'].astype(np.int32)"
      ],
      "execution_count": null,
      "outputs": []
    },
    {
      "cell_type": "code",
      "metadata": {
        "id": "4VkYpRcuOJLI"
      },
      "source": [
        "df_승하차이력.drop('정류소명', axis=1, inplace=True)\r\n",
        "df_승하차이력.drop('업체명', axis=1, inplace=True)"
      ],
      "execution_count": null,
      "outputs": []
    },
    {
      "cell_type": "code",
      "metadata": {
        "id": "zBnYic5_QCIH"
      },
      "source": [
        "def busbus(bus):\r\n",
        "    num = 0\r\n",
        "    if   bus == '직행좌석형시내버스': num = 0\r\n",
        "    elif bus == '일반형시내버스': num = 1\r\n",
        "    elif bus == '경기순환버스(직행좌석형)' : num = 2\r\n",
        "    elif bus == '광역급행형시내버스' : num = 3\r\n",
        "    elif bus == '좌석형시내버스' : num = 4\r\n",
        "    else: num = 5       # '맞춤형시내버스\r\n",
        "    return num"
      ],
      "execution_count": null,
      "outputs": []
    },
    {
      "cell_type": "code",
      "metadata": {
        "id": "QAOQ0W2ZQn_i"
      },
      "source": [
        "df_승하차이력['노선유형'] = df_승하차이력['노선유형'].apply(lambda x : busbus(x))"
      ],
      "execution_count": null,
      "outputs": []
    },
    {
      "cell_type": "code",
      "metadata": {
        "id": "IbfrwvO1sES6"
      },
      "source": [
        "features = ['정류소ID', '전체 승차 건수', '초승 건수', '환승 건수', '전체 하차 건수', '하차 건수', '미태그 건수']\r\n",
        "df_승하차 = df_승하차이력[features].groupby('정류소ID').agg(sum) \r\n",
        "\r\n",
        "df_승하차.reset_index(inplace=True)"
      ],
      "execution_count": null,
      "outputs": []
    },
    {
      "cell_type": "code",
      "metadata": {
        "id": "g7AVlPnut7nb"
      },
      "source": [
        "승하차_col = {'정류소ID':'정류장ID', '전체 승차 건수':'전체승차', '초승 건수': '초승', '환승 건수':'환승', '전체 하차 건수':'전체하차', '하차 건수': '하차'}\r\n",
        "df_승하차.rename(columns = 승하차_col, inplace = True)\r\n",
        "# df_승하차.head()"
      ],
      "execution_count": null,
      "outputs": []
    },
    {
      "cell_type": "code",
      "metadata": {
        "colab": {
          "base_uri": "https://localhost:8080/"
        },
        "id": "1YxFYL8nu0bw",
        "outputId": "aae72e91-3fa5-4ef4-800e-7b5b1c74855b"
      },
      "source": [
        "merge_버정 = df_승하차.merge(df_버정, on='정류장ID', how=\"outer\")\r\n",
        "\r\n",
        "버정_col = ['정류장ID', '전체승차', '초승', '환승', '전체하차', '하차', '쉘터', 'BIS설치여부', 'lon', 'lat']\r\n",
        "merge_버정 = merge_버정[버정_col]\r\n",
        "merge_버정.info()"
      ],
      "execution_count": null,
      "outputs": [
        {
          "output_type": "stream",
          "text": [
            "<class 'pandas.core.frame.DataFrame'>\n",
            "Int64Index: 1179 entries, 0 to 1178\n",
            "Data columns (total 10 columns):\n",
            " #   Column   Non-Null Count  Dtype  \n",
            "---  ------   --------------  -----  \n",
            " 0   정류장ID    1179 non-null   int64  \n",
            " 1   전체승차     1114 non-null   float64\n",
            " 2   초승       1114 non-null   float64\n",
            " 3   환승       1114 non-null   float64\n",
            " 4   전체하차     1114 non-null   float64\n",
            " 5   하차       1114 non-null   float64\n",
            " 6   쉘터       781 non-null    float64\n",
            " 7   BIS설치여부  928 non-null    float64\n",
            " 8   lon      1179 non-null   float64\n",
            " 9   lat      1179 non-null   float64\n",
            "dtypes: float64(9), int64(1)\n",
            "memory usage: 101.3 KB\n"
          ],
          "name": "stdout"
        }
      ]
    },
    {
      "cell_type": "code",
      "metadata": {
        "colab": {
          "base_uri": "https://localhost:8080/"
        },
        "id": "5EwA2RZBxv_U",
        "outputId": "a2c19823-c886-4086-d77a-f4bcfbfa2f5a"
      },
      "source": [
        "# na값 채우기\r\n",
        "merge_버정 = merge_버정.fillna(0)\r\n",
        "\r\n",
        "# type 변경(float -> int)\r\n",
        "for s in range(1, 8):\r\n",
        "    merge_버정[merge_버정.columns[s]] = merge_버정[merge_버정.columns[s]].astype(np.int32)\r\n",
        "merge_버정.info()"
      ],
      "execution_count": null,
      "outputs": [
        {
          "output_type": "stream",
          "text": [
            "<class 'pandas.core.frame.DataFrame'>\n",
            "Int64Index: 1179 entries, 0 to 1178\n",
            "Data columns (total 10 columns):\n",
            " #   Column   Non-Null Count  Dtype  \n",
            "---  ------   --------------  -----  \n",
            " 0   정류장ID    1179 non-null   int64  \n",
            " 1   전체승차     1179 non-null   int32  \n",
            " 2   초승       1179 non-null   int32  \n",
            " 3   환승       1179 non-null   int32  \n",
            " 4   전체하차     1179 non-null   int32  \n",
            " 5   하차       1179 non-null   int32  \n",
            " 6   쉘터       1179 non-null   int32  \n",
            " 7   BIS설치여부  1179 non-null   int32  \n",
            " 8   lon      1179 non-null   float64\n",
            " 9   lat      1179 non-null   float64\n",
            "dtypes: float64(2), int32(7), int64(1)\n",
            "memory usage: 69.1 KB\n"
          ],
          "name": "stdout"
        }
      ]
    },
    {
      "cell_type": "code",
      "metadata": {
        "id": "1P2WlZuWR8Ne"
      },
      "source": [
        "# df_승하차이력['정류소ID'].nunique()     # 1114\r\n",
        "# df_승하차이력['일자'].nunique()         # 2020-01-01 ~ 2020-12-31\r\n",
        "# df_승하차이력['노선번호'].nunique()     # 156"
      ],
      "execution_count": null,
      "outputs": []
    },
    {
      "cell_type": "code",
      "metadata": {
        "id": "9n3FkDyx0z5f"
      },
      "source": [
        "df_노선현황7 = pd.read_csv(colab_path + '7.버스정류장별_노선현황.csv')\r\n",
        "\r\n",
        "노선_rename_col = {'정류소ID':'정류장ID', '중앙차로여부':'중앙차로노변', '위치(동)':'동'}\r\n",
        "df_노선현황7.rename(columns = 노선_rename_col, inplace=True)\r\n",
        "\r\n",
        "df_노선현황7 = df_노선현황7[['정류장ID', '중앙차로노변', '동']]"
      ],
      "execution_count": null,
      "outputs": []
    },
    {
      "cell_type": "code",
      "metadata": {
        "colab": {
          "base_uri": "https://localhost:8080/",
          "height": 194
        },
        "id": "7uERKN5F4Clb",
        "outputId": "dc337d0b-c456-42c3-c27c-ed17f5a871a0"
      },
      "source": [
        "df_노선현황7.head()"
      ],
      "execution_count": null,
      "outputs": [
        {
          "output_type": "execute_result",
          "data": {
            "text/html": [
              "<div>\n",
              "<style scoped>\n",
              "    .dataframe tbody tr th:only-of-type {\n",
              "        vertical-align: middle;\n",
              "    }\n",
              "\n",
              "    .dataframe tbody tr th {\n",
              "        vertical-align: top;\n",
              "    }\n",
              "\n",
              "    .dataframe thead th {\n",
              "        text-align: right;\n",
              "    }\n",
              "</style>\n",
              "<table border=\"1\" class=\"dataframe\">\n",
              "  <thead>\n",
              "    <tr style=\"text-align: right;\">\n",
              "      <th></th>\n",
              "      <th>정류장ID</th>\n",
              "      <th>중앙차로노변</th>\n",
              "      <th>동</th>\n",
              "    </tr>\n",
              "  </thead>\n",
              "  <tbody>\n",
              "    <tr>\n",
              "      <th>0</th>\n",
              "      <td>200000001</td>\n",
              "      <td>노변정류장</td>\n",
              "      <td>경기도 수원시 연무동</td>\n",
              "    </tr>\n",
              "    <tr>\n",
              "      <th>1</th>\n",
              "      <td>200000002</td>\n",
              "      <td>노변정류장</td>\n",
              "      <td>경기도 수원시 연무동</td>\n",
              "    </tr>\n",
              "    <tr>\n",
              "      <th>2</th>\n",
              "      <td>200000003</td>\n",
              "      <td>노변정류장</td>\n",
              "      <td>경기도 수원시 연무동</td>\n",
              "    </tr>\n",
              "    <tr>\n",
              "      <th>3</th>\n",
              "      <td>200000004</td>\n",
              "      <td>노변정류장</td>\n",
              "      <td>경기도 수원시 연무동</td>\n",
              "    </tr>\n",
              "    <tr>\n",
              "      <th>4</th>\n",
              "      <td>200000005</td>\n",
              "      <td>노변정류장</td>\n",
              "      <td>경기도 수원시 연무동</td>\n",
              "    </tr>\n",
              "  </tbody>\n",
              "</table>\n",
              "</div>"
            ],
            "text/plain": [
              "       정류장ID 중앙차로노변            동\n",
              "0  200000001  노변정류장  경기도 수원시 연무동\n",
              "1  200000002  노변정류장  경기도 수원시 연무동\n",
              "2  200000003  노변정류장  경기도 수원시 연무동\n",
              "3  200000004  노변정류장  경기도 수원시 연무동\n",
              "4  200000005  노변정류장  경기도 수원시 연무동"
            ]
          },
          "metadata": {
            "tags": []
          },
          "execution_count": 38
        }
      ]
    },
    {
      "cell_type": "code",
      "metadata": {
        "colab": {
          "base_uri": "https://localhost:8080/"
        },
        "id": "sJLqO0z-2kCk",
        "outputId": "4c1212a4-1e03-48df-bf9d-52357fcc522a"
      },
      "source": [
        "merge_버정 = merge_버정.merge(df_노선현황7, on='정류장ID', how=\"outer\")\r\n",
        "merge_버정.info()"
      ],
      "execution_count": null,
      "outputs": [
        {
          "output_type": "stream",
          "text": [
            "<class 'pandas.core.frame.DataFrame'>\n",
            "Int64Index: 1179 entries, 0 to 1178\n",
            "Data columns (total 12 columns):\n",
            " #   Column   Non-Null Count  Dtype  \n",
            "---  ------   --------------  -----  \n",
            " 0   정류장ID    1179 non-null   int64  \n",
            " 1   전체승차     1179 non-null   int32  \n",
            " 2   초승       1179 non-null   int32  \n",
            " 3   환승       1179 non-null   int32  \n",
            " 4   전체하차     1179 non-null   int32  \n",
            " 5   하차       1179 non-null   int32  \n",
            " 6   쉘터       1179 non-null   int32  \n",
            " 7   BIS설치여부  1179 non-null   int32  \n",
            " 8   lon      1179 non-null   float64\n",
            " 9   lat      1179 non-null   float64\n",
            " 10  중앙차로노변   1128 non-null   object \n",
            " 11  동        1128 non-null   object \n",
            "dtypes: float64(2), int32(7), int64(1), object(2)\n",
            "memory usage: 87.5+ KB\n"
          ],
          "name": "stdout"
        }
      ]
    },
    {
      "cell_type": "code",
      "metadata": {
        "colab": {
          "base_uri": "https://localhost:8080/",
          "height": 194
        },
        "id": "1C4mSSD440TA",
        "outputId": "192cb901-e2f2-441f-d018-f6a00e5b869d"
      },
      "source": [
        "merge_버정['동'] = merge_버정.동.str.split('경기도 수원시 ').str[1]\r\n",
        "merge_버정.head()"
      ],
      "execution_count": null,
      "outputs": [
        {
          "output_type": "execute_result",
          "data": {
            "text/html": [
              "<div>\n",
              "<style scoped>\n",
              "    .dataframe tbody tr th:only-of-type {\n",
              "        vertical-align: middle;\n",
              "    }\n",
              "\n",
              "    .dataframe tbody tr th {\n",
              "        vertical-align: top;\n",
              "    }\n",
              "\n",
              "    .dataframe thead th {\n",
              "        text-align: right;\n",
              "    }\n",
              "</style>\n",
              "<table border=\"1\" class=\"dataframe\">\n",
              "  <thead>\n",
              "    <tr style=\"text-align: right;\">\n",
              "      <th></th>\n",
              "      <th>정류장ID</th>\n",
              "      <th>전체승차</th>\n",
              "      <th>초승</th>\n",
              "      <th>환승</th>\n",
              "      <th>전체하차</th>\n",
              "      <th>하차</th>\n",
              "      <th>쉘터</th>\n",
              "      <th>BIS설치여부</th>\n",
              "      <th>lon</th>\n",
              "      <th>lat</th>\n",
              "      <th>중앙차로노변</th>\n",
              "      <th>동</th>\n",
              "    </tr>\n",
              "  </thead>\n",
              "  <tbody>\n",
              "    <tr>\n",
              "      <th>0</th>\n",
              "      <td>200000001</td>\n",
              "      <td>533</td>\n",
              "      <td>529</td>\n",
              "      <td>4</td>\n",
              "      <td>3664</td>\n",
              "      <td>3664</td>\n",
              "      <td>0</td>\n",
              "      <td>0</td>\n",
              "      <td>127.016928</td>\n",
              "      <td>37.317630</td>\n",
              "      <td>노변정류장</td>\n",
              "      <td>연무동</td>\n",
              "    </tr>\n",
              "    <tr>\n",
              "      <th>1</th>\n",
              "      <td>200000002</td>\n",
              "      <td>978</td>\n",
              "      <td>971</td>\n",
              "      <td>7</td>\n",
              "      <td>18901</td>\n",
              "      <td>18901</td>\n",
              "      <td>0</td>\n",
              "      <td>0</td>\n",
              "      <td>127.019208</td>\n",
              "      <td>37.315958</td>\n",
              "      <td>노변정류장</td>\n",
              "      <td>연무동</td>\n",
              "    </tr>\n",
              "    <tr>\n",
              "      <th>2</th>\n",
              "      <td>200000003</td>\n",
              "      <td>2224</td>\n",
              "      <td>2180</td>\n",
              "      <td>44</td>\n",
              "      <td>10218</td>\n",
              "      <td>10218</td>\n",
              "      <td>0</td>\n",
              "      <td>0</td>\n",
              "      <td>127.021054</td>\n",
              "      <td>37.313257</td>\n",
              "      <td>노변정류장</td>\n",
              "      <td>연무동</td>\n",
              "    </tr>\n",
              "    <tr>\n",
              "      <th>3</th>\n",
              "      <td>200000004</td>\n",
              "      <td>3221</td>\n",
              "      <td>3087</td>\n",
              "      <td>134</td>\n",
              "      <td>14821</td>\n",
              "      <td>14821</td>\n",
              "      <td>0</td>\n",
              "      <td>0</td>\n",
              "      <td>127.027748</td>\n",
              "      <td>37.309108</td>\n",
              "      <td>노변정류장</td>\n",
              "      <td>연무동</td>\n",
              "    </tr>\n",
              "    <tr>\n",
              "      <th>4</th>\n",
              "      <td>200000005</td>\n",
              "      <td>9386</td>\n",
              "      <td>7970</td>\n",
              "      <td>1416</td>\n",
              "      <td>72860</td>\n",
              "      <td>72860</td>\n",
              "      <td>1</td>\n",
              "      <td>1</td>\n",
              "      <td>127.031546</td>\n",
              "      <td>37.301462</td>\n",
              "      <td>노변정류장</td>\n",
              "      <td>연무동</td>\n",
              "    </tr>\n",
              "  </tbody>\n",
              "</table>\n",
              "</div>"
            ],
            "text/plain": [
              "       정류장ID  전체승차    초승    환승   전체하차     하차  쉘터  BIS설치여부         lon        lat 중앙차로노변    동\n",
              "0  200000001   533   529     4   3664   3664   0        0  127.016928  37.317630  노변정류장  연무동\n",
              "1  200000002   978   971     7  18901  18901   0        0  127.019208  37.315958  노변정류장  연무동\n",
              "2  200000003  2224  2180    44  10218  10218   0        0  127.021054  37.313257  노변정류장  연무동\n",
              "3  200000004  3221  3087   134  14821  14821   0        0  127.027748  37.309108  노변정류장  연무동\n",
              "4  200000005  9386  7970  1416  72860  72860   1        1  127.031546  37.301462  노변정류장  연무동"
            ]
          },
          "metadata": {
            "tags": []
          },
          "execution_count": 40
        }
      ]
    },
    {
      "cell_type": "code",
      "metadata": {
        "colab": {
          "base_uri": "https://localhost:8080/",
          "height": 194
        },
        "id": "cRqW8DMo6olz",
        "outputId": "a2c10635-cbc7-40cc-df35-57f450c48322"
      },
      "source": [
        "merge_버정['중앙차로노변'] = merge_버정['중앙차로노변'].apply(lambda x: 0 if x == '노변정류장' else 1)\r\n",
        "merge_버정.head()"
      ],
      "execution_count": null,
      "outputs": [
        {
          "output_type": "execute_result",
          "data": {
            "text/html": [
              "<div>\n",
              "<style scoped>\n",
              "    .dataframe tbody tr th:only-of-type {\n",
              "        vertical-align: middle;\n",
              "    }\n",
              "\n",
              "    .dataframe tbody tr th {\n",
              "        vertical-align: top;\n",
              "    }\n",
              "\n",
              "    .dataframe thead th {\n",
              "        text-align: right;\n",
              "    }\n",
              "</style>\n",
              "<table border=\"1\" class=\"dataframe\">\n",
              "  <thead>\n",
              "    <tr style=\"text-align: right;\">\n",
              "      <th></th>\n",
              "      <th>정류장ID</th>\n",
              "      <th>전체승차</th>\n",
              "      <th>초승</th>\n",
              "      <th>환승</th>\n",
              "      <th>전체하차</th>\n",
              "      <th>하차</th>\n",
              "      <th>쉘터</th>\n",
              "      <th>BIS설치여부</th>\n",
              "      <th>lon</th>\n",
              "      <th>lat</th>\n",
              "      <th>중앙차로노변</th>\n",
              "      <th>동</th>\n",
              "    </tr>\n",
              "  </thead>\n",
              "  <tbody>\n",
              "    <tr>\n",
              "      <th>0</th>\n",
              "      <td>200000001</td>\n",
              "      <td>533</td>\n",
              "      <td>529</td>\n",
              "      <td>4</td>\n",
              "      <td>3664</td>\n",
              "      <td>3664</td>\n",
              "      <td>0</td>\n",
              "      <td>0</td>\n",
              "      <td>127.016928</td>\n",
              "      <td>37.317630</td>\n",
              "      <td>0</td>\n",
              "      <td>연무동</td>\n",
              "    </tr>\n",
              "    <tr>\n",
              "      <th>1</th>\n",
              "      <td>200000002</td>\n",
              "      <td>978</td>\n",
              "      <td>971</td>\n",
              "      <td>7</td>\n",
              "      <td>18901</td>\n",
              "      <td>18901</td>\n",
              "      <td>0</td>\n",
              "      <td>0</td>\n",
              "      <td>127.019208</td>\n",
              "      <td>37.315958</td>\n",
              "      <td>0</td>\n",
              "      <td>연무동</td>\n",
              "    </tr>\n",
              "    <tr>\n",
              "      <th>2</th>\n",
              "      <td>200000003</td>\n",
              "      <td>2224</td>\n",
              "      <td>2180</td>\n",
              "      <td>44</td>\n",
              "      <td>10218</td>\n",
              "      <td>10218</td>\n",
              "      <td>0</td>\n",
              "      <td>0</td>\n",
              "      <td>127.021054</td>\n",
              "      <td>37.313257</td>\n",
              "      <td>0</td>\n",
              "      <td>연무동</td>\n",
              "    </tr>\n",
              "    <tr>\n",
              "      <th>3</th>\n",
              "      <td>200000004</td>\n",
              "      <td>3221</td>\n",
              "      <td>3087</td>\n",
              "      <td>134</td>\n",
              "      <td>14821</td>\n",
              "      <td>14821</td>\n",
              "      <td>0</td>\n",
              "      <td>0</td>\n",
              "      <td>127.027748</td>\n",
              "      <td>37.309108</td>\n",
              "      <td>0</td>\n",
              "      <td>연무동</td>\n",
              "    </tr>\n",
              "    <tr>\n",
              "      <th>4</th>\n",
              "      <td>200000005</td>\n",
              "      <td>9386</td>\n",
              "      <td>7970</td>\n",
              "      <td>1416</td>\n",
              "      <td>72860</td>\n",
              "      <td>72860</td>\n",
              "      <td>1</td>\n",
              "      <td>1</td>\n",
              "      <td>127.031546</td>\n",
              "      <td>37.301462</td>\n",
              "      <td>0</td>\n",
              "      <td>연무동</td>\n",
              "    </tr>\n",
              "  </tbody>\n",
              "</table>\n",
              "</div>"
            ],
            "text/plain": [
              "       정류장ID  전체승차    초승    환승   전체하차     하차  쉘터  BIS설치여부         lon        lat  중앙차로노변    동\n",
              "0  200000001   533   529     4   3664   3664   0        0  127.016928  37.317630       0  연무동\n",
              "1  200000002   978   971     7  18901  18901   0        0  127.019208  37.315958       0  연무동\n",
              "2  200000003  2224  2180    44  10218  10218   0        0  127.021054  37.313257       0  연무동\n",
              "3  200000004  3221  3087   134  14821  14821   0        0  127.027748  37.309108       0  연무동\n",
              "4  200000005  9386  7970  1416  72860  72860   1        1  127.031546  37.301462       0  연무동"
            ]
          },
          "metadata": {
            "tags": []
          },
          "execution_count": 41
        }
      ]
    },
    {
      "cell_type": "markdown",
      "metadata": {
        "id": "vyVwrwv5gc4i"
      },
      "source": [
        "##### 되나 보자... contains! within!"
      ]
    },
    {
      "cell_type": "code",
      "metadata": {
        "id": "zKmHHwdORXw3"
      },
      "source": [
        "# merge_버정 위치 좌표\r\n",
        "mg_버정 = []\r\n",
        "for mg in range(merge_버정.shape[0]):\r\n",
        "    temp = []\r\n",
        "    temp = [merge_버정['lon'][mg], merge_버정['lat'][mg]]\r\n",
        "    mg_버정.append(temp)"
      ],
      "execution_count": null,
      "outputs": []
    },
    {
      "cell_type": "code",
      "metadata": {
        "id": "HUtxl3jr7PEp"
      },
      "source": [
        "# 행정읍면동 위경도\r\n",
        "center_point = {}\r\n",
        "for idx in range(df_행정읍면동31.shape[0]):\r\n",
        "    center_point[df_행정읍면동31['ADM_DR_NM'][idx]] = df_행정읍면동31['coord_cent'][idx]"
      ],
      "execution_count": null,
      "outputs": []
    },
    {
      "cell_type": "code",
      "metadata": {
        "id": "79bd9jsLgjLC"
      },
      "source": [
        "from math import sqrt\r\n",
        "def get_distance(array1, array2):\r\n",
        "    return sqrt((array1[0] - array2[0]) ** 2 + (array1[1] - array2[1]) ** 2)\r\n",
        "\r\n",
        "def src_to_ctr(search_point, map_point):      # mg_버정 인덱스 숫자\r\n",
        "    search_list = []\r\n",
        "    for idx, sp in enumerate(search_point):   # 1179\r\n",
        "        dist = {}\r\n",
        "        dist_list = {}\r\n",
        "        search = {}\r\n",
        "        for mp in range(len(map_point)):      # 44\r\n",
        "            if len(dist) > 0:\r\n",
        "                if min(sorted(list(dist.values()))) > get_distance(search_point[idx], list(center_point.values())[mp]):\r\n",
        "                    dist[list(map_point.keys())[mp]] = get_distance(search_point[idx], list(map_point.values())[mp])\r\n",
        "                    search[list(map_point.keys())[mp]] = {\"dist_gap\":dist[list(map_point.keys())[mp]], \"정류장위치\":search_point[mp]}\r\n",
        "            else: \r\n",
        "                dist[list(map_point.keys())[mp]] = get_distance(search_point[idx], list(map_point.values())[mp])\r\n",
        "                search[list(map_point.keys())[mp]] = {\"dist_gap\":dist[list(map_point.keys())[mp]], \"정류장위치\":search_point[mp]}\r\n",
        "        dist_list[idx] = [search]\r\n",
        "        search_list.append(dist_list)\r\n",
        "    return search_list"
      ],
      "execution_count": null,
      "outputs": []
    },
    {
      "cell_type": "code",
      "metadata": {
        "colab": {
          "base_uri": "https://localhost:8080/"
        },
        "id": "FWtgIW525BXe",
        "outputId": "39af4876-f54a-4d53-ed8d-de8a30f8eda4"
      },
      "source": [
        "src_list = src_to_ctr(mg_버정, center_point)\r\n",
        "src_list[2]\r\n",
        "# {2: [{'송죽동': 0.017620597279945947,\r\n",
        "#    '연무동': 0.011546766545263142,\r\n",
        "#    '정자2동': 0.03089267515984762,\r\n",
        "#    '조원2동': 0.009081584111907352,\r\n",
        "#    '파장동': 0.03250053355866013}]}"
      ],
      "execution_count": null,
      "outputs": [
        {
          "output_type": "execute_result",
          "data": {
            "text/plain": [
              "{2: [{'송죽동': {'dist_gap': 0.017620597279945947,\n",
              "    '정류장위치': [127.0315459, 37.3014618]},\n",
              "   '연무동': {'dist_gap': 0.011546766545263142,\n",
              "    '정류장위치': [127.0294636, 37.30001394]},\n",
              "   '정자2동': {'dist_gap': 0.03089267515984762,\n",
              "    '정류장위치': [127.02774769999999, 37.30910832]},\n",
              "   '조원2동': {'dist_gap': 0.009081584111907352,\n",
              "    '정류장위치': [127.0276999, 37.30894625]},\n",
              "   '파장동': {'dist_gap': 0.03250053355866013,\n",
              "    '정류장위치': [127.0169284, 37.31762986]}}]}"
            ]
          },
          "metadata": {
            "tags": []
          },
          "execution_count": 169
        }
      ]
    },
    {
      "cell_type": "code",
      "metadata": {
        "id": "bikGfxwYYPfy"
      },
      "source": [
        "# if src_list key값(동) == df_행정읍면동31['ADM_DR_NM'] --> df_행정읍면동31['geometry'] 가 src_list '정류장위치'를 포함하는지 확인\r\n",
        "# 포함한다면 해당하는 동 이름을 merge_버정에 올려줌\r\n",
        "def _check_exist_in_region(point_x, point_y, data_jeju):\r\n",
        "    point = Point(point_x, point_y)\r\n",
        "    found = False\r\n",
        "    for i in range(len(data_jeju['features'])):\r\n",
        "        feature = data_jeju['features'][i]\r\n",
        "        polygon = shape(feature['geometry'])\r\n",
        "        if polygon.contains(point):\r\n",
        "            region = feature['properties']['EMD_NM']\r\n",
        "            found = True\r\n",
        "    if not found:\r\n",
        "        return found, ''\r\n",
        "    return found, region"
      ],
      "execution_count": null,
      "outputs": []
    },
    {
      "cell_type": "markdown",
      "metadata": {
        "id": "Iy-YEe37ovUh"
      },
      "source": [
        "#### <b>공간확보</b>"
      ]
    },
    {
      "cell_type": "code",
      "metadata": {
        "colab": {
          "base_uri": "https://localhost:8080/",
          "height": 278
        },
        "id": "JbGlb-9kuKh6",
        "outputId": "a81cfa8d-492f-45b0-9a21-2fa76eaf3074"
      },
      "source": [
        "df_인도26.head()        # data 6650\r\n",
        "# df_인도26.info()"
      ],
      "execution_count": null,
      "outputs": [
        {
          "output_type": "execute_result",
          "data": {
            "text/html": [
              "<div>\n",
              "<style scoped>\n",
              "    .dataframe tbody tr th:only-of-type {\n",
              "        vertical-align: middle;\n",
              "    }\n",
              "\n",
              "    .dataframe tbody tr th {\n",
              "        vertical-align: top;\n",
              "    }\n",
              "\n",
              "    .dataframe thead th {\n",
              "        text-align: right;\n",
              "    }\n",
              "</style>\n",
              "<table border=\"1\" class=\"dataframe\">\n",
              "  <thead>\n",
              "    <tr style=\"text-align: right;\">\n",
              "      <th></th>\n",
              "      <th>UFID</th>\n",
              "      <th>WIDT</th>\n",
              "      <th>QUAL</th>\n",
              "      <th>BYYN</th>\n",
              "      <th>KIND</th>\n",
              "      <th>geometry</th>\n",
              "      <th>coordinates</th>\n",
              "      <th>coord_cent</th>\n",
              "      <th>geo_cent</th>\n",
              "      <th>grid_id</th>\n",
              "    </tr>\n",
              "  </thead>\n",
              "  <tbody>\n",
              "    <tr>\n",
              "      <th>0</th>\n",
              "      <td>1000037612070A00310000000000154767</td>\n",
              "      <td>0.0</td>\n",
              "      <td>SWQ001</td>\n",
              "      <td>BYC001</td>\n",
              "      <td>SWK002</td>\n",
              "      <td>MULTILINESTRING ((126.98492 37.32861, 126.9849...</td>\n",
              "      <td>[[126.98492477104054, 37.32861429173025], [126...</td>\n",
              "      <td>[126.98531218123986, 37.32792748308081]</td>\n",
              "      <td>POINT (126.9853121812399 37.32792748308081)</td>\n",
              "      <td>00000</td>\n",
              "    </tr>\n",
              "    <tr>\n",
              "      <th>1</th>\n",
              "      <td>1000037612070A00310000000000154768</td>\n",
              "      <td>0.0</td>\n",
              "      <td>SWQ001</td>\n",
              "      <td>BYC001</td>\n",
              "      <td>SWK002</td>\n",
              "      <td>MULTILINESTRING ((126.98567 37.32644, 126.9857...</td>\n",
              "      <td>[[126.98567135163154, 37.32643671936139], [126...</td>\n",
              "      <td>[126.98585074591097, 37.32599428890625]</td>\n",
              "      <td>POINT (126.985850745911 37.32599428890625)</td>\n",
              "      <td>00001</td>\n",
              "    </tr>\n",
              "    <tr>\n",
              "      <th>2</th>\n",
              "      <td>1000037612070A00310000000000154769</td>\n",
              "      <td>0.0</td>\n",
              "      <td>SWQ001</td>\n",
              "      <td>BYC001</td>\n",
              "      <td>SWK002</td>\n",
              "      <td>MULTILINESTRING ((126.98459 37.32839, 126.9849...</td>\n",
              "      <td>[[126.98458621654031, 37.32839471386689], [126...</td>\n",
              "      <td>[126.98512716061825, 37.32743384409757]</td>\n",
              "      <td>POINT (126.9851271606182 37.32743384409757)</td>\n",
              "      <td>00002</td>\n",
              "    </tr>\n",
              "    <tr>\n",
              "      <th>3</th>\n",
              "      <td>1000037612070A00310000000000154793</td>\n",
              "      <td>3.0</td>\n",
              "      <td>SWQ003</td>\n",
              "      <td>BYC001</td>\n",
              "      <td>SWK001</td>\n",
              "      <td>MULTILINESTRING ((126.98565 37.32643, 126.9856...</td>\n",
              "      <td>[[126.98565272370675, 37.326431994479215], [12...</td>\n",
              "      <td>[126.98590013961238, 37.32588752109277]</td>\n",
              "      <td>POINT (126.9859001396124 37.32588752109277)</td>\n",
              "      <td>00003</td>\n",
              "    </tr>\n",
              "    <tr>\n",
              "      <th>4</th>\n",
              "      <td>1000037612070A00310000000000154794</td>\n",
              "      <td>3.0</td>\n",
              "      <td>SWQ003</td>\n",
              "      <td>BYC001</td>\n",
              "      <td>SWK001</td>\n",
              "      <td>MULTILINESTRING ((126.98461 37.32840, 126.9847...</td>\n",
              "      <td>[[126.98460747532971, 37.32840442338037], [126...</td>\n",
              "      <td>[126.98515362362919, 37.32742528209013]</td>\n",
              "      <td>POINT (126.9851536236292 37.32742528209013)</td>\n",
              "      <td>00004</td>\n",
              "    </tr>\n",
              "  </tbody>\n",
              "</table>\n",
              "</div>"
            ],
            "text/plain": [
              "                                 UFID  WIDT    QUAL    BYYN    KIND                                           geometry                                        coordinates                               coord_cent                                     geo_cent grid_id\n",
              "0  1000037612070A00310000000000154767   0.0  SWQ001  BYC001  SWK002  MULTILINESTRING ((126.98492 37.32861, 126.9849...  [[126.98492477104054, 37.32861429173025], [126...  [126.98531218123986, 37.32792748308081]  POINT (126.9853121812399 37.32792748308081)   00000\n",
              "1  1000037612070A00310000000000154768   0.0  SWQ001  BYC001  SWK002  MULTILINESTRING ((126.98567 37.32644, 126.9857...  [[126.98567135163154, 37.32643671936139], [126...  [126.98585074591097, 37.32599428890625]   POINT (126.985850745911 37.32599428890625)   00001\n",
              "2  1000037612070A00310000000000154769   0.0  SWQ001  BYC001  SWK002  MULTILINESTRING ((126.98459 37.32839, 126.9849...  [[126.98458621654031, 37.32839471386689], [126...  [126.98512716061825, 37.32743384409757]  POINT (126.9851271606182 37.32743384409757)   00002\n",
              "3  1000037612070A00310000000000154793   3.0  SWQ003  BYC001  SWK001  MULTILINESTRING ((126.98565 37.32643, 126.9856...  [[126.98565272370675, 37.326431994479215], [12...  [126.98590013961238, 37.32588752109277]  POINT (126.9859001396124 37.32588752109277)   00003\n",
              "4  1000037612070A00310000000000154794   3.0  SWQ003  BYC001  SWK001  MULTILINESTRING ((126.98461 37.32840, 126.9847...  [[126.98460747532971, 37.32840442338037], [126...  [126.98515362362919, 37.32742528209013]  POINT (126.9851536236292 37.32742528209013)   00004"
            ]
          },
          "metadata": {
            "tags": []
          },
          "execution_count": 172
        }
      ]
    },
    {
      "cell_type": "code",
      "metadata": {
        "colab": {
          "base_uri": "https://localhost:8080/",
          "height": 194
        },
        "id": "acw_z9nWu35U",
        "outputId": "d386c4db-4da1-491a-d129-7da8812bd5b1"
      },
      "source": [
        "df_BIS.head()"
      ],
      "execution_count": null,
      "outputs": [
        {
          "output_type": "execute_result",
          "data": {
            "text/html": [
              "<div>\n",
              "<style scoped>\n",
              "    .dataframe tbody tr th:only-of-type {\n",
              "        vertical-align: middle;\n",
              "    }\n",
              "\n",
              "    .dataframe tbody tr th {\n",
              "        vertical-align: top;\n",
              "    }\n",
              "\n",
              "    .dataframe thead th {\n",
              "        text-align: right;\n",
              "    }\n",
              "</style>\n",
              "<table border=\"1\" class=\"dataframe\">\n",
              "  <thead>\n",
              "    <tr style=\"text-align: right;\">\n",
              "      <th></th>\n",
              "      <th>정류장ID</th>\n",
              "      <th>쉘터</th>\n",
              "      <th>BIS설치여부</th>\n",
              "      <th>lon</th>\n",
              "      <th>lat</th>\n",
              "    </tr>\n",
              "  </thead>\n",
              "  <tbody>\n",
              "    <tr>\n",
              "      <th>0</th>\n",
              "      <td>201000313</td>\n",
              "      <td>1.0</td>\n",
              "      <td>1.0</td>\n",
              "      <td>126.970983</td>\n",
              "      <td>37.256983</td>\n",
              "    </tr>\n",
              "    <tr>\n",
              "      <th>1</th>\n",
              "      <td>201000345</td>\n",
              "      <td>0.0</td>\n",
              "      <td>1.0</td>\n",
              "      <td>127.016000</td>\n",
              "      <td>37.251091</td>\n",
              "    </tr>\n",
              "    <tr>\n",
              "      <th>2</th>\n",
              "      <td>201000379</td>\n",
              "      <td>0.0</td>\n",
              "      <td>1.0</td>\n",
              "      <td>126.953845</td>\n",
              "      <td>37.268806</td>\n",
              "    </tr>\n",
              "    <tr>\n",
              "      <th>3</th>\n",
              "      <td>201000055</td>\n",
              "      <td>0.0</td>\n",
              "      <td>1.0</td>\n",
              "      <td>127.029815</td>\n",
              "      <td>37.256755</td>\n",
              "    </tr>\n",
              "    <tr>\n",
              "      <th>4</th>\n",
              "      <td>201000268</td>\n",
              "      <td>1.0</td>\n",
              "      <td>1.0</td>\n",
              "      <td>127.034254</td>\n",
              "      <td>37.246081</td>\n",
              "    </tr>\n",
              "  </tbody>\n",
              "</table>\n",
              "</div>"
            ],
            "text/plain": [
              "       정류장ID   쉘터  BIS설치여부         lon        lat\n",
              "0  201000313  1.0      1.0  126.970983  37.256983\n",
              "1  201000345  0.0      1.0  127.016000  37.251091\n",
              "2  201000379  0.0      1.0  126.953845  37.268806\n",
              "3  201000055  0.0      1.0  127.029815  37.256755\n",
              "4  201000268  1.0      1.0  127.034254  37.246081"
            ]
          },
          "metadata": {
            "tags": []
          },
          "execution_count": 182
        }
      ]
    },
    {
      "cell_type": "code",
      "metadata": {
        "id": "xdpPi0lZwF70"
      },
      "source": [
        "# BIS가 어느 인도에 위치해있는지 확인\r\n",
        "def _check_exist_in_region(point_x, point_y, data_jeju):\r\n",
        "    point = Point(point_x, point_y)\r\n",
        "    found = False\r\n",
        "    for i in range(len(data_jeju['features'])):\r\n",
        "        feature = data_jeju['features'][i]\r\n",
        "        polygon = shape(feature['geometry'])\r\n",
        "        if polygon.contains(point):\r\n",
        "            region = feature['properties']['EMD_NM']\r\n",
        "            found = True\r\n",
        "    if not found:\r\n",
        "        return found, ''\r\n",
        "    return found, region"
      ],
      "execution_count": null,
      "outputs": []
    },
    {
      "cell_type": "code",
      "metadata": {
        "id": "nHTyXZOChwsY"
      },
      "source": [
        "# 공간 확보: df_가능인도 + df_BIS"
      ],
      "execution_count": null,
      "outputs": []
    },
    {
      "cell_type": "markdown",
      "metadata": {
        "id": "9m3he6PQDwU3"
      },
      "source": [
        "#### <b>df_popul</b>: 격자별 인구 정보\r\n",
        "- label: 고령, 생산가능, 유소년"
      ]
    },
    {
      "cell_type": "code",
      "metadata": {
        "id": "oqpTSPiQd_OG"
      },
      "source": [
        "import folium\r\n",
        "import json\r\n",
        "import geopandas as gpd\r\n",
        "\r\n",
        "df_oldie = gpd.read_file(colab_path + '17.인구정보(고령)_격자.geojson', encoding='utf-8')\r\n",
        "df_repro = gpd.read_file(colab_path + '18.인구정보(생산가능)_격자.geojson', encoding='utf-8')\r\n",
        "df_young = gpd.read_file(colab_path + '19.인구정보(유소년)_격자.geojson', encoding='utf-8')\r\n",
        "\r\n",
        "# print(df_oldie.info(), df_repro.info(), df_young.info())"
      ],
      "execution_count": null,
      "outputs": []
    },
    {
      "cell_type": "code",
      "metadata": {
        "colab": {
          "base_uri": "https://localhost:8080/",
          "height": 194
        },
        "id": "oZkPPCIhRGgm",
        "outputId": "ced5c185-79d9-4d81-b65f-78c90e8c7e18"
      },
      "source": [
        "df_oldie.head()"
      ],
      "execution_count": null,
      "outputs": [
        {
          "output_type": "execute_result",
          "data": {
            "text/html": [
              "<div>\n",
              "<style scoped>\n",
              "    .dataframe tbody tr th:only-of-type {\n",
              "        vertical-align: middle;\n",
              "    }\n",
              "\n",
              "    .dataframe tbody tr th {\n",
              "        vertical-align: top;\n",
              "    }\n",
              "\n",
              "    .dataframe thead th {\n",
              "        text-align: right;\n",
              "    }\n",
              "</style>\n",
              "<table border=\"1\" class=\"dataframe\">\n",
              "  <thead>\n",
              "    <tr style=\"text-align: right;\">\n",
              "      <th></th>\n",
              "      <th>gid</th>\n",
              "      <th>val</th>\n",
              "      <th>geometry</th>\n",
              "    </tr>\n",
              "  </thead>\n",
              "  <tbody>\n",
              "    <tr>\n",
              "      <th>0</th>\n",
              "      <td>다사491193</td>\n",
              "      <td>NaN</td>\n",
              "      <td>MULTIPOLYGON (((126.92589 37.27122, 126.92589 ...</td>\n",
              "    </tr>\n",
              "    <tr>\n",
              "      <th>1</th>\n",
              "      <td>다사492193</td>\n",
              "      <td>NaN</td>\n",
              "      <td>MULTIPOLYGON (((126.92702 37.27123, 126.92701 ...</td>\n",
              "    </tr>\n",
              "    <tr>\n",
              "      <th>2</th>\n",
              "      <td>다사492194</td>\n",
              "      <td>NaN</td>\n",
              "      <td>MULTIPOLYGON (((126.92701 37.27213, 126.92701 ...</td>\n",
              "    </tr>\n",
              "    <tr>\n",
              "      <th>3</th>\n",
              "      <td>다사492195</td>\n",
              "      <td>NaN</td>\n",
              "      <td>MULTIPOLYGON (((126.92701 37.27303, 126.92700 ...</td>\n",
              "    </tr>\n",
              "    <tr>\n",
              "      <th>4</th>\n",
              "      <td>다사492196</td>\n",
              "      <td>NaN</td>\n",
              "      <td>MULTIPOLYGON (((126.92700 37.27393, 126.92699 ...</td>\n",
              "    </tr>\n",
              "  </tbody>\n",
              "</table>\n",
              "</div>"
            ],
            "text/plain": [
              "        gid  val                                           geometry\n",
              "0  다사491193  NaN  MULTIPOLYGON (((126.92589 37.27122, 126.92589 ...\n",
              "1  다사492193  NaN  MULTIPOLYGON (((126.92702 37.27123, 126.92701 ...\n",
              "2  다사492194  NaN  MULTIPOLYGON (((126.92701 37.27213, 126.92701 ...\n",
              "3  다사492195  NaN  MULTIPOLYGON (((126.92701 37.27303, 126.92700 ...\n",
              "4  다사492196  NaN  MULTIPOLYGON (((126.92700 37.27393, 126.92699 ..."
            ]
          },
          "metadata": {
            "tags": []
          },
          "execution_count": 41
        }
      ]
    },
    {
      "cell_type": "code",
      "metadata": {
        "id": "XFjhlUQBGGOw"
      },
      "source": [
        "df_oldie['label'] = '고령인구'\r\n",
        "df_repro['label'] = '생산가능'\r\n",
        "df_young['label'] = '유소년'"
      ],
      "execution_count": null,
      "outputs": []
    },
    {
      "cell_type": "code",
      "metadata": {
        "id": "y_vll6GmGmAB"
      },
      "source": [
        "df_popul = []\r\n",
        "df_popul = df_oldie.append(df_repro)\r\n",
        "df_popul = df_popul.append(df_young)"
      ],
      "execution_count": null,
      "outputs": []
    },
    {
      "cell_type": "code",
      "metadata": {
        "colab": {
          "base_uri": "https://localhost:8080/"
        },
        "id": "mvNr42BmG1IW",
        "outputId": "224a57f2-03ee-4ab7-d494-a34714ef266d"
      },
      "source": [
        "df_popul.info()"
      ],
      "execution_count": null,
      "outputs": [
        {
          "output_type": "stream",
          "text": [
            "<class 'geopandas.geodataframe.GeoDataFrame'>\n",
            "Int64Index: 37500 entries, 0 to 12499\n",
            "Data columns (total 4 columns):\n",
            " #   Column    Non-Null Count  Dtype   \n",
            "---  ------    --------------  -----   \n",
            " 0   gid       37500 non-null  object  \n",
            " 1   val       13218 non-null  float64 \n",
            " 2   geometry  37500 non-null  geometry\n",
            " 3   label     37500 non-null  object  \n",
            "dtypes: float64(1), geometry(1), object(2)\n",
            "memory usage: 1.4+ MB\n"
          ],
          "name": "stdout"
        }
      ]
    },
    {
      "cell_type": "code",
      "metadata": {
        "colab": {
          "base_uri": "https://localhost:8080/",
          "height": 194
        },
        "id": "v1mwVGxkRRqN",
        "outputId": "9788e413-6035-4bfb-ec4e-f744fd9d3ed3"
      },
      "source": [
        "df_popul.head()"
      ],
      "execution_count": null,
      "outputs": [
        {
          "output_type": "execute_result",
          "data": {
            "text/html": [
              "<div>\n",
              "<style scoped>\n",
              "    .dataframe tbody tr th:only-of-type {\n",
              "        vertical-align: middle;\n",
              "    }\n",
              "\n",
              "    .dataframe tbody tr th {\n",
              "        vertical-align: top;\n",
              "    }\n",
              "\n",
              "    .dataframe thead th {\n",
              "        text-align: right;\n",
              "    }\n",
              "</style>\n",
              "<table border=\"1\" class=\"dataframe\">\n",
              "  <thead>\n",
              "    <tr style=\"text-align: right;\">\n",
              "      <th></th>\n",
              "      <th>gid</th>\n",
              "      <th>val</th>\n",
              "      <th>geometry</th>\n",
              "      <th>label</th>\n",
              "    </tr>\n",
              "  </thead>\n",
              "  <tbody>\n",
              "    <tr>\n",
              "      <th>0</th>\n",
              "      <td>다사491193</td>\n",
              "      <td>NaN</td>\n",
              "      <td>MULTIPOLYGON (((126.92589 37.27122, 126.92589 ...</td>\n",
              "      <td>고령인구</td>\n",
              "    </tr>\n",
              "    <tr>\n",
              "      <th>1</th>\n",
              "      <td>다사492193</td>\n",
              "      <td>NaN</td>\n",
              "      <td>MULTIPOLYGON (((126.92702 37.27123, 126.92701 ...</td>\n",
              "      <td>고령인구</td>\n",
              "    </tr>\n",
              "    <tr>\n",
              "      <th>2</th>\n",
              "      <td>다사492194</td>\n",
              "      <td>NaN</td>\n",
              "      <td>MULTIPOLYGON (((126.92701 37.27213, 126.92701 ...</td>\n",
              "      <td>고령인구</td>\n",
              "    </tr>\n",
              "    <tr>\n",
              "      <th>3</th>\n",
              "      <td>다사492195</td>\n",
              "      <td>NaN</td>\n",
              "      <td>MULTIPOLYGON (((126.92701 37.27303, 126.92700 ...</td>\n",
              "      <td>고령인구</td>\n",
              "    </tr>\n",
              "    <tr>\n",
              "      <th>4</th>\n",
              "      <td>다사492196</td>\n",
              "      <td>NaN</td>\n",
              "      <td>MULTIPOLYGON (((126.92700 37.27393, 126.92699 ...</td>\n",
              "      <td>고령인구</td>\n",
              "    </tr>\n",
              "  </tbody>\n",
              "</table>\n",
              "</div>"
            ],
            "text/plain": [
              "        gid  val                                           geometry label\n",
              "0  다사491193  NaN  MULTIPOLYGON (((126.92589 37.27122, 126.92589 ...  고령인구\n",
              "1  다사492193  NaN  MULTIPOLYGON (((126.92702 37.27123, 126.92701 ...  고령인구\n",
              "2  다사492194  NaN  MULTIPOLYGON (((126.92701 37.27213, 126.92701 ...  고령인구\n",
              "3  다사492195  NaN  MULTIPOLYGON (((126.92701 37.27303, 126.92700 ...  고령인구\n",
              "4  다사492196  NaN  MULTIPOLYGON (((126.92700 37.27393, 126.92699 ...  고령인구"
            ]
          },
          "metadata": {
            "tags": []
          },
          "execution_count": 45
        }
      ]
    },
    {
      "cell_type": "code",
      "metadata": {
        "id": "f1WTtSqmSJkg"
      },
      "source": [
        "geo_to_df(df_popul, norm_col='val') #, na_col='val'\n",
        "# 인구 현황이 가장 높은 위치\n",
        "# df_popul.iloc[df_popul[\"val\"].sort_values(ascending=False).index].reindex().head()"
      ],
      "execution_count": null,
      "outputs": []
    },
    {
      "cell_type": "code",
      "metadata": {
        "colab": {
          "base_uri": "https://localhost:8080/",
          "height": 282
        },
        "id": "aNtps83D9GLz",
        "outputId": "e1657169-1d1b-42c6-82bf-1dba70f48a33"
      },
      "source": [
        "df_popul.describe()"
      ],
      "execution_count": null,
      "outputs": [
        {
          "output_type": "execute_result",
          "data": {
            "text/html": [
              "<div>\n",
              "<style scoped>\n",
              "    .dataframe tbody tr th:only-of-type {\n",
              "        vertical-align: middle;\n",
              "    }\n",
              "\n",
              "    .dataframe tbody tr th {\n",
              "        vertical-align: top;\n",
              "    }\n",
              "\n",
              "    .dataframe thead th {\n",
              "        text-align: right;\n",
              "    }\n",
              "</style>\n",
              "<table border=\"1\" class=\"dataframe\">\n",
              "  <thead>\n",
              "    <tr style=\"text-align: right;\">\n",
              "      <th></th>\n",
              "      <th>val</th>\n",
              "      <th>정규화</th>\n",
              "    </tr>\n",
              "  </thead>\n",
              "  <tbody>\n",
              "    <tr>\n",
              "      <th>count</th>\n",
              "      <td>13218.000000</td>\n",
              "      <td>13218.000000</td>\n",
              "    </tr>\n",
              "    <tr>\n",
              "      <th>mean</th>\n",
              "      <td>89.579361</td>\n",
              "      <td>0.041723</td>\n",
              "    </tr>\n",
              "    <tr>\n",
              "      <th>std</th>\n",
              "      <td>138.622802</td>\n",
              "      <td>0.064566</td>\n",
              "    </tr>\n",
              "    <tr>\n",
              "      <th>min</th>\n",
              "      <td>0.000000</td>\n",
              "      <td>0.000000</td>\n",
              "    </tr>\n",
              "    <tr>\n",
              "      <th>25%</th>\n",
              "      <td>10.000000</td>\n",
              "      <td>0.004658</td>\n",
              "    </tr>\n",
              "    <tr>\n",
              "      <th>50%</th>\n",
              "      <td>35.000000</td>\n",
              "      <td>0.016302</td>\n",
              "    </tr>\n",
              "    <tr>\n",
              "      <th>75%</th>\n",
              "      <td>102.750000</td>\n",
              "      <td>0.047857</td>\n",
              "    </tr>\n",
              "    <tr>\n",
              "      <th>max</th>\n",
              "      <td>2147.000000</td>\n",
              "      <td>1.000000</td>\n",
              "    </tr>\n",
              "  </tbody>\n",
              "</table>\n",
              "</div>"
            ],
            "text/plain": [
              "                val           정규화\n",
              "count  13218.000000  13218.000000\n",
              "mean      89.579361      0.041723\n",
              "std      138.622802      0.064566\n",
              "min        0.000000      0.000000\n",
              "25%       10.000000      0.004658\n",
              "50%       35.000000      0.016302\n",
              "75%      102.750000      0.047857\n",
              "max     2147.000000      1.000000"
            ]
          },
          "metadata": {
            "tags": []
          },
          "execution_count": 47
        }
      ]
    },
    {
      "cell_type": "code",
      "metadata": {
        "colab": {
          "base_uri": "https://localhost:8080/"
        },
        "id": "rpA27WMsWQ3O",
        "outputId": "beb61471-9d87-4ca0-c126-82d0d10b2cca"
      },
      "source": [
        "df_popul.info()"
      ],
      "execution_count": null,
      "outputs": [
        {
          "output_type": "stream",
          "text": [
            "<class 'geopandas.geodataframe.GeoDataFrame'>\n",
            "Int64Index: 37500 entries, 0 to 12499\n",
            "Data columns (total 9 columns):\n",
            " #   Column       Non-Null Count  Dtype   \n",
            "---  ------       --------------  -----   \n",
            " 0   gid          37500 non-null  object  \n",
            " 1   val          13218 non-null  float64 \n",
            " 2   geometry     37500 non-null  geometry\n",
            " 3   label        37500 non-null  object  \n",
            " 4   정규화          13218 non-null  float64 \n",
            " 5   coordinates  37500 non-null  object  \n",
            " 6   coord_cent   37500 non-null  object  \n",
            " 7   geo_cent     37500 non-null  object  \n",
            " 8   grid_id      37500 non-null  object  \n",
            "dtypes: float64(2), geometry(1), object(6)\n",
            "memory usage: 2.9+ MB\n"
          ],
          "name": "stdout"
        }
      ]
    },
    {
      "cell_type": "markdown",
      "metadata": {
        "id": "gnwyGI02_Uje"
      },
      "source": [
        "#### <b>유동인구 데이터 탐색</b> - 혹시 비율로 시간대/요일별을 묶을 수 있을까?\r\n",
        "- <b>df_유동인구_시간대_cate</b>: 새벽, 출근, 낮, 퇴근, 밤\r\n",
        "- <b>df_유동인구_요일별_cate</b>: 평일, 주말\r\n",
        "- <b>df_유동인구_성연령</b>"
      ]
    },
    {
      "cell_type": "code",
      "metadata": {
        "id": "GbEpIc48_Tqe"
      },
      "source": [
        "df_유동인구_시간대 = pd.read_csv(colab_path + \"14.시간대별_유동인구(2020).csv\")\r\n",
        "df_유동인구_요일별 = pd.read_csv(colab_path + \"16.요일별_유동인구(2020).csv\", names=[\"월\",\"mon\",\"tue\",\"wed\",\"thu\",\"fri\",\"sat\",\"sun\",\"lon\",\"lat\"], header=0)\r\n",
        "\r\n",
        "성연령_names = ['월', '남10대', '남20대', '남30대', '남40대', '남50대', '남60대+', '여10대', '여20대', '여30대', '여40대', '여50대', '여60대+', 'lon', 'lat']\r\n",
        "df_유동인구_성연령 = pd.read_csv(colab_path + \"15.성연령별_유동인구(2020).csv\", names=성연령_names, header=0)"
      ],
      "execution_count": null,
      "outputs": []
    },
    {
      "cell_type": "code",
      "metadata": {
        "colab": {
          "base_uri": "https://localhost:8080/",
          "height": 135
        },
        "id": "3x2V5Cpp2c6o",
        "outputId": "e9f87751-2c8a-4ad0-d3f1-0ba129a22926"
      },
      "source": [
        "df_유동인구_성연령.head(3)"
      ],
      "execution_count": null,
      "outputs": [
        {
          "output_type": "execute_result",
          "data": {
            "text/html": [
              "<div>\n",
              "<style scoped>\n",
              "    .dataframe tbody tr th:only-of-type {\n",
              "        vertical-align: middle;\n",
              "    }\n",
              "\n",
              "    .dataframe tbody tr th {\n",
              "        vertical-align: top;\n",
              "    }\n",
              "\n",
              "    .dataframe thead th {\n",
              "        text-align: right;\n",
              "    }\n",
              "</style>\n",
              "<table border=\"1\" class=\"dataframe\">\n",
              "  <thead>\n",
              "    <tr style=\"text-align: right;\">\n",
              "      <th></th>\n",
              "      <th>월</th>\n",
              "      <th>남10대</th>\n",
              "      <th>남20대</th>\n",
              "      <th>남30대</th>\n",
              "      <th>남40대</th>\n",
              "      <th>남50대</th>\n",
              "      <th>남60대+</th>\n",
              "      <th>여10대</th>\n",
              "      <th>여20대</th>\n",
              "      <th>여30대</th>\n",
              "      <th>여40대</th>\n",
              "      <th>여50대</th>\n",
              "      <th>여60대+</th>\n",
              "      <th>lon</th>\n",
              "      <th>lat</th>\n",
              "    </tr>\n",
              "  </thead>\n",
              "  <tbody>\n",
              "    <tr>\n",
              "      <th>0</th>\n",
              "      <td>202001</td>\n",
              "      <td>0.00</td>\n",
              "      <td>0.02</td>\n",
              "      <td>0.04</td>\n",
              "      <td>0.04</td>\n",
              "      <td>0.04</td>\n",
              "      <td>0.02</td>\n",
              "      <td>0.00</td>\n",
              "      <td>0.00</td>\n",
              "      <td>0.04</td>\n",
              "      <td>0.04</td>\n",
              "      <td>0.04</td>\n",
              "      <td>0.02</td>\n",
              "      <td>126.929668</td>\n",
              "      <td>37.270151</td>\n",
              "    </tr>\n",
              "    <tr>\n",
              "      <th>1</th>\n",
              "      <td>202001</td>\n",
              "      <td>0.06</td>\n",
              "      <td>0.08</td>\n",
              "      <td>0.06</td>\n",
              "      <td>0.10</td>\n",
              "      <td>0.09</td>\n",
              "      <td>0.08</td>\n",
              "      <td>0.06</td>\n",
              "      <td>0.06</td>\n",
              "      <td>0.07</td>\n",
              "      <td>0.12</td>\n",
              "      <td>0.09</td>\n",
              "      <td>0.10</td>\n",
              "      <td>126.930229</td>\n",
              "      <td>37.270604</td>\n",
              "    </tr>\n",
              "    <tr>\n",
              "      <th>2</th>\n",
              "      <td>202001</td>\n",
              "      <td>0.09</td>\n",
              "      <td>0.12</td>\n",
              "      <td>0.10</td>\n",
              "      <td>0.23</td>\n",
              "      <td>0.18</td>\n",
              "      <td>0.15</td>\n",
              "      <td>0.11</td>\n",
              "      <td>0.09</td>\n",
              "      <td>0.09</td>\n",
              "      <td>0.25</td>\n",
              "      <td>0.23</td>\n",
              "      <td>0.13</td>\n",
              "      <td>126.930188</td>\n",
              "      <td>37.276012</td>\n",
              "    </tr>\n",
              "  </tbody>\n",
              "</table>\n",
              "</div>"
            ],
            "text/plain": [
              "        월  남10대  남20대  남30대  남40대  남50대  남60대+  여10대  여20대  여30대  여40대  여50대  여60대+         lon        lat\n",
              "0  202001  0.00  0.02  0.04  0.04  0.04   0.02  0.00  0.00  0.04  0.04  0.04   0.02  126.929668  37.270151\n",
              "1  202001  0.06  0.08  0.06  0.10  0.09   0.08  0.06  0.06  0.07  0.12  0.09   0.10  126.930229  37.270604\n",
              "2  202001  0.09  0.12  0.10  0.23  0.18   0.15  0.11  0.09  0.09  0.25  0.23   0.13  126.930188  37.276012"
            ]
          },
          "metadata": {
            "tags": []
          },
          "execution_count": 50
        }
      ]
    },
    {
      "cell_type": "code",
      "metadata": {
        "colab": {
          "base_uri": "https://localhost:8080/",
          "height": 194
        },
        "id": "aFwi1Wnogz6a",
        "outputId": "963fbf3b-127e-44cc-f90d-e3ed9dc797a1"
      },
      "source": [
        "# df_유동인구_요일별_cate\r\n",
        "요일 = {'평일':['mon', 'tue', 'wed', 'thu', 'fri'],\r\n",
        "        '주말':['sat', 'sun']}\r\n",
        "\r\n",
        "for str in range(len(list(요일.keys()))):\r\n",
        "    if len(list(요일.keys())) >= len(list(요일.values())[str]):\r\n",
        "        for val in range(len(list(요일.values())[str])):\r\n",
        "            df_유동인구_요일별['평일'] = df_유동인구_요일별[list(요일.values())[val]].agg(sum, axis=1) / 5\r\n",
        "    else:\r\n",
        "        for val in range(len(list(요일.values())[str])):\r\n",
        "            df_유동인구_요일별['주말'] = df_유동인구_요일별[list(요일.values())[str]].agg(sum, axis=1) / 2\r\n",
        "\r\n",
        "요일_col = ['월', '평일', '주말', 'lon', 'lat']\r\n",
        "df_유동인구_요일별_cate = df_유동인구_요일별[요일_col]\r\n",
        "\r\n",
        "df_유동인구_요일별_cate.head()"
      ],
      "execution_count": null,
      "outputs": [
        {
          "output_type": "execute_result",
          "data": {
            "text/html": [
              "<div>\n",
              "<style scoped>\n",
              "    .dataframe tbody tr th:only-of-type {\n",
              "        vertical-align: middle;\n",
              "    }\n",
              "\n",
              "    .dataframe tbody tr th {\n",
              "        vertical-align: top;\n",
              "    }\n",
              "\n",
              "    .dataframe thead th {\n",
              "        text-align: right;\n",
              "    }\n",
              "</style>\n",
              "<table border=\"1\" class=\"dataframe\">\n",
              "  <thead>\n",
              "    <tr style=\"text-align: right;\">\n",
              "      <th></th>\n",
              "      <th>월</th>\n",
              "      <th>평일</th>\n",
              "      <th>주말</th>\n",
              "      <th>lon</th>\n",
              "      <th>lat</th>\n",
              "    </tr>\n",
              "  </thead>\n",
              "  <tbody>\n",
              "    <tr>\n",
              "      <th>0</th>\n",
              "      <td>202001</td>\n",
              "      <td>0.000</td>\n",
              "      <td>0.080</td>\n",
              "      <td>126.928999</td>\n",
              "      <td>37.284119</td>\n",
              "    </tr>\n",
              "    <tr>\n",
              "      <th>1</th>\n",
              "      <td>202001</td>\n",
              "      <td>0.136</td>\n",
              "      <td>0.640</td>\n",
              "      <td>126.929668</td>\n",
              "      <td>37.270151</td>\n",
              "    </tr>\n",
              "    <tr>\n",
              "      <th>2</th>\n",
              "      <td>202001</td>\n",
              "      <td>0.532</td>\n",
              "      <td>1.995</td>\n",
              "      <td>126.930229</td>\n",
              "      <td>37.270604</td>\n",
              "    </tr>\n",
              "    <tr>\n",
              "      <th>3</th>\n",
              "      <td>202001</td>\n",
              "      <td>0.684</td>\n",
              "      <td>4.475</td>\n",
              "      <td>126.930188</td>\n",
              "      <td>37.276012</td>\n",
              "    </tr>\n",
              "    <tr>\n",
              "      <th>4</th>\n",
              "      <td>202001</td>\n",
              "      <td>0.000</td>\n",
              "      <td>0.115</td>\n",
              "      <td>126.930674</td>\n",
              "      <td>37.286381</td>\n",
              "    </tr>\n",
              "  </tbody>\n",
              "</table>\n",
              "</div>"
            ],
            "text/plain": [
              "        월     평일     주말         lon        lat\n",
              "0  202001  0.000  0.080  126.928999  37.284119\n",
              "1  202001  0.136  0.640  126.929668  37.270151\n",
              "2  202001  0.532  1.995  126.930229  37.270604\n",
              "3  202001  0.684  4.475  126.930188  37.276012\n",
              "4  202001  0.000  0.115  126.930674  37.286381"
            ]
          },
          "metadata": {
            "tags": []
          },
          "execution_count": 51
        }
      ]
    },
    {
      "cell_type": "code",
      "metadata": {
        "colab": {
          "base_uri": "https://localhost:8080/",
          "height": 194
        },
        "id": "quRuGPCmDE-C",
        "outputId": "5aeea95c-1145-4df6-8427-afb0fdd8a108"
      },
      "source": [
        "# df_유동인구_시간대_cate\r\n",
        "시간 = {'새벽(01-05)':['TMST_01', 'TMST_02', 'TMST_03', 'TMST_04', 'TMST_05'], \r\n",
        "        '출근(06-09)':['TMST_06', 'TMST_07', 'TMST_08', 'TMST_09'], \r\n",
        "        '낮(10-16)'  :['TMST_10', 'TMST_11', 'TMST_12', 'TMST_13', 'TMST_14', 'TMST_15', 'TMST_16'], \r\n",
        "        '퇴근(17-20)':['TMST_17', 'TMST_18', 'TMST_19', 'TMST_20'], \r\n",
        "        '밤(21-00)'  :['TMST_21', 'TMST_22', 'TMST_23', 'TMST_00']}\r\n",
        "\r\n",
        "for str in range(len(list(시간.keys()))):\r\n",
        "    if len(list(시간.keys())) >= len(list(시간.values())[str]):\r\n",
        "        for val in range(len(list(시간.values())[str])):\r\n",
        "            df_유동인구_시간대[list(시간.keys())[val]] = df_유동인구_시간대[list(시간.values())[val]].agg(sum, axis=1)\r\n",
        "    else:\r\n",
        "        for val in range(len(list(시간.values())[str])):\r\n",
        "            df_유동인구_시간대[list(시간.keys())[str]] = df_유동인구_시간대[list(시간.values())[str]].agg(sum, axis=1)\r\n",
        "\r\n",
        "시간대_col = ['STD_YM', '새벽(01-05)', '출근(06-09)', '낮(10-16)', '퇴근(17-20)', '밤(21-00)', 'lon', 'lat']\r\n",
        "df_유동인구_시간대_cate = df_유동인구_시간대[시간대_col]\r\n",
        "\r\n",
        "df_유동인구_시간대_cate['월'] = df_유동인구_시간대_cate['STD_YM']\r\n",
        "df_유동인구_시간대_cate.drop('STD_YM', axis=1, inplace=True)\r\n",
        "df_유동인구_시간대_cate = df_유동인구_시간대_cate[['월', '새벽(01-05)', '출근(06-09)', '낮(10-16)', '퇴근(17-20)', '밤(21-00)', 'lon', 'lat']]\r\n",
        "\r\n",
        "df_유동인구_시간대_cate.head()"
      ],
      "execution_count": null,
      "outputs": [
        {
          "output_type": "execute_result",
          "data": {
            "text/html": [
              "<div>\n",
              "<style scoped>\n",
              "    .dataframe tbody tr th:only-of-type {\n",
              "        vertical-align: middle;\n",
              "    }\n",
              "\n",
              "    .dataframe tbody tr th {\n",
              "        vertical-align: top;\n",
              "    }\n",
              "\n",
              "    .dataframe thead th {\n",
              "        text-align: right;\n",
              "    }\n",
              "</style>\n",
              "<table border=\"1\" class=\"dataframe\">\n",
              "  <thead>\n",
              "    <tr style=\"text-align: right;\">\n",
              "      <th></th>\n",
              "      <th>월</th>\n",
              "      <th>새벽(01-05)</th>\n",
              "      <th>출근(06-09)</th>\n",
              "      <th>낮(10-16)</th>\n",
              "      <th>퇴근(17-20)</th>\n",
              "      <th>밤(21-00)</th>\n",
              "      <th>lon</th>\n",
              "      <th>lat</th>\n",
              "    </tr>\n",
              "  </thead>\n",
              "  <tbody>\n",
              "    <tr>\n",
              "      <th>0</th>\n",
              "      <td>202001</td>\n",
              "      <td>0.00</td>\n",
              "      <td>0.04</td>\n",
              "      <td>0.14</td>\n",
              "      <td>0.08</td>\n",
              "      <td>0.06</td>\n",
              "      <td>126.929668</td>\n",
              "      <td>37.270151</td>\n",
              "    </tr>\n",
              "    <tr>\n",
              "      <th>1</th>\n",
              "      <td>202001</td>\n",
              "      <td>0.10</td>\n",
              "      <td>0.12</td>\n",
              "      <td>0.33</td>\n",
              "      <td>0.24</td>\n",
              "      <td>0.18</td>\n",
              "      <td>126.930229</td>\n",
              "      <td>37.270604</td>\n",
              "    </tr>\n",
              "    <tr>\n",
              "      <th>2</th>\n",
              "      <td>202001</td>\n",
              "      <td>0.17</td>\n",
              "      <td>0.20</td>\n",
              "      <td>0.59</td>\n",
              "      <td>0.46</td>\n",
              "      <td>0.37</td>\n",
              "      <td>126.930188</td>\n",
              "      <td>37.276012</td>\n",
              "    </tr>\n",
              "    <tr>\n",
              "      <th>3</th>\n",
              "      <td>202001</td>\n",
              "      <td>0.04</td>\n",
              "      <td>0.08</td>\n",
              "      <td>0.16</td>\n",
              "      <td>0.16</td>\n",
              "      <td>0.12</td>\n",
              "      <td>126.931363</td>\n",
              "      <td>37.269708</td>\n",
              "    </tr>\n",
              "    <tr>\n",
              "      <th>4</th>\n",
              "      <td>202001</td>\n",
              "      <td>0.04</td>\n",
              "      <td>0.15</td>\n",
              "      <td>0.43</td>\n",
              "      <td>0.32</td>\n",
              "      <td>0.16</td>\n",
              "      <td>126.931319</td>\n",
              "      <td>37.275567</td>\n",
              "    </tr>\n",
              "  </tbody>\n",
              "</table>\n",
              "</div>"
            ],
            "text/plain": [
              "        월  새벽(01-05)  출근(06-09)  낮(10-16)  퇴근(17-20)  밤(21-00)         lon        lat\n",
              "0  202001       0.00       0.04      0.14       0.08      0.06  126.929668  37.270151\n",
              "1  202001       0.10       0.12      0.33       0.24      0.18  126.930229  37.270604\n",
              "2  202001       0.17       0.20      0.59       0.46      0.37  126.930188  37.276012\n",
              "3  202001       0.04       0.08      0.16       0.16      0.12  126.931363  37.269708\n",
              "4  202001       0.04       0.15      0.43       0.32      0.16  126.931319  37.275567"
            ]
          },
          "metadata": {
            "tags": []
          },
          "execution_count": 52
        }
      ]
    },
    {
      "cell_type": "markdown",
      "metadata": {
        "id": "yTHDfyV2SeU3"
      },
      "source": [
        "#### geopandas plot으로  확인 - gdpplot()"
      ]
    },
    {
      "cell_type": "code",
      "metadata": {
        "id": "DkJKBGraupMl"
      },
      "source": [
        "gpdplot(df_popul, \"gid\", title=\"인구\", cmap='summer')"
      ],
      "execution_count": null,
      "outputs": []
    },
    {
      "cell_type": "code",
      "metadata": {
        "colab": {
          "base_uri": "https://localhost:8080/",
          "height": 499
        },
        "id": "eD5lokWxyqhS",
        "outputId": "1f55003f-9f52-47f6-8fcb-7d72f9fff016"
      },
      "source": [
        "gpdplot(df_인도26, \"UFID\", title=\"수원시 인도\", cmap='summer', figsize=(10, 10))"
      ],
      "execution_count": null,
      "outputs": [
        {
          "output_type": "display_data",
          "data": {
            "image/png": "[encoded data removed]",
            "text/plain": [
              "<Figure size 720x720 with 1 Axes>"
            ]
          },
          "metadata": {
            "tags": [],
            "needs_background": "light"
          }
        }
      ]
    },
    {
      "cell_type": "code",
      "metadata": {
        "colab": {
          "base_uri": "https://localhost:8080/",
          "height": 499
        },
        "id": "dW8mBnT7ufug",
        "outputId": "c8bb0d98-af83-4fdb-d680-7cedbb1329a7"
      },
      "source": [
        "gpdplot(df_가능인도, \"UFID\", title=\"폭 1.5m이상 인도\", cmap='summer', figsize=(10, 10))"
      ],
      "execution_count": null,
      "outputs": [
        {
          "output_type": "display_data",
          "data": {
            "image/png": "[encoded data removed]",
            "text/plain": [
              "<Figure size 720x720 with 1 Axes>"
            ]
          },
          "metadata": {
            "tags": [],
            "needs_background": "light"
          }
        }
      ]
    },
    {
      "cell_type": "code",
      "metadata": {
        "id": "lK7OZxUkZKri"
      },
      "source": [
        "gpdplot(df_연면적28, 'gid', '건물연면적', figsize=(10, 10))"
      ],
      "execution_count": null,
      "outputs": []
    },
    {
      "cell_type": "code",
      "metadata": {
        "id": "KWN3Q42aT_1T"
      },
      "source": [
        "df_list  = [df_교통노드20, df_도로명27, df_지적도32, df_상세도로망22] #, df_교통링크21\r\n",
        "df_ids   = ['NODE_ID', 'BDTYP_CD', 'PNU', 'link_id'] #, 'LINK_ID'\r\n",
        "df_title = ['교통노드', '도로명', '지적도', '상세도로망'] #, '교통링크'\r\n",
        "\r\n",
        "gpdplot(df_list, df_ids, title=df_title, sub=True, nrow=2, ncol=2, figsize=(15, 15))"
      ],
      "execution_count": null,
      "outputs": []
    },
    {
      "cell_type": "code",
      "metadata": {
        "colab": {
          "base_uri": "https://localhost:8080/",
          "height": 614
        },
        "id": "UOQ9jmE-BM2m",
        "outputId": "7805ac34-12d2-4415-bc0a-325f11acff79"
      },
      "source": [
        "df_구역나눔_list  = [df_법정시군구29, df_법정읍면동30, df_행정읍면동31]\r\n",
        "df_구역나눔_id    = [\"SIG_CD\", \"EMD_CD\", \"ADM_DR_CD\"]\r\n",
        "df_구역나눔_title = ['법정시군구', '법정읍면동', '행정읍면동']\r\n",
        "\r\n",
        "gpdplot(df_구역나눔_list, df_구역나눔_id, title=df_구역나눔_title, sub=True, nrow=2, ncol=2, figsize=(10, 10))"
      ],
      "execution_count": null,
      "outputs": [
        {
          "output_type": "display_data",
          "data": {
            "image/png": "[encoded data removed]",
            "text/plain": [
              "<Figure size 720x720 with 4 Axes>"
            ]
          },
          "metadata": {
            "tags": [],
            "needs_background": "light"
          }
        }
      ]
    },
    {
      "cell_type": "code",
      "metadata": {
        "id": "R1rR1cM42ezw"
      },
      "source": [
        "# df_popul['geometry1'] = df_popul['geometry']\r\n",
        "# df_popul['geometry'] = df_popul['geo_cent']"
      ],
      "execution_count": null,
      "outputs": []
    },
    {
      "cell_type": "code",
      "metadata": {
        "id": "cqMN0H1e3BBv"
      },
      "source": [
        "# df_popul.head()"
      ],
      "execution_count": null,
      "outputs": []
    },
    {
      "cell_type": "code",
      "metadata": {
        "colab": {
          "base_uri": "https://localhost:8080/",
          "height": 282
        },
        "id": "kOeCqfu07eSU",
        "outputId": "c53e92ed-019f-4c71-cd55-b0a543f842be"
      },
      "source": [
        "df_popul.describe()"
      ],
      "execution_count": null,
      "outputs": [
        {
          "output_type": "execute_result",
          "data": {
            "text/html": [
              "<div>\n",
              "<style scoped>\n",
              "    .dataframe tbody tr th:only-of-type {\n",
              "        vertical-align: middle;\n",
              "    }\n",
              "\n",
              "    .dataframe tbody tr th {\n",
              "        vertical-align: top;\n",
              "    }\n",
              "\n",
              "    .dataframe thead th {\n",
              "        text-align: right;\n",
              "    }\n",
              "</style>\n",
              "<table border=\"1\" class=\"dataframe\">\n",
              "  <thead>\n",
              "    <tr style=\"text-align: right;\">\n",
              "      <th></th>\n",
              "      <th>val</th>\n",
              "      <th>정규화</th>\n",
              "    </tr>\n",
              "  </thead>\n",
              "  <tbody>\n",
              "    <tr>\n",
              "      <th>count</th>\n",
              "      <td>37500.000000</td>\n",
              "      <td>37500.000000</td>\n",
              "    </tr>\n",
              "    <tr>\n",
              "      <th>mean</th>\n",
              "      <td>31.574933</td>\n",
              "      <td>0.014707</td>\n",
              "    </tr>\n",
              "    <tr>\n",
              "      <th>std</th>\n",
              "      <td>92.760756</td>\n",
              "      <td>0.043205</td>\n",
              "    </tr>\n",
              "    <tr>\n",
              "      <th>min</th>\n",
              "      <td>0.000000</td>\n",
              "      <td>0.000000</td>\n",
              "    </tr>\n",
              "    <tr>\n",
              "      <th>25%</th>\n",
              "      <td>0.000000</td>\n",
              "      <td>0.000000</td>\n",
              "    </tr>\n",
              "    <tr>\n",
              "      <th>50%</th>\n",
              "      <td>0.000000</td>\n",
              "      <td>0.000000</td>\n",
              "    </tr>\n",
              "    <tr>\n",
              "      <th>75%</th>\n",
              "      <td>13.000000</td>\n",
              "      <td>0.006055</td>\n",
              "    </tr>\n",
              "    <tr>\n",
              "      <th>max</th>\n",
              "      <td>2147.000000</td>\n",
              "      <td>1.000000</td>\n",
              "    </tr>\n",
              "  </tbody>\n",
              "</table>\n",
              "</div>"
            ],
            "text/plain": [
              "                val           정규화\n",
              "count  37500.000000  37500.000000\n",
              "mean      31.574933      0.014707\n",
              "std       92.760756      0.043205\n",
              "min        0.000000      0.000000\n",
              "25%        0.000000      0.000000\n",
              "50%        0.000000      0.000000\n",
              "75%       13.000000      0.006055\n",
              "max     2147.000000      1.000000"
            ]
          },
          "metadata": {
            "tags": []
          },
          "execution_count": 56
        }
      ]
    },
    {
      "cell_type": "code",
      "metadata": {
        "colab": {
          "base_uri": "https://localhost:8080/"
        },
        "id": "OlnckS578KN1",
        "outputId": "32cfeee1-3bbf-4a33-f15c-67e9a52e0a66"
      },
      "source": [
        "df_popul[\"val\"].sort_values(ascending=False)"
      ],
      "execution_count": null,
      "outputs": [
        {
          "output_type": "execute_result",
          "data": {
            "text/plain": [
              "8460     2147.0\n",
              "11525    1791.0\n",
              "11194    1498.0\n",
              "11102    1426.0\n",
              "11280    1187.0\n",
              "          ...  \n",
              "11183       0.0\n",
              "11184       0.0\n",
              "11185       0.0\n",
              "11186       0.0\n",
              "0           0.0\n",
              "Name: val, Length: 37500, dtype: float64"
            ]
          },
          "metadata": {
            "tags": []
          },
          "execution_count": 57
        }
      ]
    },
    {
      "cell_type": "code",
      "metadata": {
        "colab": {
          "base_uri": "https://localhost:8080/",
          "height": 411
        },
        "id": "QJcZ6oi330ge",
        "outputId": "29c071de-ea40-4b81-e4d9-ff5a12801d79"
      },
      "source": [
        "from mpl_toolkits.axes_grid1 import make_axes_locatable\r\n",
        "# 수원 시군구 인구 분포 단계구분도(Chropleth Map) 시각화\r\n",
        "fig, ax = plt.subplots(1, 1, figsize=(10, 10))\r\n",
        "# 범례\r\n",
        "divider = make_axes_locatable(ax)\r\n",
        "cax = divider.append_axes(\"right\", size=\"5%\", pad=0.1)\r\n",
        "# 시각화\r\n",
        "column = 'val'\r\n",
        "df_popul[df_popul['label'] == '유소년'].plot(column, ax=ax, legend=True, cax=cax, cmap='OrRd')\r\n",
        "ax.set_title(\"아 짜증나\")\r\n",
        "ax.set_axis_off()\r\n",
        "plt.show()"
      ],
      "execution_count": null,
      "outputs": [
        {
          "output_type": "display_data",
          "data": {
            "image/png": "[encoded data removed]",
            "text/plain": [
              "<Figure size 720x720 with 2 Axes>"
            ]
          },
          "metadata": {
            "tags": [],
            "needs_background": "light"
          }
        }
      ]
    },
    {
      "cell_type": "code",
      "metadata": {
        "colab": {
          "base_uri": "https://localhost:8080/",
          "height": 194
        },
        "id": "S3XgViqEDjsW",
        "outputId": "5f79f55f-7049-4c17-f9e0-d8824a947648"
      },
      "source": [
        "df_행정읍면동31.head()"
      ],
      "execution_count": null,
      "outputs": [
        {
          "output_type": "execute_result",
          "data": {
            "text/html": [
              "<div>\n",
              "<style scoped>\n",
              "    .dataframe tbody tr th:only-of-type {\n",
              "        vertical-align: middle;\n",
              "    }\n",
              "\n",
              "    .dataframe tbody tr th {\n",
              "        vertical-align: top;\n",
              "    }\n",
              "\n",
              "    .dataframe thead th {\n",
              "        text-align: right;\n",
              "    }\n",
              "</style>\n",
              "<table border=\"1\" class=\"dataframe\">\n",
              "  <thead>\n",
              "    <tr style=\"text-align: right;\">\n",
              "      <th></th>\n",
              "      <th>ADM_DR_CD</th>\n",
              "      <th>ADM_DR_NM</th>\n",
              "      <th>geometry</th>\n",
              "      <th>coord_cent</th>\n",
              "      <th>geo_cent</th>\n",
              "      <th>grid_id</th>\n",
              "    </tr>\n",
              "  </thead>\n",
              "  <tbody>\n",
              "    <tr>\n",
              "      <th>0</th>\n",
              "      <td>3101154</td>\n",
              "      <td>파장동</td>\n",
              "      <td>MULTIPOLYGON (((127.00491 37.33910, 127.00535 ...</td>\n",
              "      <td>[126.98937797965233, 37.3205314950593]</td>\n",
              "      <td>POINT (126.9893779796523 37.3205314950593)</td>\n",
              "      <td>00000</td>\n",
              "    </tr>\n",
              "    <tr>\n",
              "      <th>1</th>\n",
              "      <td>3101155</td>\n",
              "      <td>율천동</td>\n",
              "      <td>MULTIPOLYGON (((126.97444 37.30857, 126.97466 ...</td>\n",
              "      <td>[126.97175291590135, 37.2995923755296]</td>\n",
              "      <td>POINT (126.9717529159013 37.2995923755296)</td>\n",
              "      <td>00001</td>\n",
              "    </tr>\n",
              "    <tr>\n",
              "      <th>2</th>\n",
              "      <td>3101156</td>\n",
              "      <td>정자1동</td>\n",
              "      <td>MULTIPOLYGON (((126.98764 37.31051, 126.98754 ...</td>\n",
              "      <td>[126.98932233822585, 37.30470343890576]</td>\n",
              "      <td>POINT (126.9893223382258 37.30470343890576)</td>\n",
              "      <td>00002</td>\n",
              "    </tr>\n",
              "    <tr>\n",
              "      <th>3</th>\n",
              "      <td>3101157</td>\n",
              "      <td>정자2동</td>\n",
              "      <td>MULTIPOLYGON (((126.99806 37.29766, 126.99830 ...</td>\n",
              "      <td>[126.99838339827063, 37.292270984058746]</td>\n",
              "      <td>POINT (126.9983833982706 37.29227098405875)</td>\n",
              "      <td>00003</td>\n",
              "    </tr>\n",
              "    <tr>\n",
              "      <th>4</th>\n",
              "      <td>3101159</td>\n",
              "      <td>송죽동</td>\n",
              "      <td>MULTIPOLYGON (((127.01135 37.31892, 127.01146 ...</td>\n",
              "      <td>[127.00480729486611, 37.30643530010377]</td>\n",
              "      <td>POINT (127.0048072948661 37.30643530010377)</td>\n",
              "      <td>00004</td>\n",
              "    </tr>\n",
              "  </tbody>\n",
              "</table>\n",
              "</div>"
            ],
            "text/plain": [
              "  ADM_DR_CD ADM_DR_NM                                           geometry                                coord_cent                                     geo_cent grid_id\n",
              "0   3101154       파장동  MULTIPOLYGON (((127.00491 37.33910, 127.00535 ...    [126.98937797965233, 37.3205314950593]   POINT (126.9893779796523 37.3205314950593)   00000\n",
              "1   3101155       율천동  MULTIPOLYGON (((126.97444 37.30857, 126.97466 ...    [126.97175291590135, 37.2995923755296]   POINT (126.9717529159013 37.2995923755296)   00001\n",
              "2   3101156      정자1동  MULTIPOLYGON (((126.98764 37.31051, 126.98754 ...   [126.98932233822585, 37.30470343890576]  POINT (126.9893223382258 37.30470343890576)   00002\n",
              "3   3101157      정자2동  MULTIPOLYGON (((126.99806 37.29766, 126.99830 ...  [126.99838339827063, 37.292270984058746]  POINT (126.9983833982706 37.29227098405875)   00003\n",
              "4   3101159       송죽동  MULTIPOLYGON (((127.01135 37.31892, 127.01146 ...   [127.00480729486611, 37.30643530010377]  POINT (127.0048072948661 37.30643530010377)   00004"
            ]
          },
          "metadata": {
            "tags": []
          },
          "execution_count": 83
        }
      ]
    },
    {
      "cell_type": "code",
      "metadata": {
        "id": "RaKQKqE9L7Wg"
      },
      "source": [
        "sigungu = 행정경계시군구.copy()\r\n",
        "dong = 고양시행정경계행정동기준.copy()\r\n",
        "sigungu['coordinates'] = sigungu['geometry'].apply(multipolygon_to_coordinates) \r\n",
        "sigungu = pd.DataFrame(sigungu)\r\n",
        "\r\n",
        "dong['coordinates'] = dong['geometry'].apply(multipolygon_to_coordinates) \r\n",
        "dong = pd.DataFrame(dong)\r\n",
        "dong['adm_nm'] = dong['행정동명']"
      ],
      "execution_count": null,
      "outputs": []
    },
    {
      "cell_type": "code",
      "metadata": {
        "colab": {
          "base_uri": "https://localhost:8080/"
        },
        "id": "URbnrP6mTNro",
        "outputId": "a986a2ee-821d-4208-8b4e-b0cab9aebb41"
      },
      "source": [
        "df_행정읍면동31['coord_cent'][0][0]"
      ],
      "execution_count": null,
      "outputs": [
        {
          "output_type": "execute_result",
          "data": {
            "text/plain": [
              "126.98937797965233"
            ]
          },
          "metadata": {
            "tags": []
          },
          "execution_count": 94
        }
      ]
    },
    {
      "cell_type": "code",
      "metadata": {
        "id": "fNTtzxySCn0f"
      },
      "source": [
        "# def get_point_isin_which_dong(Data_point_input, Data_dong_input, target):\r\n",
        "#     Data_point = Data_point_input.copy()\r\n",
        "#     Data_dong  = Data_dong_input.copy()\r\n",
        "    \r\n",
        "#     dong_contain = []\r\n",
        "#     index = []\r\n",
        "    \r\n",
        "#     for i in tqdm(range(0, len(Data_point))):\r\n",
        "#         for idx, coord in enumerate(Data_dong['geometry']):\r\n",
        "            \r\n",
        "#             if coord.contains(Point(Data_point[['경도','위도']].values[i])):\r\n",
        "#                 dong_contain.append(Data_dong.loc[idx, target])           \r\n",
        "#                 index.append(i)\r\n",
        "                \r\n",
        "#     return dong_contain, index"
      ],
      "execution_count": null,
      "outputs": []
    },
    {
      "cell_type": "code",
      "metadata": {
        "id": "v9Ncea1NSORl"
      },
      "source": [
        "# Data_point = df_popul\r\n",
        "# Data_dong  = df_행정읍면동31\r\n",
        "\r\n",
        "# dong_contain = []\r\n",
        "# index = []\r\n",
        "\r\n",
        "# for i in tqdm(range(0, len(Data_point))):\r\n",
        "#     for idx, coord in enumerate(Data_dong['geometry']):\r\n",
        "#         if coord.contains(Data_point[['coord_cent'][1], ['coord_cent'][0]].values[i]):\r\n",
        "#             dong_contain.append(Data_dong.loc[idx, 'val'])           \r\n",
        "#             index.append(i)"
      ],
      "execution_count": null,
      "outputs": []
    },
    {
      "cell_type": "code",
      "metadata": {
        "id": "8301UkN_MM7z"
      },
      "source": [
        "# # 인구분포도 = 인구분포도[인구분포도['val'] != 0].reset_index(drop=True)\r\n",
        "# df_popul = df_popul[df_popul['val'] != 0].reset_index(drop=True)\r\n",
        "\r\n",
        "# print(len(df_popul))\r\n",
        "# adm_nm, idx = get_point_isin_which_dong(df_popul, dong, 'adm_nm')\r\n",
        "\r\n",
        "# # 인구분포도 = 인구분포도[인구분포도.index.isin(idx)]\r\n",
        "# # 인구분포도['adm_nm'] = adm_nm\r\n",
        "# df_popul = df_popul[df_popul.index.isin(idx)]\r\n",
        "# df_popul['adm_nm'] = adm_nm"
      ],
      "execution_count": null,
      "outputs": []
    },
    {
      "cell_type": "markdown",
      "metadata": {
        "id": "UgC3MdupyHWr"
      },
      "source": [
        "### 시각화 - pydeck ; Colab 작동 X(jupyter에서 사용)"
      ]
    },
    {
      "cell_type": "code",
      "metadata": {
        "id": "DRiJUsQDDK-8"
      },
      "source": [
        "# pydeck은 Colab 지원 X -> Jupyter notebook 사용\r\n",
        "# https://compas.lh.or.kr/subj/past/code?subjNo=SBJ_2009_001&teamNo=677\r\n",
        "# 광양시 전기자동차 충전소\r\n",
        "# Make layer\r\n",
        "# 사람이 있는 그리드만 추출\r\n",
        "layer = pdk.Layer( 'PolygonLayer', # 사용할 Layer 타입 \r\n",
        "                  df_popul[(df_popul['val'].isnull()==False) & df_popul['val']!=0], # 시각화에 쓰일 데이터프레임 \r\n",
        "                  get_polygon='coordinates', # geometry 정보를 담고있는 컬럼 이름 \r\n",
        "                  get_fill_color='[0, 255*정규화인구, 0, 정규화인구*10000 ]', # 각 데이터 별 rgb 또는 rgba 값 (0~255)\r\n",
        "                  pickable=True, # 지도와 interactive 한 동작 on \r\n",
        "                  auto_highlight=True # 마우스 오버(hover) 시 박스 출력 \r\n",
        "                 ) \r\n",
        "\r\n",
        "# Set the viewport location \r\n",
        "center = [127.696280, 34.940640] \r\n",
        "view_state = pdk.ViewState( \r\n",
        "    longitude=center[0], \r\n",
        "    latitude=center[1], \r\n",
        "    zoom=10\r\n",
        ") \r\n",
        "\r\n",
        "# Render \r\n",
        "r = pdk.Deck(layers=[layer], \r\n",
        "             initial_view_state=view_state,\r\n",
        "             map_style='mapbox://styles/mapbox/dark-v9', \r\n",
        "             api_keys='pk.eyJ1IjoianVuZ3dvbjY0MiIsImEiOiJja2x0aHYwc3UwM2hpMm5uNjF2cnRxMmlyIn0.f795wWCq-p1kAZBvoZL2Ww'\r\n",
        "            #  map_style='mapbox://styles/mapbox/outdoors-v11'\r\n",
        "            )\r\n",
        "# r = pdk.Deck(layers=[layer], initial_view_state=view_state)\r\n",
        "# r.to_html()\r\n",
        "\r\n",
        "r.show()"
      ],
      "execution_count": null,
      "outputs": []
    },
    {
      "cell_type": "code",
      "metadata": {
        "id": "ItagOlTGa7Cl"
      },
      "source": [
        ""
      ],
      "execution_count": null,
      "outputs": []
    },
    {
      "cell_type": "code",
      "metadata": {
        "id": "xfsNsrjb1rjb"
      },
      "source": [
        ""
      ],
      "execution_count": null,
      "outputs": []
    },
    {
      "cell_type": "markdown",
      "metadata": {
        "id": "IIyd3LjJDLsM"
      },
      "source": [
        "### 시각화 - folium; CircularBinning으로 json, to_crs, to_json"
      ]
    },
    {
      "cell_type": "code",
      "metadata": {
        "id": "RQkyH1R6moPI"
      },
      "source": [
        "json = CircularBinning(features=\"geoband:gvi_busan\", weight=\"greenview\",\r\n",
        "                        csr=\"EPSG:4326\", minX=\"128.7617\", minY=\"34.9891\", maxX=\"129.3056\", maxY=\"35.389\",\r\n",
        "                        radius=\"0.05\", validGrid=\"False\", saveFileName=\"json/result_CircularBinning.json\")\r\n",
        "gdf = gpd.read_file('json/result_CircularBinning.json')"
      ],
      "execution_count": null,
      "outputs": []
    },
    {
      "cell_type": "code",
      "metadata": {
        "id": "dL3vzLpemo6r"
      },
      "source": [
        "gdf = gdf.to_crs(epsg='4326')\r\n",
        "converted_json = gdf.to_json()\r\n",
        "\r\n",
        "m = folium.Map(\r\n",
        "    location=[35.1598,129.0001],\r\n",
        "    zoom_start=10\r\n",
        ")\r\n",
        "\r\n",
        "folium.GeoJson(\r\n",
        "    converted_json,\r\n",
        ").add_to(m)\r\n",
        "\r\n",
        "m"
      ],
      "execution_count": null,
      "outputs": []
    }
  ]
}