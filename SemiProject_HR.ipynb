{
  "nbformat": 4,
  "nbformat_minor": 0,
  "metadata": {
    "colab": {
      "name": "SemiProject_HR.ipynb",
      "provenance": [],
      "collapsed_sections": [],
      "include_colab_link": true
    },
    "kernelspec": {
      "name": "python3",
      "display_name": "Python 3"
    }
  },
  "cells": [
    {
      "cell_type": "markdown",
      "metadata": {
        "id": "view-in-github",
        "colab_type": "text"
      },
      "source": [
        "<a href=\"https://colab.research.google.com/github/eruru0411/git-test/blob/master/SemiProject_HR.ipynb\" target=\"_parent\"><img src=\"https://colab.research.google.com/assets/colab-badge.svg\" alt=\"Open In Colab\"/></a>"
      ]
    },
    {
      "cell_type": "code",
      "metadata": {
        "id": "pnNS7w5ndGtU"
      },
      "source": [
        "import pandas  as pd\n",
        "import numpy   as np\n",
        "import seaborn as sns\n",
        "import matplotlib.pyplot as plt\n",
        "\n",
        "from scipy            import stats\n",
        "from sklearn.ensemble import RandomForestClassifier, RandomForestRegressor\n",
        "from sklearn.metrics  import confusion_matrix, accuracy_score, f1_score, roc_auc_score,\\\n",
        "                             precision_score,recall_score, roc_curve, classification_report,precision_recall_curve\n",
        "from sklearn                 import preprocessing\n",
        "# from sklearn.preprocessing   import StandardScaler,RobustScaler,MinMaxScaler, Binarizer, OneHotEncoder, LabelEncoder\n",
        "from sklearn.model_selection import train_test_split, cross_val_score, cross_validate, GridSearchCV, KFold\n",
        "import warnings\n",
        "warnings.filterwarnings(action=\"ignore\")\n",
        "barline = \"\\n============================================\"\n",
        "e = \"\\n\""
      ],
      "execution_count": null,
      "outputs": []
    },
    {
      "cell_type": "code",
      "metadata": {
        "colab": {
          "base_uri": "https://localhost:8080/"
        },
        "id": "JZ1B4ZA6dJf_",
        "outputId": "5c5c7657-5b76-4a75-9ed7-76c005099054"
      },
      "source": [
        "df = pd.read_csv(\"train.csv\")\n",
        "df.shape"
      ],
      "execution_count": null,
      "outputs": [
        {
          "output_type": "execute_result",
          "data": {
            "text/plain": [
              "(54808, 14)"
            ]
          },
          "metadata": {
            "tags": []
          },
          "execution_count": 85
        }
      ]
    },
    {
      "cell_type": "code",
      "metadata": {
        "id": "xQHT13mldd_X"
      },
      "source": [
        "# df.info()"
      ],
      "execution_count": null,
      "outputs": []
    },
    {
      "cell_type": "code",
      "metadata": {
        "id": "j2YNsBhtdo-3"
      },
      "source": [
        "# df.head()"
      ],
      "execution_count": null,
      "outputs": []
    },
    {
      "cell_type": "code",
      "metadata": {
        "id": "6vENI01CvErx"
      },
      "source": [
        "# df.tail()"
      ],
      "execution_count": null,
      "outputs": []
    },
    {
      "cell_type": "code",
      "metadata": {
        "id": "qEq4ZVYNxRBT"
      },
      "source": [
        "# df[\"education\"].value_counts() # 머신러닝으로 채워넣기(bike 참조)"
      ],
      "execution_count": null,
      "outputs": []
    },
    {
      "cell_type": "code",
      "metadata": {
        "id": "32li8p0W1oxY"
      },
      "source": [
        "# df[\"recruitment_channel\"].value_counts() #0~2 범주화 시키기 0:인력소싱업체 1:추천? 2:기타"
      ],
      "execution_count": null,
      "outputs": []
    },
    {
      "cell_type": "code",
      "metadata": {
        "id": "uzh19KjT17ic"
      },
      "source": [
        "# df[\"department\"].value_counts() #범주화 시키기 "
      ],
      "execution_count": null,
      "outputs": []
    },
    {
      "cell_type": "code",
      "metadata": {
        "id": "A2sLYgtF2FuZ"
      },
      "source": [
        "#df[\"region\"].value_counts()  -> 나중에..."
      ],
      "execution_count": null,
      "outputs": []
    },
    {
      "cell_type": "code",
      "metadata": {
        "colab": {
          "base_uri": "https://localhost:8080/"
        },
        "id": "gkSO44A9dqut",
        "outputId": "2cd0bac3-ae16-49a1-b1a4-cace339c33bb"
      },
      "source": [
        "df.isnull().sum()"
      ],
      "execution_count": null,
      "outputs": [
        {
          "output_type": "execute_result",
          "data": {
            "text/plain": [
              "employee_id                0\n",
              "department                 0\n",
              "region                     0\n",
              "education               2409\n",
              "gender                     0\n",
              "recruitment_channel        0\n",
              "no_of_trainings            0\n",
              "age                        0\n",
              "previous_year_rating    4124\n",
              "length_of_service          0\n",
              "KPIs_met >80%              0\n",
              "awards_won?                0\n",
              "avg_training_score         0\n",
              "is_promoted                0\n",
              "dtype: int64"
            ]
          },
          "metadata": {
            "tags": []
          },
          "execution_count": 86
        }
      ]
    },
    {
      "cell_type": "code",
      "metadata": {
        "id": "kYM6JKFEriED"
      },
      "source": [
        "# import missingno as msno\n",
        "# msno.bar(df)"
      ],
      "execution_count": null,
      "outputs": []
    },
    {
      "cell_type": "code",
      "metadata": {
        "colab": {
          "base_uri": "https://localhost:8080/",
          "height": 331
        },
        "id": "PNvKrAyktrlh",
        "outputId": "d7b887f6-9106-4f78-a737-4827cc5ac1e3"
      },
      "source": [
        "df.describe()"
      ],
      "execution_count": null,
      "outputs": [
        {
          "output_type": "execute_result",
          "data": {
            "text/html": [
              "<div>\n",
              "<style scoped>\n",
              "    .dataframe tbody tr th:only-of-type {\n",
              "        vertical-align: middle;\n",
              "    }\n",
              "\n",
              "    .dataframe tbody tr th {\n",
              "        vertical-align: top;\n",
              "    }\n",
              "\n",
              "    .dataframe thead th {\n",
              "        text-align: right;\n",
              "    }\n",
              "</style>\n",
              "<table border=\"1\" class=\"dataframe\">\n",
              "  <thead>\n",
              "    <tr style=\"text-align: right;\">\n",
              "      <th></th>\n",
              "      <th>employee_id</th>\n",
              "      <th>no_of_trainings</th>\n",
              "      <th>age</th>\n",
              "      <th>previous_year_rating</th>\n",
              "      <th>length_of_service</th>\n",
              "      <th>KPIs_met &gt;80%</th>\n",
              "      <th>awards_won?</th>\n",
              "      <th>avg_training_score</th>\n",
              "      <th>is_promoted</th>\n",
              "    </tr>\n",
              "  </thead>\n",
              "  <tbody>\n",
              "    <tr>\n",
              "      <th>count</th>\n",
              "      <td>54808.000000</td>\n",
              "      <td>54808.000000</td>\n",
              "      <td>54808.000000</td>\n",
              "      <td>50684.000000</td>\n",
              "      <td>54808.000000</td>\n",
              "      <td>54808.000000</td>\n",
              "      <td>54808.000000</td>\n",
              "      <td>54808.000000</td>\n",
              "      <td>54808.000000</td>\n",
              "    </tr>\n",
              "    <tr>\n",
              "      <th>mean</th>\n",
              "      <td>39195.830627</td>\n",
              "      <td>1.253011</td>\n",
              "      <td>34.803915</td>\n",
              "      <td>3.329256</td>\n",
              "      <td>5.865512</td>\n",
              "      <td>0.351974</td>\n",
              "      <td>0.023172</td>\n",
              "      <td>63.386750</td>\n",
              "      <td>0.085170</td>\n",
              "    </tr>\n",
              "    <tr>\n",
              "      <th>std</th>\n",
              "      <td>22586.581449</td>\n",
              "      <td>0.609264</td>\n",
              "      <td>7.660169</td>\n",
              "      <td>1.259993</td>\n",
              "      <td>4.265094</td>\n",
              "      <td>0.477590</td>\n",
              "      <td>0.150450</td>\n",
              "      <td>13.371559</td>\n",
              "      <td>0.279137</td>\n",
              "    </tr>\n",
              "    <tr>\n",
              "      <th>min</th>\n",
              "      <td>1.000000</td>\n",
              "      <td>1.000000</td>\n",
              "      <td>20.000000</td>\n",
              "      <td>1.000000</td>\n",
              "      <td>1.000000</td>\n",
              "      <td>0.000000</td>\n",
              "      <td>0.000000</td>\n",
              "      <td>39.000000</td>\n",
              "      <td>0.000000</td>\n",
              "    </tr>\n",
              "    <tr>\n",
              "      <th>25%</th>\n",
              "      <td>19669.750000</td>\n",
              "      <td>1.000000</td>\n",
              "      <td>29.000000</td>\n",
              "      <td>3.000000</td>\n",
              "      <td>3.000000</td>\n",
              "      <td>0.000000</td>\n",
              "      <td>0.000000</td>\n",
              "      <td>51.000000</td>\n",
              "      <td>0.000000</td>\n",
              "    </tr>\n",
              "    <tr>\n",
              "      <th>50%</th>\n",
              "      <td>39225.500000</td>\n",
              "      <td>1.000000</td>\n",
              "      <td>33.000000</td>\n",
              "      <td>3.000000</td>\n",
              "      <td>5.000000</td>\n",
              "      <td>0.000000</td>\n",
              "      <td>0.000000</td>\n",
              "      <td>60.000000</td>\n",
              "      <td>0.000000</td>\n",
              "    </tr>\n",
              "    <tr>\n",
              "      <th>75%</th>\n",
              "      <td>58730.500000</td>\n",
              "      <td>1.000000</td>\n",
              "      <td>39.000000</td>\n",
              "      <td>4.000000</td>\n",
              "      <td>7.000000</td>\n",
              "      <td>1.000000</td>\n",
              "      <td>0.000000</td>\n",
              "      <td>76.000000</td>\n",
              "      <td>0.000000</td>\n",
              "    </tr>\n",
              "    <tr>\n",
              "      <th>max</th>\n",
              "      <td>78298.000000</td>\n",
              "      <td>10.000000</td>\n",
              "      <td>60.000000</td>\n",
              "      <td>5.000000</td>\n",
              "      <td>37.000000</td>\n",
              "      <td>1.000000</td>\n",
              "      <td>1.000000</td>\n",
              "      <td>99.000000</td>\n",
              "      <td>1.000000</td>\n",
              "    </tr>\n",
              "  </tbody>\n",
              "</table>\n",
              "</div>"
            ],
            "text/plain": [
              "        employee_id  no_of_trainings  ...  avg_training_score   is_promoted\n",
              "count  54808.000000     54808.000000  ...        54808.000000  54808.000000\n",
              "mean   39195.830627         1.253011  ...           63.386750      0.085170\n",
              "std    22586.581449         0.609264  ...           13.371559      0.279137\n",
              "min        1.000000         1.000000  ...           39.000000      0.000000\n",
              "25%    19669.750000         1.000000  ...           51.000000      0.000000\n",
              "50%    39225.500000         1.000000  ...           60.000000      0.000000\n",
              "75%    58730.500000         1.000000  ...           76.000000      0.000000\n",
              "max    78298.000000        10.000000  ...           99.000000      1.000000\n",
              "\n",
              "[8 rows x 9 columns]"
            ]
          },
          "metadata": {
            "tags": []
          },
          "execution_count": 87
        }
      ]
    },
    {
      "cell_type": "code",
      "metadata": {
        "id": "pKG4yiRF4xt5",
        "colab": {
          "base_uri": "https://localhost:8080/",
          "height": 226
        },
        "outputId": "0d00b1e9-6f4d-4c4d-b907-bb2073b1b1b3"
      },
      "source": [
        "df.plot(kind='box', subplots=True, figsize=(20, 15), layout=(4,10), sharex=False, sharey=False)\n",
        "plt.show()"
      ],
      "execution_count": null,
      "outputs": [
        {
          "output_type": "display_data",
          "data": {
            "image/png": "[encoded data removed]",
            "text/plain": [
              "<Figure size 1440x1080 with 40 Axes>"
            ]
          },
          "metadata": {
            "tags": [],
            "needs_background": "light"
          }
        }
      ]
    },
    {
      "cell_type": "code",
      "metadata": {
        "colab": {
          "base_uri": "https://localhost:8080/"
        },
        "id": "fPcEXz4s8lk4",
        "outputId": "70be73d5-84fa-4596-976e-539e59f085a3"
      },
      "source": [
        "df1 = df.drop(\"employee_id\", axis=1)\n",
        "# previous_year_rating: length_of_service가 1인 사람(새로운 직원)인 경우 전년도 평가 지표가 없음\n",
        "df1[\"previous_year_rating\"] = df1[\"previous_year_rating\"].fillna(0)\n",
        "\n",
        "# 나이: 20~60 구간? 5년..? 20~25, 26~30, 31~35, 36~40, 41~50, 50up\n",
        "df1[\"age\"].value_counts().sort_index()\n",
        "\n",
        "def age_drop(age):\n",
        "  if   age <= 25: cate = 0\n",
        "  elif age <= 30: cate = 1\n",
        "  elif age <= 35: cate = 2\n",
        "  elif age <= 40: cate = 3\n",
        "  elif age <= 50: cate = 4\n",
        "  else:           cate = 5\n",
        "  return cate\n",
        "\n",
        "df1[\"age_cate\"] = df1[\"age\"].apply(lambda x: age_drop(x))\n",
        "\n",
        "df1[\"age_cate\"].value_counts()\n",
        "\n",
        "# 지역 - region 34개\n"
      ],
      "execution_count": null,
      "outputs": [
        {
          "output_type": "execute_result",
          "data": {
            "text/plain": [
              "2    16065\n",
              "1    15104\n",
              "3     9963\n",
              "4     7810\n",
              "0     3014\n",
              "5     2852\n",
              "Name: age_cate, dtype: int64"
            ]
          },
          "metadata": {
            "tags": []
          },
          "execution_count": 90
        }
      ]
    },
    {
      "cell_type": "code",
      "metadata": {
        "colab": {
          "base_uri": "https://localhost:8080/"
        },
        "id": "C1K5ZJqOYquQ",
        "outputId": "3f0db050-9cc2-47b3-9e26-0f6dc250ef78"
      },
      "source": [
        "# length_of_service: 1, 2~4, 5~7, 8~10, 11~20, 21up\n",
        "df1[\"length_of_service\"].value_counts().sort_index()\n",
        "\n",
        "def los_drop(year):\n",
        "  if   year ==  1: cate = 0   # 신입\n",
        "  elif year <=  4: cate = 1\n",
        "  elif year <=  7: cate = 2\n",
        "  elif year <= 10: cate = 3\n",
        "  elif year <= 20: cate = 4\n",
        "  else:            cate = 5   # 20년 넘게 근속\n",
        "  return cate\n",
        "\n",
        "df1[\"workyear\"] = df1[\"length_of_service\"].apply(lambda x: los_drop(x))\n",
        "\n",
        "df1[\"workyear\"].value_counts()"
      ],
      "execution_count": null,
      "outputs": [
        {
          "output_type": "execute_result",
          "data": {
            "text/plain": [
              "1    20553\n",
              "2    16117\n",
              "3     7705\n",
              "4     5368\n",
              "0     4547\n",
              "5      518\n",
              "Name: workyear, dtype: int64"
            ]
          },
          "metadata": {
            "tags": []
          },
          "execution_count": 91
        }
      ]
    },
    {
      "cell_type": "code",
      "metadata": {
        "id": "Dn4fPh7ZaHW_",
        "colab": {
          "base_uri": "https://localhost:8080/",
          "height": 274
        },
        "outputId": "7e251e45-d9f1-4e9f-a09c-f6f1c87bb141"
      },
      "source": [
        "df1[\"gender\"] = df1[\"gender\"].apply(lambda x: 0 if x == \"f\" else 1)\n",
        "\n",
        "df1[\"edu\"]  = df1[\"education\"].map({\"Below Secondary\": 0, \"Bachelor's\": 1, \"Master's & above\": 2})\n",
        "df1[\"ch\"]   = df1[\"recruitment_channel\"].map({\"other\": 0, \"sourcing\": 1, \"referred\": 2})\n",
        "\n",
        "df1.drop(\"education\", axis=1, inplace=True)\n",
        "df1.drop(\"recruitment_channel\", axis=1, inplace=True)\n",
        "df1.drop(\"age\", axis=1, inplace=True)\n",
        "df1.drop(\"length_of_service\", axis=1, inplace=True)\n",
        "\n",
        "df1.rename(columns={df1.columns[3]: 'train_no',\n",
        "                    df1.columns[4]: 'last_rate',\n",
        "                    df1.columns[5]: 'KPI80',\n",
        "                    df1.columns[6]: 'awards',\n",
        "                    df1.columns[7]: 'avg_score'}, inplace=True)\n",
        "\n",
        "\n",
        "df1.head()"
      ],
      "execution_count": null,
      "outputs": [
        {
          "output_type": "execute_result",
          "data": {
            "text/html": [
              "<div>\n",
              "<style scoped>\n",
              "    .dataframe tbody tr th:only-of-type {\n",
              "        vertical-align: middle;\n",
              "    }\n",
              "\n",
              "    .dataframe tbody tr th {\n",
              "        vertical-align: top;\n",
              "    }\n",
              "\n",
              "    .dataframe thead th {\n",
              "        text-align: right;\n",
              "    }\n",
              "</style>\n",
              "<table border=\"1\" class=\"dataframe\">\n",
              "  <thead>\n",
              "    <tr style=\"text-align: right;\">\n",
              "      <th></th>\n",
              "      <th>department</th>\n",
              "      <th>region</th>\n",
              "      <th>gender</th>\n",
              "      <th>train_no</th>\n",
              "      <th>last_rate</th>\n",
              "      <th>KPI80</th>\n",
              "      <th>awards</th>\n",
              "      <th>avg_score</th>\n",
              "      <th>is_promoted</th>\n",
              "      <th>age_cate</th>\n",
              "      <th>workyear</th>\n",
              "      <th>edu</th>\n",
              "      <th>ch</th>\n",
              "    </tr>\n",
              "  </thead>\n",
              "  <tbody>\n",
              "    <tr>\n",
              "      <th>0</th>\n",
              "      <td>Sales &amp; Marketing</td>\n",
              "      <td>region_7</td>\n",
              "      <td>0</td>\n",
              "      <td>1</td>\n",
              "      <td>5.0</td>\n",
              "      <td>1</td>\n",
              "      <td>0</td>\n",
              "      <td>49</td>\n",
              "      <td>0</td>\n",
              "      <td>2</td>\n",
              "      <td>3</td>\n",
              "      <td>2.0</td>\n",
              "      <td>1</td>\n",
              "    </tr>\n",
              "    <tr>\n",
              "      <th>1</th>\n",
              "      <td>Operations</td>\n",
              "      <td>region_22</td>\n",
              "      <td>1</td>\n",
              "      <td>1</td>\n",
              "      <td>5.0</td>\n",
              "      <td>0</td>\n",
              "      <td>0</td>\n",
              "      <td>60</td>\n",
              "      <td>0</td>\n",
              "      <td>1</td>\n",
              "      <td>1</td>\n",
              "      <td>1.0</td>\n",
              "      <td>0</td>\n",
              "    </tr>\n",
              "    <tr>\n",
              "      <th>2</th>\n",
              "      <td>Sales &amp; Marketing</td>\n",
              "      <td>region_19</td>\n",
              "      <td>1</td>\n",
              "      <td>1</td>\n",
              "      <td>3.0</td>\n",
              "      <td>0</td>\n",
              "      <td>0</td>\n",
              "      <td>50</td>\n",
              "      <td>0</td>\n",
              "      <td>2</td>\n",
              "      <td>2</td>\n",
              "      <td>1.0</td>\n",
              "      <td>1</td>\n",
              "    </tr>\n",
              "    <tr>\n",
              "      <th>3</th>\n",
              "      <td>Sales &amp; Marketing</td>\n",
              "      <td>region_23</td>\n",
              "      <td>1</td>\n",
              "      <td>2</td>\n",
              "      <td>1.0</td>\n",
              "      <td>0</td>\n",
              "      <td>0</td>\n",
              "      <td>50</td>\n",
              "      <td>0</td>\n",
              "      <td>3</td>\n",
              "      <td>3</td>\n",
              "      <td>1.0</td>\n",
              "      <td>0</td>\n",
              "    </tr>\n",
              "    <tr>\n",
              "      <th>4</th>\n",
              "      <td>Technology</td>\n",
              "      <td>region_26</td>\n",
              "      <td>1</td>\n",
              "      <td>1</td>\n",
              "      <td>3.0</td>\n",
              "      <td>0</td>\n",
              "      <td>0</td>\n",
              "      <td>73</td>\n",
              "      <td>0</td>\n",
              "      <td>4</td>\n",
              "      <td>1</td>\n",
              "      <td>1.0</td>\n",
              "      <td>0</td>\n",
              "    </tr>\n",
              "  </tbody>\n",
              "</table>\n",
              "</div>"
            ],
            "text/plain": [
              "          department     region  gender  train_no  ...  age_cate  workyear  edu  ch\n",
              "0  Sales & Marketing   region_7       0         1  ...         2         3  2.0   1\n",
              "1         Operations  region_22       1         1  ...         1         1  1.0   0\n",
              "2  Sales & Marketing  region_19       1         1  ...         2         2  1.0   1\n",
              "3  Sales & Marketing  region_23       1         2  ...         3         3  1.0   0\n",
              "4         Technology  region_26       1         1  ...         4         1  1.0   0\n",
              "\n",
              "[5 rows x 13 columns]"
            ]
          },
          "metadata": {
            "tags": []
          },
          "execution_count": 92
        }
      ]
    },
    {
      "cell_type": "code",
      "metadata": {
        "colab": {
          "base_uri": "https://localhost:8080/"
        },
        "id": "7jRyp9-BK8d8",
        "outputId": "36a6f68a-fa70-4d5e-d1af-ebecfef40ea7"
      },
      "source": [
        "df1.shape"
      ],
      "execution_count": null,
      "outputs": [
        {
          "output_type": "execute_result",
          "data": {
            "text/plain": [
              "(54808, 13)"
            ]
          },
          "metadata": {
            "tags": []
          },
          "execution_count": 93
        }
      ]
    },
    {
      "cell_type": "code",
      "metadata": {
        "id": "UetJGq2ViWvC"
      },
      "source": [
        "# rate_df = pd.DataFrame();\n",
        "# rate_df[\"SER0\"] = df[\"department\"][df[\"is_promoted\"]==0].value_counts()\n",
        "# rate_df[\"SER1\"] = df[\"department\"][df[\"is_promoted\"]==1].value_counts()\n",
        "# rate_df[\"SER0_RATE\"] = rate_df[\"SER0\"]  / (rate_df[\"SER0\"] + rate_df[\"SER1\"])      # df[\"is_promoted\"].count()\n",
        "# rate_df[\"SER1_RATE\"] = rate_df[\"SER1\"]  / (rate_df[\"SER0\"] + rate_df[\"SER1\"]) * 100\n",
        "# print(rate_df)\n",
        "\n",
        "def rateCheck(df, col=\"\"):\n",
        "  rate_df = pd.DataFrame()\n",
        "  rate_df[\"count0\"] = df[col][df[\"is_promoted\"]==0].value_counts()\n",
        "  rate_df[\"count1\"] = df[col][df[\"is_promoted\"]==1].value_counts()\n",
        "  rate_df[\"rate0\"] = rate_df[\"count0\"]  / (rate_df[\"count0\"] + rate_df[\"count1\"]) * 100     # df[\"is_promoted\"].count()\n",
        "  rate_df[\"rate1\"] = rate_df[\"count1\"]  / (rate_df[\"count0\"] + rate_df[\"count1\"]) * 100\n",
        "  print(rate_df)\n",
        "\n",
        "# rateCheck(df1, \"region\")"
      ],
      "execution_count": null,
      "outputs": []
    },
    {
      "cell_type": "code",
      "metadata": {
        "id": "hoKzSPc3bmex"
      },
      "source": [
        "#그래프\n",
        "# plt.figure(figsize=(12,8))\n",
        "# sns.countplot(df1['region'],hue=df1['is_promoted'],palette='Set1')\n",
        "# plt.xticks(rotation=90)\n",
        "# plt.show()\n",
        "\n",
        "# df1[\"region\"]\n",
        "# df1[\"is_promoted\"]"
      ],
      "execution_count": null,
      "outputs": []
    },
    {
      "cell_type": "code",
      "metadata": {
        "id": "WOFsk8kKsk9A"
      },
      "source": [
        "# plt.figure(figsize=(12,8))\n",
        "# sns.countplot(df1['avg_training_score'],hue=df1['is_promoted'],palette='pastel')\n",
        "# plt.xticks(rotation=90)\n",
        "# plt.show()"
      ],
      "execution_count": null,
      "outputs": []
    },
    {
      "cell_type": "code",
      "metadata": {
        "id": "B4zeoHdMsRvL"
      },
      "source": [
        "# plt.figure(figsize=(12,8))\n",
        "# sns.countplot(df1['education'],hue=df1['is_promoted'],palette='Set3')\n",
        "# plt.show()"
      ],
      "execution_count": null,
      "outputs": []
    },
    {
      "cell_type": "code",
      "metadata": {
        "colab": {
          "base_uri": "https://localhost:8080/",
          "height": 360
        },
        "id": "qYPWd6F_g-7N",
        "outputId": "ccdc8c77-e41e-477a-9f31-a494b0ddaea5"
      },
      "source": [
        "plt.figure(figsize=(8, 4))\n",
        "# sns.countplot(df1['gender'], hue=df1['is_promoted'],palette='pastel')\n",
        "sns.countplot(df1['department'], hue=df1['is_promoted'],palette='pastel')\n",
        "plt.xticks(rotation=90)\n",
        "plt.show()"
      ],
      "execution_count": null,
      "outputs": [
        {
          "output_type": "display_data",
          "data": {
            "image/png": "[encoded data removed]",
            "text/plain": [
              "<Figure size 576x288 with 1 Axes>"
            ]
          },
          "metadata": {
            "tags": [],
            "needs_background": "light"
          }
        }
      ]
    },
    {
      "cell_type": "code",
      "metadata": {
        "id": "VK-4ajDdsfMH"
      },
      "source": [
        "# plt.figure(figsize=(12,8))\n",
        "# sns.countplot(df1['recruitment_channel'],hue=df1['is_promoted'],palette='YlOrRd_r')\n",
        "# plt.xticks(rotation=90)\n",
        "# plt.show()"
      ],
      "execution_count": null,
      "outputs": []
    },
    {
      "cell_type": "code",
      "metadata": {
        "colab": {
          "base_uri": "https://localhost:8080/"
        },
        "id": "gmTdzH5yEwW8",
        "outputId": "7d7a1b28-57f9-48a1-ee97-e42622a118c8"
      },
      "source": [
        "df1[\"gender\"].value_counts()"
      ],
      "execution_count": null,
      "outputs": [
        {
          "output_type": "execute_result",
          "data": {
            "text/plain": [
              "1    38496\n",
              "0    16312\n",
              "Name: gender, dtype: int64"
            ]
          },
          "metadata": {
            "tags": []
          },
          "execution_count": 96
        }
      ]
    },
    {
      "cell_type": "code",
      "metadata": {
        "id": "mlNFXcqTX_mL"
      },
      "source": [
        "# Dataframe 확인 ---------------------------------------\n",
        "def MyCheckDataframe(df, target=\"target\") :\n",
        "    print(\"Check Dataframe ----------------------------\")\n",
        "    print(\"Shape :\", e, df.shape)\n",
        "    print(\"Info  :\", e, df.info())\n",
        "    print(\"Head  :\", e, df.head())\n",
        "    print(\"Count :\", e, df[target].value_counts())\n",
        "\n",
        "    y = df[target]\n",
        "    X = df.drop(target, axis=1)\n",
        "    print(\"Target Shape :\", e, X.shape, y.shape, barline)\n",
        "    return X, y"
      ],
      "execution_count": null,
      "outputs": []
    },
    {
      "cell_type": "code",
      "metadata": {
        "colab": {
          "base_uri": "https://localhost:8080/"
        },
        "id": "7YkzMtTpYCwl",
        "outputId": "d2a3da50-c85a-4eb3-aa66-7d2921dc63c0"
      },
      "source": [
        "MyCheckDataframe(df1, \"is_promoted\")"
      ],
      "execution_count": null,
      "outputs": [
        {
          "output_type": "stream",
          "text": [
            "Check Dataframe ----------------------------\n",
            "Shape : \n",
            " (54808, 13)\n",
            "<class 'pandas.core.frame.DataFrame'>\n",
            "RangeIndex: 54808 entries, 0 to 54807\n",
            "Data columns (total 13 columns):\n",
            " #   Column       Non-Null Count  Dtype  \n",
            "---  ------       --------------  -----  \n",
            " 0   department   54808 non-null  object \n",
            " 1   region       54808 non-null  object \n",
            " 2   gender       54808 non-null  int64  \n",
            " 3   train_no     54808 non-null  int64  \n",
            " 4   last_rate    54808 non-null  float64\n",
            " 5   KPI80        54808 non-null  int64  \n",
            " 6   awards       54808 non-null  int64  \n",
            " 7   avg_score    54808 non-null  int64  \n",
            " 8   is_promoted  54808 non-null  int64  \n",
            " 9   age_cate     54808 non-null  int64  \n",
            " 10  workyear     54808 non-null  int64  \n",
            " 11  edu          52399 non-null  float64\n",
            " 12  ch           54808 non-null  int64  \n",
            "dtypes: float64(2), int64(9), object(2)\n",
            "memory usage: 5.4+ MB\n",
            "Info  : \n",
            " None\n",
            "Head  : \n",
            "           department     region  gender  train_no  ...  age_cate  workyear  edu  ch\n",
            "0  Sales & Marketing   region_7       0         1  ...         2         3  2.0   1\n",
            "1         Operations  region_22       1         1  ...         1         1  1.0   0\n",
            "2  Sales & Marketing  region_19       1         1  ...         2         2  1.0   1\n",
            "3  Sales & Marketing  region_23       1         2  ...         3         3  1.0   0\n",
            "4         Technology  region_26       1         1  ...         4         1  1.0   0\n",
            "\n",
            "[5 rows x 13 columns]\n",
            "Count : \n",
            " 0    50140\n",
            "1     4668\n",
            "Name: is_promoted, dtype: int64\n",
            "Target Shape : \n",
            " (54808, 12) (54808,) \n",
            "============================================\n"
          ],
          "name": "stdout"
        },
        {
          "output_type": "execute_result",
          "data": {
            "text/plain": [
              "(              department     region  gender  ...  workyear  edu  ch\n",
              " 0      Sales & Marketing   region_7       0  ...         3  2.0   1\n",
              " 1             Operations  region_22       1  ...         1  1.0   0\n",
              " 2      Sales & Marketing  region_19       1  ...         2  1.0   1\n",
              " 3      Sales & Marketing  region_23       1  ...         3  1.0   0\n",
              " 4             Technology  region_26       1  ...         1  1.0   0\n",
              " ...                  ...        ...     ...  ...       ...  ...  ..\n",
              " 54803         Technology  region_14       1  ...         4  1.0   1\n",
              " 54804         Operations  region_27       0  ...         2  2.0   0\n",
              " 54805          Analytics   region_1       1  ...         1  1.0   0\n",
              " 54806  Sales & Marketing   region_9       1  ...         1  NaN   1\n",
              " 54807                 HR  region_22       1  ...         2  1.0   0\n",
              " \n",
              " [54808 rows x 12 columns], 0        0\n",
              " 1        0\n",
              " 2        0\n",
              " 3        0\n",
              " 4        0\n",
              "         ..\n",
              " 54803    0\n",
              " 54804    0\n",
              " 54805    0\n",
              " 54806    0\n",
              " 54807    0\n",
              " Name: is_promoted, Length: 54808, dtype: int64)"
            ]
          },
          "metadata": {
            "tags": []
          },
          "execution_count": 99
        }
      ]
    },
    {
      "cell_type": "code",
      "metadata": {
        "id": "ez-3EarfoVpl",
        "colab": {
          "base_uri": "https://localhost:8080/"
        },
        "outputId": "f94df8de-1b97-4f62-f90e-7c213d04c863"
      },
      "source": [
        "df1.info()\n",
        "df1.shape"
      ],
      "execution_count": null,
      "outputs": [
        {
          "output_type": "stream",
          "text": [
            "<class 'pandas.core.frame.DataFrame'>\n",
            "RangeIndex: 54808 entries, 0 to 54807\n",
            "Data columns (total 13 columns):\n",
            " #   Column       Non-Null Count  Dtype  \n",
            "---  ------       --------------  -----  \n",
            " 0   department   54808 non-null  object \n",
            " 1   region       54808 non-null  object \n",
            " 2   gender       54808 non-null  int64  \n",
            " 3   train_no     54808 non-null  int64  \n",
            " 4   last_rate    54808 non-null  float64\n",
            " 5   KPI80        54808 non-null  int64  \n",
            " 6   awards       54808 non-null  int64  \n",
            " 7   avg_score    54808 non-null  int64  \n",
            " 8   is_promoted  54808 non-null  int64  \n",
            " 9   age_cate     54808 non-null  int64  \n",
            " 10  workyear     54808 non-null  int64  \n",
            " 11  edu          52399 non-null  float64\n",
            " 12  ch           54808 non-null  int64  \n",
            "dtypes: float64(2), int64(9), object(2)\n",
            "memory usage: 5.4+ MB\n"
          ],
          "name": "stdout"
        },
        {
          "output_type": "execute_result",
          "data": {
            "text/plain": [
              "(54808, 13)"
            ]
          },
          "metadata": {
            "tags": []
          },
          "execution_count": 164
        }
      ]
    },
    {
      "cell_type": "code",
      "metadata": {
        "id": "8c-4FePJoEIv",
        "colab": {
          "base_uri": "https://localhost:8080/",
          "height": 556
        },
        "outputId": "40b096f1-acdc-4d4f-95b6-4201062d56ce"
      },
      "source": [
        "plt.figure(figsize=(12,8))\n",
        "sns.heatmap(df1.corr(), annot=True, fmt=\".2g\", cmap=\"Blues\")"
      ],
      "execution_count": null,
      "outputs": [
        {
          "output_type": "execute_result",
          "data": {
            "text/plain": [
              "<matplotlib.axes._subplots.AxesSubplot at 0x7fd058754b00>"
            ]
          },
          "metadata": {
            "tags": []
          },
          "execution_count": 165
        },
        {
          "output_type": "display_data",
          "data": {
            "image/png": "[encoded data removed]",
            "text/plain": [
              "<Figure size 864x576 with 2 Axes>"
            ]
          },
          "metadata": {
            "tags": [],
            "needs_background": "light"
          }
        }
      ]
    },
    {
      "cell_type": "code",
      "metadata": {
        "colab": {
          "base_uri": "https://localhost:8080/",
          "height": 419
        },
        "id": "_AcWsPuQSsv3",
        "outputId": "13b00bf6-6d7c-461b-eefb-b0b7da1e22eb"
      },
      "source": [
        "df1"
      ],
      "execution_count": null,
      "outputs": [
        {
          "output_type": "execute_result",
          "data": {
            "text/html": [
              "<div>\n",
              "<style scoped>\n",
              "    .dataframe tbody tr th:only-of-type {\n",
              "        vertical-align: middle;\n",
              "    }\n",
              "\n",
              "    .dataframe tbody tr th {\n",
              "        vertical-align: top;\n",
              "    }\n",
              "\n",
              "    .dataframe thead th {\n",
              "        text-align: right;\n",
              "    }\n",
              "</style>\n",
              "<table border=\"1\" class=\"dataframe\">\n",
              "  <thead>\n",
              "    <tr style=\"text-align: right;\">\n",
              "      <th></th>\n",
              "      <th>department</th>\n",
              "      <th>region</th>\n",
              "      <th>gender</th>\n",
              "      <th>train_no</th>\n",
              "      <th>last_rate</th>\n",
              "      <th>KPI80</th>\n",
              "      <th>awards</th>\n",
              "      <th>avg_score</th>\n",
              "      <th>is_promoted</th>\n",
              "      <th>age_cate</th>\n",
              "      <th>workyear</th>\n",
              "      <th>edu</th>\n",
              "      <th>ch</th>\n",
              "    </tr>\n",
              "  </thead>\n",
              "  <tbody>\n",
              "    <tr>\n",
              "      <th>0</th>\n",
              "      <td>Sales &amp; Marketing</td>\n",
              "      <td>region_7</td>\n",
              "      <td>0</td>\n",
              "      <td>1</td>\n",
              "      <td>5.0</td>\n",
              "      <td>1</td>\n",
              "      <td>0</td>\n",
              "      <td>49</td>\n",
              "      <td>0</td>\n",
              "      <td>2</td>\n",
              "      <td>3</td>\n",
              "      <td>2.0</td>\n",
              "      <td>1</td>\n",
              "    </tr>\n",
              "    <tr>\n",
              "      <th>1</th>\n",
              "      <td>Operations</td>\n",
              "      <td>region_22</td>\n",
              "      <td>1</td>\n",
              "      <td>1</td>\n",
              "      <td>5.0</td>\n",
              "      <td>0</td>\n",
              "      <td>0</td>\n",
              "      <td>60</td>\n",
              "      <td>0</td>\n",
              "      <td>1</td>\n",
              "      <td>1</td>\n",
              "      <td>1.0</td>\n",
              "      <td>0</td>\n",
              "    </tr>\n",
              "    <tr>\n",
              "      <th>2</th>\n",
              "      <td>Sales &amp; Marketing</td>\n",
              "      <td>region_19</td>\n",
              "      <td>1</td>\n",
              "      <td>1</td>\n",
              "      <td>3.0</td>\n",
              "      <td>0</td>\n",
              "      <td>0</td>\n",
              "      <td>50</td>\n",
              "      <td>0</td>\n",
              "      <td>2</td>\n",
              "      <td>2</td>\n",
              "      <td>1.0</td>\n",
              "      <td>1</td>\n",
              "    </tr>\n",
              "    <tr>\n",
              "      <th>3</th>\n",
              "      <td>Sales &amp; Marketing</td>\n",
              "      <td>region_23</td>\n",
              "      <td>1</td>\n",
              "      <td>2</td>\n",
              "      <td>1.0</td>\n",
              "      <td>0</td>\n",
              "      <td>0</td>\n",
              "      <td>50</td>\n",
              "      <td>0</td>\n",
              "      <td>3</td>\n",
              "      <td>3</td>\n",
              "      <td>1.0</td>\n",
              "      <td>0</td>\n",
              "    </tr>\n",
              "    <tr>\n",
              "      <th>4</th>\n",
              "      <td>Technology</td>\n",
              "      <td>region_26</td>\n",
              "      <td>1</td>\n",
              "      <td>1</td>\n",
              "      <td>3.0</td>\n",
              "      <td>0</td>\n",
              "      <td>0</td>\n",
              "      <td>73</td>\n",
              "      <td>0</td>\n",
              "      <td>4</td>\n",
              "      <td>1</td>\n",
              "      <td>1.0</td>\n",
              "      <td>0</td>\n",
              "    </tr>\n",
              "    <tr>\n",
              "      <th>...</th>\n",
              "      <td>...</td>\n",
              "      <td>...</td>\n",
              "      <td>...</td>\n",
              "      <td>...</td>\n",
              "      <td>...</td>\n",
              "      <td>...</td>\n",
              "      <td>...</td>\n",
              "      <td>...</td>\n",
              "      <td>...</td>\n",
              "      <td>...</td>\n",
              "      <td>...</td>\n",
              "      <td>...</td>\n",
              "      <td>...</td>\n",
              "    </tr>\n",
              "    <tr>\n",
              "      <th>54803</th>\n",
              "      <td>Technology</td>\n",
              "      <td>region_14</td>\n",
              "      <td>1</td>\n",
              "      <td>1</td>\n",
              "      <td>3.0</td>\n",
              "      <td>0</td>\n",
              "      <td>0</td>\n",
              "      <td>78</td>\n",
              "      <td>0</td>\n",
              "      <td>4</td>\n",
              "      <td>4</td>\n",
              "      <td>1.0</td>\n",
              "      <td>1</td>\n",
              "    </tr>\n",
              "    <tr>\n",
              "      <th>54804</th>\n",
              "      <td>Operations</td>\n",
              "      <td>region_27</td>\n",
              "      <td>0</td>\n",
              "      <td>1</td>\n",
              "      <td>2.0</td>\n",
              "      <td>0</td>\n",
              "      <td>0</td>\n",
              "      <td>56</td>\n",
              "      <td>0</td>\n",
              "      <td>3</td>\n",
              "      <td>2</td>\n",
              "      <td>2.0</td>\n",
              "      <td>0</td>\n",
              "    </tr>\n",
              "    <tr>\n",
              "      <th>54805</th>\n",
              "      <td>Analytics</td>\n",
              "      <td>region_1</td>\n",
              "      <td>1</td>\n",
              "      <td>1</td>\n",
              "      <td>5.0</td>\n",
              "      <td>1</td>\n",
              "      <td>0</td>\n",
              "      <td>79</td>\n",
              "      <td>0</td>\n",
              "      <td>1</td>\n",
              "      <td>1</td>\n",
              "      <td>1.0</td>\n",
              "      <td>0</td>\n",
              "    </tr>\n",
              "    <tr>\n",
              "      <th>54806</th>\n",
              "      <td>Sales &amp; Marketing</td>\n",
              "      <td>region_9</td>\n",
              "      <td>1</td>\n",
              "      <td>1</td>\n",
              "      <td>1.0</td>\n",
              "      <td>0</td>\n",
              "      <td>0</td>\n",
              "      <td>45</td>\n",
              "      <td>0</td>\n",
              "      <td>1</td>\n",
              "      <td>1</td>\n",
              "      <td>NaN</td>\n",
              "      <td>1</td>\n",
              "    </tr>\n",
              "    <tr>\n",
              "      <th>54807</th>\n",
              "      <td>HR</td>\n",
              "      <td>region_22</td>\n",
              "      <td>1</td>\n",
              "      <td>1</td>\n",
              "      <td>1.0</td>\n",
              "      <td>0</td>\n",
              "      <td>0</td>\n",
              "      <td>49</td>\n",
              "      <td>0</td>\n",
              "      <td>1</td>\n",
              "      <td>2</td>\n",
              "      <td>1.0</td>\n",
              "      <td>0</td>\n",
              "    </tr>\n",
              "  </tbody>\n",
              "</table>\n",
              "<p>54808 rows × 13 columns</p>\n",
              "</div>"
            ],
            "text/plain": [
              "              department     region  gender  ...  workyear  edu  ch\n",
              "0      Sales & Marketing   region_7       0  ...         3  2.0   1\n",
              "1             Operations  region_22       1  ...         1  1.0   0\n",
              "2      Sales & Marketing  region_19       1  ...         2  1.0   1\n",
              "3      Sales & Marketing  region_23       1  ...         3  1.0   0\n",
              "4             Technology  region_26       1  ...         1  1.0   0\n",
              "...                  ...        ...     ...  ...       ...  ...  ..\n",
              "54803         Technology  region_14       1  ...         4  1.0   1\n",
              "54804         Operations  region_27       0  ...         2  2.0   0\n",
              "54805          Analytics   region_1       1  ...         1  1.0   0\n",
              "54806  Sales & Marketing   region_9       1  ...         1  NaN   1\n",
              "54807                 HR  region_22       1  ...         2  1.0   0\n",
              "\n",
              "[54808 rows x 13 columns]"
            ]
          },
          "metadata": {
            "tags": []
          },
          "execution_count": 166
        }
      ]
    },
    {
      "cell_type": "code",
      "metadata": {
        "id": "IMszDw74S_6o"
      },
      "source": [
        "# department, region 수치형으로 변환 (one_hot encoding)\n",
        "#df1[\"hot_dept\"] = pd.get_dummies(data=df1, columns= [\"department\"])"
      ],
      "execution_count": null,
      "outputs": []
    },
    {
      "cell_type": "code",
      "metadata": {
        "id": "xSQp7PcUU7RF"
      },
      "source": [
        "df1 = pd.get_dummies(data=df1, columns=[\"department\"], prefix=\"dept_\", drop_first = False)\n",
        "df1 = pd.get_dummies(data=df1, columns=[\"region\"], prefix=\"reg_\", drop_first = False)"
      ],
      "execution_count": null,
      "outputs": []
    },
    {
      "cell_type": "code",
      "metadata": {
        "id": "Hcgl2HSYU_GL",
        "colab": {
          "base_uri": "https://localhost:8080/"
        },
        "outputId": "49893a87-1630-4672-8419-1d36029bc562"
      },
      "source": [
        "df1.info()"
      ],
      "execution_count": null,
      "outputs": [
        {
          "output_type": "stream",
          "text": [
            "<class 'pandas.core.frame.DataFrame'>\n",
            "RangeIndex: 54808 entries, 0 to 54807\n",
            "Data columns (total 54 columns):\n",
            " #   Column                   Non-Null Count  Dtype  \n",
            "---  ------                   --------------  -----  \n",
            " 0   gender                   54808 non-null  int64  \n",
            " 1   train_no                 54808 non-null  int64  \n",
            " 2   last_rate                54808 non-null  float64\n",
            " 3   KPI80                    54808 non-null  int64  \n",
            " 4   awards                   54808 non-null  int64  \n",
            " 5   avg_score                54808 non-null  int64  \n",
            " 6   is_promoted              54808 non-null  int64  \n",
            " 7   age_cate                 54808 non-null  int64  \n",
            " 8   workyear                 54808 non-null  int64  \n",
            " 9   edu                      52399 non-null  float64\n",
            " 10  ch                       54808 non-null  int64  \n",
            " 11  dept__Analytics          54808 non-null  uint8  \n",
            " 12  dept__Finance            54808 non-null  uint8  \n",
            " 13  dept__HR                 54808 non-null  uint8  \n",
            " 14  dept__Legal              54808 non-null  uint8  \n",
            " 15  dept__Operations         54808 non-null  uint8  \n",
            " 16  dept__Procurement        54808 non-null  uint8  \n",
            " 17  dept__R&D                54808 non-null  uint8  \n",
            " 18  dept__Sales & Marketing  54808 non-null  uint8  \n",
            " 19  dept__Technology         54808 non-null  uint8  \n",
            " 20  reg__region_1            54808 non-null  uint8  \n",
            " 21  reg__region_10           54808 non-null  uint8  \n",
            " 22  reg__region_11           54808 non-null  uint8  \n",
            " 23  reg__region_12           54808 non-null  uint8  \n",
            " 24  reg__region_13           54808 non-null  uint8  \n",
            " 25  reg__region_14           54808 non-null  uint8  \n",
            " 26  reg__region_15           54808 non-null  uint8  \n",
            " 27  reg__region_16           54808 non-null  uint8  \n",
            " 28  reg__region_17           54808 non-null  uint8  \n",
            " 29  reg__region_18           54808 non-null  uint8  \n",
            " 30  reg__region_19           54808 non-null  uint8  \n",
            " 31  reg__region_2            54808 non-null  uint8  \n",
            " 32  reg__region_20           54808 non-null  uint8  \n",
            " 33  reg__region_21           54808 non-null  uint8  \n",
            " 34  reg__region_22           54808 non-null  uint8  \n",
            " 35  reg__region_23           54808 non-null  uint8  \n",
            " 36  reg__region_24           54808 non-null  uint8  \n",
            " 37  reg__region_25           54808 non-null  uint8  \n",
            " 38  reg__region_26           54808 non-null  uint8  \n",
            " 39  reg__region_27           54808 non-null  uint8  \n",
            " 40  reg__region_28           54808 non-null  uint8  \n",
            " 41  reg__region_29           54808 non-null  uint8  \n",
            " 42  reg__region_3            54808 non-null  uint8  \n",
            " 43  reg__region_30           54808 non-null  uint8  \n",
            " 44  reg__region_31           54808 non-null  uint8  \n",
            " 45  reg__region_32           54808 non-null  uint8  \n",
            " 46  reg__region_33           54808 non-null  uint8  \n",
            " 47  reg__region_34           54808 non-null  uint8  \n",
            " 48  reg__region_4            54808 non-null  uint8  \n",
            " 49  reg__region_5            54808 non-null  uint8  \n",
            " 50  reg__region_6            54808 non-null  uint8  \n",
            " 51  reg__region_7            54808 non-null  uint8  \n",
            " 52  reg__region_8            54808 non-null  uint8  \n",
            " 53  reg__region_9            54808 non-null  uint8  \n",
            "dtypes: float64(2), int64(9), uint8(43)\n",
            "memory usage: 6.8 MB\n"
          ],
          "name": "stdout"
        }
      ]
    },
    {
      "cell_type": "code",
      "metadata": {
        "colab": {
          "base_uri": "https://localhost:8080/"
        },
        "id": "_Ca-CEhpXOeA",
        "outputId": "af4af40e-d747-4bfc-dd57-7070c0540d0a"
      },
      "source": [
        "df1.isnull().sum() # df1 의 결측치 확인 "
      ],
      "execution_count": null,
      "outputs": [
        {
          "output_type": "execute_result",
          "data": {
            "text/plain": [
              "gender                        0\n",
              "train_no                      0\n",
              "last_rate                     0\n",
              "KPI80                         0\n",
              "awards                        0\n",
              "avg_score                     0\n",
              "is_promoted                   0\n",
              "age_cate                      0\n",
              "workyear                      0\n",
              "edu                        2409\n",
              "ch                            0\n",
              "dept__Analytics               0\n",
              "dept__Finance                 0\n",
              "dept__HR                      0\n",
              "dept__Legal                   0\n",
              "dept__Operations              0\n",
              "dept__Procurement             0\n",
              "dept__R&D                     0\n",
              "dept__Sales & Marketing       0\n",
              "dept__Technology              0\n",
              "reg__region_1                 0\n",
              "reg__region_10                0\n",
              "reg__region_11                0\n",
              "reg__region_12                0\n",
              "reg__region_13                0\n",
              "reg__region_14                0\n",
              "reg__region_15                0\n",
              "reg__region_16                0\n",
              "reg__region_17                0\n",
              "reg__region_18                0\n",
              "reg__region_19                0\n",
              "reg__region_2                 0\n",
              "reg__region_20                0\n",
              "reg__region_21                0\n",
              "reg__region_22                0\n",
              "reg__region_23                0\n",
              "reg__region_24                0\n",
              "reg__region_25                0\n",
              "reg__region_26                0\n",
              "reg__region_27                0\n",
              "reg__region_28                0\n",
              "reg__region_29                0\n",
              "reg__region_3                 0\n",
              "reg__region_30                0\n",
              "reg__region_31                0\n",
              "reg__region_32                0\n",
              "reg__region_33                0\n",
              "reg__region_34                0\n",
              "reg__region_4                 0\n",
              "reg__region_5                 0\n",
              "reg__region_6                 0\n",
              "reg__region_7                 0\n",
              "reg__region_8                 0\n",
              "reg__region_9                 0\n",
              "dtype: int64"
            ]
          },
          "metadata": {
            "tags": []
          },
          "execution_count": 103
        }
      ]
    },
    {
      "cell_type": "code",
      "metadata": {
        "id": "DVi2ZXUx2wJ6"
      },
      "source": [
        "# edu: null 채우기\n",
        "edu_nan = df1[df1[\"edu\"].isnull() == True]\n",
        "edu_012 = df1[df1[\"edu\"].isnull() == False]\n",
        "\n",
        "col = df1.loc[:, df1.columns != 'edu'].columns\n",
        "\n",
        "rf_edu = RandomForestRegressor()\n",
        "rf_edu.fit(edu_012[col], edu_012[\"edu\"])\n",
        "edu_val = rf_edu.predict(X = edu_nan[col])\n",
        "edu_nan[\"edu\"] = edu_val\n",
        "df1 = edu_012.append(edu_nan)"
      ],
      "execution_count": null,
      "outputs": []
    },
    {
      "cell_type": "code",
      "metadata": {
        "id": "QzGakoZ8ZAHE"
      },
      "source": [
        "# # null_edu_index = df1[\"edu\"][df1[\"edu\"].isnull].index\n",
        "# # print(null_edu_index) # 이 부분은 일단 보류 - edu의 null 값은 내일 다시 체크 \n",
        "\n",
        "# df1.drop(\"edu\", axis=1,inplace=True) # edu의 null값 처리 (행인덱스 추출) 문법을 몰라서 일단 피처를 삭제했음.\n",
        "# print(df1)"
      ],
      "execution_count": null,
      "outputs": []
    },
    {
      "cell_type": "code",
      "metadata": {
        "id": "QrRW_kREXcfA"
      },
      "source": [
        "# print(df1[\"edu\"])\n",
        "# print(df1[\"edu\"].unique())"
      ],
      "execution_count": null,
      "outputs": []
    },
    {
      "cell_type": "code",
      "metadata": {
        "id": "nCHNFiMUVjDK",
        "colab": {
          "base_uri": "https://localhost:8080/",
          "height": 607
        },
        "outputId": "3c927d6f-4f11-4fc7-e2be-81bb4f33fca2"
      },
      "source": [
        "# 히스토그램으로 데이터 분포 확인\n",
        "df1.hist(bins=10, figsize=(10,10), grid=False)\n",
        "plt.show()"
      ],
      "execution_count": null,
      "outputs": [
        {
          "output_type": "display_data",
          "data": {
            "image/png": "[encoded data removed]",
            "text/plain": [
              "<Figure size 720x720 with 56 Axes>"
            ]
          },
          "metadata": {
            "tags": [],
            "needs_background": "light"
          }
        }
      ]
    },
    {
      "cell_type": "code",
      "metadata": {
        "id": "Zekoh_EaWUyE",
        "colab": {
          "base_uri": "https://localhost:8080/"
        },
        "outputId": "9b64f41c-1a4d-4e51-8fdc-00471d34192f"
      },
      "source": [
        "df1.info()"
      ],
      "execution_count": null,
      "outputs": [
        {
          "output_type": "stream",
          "text": [
            "<class 'pandas.core.frame.DataFrame'>\n",
            "Int64Index: 54808 entries, 0 to 54806\n",
            "Data columns (total 54 columns):\n",
            " #   Column                   Non-Null Count  Dtype  \n",
            "---  ------                   --------------  -----  \n",
            " 0   gender                   54808 non-null  int64  \n",
            " 1   train_no                 54808 non-null  int64  \n",
            " 2   last_rate                54808 non-null  float64\n",
            " 3   KPI80                    54808 non-null  int64  \n",
            " 4   awards                   54808 non-null  int64  \n",
            " 5   avg_score                54808 non-null  int64  \n",
            " 6   is_promoted              54808 non-null  int64  \n",
            " 7   age_cate                 54808 non-null  int64  \n",
            " 8   workyear                 54808 non-null  int64  \n",
            " 9   edu                      54808 non-null  float64\n",
            " 10  ch                       54808 non-null  int64  \n",
            " 11  dept__Analytics          54808 non-null  uint8  \n",
            " 12  dept__Finance            54808 non-null  uint8  \n",
            " 13  dept__HR                 54808 non-null  uint8  \n",
            " 14  dept__Legal              54808 non-null  uint8  \n",
            " 15  dept__Operations         54808 non-null  uint8  \n",
            " 16  dept__Procurement        54808 non-null  uint8  \n",
            " 17  dept__R&D                54808 non-null  uint8  \n",
            " 18  dept__Sales & Marketing  54808 non-null  uint8  \n",
            " 19  dept__Technology         54808 non-null  uint8  \n",
            " 20  reg__region_1            54808 non-null  uint8  \n",
            " 21  reg__region_10           54808 non-null  uint8  \n",
            " 22  reg__region_11           54808 non-null  uint8  \n",
            " 23  reg__region_12           54808 non-null  uint8  \n",
            " 24  reg__region_13           54808 non-null  uint8  \n",
            " 25  reg__region_14           54808 non-null  uint8  \n",
            " 26  reg__region_15           54808 non-null  uint8  \n",
            " 27  reg__region_16           54808 non-null  uint8  \n",
            " 28  reg__region_17           54808 non-null  uint8  \n",
            " 29  reg__region_18           54808 non-null  uint8  \n",
            " 30  reg__region_19           54808 non-null  uint8  \n",
            " 31  reg__region_2            54808 non-null  uint8  \n",
            " 32  reg__region_20           54808 non-null  uint8  \n",
            " 33  reg__region_21           54808 non-null  uint8  \n",
            " 34  reg__region_22           54808 non-null  uint8  \n",
            " 35  reg__region_23           54808 non-null  uint8  \n",
            " 36  reg__region_24           54808 non-null  uint8  \n",
            " 37  reg__region_25           54808 non-null  uint8  \n",
            " 38  reg__region_26           54808 non-null  uint8  \n",
            " 39  reg__region_27           54808 non-null  uint8  \n",
            " 40  reg__region_28           54808 non-null  uint8  \n",
            " 41  reg__region_29           54808 non-null  uint8  \n",
            " 42  reg__region_3            54808 non-null  uint8  \n",
            " 43  reg__region_30           54808 non-null  uint8  \n",
            " 44  reg__region_31           54808 non-null  uint8  \n",
            " 45  reg__region_32           54808 non-null  uint8  \n",
            " 46  reg__region_33           54808 non-null  uint8  \n",
            " 47  reg__region_34           54808 non-null  uint8  \n",
            " 48  reg__region_4            54808 non-null  uint8  \n",
            " 49  reg__region_5            54808 non-null  uint8  \n",
            " 50  reg__region_6            54808 non-null  uint8  \n",
            " 51  reg__region_7            54808 non-null  uint8  \n",
            " 52  reg__region_8            54808 non-null  uint8  \n",
            " 53  reg__region_9            54808 non-null  uint8  \n",
            "dtypes: float64(2), int64(9), uint8(43)\n",
            "memory usage: 9.8 MB\n"
          ],
          "name": "stdout"
        }
      ]
    },
    {
      "cell_type": "code",
      "metadata": {
        "id": "LStu1rYHW14R"
      },
      "source": [
        "X = df1.drop(\"is_promoted\", axis=1)\n",
        "y = df1[\"is_promoted\"]"
      ],
      "execution_count": null,
      "outputs": []
    },
    {
      "cell_type": "code",
      "metadata": {
        "id": "LC8pyN8US8JA",
        "colab": {
          "base_uri": "https://localhost:8080/",
          "height": 405
        },
        "outputId": "1e84f6be-3941-4664-8f81-8ceae59842a8"
      },
      "source": [
        "#모델 분석\n",
        "X_train, X_test, y_train, y_test = train_test_split(X, y, test_size=0.2, random_state=121, shuffle=True)\n",
        "model = RandomForestClassifier()\n",
        "model.fit(X_train, y_train)\n",
        "pred = model.predict(X_test)\n",
        "proba = model.predict_proba(X_test)\n",
        "str = \"최초 점수\"\n",
        "\n",
        "print(\"------{}-------\".format(str))\n",
        "acc = accuracy_score(y_test, pred)\n",
        "f1 = f1_score(y_test, pred)\n",
        "precision = precision_score(y_test, pred)\n",
        "recall = recall_score(y_test, pred)\n",
        "auc = roc_auc_score(y_test, proba[:,1].reshape(-1,1))\n",
        "\n",
        "print(\"정확도{:.4f}  F1 {:.4f}=(정밀도{:.4f}  재현률{:.4f} auc{:.4f}) \".format(acc, f1, precision, recall, auc))\n",
        "cf_matrix = confusion_matrix(y_test, pred)\n",
        "print(cf_matrix)"
      ],
      "execution_count": null,
      "outputs": [
        {
          "output_type": "error",
          "ename": "ValueError",
          "evalue": "ignored",
          "traceback": [
            "\u001b[0;31m---------------------------------------------------------------------------\u001b[0m",
            "\u001b[0;31mValueError\u001b[0m                                Traceback (most recent call last)",
            "\u001b[0;32m<ipython-input-105-7be0a7a70254>\u001b[0m in \u001b[0;36m<module>\u001b[0;34m()\u001b[0m\n\u001b[1;32m      2\u001b[0m \u001b[0mX_train\u001b[0m\u001b[0;34m,\u001b[0m \u001b[0mX_test\u001b[0m\u001b[0;34m,\u001b[0m \u001b[0my_train\u001b[0m\u001b[0;34m,\u001b[0m \u001b[0my_test\u001b[0m \u001b[0;34m=\u001b[0m \u001b[0mtrain_test_split\u001b[0m\u001b[0;34m(\u001b[0m\u001b[0mX\u001b[0m\u001b[0;34m,\u001b[0m \u001b[0my\u001b[0m\u001b[0;34m,\u001b[0m \u001b[0mtest_size\u001b[0m\u001b[0;34m=\u001b[0m\u001b[0;36m0.2\u001b[0m\u001b[0;34m,\u001b[0m \u001b[0mrandom_state\u001b[0m\u001b[0;34m=\u001b[0m\u001b[0;36m121\u001b[0m\u001b[0;34m,\u001b[0m \u001b[0mshuffle\u001b[0m\u001b[0;34m=\u001b[0m\u001b[0;32mTrue\u001b[0m\u001b[0;34m)\u001b[0m\u001b[0;34m\u001b[0m\u001b[0;34m\u001b[0m\u001b[0m\n\u001b[1;32m      3\u001b[0m \u001b[0mmodel\u001b[0m \u001b[0;34m=\u001b[0m \u001b[0mRandomForestClassifier\u001b[0m\u001b[0;34m(\u001b[0m\u001b[0;34m)\u001b[0m\u001b[0;34m\u001b[0m\u001b[0;34m\u001b[0m\u001b[0m\n\u001b[0;32m----> 4\u001b[0;31m \u001b[0mmodel\u001b[0m\u001b[0;34m.\u001b[0m\u001b[0mfit\u001b[0m\u001b[0;34m(\u001b[0m\u001b[0mX_train\u001b[0m\u001b[0;34m,\u001b[0m \u001b[0my_train\u001b[0m\u001b[0;34m)\u001b[0m\u001b[0;34m\u001b[0m\u001b[0;34m\u001b[0m\u001b[0m\n\u001b[0m\u001b[1;32m      5\u001b[0m \u001b[0mpred\u001b[0m \u001b[0;34m=\u001b[0m \u001b[0mmodel\u001b[0m\u001b[0;34m.\u001b[0m\u001b[0mpredict\u001b[0m\u001b[0;34m(\u001b[0m\u001b[0mX_test\u001b[0m\u001b[0;34m)\u001b[0m\u001b[0;34m\u001b[0m\u001b[0;34m\u001b[0m\u001b[0m\n\u001b[1;32m      6\u001b[0m \u001b[0mproba\u001b[0m \u001b[0;34m=\u001b[0m \u001b[0mmodel\u001b[0m\u001b[0;34m.\u001b[0m\u001b[0mpredict_proba\u001b[0m\u001b[0;34m(\u001b[0m\u001b[0mX_test\u001b[0m\u001b[0;34m)\u001b[0m\u001b[0;34m\u001b[0m\u001b[0;34m\u001b[0m\u001b[0m\n",
            "\u001b[0;32m/usr/local/lib/python3.6/dist-packages/sklearn/ensemble/_forest.py\u001b[0m in \u001b[0;36mfit\u001b[0;34m(self, X, y, sample_weight)\u001b[0m\n\u001b[1;32m    293\u001b[0m         \"\"\"\n\u001b[1;32m    294\u001b[0m         \u001b[0;31m# Validate or convert input data\u001b[0m\u001b[0;34m\u001b[0m\u001b[0;34m\u001b[0m\u001b[0;34m\u001b[0m\u001b[0m\n\u001b[0;32m--> 295\u001b[0;31m         \u001b[0mX\u001b[0m \u001b[0;34m=\u001b[0m \u001b[0mcheck_array\u001b[0m\u001b[0;34m(\u001b[0m\u001b[0mX\u001b[0m\u001b[0;34m,\u001b[0m \u001b[0maccept_sparse\u001b[0m\u001b[0;34m=\u001b[0m\u001b[0;34m\"csc\"\u001b[0m\u001b[0;34m,\u001b[0m \u001b[0mdtype\u001b[0m\u001b[0;34m=\u001b[0m\u001b[0mDTYPE\u001b[0m\u001b[0;34m)\u001b[0m\u001b[0;34m\u001b[0m\u001b[0;34m\u001b[0m\u001b[0m\n\u001b[0m\u001b[1;32m    296\u001b[0m         \u001b[0my\u001b[0m \u001b[0;34m=\u001b[0m \u001b[0mcheck_array\u001b[0m\u001b[0;34m(\u001b[0m\u001b[0my\u001b[0m\u001b[0;34m,\u001b[0m \u001b[0maccept_sparse\u001b[0m\u001b[0;34m=\u001b[0m\u001b[0;34m'csc'\u001b[0m\u001b[0;34m,\u001b[0m \u001b[0mensure_2d\u001b[0m\u001b[0;34m=\u001b[0m\u001b[0;32mFalse\u001b[0m\u001b[0;34m,\u001b[0m \u001b[0mdtype\u001b[0m\u001b[0;34m=\u001b[0m\u001b[0;32mNone\u001b[0m\u001b[0;34m)\u001b[0m\u001b[0;34m\u001b[0m\u001b[0;34m\u001b[0m\u001b[0m\n\u001b[1;32m    297\u001b[0m         \u001b[0;32mif\u001b[0m \u001b[0msample_weight\u001b[0m \u001b[0;32mis\u001b[0m \u001b[0;32mnot\u001b[0m \u001b[0;32mNone\u001b[0m\u001b[0;34m:\u001b[0m\u001b[0;34m\u001b[0m\u001b[0;34m\u001b[0m\u001b[0m\n",
            "\u001b[0;32m/usr/local/lib/python3.6/dist-packages/sklearn/utils/validation.py\u001b[0m in \u001b[0;36mcheck_array\u001b[0;34m(array, accept_sparse, accept_large_sparse, dtype, order, copy, force_all_finite, ensure_2d, allow_nd, ensure_min_samples, ensure_min_features, warn_on_dtype, estimator)\u001b[0m\n\u001b[1;32m    576\u001b[0m         \u001b[0;32mif\u001b[0m \u001b[0mforce_all_finite\u001b[0m\u001b[0;34m:\u001b[0m\u001b[0;34m\u001b[0m\u001b[0;34m\u001b[0m\u001b[0m\n\u001b[1;32m    577\u001b[0m             _assert_all_finite(array,\n\u001b[0;32m--> 578\u001b[0;31m                                allow_nan=force_all_finite == 'allow-nan')\n\u001b[0m\u001b[1;32m    579\u001b[0m \u001b[0;34m\u001b[0m\u001b[0m\n\u001b[1;32m    580\u001b[0m     \u001b[0;32mif\u001b[0m \u001b[0mensure_min_samples\u001b[0m \u001b[0;34m>\u001b[0m \u001b[0;36m0\u001b[0m\u001b[0;34m:\u001b[0m\u001b[0;34m\u001b[0m\u001b[0;34m\u001b[0m\u001b[0m\n",
            "\u001b[0;32m/usr/local/lib/python3.6/dist-packages/sklearn/utils/validation.py\u001b[0m in \u001b[0;36m_assert_all_finite\u001b[0;34m(X, allow_nan, msg_dtype)\u001b[0m\n\u001b[1;32m     58\u001b[0m                     \u001b[0mmsg_err\u001b[0m\u001b[0;34m.\u001b[0m\u001b[0mformat\u001b[0m\u001b[0;34m\u001b[0m\u001b[0;34m\u001b[0m\u001b[0m\n\u001b[1;32m     59\u001b[0m                     (type_err,\n\u001b[0;32m---> 60\u001b[0;31m                      msg_dtype if msg_dtype is not None else X.dtype)\n\u001b[0m\u001b[1;32m     61\u001b[0m             )\n\u001b[1;32m     62\u001b[0m     \u001b[0;31m# for object dtype data, we only check for NaNs (GH-13254)\u001b[0m\u001b[0;34m\u001b[0m\u001b[0;34m\u001b[0m\u001b[0;34m\u001b[0m\u001b[0m\n",
            "\u001b[0;31mValueError\u001b[0m: Input contains NaN, infinity or a value too large for dtype('float32')."
          ]
        }
      ]
    },
    {
      "cell_type": "code",
      "metadata": {
        "id": "IZXyz7JEdJ0Z"
      },
      "source": [
        "# features = pd.Series(model.feature_importances_, index=X_train.columns).sort_values(ascending=False)\n",
        "# print(features)"
      ],
      "execution_count": null,
      "outputs": []
    },
    {
      "cell_type": "code",
      "metadata": {
        "id": "Rw9zsW8CdKO-"
      },
      "source": [
        "# top_5_features = features.keys()[:5]\n",
        "# print(top_5_features)"
      ],
      "execution_count": null,
      "outputs": []
    },
    {
      "cell_type": "code",
      "metadata": {
        "id": "2OIqynq0dEHC"
      },
      "source": [
        "# #상위 5개 feature로 모델 재분석\n",
        "# X_train, X_test, y_train, y_test = train_test_split(X[top_5_features], y, test_size=0.2, random_state=121, shuffle=True)\n",
        "# model = RandomForestClassifier()\n",
        "# model.fit(X_train, y_train)\n",
        "# pred = model.predict(X_test)\n",
        "# proba = model.predict_proba(X_test)\n",
        "# str = \"상위 5개 features 분석 결과\"\n",
        "\n",
        "# print(\"------{}-------\".format(str))\n",
        "# acc = accuracy_score(y_test, pred)\n",
        "# f1 = f1_score(y_test, pred)\n",
        "# precision = precision_score(y_test, pred)\n",
        "# recall = recall_score(y_test, pred)\n",
        "# auc = roc_auc_score(y_test, proba[:,1].reshape(-1,1))\n",
        "\n",
        "# print(\"정확도{:.4f}  F1 {:.4f}=(정밀도{:.4f}  재현률{:.4f} auc{:.4f}) \".format(acc, f1, precision, recall, auc))\n",
        "# cf_matrix = confusion_matrix(y_test, pred)\n",
        "# print(cf_matrix)"
      ],
      "execution_count": null,
      "outputs": []
    },
    {
      "cell_type": "code",
      "metadata": {
        "id": "3KKaadO_dQi4"
      },
      "source": [
        "#Cross Validation\n",
        "from sklearn.model_selection import cross_validate\n",
        "my_score={\"acc\":\"accuracy\", \"f1\":\"f1\"} #scoring 여러개 주는 방법\n",
        "score_list = cross_validate(model, X, y, scoring=my_score, cv=5, verbose=0)"
      ],
      "execution_count": null,
      "outputs": []
    },
    {
      "cell_type": "code",
      "metadata": {
        "id": "L-YXV7ppdrZD",
        "colab": {
          "base_uri": "https://localhost:8080/"
        },
        "outputId": "8810c171-9fee-492b-aa65-36202956e0ac"
      },
      "source": [
        "print(\"score_list----->\", score_list)\n",
        "score_df = pd.DataFrame(score_list)\n",
        "print(score_df.head())\n",
        "print(\"cross_validation 평균 정확도\", score_df[\"test_acc\"].mean())\n",
        "print(\"cross_validation 평균 f1\", score_df[\"test_f1\"].mean())"
      ],
      "execution_count": null,
      "outputs": [
        {
          "output_type": "stream",
          "text": [
            "score_list-----> {'fit_time': array([0.02735829, 0.02526093, 0.02537894, 0.02546144, 0.02515531]), 'score_time': array([0., 0., 0., 0., 0.]), 'test_acc': array([nan, nan, nan, nan, nan]), 'test_f1': array([nan, nan, nan, nan, nan])}\n",
            "   fit_time  score_time  test_acc  test_f1\n",
            "0  0.027358         0.0       NaN      NaN\n",
            "1  0.025261         0.0       NaN      NaN\n",
            "2  0.025379         0.0       NaN      NaN\n",
            "3  0.025461         0.0       NaN      NaN\n",
            "4  0.025155         0.0       NaN      NaN\n",
            "cross_validation 평균 정확도 nan\n",
            "cross_validation 평균 f1 nan\n"
          ],
          "name": "stdout"
        }
      ]
    },
    {
      "cell_type": "code",
      "metadata": {
        "id": "A6j24b8-dQ71",
        "colab": {
          "base_uri": "https://localhost:8080/",
          "height": 394
        },
        "outputId": "7314c568-bf14-4d69-dbb2-0e36e0b671cc"
      },
      "source": [
        "my_hyper_param = { \"n_estimators\"      : [100, 300], # 랜덤 포레스트 안의 결정 트리 갯수 #default:100\n",
        "                    \"max_depth\"        : [3,5,7,9], #최대 tree depth\n",
        "                    \"min_samples_leaf\" : [1,3,5], #최소한으로 말단 노드 몇개 줄지 정함\n",
        "                    \"random_state\"    :  [121,] #bootstrapping : 복원추출(나온번호 또 허용될 수 있음)\n",
        "                } #randomforest의 parameter #랜덤포레스트가 가질 수 있는 파라미터를 여기에 지정해서 넣으면 됨\n",
        "\n",
        "\n",
        "#GridSearchCV\n",
        "from sklearn.model_selection import GridSearchCV\n",
        "gcv_model = GridSearchCV(model, param_grid=my_hyper_param, scoring=\"accuracy\", refit=True, cv=5, verbose=0) #refit=true: 가장 잘나온 최적의 모델을 찾아냈으면 바로 예측에 반영시켜라  #cv : 몇번 돌릴건지 #f1이 scoring해주므로 밑에 score해줄 필요 x\n",
        "#제일 좋은 모델 찾아서 학습 시키고 출력해라\n",
        "#predict도 필요 없음. 내부적으로 파라미터을 준 갯수만큼 가장 좋았던 모델을 여기에 던져주므로\n",
        "\n",
        "gcv_model.fit(X_train, y_train)\n",
        "print(\"best_estimator_\", gcv_model.best_estimator_) #제일 좋은 모델\n",
        "print(\"best_params_\",     gcv_model.best_params_) #제일 좋았던 파라미터\n",
        "print(\"best_score_\",     gcv_model.best_score_) #제일 잘나온 점수\n",
        "y_pred = model.predict(X_test).astype(np.int32)"
      ],
      "execution_count": null,
      "outputs": [
        {
          "output_type": "error",
          "ename": "KeyboardInterrupt",
          "evalue": "ignored",
          "traceback": [
            "\u001b[0;31m---------------------------------------------------------------------------\u001b[0m",
            "\u001b[0;31mKeyboardInterrupt\u001b[0m                         Traceback (most recent call last)",
            "\u001b[0;32m<ipython-input-188-3601f7c09cd4>\u001b[0m in \u001b[0;36m<module>\u001b[0;34m()\u001b[0m\n\u001b[1;32m     12\u001b[0m \u001b[0;31m#predict도 필요 없음. 내부적으로 파라미터을 준 갯수만큼 가장 좋았던 모델을 여기에 던져주므로\u001b[0m\u001b[0;34m\u001b[0m\u001b[0;34m\u001b[0m\u001b[0;34m\u001b[0m\u001b[0m\n\u001b[1;32m     13\u001b[0m \u001b[0;34m\u001b[0m\u001b[0m\n\u001b[0;32m---> 14\u001b[0;31m \u001b[0mgcv_model\u001b[0m\u001b[0;34m.\u001b[0m\u001b[0mfit\u001b[0m\u001b[0;34m(\u001b[0m\u001b[0mX_train\u001b[0m\u001b[0;34m,\u001b[0m \u001b[0my_train\u001b[0m\u001b[0;34m)\u001b[0m\u001b[0;34m\u001b[0m\u001b[0;34m\u001b[0m\u001b[0m\n\u001b[0m\u001b[1;32m     15\u001b[0m \u001b[0mprint\u001b[0m\u001b[0;34m(\u001b[0m\u001b[0;34m\"best_estimator_\"\u001b[0m\u001b[0;34m,\u001b[0m \u001b[0mgcv_model\u001b[0m\u001b[0;34m.\u001b[0m\u001b[0mbest_estimator_\u001b[0m\u001b[0;34m)\u001b[0m \u001b[0;31m#제일 좋은 모델\u001b[0m\u001b[0;34m\u001b[0m\u001b[0;34m\u001b[0m\u001b[0m\n\u001b[1;32m     16\u001b[0m \u001b[0mprint\u001b[0m\u001b[0;34m(\u001b[0m\u001b[0;34m\"best_params_\"\u001b[0m\u001b[0;34m,\u001b[0m     \u001b[0mgcv_model\u001b[0m\u001b[0;34m.\u001b[0m\u001b[0mbest_params_\u001b[0m\u001b[0;34m)\u001b[0m \u001b[0;31m#제일 좋았던 파라미터\u001b[0m\u001b[0;34m\u001b[0m\u001b[0;34m\u001b[0m\u001b[0m\n",
            "\u001b[0;32m/usr/local/lib/python3.6/dist-packages/sklearn/model_selection/_search.py\u001b[0m in \u001b[0;36mfit\u001b[0;34m(self, X, y, groups, **fit_params)\u001b[0m\n\u001b[1;32m    708\u001b[0m                 \u001b[0;32mreturn\u001b[0m \u001b[0mresults\u001b[0m\u001b[0;34m\u001b[0m\u001b[0;34m\u001b[0m\u001b[0m\n\u001b[1;32m    709\u001b[0m \u001b[0;34m\u001b[0m\u001b[0m\n\u001b[0;32m--> 710\u001b[0;31m             \u001b[0mself\u001b[0m\u001b[0;34m.\u001b[0m\u001b[0m_run_search\u001b[0m\u001b[0;34m(\u001b[0m\u001b[0mevaluate_candidates\u001b[0m\u001b[0;34m)\u001b[0m\u001b[0;34m\u001b[0m\u001b[0;34m\u001b[0m\u001b[0m\n\u001b[0m\u001b[1;32m    711\u001b[0m \u001b[0;34m\u001b[0m\u001b[0m\n\u001b[1;32m    712\u001b[0m         \u001b[0;31m# For multi-metric evaluation, store the best_index_, best_params_ and\u001b[0m\u001b[0;34m\u001b[0m\u001b[0;34m\u001b[0m\u001b[0;34m\u001b[0m\u001b[0m\n",
            "\u001b[0;32m/usr/local/lib/python3.6/dist-packages/sklearn/model_selection/_search.py\u001b[0m in \u001b[0;36m_run_search\u001b[0;34m(self, evaluate_candidates)\u001b[0m\n\u001b[1;32m   1149\u001b[0m     \u001b[0;32mdef\u001b[0m \u001b[0m_run_search\u001b[0m\u001b[0;34m(\u001b[0m\u001b[0mself\u001b[0m\u001b[0;34m,\u001b[0m \u001b[0mevaluate_candidates\u001b[0m\u001b[0;34m)\u001b[0m\u001b[0;34m:\u001b[0m\u001b[0;34m\u001b[0m\u001b[0;34m\u001b[0m\u001b[0m\n\u001b[1;32m   1150\u001b[0m         \u001b[0;34m\"\"\"Search all candidates in param_grid\"\"\"\u001b[0m\u001b[0;34m\u001b[0m\u001b[0;34m\u001b[0m\u001b[0m\n\u001b[0;32m-> 1151\u001b[0;31m         \u001b[0mevaluate_candidates\u001b[0m\u001b[0;34m(\u001b[0m\u001b[0mParameterGrid\u001b[0m\u001b[0;34m(\u001b[0m\u001b[0mself\u001b[0m\u001b[0;34m.\u001b[0m\u001b[0mparam_grid\u001b[0m\u001b[0;34m)\u001b[0m\u001b[0;34m)\u001b[0m\u001b[0;34m\u001b[0m\u001b[0;34m\u001b[0m\u001b[0m\n\u001b[0m\u001b[1;32m   1152\u001b[0m \u001b[0;34m\u001b[0m\u001b[0m\n\u001b[1;32m   1153\u001b[0m \u001b[0;34m\u001b[0m\u001b[0m\n",
            "\u001b[0;32m/usr/local/lib/python3.6/dist-packages/sklearn/model_selection/_search.py\u001b[0m in \u001b[0;36mevaluate_candidates\u001b[0;34m(candidate_params)\u001b[0m\n\u001b[1;32m    687\u001b[0m                                \u001b[0;32mfor\u001b[0m \u001b[0mparameters\u001b[0m\u001b[0;34m,\u001b[0m \u001b[0;34m(\u001b[0m\u001b[0mtrain\u001b[0m\u001b[0;34m,\u001b[0m \u001b[0mtest\u001b[0m\u001b[0;34m)\u001b[0m\u001b[0;34m\u001b[0m\u001b[0;34m\u001b[0m\u001b[0m\n\u001b[1;32m    688\u001b[0m                                in product(candidate_params,\n\u001b[0;32m--> 689\u001b[0;31m                                           cv.split(X, y, groups)))\n\u001b[0m\u001b[1;32m    690\u001b[0m \u001b[0;34m\u001b[0m\u001b[0m\n\u001b[1;32m    691\u001b[0m                 \u001b[0;32mif\u001b[0m \u001b[0mlen\u001b[0m\u001b[0;34m(\u001b[0m\u001b[0mout\u001b[0m\u001b[0;34m)\u001b[0m \u001b[0;34m<\u001b[0m \u001b[0;36m1\u001b[0m\u001b[0;34m:\u001b[0m\u001b[0;34m\u001b[0m\u001b[0;34m\u001b[0m\u001b[0m\n",
            "\u001b[0;32m/usr/local/lib/python3.6/dist-packages/joblib/parallel.py\u001b[0m in \u001b[0;36m__call__\u001b[0;34m(self, iterable)\u001b[0m\n\u001b[1;32m   1042\u001b[0m                 \u001b[0mself\u001b[0m\u001b[0;34m.\u001b[0m\u001b[0m_iterating\u001b[0m \u001b[0;34m=\u001b[0m \u001b[0mself\u001b[0m\u001b[0;34m.\u001b[0m\u001b[0m_original_iterator\u001b[0m \u001b[0;32mis\u001b[0m \u001b[0;32mnot\u001b[0m \u001b[0;32mNone\u001b[0m\u001b[0;34m\u001b[0m\u001b[0;34m\u001b[0m\u001b[0m\n\u001b[1;32m   1043\u001b[0m \u001b[0;34m\u001b[0m\u001b[0m\n\u001b[0;32m-> 1044\u001b[0;31m             \u001b[0;32mwhile\u001b[0m \u001b[0mself\u001b[0m\u001b[0;34m.\u001b[0m\u001b[0mdispatch_one_batch\u001b[0m\u001b[0;34m(\u001b[0m\u001b[0miterator\u001b[0m\u001b[0;34m)\u001b[0m\u001b[0;34m:\u001b[0m\u001b[0;34m\u001b[0m\u001b[0;34m\u001b[0m\u001b[0m\n\u001b[0m\u001b[1;32m   1045\u001b[0m                 \u001b[0;32mpass\u001b[0m\u001b[0;34m\u001b[0m\u001b[0;34m\u001b[0m\u001b[0m\n\u001b[1;32m   1046\u001b[0m \u001b[0;34m\u001b[0m\u001b[0m\n",
            "\u001b[0;32m/usr/local/lib/python3.6/dist-packages/joblib/parallel.py\u001b[0m in \u001b[0;36mdispatch_one_batch\u001b[0;34m(self, iterator)\u001b[0m\n\u001b[1;32m    857\u001b[0m                 \u001b[0;32mreturn\u001b[0m \u001b[0;32mFalse\u001b[0m\u001b[0;34m\u001b[0m\u001b[0;34m\u001b[0m\u001b[0m\n\u001b[1;32m    858\u001b[0m             \u001b[0;32melse\u001b[0m\u001b[0;34m:\u001b[0m\u001b[0;34m\u001b[0m\u001b[0;34m\u001b[0m\u001b[0m\n\u001b[0;32m--> 859\u001b[0;31m                 \u001b[0mself\u001b[0m\u001b[0;34m.\u001b[0m\u001b[0m_dispatch\u001b[0m\u001b[0;34m(\u001b[0m\u001b[0mtasks\u001b[0m\u001b[0;34m)\u001b[0m\u001b[0;34m\u001b[0m\u001b[0;34m\u001b[0m\u001b[0m\n\u001b[0m\u001b[1;32m    860\u001b[0m                 \u001b[0;32mreturn\u001b[0m \u001b[0;32mTrue\u001b[0m\u001b[0;34m\u001b[0m\u001b[0;34m\u001b[0m\u001b[0m\n\u001b[1;32m    861\u001b[0m \u001b[0;34m\u001b[0m\u001b[0m\n",
            "\u001b[0;32m/usr/local/lib/python3.6/dist-packages/joblib/parallel.py\u001b[0m in \u001b[0;36m_dispatch\u001b[0;34m(self, batch)\u001b[0m\n\u001b[1;32m    775\u001b[0m         \u001b[0;32mwith\u001b[0m \u001b[0mself\u001b[0m\u001b[0;34m.\u001b[0m\u001b[0m_lock\u001b[0m\u001b[0;34m:\u001b[0m\u001b[0;34m\u001b[0m\u001b[0;34m\u001b[0m\u001b[0m\n\u001b[1;32m    776\u001b[0m             \u001b[0mjob_idx\u001b[0m \u001b[0;34m=\u001b[0m \u001b[0mlen\u001b[0m\u001b[0;34m(\u001b[0m\u001b[0mself\u001b[0m\u001b[0;34m.\u001b[0m\u001b[0m_jobs\u001b[0m\u001b[0;34m)\u001b[0m\u001b[0;34m\u001b[0m\u001b[0;34m\u001b[0m\u001b[0m\n\u001b[0;32m--> 777\u001b[0;31m             \u001b[0mjob\u001b[0m \u001b[0;34m=\u001b[0m \u001b[0mself\u001b[0m\u001b[0;34m.\u001b[0m\u001b[0m_backend\u001b[0m\u001b[0;34m.\u001b[0m\u001b[0mapply_async\u001b[0m\u001b[0;34m(\u001b[0m\u001b[0mbatch\u001b[0m\u001b[0;34m,\u001b[0m \u001b[0mcallback\u001b[0m\u001b[0;34m=\u001b[0m\u001b[0mcb\u001b[0m\u001b[0;34m)\u001b[0m\u001b[0;34m\u001b[0m\u001b[0;34m\u001b[0m\u001b[0m\n\u001b[0m\u001b[1;32m    778\u001b[0m             \u001b[0;31m# A job can complete so quickly than its callback is\u001b[0m\u001b[0;34m\u001b[0m\u001b[0;34m\u001b[0m\u001b[0;34m\u001b[0m\u001b[0m\n\u001b[1;32m    779\u001b[0m             \u001b[0;31m# called before we get here, causing self._jobs to\u001b[0m\u001b[0;34m\u001b[0m\u001b[0;34m\u001b[0m\u001b[0;34m\u001b[0m\u001b[0m\n",
            "\u001b[0;32m/usr/local/lib/python3.6/dist-packages/joblib/_parallel_backends.py\u001b[0m in \u001b[0;36mapply_async\u001b[0;34m(self, func, callback)\u001b[0m\n\u001b[1;32m    206\u001b[0m     \u001b[0;32mdef\u001b[0m \u001b[0mapply_async\u001b[0m\u001b[0;34m(\u001b[0m\u001b[0mself\u001b[0m\u001b[0;34m,\u001b[0m \u001b[0mfunc\u001b[0m\u001b[0;34m,\u001b[0m \u001b[0mcallback\u001b[0m\u001b[0;34m=\u001b[0m\u001b[0;32mNone\u001b[0m\u001b[0;34m)\u001b[0m\u001b[0;34m:\u001b[0m\u001b[0;34m\u001b[0m\u001b[0;34m\u001b[0m\u001b[0m\n\u001b[1;32m    207\u001b[0m         \u001b[0;34m\"\"\"Schedule a func to be run\"\"\"\u001b[0m\u001b[0;34m\u001b[0m\u001b[0;34m\u001b[0m\u001b[0m\n\u001b[0;32m--> 208\u001b[0;31m         \u001b[0mresult\u001b[0m \u001b[0;34m=\u001b[0m \u001b[0mImmediateResult\u001b[0m\u001b[0;34m(\u001b[0m\u001b[0mfunc\u001b[0m\u001b[0;34m)\u001b[0m\u001b[0;34m\u001b[0m\u001b[0;34m\u001b[0m\u001b[0m\n\u001b[0m\u001b[1;32m    209\u001b[0m         \u001b[0;32mif\u001b[0m \u001b[0mcallback\u001b[0m\u001b[0;34m:\u001b[0m\u001b[0;34m\u001b[0m\u001b[0;34m\u001b[0m\u001b[0m\n\u001b[1;32m    210\u001b[0m             \u001b[0mcallback\u001b[0m\u001b[0;34m(\u001b[0m\u001b[0mresult\u001b[0m\u001b[0;34m)\u001b[0m\u001b[0;34m\u001b[0m\u001b[0;34m\u001b[0m\u001b[0m\n",
            "\u001b[0;32m/usr/local/lib/python3.6/dist-packages/joblib/_parallel_backends.py\u001b[0m in \u001b[0;36m__init__\u001b[0;34m(self, batch)\u001b[0m\n\u001b[1;32m    570\u001b[0m         \u001b[0;31m# Don't delay the application, to avoid keeping the input\u001b[0m\u001b[0;34m\u001b[0m\u001b[0;34m\u001b[0m\u001b[0;34m\u001b[0m\u001b[0m\n\u001b[1;32m    571\u001b[0m         \u001b[0;31m# arguments in memory\u001b[0m\u001b[0;34m\u001b[0m\u001b[0;34m\u001b[0m\u001b[0;34m\u001b[0m\u001b[0m\n\u001b[0;32m--> 572\u001b[0;31m         \u001b[0mself\u001b[0m\u001b[0;34m.\u001b[0m\u001b[0mresults\u001b[0m \u001b[0;34m=\u001b[0m \u001b[0mbatch\u001b[0m\u001b[0;34m(\u001b[0m\u001b[0;34m)\u001b[0m\u001b[0;34m\u001b[0m\u001b[0;34m\u001b[0m\u001b[0m\n\u001b[0m\u001b[1;32m    573\u001b[0m \u001b[0;34m\u001b[0m\u001b[0m\n\u001b[1;32m    574\u001b[0m     \u001b[0;32mdef\u001b[0m \u001b[0mget\u001b[0m\u001b[0;34m(\u001b[0m\u001b[0mself\u001b[0m\u001b[0;34m)\u001b[0m\u001b[0;34m:\u001b[0m\u001b[0;34m\u001b[0m\u001b[0;34m\u001b[0m\u001b[0m\n",
            "\u001b[0;32m/usr/local/lib/python3.6/dist-packages/joblib/parallel.py\u001b[0m in \u001b[0;36m__call__\u001b[0;34m(self)\u001b[0m\n\u001b[1;32m    261\u001b[0m         \u001b[0;32mwith\u001b[0m \u001b[0mparallel_backend\u001b[0m\u001b[0;34m(\u001b[0m\u001b[0mself\u001b[0m\u001b[0;34m.\u001b[0m\u001b[0m_backend\u001b[0m\u001b[0;34m,\u001b[0m \u001b[0mn_jobs\u001b[0m\u001b[0;34m=\u001b[0m\u001b[0mself\u001b[0m\u001b[0;34m.\u001b[0m\u001b[0m_n_jobs\u001b[0m\u001b[0;34m)\u001b[0m\u001b[0;34m:\u001b[0m\u001b[0;34m\u001b[0m\u001b[0;34m\u001b[0m\u001b[0m\n\u001b[1;32m    262\u001b[0m             return [func(*args, **kwargs)\n\u001b[0;32m--> 263\u001b[0;31m                     for func, args, kwargs in self.items]\n\u001b[0m\u001b[1;32m    264\u001b[0m \u001b[0;34m\u001b[0m\u001b[0m\n\u001b[1;32m    265\u001b[0m     \u001b[0;32mdef\u001b[0m \u001b[0m__reduce__\u001b[0m\u001b[0;34m(\u001b[0m\u001b[0mself\u001b[0m\u001b[0;34m)\u001b[0m\u001b[0;34m:\u001b[0m\u001b[0;34m\u001b[0m\u001b[0;34m\u001b[0m\u001b[0m\n",
            "\u001b[0;32m/usr/local/lib/python3.6/dist-packages/joblib/parallel.py\u001b[0m in \u001b[0;36m<listcomp>\u001b[0;34m(.0)\u001b[0m\n\u001b[1;32m    261\u001b[0m         \u001b[0;32mwith\u001b[0m \u001b[0mparallel_backend\u001b[0m\u001b[0;34m(\u001b[0m\u001b[0mself\u001b[0m\u001b[0;34m.\u001b[0m\u001b[0m_backend\u001b[0m\u001b[0;34m,\u001b[0m \u001b[0mn_jobs\u001b[0m\u001b[0;34m=\u001b[0m\u001b[0mself\u001b[0m\u001b[0;34m.\u001b[0m\u001b[0m_n_jobs\u001b[0m\u001b[0;34m)\u001b[0m\u001b[0;34m:\u001b[0m\u001b[0;34m\u001b[0m\u001b[0;34m\u001b[0m\u001b[0m\n\u001b[1;32m    262\u001b[0m             return [func(*args, **kwargs)\n\u001b[0;32m--> 263\u001b[0;31m                     for func, args, kwargs in self.items]\n\u001b[0m\u001b[1;32m    264\u001b[0m \u001b[0;34m\u001b[0m\u001b[0m\n\u001b[1;32m    265\u001b[0m     \u001b[0;32mdef\u001b[0m \u001b[0m__reduce__\u001b[0m\u001b[0;34m(\u001b[0m\u001b[0mself\u001b[0m\u001b[0;34m)\u001b[0m\u001b[0;34m:\u001b[0m\u001b[0;34m\u001b[0m\u001b[0;34m\u001b[0m\u001b[0m\n",
            "\u001b[0;32m/usr/local/lib/python3.6/dist-packages/sklearn/model_selection/_validation.py\u001b[0m in \u001b[0;36m_fit_and_score\u001b[0;34m(estimator, X, y, scorer, train, test, verbose, parameters, fit_params, return_train_score, return_parameters, return_n_test_samples, return_times, return_estimator, error_score)\u001b[0m\n\u001b[1;32m    513\u001b[0m             \u001b[0mestimator\u001b[0m\u001b[0;34m.\u001b[0m\u001b[0mfit\u001b[0m\u001b[0;34m(\u001b[0m\u001b[0mX_train\u001b[0m\u001b[0;34m,\u001b[0m \u001b[0;34m**\u001b[0m\u001b[0mfit_params\u001b[0m\u001b[0;34m)\u001b[0m\u001b[0;34m\u001b[0m\u001b[0;34m\u001b[0m\u001b[0m\n\u001b[1;32m    514\u001b[0m         \u001b[0;32melse\u001b[0m\u001b[0;34m:\u001b[0m\u001b[0;34m\u001b[0m\u001b[0;34m\u001b[0m\u001b[0m\n\u001b[0;32m--> 515\u001b[0;31m             \u001b[0mestimator\u001b[0m\u001b[0;34m.\u001b[0m\u001b[0mfit\u001b[0m\u001b[0;34m(\u001b[0m\u001b[0mX_train\u001b[0m\u001b[0;34m,\u001b[0m \u001b[0my_train\u001b[0m\u001b[0;34m,\u001b[0m \u001b[0;34m**\u001b[0m\u001b[0mfit_params\u001b[0m\u001b[0;34m)\u001b[0m\u001b[0;34m\u001b[0m\u001b[0;34m\u001b[0m\u001b[0m\n\u001b[0m\u001b[1;32m    516\u001b[0m \u001b[0;34m\u001b[0m\u001b[0m\n\u001b[1;32m    517\u001b[0m     \u001b[0;32mexcept\u001b[0m \u001b[0mException\u001b[0m \u001b[0;32mas\u001b[0m \u001b[0me\u001b[0m\u001b[0;34m:\u001b[0m\u001b[0;34m\u001b[0m\u001b[0;34m\u001b[0m\u001b[0m\n",
            "\u001b[0;32m/usr/local/lib/python3.6/dist-packages/sklearn/ensemble/_forest.py\u001b[0m in \u001b[0;36mfit\u001b[0;34m(self, X, y, sample_weight)\u001b[0m\n\u001b[1;32m    381\u001b[0m                     \u001b[0mverbose\u001b[0m\u001b[0;34m=\u001b[0m\u001b[0mself\u001b[0m\u001b[0;34m.\u001b[0m\u001b[0mverbose\u001b[0m\u001b[0;34m,\u001b[0m \u001b[0mclass_weight\u001b[0m\u001b[0;34m=\u001b[0m\u001b[0mself\u001b[0m\u001b[0;34m.\u001b[0m\u001b[0mclass_weight\u001b[0m\u001b[0;34m,\u001b[0m\u001b[0;34m\u001b[0m\u001b[0;34m\u001b[0m\u001b[0m\n\u001b[1;32m    382\u001b[0m                     n_samples_bootstrap=n_samples_bootstrap)\n\u001b[0;32m--> 383\u001b[0;31m                 for i, t in enumerate(trees))\n\u001b[0m\u001b[1;32m    384\u001b[0m \u001b[0;34m\u001b[0m\u001b[0m\n\u001b[1;32m    385\u001b[0m             \u001b[0;31m# Collect newly grown trees\u001b[0m\u001b[0;34m\u001b[0m\u001b[0;34m\u001b[0m\u001b[0;34m\u001b[0m\u001b[0m\n",
            "\u001b[0;32m/usr/local/lib/python3.6/dist-packages/joblib/parallel.py\u001b[0m in \u001b[0;36m__call__\u001b[0;34m(self, iterable)\u001b[0m\n\u001b[1;32m   1042\u001b[0m                 \u001b[0mself\u001b[0m\u001b[0;34m.\u001b[0m\u001b[0m_iterating\u001b[0m \u001b[0;34m=\u001b[0m \u001b[0mself\u001b[0m\u001b[0;34m.\u001b[0m\u001b[0m_original_iterator\u001b[0m \u001b[0;32mis\u001b[0m \u001b[0;32mnot\u001b[0m \u001b[0;32mNone\u001b[0m\u001b[0;34m\u001b[0m\u001b[0;34m\u001b[0m\u001b[0m\n\u001b[1;32m   1043\u001b[0m \u001b[0;34m\u001b[0m\u001b[0m\n\u001b[0;32m-> 1044\u001b[0;31m             \u001b[0;32mwhile\u001b[0m \u001b[0mself\u001b[0m\u001b[0;34m.\u001b[0m\u001b[0mdispatch_one_batch\u001b[0m\u001b[0;34m(\u001b[0m\u001b[0miterator\u001b[0m\u001b[0;34m)\u001b[0m\u001b[0;34m:\u001b[0m\u001b[0;34m\u001b[0m\u001b[0;34m\u001b[0m\u001b[0m\n\u001b[0m\u001b[1;32m   1045\u001b[0m                 \u001b[0;32mpass\u001b[0m\u001b[0;34m\u001b[0m\u001b[0;34m\u001b[0m\u001b[0m\n\u001b[1;32m   1046\u001b[0m \u001b[0;34m\u001b[0m\u001b[0m\n",
            "\u001b[0;32m/usr/local/lib/python3.6/dist-packages/joblib/parallel.py\u001b[0m in \u001b[0;36mdispatch_one_batch\u001b[0;34m(self, iterator)\u001b[0m\n\u001b[1;32m    857\u001b[0m                 \u001b[0;32mreturn\u001b[0m \u001b[0;32mFalse\u001b[0m\u001b[0;34m\u001b[0m\u001b[0;34m\u001b[0m\u001b[0m\n\u001b[1;32m    858\u001b[0m             \u001b[0;32melse\u001b[0m\u001b[0;34m:\u001b[0m\u001b[0;34m\u001b[0m\u001b[0;34m\u001b[0m\u001b[0m\n\u001b[0;32m--> 859\u001b[0;31m                 \u001b[0mself\u001b[0m\u001b[0;34m.\u001b[0m\u001b[0m_dispatch\u001b[0m\u001b[0;34m(\u001b[0m\u001b[0mtasks\u001b[0m\u001b[0;34m)\u001b[0m\u001b[0;34m\u001b[0m\u001b[0;34m\u001b[0m\u001b[0m\n\u001b[0m\u001b[1;32m    860\u001b[0m                 \u001b[0;32mreturn\u001b[0m \u001b[0;32mTrue\u001b[0m\u001b[0;34m\u001b[0m\u001b[0;34m\u001b[0m\u001b[0m\n\u001b[1;32m    861\u001b[0m \u001b[0;34m\u001b[0m\u001b[0m\n",
            "\u001b[0;32m/usr/local/lib/python3.6/dist-packages/joblib/parallel.py\u001b[0m in \u001b[0;36m_dispatch\u001b[0;34m(self, batch)\u001b[0m\n\u001b[1;32m    775\u001b[0m         \u001b[0;32mwith\u001b[0m \u001b[0mself\u001b[0m\u001b[0;34m.\u001b[0m\u001b[0m_lock\u001b[0m\u001b[0;34m:\u001b[0m\u001b[0;34m\u001b[0m\u001b[0;34m\u001b[0m\u001b[0m\n\u001b[1;32m    776\u001b[0m             \u001b[0mjob_idx\u001b[0m \u001b[0;34m=\u001b[0m \u001b[0mlen\u001b[0m\u001b[0;34m(\u001b[0m\u001b[0mself\u001b[0m\u001b[0;34m.\u001b[0m\u001b[0m_jobs\u001b[0m\u001b[0;34m)\u001b[0m\u001b[0;34m\u001b[0m\u001b[0;34m\u001b[0m\u001b[0m\n\u001b[0;32m--> 777\u001b[0;31m             \u001b[0mjob\u001b[0m \u001b[0;34m=\u001b[0m \u001b[0mself\u001b[0m\u001b[0;34m.\u001b[0m\u001b[0m_backend\u001b[0m\u001b[0;34m.\u001b[0m\u001b[0mapply_async\u001b[0m\u001b[0;34m(\u001b[0m\u001b[0mbatch\u001b[0m\u001b[0;34m,\u001b[0m \u001b[0mcallback\u001b[0m\u001b[0;34m=\u001b[0m\u001b[0mcb\u001b[0m\u001b[0;34m)\u001b[0m\u001b[0;34m\u001b[0m\u001b[0;34m\u001b[0m\u001b[0m\n\u001b[0m\u001b[1;32m    778\u001b[0m             \u001b[0;31m# A job can complete so quickly than its callback is\u001b[0m\u001b[0;34m\u001b[0m\u001b[0;34m\u001b[0m\u001b[0;34m\u001b[0m\u001b[0m\n\u001b[1;32m    779\u001b[0m             \u001b[0;31m# called before we get here, causing self._jobs to\u001b[0m\u001b[0;34m\u001b[0m\u001b[0;34m\u001b[0m\u001b[0;34m\u001b[0m\u001b[0m\n",
            "\u001b[0;32m/usr/local/lib/python3.6/dist-packages/joblib/_parallel_backends.py\u001b[0m in \u001b[0;36mapply_async\u001b[0;34m(self, func, callback)\u001b[0m\n\u001b[1;32m    206\u001b[0m     \u001b[0;32mdef\u001b[0m \u001b[0mapply_async\u001b[0m\u001b[0;34m(\u001b[0m\u001b[0mself\u001b[0m\u001b[0;34m,\u001b[0m \u001b[0mfunc\u001b[0m\u001b[0;34m,\u001b[0m \u001b[0mcallback\u001b[0m\u001b[0;34m=\u001b[0m\u001b[0;32mNone\u001b[0m\u001b[0;34m)\u001b[0m\u001b[0;34m:\u001b[0m\u001b[0;34m\u001b[0m\u001b[0;34m\u001b[0m\u001b[0m\n\u001b[1;32m    207\u001b[0m         \u001b[0;34m\"\"\"Schedule a func to be run\"\"\"\u001b[0m\u001b[0;34m\u001b[0m\u001b[0;34m\u001b[0m\u001b[0m\n\u001b[0;32m--> 208\u001b[0;31m         \u001b[0mresult\u001b[0m \u001b[0;34m=\u001b[0m \u001b[0mImmediateResult\u001b[0m\u001b[0;34m(\u001b[0m\u001b[0mfunc\u001b[0m\u001b[0;34m)\u001b[0m\u001b[0;34m\u001b[0m\u001b[0;34m\u001b[0m\u001b[0m\n\u001b[0m\u001b[1;32m    209\u001b[0m         \u001b[0;32mif\u001b[0m \u001b[0mcallback\u001b[0m\u001b[0;34m:\u001b[0m\u001b[0;34m\u001b[0m\u001b[0;34m\u001b[0m\u001b[0m\n\u001b[1;32m    210\u001b[0m             \u001b[0mcallback\u001b[0m\u001b[0;34m(\u001b[0m\u001b[0mresult\u001b[0m\u001b[0;34m)\u001b[0m\u001b[0;34m\u001b[0m\u001b[0;34m\u001b[0m\u001b[0m\n",
            "\u001b[0;32m/usr/local/lib/python3.6/dist-packages/joblib/_parallel_backends.py\u001b[0m in \u001b[0;36m__init__\u001b[0;34m(self, batch)\u001b[0m\n\u001b[1;32m    570\u001b[0m         \u001b[0;31m# Don't delay the application, to avoid keeping the input\u001b[0m\u001b[0;34m\u001b[0m\u001b[0;34m\u001b[0m\u001b[0;34m\u001b[0m\u001b[0m\n\u001b[1;32m    571\u001b[0m         \u001b[0;31m# arguments in memory\u001b[0m\u001b[0;34m\u001b[0m\u001b[0;34m\u001b[0m\u001b[0;34m\u001b[0m\u001b[0m\n\u001b[0;32m--> 572\u001b[0;31m         \u001b[0mself\u001b[0m\u001b[0;34m.\u001b[0m\u001b[0mresults\u001b[0m \u001b[0;34m=\u001b[0m \u001b[0mbatch\u001b[0m\u001b[0;34m(\u001b[0m\u001b[0;34m)\u001b[0m\u001b[0;34m\u001b[0m\u001b[0;34m\u001b[0m\u001b[0m\n\u001b[0m\u001b[1;32m    573\u001b[0m \u001b[0;34m\u001b[0m\u001b[0m\n\u001b[1;32m    574\u001b[0m     \u001b[0;32mdef\u001b[0m \u001b[0mget\u001b[0m\u001b[0;34m(\u001b[0m\u001b[0mself\u001b[0m\u001b[0;34m)\u001b[0m\u001b[0;34m:\u001b[0m\u001b[0;34m\u001b[0m\u001b[0;34m\u001b[0m\u001b[0m\n",
            "\u001b[0;32m/usr/local/lib/python3.6/dist-packages/joblib/parallel.py\u001b[0m in \u001b[0;36m__call__\u001b[0;34m(self)\u001b[0m\n\u001b[1;32m    261\u001b[0m         \u001b[0;32mwith\u001b[0m \u001b[0mparallel_backend\u001b[0m\u001b[0;34m(\u001b[0m\u001b[0mself\u001b[0m\u001b[0;34m.\u001b[0m\u001b[0m_backend\u001b[0m\u001b[0;34m,\u001b[0m \u001b[0mn_jobs\u001b[0m\u001b[0;34m=\u001b[0m\u001b[0mself\u001b[0m\u001b[0;34m.\u001b[0m\u001b[0m_n_jobs\u001b[0m\u001b[0;34m)\u001b[0m\u001b[0;34m:\u001b[0m\u001b[0;34m\u001b[0m\u001b[0;34m\u001b[0m\u001b[0m\n\u001b[1;32m    262\u001b[0m             return [func(*args, **kwargs)\n\u001b[0;32m--> 263\u001b[0;31m                     for func, args, kwargs in self.items]\n\u001b[0m\u001b[1;32m    264\u001b[0m \u001b[0;34m\u001b[0m\u001b[0m\n\u001b[1;32m    265\u001b[0m     \u001b[0;32mdef\u001b[0m \u001b[0m__reduce__\u001b[0m\u001b[0;34m(\u001b[0m\u001b[0mself\u001b[0m\u001b[0;34m)\u001b[0m\u001b[0;34m:\u001b[0m\u001b[0;34m\u001b[0m\u001b[0;34m\u001b[0m\u001b[0m\n",
            "\u001b[0;32m/usr/local/lib/python3.6/dist-packages/joblib/parallel.py\u001b[0m in \u001b[0;36m<listcomp>\u001b[0;34m(.0)\u001b[0m\n\u001b[1;32m    261\u001b[0m         \u001b[0;32mwith\u001b[0m \u001b[0mparallel_backend\u001b[0m\u001b[0;34m(\u001b[0m\u001b[0mself\u001b[0m\u001b[0;34m.\u001b[0m\u001b[0m_backend\u001b[0m\u001b[0;34m,\u001b[0m \u001b[0mn_jobs\u001b[0m\u001b[0;34m=\u001b[0m\u001b[0mself\u001b[0m\u001b[0;34m.\u001b[0m\u001b[0m_n_jobs\u001b[0m\u001b[0;34m)\u001b[0m\u001b[0;34m:\u001b[0m\u001b[0;34m\u001b[0m\u001b[0;34m\u001b[0m\u001b[0m\n\u001b[1;32m    262\u001b[0m             return [func(*args, **kwargs)\n\u001b[0;32m--> 263\u001b[0;31m                     for func, args, kwargs in self.items]\n\u001b[0m\u001b[1;32m    264\u001b[0m \u001b[0;34m\u001b[0m\u001b[0m\n\u001b[1;32m    265\u001b[0m     \u001b[0;32mdef\u001b[0m \u001b[0m__reduce__\u001b[0m\u001b[0;34m(\u001b[0m\u001b[0mself\u001b[0m\u001b[0;34m)\u001b[0m\u001b[0;34m:\u001b[0m\u001b[0;34m\u001b[0m\u001b[0;34m\u001b[0m\u001b[0m\n",
            "\u001b[0;32m/usr/local/lib/python3.6/dist-packages/sklearn/ensemble/_forest.py\u001b[0m in \u001b[0;36m_parallel_build_trees\u001b[0;34m(tree, forest, X, y, sample_weight, tree_idx, n_trees, verbose, class_weight, n_samples_bootstrap)\u001b[0m\n\u001b[1;32m    163\u001b[0m             \u001b[0mcurr_sample_weight\u001b[0m \u001b[0;34m*=\u001b[0m \u001b[0mcompute_sample_weight\u001b[0m\u001b[0;34m(\u001b[0m\u001b[0;34m'balanced'\u001b[0m\u001b[0;34m,\u001b[0m \u001b[0my\u001b[0m\u001b[0;34m,\u001b[0m \u001b[0mindices\u001b[0m\u001b[0;34m)\u001b[0m\u001b[0;34m\u001b[0m\u001b[0;34m\u001b[0m\u001b[0m\n\u001b[1;32m    164\u001b[0m \u001b[0;34m\u001b[0m\u001b[0m\n\u001b[0;32m--> 165\u001b[0;31m         \u001b[0mtree\u001b[0m\u001b[0;34m.\u001b[0m\u001b[0mfit\u001b[0m\u001b[0;34m(\u001b[0m\u001b[0mX\u001b[0m\u001b[0;34m,\u001b[0m \u001b[0my\u001b[0m\u001b[0;34m,\u001b[0m \u001b[0msample_weight\u001b[0m\u001b[0;34m=\u001b[0m\u001b[0mcurr_sample_weight\u001b[0m\u001b[0;34m,\u001b[0m \u001b[0mcheck_input\u001b[0m\u001b[0;34m=\u001b[0m\u001b[0;32mFalse\u001b[0m\u001b[0;34m)\u001b[0m\u001b[0;34m\u001b[0m\u001b[0;34m\u001b[0m\u001b[0m\n\u001b[0m\u001b[1;32m    166\u001b[0m     \u001b[0;32melse\u001b[0m\u001b[0;34m:\u001b[0m\u001b[0;34m\u001b[0m\u001b[0;34m\u001b[0m\u001b[0m\n\u001b[1;32m    167\u001b[0m         \u001b[0mtree\u001b[0m\u001b[0;34m.\u001b[0m\u001b[0mfit\u001b[0m\u001b[0;34m(\u001b[0m\u001b[0mX\u001b[0m\u001b[0;34m,\u001b[0m \u001b[0my\u001b[0m\u001b[0;34m,\u001b[0m \u001b[0msample_weight\u001b[0m\u001b[0;34m=\u001b[0m\u001b[0msample_weight\u001b[0m\u001b[0;34m,\u001b[0m \u001b[0mcheck_input\u001b[0m\u001b[0;34m=\u001b[0m\u001b[0;32mFalse\u001b[0m\u001b[0;34m)\u001b[0m\u001b[0;34m\u001b[0m\u001b[0;34m\u001b[0m\u001b[0m\n",
            "\u001b[0;32m/usr/local/lib/python3.6/dist-packages/sklearn/tree/_classes.py\u001b[0m in \u001b[0;36mfit\u001b[0;34m(self, X, y, sample_weight, check_input, X_idx_sorted)\u001b[0m\n\u001b[1;32m    875\u001b[0m             \u001b[0msample_weight\u001b[0m\u001b[0;34m=\u001b[0m\u001b[0msample_weight\u001b[0m\u001b[0;34m,\u001b[0m\u001b[0;34m\u001b[0m\u001b[0;34m\u001b[0m\u001b[0m\n\u001b[1;32m    876\u001b[0m             \u001b[0mcheck_input\u001b[0m\u001b[0;34m=\u001b[0m\u001b[0mcheck_input\u001b[0m\u001b[0;34m,\u001b[0m\u001b[0;34m\u001b[0m\u001b[0;34m\u001b[0m\u001b[0m\n\u001b[0;32m--> 877\u001b[0;31m             X_idx_sorted=X_idx_sorted)\n\u001b[0m\u001b[1;32m    878\u001b[0m         \u001b[0;32mreturn\u001b[0m \u001b[0mself\u001b[0m\u001b[0;34m\u001b[0m\u001b[0;34m\u001b[0m\u001b[0m\n\u001b[1;32m    879\u001b[0m \u001b[0;34m\u001b[0m\u001b[0m\n",
            "\u001b[0;32m/usr/local/lib/python3.6/dist-packages/sklearn/tree/_classes.py\u001b[0m in \u001b[0;36mfit\u001b[0;34m(self, X, y, sample_weight, check_input, X_idx_sorted)\u001b[0m\n\u001b[1;32m    365\u001b[0m                                            min_impurity_split)\n\u001b[1;32m    366\u001b[0m \u001b[0;34m\u001b[0m\u001b[0m\n\u001b[0;32m--> 367\u001b[0;31m         \u001b[0mbuilder\u001b[0m\u001b[0;34m.\u001b[0m\u001b[0mbuild\u001b[0m\u001b[0;34m(\u001b[0m\u001b[0mself\u001b[0m\u001b[0;34m.\u001b[0m\u001b[0mtree_\u001b[0m\u001b[0;34m,\u001b[0m \u001b[0mX\u001b[0m\u001b[0;34m,\u001b[0m \u001b[0my\u001b[0m\u001b[0;34m,\u001b[0m \u001b[0msample_weight\u001b[0m\u001b[0;34m,\u001b[0m \u001b[0mX_idx_sorted\u001b[0m\u001b[0;34m)\u001b[0m\u001b[0;34m\u001b[0m\u001b[0;34m\u001b[0m\u001b[0m\n\u001b[0m\u001b[1;32m    368\u001b[0m \u001b[0;34m\u001b[0m\u001b[0m\n\u001b[1;32m    369\u001b[0m         \u001b[0;32mif\u001b[0m \u001b[0mself\u001b[0m\u001b[0;34m.\u001b[0m\u001b[0mn_outputs_\u001b[0m \u001b[0;34m==\u001b[0m \u001b[0;36m1\u001b[0m \u001b[0;32mand\u001b[0m \u001b[0mis_classifier\u001b[0m\u001b[0;34m(\u001b[0m\u001b[0mself\u001b[0m\u001b[0;34m)\u001b[0m\u001b[0;34m:\u001b[0m\u001b[0;34m\u001b[0m\u001b[0;34m\u001b[0m\u001b[0m\n",
            "\u001b[0;31mKeyboardInterrupt\u001b[0m: "
          ]
        }
      ]
    },
    {
      "cell_type": "code",
      "metadata": {
        "id": "oAN-YsZ26zRZ"
      },
      "source": [
        "def SPLIT_FIT_PREDICT(model, X, y, str=None, rate=0.2, prc=False, roc=False) :\n",
        "    X_train ,X_test , y_train, y_test = train_test_split(X, y, test_size=rate, random_state=121)\n",
        "    model.fit(X_train, y_train)\n",
        "    pred = model.predict(X_test)\n",
        "    proba = model.predict_proba(X_test)\n",
        "    auc = roc_auc_score(y_test, proba[:, 1].reshape(-1, 1))\n",
        "    SCORES(y_test, pred, proba, str)\n",
        "\n",
        "    if prc == True: #일반적으로 그리지 말고 true면 그려라\n",
        "        CHART_PRECISION_RECALL_CURV(y_test, proba)\n",
        "    if roc == True:\n",
        "        CHART_ROC_CURV(y_test, proba, auc)\n",
        "    return X_train, X_test, y_train, y_test \n",
        "\n",
        "def SCORES(y_test, pred, proba, str=None) :\n",
        "    print(\"------{}-------\".format(str))\n",
        "    acc = accuracy_score(y_test, pred)\n",
        "    f1 = f1_score(y_test, pred)\n",
        "    precision = precision_score(y_test, pred)\n",
        "    recall = recall_score(y_test, pred)\n",
        "    #auc = roc_auc_score(y_test, pred)\n",
        "    auc = roc_auc_score(y_test, proba[:, 1].reshape(-1, 1))\n",
        "    print(\"정확도{:.4f}  F1 {:.4f}=(정밀도{:.4f}  재현률{:.4f} auc{:.4f}) \".format(acc, f1, precision, recall, auc))\n",
        "    cf_matrix = confusion_matrix(y_test, pred)\n",
        "    print(cf_matrix)"
      ],
      "execution_count": null,
      "outputs": []
    },
    {
      "cell_type": "code",
      "metadata": {
        "id": "REW7KHtYdT0m",
        "colab": {
          "base_uri": "https://localhost:8080/"
        },
        "outputId": "dc6ff648-a5c9-4808-cdf8-80a3d3749900"
      },
      "source": [
        "print(df1.shape)\n",
        "print(df1[\"is_promoted\"].value_counts())\n",
        "P_df = df1[df1[\"is_promoted\"] == 1]\n",
        "N_df = df1[df1[\"is_promoted\"] == 0][:len(P_df)] #positive df만큼 가져오기\n",
        "under_df = P_df.append(N_df)\n",
        "print(P_df.shape, N_df.shape, under_df.shape)\n",
        "\n",
        "y = under_df[\"is_promoted\"]\n",
        "X = under_df.drop(\"is_promoted\", axis=1)\n",
        "model = RandomForestClassifier()\n",
        "print(X.shape, y.shape)\n",
        "\n",
        "SPLIT_FIT_PREDICT(model, X, y, str=\"undersampling 점수\", rate=0.2) #점수 올리려면 standardscaling 하면됨"
      ],
      "execution_count": null,
      "outputs": [
        {
          "output_type": "stream",
          "text": [
            "(54808, 54)\n",
            "0    50140\n",
            "1     4668\n",
            "Name: is_promoted, dtype: int64\n",
            "(4668, 54) (4668, 54) (9336, 54)\n",
            "(9336, 53) (9336,)\n",
            "------undersampling 점수-------\n",
            "정확도0.8116  F1 0.8220=(정밀도0.7750  재현률0.8751 auc0.8959) \n",
            "[[703 236]\n",
            " [116 813]]\n"
          ],
          "name": "stdout"
        },
        {
          "output_type": "execute_result",
          "data": {
            "text/plain": [
              "(       gender  train_no  last_rate  ...  reg__region_7  reg__region_8  reg__region_9\n",
              " 34739       1         1        5.0  ...              0              0              0\n",
              " 4707        1         2        5.0  ...              1              0              0\n",
              " 24309       1         1        3.0  ...              0              0              0\n",
              " 34106       1         1        3.0  ...              0              0              0\n",
              " 1685        1         1        4.0  ...              0              0              0\n",
              " ...       ...       ...        ...  ...            ...            ...            ...\n",
              " 4475        0         1        3.0  ...              0              0              0\n",
              " 1325        1         1        5.0  ...              0              0              0\n",
              " 26199       0         1        4.0  ...              0              0              0\n",
              " 3199        0         1        1.0  ...              0              0              0\n",
              " 3851        1         1        3.0  ...              1              0              0\n",
              " \n",
              " [7468 rows x 53 columns],\n",
              "        gender  train_no  last_rate  ...  reg__region_7  reg__region_8  reg__region_9\n",
              " 1238        1         1        3.0  ...              0              0              0\n",
              " 11930       0         1        5.0  ...              0              0              0\n",
              " 38875       1         1        5.0  ...              0              0              0\n",
              " 4331        0         1        3.0  ...              0              0              0\n",
              " 2236        0         1        4.0  ...              0              0              0\n",
              " ...       ...       ...        ...  ...            ...            ...            ...\n",
              " 35781       1         1        4.0  ...              0              0              0\n",
              " 2354        1         1        4.0  ...              0              0              0\n",
              " 8246        0         1        4.0  ...              0              0              0\n",
              " 4744        1         2        4.0  ...              0              0              0\n",
              " 2425        1         2        1.0  ...              0              0              0\n",
              " \n",
              " [1868 rows x 53 columns],\n",
              " 34739    1\n",
              " 4707     0\n",
              " 24309    1\n",
              " 34106    1\n",
              " 1685     0\n",
              "         ..\n",
              " 4475     0\n",
              " 1325     0\n",
              " 26199    1\n",
              " 3199     0\n",
              " 3851     1\n",
              " Name: is_promoted, Length: 7468, dtype: int64,\n",
              " 1238     0\n",
              " 11930    1\n",
              " 38875    1\n",
              " 4331     0\n",
              " 2236     0\n",
              "         ..\n",
              " 35781    1\n",
              " 2354     1\n",
              " 8246     1\n",
              " 4744     0\n",
              " 2425     0\n",
              " Name: is_promoted, Length: 1868, dtype: int64)"
            ]
          },
          "metadata": {
            "tags": []
          },
          "execution_count": 195
        }
      ]
    },
    {
      "cell_type": "code",
      "metadata": {
        "id": "dQze1gyYdT3h",
        "colab": {
          "base_uri": "https://localhost:8080/"
        },
        "outputId": "93c60a73-2332-4fc9-a446-626a26fad7e2"
      },
      "source": [
        "from imblearn.over_sampling import SMOTE\n",
        "\n",
        "print(df1.shape)\n",
        "print(df1[\"is_promoted\"].value_counts())\n",
        "\n",
        "y = df1[\"is_promoted\"] #undersampling 영향 안받게 다시 읽어와서 X,y 끊어줌\n",
        "X = df1.drop(\"is_promoted\", axis=1)\n",
        "smote = SMOTE()\n",
        "X_over, y_over = smote.fit_resample(X, y)\n",
        "\n",
        "print(X_over.shape, y_over.shape)\n",
        "print(pd.Series(y_over).value_counts()) #array이므로 세로형으로 바꾸기 위해서 reshape\n",
        "\n",
        "model = RandomForestClassifier()\n",
        "print(X.shape, y.shape)\n",
        "SPLIT_FIT_PREDICT(model, X_over, y_over, str=\"oversampling 점수\", rate=0.2)"
      ],
      "execution_count": null,
      "outputs": [
        {
          "output_type": "stream",
          "text": [
            "(54808, 54)\n",
            "0    50140\n",
            "1     4668\n",
            "Name: is_promoted, dtype: int64\n",
            "(100280, 53) (100280,)\n",
            "1    50140\n",
            "0    50140\n",
            "dtype: int64\n",
            "(54808, 53) (54808,)\n",
            "------oversampling 점수-------\n",
            "정확도0.9641  F1 0.9631=(정밀도0.9791  재현률0.9477 auc0.9932) \n",
            "[[9935  201]\n",
            " [ 519 9401]]\n"
          ],
          "name": "stdout"
        },
        {
          "output_type": "execute_result",
          "data": {
            "text/plain": [
              "(array([[0.        , 1.        , 5.        , ..., 0.        , 0.        ,\n",
              "         0.        ],\n",
              "        [1.        , 1.        , 3.        , ..., 0.        , 0.        ,\n",
              "         0.        ],\n",
              "        [1.        , 1.        , 5.        , ..., 0.        , 0.        ,\n",
              "         0.        ],\n",
              "        ...,\n",
              "        [1.        , 1.        , 3.        , ..., 0.30158552, 0.        ,\n",
              "         0.        ],\n",
              "        [0.        , 1.        , 5.        , ..., 0.        , 0.        ,\n",
              "         0.        ],\n",
              "        [1.        , 2.        , 4.        , ..., 0.        , 0.        ,\n",
              "         0.        ]]),\n",
              " array([[1.        , 1.        , 1.        , ..., 0.        , 0.        ,\n",
              "         0.        ],\n",
              "        [1.        , 1.        , 0.        , ..., 0.        , 0.        ,\n",
              "         0.        ],\n",
              "        [1.        , 1.        , 1.        , ..., 0.        , 0.        ,\n",
              "         0.        ],\n",
              "        ...,\n",
              "        [0.62555124, 1.        , 0.        , ..., 0.        , 0.        ,\n",
              "         0.        ],\n",
              "        [0.        , 1.        , 1.83317883, ..., 0.        , 0.        ,\n",
              "         0.        ],\n",
              "        [1.        , 1.        , 0.        , ..., 0.        , 0.        ,\n",
              "         0.        ]]),\n",
              " array([1, 0, 1, ..., 1, 1, 0]),\n",
              " array([0, 1, 0, ..., 1, 1, 1]))"
            ]
          },
          "metadata": {
            "tags": []
          },
          "execution_count": 196
        }
      ]
    },
    {
      "cell_type": "code",
      "metadata": {
        "id": "21ennkWF7vJQ"
      },
      "source": [
        ""
      ],
      "execution_count": null,
      "outputs": []
    },
    {
      "cell_type": "code",
      "metadata": {
        "id": "Yh1fvv9cHYsp"
      },
      "source": [
        "def MySplitFitPredict(model, X, y, str=None, rate=0.2, prc=False, roc=False) :\n",
        "    X_train ,X_test , y_train, y_test = train_test_split(X, y, test_size=rate, random_state=121)\n",
        "    model.fit(X_train, y_train)\n",
        "    pred  = model.predict(X_test)\n",
        "    proba = model.predict_proba(X_test)\n",
        "\n",
        "    MyScores(y_test, pred, proba, str)\n",
        "\n",
        "    if prc == True:\n",
        "        MyChartPrcRclCurve(y_test, proba)\n",
        "    if roc == True:\n",
        "        MyChartRocCurve(y_test, proba)\n",
        "    return proba # X_train, X_test, y_train, y_test, proba # , pred, proba"
      ],
      "execution_count": null,
      "outputs": []
    },
    {
      "cell_type": "code",
      "metadata": {
        "id": "7N1Lz0KXPkh7"
      },
      "source": [
        "def MyScores(y_test, pred, proba, str=None) :\n",
        "    print(\"Scores : {} ---------\" .format(str))\n",
        "    acc       = accuracy_score(y_test, pred)\n",
        "    f1        = f1_score(y_test, pred)\n",
        "    precision = precision_score(y_test, pred)\n",
        "    recall    = recall_score(y_test, pred)\n",
        "    auc       = roc_auc_score(y_test, proba[:, 1].reshape(-1, 1))\n",
        "    print(\"정확도{:.4f}  F1 {:.4f}=(정밀도{:.4f} 재현률{:.4f}) auc {:.4f}\" .format(acc, f1, precision, recall, auc))\n",
        "    cf_matrix = confusion_matrix(y_test, pred)\n",
        "    print(\"Confusion Matrix\", e, cf_matrix, barline)"
      ],
      "execution_count": null,
      "outputs": []
    },
    {
      "cell_type": "code",
      "metadata": {
        "id": "kON9t6C6P01F"
      },
      "source": [
        "MyCheckDataframe(df1, target=\"is_promoted\")"
      ],
      "execution_count": null,
      "outputs": []
    },
    {
      "cell_type": "code",
      "metadata": {
        "id": "ZW8qwVceHc_x"
      },
      "source": [
        "model = RandomForestClassifier()\n",
        "MySplitFitPredict(model, X, y)\n",
        "# model = RandomForestClassifier()\n",
        "# model.fit(X_train, y_train)\n",
        "# pred  = model.predict(X_test)\n",
        "# proba = model.predict_proba(X_test)\n",
        "\n",
        "# MyScores(y_test, pred, proba, str)"
      ],
      "execution_count": null,
      "outputs": []
    }
  ]
}