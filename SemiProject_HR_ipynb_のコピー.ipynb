{
  "nbformat": 4,
  "nbformat_minor": 0,
  "metadata": {
    "colab": {
      "name": "SemiProject_HR.ipynb のコピー",
      "provenance": [],
      "collapsed_sections": [],
      "include_colab_link": true
    },
    "kernelspec": {
      "name": "python3",
      "display_name": "Python 3"
    }
  },
  "cells": [
    {
      "cell_type": "markdown",
      "metadata": {
        "id": "view-in-github",
        "colab_type": "text"
      },
      "source": [
        "<a href=\"https://colab.research.google.com/github/eruru0411/git-test/blob/master/SemiProject_HR_ipynb_%E3%81%AE%E3%82%B3%E3%83%94%E3%83%BC.ipynb\" target=\"_parent\"><img src=\"https://colab.research.google.com/assets/colab-badge.svg\" alt=\"Open In Colab\"/></a>"
      ]
    },
    {
      "cell_type": "code",
      "metadata": {
        "id": "pnNS7w5ndGtU"
      },
      "source": [
        "import pandas  as pd\r\n",
        "import numpy   as np\r\n",
        "import seaborn as sns\r\n",
        "import matplotlib.pyplot as plt\r\n",
        "\r\n",
        "from scipy            import stats\r\n",
        "from sklearn.ensemble import RandomForestClassifier\r\n",
        "from sklearn.metrics  import confusion_matrix, accuracy_score, f1_score, roc_auc_score,\\\r\n",
        "                             precision_score,recall_score, roc_curve, classification_report,precision_recall_curve\r\n",
        "from sklearn                 import preprocessing\r\n",
        "# from sklearn.preprocessing   import StandardScaler,RobustScaler,MinMaxScaler, Binarizer, OneHotEncoder, LabelEncoder\r\n",
        "from sklearn.model_selection import train_test_split, cross_val_score, cross_validate, GridSearchCV, KFold\r\n",
        "import warnings\r\n",
        "warnings.filterwarnings(action=\"ignore\")\r\n",
        "barline = \"\\n============================================\"\r\n",
        "e = \"\\n\""
      ],
      "execution_count": null,
      "outputs": []
    },
    {
      "cell_type": "code",
      "metadata": {
        "colab": {
          "base_uri": "https://localhost:8080/"
        },
        "id": "JZ1B4ZA6dJf_",
        "outputId": "e6e4a32f-cd9b-48c6-882d-20dc8bf53574"
      },
      "source": [
        "train_df = pd.read_csv(\"train.csv\")\r\n",
        "train_df.shape"
      ],
      "execution_count": null,
      "outputs": [
        {
          "output_type": "execute_result",
          "data": {
            "text/plain": [
              "(54808, 14)"
            ]
          },
          "metadata": {
            "tags": []
          },
          "execution_count": 235
        }
      ]
    },
    {
      "cell_type": "code",
      "metadata": {
        "id": "xQHT13mldd_X"
      },
      "source": [
        "# df.info()"
      ],
      "execution_count": null,
      "outputs": []
    },
    {
      "cell_type": "code",
      "metadata": {
        "id": "xBGuo2jhrX6q"
      },
      "source": [
        "test_df = pd.read_csv(\"test.csv\")\r\n",
        "# test_df.info()"
      ],
      "execution_count": null,
      "outputs": []
    },
    {
      "cell_type": "code",
      "metadata": {
        "id": "bFDnDrwGJZii"
      },
      "source": [
        "df = train_df.append(test_df)"
      ],
      "execution_count": null,
      "outputs": []
    },
    {
      "cell_type": "code",
      "metadata": {
        "colab": {
          "base_uri": "https://localhost:8080/",
          "height": 204
        },
        "id": "j2YNsBhtdo-3",
        "outputId": "92ecd0dc-31cf-4209-fd19-bc05c510b46e"
      },
      "source": [
        "df.head()"
      ],
      "execution_count": null,
      "outputs": [
        {
          "output_type": "execute_result",
          "data": {
            "text/html": [
              "<div>\n",
              "<style scoped>\n",
              "    .dataframe tbody tr th:only-of-type {\n",
              "        vertical-align: middle;\n",
              "    }\n",
              "\n",
              "    .dataframe tbody tr th {\n",
              "        vertical-align: top;\n",
              "    }\n",
              "\n",
              "    .dataframe thead th {\n",
              "        text-align: right;\n",
              "    }\n",
              "</style>\n",
              "<table border=\"1\" class=\"dataframe\">\n",
              "  <thead>\n",
              "    <tr style=\"text-align: right;\">\n",
              "      <th></th>\n",
              "      <th>employee_id</th>\n",
              "      <th>department</th>\n",
              "      <th>region</th>\n",
              "      <th>education</th>\n",
              "      <th>gender</th>\n",
              "      <th>recruitment_channel</th>\n",
              "      <th>no_of_trainings</th>\n",
              "      <th>age</th>\n",
              "      <th>previous_year_rating</th>\n",
              "      <th>length_of_service</th>\n",
              "      <th>KPIs_met &gt;80%</th>\n",
              "      <th>awards_won?</th>\n",
              "      <th>avg_training_score</th>\n",
              "      <th>is_promoted</th>\n",
              "    </tr>\n",
              "  </thead>\n",
              "  <tbody>\n",
              "    <tr>\n",
              "      <th>0</th>\n",
              "      <td>65438</td>\n",
              "      <td>Sales &amp; Marketing</td>\n",
              "      <td>region_7</td>\n",
              "      <td>Master's &amp; above</td>\n",
              "      <td>f</td>\n",
              "      <td>sourcing</td>\n",
              "      <td>1</td>\n",
              "      <td>35</td>\n",
              "      <td>5.0</td>\n",
              "      <td>8</td>\n",
              "      <td>1</td>\n",
              "      <td>0</td>\n",
              "      <td>49</td>\n",
              "      <td>0.0</td>\n",
              "    </tr>\n",
              "    <tr>\n",
              "      <th>1</th>\n",
              "      <td>65141</td>\n",
              "      <td>Operations</td>\n",
              "      <td>region_22</td>\n",
              "      <td>Bachelor's</td>\n",
              "      <td>m</td>\n",
              "      <td>other</td>\n",
              "      <td>1</td>\n",
              "      <td>30</td>\n",
              "      <td>5.0</td>\n",
              "      <td>4</td>\n",
              "      <td>0</td>\n",
              "      <td>0</td>\n",
              "      <td>60</td>\n",
              "      <td>0.0</td>\n",
              "    </tr>\n",
              "    <tr>\n",
              "      <th>2</th>\n",
              "      <td>7513</td>\n",
              "      <td>Sales &amp; Marketing</td>\n",
              "      <td>region_19</td>\n",
              "      <td>Bachelor's</td>\n",
              "      <td>m</td>\n",
              "      <td>sourcing</td>\n",
              "      <td>1</td>\n",
              "      <td>34</td>\n",
              "      <td>3.0</td>\n",
              "      <td>7</td>\n",
              "      <td>0</td>\n",
              "      <td>0</td>\n",
              "      <td>50</td>\n",
              "      <td>0.0</td>\n",
              "    </tr>\n",
              "    <tr>\n",
              "      <th>3</th>\n",
              "      <td>2542</td>\n",
              "      <td>Sales &amp; Marketing</td>\n",
              "      <td>region_23</td>\n",
              "      <td>Bachelor's</td>\n",
              "      <td>m</td>\n",
              "      <td>other</td>\n",
              "      <td>2</td>\n",
              "      <td>39</td>\n",
              "      <td>1.0</td>\n",
              "      <td>10</td>\n",
              "      <td>0</td>\n",
              "      <td>0</td>\n",
              "      <td>50</td>\n",
              "      <td>0.0</td>\n",
              "    </tr>\n",
              "    <tr>\n",
              "      <th>4</th>\n",
              "      <td>48945</td>\n",
              "      <td>Technology</td>\n",
              "      <td>region_26</td>\n",
              "      <td>Bachelor's</td>\n",
              "      <td>m</td>\n",
              "      <td>other</td>\n",
              "      <td>1</td>\n",
              "      <td>45</td>\n",
              "      <td>3.0</td>\n",
              "      <td>2</td>\n",
              "      <td>0</td>\n",
              "      <td>0</td>\n",
              "      <td>73</td>\n",
              "      <td>0.0</td>\n",
              "    </tr>\n",
              "  </tbody>\n",
              "</table>\n",
              "</div>"
            ],
            "text/plain": [
              "   employee_id         department  ... avg_training_score is_promoted\n",
              "0        65438  Sales & Marketing  ...                 49         0.0\n",
              "1        65141         Operations  ...                 60         0.0\n",
              "2         7513  Sales & Marketing  ...                 50         0.0\n",
              "3         2542  Sales & Marketing  ...                 50         0.0\n",
              "4        48945         Technology  ...                 73         0.0\n",
              "\n",
              "[5 rows x 14 columns]"
            ]
          },
          "metadata": {
            "tags": []
          },
          "execution_count": 239
        }
      ]
    },
    {
      "cell_type": "code",
      "metadata": {
        "colab": {
          "base_uri": "https://localhost:8080/",
          "height": 204
        },
        "id": "6vENI01CvErx",
        "outputId": "16d9f839-55f9-47f0-cdc2-7322395c48f1"
      },
      "source": [
        "df.tail()"
      ],
      "execution_count": null,
      "outputs": [
        {
          "output_type": "execute_result",
          "data": {
            "text/html": [
              "<div>\n",
              "<style scoped>\n",
              "    .dataframe tbody tr th:only-of-type {\n",
              "        vertical-align: middle;\n",
              "    }\n",
              "\n",
              "    .dataframe tbody tr th {\n",
              "        vertical-align: top;\n",
              "    }\n",
              "\n",
              "    .dataframe thead th {\n",
              "        text-align: right;\n",
              "    }\n",
              "</style>\n",
              "<table border=\"1\" class=\"dataframe\">\n",
              "  <thead>\n",
              "    <tr style=\"text-align: right;\">\n",
              "      <th></th>\n",
              "      <th>employee_id</th>\n",
              "      <th>department</th>\n",
              "      <th>region</th>\n",
              "      <th>education</th>\n",
              "      <th>gender</th>\n",
              "      <th>recruitment_channel</th>\n",
              "      <th>no_of_trainings</th>\n",
              "      <th>age</th>\n",
              "      <th>previous_year_rating</th>\n",
              "      <th>length_of_service</th>\n",
              "      <th>KPIs_met &gt;80%</th>\n",
              "      <th>awards_won?</th>\n",
              "      <th>avg_training_score</th>\n",
              "      <th>is_promoted</th>\n",
              "    </tr>\n",
              "  </thead>\n",
              "  <tbody>\n",
              "    <tr>\n",
              "      <th>23485</th>\n",
              "      <td>53478</td>\n",
              "      <td>Legal</td>\n",
              "      <td>region_2</td>\n",
              "      <td>Below Secondary</td>\n",
              "      <td>m</td>\n",
              "      <td>sourcing</td>\n",
              "      <td>1</td>\n",
              "      <td>24</td>\n",
              "      <td>3.0</td>\n",
              "      <td>1</td>\n",
              "      <td>0</td>\n",
              "      <td>0</td>\n",
              "      <td>61</td>\n",
              "      <td>NaN</td>\n",
              "    </tr>\n",
              "    <tr>\n",
              "      <th>23486</th>\n",
              "      <td>25600</td>\n",
              "      <td>Technology</td>\n",
              "      <td>region_25</td>\n",
              "      <td>Bachelor's</td>\n",
              "      <td>m</td>\n",
              "      <td>sourcing</td>\n",
              "      <td>1</td>\n",
              "      <td>31</td>\n",
              "      <td>3.0</td>\n",
              "      <td>7</td>\n",
              "      <td>0</td>\n",
              "      <td>0</td>\n",
              "      <td>74</td>\n",
              "      <td>NaN</td>\n",
              "    </tr>\n",
              "    <tr>\n",
              "      <th>23487</th>\n",
              "      <td>45409</td>\n",
              "      <td>HR</td>\n",
              "      <td>region_16</td>\n",
              "      <td>Bachelor's</td>\n",
              "      <td>f</td>\n",
              "      <td>sourcing</td>\n",
              "      <td>1</td>\n",
              "      <td>26</td>\n",
              "      <td>4.0</td>\n",
              "      <td>4</td>\n",
              "      <td>0</td>\n",
              "      <td>0</td>\n",
              "      <td>50</td>\n",
              "      <td>NaN</td>\n",
              "    </tr>\n",
              "    <tr>\n",
              "      <th>23488</th>\n",
              "      <td>1186</td>\n",
              "      <td>Procurement</td>\n",
              "      <td>region_31</td>\n",
              "      <td>Bachelor's</td>\n",
              "      <td>m</td>\n",
              "      <td>sourcing</td>\n",
              "      <td>3</td>\n",
              "      <td>27</td>\n",
              "      <td>NaN</td>\n",
              "      <td>1</td>\n",
              "      <td>0</td>\n",
              "      <td>0</td>\n",
              "      <td>70</td>\n",
              "      <td>NaN</td>\n",
              "    </tr>\n",
              "    <tr>\n",
              "      <th>23489</th>\n",
              "      <td>5973</td>\n",
              "      <td>Technology</td>\n",
              "      <td>region_17</td>\n",
              "      <td>Master's &amp; above</td>\n",
              "      <td>m</td>\n",
              "      <td>other</td>\n",
              "      <td>3</td>\n",
              "      <td>40</td>\n",
              "      <td>5.0</td>\n",
              "      <td>5</td>\n",
              "      <td>1</td>\n",
              "      <td>0</td>\n",
              "      <td>89</td>\n",
              "      <td>NaN</td>\n",
              "    </tr>\n",
              "  </tbody>\n",
              "</table>\n",
              "</div>"
            ],
            "text/plain": [
              "       employee_id   department  ... avg_training_score is_promoted\n",
              "23485        53478        Legal  ...                 61         NaN\n",
              "23486        25600   Technology  ...                 74         NaN\n",
              "23487        45409           HR  ...                 50         NaN\n",
              "23488         1186  Procurement  ...                 70         NaN\n",
              "23489         5973   Technology  ...                 89         NaN\n",
              "\n",
              "[5 rows x 14 columns]"
            ]
          },
          "metadata": {
            "tags": []
          },
          "execution_count": 240
        }
      ]
    },
    {
      "cell_type": "code",
      "metadata": {
        "colab": {
          "base_uri": "https://localhost:8080/"
        },
        "id": "qEq4ZVYNxRBT",
        "outputId": "07f8c12f-5538-4396-950a-5fddbfa95908"
      },
      "source": [
        "df[\"education\"].value_counts() # 머신러닝으로 채워넣기(bike 참조)"
      ],
      "execution_count": null,
      "outputs": [
        {
          "output_type": "execute_result",
          "data": {
            "text/plain": [
              "Bachelor's          52247\n",
              "Master's & above    21429\n",
              "Below Secondary      1179\n",
              "Name: education, dtype: int64"
            ]
          },
          "metadata": {
            "tags": []
          },
          "execution_count": 241
        }
      ]
    },
    {
      "cell_type": "code",
      "metadata": {
        "colab": {
          "base_uri": "https://localhost:8080/"
        },
        "id": "32li8p0W1oxY",
        "outputId": "7356e7b2-2abb-4fdd-dcb5-289b46a129e4"
      },
      "source": [
        "df[\"recruitment_channel\"].value_counts() #0~2 범주화 시키기 0:인력소싱업체 1:추천? 2:기타"
      ],
      "execution_count": null,
      "outputs": [
        {
          "output_type": "execute_result",
          "data": {
            "text/plain": [
              "other       43524\n",
              "sourcing    33181\n",
              "referred     1593\n",
              "Name: recruitment_channel, dtype: int64"
            ]
          },
          "metadata": {
            "tags": []
          },
          "execution_count": 242
        }
      ]
    },
    {
      "cell_type": "code",
      "metadata": {
        "colab": {
          "base_uri": "https://localhost:8080/"
        },
        "id": "uzh19KjT17ic",
        "outputId": "323db874-9579-4515-ddde-4ce5956e6f00"
      },
      "source": [
        "df[\"department\"].value_counts() #범주화 시키기 "
      ],
      "execution_count": null,
      "outputs": [
        {
          "output_type": "execute_result",
          "data": {
            "text/plain": [
              "Sales & Marketing    24155\n",
              "Operations           16112\n",
              "Procurement          10158\n",
              "Technology           10149\n",
              "Analytics             7671\n",
              "Finance               3627\n",
              "HR                    3503\n",
              "Legal                 1484\n",
              "R&D                   1439\n",
              "Name: department, dtype: int64"
            ]
          },
          "metadata": {
            "tags": []
          },
          "execution_count": 243
        }
      ]
    },
    {
      "cell_type": "code",
      "metadata": {
        "id": "A2sLYgtF2FuZ"
      },
      "source": [
        "#df[\"region\"].value_counts()  -> 나중에..."
      ],
      "execution_count": null,
      "outputs": []
    },
    {
      "cell_type": "code",
      "metadata": {
        "colab": {
          "base_uri": "https://localhost:8080/"
        },
        "id": "gkSO44A9dqut",
        "outputId": "9d39171a-6eaf-4197-adaa-17a50f509467"
      },
      "source": [
        "df.isnull().sum()"
      ],
      "execution_count": null,
      "outputs": [
        {
          "output_type": "execute_result",
          "data": {
            "text/plain": [
              "employee_id                 0\n",
              "department                  0\n",
              "region                      0\n",
              "education                3443\n",
              "gender                      0\n",
              "recruitment_channel         0\n",
              "no_of_trainings             0\n",
              "age                         0\n",
              "previous_year_rating     5936\n",
              "length_of_service           0\n",
              "KPIs_met >80%               0\n",
              "awards_won?                 0\n",
              "avg_training_score          0\n",
              "is_promoted             23490\n",
              "dtype: int64"
            ]
          },
          "metadata": {
            "tags": []
          },
          "execution_count": 245
        }
      ]
    },
    {
      "cell_type": "code",
      "metadata": {
        "id": "kYM6JKFEriED"
      },
      "source": [
        "# import missingno as msno\r\n",
        "# msno.bar(df)"
      ],
      "execution_count": null,
      "outputs": []
    },
    {
      "cell_type": "code",
      "metadata": {
        "colab": {
          "base_uri": "https://localhost:8080/",
          "height": 297
        },
        "id": "PNvKrAyktrlh",
        "outputId": "37d57eec-5b20-4ffd-e322-f792149ea4c5"
      },
      "source": [
        "df.describe()"
      ],
      "execution_count": null,
      "outputs": [
        {
          "output_type": "execute_result",
          "data": {
            "text/html": [
              "<div>\n",
              "<style scoped>\n",
              "    .dataframe tbody tr th:only-of-type {\n",
              "        vertical-align: middle;\n",
              "    }\n",
              "\n",
              "    .dataframe tbody tr th {\n",
              "        vertical-align: top;\n",
              "    }\n",
              "\n",
              "    .dataframe thead th {\n",
              "        text-align: right;\n",
              "    }\n",
              "</style>\n",
              "<table border=\"1\" class=\"dataframe\">\n",
              "  <thead>\n",
              "    <tr style=\"text-align: right;\">\n",
              "      <th></th>\n",
              "      <th>employee_id</th>\n",
              "      <th>no_of_trainings</th>\n",
              "      <th>age</th>\n",
              "      <th>previous_year_rating</th>\n",
              "      <th>length_of_service</th>\n",
              "      <th>KPIs_met &gt;80%</th>\n",
              "      <th>awards_won?</th>\n",
              "      <th>avg_training_score</th>\n",
              "      <th>is_promoted</th>\n",
              "    </tr>\n",
              "  </thead>\n",
              "  <tbody>\n",
              "    <tr>\n",
              "      <th>count</th>\n",
              "      <td>78298.000000</td>\n",
              "      <td>78298.000000</td>\n",
              "      <td>78298.000000</td>\n",
              "      <td>72362.000000</td>\n",
              "      <td>78298.000000</td>\n",
              "      <td>78298.000000</td>\n",
              "      <td>78298.000000</td>\n",
              "      <td>78298.000000</td>\n",
              "      <td>54808.000000</td>\n",
              "    </tr>\n",
              "    <tr>\n",
              "      <th>mean</th>\n",
              "      <td>39149.500000</td>\n",
              "      <td>1.253378</td>\n",
              "      <td>34.797619</td>\n",
              "      <td>3.332219</td>\n",
              "      <td>5.848974</td>\n",
              "      <td>0.354032</td>\n",
              "      <td>0.023053</td>\n",
              "      <td>63.349664</td>\n",
              "      <td>0.085170</td>\n",
              "    </tr>\n",
              "    <tr>\n",
              "      <th>std</th>\n",
              "      <td>22602.830026</td>\n",
              "      <td>0.606766</td>\n",
              "      <td>7.665928</td>\n",
              "      <td>1.260982</td>\n",
              "      <td>4.248070</td>\n",
              "      <td>0.478222</td>\n",
              "      <td>0.150073</td>\n",
              "      <td>13.383664</td>\n",
              "      <td>0.279137</td>\n",
              "    </tr>\n",
              "    <tr>\n",
              "      <th>min</th>\n",
              "      <td>1.000000</td>\n",
              "      <td>1.000000</td>\n",
              "      <td>20.000000</td>\n",
              "      <td>1.000000</td>\n",
              "      <td>1.000000</td>\n",
              "      <td>0.000000</td>\n",
              "      <td>0.000000</td>\n",
              "      <td>39.000000</td>\n",
              "      <td>0.000000</td>\n",
              "    </tr>\n",
              "    <tr>\n",
              "      <th>25%</th>\n",
              "      <td>19575.250000</td>\n",
              "      <td>1.000000</td>\n",
              "      <td>29.000000</td>\n",
              "      <td>3.000000</td>\n",
              "      <td>3.000000</td>\n",
              "      <td>0.000000</td>\n",
              "      <td>0.000000</td>\n",
              "      <td>51.000000</td>\n",
              "      <td>0.000000</td>\n",
              "    </tr>\n",
              "    <tr>\n",
              "      <th>50%</th>\n",
              "      <td>39149.500000</td>\n",
              "      <td>1.000000</td>\n",
              "      <td>33.000000</td>\n",
              "      <td>3.000000</td>\n",
              "      <td>5.000000</td>\n",
              "      <td>0.000000</td>\n",
              "      <td>0.000000</td>\n",
              "      <td>60.000000</td>\n",
              "      <td>0.000000</td>\n",
              "    </tr>\n",
              "    <tr>\n",
              "      <th>75%</th>\n",
              "      <td>58723.750000</td>\n",
              "      <td>1.000000</td>\n",
              "      <td>39.000000</td>\n",
              "      <td>4.000000</td>\n",
              "      <td>7.000000</td>\n",
              "      <td>1.000000</td>\n",
              "      <td>0.000000</td>\n",
              "      <td>76.000000</td>\n",
              "      <td>0.000000</td>\n",
              "    </tr>\n",
              "    <tr>\n",
              "      <th>max</th>\n",
              "      <td>78298.000000</td>\n",
              "      <td>10.000000</td>\n",
              "      <td>60.000000</td>\n",
              "      <td>5.000000</td>\n",
              "      <td>37.000000</td>\n",
              "      <td>1.000000</td>\n",
              "      <td>1.000000</td>\n",
              "      <td>99.000000</td>\n",
              "      <td>1.000000</td>\n",
              "    </tr>\n",
              "  </tbody>\n",
              "</table>\n",
              "</div>"
            ],
            "text/plain": [
              "        employee_id  no_of_trainings  ...  avg_training_score   is_promoted\n",
              "count  78298.000000     78298.000000  ...        78298.000000  54808.000000\n",
              "mean   39149.500000         1.253378  ...           63.349664      0.085170\n",
              "std    22602.830026         0.606766  ...           13.383664      0.279137\n",
              "min        1.000000         1.000000  ...           39.000000      0.000000\n",
              "25%    19575.250000         1.000000  ...           51.000000      0.000000\n",
              "50%    39149.500000         1.000000  ...           60.000000      0.000000\n",
              "75%    58723.750000         1.000000  ...           76.000000      0.000000\n",
              "max    78298.000000        10.000000  ...           99.000000      1.000000\n",
              "\n",
              "[8 rows x 9 columns]"
            ]
          },
          "metadata": {
            "tags": []
          },
          "execution_count": 247
        }
      ]
    },
    {
      "cell_type": "code",
      "metadata": {
        "id": "RtN3BJ02p3Dg"
      },
      "source": [
        "# sub = pd.read_csv(\"sample_submission.csv\")\r\n",
        "# sub"
      ],
      "execution_count": null,
      "outputs": []
    },
    {
      "cell_type": "code",
      "metadata": {
        "colab": {
          "base_uri": "https://localhost:8080/",
          "height": 284
        },
        "id": "L9mPiM9pvAoA",
        "outputId": "f28664e4-74f8-41b5-e288-027ca554738e"
      },
      "source": [
        "sns.boxplot(data=df)"
      ],
      "execution_count": null,
      "outputs": [
        {
          "output_type": "execute_result",
          "data": {
            "text/plain": [
              "<matplotlib.axes._subplots.AxesSubplot at 0x7fafe86cc630>"
            ]
          },
          "metadata": {
            "tags": []
          },
          "execution_count": 249
        },
        {
          "output_type": "display_data",
          "data": {
            "image/png": "[encoded data removed]",
            "text/plain": [
              "<Figure size 432x288 with 1 Axes>"
            ]
          },
          "metadata": {
            "tags": [],
            "needs_background": "light"
          }
        }
      ]
    },
    {
      "cell_type": "code",
      "metadata": {
        "id": "pKG4yiRF4xt5",
        "colab": {
          "base_uri": "https://localhost:8080/",
          "height": 226
        },
        "outputId": "a06cb6b4-7e24-497a-eccd-ff222b427b48"
      },
      "source": [
        "df.plot(kind='box', subplots=True, figsize=(20, 15), layout=(4,10), sharex=False, sharey=False)\r\n",
        "plt.show()"
      ],
      "execution_count": null,
      "outputs": [
        {
          "output_type": "display_data",
          "data": {
            "image/png": "[encoded data removed]",
            "text/plain": [
              "<Figure size 1440x1080 with 40 Axes>"
            ]
          },
          "metadata": {
            "tags": [],
            "needs_background": "light"
          }
        }
      ]
    },
    {
      "cell_type": "code",
      "metadata": {
        "colab": {
          "base_uri": "https://localhost:8080/"
        },
        "id": "fPcEXz4s8lk4",
        "outputId": "121507ef-b16e-401d-9851-b60c934e24ea"
      },
      "source": [
        "df1 = df.drop(\"employee_id\", axis=1)\r\n",
        "# previous_year_rating: length_of_service가 1인 사람(새로운 직원)인 경우 전년도 평가 지표가 없음\r\n",
        "df1[\"previous_year_rating\"] = df1[\"previous_year_rating\"].fillna(0)\r\n",
        "\r\n",
        "# 나이: 20~60 구간? 5년..? 20~25, 26~30, 31~35, 36~40, 41~50, 50up\r\n",
        "df1[\"age\"].value_counts().sort_index()\r\n",
        "\r\n",
        "def age_drop(age):\r\n",
        "  if   age <= 25: cate = 0\r\n",
        "  elif age <= 30: cate = 1\r\n",
        "  elif age <= 35: cate = 2\r\n",
        "  elif age <= 40: cate = 3\r\n",
        "  elif age <= 50: cate = 4\r\n",
        "  else:           cate = 5\r\n",
        "  return cate\r\n",
        "\r\n",
        "df1[\"age_cate\"] = df1[\"age\"].apply(lambda x: age_drop(x))\r\n",
        "\r\n",
        "df1[\"age_cate\"].value_counts()\r\n",
        "\r\n",
        "# 지역 - region 34개\r\n"
      ],
      "execution_count": null,
      "outputs": [
        {
          "output_type": "execute_result",
          "data": {
            "text/plain": [
              "2    22949\n",
              "1    21608\n",
              "3    14172\n",
              "4    11131\n",
              "0     4338\n",
              "5     4100\n",
              "Name: age_cate, dtype: int64"
            ]
          },
          "metadata": {
            "tags": []
          },
          "execution_count": 251
        }
      ]
    },
    {
      "cell_type": "code",
      "metadata": {
        "colab": {
          "base_uri": "https://localhost:8080/"
        },
        "id": "C1K5ZJqOYquQ",
        "outputId": "4b0026cb-0619-44f9-af4a-be4e94c82727"
      },
      "source": [
        "# length_of_service: 1, 2~4, 5~7, 8~10, 11~20, 21up\r\n",
        "df1[\"length_of_service\"].value_counts().sort_index()\r\n",
        "\r\n",
        "def los_drop(year):\r\n",
        "  if   year ==  1: cate = 0   # 신입\r\n",
        "  elif year <=  4: cate = 1\r\n",
        "  elif year <=  7: cate = 2\r\n",
        "  elif year <= 10: cate = 3\r\n",
        "  elif year <= 20: cate = 4\r\n",
        "  else:            cate = 5   # 20년 넘게 근속\r\n",
        "  return cate\r\n",
        "\r\n",
        "df1[\"workyear\"] = df1[\"length_of_service\"].apply(lambda x: los_drop(x))\r\n",
        "\r\n",
        "df1[\"workyear\"].value_counts()"
      ],
      "execution_count": null,
      "outputs": [
        {
          "output_type": "execute_result",
          "data": {
            "text/plain": [
              "1    29367\n",
              "2    23091\n",
              "3    10979\n",
              "4     7606\n",
              "0     6539\n",
              "5      716\n",
              "Name: workyear, dtype: int64"
            ]
          },
          "metadata": {
            "tags": []
          },
          "execution_count": 252
        }
      ]
    },
    {
      "cell_type": "code",
      "metadata": {
        "id": "Dn4fPh7ZaHW_",
        "colab": {
          "base_uri": "https://localhost:8080/",
          "height": 204
        },
        "outputId": "37c7afe0-14b2-45f9-c115-806e0e7399be"
      },
      "source": [
        "df1[\"gender\"] = df1[\"gender\"].apply(lambda x: 0 if x == \"f\" else 1)\r\n",
        "\r\n",
        "df1[\"edu\"]  = df1[\"education\"].map({\"Below Secondary\": 0, \"Bachelor's\": 1, \"Master's & above\": 2})\r\n",
        "df1[\"ch\"]   = df1[\"recruitment_channel\"].map({\"other\": 0, \"sourcing\": 1, \"referred\": 2})\r\n",
        "\r\n",
        "df1.drop(\"education\", axis=1, inplace=True)\r\n",
        "df1.drop(\"recruitment_channel\", axis=1, inplace=True)\r\n",
        "df1.drop(\"age\", axis=1, inplace=True)\r\n",
        "df1.drop(\"length_of_service\", axis=1, inplace=True)\r\n",
        "\r\n",
        "df1.rename(columns={df1.columns[3]: 'train_no',\r\n",
        "                    df1.columns[4]: 'last_rate',\r\n",
        "                    df1.columns[5]: 'KPI80',\r\n",
        "                    df1.columns[6]: 'awards',\r\n",
        "                    df1.columns[7]: 'avg_score'}, inplace=True)\r\n",
        "\r\n",
        "\r\n",
        "df1.head()"
      ],
      "execution_count": null,
      "outputs": [
        {
          "output_type": "execute_result",
          "data": {
            "text/html": [
              "<div>\n",
              "<style scoped>\n",
              "    .dataframe tbody tr th:only-of-type {\n",
              "        vertical-align: middle;\n",
              "    }\n",
              "\n",
              "    .dataframe tbody tr th {\n",
              "        vertical-align: top;\n",
              "    }\n",
              "\n",
              "    .dataframe thead th {\n",
              "        text-align: right;\n",
              "    }\n",
              "</style>\n",
              "<table border=\"1\" class=\"dataframe\">\n",
              "  <thead>\n",
              "    <tr style=\"text-align: right;\">\n",
              "      <th></th>\n",
              "      <th>department</th>\n",
              "      <th>region</th>\n",
              "      <th>gender</th>\n",
              "      <th>train_no</th>\n",
              "      <th>last_rate</th>\n",
              "      <th>KPI80</th>\n",
              "      <th>awards</th>\n",
              "      <th>avg_score</th>\n",
              "      <th>is_promoted</th>\n",
              "      <th>age_cate</th>\n",
              "      <th>workyear</th>\n",
              "      <th>edu</th>\n",
              "      <th>ch</th>\n",
              "    </tr>\n",
              "  </thead>\n",
              "  <tbody>\n",
              "    <tr>\n",
              "      <th>0</th>\n",
              "      <td>Sales &amp; Marketing</td>\n",
              "      <td>region_7</td>\n",
              "      <td>0</td>\n",
              "      <td>1</td>\n",
              "      <td>5.0</td>\n",
              "      <td>1</td>\n",
              "      <td>0</td>\n",
              "      <td>49</td>\n",
              "      <td>0.0</td>\n",
              "      <td>2</td>\n",
              "      <td>3</td>\n",
              "      <td>2.0</td>\n",
              "      <td>1</td>\n",
              "    </tr>\n",
              "    <tr>\n",
              "      <th>1</th>\n",
              "      <td>Operations</td>\n",
              "      <td>region_22</td>\n",
              "      <td>1</td>\n",
              "      <td>1</td>\n",
              "      <td>5.0</td>\n",
              "      <td>0</td>\n",
              "      <td>0</td>\n",
              "      <td>60</td>\n",
              "      <td>0.0</td>\n",
              "      <td>1</td>\n",
              "      <td>1</td>\n",
              "      <td>1.0</td>\n",
              "      <td>0</td>\n",
              "    </tr>\n",
              "    <tr>\n",
              "      <th>2</th>\n",
              "      <td>Sales &amp; Marketing</td>\n",
              "      <td>region_19</td>\n",
              "      <td>1</td>\n",
              "      <td>1</td>\n",
              "      <td>3.0</td>\n",
              "      <td>0</td>\n",
              "      <td>0</td>\n",
              "      <td>50</td>\n",
              "      <td>0.0</td>\n",
              "      <td>2</td>\n",
              "      <td>2</td>\n",
              "      <td>1.0</td>\n",
              "      <td>1</td>\n",
              "    </tr>\n",
              "    <tr>\n",
              "      <th>3</th>\n",
              "      <td>Sales &amp; Marketing</td>\n",
              "      <td>region_23</td>\n",
              "      <td>1</td>\n",
              "      <td>2</td>\n",
              "      <td>1.0</td>\n",
              "      <td>0</td>\n",
              "      <td>0</td>\n",
              "      <td>50</td>\n",
              "      <td>0.0</td>\n",
              "      <td>3</td>\n",
              "      <td>3</td>\n",
              "      <td>1.0</td>\n",
              "      <td>0</td>\n",
              "    </tr>\n",
              "    <tr>\n",
              "      <th>4</th>\n",
              "      <td>Technology</td>\n",
              "      <td>region_26</td>\n",
              "      <td>1</td>\n",
              "      <td>1</td>\n",
              "      <td>3.0</td>\n",
              "      <td>0</td>\n",
              "      <td>0</td>\n",
              "      <td>73</td>\n",
              "      <td>0.0</td>\n",
              "      <td>4</td>\n",
              "      <td>1</td>\n",
              "      <td>1.0</td>\n",
              "      <td>0</td>\n",
              "    </tr>\n",
              "  </tbody>\n",
              "</table>\n",
              "</div>"
            ],
            "text/plain": [
              "          department     region  gender  train_no  ...  age_cate  workyear  edu  ch\n",
              "0  Sales & Marketing   region_7       0         1  ...         2         3  2.0   1\n",
              "1         Operations  region_22       1         1  ...         1         1  1.0   0\n",
              "2  Sales & Marketing  region_19       1         1  ...         2         2  1.0   1\n",
              "3  Sales & Marketing  region_23       1         2  ...         3         3  1.0   0\n",
              "4         Technology  region_26       1         1  ...         4         1  1.0   0\n",
              "\n",
              "[5 rows x 13 columns]"
            ]
          },
          "metadata": {
            "tags": []
          },
          "execution_count": 253
        }
      ]
    },
    {
      "cell_type": "code",
      "metadata": {
        "colab": {
          "base_uri": "https://localhost:8080/"
        },
        "id": "7jRyp9-BK8d8",
        "outputId": "7aa2cc8f-ff07-4bc1-9d0e-4f92b999d9c6"
      },
      "source": [
        "df1.shape"
      ],
      "execution_count": null,
      "outputs": [
        {
          "output_type": "execute_result",
          "data": {
            "text/plain": [
              "(78298, 13)"
            ]
          },
          "metadata": {
            "tags": []
          },
          "execution_count": 254
        }
      ]
    },
    {
      "cell_type": "code",
      "metadata": {
        "colab": {
          "base_uri": "https://localhost:8080/",
          "height": 111
        },
        "id": "-3EdkLzkLIAm",
        "outputId": "e08bf2ec-e3b7-4b1b-c7a0-def8fa516c1c"
      },
      "source": [
        "X_train = df1.iloc[:54808, :].drop(\"is_promoted\", axis=1)  # 학습용 문제\r\n",
        "y_train = df1.iloc[:54808, :][\"is_promoted\"]               # 학습용 답안\r\n",
        "X_test  = df1.iloc[54808:, :].drop(\"is_promoted\", axis=1)  # 시험용 문제\r\n",
        "# y_test  = None                                     # 제출!\r\n",
        "\r\n",
        "# X_train[:2]\r\n",
        "# y_train[:2]\r\n",
        "X_test[:2]"
      ],
      "execution_count": null,
      "outputs": [
        {
          "output_type": "execute_result",
          "data": {
            "text/html": [
              "<div>\n",
              "<style scoped>\n",
              "    .dataframe tbody tr th:only-of-type {\n",
              "        vertical-align: middle;\n",
              "    }\n",
              "\n",
              "    .dataframe tbody tr th {\n",
              "        vertical-align: top;\n",
              "    }\n",
              "\n",
              "    .dataframe thead th {\n",
              "        text-align: right;\n",
              "    }\n",
              "</style>\n",
              "<table border=\"1\" class=\"dataframe\">\n",
              "  <thead>\n",
              "    <tr style=\"text-align: right;\">\n",
              "      <th></th>\n",
              "      <th>department</th>\n",
              "      <th>region</th>\n",
              "      <th>gender</th>\n",
              "      <th>train_no</th>\n",
              "      <th>last_rate</th>\n",
              "      <th>KPI80</th>\n",
              "      <th>awards</th>\n",
              "      <th>avg_score</th>\n",
              "      <th>age_cate</th>\n",
              "      <th>workyear</th>\n",
              "      <th>edu</th>\n",
              "      <th>ch</th>\n",
              "    </tr>\n",
              "  </thead>\n",
              "  <tbody>\n",
              "    <tr>\n",
              "      <th>0</th>\n",
              "      <td>Technology</td>\n",
              "      <td>region_26</td>\n",
              "      <td>1</td>\n",
              "      <td>1</td>\n",
              "      <td>0.0</td>\n",
              "      <td>1</td>\n",
              "      <td>0</td>\n",
              "      <td>77</td>\n",
              "      <td>0</td>\n",
              "      <td>0</td>\n",
              "      <td>1.0</td>\n",
              "      <td>1</td>\n",
              "    </tr>\n",
              "    <tr>\n",
              "      <th>1</th>\n",
              "      <td>HR</td>\n",
              "      <td>region_4</td>\n",
              "      <td>0</td>\n",
              "      <td>1</td>\n",
              "      <td>3.0</td>\n",
              "      <td>0</td>\n",
              "      <td>0</td>\n",
              "      <td>51</td>\n",
              "      <td>2</td>\n",
              "      <td>2</td>\n",
              "      <td>1.0</td>\n",
              "      <td>0</td>\n",
              "    </tr>\n",
              "  </tbody>\n",
              "</table>\n",
              "</div>"
            ],
            "text/plain": [
              "   department     region  gender  train_no  ...  age_cate  workyear  edu  ch\n",
              "0  Technology  region_26       1         1  ...         0         0  1.0   1\n",
              "1          HR   region_4       0         1  ...         2         2  1.0   0\n",
              "\n",
              "[2 rows x 12 columns]"
            ]
          },
          "metadata": {
            "tags": []
          },
          "execution_count": 255
        }
      ]
    },
    {
      "cell_type": "code",
      "metadata": {
        "id": "UetJGq2ViWvC"
      },
      "source": [
        "# rate_df = pd.DataFrame();\r\n",
        "# rate_df[\"SER0\"] = df[\"department\"][df[\"is_promoted\"]==0].value_counts()\r\n",
        "# rate_df[\"SER1\"] = df[\"department\"][df[\"is_promoted\"]==1].value_counts()\r\n",
        "# rate_df[\"SER0_RATE\"] = rate_df[\"SER0\"]  / (rate_df[\"SER0\"] + rate_df[\"SER1\"])      # df[\"is_promoted\"].count()\r\n",
        "# rate_df[\"SER1_RATE\"] = rate_df[\"SER1\"]  / (rate_df[\"SER0\"] + rate_df[\"SER1\"]) * 100\r\n",
        "# print(rate_df)\r\n",
        "\r\n",
        "def rateCheck(df, col=\"\"):\r\n",
        "  rate_df = pd.DataFrame()\r\n",
        "  rate_df[\"count0\"] = df[col][df[\"is_promoted\"]==0].value_counts()\r\n",
        "  rate_df[\"count1\"] = df[col][df[\"is_promoted\"]==1].value_counts()\r\n",
        "  rate_df[\"rate0\"] = rate_df[\"count0\"]  / (rate_df[\"count0\"] + rate_df[\"count1\"]) * 100     # df[\"is_promoted\"].count()\r\n",
        "  rate_df[\"rate1\"] = rate_df[\"count1\"]  / (rate_df[\"count0\"] + rate_df[\"count1\"]) * 100\r\n",
        "  print(rate_df)\r\n",
        "\r\n",
        "# rateCheck(df1, \"region\")"
      ],
      "execution_count": null,
      "outputs": []
    },
    {
      "cell_type": "code",
      "metadata": {
        "id": "mlNFXcqTX_mL"
      },
      "source": [
        "# Dataframe 확인 ---------------------------------------\r\n",
        "def MyCheckDataframe(df, target=\"target\") :\r\n",
        "    print(\"Check Dataframe ----------------------------\")\r\n",
        "    print(\"Shape :\", e, df.shape)\r\n",
        "    print(\"Info  :\", e, df.info())\r\n",
        "    print(\"Head  :\", e, df.head())\r\n",
        "    print(\"Count :\", e, df[target].value_counts())\r\n",
        "\r\n",
        "    y = df[target]\r\n",
        "    X = df.drop(target, axis=1)\r\n",
        "    print(\"Target Shape :\", e, X.shape, y.shape, barline)\r\n",
        "    return X, y"
      ],
      "execution_count": null,
      "outputs": []
    },
    {
      "cell_type": "code",
      "metadata": {
        "id": "hoKzSPc3bmex"
      },
      "source": [
        "# plt.figure(figsize=(12,8))\r\n",
        "# sns.countplot(df1['region'],hue=df1['is_promoted'],palette='Set1')\r\n",
        "# plt.xticks(rotation=90)\r\n",
        "# plt.show()\r\n",
        "\r\n",
        "# df1[\"region\"]\r\n",
        "# df1[\"is_promoted\"]"
      ],
      "execution_count": null,
      "outputs": []
    },
    {
      "cell_type": "code",
      "metadata": {
        "colab": {
          "base_uri": "https://localhost:8080/",
          "height": 360
        },
        "id": "qYPWd6F_g-7N",
        "outputId": "cb602246-9e17-4d52-f9e5-1091f4d47635"
      },
      "source": [
        "plt.figure(figsize=(8, 4))\r\n",
        "# sns.countplot(df1['gender'], hue=df1['is_promoted'],palette='pastel')\r\n",
        "sns.countplot(df1['department'], hue=df1['is_promoted'],palette='pastel')\r\n",
        "plt.xticks(rotation=90)\r\n",
        "plt.show()"
      ],
      "execution_count": null,
      "outputs": [
        {
          "output_type": "display_data",
          "data": {
            "image/png": "[encoded data removed]",
            "text/plain": [
              "<Figure size 576x288 with 1 Axes>"
            ]
          },
          "metadata": {
            "tags": [],
            "needs_background": "light"
          }
        }
      ]
    },
    {
      "cell_type": "code",
      "metadata": {
        "colab": {
          "base_uri": "https://localhost:8080/"
        },
        "id": "gmTdzH5yEwW8",
        "outputId": "b2329594-ea9c-4c90-d96a-c2c2158a0aba"
      },
      "source": [
        "df1[\"gender\"].value_counts()"
      ],
      "execution_count": null,
      "outputs": [
        {
          "output_type": "execute_result",
          "data": {
            "text/plain": [
              "1    55092\n",
              "0    23206\n",
              "Name: gender, dtype: int64"
            ]
          },
          "metadata": {
            "tags": []
          },
          "execution_count": 260
        }
      ]
    },
    {
      "cell_type": "code",
      "metadata": {
        "colab": {
          "base_uri": "https://localhost:8080/"
        },
        "id": "7YkzMtTpYCwl",
        "outputId": "bb42d47f-9ebc-46f7-85d7-68f123c28645"
      },
      "source": [
        "MyCheckDataframe(df1, \"is_promoted\")"
      ],
      "execution_count": null,
      "outputs": [
        {
          "output_type": "stream",
          "text": [
            "Check Dataframe ----------------------------\n",
            "Shape : \n",
            " (78298, 13)\n",
            "<class 'pandas.core.frame.DataFrame'>\n",
            "Int64Index: 78298 entries, 0 to 23489\n",
            "Data columns (total 13 columns):\n",
            " #   Column       Non-Null Count  Dtype  \n",
            "---  ------       --------------  -----  \n",
            " 0   department   78298 non-null  object \n",
            " 1   region       78298 non-null  object \n",
            " 2   gender       78298 non-null  int64  \n",
            " 3   train_no     78298 non-null  int64  \n",
            " 4   last_rate    78298 non-null  float64\n",
            " 5   KPI80        78298 non-null  int64  \n",
            " 6   awards       78298 non-null  int64  \n",
            " 7   avg_score    78298 non-null  int64  \n",
            " 8   is_promoted  54808 non-null  float64\n",
            " 9   age_cate     78298 non-null  int64  \n",
            " 10  workyear     78298 non-null  int64  \n",
            " 11  edu          74855 non-null  float64\n",
            " 12  ch           78298 non-null  int64  \n",
            "dtypes: float64(3), int64(8), object(2)\n",
            "memory usage: 10.9+ MB\n",
            "Info  : \n",
            " None\n",
            "Head  : \n",
            "           department     region  gender  train_no  ...  age_cate  workyear  edu  ch\n",
            "0  Sales & Marketing   region_7       0         1  ...         2         3  2.0   1\n",
            "1         Operations  region_22       1         1  ...         1         1  1.0   0\n",
            "2  Sales & Marketing  region_19       1         1  ...         2         2  1.0   1\n",
            "3  Sales & Marketing  region_23       1         2  ...         3         3  1.0   0\n",
            "4         Technology  region_26       1         1  ...         4         1  1.0   0\n",
            "\n",
            "[5 rows x 13 columns]\n",
            "Count : \n",
            " 0.0    50140\n",
            "1.0     4668\n",
            "Name: is_promoted, dtype: int64\n",
            "Target Shape : \n",
            " (78298, 12) (78298,) \n",
            "============================================\n"
          ],
          "name": "stdout"
        },
        {
          "output_type": "execute_result",
          "data": {
            "text/plain": [
              "(              department     region  gender  ...  workyear  edu  ch\n",
              " 0      Sales & Marketing   region_7       0  ...         3  2.0   1\n",
              " 1             Operations  region_22       1  ...         1  1.0   0\n",
              " 2      Sales & Marketing  region_19       1  ...         2  1.0   1\n",
              " 3      Sales & Marketing  region_23       1  ...         3  1.0   0\n",
              " 4             Technology  region_26       1  ...         1  1.0   0\n",
              " ...                  ...        ...     ...  ...       ...  ...  ..\n",
              " 23485              Legal   region_2       1  ...         0  0.0   1\n",
              " 23486         Technology  region_25       1  ...         2  1.0   1\n",
              " 23487                 HR  region_16       0  ...         1  1.0   1\n",
              " 23488        Procurement  region_31       1  ...         0  1.0   1\n",
              " 23489         Technology  region_17       1  ...         2  2.0   0\n",
              " \n",
              " [78298 rows x 12 columns], 0        0.0\n",
              " 1        0.0\n",
              " 2        0.0\n",
              " 3        0.0\n",
              " 4        0.0\n",
              "         ... \n",
              " 23485    NaN\n",
              " 23486    NaN\n",
              " 23487    NaN\n",
              " 23488    NaN\n",
              " 23489    NaN\n",
              " Name: is_promoted, Length: 78298, dtype: float64)"
            ]
          },
          "metadata": {
            "tags": []
          },
          "execution_count": 261
        }
      ]
    },
    {
      "cell_type": "code",
      "metadata": {
        "id": "ez-3EarfoVpl"
      },
      "source": [
        ""
      ],
      "execution_count": null,
      "outputs": []
    },
    {
      "cell_type": "code",
      "metadata": {
        "id": "8c-4FePJoEIv",
        "colab": {
          "base_uri": "https://localhost:8080/",
          "height": 556
        },
        "outputId": "981decda-251b-4c33-d442-67c368896322"
      },
      "source": [
        "plt.figure(figsize=(12,8))\r\n",
        "sns.heatmap(df1.corr(), annot=True, fmt=\".2g\", cmap=\"Blues\")"
      ],
      "execution_count": null,
      "outputs": [
        {
          "output_type": "execute_result",
          "data": {
            "text/plain": [
              "<matplotlib.axes._subplots.AxesSubplot at 0x7fafe953bfd0>"
            ]
          },
          "metadata": {
            "tags": []
          },
          "execution_count": 262
        },
        {
          "output_type": "display_data",
          "data": {
            "image/png": "[encoded data removed]",
            "text/plain": [
              "<Figure size 864x576 with 2 Axes>"
            ]
          },
          "metadata": {
            "tags": [],
            "needs_background": "light"
          }
        }
      ]
    },
    {
      "cell_type": "code",
      "metadata": {
        "id": "yYX6HrT-Ow9D"
      },
      "source": [
        "# Dataframe 확인 ---------------------------------------\r\n",
        "def MyCheckDataframe(df, target=\"target\") :\r\n",
        "    print(\"Check Dataframe ----------------------------\")\r\n",
        "    print(\"Shape :\", e, df.shape)\r\n",
        "    print(\"Info  :\", e, df.info())\r\n",
        "    print(\"Head  :\", e, df.head())\r\n",
        "    print(\"Count :\", e, df[target].value_counts())\r\n",
        "\r\n",
        "    y = df[target]\r\n",
        "    X = df.drop(target, axis=1)\r\n",
        "    print(\"Target Shape :\", e, X.shape, y.shape, barline)\r\n",
        "    return X, y"
      ],
      "execution_count": null,
      "outputs": []
    },
    {
      "cell_type": "code",
      "metadata": {
        "id": "7N1Lz0KXPkh7"
      },
      "source": [
        "def MyScores(y_test, pred, proba, str=None) :\r\n",
        "    print(\"Scores : {} ---------\" .format(str))\r\n",
        "    acc       = accuracy_score(y_test, pred)\r\n",
        "    f1        = f1_score(y_test, pred)\r\n",
        "    precision = precision_score(y_test, pred)\r\n",
        "    recall    = recall_score(y_test, pred)\r\n",
        "    auc       = roc_auc_score(y_test, proba[:, 1].reshape(-1, 1))\r\n",
        "    print(\"정확도{:.4f}  F1 {:.4f}=(정밀도{:.4f} 재현률{:.4f}) auc {:.4f}\" .format(acc, f1, precision, recall, auc))\r\n",
        "    cf_matrix = confusion_matrix(y_test, pred)\r\n",
        "    print(\"Confusion Matrix\", e, cf_matrix, barline)"
      ],
      "execution_count": null,
      "outputs": []
    },
    {
      "cell_type": "code",
      "metadata": {
        "id": "Yh1fvv9cHYsp"
      },
      "source": [
        "def MySplitFitPredict(model, X, y, str=None, rate=0.2, prc=False, roc=False) :\r\n",
        "    # X_train ,X_test , y_train, y_test = train_test_split(X, y, test_size=rate, random_state=121)\r\n",
        "    model.fit(X_train, y_train)\r\n",
        "    pred  = model.predict(X_test)\r\n",
        "    proba = model.predict_proba(X_test)\r\n",
        "\r\n",
        "    MyScores(y_test, pred, proba, str)\r\n",
        "\r\n",
        "    if prc == True:\r\n",
        "        MyChartPrcRclCurve(y_test, proba)\r\n",
        "    if roc == True:\r\n",
        "        MyChartRocCurve(y_test, proba)\r\n",
        "    return proba # X_train, X_test, y_train, y_test, proba # , pred, proba"
      ],
      "execution_count": null,
      "outputs": []
    },
    {
      "cell_type": "code",
      "metadata": {
        "id": "ZW8qwVceHc_x",
        "colab": {
          "base_uri": "https://localhost:8080/",
          "height": 190
        },
        "outputId": "08305da9-4733-4a7a-9cc9-2e11d896ac47"
      },
      "source": [
        "rf_model = RandomForestClassifier()\r\n",
        "MySplitFitPredict(rf_model, X, y, \"최초 점수\", )"
      ],
      "execution_count": null,
      "outputs": [
        {
          "output_type": "error",
          "ename": "NameError",
          "evalue": "ignored",
          "traceback": [
            "\u001b[0;31m---------------------------------------------------------------------------\u001b[0m",
            "\u001b[0;31mNameError\u001b[0m                                 Traceback (most recent call last)",
            "\u001b[0;32m<ipython-input-264-88cbf3b80056>\u001b[0m in \u001b[0;36m<module>\u001b[0;34m()\u001b[0m\n\u001b[1;32m      1\u001b[0m \u001b[0mrf_model\u001b[0m \u001b[0;34m=\u001b[0m \u001b[0mRandomForestClassifier\u001b[0m\u001b[0;34m(\u001b[0m\u001b[0;34m)\u001b[0m\u001b[0;34m\u001b[0m\u001b[0;34m\u001b[0m\u001b[0m\n\u001b[0;32m----> 2\u001b[0;31m \u001b[0mMySplitFitPredict\u001b[0m\u001b[0;34m(\u001b[0m\u001b[0mrf_model\u001b[0m\u001b[0;34m,\u001b[0m \u001b[0mX\u001b[0m\u001b[0;34m,\u001b[0m \u001b[0my\u001b[0m\u001b[0;34m,\u001b[0m \u001b[0;34m\"최초 점수\"\u001b[0m\u001b[0;34m,\u001b[0m \u001b[0;34m)\u001b[0m\u001b[0;34m\u001b[0m\u001b[0;34m\u001b[0m\u001b[0m\n\u001b[0m",
            "\u001b[0;31mNameError\u001b[0m: name 'X' is not defined"
          ]
        }
      ]
    },
    {
      "cell_type": "code",
      "metadata": {
        "id": "B4zeoHdMsRvL"
      },
      "source": [
        "# plt.figure(figsize=(12,8))\r\n",
        "# sns.countplot(df1['education'],hue=df1['is_promoted'],palette='Set3')\r\n",
        "# plt.show()"
      ],
      "execution_count": null,
      "outputs": []
    },
    {
      "cell_type": "code",
      "metadata": {
        "id": "VK-4ajDdsfMH"
      },
      "source": [
        "# plt.figure(figsize=(12,8))\r\n",
        "# sns.countplot(df1['recruitment_channel'],hue=df1['is_promoted'],palette='YlOrRd_r')\r\n",
        "# plt.xticks(rotation=90)\r\n",
        "# plt.show()"
      ],
      "execution_count": null,
      "outputs": []
    },
    {
      "cell_type": "code",
      "metadata": {
        "id": "WOFsk8kKsk9A"
      },
      "source": [
        "# plt.figure(figsize=(12,8))\r\n",
        "# sns.countplot(df1['avg_training_score'],hue=df1['is_promoted'],palette='pastel')\r\n",
        "# plt.xticks(rotation=90)\r\n",
        "# plt.show()"
      ],
      "execution_count": null,
      "outputs": []
    },
    {
      "cell_type": "code",
      "metadata": {
        "id": "v58-BSQ6swp7"
      },
      "source": [
        "from sklearn.preprocessing import LabelEncoder\r\n",
        "\r\n",
        "items = df1[\"department\"]\r\n",
        "\r\n",
        "label = LabelEncoder()\r\n",
        "label.fit(items)\r\n",
        "labels = label.transform(items)\r\n",
        "print(labels)\r\n",
        "print('classes:', label.classes_, '\\n')\r\n",
        "#레이블 인코딩은 간단하게 문자열 값을 숫자형 카테고리 값으로 변환한다. 그러나 일괄적인 숫자값으로의 변환이 예측성능을 떨어트리는 원인이 될 수 있다. \r\n",
        "#이는 할당받은 카테고리 별 숫자 값의 크고 작음에 대한 특성이 작용하기 때문이다.\r\n",
        "#레이블 인코딩은 선형회귀와 같은 ML 알고리즘에서는 적용하지 않아야한다.  -> ? ㅜㅜ"
      ],
      "execution_count": null,
      "outputs": []
    }
  ]
}