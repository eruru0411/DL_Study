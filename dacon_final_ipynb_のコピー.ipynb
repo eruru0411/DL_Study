{
  "nbformat": 4,
  "nbformat_minor": 0,
  "metadata": {
    "colab": {
      "name": "dacon_final.ipynb のコピー",
      "provenance": [],
      "collapsed_sections": [
        "eXi26an9v0lG",
        "hrqBy3kX09ab",
        "GdbyIm_eSWBt"
      ],
      "toc_visible": true,
      "include_colab_link": true
    },
    "kernelspec": {
      "name": "python3",
      "display_name": "Python 3"
    }
  },
  "cells": [
    {
      "cell_type": "markdown",
      "metadata": {
        "id": "view-in-github",
        "colab_type": "text"
      },
      "source": [
        "<a href=\"https://colab.research.google.com/github/eruru0411/git-test/blob/master/dacon_final_ipynb_%E3%81%AE%E3%82%B3%E3%83%94%E3%83%BC.ipynb\" target=\"_parent\"><img src=\"https://colab.research.google.com/assets/colab-badge.svg\" alt=\"Open In Colab\"/></a>"
      ]
    },
    {
      "cell_type": "markdown",
      "metadata": {
        "id": "eXi26an9v0lG"
      },
      "source": [
        "## import"
      ]
    },
    {
      "cell_type": "code",
      "metadata": {
        "id": "VXyzxncpp_KU"
      },
      "source": [
        "# 1. EDA  : 데이터 사전 탐색\r\n",
        "#    0) Dataframe 살펴보기\r\n",
        "#    1) 차트그리기\r\n",
        "# 2. 결측치/이상치 --> 처리\r\n",
        "# 3. 피쳐 전처리/가공\r\n",
        "# 4. 학습/평가 : f1, auc\r\n",
        "# 5. 검증(GridSearchCV, confusion_matrix)\r\n",
        "\r\n",
        "from keras.models import Sequential\r\n",
        "from keras.layers import Dense, LSTM, Dropout\r\n",
        "from keras.callbacks import ModelCheckpoint,EarlyStopping\r\n",
        "\r\n",
        "import pandas  as pd\r\n",
        "import numpy   as np\r\n",
        "import seaborn as sns\r\n",
        "import matplotlib.pyplot as plt\r\n",
        "import os\r\n",
        "import tensorflow as tf\r\n",
        "\r\n",
        "from scipy            import stats\r\n",
        "from sklearn.ensemble import RandomForestClassifier\r\n",
        "from sklearn.metrics  import confusion_matrix, accuracy_score, f1_score, roc_auc_score,\\\r\n",
        "                             precision_score, recall_score, roc_curve, classification_report, precision_recall_curve\r\n",
        "from sklearn                 import preprocessing\r\n",
        "from sklearn.preprocessing   import StandardScaler,RobustScaler,MinMaxScaler, Binarizer, OneHotEncoder, LabelEncoder\r\n",
        "from sklearn.model_selection import train_test_split, cross_val_score, cross_validate, GridSearchCV, KFold\r\n",
        "import warnings\r\n",
        "warnings.filterwarnings(action=\"ignore\")\r\n",
        "barline = \"\\n============================================\"\r\n",
        "e = \"\\n\"\r\n",
        "\r\n",
        "# Dataframe 확인 ---------------------------------------\r\n",
        "def MyCheckDataframe(df, target=\"target\") :\r\n",
        "    print(\"Check Dataframe ----------------------------\")\r\n",
        "    print(\"Shape :\", e, df.shape)\r\n",
        "    print(\"Info  :\", e, df.info())\r\n",
        "    print(\"Head  :\", e, df.head())\r\n",
        "    print(\"Count :\", e, df[target].value_counts())\r\n",
        "\r\n",
        "    y = df[target]\r\n",
        "    X = df.drop(target, axis=1)\r\n",
        "    print(\"Target Shape :\", e, X.shape, y.shape, barline)\r\n",
        "    return X, y\r\n",
        "# X,y = CHECK_DATAFRAME(df, target=\"\")\r\n",
        "\r\n",
        "\r\n",
        "# -------------------------------------\r\n",
        "# 4-2. IQR : 25%~75% 범위 값\r\n",
        "# -------------------------------------\r\n",
        "def MyCheckOutlier(df=None, column=None, print=None):\r\n",
        "    # target 값과 상관관계가 높은 열을 우선적으로 진행\r\n",
        "    for k, v in df.items():\r\n",
        "        Q1 = v.quantile(0.25)\r\n",
        "        Q3 = v.quantile(0.75)\r\n",
        "        IQR = Q3 - Q1\r\n",
        "        IQR_weight = IQR * 1.5\r\n",
        "        minimum = Q1 - IQR_weight\r\n",
        "        maximum = Q3 + IQR_weight\r\n",
        "        outlier_idx = v[(v < minimum) | (v> maximum)].index\r\n",
        "\r\n",
        "        if print == True:\r\n",
        "            perc = np.shape(outlier_idx)[0] * 100.0 / np.shape(df)[0]\r\n",
        "            print(\"Column %s outliers = %.2f%%\" % (k, perc))\r\n",
        "\r\n",
        "    print(barline)\r\n",
        "    return outlier_idx\r\n",
        "    # Q1  = np.percentile(df[column].values, 25)\r\n",
        "    # Q3  = np.percentile(df[column].values, 75)\r\n",
        "    # IQR = Q3 - Q1\r\n",
        "    # IQR_weight  = IQR * 1.5\r\n",
        "    # minimum     = Q1 - IQR_weight\r\n",
        "    # maximum     = Q3 + IQR_weight\r\n",
        "    # outlier_idx = df[column][  (df[column] < minimum) | (df[column] > maximum)  ].index\r\n",
        "\r\n",
        "# outlier_idx = CHECK_OUTLIER(df=df, column=col)\r\n",
        "# print(col, oulier_idx)\r\n",
        "# df.drop(outlier_idx, axis=0, inplace=True)\r\n",
        "    #---------------------------------------------\r\n",
        "    # numeric_columns = df.dtypes[df.dtypes != 'object'].index\r\n",
        "    # for i, col in enumerate(numeric_columns) :\r\n",
        "    #     oulier_idx = CHECK_OUTLIER(df=df, column=col)\r\n",
        "    #     print(col , oulier_idx)\r\n",
        "    #     #df.drop(outlier_idx, axis=0, inplace=True)\r\n",
        "\r\n",
        "\r\n",
        "def MyCheckZeros(X):\r\n",
        "    print(\"Check Zeros --------------------------------\")\r\n",
        "    for col in X.columns:\r\n",
        "        gcnt = X[col][X[col] == 0].count()\r\n",
        "        print(col, \":\", gcnt, \"(\", np.round(gcnt / X.shape[0] * 100, 2), \")\")\r\n",
        "    print(barline)\r\n",
        "\r\n",
        "def MyCheckNull(X):\r\n",
        "    print(\"Check Null ---------------------------------\")\r\n",
        "    # print(df.isnull().sum())\r\n",
        "    for col in X.columns:\r\n",
        "        gcnt = X[col][X[col] == np.nan].count()\r\n",
        "        print(col, \":\", gcnt, \"(\", np.round(gcnt / X.shape[0] * 100, 2), \")\")\r\n",
        "    print(barline)\r\n",
        "\r\n",
        "def MyScores(y_test, pred, proba, str=None) :\r\n",
        "    print(\"Scores : {} ---------\" .format(str))\r\n",
        "    acc       = accuracy_score(y_test, pred)\r\n",
        "    f1        = f1_score(y_test, pred, average=\"macro\")\r\n",
        "    precision = precision_score(y_test, pred, average=\"macro\")\r\n",
        "    recall    = recall_score(y_test, pred, average=\"macro\")\r\n",
        "    # auc       = roc_auc_score(y_test, proba[:, 1].reshape(-1, 1), multi_class=\"ovo\")\r\n",
        "    print(\"정확도{:.4f}  F1 {:.4f}=(정밀도{:.4f} 재현률{:.4f}) \" .format(acc, f1, precision, recall))  # auc {:.4f}, auc\r\n",
        "    cf_matrix = confusion_matrix(y_test, pred)\r\n",
        "    print(\"Confusion Matrix\", e, cf_matrix, barline)\r\n",
        "    return cf_matrix\r\n",
        "\r\n",
        "\r\n",
        "def MySplitFitPredict(model, X, y, str=None, rate=0.2, prc=False, roc=False) :\r\n",
        "    X_train ,X_test , y_train, y_test = train_test_split(X, y, test_size=rate, random_state=121)\r\n",
        "    model.fit(X_train, y_train)\r\n",
        "    pred  = model.predict(X_test)\r\n",
        "    proba = model.predict_proba(X_test)\r\n",
        "\r\n",
        "    my_matrix = MyScores(y_test, pred, proba, str)\r\n",
        "\r\n",
        "    if prc == True:\r\n",
        "        MyChartPrcRclCurve(y_test, proba)\r\n",
        "    if roc == True:\r\n",
        "        MyChartRocCurve(y_test, proba)\r\n",
        "    return proba, my_matrix, pred # X_train, X_test, y_train, y_test, proba # , pred, proba\r\n",
        "# rf_model = RandomForestClassifier()\r\n",
        "# SPLIT_FIT_PREDICT(rf_model, X, y, str=\"최초점수\", 0.5)\r\n",
        "# SPLIT_FIT_PREDICT(rf_model, X, y)\r\n",
        "\r\n",
        "\r\n",
        "def MyChartHeatmap(df, targetClass=None, topn=0):\r\n",
        "    plt.figure(figsize=(10,6))\r\n",
        "    if   topn > 0 :\r\n",
        "        idx = df.corr().nlargest(topn, targetClass).index\r\n",
        "        print(\"Correlation: Top\", topn, e, idx, barline)\r\n",
        "        sns.heatmap(df[idx].corr(), annot=True, fmt=\".2g\", cmap=\"Blues\")\r\n",
        "    elif topn < 0 :\r\n",
        "        idx = df.corr().nsmallest(-1 * topn, targetClass).index\r\n",
        "        print(\"Correlation: Bottom\", -topn, e, idx, barline)\r\n",
        "        sns.heatmap(df[idx].corr(), annot=True, fmt=\".2g\", cmap=\"Blues\")\r\n",
        "        # cols = ['V12', 'V14', 'V10', 'V17', 'V3','Class']\r\n",
        "        # sns.heatmap(df[cols].corr(), annot=True, fmt=\".2g\", cmap=\"Blues\")\r\n",
        "    else :\r\n",
        "        sns.heatmap(df.corr(), annot=True, fmt=\".2g\", cmap=\"Blues\")\r\n",
        "    plt.show()\r\n",
        "# CHART_HEATMAP(df, 5)\r\n",
        "# CHART_HEATMAP(df, -5)\r\n",
        "# CHART_HEATMAP(df)\r\n",
        "\r\n",
        "def MyCrossValidate(model, X, y, cv=5) :\r\n",
        "    print(\"Cross Validation ---------------------------\")\r\n",
        "    my_score   = {\"acc\":\"accuracy\", \"f1\":\"f1\"}\r\n",
        "    score_list = cross_validate(model, X, y, scoring=my_score, cv=5, verbose=0)\r\n",
        "    score_df   = pd.DataFrame(score_list)\r\n",
        "    print(\"cross_validation 평균 정확도 : \" , score_df[\"test_acc\"].mean())\r\n",
        "    print(\"cross_validation 평균 f1    : \"    , score_df[\"test_f1\"].mean())\r\n",
        "    print(barline)\r\n",
        "# CROSS_VALIDATION(model, X, y)\r\n",
        "\r\n",
        "my_hyper_param = {  \"n_estimators\"     :[100, 300],\r\n",
        "                    \"max_depth\"        :[4, 5, 6],\r\n",
        "                    \"min_samples_leaf\" :[2, 3, 4],\r\n",
        "                    \"random_state\"     :[121,]    }\r\n",
        "\r\n",
        "def MyGridSearchCV(my_hyper_param, model, X, y) :\r\n",
        "    print(\"GridSerchCV --------------------------------\")\r\n",
        "    X_train, X_test, y_train, y_test = train_test_split(X, y, test_size=0.2, random_state=121)\r\n",
        "    my_score  = {\"acc\": \"accuracy\", \"f1\": \"f1\"}\r\n",
        "    gcv_model = GridSearchCV(model, param_grid=my_hyper_param, scoring=my_score, refit=\"f1\", cv=5, verbose=0)\r\n",
        "    gcv_model.fit(X_train, y_train)\r\n",
        "\r\n",
        "    # print(\"best_estimator:\", gcv_model.best_estimator_)\r\n",
        "    print(\"best_params :\", gcv_model.best_params_)\r\n",
        "    print(\"best_score  :\", gcv_model.best_score_)\r\n",
        "    print(\"GridSearchCV 평균 정확도 : \", gcv_model.cv_results_[\"mean_test_acc\"].mean())  #mean_test_(본인의score키값)\r\n",
        "    print(\"GridSearchCV 평균 F1    : \", gcv_model.cv_results_[\"mean_test_f1\"].mean())\r\n",
        "    print(barline)\r\n",
        "# my_hyper_param = {  \"n_estimators\"     :[100]}\r\n",
        "# GRIDSEARCHCV(my_hyper_param, model, X_train, y_train)\r\n",
        "\r\n",
        "\r\n",
        "def MyGroupFillNa(bycol, cols, tcol):\r\n",
        "    dict = df.groupby(by=[bycol])[cols].mean().astype(np.int32).to_dict()\r\n",
        "    fill_mean_func = lambda gname: gname.fillna(dict[bycol][gname[tcol]])\r\n",
        "    df   = df.groupby(bycol).apply(fill_mean_func)\r\n",
        "    return df\r\n",
        "\r\n",
        "\r\n",
        "def MyReplace(target_df, a, b) :\r\n",
        "    target_df = target_df.replace(a, b)\r\n",
        "    return target_df\r\n",
        "\r\n",
        "\r\n",
        "def MyScaler(X):\r\n",
        "    scaler   = StandardScaler()\r\n",
        "    X_scaler = scaler.fit_transform(X)\r\n",
        "    return X_scaler\r\n",
        "# X_scaler = SCALER(StandardScaler())\r\n",
        "\r\n",
        "def MyChartPrcRclCurve(y_test, proba):\r\n",
        "    precision, recall, th = precision_recall_curve(y_test, proba[:, 1])\r\n",
        "    print(len(precision), len(recall), len(th), barline)\r\n",
        "    plt.plot(th, precision[:len(th)], label=\"precision\")\r\n",
        "    plt.plot(th, recall[:len(th)],    label=\"recall\")\r\n",
        "    plt.xlabel(\"threadshold\"); plt.ylabel(\"precision & recall value\")\r\n",
        "    plt.legend()  # plt.legend([\"precision\",\"recall\"])\r\n",
        "    plt.grid()\r\n",
        "    plt.show()\r\n",
        "\r\n",
        "def MyChartRocCurve(y_test, proba):\r\n",
        "    fpr, tpr, th = roc_curve(y_test, proba[:, 1])\r\n",
        "    plt.plot(fpr, tpr, label='ROC')\r\n",
        "    plt.plot([0, 1], [0, 1], label='th:0.5')\r\n",
        "    # plt.title(auc)\r\n",
        "    plt.xlabel(\"FPR\"); plt.ylabel(\"TPR(recall)\")\r\n",
        "    plt.grid()\r\n",
        "    plt.show()\r\n",
        "\r\n",
        "\r\n",
        "# ------------------------------------------------\r\n",
        "# precision_recall_curve : 임계치 튜닝을 통한 점수 보정\r\n",
        "#-------------------------------------------------\r\n",
        "ths = [.4, .43, .45, .47, .49, .51, .53]\r\n",
        "def MyPrcRclTune(model, X, y, ths=ths):\r\n",
        "    for th in ths:\r\n",
        "        print(\"N : P =\", th, \":\", 1 - th)\r\n",
        "        prob = MySplitFitPredict(model, X, y, prc=True)\r\n",
        "        print(prob[4])\r\n",
        "        bn = Binarizer(threshold=ths)\r\n",
        "        fit_trans = bn.fit_transform(prob[:, 1].reshape(-1, 1))  # 세로로 reshape\r\n",
        "\r\n",
        "        auc = roc_auc_score(y_test, prob[:, 1].reshape(-1, 1))\r\n",
        "        print(auc)\r\n",
        "\r\n",
        "# ------------------------------------------------\r\n",
        "# boxplot : Boston-house-prices 사용\r\n",
        "# distplot: Boston-house-prices 사용\r\n",
        "#-------------------------------------------------\r\n",
        "def MyPlots(data, plot, ncols=7, nrows=2):\r\n",
        "    fig, axs = plt.subplots(ncols=ncols, nrows=nrows, figsize=(10, 10))\r\n",
        "    index = 0\r\n",
        "    axs = axs.flatten()     # 1차원으로 바꿔주기\r\n",
        "    for k, v in data.items():\r\n",
        "        if   plot == 'distplot':\r\n",
        "            sns.distplot(v, ax=axs[index])\r\n",
        "        elif plot == 'boxplot':\r\n",
        "            sns.boxplot(y=k, data=data, ax=axs[index])\r\n",
        "        index += 1\r\n",
        "    plt.tight_layout(pad=0.4, w_pad=0.5, h_pad=5.0)"
      ],
      "execution_count": null,
      "outputs": []
    },
    {
      "cell_type": "code",
      "metadata": {
        "id": "pYNcmf9Rqwev"
      },
      "source": [
        "# df_feature = pd.read_csv(\"train_features.csv\")\r\n",
        "# df_labels  = pd.read_csv(\"train_labels.csv\")"
      ],
      "execution_count": null,
      "outputs": []
    },
    {
      "cell_type": "code",
      "metadata": {
        "id": "Q6LYK031q9ak"
      },
      "source": [
        "# df_feature.info()\r\n",
        "# df_labels.info()"
      ],
      "execution_count": null,
      "outputs": []
    },
    {
      "cell_type": "code",
      "metadata": {
        "id": "uA99su3DrMPa"
      },
      "source": [
        "# df = pd.merge(df_feature, df_labels, on='id', how='outer')\r\n",
        "# df.head(100)"
      ],
      "execution_count": null,
      "outputs": []
    },
    {
      "cell_type": "code",
      "metadata": {
        "id": "BhwCAaEmLXPj"
      },
      "source": [
        "# target_col = [\"label\", \"label_desc\"]\r\n",
        "# X_train = df.drop(target_col, axis=1)\r\n",
        "# y_train = df[\"label\"]\r\n",
        "\r\n",
        "# X_train.info()\r\n",
        "# y_train.head()"
      ],
      "execution_count": null,
      "outputs": []
    },
    {
      "cell_type": "markdown",
      "metadata": {
        "id": "d20bYyhHFUtK"
      },
      "source": [
        "## 1. 데이터 불러오기"
      ]
    },
    {
      "cell_type": "code",
      "metadata": {
        "id": "NHqWkk53I_9u"
      },
      "source": [
        "from google.colab import drive\r\n",
        "drive.mount('/content/drive')"
      ],
      "execution_count": null,
      "outputs": []
    },
    {
      "cell_type": "code",
      "metadata": {
        "id": "j99o09JiJfed"
      },
      "source": [
        "# train       = pd.read_csv('/content/drive/MyDrive/Colab Notebooks/dacon/train_features.csv')\r\n",
        "# train_label = pd.read_csv('/content/drive/MyDrive/Colab Notebooks/dacon/train_labels.csv')\r\n",
        "# test        = pd.read_csv('/content/drive/MyDrive/Colab Notebooks/dacon/test_features.csv')\r\n",
        "# submission  = pd.read_csv('/content/drive/MyDrive/Colab Notebooks/dacon/sample_submission.csv')\r\n",
        "\r\n",
        "train       = pd.read_csv('/content/drive/MyDrive/Colab Notebooks/train_features.csv')\r\n",
        "train_label = pd.read_csv('/content/drive/MyDrive/Colab Notebooks/train_labels.csv')\r\n",
        "test        = pd.read_csv('/content/drive/MyDrive/Colab Notebooks/test_features.csv')\r\n",
        "submission  = pd.read_csv('/content/drive/MyDrive/Colab Notebooks/sample_submission.csv')"
      ],
      "execution_count": null,
      "outputs": []
    },
    {
      "cell_type": "markdown",
      "metadata": {
        "id": "fwHn605j_Qs3"
      },
      "source": [
        "## 2. 데이터 탐색"
      ]
    },
    {
      "cell_type": "code",
      "metadata": {
        "colab": {
          "base_uri": "https://localhost:8080/",
          "height": 136
        },
        "id": "8ZqYTJ1n3ZRF",
        "outputId": "d050efb3-4d0c-4317-8d7f-6a9839cb878f"
      },
      "source": [
        "train.head(3)"
      ],
      "execution_count": null,
      "outputs": [
        {
          "output_type": "execute_result",
          "data": {
            "text/html": [
              "<div>\n",
              "<style scoped>\n",
              "    .dataframe tbody tr th:only-of-type {\n",
              "        vertical-align: middle;\n",
              "    }\n",
              "\n",
              "    .dataframe tbody tr th {\n",
              "        vertical-align: top;\n",
              "    }\n",
              "\n",
              "    .dataframe thead th {\n",
              "        text-align: right;\n",
              "    }\n",
              "</style>\n",
              "<table border=\"1\" class=\"dataframe\">\n",
              "  <thead>\n",
              "    <tr style=\"text-align: right;\">\n",
              "      <th></th>\n",
              "      <th>id</th>\n",
              "      <th>time</th>\n",
              "      <th>acc_x</th>\n",
              "      <th>acc_y</th>\n",
              "      <th>acc_z</th>\n",
              "      <th>gy_x</th>\n",
              "      <th>gy_y</th>\n",
              "      <th>gy_z</th>\n",
              "    </tr>\n",
              "  </thead>\n",
              "  <tbody>\n",
              "    <tr>\n",
              "      <th>0</th>\n",
              "      <td>0</td>\n",
              "      <td>0</td>\n",
              "      <td>1.206087</td>\n",
              "      <td>-0.179371</td>\n",
              "      <td>-0.148447</td>\n",
              "      <td>-0.591608</td>\n",
              "      <td>-30.549010</td>\n",
              "      <td>-31.676112</td>\n",
              "    </tr>\n",
              "    <tr>\n",
              "      <th>1</th>\n",
              "      <td>0</td>\n",
              "      <td>1</td>\n",
              "      <td>1.287696</td>\n",
              "      <td>-0.198974</td>\n",
              "      <td>-0.182444</td>\n",
              "      <td>0.303100</td>\n",
              "      <td>-39.139103</td>\n",
              "      <td>-24.927216</td>\n",
              "    </tr>\n",
              "    <tr>\n",
              "      <th>2</th>\n",
              "      <td>0</td>\n",
              "      <td>2</td>\n",
              "      <td>1.304609</td>\n",
              "      <td>-0.195114</td>\n",
              "      <td>-0.253382</td>\n",
              "      <td>-3.617278</td>\n",
              "      <td>-44.122565</td>\n",
              "      <td>-25.019629</td>\n",
              "    </tr>\n",
              "  </tbody>\n",
              "</table>\n",
              "</div>"
            ],
            "text/plain": [
              "   id  time     acc_x     acc_y     acc_z      gy_x       gy_y       gy_z\n",
              "0   0     0  1.206087 -0.179371 -0.148447 -0.591608 -30.549010 -31.676112\n",
              "1   0     1  1.287696 -0.198974 -0.182444  0.303100 -39.139103 -24.927216\n",
              "2   0     2  1.304609 -0.195114 -0.253382 -3.617278 -44.122565 -25.019629"
            ]
          },
          "metadata": {
            "tags": []
          },
          "execution_count": 143
        }
      ]
    },
    {
      "cell_type": "code",
      "metadata": {
        "colab": {
          "base_uri": "https://localhost:8080/",
          "height": 156
        },
        "id": "JNtFhZ4OKY1h",
        "outputId": "d7029033-79f2-4f59-9923-00fc5a81be03"
      },
      "source": [
        "submission.head(3)"
      ],
      "execution_count": null,
      "outputs": [
        {
          "output_type": "execute_result",
          "data": {
            "text/html": [
              "<div>\n",
              "<style scoped>\n",
              "    .dataframe tbody tr th:only-of-type {\n",
              "        vertical-align: middle;\n",
              "    }\n",
              "\n",
              "    .dataframe tbody tr th {\n",
              "        vertical-align: top;\n",
              "    }\n",
              "\n",
              "    .dataframe thead th {\n",
              "        text-align: right;\n",
              "    }\n",
              "</style>\n",
              "<table border=\"1\" class=\"dataframe\">\n",
              "  <thead>\n",
              "    <tr style=\"text-align: right;\">\n",
              "      <th></th>\n",
              "      <th>id</th>\n",
              "      <th>0</th>\n",
              "      <th>1</th>\n",
              "      <th>2</th>\n",
              "      <th>3</th>\n",
              "      <th>4</th>\n",
              "      <th>5</th>\n",
              "      <th>6</th>\n",
              "      <th>7</th>\n",
              "      <th>8</th>\n",
              "      <th>9</th>\n",
              "      <th>10</th>\n",
              "      <th>11</th>\n",
              "      <th>12</th>\n",
              "      <th>13</th>\n",
              "      <th>14</th>\n",
              "      <th>15</th>\n",
              "      <th>16</th>\n",
              "      <th>17</th>\n",
              "      <th>18</th>\n",
              "      <th>19</th>\n",
              "      <th>20</th>\n",
              "      <th>21</th>\n",
              "      <th>22</th>\n",
              "      <th>23</th>\n",
              "      <th>24</th>\n",
              "      <th>25</th>\n",
              "      <th>26</th>\n",
              "      <th>27</th>\n",
              "      <th>28</th>\n",
              "      <th>29</th>\n",
              "      <th>30</th>\n",
              "      <th>31</th>\n",
              "      <th>32</th>\n",
              "      <th>33</th>\n",
              "      <th>34</th>\n",
              "      <th>35</th>\n",
              "      <th>36</th>\n",
              "      <th>37</th>\n",
              "      <th>38</th>\n",
              "      <th>39</th>\n",
              "      <th>40</th>\n",
              "      <th>41</th>\n",
              "      <th>42</th>\n",
              "      <th>43</th>\n",
              "      <th>44</th>\n",
              "      <th>45</th>\n",
              "      <th>46</th>\n",
              "      <th>47</th>\n",
              "      <th>48</th>\n",
              "      <th>49</th>\n",
              "      <th>50</th>\n",
              "      <th>51</th>\n",
              "      <th>52</th>\n",
              "      <th>53</th>\n",
              "      <th>54</th>\n",
              "      <th>55</th>\n",
              "      <th>56</th>\n",
              "      <th>57</th>\n",
              "      <th>58</th>\n",
              "      <th>59</th>\n",
              "      <th>60</th>\n",
              "    </tr>\n",
              "  </thead>\n",
              "  <tbody>\n",
              "    <tr>\n",
              "      <th>0</th>\n",
              "      <td>3125</td>\n",
              "      <td>0.005975</td>\n",
              "      <td>0.000246</td>\n",
              "      <td>0.003951</td>\n",
              "      <td>0.020458</td>\n",
              "      <td>0.032428</td>\n",
              "      <td>0.026866</td>\n",
              "      <td>0.000581</td>\n",
              "      <td>0.003157</td>\n",
              "      <td>0.003693</td>\n",
              "      <td>0.003123</td>\n",
              "      <td>0.003259</td>\n",
              "      <td>0.005869</td>\n",
              "      <td>0.0</td>\n",
              "      <td>0.003842</td>\n",
              "      <td>0.001434</td>\n",
              "      <td>0.117576</td>\n",
              "      <td>0.000000</td>\n",
              "      <td>0.017363</td>\n",
              "      <td>0.076310</td>\n",
              "      <td>0.021782</td>\n",
              "      <td>0.074295</td>\n",
              "      <td>0.017294</td>\n",
              "      <td>0.013122</td>\n",
              "      <td>0.037269</td>\n",
              "      <td>0.001430</td>\n",
              "      <td>0.012166</td>\n",
              "      <td>0.234541</td>\n",
              "      <td>0.000253</td>\n",
              "      <td>0.0</td>\n",
              "      <td>0.0</td>\n",
              "      <td>0.002406</td>\n",
              "      <td>0.000441</td>\n",
              "      <td>0.025486</td>\n",
              "      <td>0.000000</td>\n",
              "      <td>0.014703</td>\n",
              "      <td>0.067479</td>\n",
              "      <td>0.003015</td>\n",
              "      <td>0.000577</td>\n",
              "      <td>0.000000</td>\n",
              "      <td>0.0</td>\n",
              "      <td>0.005435</td>\n",
              "      <td>0.016993</td>\n",
              "      <td>0.015881</td>\n",
              "      <td>0.008760</td>\n",
              "      <td>0.0</td>\n",
              "      <td>0.0</td>\n",
              "      <td>0.031771</td>\n",
              "      <td>0.000000</td>\n",
              "      <td>0.000517</td>\n",
              "      <td>0.001024</td>\n",
              "      <td>0.016288</td>\n",
              "      <td>0.008414</td>\n",
              "      <td>0.000147</td>\n",
              "      <td>0.014364</td>\n",
              "      <td>0.000000</td>\n",
              "      <td>0.011896</td>\n",
              "      <td>0.004205</td>\n",
              "      <td>0.008375</td>\n",
              "      <td>0.000147</td>\n",
              "      <td>0.003247</td>\n",
              "      <td>0.000147</td>\n",
              "    </tr>\n",
              "    <tr>\n",
              "      <th>1</th>\n",
              "      <td>3126</td>\n",
              "      <td>0.004514</td>\n",
              "      <td>0.000599</td>\n",
              "      <td>0.001420</td>\n",
              "      <td>0.013001</td>\n",
              "      <td>0.046309</td>\n",
              "      <td>0.029713</td>\n",
              "      <td>0.000884</td>\n",
              "      <td>0.002607</td>\n",
              "      <td>0.005710</td>\n",
              "      <td>0.003404</td>\n",
              "      <td>0.003622</td>\n",
              "      <td>0.003408</td>\n",
              "      <td>0.0</td>\n",
              "      <td>0.002532</td>\n",
              "      <td>0.001584</td>\n",
              "      <td>0.109858</td>\n",
              "      <td>0.001634</td>\n",
              "      <td>0.017838</td>\n",
              "      <td>0.106756</td>\n",
              "      <td>0.032033</td>\n",
              "      <td>0.047518</td>\n",
              "      <td>0.009473</td>\n",
              "      <td>0.006535</td>\n",
              "      <td>0.028343</td>\n",
              "      <td>0.000866</td>\n",
              "      <td>0.018064</td>\n",
              "      <td>0.225416</td>\n",
              "      <td>0.000000</td>\n",
              "      <td>0.0</td>\n",
              "      <td>0.0</td>\n",
              "      <td>0.002985</td>\n",
              "      <td>0.000867</td>\n",
              "      <td>0.028805</td>\n",
              "      <td>0.000815</td>\n",
              "      <td>0.012500</td>\n",
              "      <td>0.063494</td>\n",
              "      <td>0.001836</td>\n",
              "      <td>0.000000</td>\n",
              "      <td>0.000476</td>\n",
              "      <td>0.0</td>\n",
              "      <td>0.007764</td>\n",
              "      <td>0.021059</td>\n",
              "      <td>0.009461</td>\n",
              "      <td>0.005774</td>\n",
              "      <td>0.0</td>\n",
              "      <td>0.0</td>\n",
              "      <td>0.047860</td>\n",
              "      <td>0.000127</td>\n",
              "      <td>0.000109</td>\n",
              "      <td>0.001857</td>\n",
              "      <td>0.026805</td>\n",
              "      <td>0.008317</td>\n",
              "      <td>0.000147</td>\n",
              "      <td>0.009505</td>\n",
              "      <td>0.000000</td>\n",
              "      <td>0.008079</td>\n",
              "      <td>0.009576</td>\n",
              "      <td>0.003499</td>\n",
              "      <td>0.000147</td>\n",
              "      <td>0.004109</td>\n",
              "      <td>0.000382</td>\n",
              "    </tr>\n",
              "    <tr>\n",
              "      <th>2</th>\n",
              "      <td>3127</td>\n",
              "      <td>0.004729</td>\n",
              "      <td>0.003889</td>\n",
              "      <td>0.001705</td>\n",
              "      <td>0.018550</td>\n",
              "      <td>0.027087</td>\n",
              "      <td>0.041831</td>\n",
              "      <td>0.000586</td>\n",
              "      <td>0.003810</td>\n",
              "      <td>0.004860</td>\n",
              "      <td>0.000584</td>\n",
              "      <td>0.001154</td>\n",
              "      <td>0.000259</td>\n",
              "      <td>0.0</td>\n",
              "      <td>0.000000</td>\n",
              "      <td>0.001130</td>\n",
              "      <td>0.086866</td>\n",
              "      <td>0.005855</td>\n",
              "      <td>0.031387</td>\n",
              "      <td>0.089982</td>\n",
              "      <td>0.017636</td>\n",
              "      <td>0.048330</td>\n",
              "      <td>0.011505</td>\n",
              "      <td>0.010419</td>\n",
              "      <td>0.027155</td>\n",
              "      <td>0.001149</td>\n",
              "      <td>0.014344</td>\n",
              "      <td>0.245490</td>\n",
              "      <td>0.000000</td>\n",
              "      <td>0.0</td>\n",
              "      <td>0.0</td>\n",
              "      <td>0.000614</td>\n",
              "      <td>0.000000</td>\n",
              "      <td>0.024091</td>\n",
              "      <td>0.005648</td>\n",
              "      <td>0.011445</td>\n",
              "      <td>0.074235</td>\n",
              "      <td>0.003746</td>\n",
              "      <td>0.000880</td>\n",
              "      <td>0.000000</td>\n",
              "      <td>0.0</td>\n",
              "      <td>0.008881</td>\n",
              "      <td>0.027637</td>\n",
              "      <td>0.009766</td>\n",
              "      <td>0.008766</td>\n",
              "      <td>0.0</td>\n",
              "      <td>0.0</td>\n",
              "      <td>0.029613</td>\n",
              "      <td>0.000718</td>\n",
              "      <td>0.000152</td>\n",
              "      <td>0.000355</td>\n",
              "      <td>0.022375</td>\n",
              "      <td>0.007772</td>\n",
              "      <td>0.000000</td>\n",
              "      <td>0.010257</td>\n",
              "      <td>0.000617</td>\n",
              "      <td>0.012648</td>\n",
              "      <td>0.019257</td>\n",
              "      <td>0.008685</td>\n",
              "      <td>0.000000</td>\n",
              "      <td>0.011316</td>\n",
              "      <td>0.000235</td>\n",
              "    </tr>\n",
              "  </tbody>\n",
              "</table>\n",
              "</div>"
            ],
            "text/plain": [
              "     id         0         1         2  ...        57        58        59        60\n",
              "0  3125  0.005975  0.000246  0.003951  ...  0.008375  0.000147  0.003247  0.000147\n",
              "1  3126  0.004514  0.000599  0.001420  ...  0.003499  0.000147  0.004109  0.000382\n",
              "2  3127  0.004729  0.003889  0.001705  ...  0.008685  0.000000  0.011316  0.000235\n",
              "\n",
              "[3 rows x 62 columns]"
            ]
          },
          "metadata": {
            "tags": []
          },
          "execution_count": 142
        }
      ]
    },
    {
      "cell_type": "markdown",
      "metadata": {
        "id": "Qdob8Mlo_gKV"
      },
      "source": [
        "## 3. 데이터 전처리"
      ]
    },
    {
      "cell_type": "code",
      "metadata": {
        "id": "lvebrVkd_emF"
      },
      "source": [
        "features = ['id', 'acc_x', 'acc_y', 'acc_z', 'gy_x', 'gy_y', 'gy_z']\r\n",
        "X_train = train[features].groupby('id').agg(['max', 'min']) #, 'median', 'std'])\r\n",
        "X_test  = test[features].groupby('id').agg(['max', 'min' ]) #, 'median', 'std'])"
      ],
      "execution_count": null,
      "outputs": []
    },
    {
      "cell_type": "code",
      "metadata": {
        "id": "oy7cERd0_kKl",
        "colab": {
          "base_uri": "https://localhost:8080/"
        },
        "outputId": "59b4af70-971b-4ce6-8be1-1dc508fcb715"
      },
      "source": [
        "X_train.shape, X_test.shape"
      ],
      "execution_count": null,
      "outputs": [
        {
          "output_type": "execute_result",
          "data": {
            "text/plain": [
              "((3125, 24), (782, 24))"
            ]
          },
          "metadata": {
            "tags": []
          },
          "execution_count": 10
        }
      ]
    },
    {
      "cell_type": "code",
      "metadata": {
        "id": "UPCU6bsB_nyF"
      },
      "source": [
        "y_train = train_label['label']"
      ],
      "execution_count": null,
      "outputs": []
    },
    {
      "cell_type": "code",
      "metadata": {
        "colab": {
          "base_uri": "https://localhost:8080/"
        },
        "id": "kEM3UTYoJA4c",
        "outputId": "6cf7104a-2cf9-4e2e-fc6b-bbeec69f3507"
      },
      "source": [
        "y_train.head(3)"
      ],
      "execution_count": null,
      "outputs": [
        {
          "output_type": "execute_result",
          "data": {
            "text/plain": [
              "0    37\n",
              "1    26\n",
              "2     3\n",
              "Name: label, dtype: int64"
            ]
          },
          "metadata": {
            "tags": []
          },
          "execution_count": 43
        }
      ]
    },
    {
      "cell_type": "code",
      "metadata": {
        "id": "EHgo6jI22WA_"
      },
      "source": [
        "#컬럼명 변경\r\n",
        "p_columns = [agg + '_' + column for agg, column in X_train.columns]\r\n",
        "X_train.columns = p_columns\r\n",
        "X_test.columns = p_columns"
      ],
      "execution_count": null,
      "outputs": []
    },
    {
      "cell_type": "code",
      "metadata": {
        "id": "pbBK9OEw2ys_",
        "colab": {
          "base_uri": "https://localhost:8080/",
          "height": 166
        },
        "outputId": "ce584eb0-c959-483f-cdbc-870141d9ef52"
      },
      "source": [
        "X_train.head(3)"
      ],
      "execution_count": null,
      "outputs": [
        {
          "output_type": "execute_result",
          "data": {
            "text/html": [
              "<div>\n",
              "<style scoped>\n",
              "    .dataframe tbody tr th:only-of-type {\n",
              "        vertical-align: middle;\n",
              "    }\n",
              "\n",
              "    .dataframe tbody tr th {\n",
              "        vertical-align: top;\n",
              "    }\n",
              "\n",
              "    .dataframe thead th {\n",
              "        text-align: right;\n",
              "    }\n",
              "</style>\n",
              "<table border=\"1\" class=\"dataframe\">\n",
              "  <thead>\n",
              "    <tr style=\"text-align: right;\">\n",
              "      <th></th>\n",
              "      <th>acc_x_max</th>\n",
              "      <th>acc_x_min</th>\n",
              "      <th>acc_y_max</th>\n",
              "      <th>acc_y_min</th>\n",
              "      <th>acc_z_max</th>\n",
              "      <th>acc_z_min</th>\n",
              "      <th>gy_x_max</th>\n",
              "      <th>gy_x_min</th>\n",
              "      <th>gy_y_max</th>\n",
              "      <th>gy_y_min</th>\n",
              "      <th>gy_z_max</th>\n",
              "      <th>gy_z_min</th>\n",
              "    </tr>\n",
              "    <tr>\n",
              "      <th>id</th>\n",
              "      <th></th>\n",
              "      <th></th>\n",
              "      <th></th>\n",
              "      <th></th>\n",
              "      <th></th>\n",
              "      <th></th>\n",
              "      <th></th>\n",
              "      <th></th>\n",
              "      <th></th>\n",
              "      <th></th>\n",
              "      <th></th>\n",
              "      <th></th>\n",
              "    </tr>\n",
              "  </thead>\n",
              "  <tbody>\n",
              "    <tr>\n",
              "      <th>0</th>\n",
              "      <td>1.344268</td>\n",
              "      <td>0.591940</td>\n",
              "      <td>0.176871</td>\n",
              "      <td>-0.624113</td>\n",
              "      <td>-0.054876</td>\n",
              "      <td>-0.786336</td>\n",
              "      <td>31.644123</td>\n",
              "      <td>-46.254836</td>\n",
              "      <td>69.847244</td>\n",
              "      <td>-85.887677</td>\n",
              "      <td>55.953827</td>\n",
              "      <td>-79.930029</td>\n",
              "    </tr>\n",
              "    <tr>\n",
              "      <th>1</th>\n",
              "      <td>1.234020</td>\n",
              "      <td>-2.156208</td>\n",
              "      <td>0.700065</td>\n",
              "      <td>-1.295598</td>\n",
              "      <td>0.888661</td>\n",
              "      <td>-1.019531</td>\n",
              "      <td>286.624363</td>\n",
              "      <td>-325.328531</td>\n",
              "      <td>389.608060</td>\n",
              "      <td>-315.096003</td>\n",
              "      <td>340.170199</td>\n",
              "      <td>-270.980823</td>\n",
              "    </tr>\n",
              "    <tr>\n",
              "      <th>2</th>\n",
              "      <td>1.219836</td>\n",
              "      <td>-1.142847</td>\n",
              "      <td>0.650645</td>\n",
              "      <td>-0.690990</td>\n",
              "      <td>1.332992</td>\n",
              "      <td>0.073846</td>\n",
              "      <td>73.525082</td>\n",
              "      <td>-164.779067</td>\n",
              "      <td>297.320834</td>\n",
              "      <td>-249.953944</td>\n",
              "      <td>55.642836</td>\n",
              "      <td>-44.192071</td>\n",
              "    </tr>\n",
              "  </tbody>\n",
              "</table>\n",
              "</div>"
            ],
            "text/plain": [
              "    acc_x_max  acc_x_min  acc_y_max  ...    gy_y_min    gy_z_max    gy_z_min\n",
              "id                                   ...                                    \n",
              "0    1.344268   0.591940   0.176871  ...  -85.887677   55.953827  -79.930029\n",
              "1    1.234020  -2.156208   0.700065  ... -315.096003  340.170199 -270.980823\n",
              "2    1.219836  -1.142847   0.650645  ... -249.953944   55.642836  -44.192071\n",
              "\n",
              "[3 rows x 12 columns]"
            ]
          },
          "metadata": {
            "tags": []
          },
          "execution_count": 11
        }
      ]
    },
    {
      "cell_type": "code",
      "metadata": {
        "colab": {
          "base_uri": "https://localhost:8080/",
          "height": 166
        },
        "id": "ojXnGixYEIZv",
        "outputId": "90cba6da-3405-40d8-c171-8811841a8adb"
      },
      "source": [
        "X_test.head(3)"
      ],
      "execution_count": null,
      "outputs": [
        {
          "output_type": "execute_result",
          "data": {
            "text/html": [
              "<div>\n",
              "<style scoped>\n",
              "    .dataframe tbody tr th:only-of-type {\n",
              "        vertical-align: middle;\n",
              "    }\n",
              "\n",
              "    .dataframe tbody tr th {\n",
              "        vertical-align: top;\n",
              "    }\n",
              "\n",
              "    .dataframe thead th {\n",
              "        text-align: right;\n",
              "    }\n",
              "</style>\n",
              "<table border=\"1\" class=\"dataframe\">\n",
              "  <thead>\n",
              "    <tr style=\"text-align: right;\">\n",
              "      <th></th>\n",
              "      <th>acc_x_max</th>\n",
              "      <th>acc_x_min</th>\n",
              "      <th>acc_y_max</th>\n",
              "      <th>acc_y_min</th>\n",
              "      <th>acc_z_max</th>\n",
              "      <th>acc_z_min</th>\n",
              "      <th>gy_x_max</th>\n",
              "      <th>gy_x_min</th>\n",
              "      <th>gy_y_max</th>\n",
              "      <th>gy_y_min</th>\n",
              "      <th>gy_z_max</th>\n",
              "      <th>gy_z_min</th>\n",
              "    </tr>\n",
              "    <tr>\n",
              "      <th>id</th>\n",
              "      <th></th>\n",
              "      <th></th>\n",
              "      <th></th>\n",
              "      <th></th>\n",
              "      <th></th>\n",
              "      <th></th>\n",
              "      <th></th>\n",
              "      <th></th>\n",
              "      <th></th>\n",
              "      <th></th>\n",
              "      <th></th>\n",
              "      <th></th>\n",
              "    </tr>\n",
              "  </thead>\n",
              "  <tbody>\n",
              "    <tr>\n",
              "      <th>3125</th>\n",
              "      <td>-0.275446</td>\n",
              "      <td>-1.564000</td>\n",
              "      <td>0.228040</td>\n",
              "      <td>-0.470937</td>\n",
              "      <td>0.286182</td>\n",
              "      <td>-0.573836</td>\n",
              "      <td>56.953059</td>\n",
              "      <td>-50.429364</td>\n",
              "      <td>96.185341</td>\n",
              "      <td>-81.607713</td>\n",
              "      <td>49.981455</td>\n",
              "      <td>-35.446915</td>\n",
              "    </tr>\n",
              "    <tr>\n",
              "      <th>3126</th>\n",
              "      <td>0.627571</td>\n",
              "      <td>-1.929033</td>\n",
              "      <td>1.708743</td>\n",
              "      <td>-0.200678</td>\n",
              "      <td>0.671876</td>\n",
              "      <td>-1.212052</td>\n",
              "      <td>132.830402</td>\n",
              "      <td>-273.572486</td>\n",
              "      <td>241.240196</td>\n",
              "      <td>-97.100707</td>\n",
              "      <td>169.417650</td>\n",
              "      <td>-147.597574</td>\n",
              "    </tr>\n",
              "    <tr>\n",
              "      <th>3127</th>\n",
              "      <td>2.972063</td>\n",
              "      <td>-0.792916</td>\n",
              "      <td>1.941820</td>\n",
              "      <td>0.219008</td>\n",
              "      <td>0.644154</td>\n",
              "      <td>-0.484614</td>\n",
              "      <td>160.426058</td>\n",
              "      <td>-99.799971</td>\n",
              "      <td>74.530763</td>\n",
              "      <td>-98.420987</td>\n",
              "      <td>97.211730</td>\n",
              "      <td>-154.477074</td>\n",
              "    </tr>\n",
              "  </tbody>\n",
              "</table>\n",
              "</div>"
            ],
            "text/plain": [
              "      acc_x_max  acc_x_min  acc_y_max  ...   gy_y_min    gy_z_max    gy_z_min\n",
              "id                                     ...                                   \n",
              "3125  -0.275446  -1.564000   0.228040  ... -81.607713   49.981455  -35.446915\n",
              "3126   0.627571  -1.929033   1.708743  ... -97.100707  169.417650 -147.597574\n",
              "3127   2.972063  -0.792916   1.941820  ... -98.420987   97.211730 -154.477074\n",
              "\n",
              "[3 rows x 12 columns]"
            ]
          },
          "metadata": {
            "tags": []
          },
          "execution_count": 12
        }
      ]
    },
    {
      "cell_type": "markdown",
      "metadata": {
        "id": "hrqBy3kX09ab"
      },
      "source": [
        "### plot 보기 - 시간별 동작 그래프"
      ]
    },
    {
      "cell_type": "code",
      "metadata": {
        "id": "HG_cBNS8p089"
      },
      "source": [
        "def plot_acc_id(df, id_num):\r\n",
        "    return df.query('id == @id_num')[['time', 'acc_x', 'acc_y', 'acc_z']].plot(x = 'time')\r\n",
        "\r\n",
        "def plot_gy_id(df, id_num):\r\n",
        "    return df.query('id == @id_num')[['time', 'gy_x', 'gy_y', 'gy_z']].plot(x = 'time')\r\n",
        "\r\n",
        "# plot_acc_id(train, 0)\r\n",
        "# plt.ylim((-1.5, 1.5))\r\n",
        "# plot_gy_id(train, 0)\r\n",
        "# plt.ylim((-100, 100))\r\n",
        "\r\n",
        "# plot_acc_id(train, 3)\r\n",
        "# plt.ylim((-1.5, 1.5))\r\n",
        "# plot_gy_id(train, 3)\r\n",
        "# plt.ylim((-200, 200))"
      ],
      "execution_count": null,
      "outputs": []
    },
    {
      "cell_type": "markdown",
      "metadata": {
        "id": "FamSvg8U_djW"
      },
      "source": [
        "쉴 때는 움직임이 dynamic하지 않음\r\n",
        "운동과 쉴 때 측정된 값 높낮이가 다를 것이며, 운동 끼리도 높낮이가 다를 것으로 추정"
      ]
    },
    {
      "cell_type": "markdown",
      "metadata": {
        "id": "LLTskGl0_ovv"
      },
      "source": [
        "## 4. 모델링"
      ]
    },
    {
      "cell_type": "markdown",
      "metadata": {
        "id": "t6OoCZ5972A0"
      },
      "source": [
        "### RandomForest"
      ]
    },
    {
      "cell_type": "code",
      "metadata": {
        "id": "XI8OjieJ_qzI",
        "colab": {
          "base_uri": "https://localhost:8080/"
        },
        "outputId": "58bcc1da-c138-40cc-be1f-e1cfbb3124dd"
      },
      "source": [
        "from sklearn.ensemble import RandomForestClassifier\r\n",
        "\r\n",
        "rf_model = RandomForestClassifier(random_state=121, min_samples_leaf=30)\r\n",
        "\r\n",
        "rf_prob = MySplitFitPredict(rf_model, X_train, y_train)"
      ],
      "execution_count": null,
      "outputs": [
        {
          "output_type": "stream",
          "text": [
            "Scores : None ---------\n",
            "정확도0.5760  F1 0.1361=(정밀도0.1556 재현률0.1470) \n",
            "Confusion Matrix \n",
            " [[0 0 0 ... 0 0 0]\n",
            " [0 0 0 ... 0 0 0]\n",
            " [0 0 0 ... 0 0 0]\n",
            " ...\n",
            " [0 0 0 ... 0 0 0]\n",
            " [0 0 0 ... 0 0 0]\n",
            " [0 0 0 ... 0 0 0]] \n",
            "============================================\n"
          ],
          "name": "stdout"
        }
      ]
    },
    {
      "cell_type": "code",
      "metadata": {
        "colab": {
          "base_uri": "https://localhost:8080/"
        },
        "id": "pQZiyQ5kLGVC",
        "outputId": "faf92f6a-ca68-464d-c281-ef50c8ac2d9e"
      },
      "source": [
        "rf_prob[0].shape"
      ],
      "execution_count": null,
      "outputs": [
        {
          "output_type": "execute_result",
          "data": {
            "text/plain": [
              "(625, 61)"
            ]
          },
          "metadata": {
            "tags": []
          },
          "execution_count": 54
        }
      ]
    },
    {
      "cell_type": "code",
      "metadata": {
        "id": "qWOJrCd1EC2_"
      },
      "source": [
        "rf_hyper_param = {  \"n_estimators\"     :[100, 300],\r\n",
        "                    \"max_depth\"        :[4, 5, 6],\r\n",
        "                    \"min_samples_leaf\" :[2, 3, 4],\r\n",
        "                    \"random_state\"     :[121,]    }"
      ],
      "execution_count": null,
      "outputs": []
    },
    {
      "cell_type": "markdown",
      "metadata": {
        "id": "BPLEfnGX-ZFQ"
      },
      "source": [
        "### XGBoost"
      ]
    },
    {
      "cell_type": "code",
      "metadata": {
        "id": "AF7vlNWoEE5s"
      },
      "source": [
        "# GridSearchCV\r\n",
        "xg_param_grid={'booster'  :['gbtree'],\r\n",
        "            'silent'   :[True],\r\n",
        "            'max_depth':[3, 5, 7],\r\n",
        "            'min_child_weight':[1, 3, 5],\r\n",
        "            'gamma'    :[0, 1, 2, 3],\r\n",
        "            'nthread'  :[4],\r\n",
        "            'objective':['multi:softmax'],\r\n",
        "            'eval_metric'      :['logloss'],\r\n",
        "            'colsample_bytree' :[0.5, 0.8],\r\n",
        "            'colsample_bylevel':[0.9],\r\n",
        "            'n_estimators'     :[50],\r\n",
        "            'random_state'     :[2]}       # , scale_pos_weight: []\r\n",
        "\r\n",
        "# XGBoost\r\n",
        "xg_params = {\r\n",
        "    'booster': 'gbtree',\r\n",
        "    'objective': 'multi:softmax',\r\n",
        "    'eval_metric': 'logloss',\r\n",
        "    'eta' : 0.02,\r\n",
        "    'lambda': 2.0,\r\n",
        "    'alpha': 1.0,\r\n",
        "    'lambda_bias': 6.0,\r\n",
        "    'num_class': 190625 ,   # 3125 * 61\r\n",
        "    'n_jobs' : 4,\r\n",
        "    'silent': 1,\r\n",
        "}"
      ],
      "execution_count": null,
      "outputs": []
    },
    {
      "cell_type": "code",
      "metadata": {
        "id": "JNPevrLtMohx"
      },
      "source": [
        "import xgboost as xgb\r\n",
        "from xgboost import XGBClassifier, plot_importance\r\n",
        "\r\n",
        "# xg_df = pd.DataFrame()\r\n",
        "# # xg_df[\"train\"] = X_train.values\r\n",
        "\r\n",
        "# xg_train = xgb.DMatrix(X_train.values, label = y_train.values)\r\n",
        "# xg_test  = xgb.DMatrix(X_test.values)\r\n",
        "\r\n",
        "# wlist = [(xg_train, 'XDtrain'), (xg_test, 'XGeval')]\r\n",
        "# xgb_model = xgb.train(params = xg_params, dtrain = xg_train, num_boost_round = 400, evals = wlist)"
      ],
      "execution_count": null,
      "outputs": []
    },
    {
      "cell_type": "code",
      "metadata": {
        "id": "jktp2r-y71Y8",
        "colab": {
          "base_uri": "https://localhost:8080/"
        },
        "outputId": "c9b761b4-d617-4afc-e339-9983ae148e48"
      },
      "source": [
        "xg_model = XGBClassifier()\r\n",
        "\r\n",
        "# plot_importance(xg_model)\r\n",
        "# plt.show()\r\n",
        "\r\n",
        "xg_prob = MySplitFitPredict(xg_model, X_train, y_train)"
      ],
      "execution_count": null,
      "outputs": [
        {
          "output_type": "stream",
          "text": [
            "Scores : None ---------\n",
            "정확도0.6928  F1 0.4258=(정밀도0.5053 재현률0.4127) \n",
            "Confusion Matrix \n",
            " [[1 0 0 ... 0 0 0]\n",
            " [0 2 0 ... 0 0 0]\n",
            " [0 0 1 ... 0 0 0]\n",
            " ...\n",
            " [0 0 0 ... 1 0 0]\n",
            " [0 0 0 ... 0 1 0]\n",
            " [0 1 0 ... 0 0 5]] \n",
            "============================================\n"
          ],
          "name": "stdout"
        }
      ]
    },
    {
      "cell_type": "code",
      "metadata": {
        "colab": {
          "base_uri": "https://localhost:8080/"
        },
        "id": "X-K_6jF9K8wc",
        "outputId": "f4461f34-223d-4e72-c22a-11471678de3c"
      },
      "source": [
        "xg_prob[0].shape"
      ],
      "execution_count": null,
      "outputs": [
        {
          "output_type": "execute_result",
          "data": {
            "text/plain": [
              "(625, 61)"
            ]
          },
          "metadata": {
            "tags": []
          },
          "execution_count": 58
        }
      ]
    },
    {
      "cell_type": "markdown",
      "metadata": {
        "id": "QgDC-Y4CEOl8"
      },
      "source": [
        "### Scaler\r\n",
        "- XGBoost랑 같이 써도 변화 X"
      ]
    },
    {
      "cell_type": "code",
      "metadata": {
        "id": "Ip3Vo_igGufe"
      },
      "source": [
        "# X_train Scale: 합친 거\r\n",
        "scaler   = RobustScaler()\r\n",
        "\r\n",
        "X_scaler = scaler.fit_transform(X_train)\r\n",
        "\r\n",
        "# X_train_col = ['acc_x_max', 'acc_x_min', 'acc_x_median', 'acc_x_std', 'acc_y_max', 'acc_y_min', 'acc_y_median', 'acc_y_std', 'acc_z_max', 'acc_z_min', 'acc_z_median', 'acc_z_std', 'gy_x_max', 'gy_x_min', 'gy_x_median', 'gy_x_std', 'gy_y_max', 'gy_y_min', 'gy_y_median', 'gy_y_std', 'gy_z_max', 'gy_z_min', 'gy_z_median', 'gy_z_std']\r\n",
        "X_train_col = ['acc_x_max', 'acc_x_min', 'acc_y_max', 'acc_y_min', 'acc_z_max', 'acc_z_min', 'gy_x_max', 'gy_x_min', 'gy_y_max', 'gy_y_min', 'gy_z_max', 'gy_z_min']\r\n",
        "X_scale_df  = pd.DataFrame(X_scaler, columns = X_train_col)"
      ],
      "execution_count": null,
      "outputs": []
    },
    {
      "cell_type": "code",
      "metadata": {
        "colab": {
          "base_uri": "https://localhost:8080/"
        },
        "id": "hGxAnNKKRov6",
        "outputId": "fbf2a69b-0db0-4113-f677-872604848984"
      },
      "source": [
        "scale_idx = pd.DataFrame(np.arange(0, 3125, 1).reshape(-1, 1))\r\n",
        "scale_idx.columns = ['id']\r\n",
        "scale_idx.info()\r\n",
        "print(X_scale_df.shape)"
      ],
      "execution_count": null,
      "outputs": [
        {
          "output_type": "stream",
          "text": [
            "<class 'pandas.core.frame.DataFrame'>\n",
            "RangeIndex: 3125 entries, 0 to 3124\n",
            "Data columns (total 1 columns):\n",
            " #   Column  Non-Null Count  Dtype\n",
            "---  ------  --------------  -----\n",
            " 0   id      3125 non-null   int64\n",
            "dtypes: int64(1)\n",
            "memory usage: 24.5 KB\n",
            "(3125, 12)\n"
          ],
          "name": "stdout"
        }
      ]
    },
    {
      "cell_type": "code",
      "metadata": {
        "colab": {
          "base_uri": "https://localhost:8080/",
          "height": 500
        },
        "id": "RddsUMcrXTAy",
        "outputId": "8f38e9fa-ac37-4c31-c90d-b195cb90b225"
      },
      "source": [
        "# X_scale_df = pd.concat([X_scale_df,scale_idx], axis=1)\r\n",
        "# X_scale_df.set_index('id', inplace=True)\r\n",
        "# X_scale_df.info()\r\n",
        "X_scale_df.head(3)"
      ],
      "execution_count": null,
      "outputs": [
        {
          "output_type": "stream",
          "text": [
            "<class 'pandas.core.frame.DataFrame'>\n",
            "Int64Index: 3125 entries, 0 to 3124\n",
            "Data columns (total 12 columns):\n",
            " #   Column     Non-Null Count  Dtype  \n",
            "---  ------     --------------  -----  \n",
            " 0   acc_x_max  3125 non-null   float64\n",
            " 1   acc_x_min  3125 non-null   float64\n",
            " 2   acc_y_max  3125 non-null   float64\n",
            " 3   acc_y_min  3125 non-null   float64\n",
            " 4   acc_z_max  3125 non-null   float64\n",
            " 5   acc_z_min  3125 non-null   float64\n",
            " 6   gy_x_max   3125 non-null   float64\n",
            " 7   gy_x_min   3125 non-null   float64\n",
            " 8   gy_y_max   3125 non-null   float64\n",
            " 9   gy_y_min   3125 non-null   float64\n",
            " 10  gy_z_max   3125 non-null   float64\n",
            " 11  gy_z_min   3125 non-null   float64\n",
            "dtypes: float64(12)\n",
            "memory usage: 317.4 KB\n"
          ],
          "name": "stdout"
        },
        {
          "output_type": "execute_result",
          "data": {
            "text/html": [
              "<div>\n",
              "<style scoped>\n",
              "    .dataframe tbody tr th:only-of-type {\n",
              "        vertical-align: middle;\n",
              "    }\n",
              "\n",
              "    .dataframe tbody tr th {\n",
              "        vertical-align: top;\n",
              "    }\n",
              "\n",
              "    .dataframe thead th {\n",
              "        text-align: right;\n",
              "    }\n",
              "</style>\n",
              "<table border=\"1\" class=\"dataframe\">\n",
              "  <thead>\n",
              "    <tr style=\"text-align: right;\">\n",
              "      <th></th>\n",
              "      <th>acc_x_max</th>\n",
              "      <th>acc_x_min</th>\n",
              "      <th>acc_y_max</th>\n",
              "      <th>acc_y_min</th>\n",
              "      <th>acc_z_max</th>\n",
              "      <th>acc_z_min</th>\n",
              "      <th>gy_x_max</th>\n",
              "      <th>gy_x_min</th>\n",
              "      <th>gy_y_max</th>\n",
              "      <th>gy_y_min</th>\n",
              "      <th>gy_z_max</th>\n",
              "      <th>gy_z_min</th>\n",
              "    </tr>\n",
              "    <tr>\n",
              "      <th>id</th>\n",
              "      <th></th>\n",
              "      <th></th>\n",
              "      <th></th>\n",
              "      <th></th>\n",
              "      <th></th>\n",
              "      <th></th>\n",
              "      <th></th>\n",
              "      <th></th>\n",
              "      <th></th>\n",
              "      <th></th>\n",
              "      <th></th>\n",
              "      <th></th>\n",
              "    </tr>\n",
              "  </thead>\n",
              "  <tbody>\n",
              "    <tr>\n",
              "      <th>0</th>\n",
              "      <td>0.727936</td>\n",
              "      <td>2.824735</td>\n",
              "      <td>-0.344720</td>\n",
              "      <td>0.384740</td>\n",
              "      <td>-1.307345</td>\n",
              "      <td>-0.225411</td>\n",
              "      <td>-0.798702</td>\n",
              "      <td>0.727013</td>\n",
              "      <td>-0.488766</td>\n",
              "      <td>0.375606</td>\n",
              "      <td>-0.473053</td>\n",
              "      <td>0.282853</td>\n",
              "    </tr>\n",
              "    <tr>\n",
              "      <th>1</th>\n",
              "      <td>0.631714</td>\n",
              "      <td>-0.964562</td>\n",
              "      <td>0.195710</td>\n",
              "      <td>-0.375282</td>\n",
              "      <td>0.304999</td>\n",
              "      <td>-0.574036</td>\n",
              "      <td>0.856025</td>\n",
              "      <td>-1.314954</td>\n",
              "      <td>1.697493</td>\n",
              "      <td>-1.408375</td>\n",
              "      <td>1.536133</td>\n",
              "      <td>-1.231552</td>\n",
              "    </tr>\n",
              "    <tr>\n",
              "      <th>2</th>\n",
              "      <td>0.619334</td>\n",
              "      <td>0.432715</td>\n",
              "      <td>0.144661</td>\n",
              "      <td>0.309046</td>\n",
              "      <td>1.064286</td>\n",
              "      <td>1.060552</td>\n",
              "      <td>-0.526910</td>\n",
              "      <td>-0.140223</td>\n",
              "      <td>1.066510</td>\n",
              "      <td>-0.901360</td>\n",
              "      <td>-0.475251</td>\n",
              "      <td>0.566138</td>\n",
              "    </tr>\n",
              "  </tbody>\n",
              "</table>\n",
              "</div>"
            ],
            "text/plain": [
              "    acc_x_max  acc_x_min  acc_y_max  ...  gy_y_min  gy_z_max  gy_z_min\n",
              "id                                   ...                              \n",
              "0    0.727936   2.824735  -0.344720  ...  0.375606 -0.473053  0.282853\n",
              "1    0.631714  -0.964562   0.195710  ... -1.408375  1.536133 -1.231552\n",
              "2    0.619334   0.432715   0.144661  ... -0.901360 -0.475251  0.566138\n",
              "\n",
              "[3 rows x 12 columns]"
            ]
          },
          "metadata": {
            "tags": []
          },
          "execution_count": 21
        }
      ]
    },
    {
      "cell_type": "code",
      "metadata": {
        "colab": {
          "base_uri": "https://localhost:8080/",
          "height": 166
        },
        "id": "KeIir9-XSCSl",
        "outputId": "42d099d5-5250-4765-fb8c-109ddc9af97b"
      },
      "source": [
        "X_train.head(3)"
      ],
      "execution_count": null,
      "outputs": [
        {
          "output_type": "execute_result",
          "data": {
            "text/html": [
              "<div>\n",
              "<style scoped>\n",
              "    .dataframe tbody tr th:only-of-type {\n",
              "        vertical-align: middle;\n",
              "    }\n",
              "\n",
              "    .dataframe tbody tr th {\n",
              "        vertical-align: top;\n",
              "    }\n",
              "\n",
              "    .dataframe thead th {\n",
              "        text-align: right;\n",
              "    }\n",
              "</style>\n",
              "<table border=\"1\" class=\"dataframe\">\n",
              "  <thead>\n",
              "    <tr style=\"text-align: right;\">\n",
              "      <th></th>\n",
              "      <th>acc_x_max</th>\n",
              "      <th>acc_x_min</th>\n",
              "      <th>acc_y_max</th>\n",
              "      <th>acc_y_min</th>\n",
              "      <th>acc_z_max</th>\n",
              "      <th>acc_z_min</th>\n",
              "      <th>gy_x_max</th>\n",
              "      <th>gy_x_min</th>\n",
              "      <th>gy_y_max</th>\n",
              "      <th>gy_y_min</th>\n",
              "      <th>gy_z_max</th>\n",
              "      <th>gy_z_min</th>\n",
              "    </tr>\n",
              "    <tr>\n",
              "      <th>id</th>\n",
              "      <th></th>\n",
              "      <th></th>\n",
              "      <th></th>\n",
              "      <th></th>\n",
              "      <th></th>\n",
              "      <th></th>\n",
              "      <th></th>\n",
              "      <th></th>\n",
              "      <th></th>\n",
              "      <th></th>\n",
              "      <th></th>\n",
              "      <th></th>\n",
              "    </tr>\n",
              "  </thead>\n",
              "  <tbody>\n",
              "    <tr>\n",
              "      <th>0</th>\n",
              "      <td>1.344268</td>\n",
              "      <td>0.591940</td>\n",
              "      <td>0.176871</td>\n",
              "      <td>-0.624113</td>\n",
              "      <td>-0.054876</td>\n",
              "      <td>-0.786336</td>\n",
              "      <td>31.644123</td>\n",
              "      <td>-46.254836</td>\n",
              "      <td>69.847244</td>\n",
              "      <td>-85.887677</td>\n",
              "      <td>55.953827</td>\n",
              "      <td>-79.930029</td>\n",
              "    </tr>\n",
              "    <tr>\n",
              "      <th>1</th>\n",
              "      <td>1.234020</td>\n",
              "      <td>-2.156208</td>\n",
              "      <td>0.700065</td>\n",
              "      <td>-1.295598</td>\n",
              "      <td>0.888661</td>\n",
              "      <td>-1.019531</td>\n",
              "      <td>286.624363</td>\n",
              "      <td>-325.328531</td>\n",
              "      <td>389.608060</td>\n",
              "      <td>-315.096003</td>\n",
              "      <td>340.170199</td>\n",
              "      <td>-270.980823</td>\n",
              "    </tr>\n",
              "    <tr>\n",
              "      <th>2</th>\n",
              "      <td>1.219836</td>\n",
              "      <td>-1.142847</td>\n",
              "      <td>0.650645</td>\n",
              "      <td>-0.690990</td>\n",
              "      <td>1.332992</td>\n",
              "      <td>0.073846</td>\n",
              "      <td>73.525082</td>\n",
              "      <td>-164.779067</td>\n",
              "      <td>297.320834</td>\n",
              "      <td>-249.953944</td>\n",
              "      <td>55.642836</td>\n",
              "      <td>-44.192071</td>\n",
              "    </tr>\n",
              "  </tbody>\n",
              "</table>\n",
              "</div>"
            ],
            "text/plain": [
              "    acc_x_max  acc_x_min  acc_y_max  ...    gy_y_min    gy_z_max    gy_z_min\n",
              "id                                   ...                                    \n",
              "0    1.344268   0.591940   0.176871  ...  -85.887677   55.953827  -79.930029\n",
              "1    1.234020  -2.156208   0.700065  ... -315.096003  340.170199 -270.980823\n",
              "2    1.219836  -1.142847   0.650645  ... -249.953944   55.642836  -44.192071\n",
              "\n",
              "[3 rows x 12 columns]"
            ]
          },
          "metadata": {
            "tags": []
          },
          "execution_count": 22
        }
      ]
    },
    {
      "cell_type": "code",
      "metadata": {
        "id": "28J1WZotYZoh"
      },
      "source": [
        "# X 원본 데이터 scale\r\n",
        "X      = tf.reshape(np.array(train.iloc[:,2:]),[-1, 600, 6])\r\n",
        "scaler = RobustScaler()\r\n",
        "\r\n",
        "num_sample   = X.shape[0] # 3 (샘플 데이터)\r\n",
        "num_sequence = X.shape[1] # 4 (시계열 데이터)\r\n",
        "num_feature  = X.shape[2] # 2 (Feature)\r\n",
        "\r\n",
        "# 시계열을 선회하면서 피팅합니다\r\n",
        "for ss in range(num_sequence):\r\n",
        "    scaler.fit_transform(X[:, ss, :])\r\n",
        "# 스케일링(변환)합니다.\r\n",
        "results = []\r\n",
        "for ss in range(num_sequence):\r\n",
        "    results.append(scaler.transform(X[:, ss, :]).reshape(num_sample, 1, num_feature))\r\n",
        "X_scaled = np.concatenate(results, axis=1)\r\n",
        "\r\n",
        "\r\n",
        "# X_scaler = scaler.fit_transform(X)\r\n",
        "\r\n",
        "# X_scaled.shape"
      ],
      "execution_count": null,
      "outputs": []
    },
    {
      "cell_type": "code",
      "metadata": {
        "id": "-5uwKUe-Zq_b",
        "colab": {
          "base_uri": "https://localhost:8080/",
          "height": 369
        },
        "outputId": "2bc8cbbc-b5d0-4161-999c-ad345941898e"
      },
      "source": [
        "from sklearn.metrics import make_scorer\r\n",
        "\r\n",
        "def MyGridSearchCV(my_hyper_param, grid_model, X_grid, y_grid) :\r\n",
        "    print(\"GridSerchCV --------------------------------\")\r\n",
        "    X_train_grid, X_test_grid, y_train_grid, y_test_grid = train_test_split(X_grid, y_grid, test_size=0.2, random_state=121)\r\n",
        "    # my_score  = {\"acc\": \"accuracy\", \"f1\": \"f1\"}\r\n",
        "    gcv_model = GridSearchCV(grid_model, param_grid=my_hyper_param, scoring=make_scorer(f1_score, average='micro'), refit=\"f1\", cv=5, verbose=0, return_train_score=True)\r\n",
        "    gcv_model.fit(X_train_grid, y_train_grid)\r\n",
        "    gcv_y_pred = gcv_model.predict(X_test)\r\n",
        "\r\n",
        "    # print(\"best_estimator:\", gcv_model.best_estimator_)\r\n",
        "    print(\"best_params :\", gcv_model.best_params_)\r\n",
        "    print(\"best_score  :\", gcv_model.best_score_)\r\n",
        "    # print(\"GridSearchCV 평균 정확도 : \", gcv_model.cv_results_[\"mean_test_acc\"].mean())  # mean_test_(본인의score키값)\r\n",
        "    print(\"GridSearchCV 평균 F1     : \", gcv_model.cv_results_[\"mean_test_score\"].mean())\r\n",
        "    print(barline)\r\n",
        "\r\n",
        "MyGridSearchCV(rf_hyper_param, rf_model, X_train, y_train)"
      ],
      "execution_count": null,
      "outputs": [
        {
          "output_type": "stream",
          "text": [
            "GridSerchCV --------------------------------\n"
          ],
          "name": "stdout"
        },
        {
          "output_type": "error",
          "ename": "KeyboardInterrupt",
          "evalue": "ignored",
          "traceback": [
            "\u001b[0;31m---------------------------------------------------------------------------\u001b[0m",
            "\u001b[0;31mKeyboardInterrupt\u001b[0m                         Traceback (most recent call last)",
            "\u001b[0;32m<ipython-input-23-a04c65748df8>\u001b[0m in \u001b[0;36m<module>\u001b[0;34m()\u001b[0m\n\u001b[1;32m     16\u001b[0m     \u001b[0mprint\u001b[0m\u001b[0;34m(\u001b[0m\u001b[0mbarline\u001b[0m\u001b[0;34m)\u001b[0m\u001b[0;34m\u001b[0m\u001b[0;34m\u001b[0m\u001b[0m\n\u001b[1;32m     17\u001b[0m \u001b[0;34m\u001b[0m\u001b[0m\n\u001b[0;32m---> 18\u001b[0;31m \u001b[0mMyGridSearchCV\u001b[0m\u001b[0;34m(\u001b[0m\u001b[0mrf_hyper_param\u001b[0m\u001b[0;34m,\u001b[0m \u001b[0mrf_model\u001b[0m\u001b[0;34m,\u001b[0m \u001b[0mX_train\u001b[0m\u001b[0;34m,\u001b[0m \u001b[0my_train\u001b[0m\u001b[0;34m)\u001b[0m\u001b[0;34m\u001b[0m\u001b[0;34m\u001b[0m\u001b[0m\n\u001b[0m",
            "\u001b[0;32m<ipython-input-23-a04c65748df8>\u001b[0m in \u001b[0;36mMyGridSearchCV\u001b[0;34m(my_hyper_param, grid_model, X_grid, y_grid)\u001b[0m\n\u001b[1;32m      6\u001b[0m     \u001b[0;31m# my_score  = {\"acc\": \"accuracy\", \"f1\": \"f1\"}\u001b[0m\u001b[0;34m\u001b[0m\u001b[0;34m\u001b[0m\u001b[0;34m\u001b[0m\u001b[0m\n\u001b[1;32m      7\u001b[0m     \u001b[0mgcv_model\u001b[0m \u001b[0;34m=\u001b[0m \u001b[0mGridSearchCV\u001b[0m\u001b[0;34m(\u001b[0m\u001b[0mgrid_model\u001b[0m\u001b[0;34m,\u001b[0m \u001b[0mparam_grid\u001b[0m\u001b[0;34m=\u001b[0m\u001b[0mmy_hyper_param\u001b[0m\u001b[0;34m,\u001b[0m \u001b[0mscoring\u001b[0m\u001b[0;34m=\u001b[0m\u001b[0mmake_scorer\u001b[0m\u001b[0;34m(\u001b[0m\u001b[0mf1_score\u001b[0m\u001b[0;34m,\u001b[0m \u001b[0maverage\u001b[0m\u001b[0;34m=\u001b[0m\u001b[0;34m'micro'\u001b[0m\u001b[0;34m)\u001b[0m\u001b[0;34m,\u001b[0m \u001b[0mrefit\u001b[0m\u001b[0;34m=\u001b[0m\u001b[0;34m\"f1\"\u001b[0m\u001b[0;34m,\u001b[0m \u001b[0mcv\u001b[0m\u001b[0;34m=\u001b[0m\u001b[0;36m5\u001b[0m\u001b[0;34m,\u001b[0m \u001b[0mverbose\u001b[0m\u001b[0;34m=\u001b[0m\u001b[0;36m0\u001b[0m\u001b[0;34m,\u001b[0m \u001b[0mreturn_train_score\u001b[0m\u001b[0;34m=\u001b[0m\u001b[0;32mTrue\u001b[0m\u001b[0;34m)\u001b[0m\u001b[0;34m\u001b[0m\u001b[0;34m\u001b[0m\u001b[0m\n\u001b[0;32m----> 8\u001b[0;31m     \u001b[0mgcv_model\u001b[0m\u001b[0;34m.\u001b[0m\u001b[0mfit\u001b[0m\u001b[0;34m(\u001b[0m\u001b[0mX_train_grid\u001b[0m\u001b[0;34m,\u001b[0m \u001b[0my_train_grid\u001b[0m\u001b[0;34m)\u001b[0m\u001b[0;34m\u001b[0m\u001b[0;34m\u001b[0m\u001b[0m\n\u001b[0m\u001b[1;32m      9\u001b[0m     \u001b[0mgcv_y_pred\u001b[0m \u001b[0;34m=\u001b[0m \u001b[0mgcv_model\u001b[0m\u001b[0;34m.\u001b[0m\u001b[0mpredict\u001b[0m\u001b[0;34m(\u001b[0m\u001b[0mX_test\u001b[0m\u001b[0;34m)\u001b[0m\u001b[0;34m\u001b[0m\u001b[0;34m\u001b[0m\u001b[0m\n\u001b[1;32m     10\u001b[0m \u001b[0;34m\u001b[0m\u001b[0m\n",
            "\u001b[0;32m/usr/local/lib/python3.6/dist-packages/sklearn/model_selection/_search.py\u001b[0m in \u001b[0;36mfit\u001b[0;34m(self, X, y, groups, **fit_params)\u001b[0m\n\u001b[1;32m    708\u001b[0m                 \u001b[0;32mreturn\u001b[0m \u001b[0mresults\u001b[0m\u001b[0;34m\u001b[0m\u001b[0;34m\u001b[0m\u001b[0m\n\u001b[1;32m    709\u001b[0m \u001b[0;34m\u001b[0m\u001b[0m\n\u001b[0;32m--> 710\u001b[0;31m             \u001b[0mself\u001b[0m\u001b[0;34m.\u001b[0m\u001b[0m_run_search\u001b[0m\u001b[0;34m(\u001b[0m\u001b[0mevaluate_candidates\u001b[0m\u001b[0;34m)\u001b[0m\u001b[0;34m\u001b[0m\u001b[0;34m\u001b[0m\u001b[0m\n\u001b[0m\u001b[1;32m    711\u001b[0m \u001b[0;34m\u001b[0m\u001b[0m\n\u001b[1;32m    712\u001b[0m         \u001b[0;31m# For multi-metric evaluation, store the best_index_, best_params_ and\u001b[0m\u001b[0;34m\u001b[0m\u001b[0;34m\u001b[0m\u001b[0;34m\u001b[0m\u001b[0m\n",
            "\u001b[0;32m/usr/local/lib/python3.6/dist-packages/sklearn/model_selection/_search.py\u001b[0m in \u001b[0;36m_run_search\u001b[0;34m(self, evaluate_candidates)\u001b[0m\n\u001b[1;32m   1149\u001b[0m     \u001b[0;32mdef\u001b[0m \u001b[0m_run_search\u001b[0m\u001b[0;34m(\u001b[0m\u001b[0mself\u001b[0m\u001b[0;34m,\u001b[0m \u001b[0mevaluate_candidates\u001b[0m\u001b[0;34m)\u001b[0m\u001b[0;34m:\u001b[0m\u001b[0;34m\u001b[0m\u001b[0;34m\u001b[0m\u001b[0m\n\u001b[1;32m   1150\u001b[0m         \u001b[0;34m\"\"\"Search all candidates in param_grid\"\"\"\u001b[0m\u001b[0;34m\u001b[0m\u001b[0;34m\u001b[0m\u001b[0m\n\u001b[0;32m-> 1151\u001b[0;31m         \u001b[0mevaluate_candidates\u001b[0m\u001b[0;34m(\u001b[0m\u001b[0mParameterGrid\u001b[0m\u001b[0;34m(\u001b[0m\u001b[0mself\u001b[0m\u001b[0;34m.\u001b[0m\u001b[0mparam_grid\u001b[0m\u001b[0;34m)\u001b[0m\u001b[0;34m)\u001b[0m\u001b[0;34m\u001b[0m\u001b[0;34m\u001b[0m\u001b[0m\n\u001b[0m\u001b[1;32m   1152\u001b[0m \u001b[0;34m\u001b[0m\u001b[0m\n\u001b[1;32m   1153\u001b[0m \u001b[0;34m\u001b[0m\u001b[0m\n",
            "\u001b[0;32m/usr/local/lib/python3.6/dist-packages/sklearn/model_selection/_search.py\u001b[0m in \u001b[0;36mevaluate_candidates\u001b[0;34m(candidate_params)\u001b[0m\n\u001b[1;32m    687\u001b[0m                                \u001b[0;32mfor\u001b[0m \u001b[0mparameters\u001b[0m\u001b[0;34m,\u001b[0m \u001b[0;34m(\u001b[0m\u001b[0mtrain\u001b[0m\u001b[0;34m,\u001b[0m \u001b[0mtest\u001b[0m\u001b[0;34m)\u001b[0m\u001b[0;34m\u001b[0m\u001b[0;34m\u001b[0m\u001b[0m\n\u001b[1;32m    688\u001b[0m                                in product(candidate_params,\n\u001b[0;32m--> 689\u001b[0;31m                                           cv.split(X, y, groups)))\n\u001b[0m\u001b[1;32m    690\u001b[0m \u001b[0;34m\u001b[0m\u001b[0m\n\u001b[1;32m    691\u001b[0m                 \u001b[0;32mif\u001b[0m \u001b[0mlen\u001b[0m\u001b[0;34m(\u001b[0m\u001b[0mout\u001b[0m\u001b[0;34m)\u001b[0m \u001b[0;34m<\u001b[0m \u001b[0;36m1\u001b[0m\u001b[0;34m:\u001b[0m\u001b[0;34m\u001b[0m\u001b[0;34m\u001b[0m\u001b[0m\n",
            "\u001b[0;32m/usr/local/lib/python3.6/dist-packages/joblib/parallel.py\u001b[0m in \u001b[0;36m__call__\u001b[0;34m(self, iterable)\u001b[0m\n\u001b[1;32m   1042\u001b[0m                 \u001b[0mself\u001b[0m\u001b[0;34m.\u001b[0m\u001b[0m_iterating\u001b[0m \u001b[0;34m=\u001b[0m \u001b[0mself\u001b[0m\u001b[0;34m.\u001b[0m\u001b[0m_original_iterator\u001b[0m \u001b[0;32mis\u001b[0m \u001b[0;32mnot\u001b[0m \u001b[0;32mNone\u001b[0m\u001b[0;34m\u001b[0m\u001b[0;34m\u001b[0m\u001b[0m\n\u001b[1;32m   1043\u001b[0m \u001b[0;34m\u001b[0m\u001b[0m\n\u001b[0;32m-> 1044\u001b[0;31m             \u001b[0;32mwhile\u001b[0m \u001b[0mself\u001b[0m\u001b[0;34m.\u001b[0m\u001b[0mdispatch_one_batch\u001b[0m\u001b[0;34m(\u001b[0m\u001b[0miterator\u001b[0m\u001b[0;34m)\u001b[0m\u001b[0;34m:\u001b[0m\u001b[0;34m\u001b[0m\u001b[0;34m\u001b[0m\u001b[0m\n\u001b[0m\u001b[1;32m   1045\u001b[0m                 \u001b[0;32mpass\u001b[0m\u001b[0;34m\u001b[0m\u001b[0;34m\u001b[0m\u001b[0m\n\u001b[1;32m   1046\u001b[0m \u001b[0;34m\u001b[0m\u001b[0m\n",
            "\u001b[0;32m/usr/local/lib/python3.6/dist-packages/joblib/parallel.py\u001b[0m in \u001b[0;36mdispatch_one_batch\u001b[0;34m(self, iterator)\u001b[0m\n\u001b[1;32m    857\u001b[0m                 \u001b[0;32mreturn\u001b[0m \u001b[0;32mFalse\u001b[0m\u001b[0;34m\u001b[0m\u001b[0;34m\u001b[0m\u001b[0m\n\u001b[1;32m    858\u001b[0m             \u001b[0;32melse\u001b[0m\u001b[0;34m:\u001b[0m\u001b[0;34m\u001b[0m\u001b[0;34m\u001b[0m\u001b[0m\n\u001b[0;32m--> 859\u001b[0;31m                 \u001b[0mself\u001b[0m\u001b[0;34m.\u001b[0m\u001b[0m_dispatch\u001b[0m\u001b[0;34m(\u001b[0m\u001b[0mtasks\u001b[0m\u001b[0;34m)\u001b[0m\u001b[0;34m\u001b[0m\u001b[0;34m\u001b[0m\u001b[0m\n\u001b[0m\u001b[1;32m    860\u001b[0m                 \u001b[0;32mreturn\u001b[0m \u001b[0;32mTrue\u001b[0m\u001b[0;34m\u001b[0m\u001b[0;34m\u001b[0m\u001b[0m\n\u001b[1;32m    861\u001b[0m \u001b[0;34m\u001b[0m\u001b[0m\n",
            "\u001b[0;32m/usr/local/lib/python3.6/dist-packages/joblib/parallel.py\u001b[0m in \u001b[0;36m_dispatch\u001b[0;34m(self, batch)\u001b[0m\n\u001b[1;32m    775\u001b[0m         \u001b[0;32mwith\u001b[0m \u001b[0mself\u001b[0m\u001b[0;34m.\u001b[0m\u001b[0m_lock\u001b[0m\u001b[0;34m:\u001b[0m\u001b[0;34m\u001b[0m\u001b[0;34m\u001b[0m\u001b[0m\n\u001b[1;32m    776\u001b[0m             \u001b[0mjob_idx\u001b[0m \u001b[0;34m=\u001b[0m \u001b[0mlen\u001b[0m\u001b[0;34m(\u001b[0m\u001b[0mself\u001b[0m\u001b[0;34m.\u001b[0m\u001b[0m_jobs\u001b[0m\u001b[0;34m)\u001b[0m\u001b[0;34m\u001b[0m\u001b[0;34m\u001b[0m\u001b[0m\n\u001b[0;32m--> 777\u001b[0;31m             \u001b[0mjob\u001b[0m \u001b[0;34m=\u001b[0m \u001b[0mself\u001b[0m\u001b[0;34m.\u001b[0m\u001b[0m_backend\u001b[0m\u001b[0;34m.\u001b[0m\u001b[0mapply_async\u001b[0m\u001b[0;34m(\u001b[0m\u001b[0mbatch\u001b[0m\u001b[0;34m,\u001b[0m \u001b[0mcallback\u001b[0m\u001b[0;34m=\u001b[0m\u001b[0mcb\u001b[0m\u001b[0;34m)\u001b[0m\u001b[0;34m\u001b[0m\u001b[0;34m\u001b[0m\u001b[0m\n\u001b[0m\u001b[1;32m    778\u001b[0m             \u001b[0;31m# A job can complete so quickly than its callback is\u001b[0m\u001b[0;34m\u001b[0m\u001b[0;34m\u001b[0m\u001b[0;34m\u001b[0m\u001b[0m\n\u001b[1;32m    779\u001b[0m             \u001b[0;31m# called before we get here, causing self._jobs to\u001b[0m\u001b[0;34m\u001b[0m\u001b[0;34m\u001b[0m\u001b[0;34m\u001b[0m\u001b[0m\n",
            "\u001b[0;32m/usr/local/lib/python3.6/dist-packages/joblib/_parallel_backends.py\u001b[0m in \u001b[0;36mapply_async\u001b[0;34m(self, func, callback)\u001b[0m\n\u001b[1;32m    206\u001b[0m     \u001b[0;32mdef\u001b[0m \u001b[0mapply_async\u001b[0m\u001b[0;34m(\u001b[0m\u001b[0mself\u001b[0m\u001b[0;34m,\u001b[0m \u001b[0mfunc\u001b[0m\u001b[0;34m,\u001b[0m \u001b[0mcallback\u001b[0m\u001b[0;34m=\u001b[0m\u001b[0;32mNone\u001b[0m\u001b[0;34m)\u001b[0m\u001b[0;34m:\u001b[0m\u001b[0;34m\u001b[0m\u001b[0;34m\u001b[0m\u001b[0m\n\u001b[1;32m    207\u001b[0m         \u001b[0;34m\"\"\"Schedule a func to be run\"\"\"\u001b[0m\u001b[0;34m\u001b[0m\u001b[0;34m\u001b[0m\u001b[0m\n\u001b[0;32m--> 208\u001b[0;31m         \u001b[0mresult\u001b[0m \u001b[0;34m=\u001b[0m \u001b[0mImmediateResult\u001b[0m\u001b[0;34m(\u001b[0m\u001b[0mfunc\u001b[0m\u001b[0;34m)\u001b[0m\u001b[0;34m\u001b[0m\u001b[0;34m\u001b[0m\u001b[0m\n\u001b[0m\u001b[1;32m    209\u001b[0m         \u001b[0;32mif\u001b[0m \u001b[0mcallback\u001b[0m\u001b[0;34m:\u001b[0m\u001b[0;34m\u001b[0m\u001b[0;34m\u001b[0m\u001b[0m\n\u001b[1;32m    210\u001b[0m             \u001b[0mcallback\u001b[0m\u001b[0;34m(\u001b[0m\u001b[0mresult\u001b[0m\u001b[0;34m)\u001b[0m\u001b[0;34m\u001b[0m\u001b[0;34m\u001b[0m\u001b[0m\n",
            "\u001b[0;32m/usr/local/lib/python3.6/dist-packages/joblib/_parallel_backends.py\u001b[0m in \u001b[0;36m__init__\u001b[0;34m(self, batch)\u001b[0m\n\u001b[1;32m    570\u001b[0m         \u001b[0;31m# Don't delay the application, to avoid keeping the input\u001b[0m\u001b[0;34m\u001b[0m\u001b[0;34m\u001b[0m\u001b[0;34m\u001b[0m\u001b[0m\n\u001b[1;32m    571\u001b[0m         \u001b[0;31m# arguments in memory\u001b[0m\u001b[0;34m\u001b[0m\u001b[0;34m\u001b[0m\u001b[0;34m\u001b[0m\u001b[0m\n\u001b[0;32m--> 572\u001b[0;31m         \u001b[0mself\u001b[0m\u001b[0;34m.\u001b[0m\u001b[0mresults\u001b[0m \u001b[0;34m=\u001b[0m \u001b[0mbatch\u001b[0m\u001b[0;34m(\u001b[0m\u001b[0;34m)\u001b[0m\u001b[0;34m\u001b[0m\u001b[0;34m\u001b[0m\u001b[0m\n\u001b[0m\u001b[1;32m    573\u001b[0m \u001b[0;34m\u001b[0m\u001b[0m\n\u001b[1;32m    574\u001b[0m     \u001b[0;32mdef\u001b[0m \u001b[0mget\u001b[0m\u001b[0;34m(\u001b[0m\u001b[0mself\u001b[0m\u001b[0;34m)\u001b[0m\u001b[0;34m:\u001b[0m\u001b[0;34m\u001b[0m\u001b[0;34m\u001b[0m\u001b[0m\n",
            "\u001b[0;32m/usr/local/lib/python3.6/dist-packages/joblib/parallel.py\u001b[0m in \u001b[0;36m__call__\u001b[0;34m(self)\u001b[0m\n\u001b[1;32m    261\u001b[0m         \u001b[0;32mwith\u001b[0m \u001b[0mparallel_backend\u001b[0m\u001b[0;34m(\u001b[0m\u001b[0mself\u001b[0m\u001b[0;34m.\u001b[0m\u001b[0m_backend\u001b[0m\u001b[0;34m,\u001b[0m \u001b[0mn_jobs\u001b[0m\u001b[0;34m=\u001b[0m\u001b[0mself\u001b[0m\u001b[0;34m.\u001b[0m\u001b[0m_n_jobs\u001b[0m\u001b[0;34m)\u001b[0m\u001b[0;34m:\u001b[0m\u001b[0;34m\u001b[0m\u001b[0;34m\u001b[0m\u001b[0m\n\u001b[1;32m    262\u001b[0m             return [func(*args, **kwargs)\n\u001b[0;32m--> 263\u001b[0;31m                     for func, args, kwargs in self.items]\n\u001b[0m\u001b[1;32m    264\u001b[0m \u001b[0;34m\u001b[0m\u001b[0m\n\u001b[1;32m    265\u001b[0m     \u001b[0;32mdef\u001b[0m \u001b[0m__reduce__\u001b[0m\u001b[0;34m(\u001b[0m\u001b[0mself\u001b[0m\u001b[0;34m)\u001b[0m\u001b[0;34m:\u001b[0m\u001b[0;34m\u001b[0m\u001b[0;34m\u001b[0m\u001b[0m\n",
            "\u001b[0;32m/usr/local/lib/python3.6/dist-packages/joblib/parallel.py\u001b[0m in \u001b[0;36m<listcomp>\u001b[0;34m(.0)\u001b[0m\n\u001b[1;32m    261\u001b[0m         \u001b[0;32mwith\u001b[0m \u001b[0mparallel_backend\u001b[0m\u001b[0;34m(\u001b[0m\u001b[0mself\u001b[0m\u001b[0;34m.\u001b[0m\u001b[0m_backend\u001b[0m\u001b[0;34m,\u001b[0m \u001b[0mn_jobs\u001b[0m\u001b[0;34m=\u001b[0m\u001b[0mself\u001b[0m\u001b[0;34m.\u001b[0m\u001b[0m_n_jobs\u001b[0m\u001b[0;34m)\u001b[0m\u001b[0;34m:\u001b[0m\u001b[0;34m\u001b[0m\u001b[0;34m\u001b[0m\u001b[0m\n\u001b[1;32m    262\u001b[0m             return [func(*args, **kwargs)\n\u001b[0;32m--> 263\u001b[0;31m                     for func, args, kwargs in self.items]\n\u001b[0m\u001b[1;32m    264\u001b[0m \u001b[0;34m\u001b[0m\u001b[0m\n\u001b[1;32m    265\u001b[0m     \u001b[0;32mdef\u001b[0m \u001b[0m__reduce__\u001b[0m\u001b[0;34m(\u001b[0m\u001b[0mself\u001b[0m\u001b[0;34m)\u001b[0m\u001b[0;34m:\u001b[0m\u001b[0;34m\u001b[0m\u001b[0;34m\u001b[0m\u001b[0m\n",
            "\u001b[0;32m/usr/local/lib/python3.6/dist-packages/sklearn/model_selection/_validation.py\u001b[0m in \u001b[0;36m_fit_and_score\u001b[0;34m(estimator, X, y, scorer, train, test, verbose, parameters, fit_params, return_train_score, return_parameters, return_n_test_samples, return_times, return_estimator, error_score)\u001b[0m\n\u001b[1;32m    513\u001b[0m             \u001b[0mestimator\u001b[0m\u001b[0;34m.\u001b[0m\u001b[0mfit\u001b[0m\u001b[0;34m(\u001b[0m\u001b[0mX_train\u001b[0m\u001b[0;34m,\u001b[0m \u001b[0;34m**\u001b[0m\u001b[0mfit_params\u001b[0m\u001b[0;34m)\u001b[0m\u001b[0;34m\u001b[0m\u001b[0;34m\u001b[0m\u001b[0m\n\u001b[1;32m    514\u001b[0m         \u001b[0;32melse\u001b[0m\u001b[0;34m:\u001b[0m\u001b[0;34m\u001b[0m\u001b[0;34m\u001b[0m\u001b[0m\n\u001b[0;32m--> 515\u001b[0;31m             \u001b[0mestimator\u001b[0m\u001b[0;34m.\u001b[0m\u001b[0mfit\u001b[0m\u001b[0;34m(\u001b[0m\u001b[0mX_train\u001b[0m\u001b[0;34m,\u001b[0m \u001b[0my_train\u001b[0m\u001b[0;34m,\u001b[0m \u001b[0;34m**\u001b[0m\u001b[0mfit_params\u001b[0m\u001b[0;34m)\u001b[0m\u001b[0;34m\u001b[0m\u001b[0;34m\u001b[0m\u001b[0m\n\u001b[0m\u001b[1;32m    516\u001b[0m \u001b[0;34m\u001b[0m\u001b[0m\n\u001b[1;32m    517\u001b[0m     \u001b[0;32mexcept\u001b[0m \u001b[0mException\u001b[0m \u001b[0;32mas\u001b[0m \u001b[0me\u001b[0m\u001b[0;34m:\u001b[0m\u001b[0;34m\u001b[0m\u001b[0;34m\u001b[0m\u001b[0m\n",
            "\u001b[0;32m/usr/local/lib/python3.6/dist-packages/sklearn/ensemble/_forest.py\u001b[0m in \u001b[0;36mfit\u001b[0;34m(self, X, y, sample_weight)\u001b[0m\n\u001b[1;32m    381\u001b[0m                     \u001b[0mverbose\u001b[0m\u001b[0;34m=\u001b[0m\u001b[0mself\u001b[0m\u001b[0;34m.\u001b[0m\u001b[0mverbose\u001b[0m\u001b[0;34m,\u001b[0m \u001b[0mclass_weight\u001b[0m\u001b[0;34m=\u001b[0m\u001b[0mself\u001b[0m\u001b[0;34m.\u001b[0m\u001b[0mclass_weight\u001b[0m\u001b[0;34m,\u001b[0m\u001b[0;34m\u001b[0m\u001b[0;34m\u001b[0m\u001b[0m\n\u001b[1;32m    382\u001b[0m                     n_samples_bootstrap=n_samples_bootstrap)\n\u001b[0;32m--> 383\u001b[0;31m                 for i, t in enumerate(trees))\n\u001b[0m\u001b[1;32m    384\u001b[0m \u001b[0;34m\u001b[0m\u001b[0m\n\u001b[1;32m    385\u001b[0m             \u001b[0;31m# Collect newly grown trees\u001b[0m\u001b[0;34m\u001b[0m\u001b[0;34m\u001b[0m\u001b[0;34m\u001b[0m\u001b[0m\n",
            "\u001b[0;32m/usr/local/lib/python3.6/dist-packages/joblib/parallel.py\u001b[0m in \u001b[0;36m__call__\u001b[0;34m(self, iterable)\u001b[0m\n\u001b[1;32m   1042\u001b[0m                 \u001b[0mself\u001b[0m\u001b[0;34m.\u001b[0m\u001b[0m_iterating\u001b[0m \u001b[0;34m=\u001b[0m \u001b[0mself\u001b[0m\u001b[0;34m.\u001b[0m\u001b[0m_original_iterator\u001b[0m \u001b[0;32mis\u001b[0m \u001b[0;32mnot\u001b[0m \u001b[0;32mNone\u001b[0m\u001b[0;34m\u001b[0m\u001b[0;34m\u001b[0m\u001b[0m\n\u001b[1;32m   1043\u001b[0m \u001b[0;34m\u001b[0m\u001b[0m\n\u001b[0;32m-> 1044\u001b[0;31m             \u001b[0;32mwhile\u001b[0m \u001b[0mself\u001b[0m\u001b[0;34m.\u001b[0m\u001b[0mdispatch_one_batch\u001b[0m\u001b[0;34m(\u001b[0m\u001b[0miterator\u001b[0m\u001b[0;34m)\u001b[0m\u001b[0;34m:\u001b[0m\u001b[0;34m\u001b[0m\u001b[0;34m\u001b[0m\u001b[0m\n\u001b[0m\u001b[1;32m   1045\u001b[0m                 \u001b[0;32mpass\u001b[0m\u001b[0;34m\u001b[0m\u001b[0;34m\u001b[0m\u001b[0m\n\u001b[1;32m   1046\u001b[0m \u001b[0;34m\u001b[0m\u001b[0m\n",
            "\u001b[0;32m/usr/local/lib/python3.6/dist-packages/joblib/parallel.py\u001b[0m in \u001b[0;36mdispatch_one_batch\u001b[0;34m(self, iterator)\u001b[0m\n\u001b[1;32m    857\u001b[0m                 \u001b[0;32mreturn\u001b[0m \u001b[0;32mFalse\u001b[0m\u001b[0;34m\u001b[0m\u001b[0;34m\u001b[0m\u001b[0m\n\u001b[1;32m    858\u001b[0m             \u001b[0;32melse\u001b[0m\u001b[0;34m:\u001b[0m\u001b[0;34m\u001b[0m\u001b[0;34m\u001b[0m\u001b[0m\n\u001b[0;32m--> 859\u001b[0;31m                 \u001b[0mself\u001b[0m\u001b[0;34m.\u001b[0m\u001b[0m_dispatch\u001b[0m\u001b[0;34m(\u001b[0m\u001b[0mtasks\u001b[0m\u001b[0;34m)\u001b[0m\u001b[0;34m\u001b[0m\u001b[0;34m\u001b[0m\u001b[0m\n\u001b[0m\u001b[1;32m    860\u001b[0m                 \u001b[0;32mreturn\u001b[0m \u001b[0;32mTrue\u001b[0m\u001b[0;34m\u001b[0m\u001b[0;34m\u001b[0m\u001b[0m\n\u001b[1;32m    861\u001b[0m \u001b[0;34m\u001b[0m\u001b[0m\n",
            "\u001b[0;32m/usr/local/lib/python3.6/dist-packages/joblib/parallel.py\u001b[0m in \u001b[0;36m_dispatch\u001b[0;34m(self, batch)\u001b[0m\n\u001b[1;32m    775\u001b[0m         \u001b[0;32mwith\u001b[0m \u001b[0mself\u001b[0m\u001b[0;34m.\u001b[0m\u001b[0m_lock\u001b[0m\u001b[0;34m:\u001b[0m\u001b[0;34m\u001b[0m\u001b[0;34m\u001b[0m\u001b[0m\n\u001b[1;32m    776\u001b[0m             \u001b[0mjob_idx\u001b[0m \u001b[0;34m=\u001b[0m \u001b[0mlen\u001b[0m\u001b[0;34m(\u001b[0m\u001b[0mself\u001b[0m\u001b[0;34m.\u001b[0m\u001b[0m_jobs\u001b[0m\u001b[0;34m)\u001b[0m\u001b[0;34m\u001b[0m\u001b[0;34m\u001b[0m\u001b[0m\n\u001b[0;32m--> 777\u001b[0;31m             \u001b[0mjob\u001b[0m \u001b[0;34m=\u001b[0m \u001b[0mself\u001b[0m\u001b[0;34m.\u001b[0m\u001b[0m_backend\u001b[0m\u001b[0;34m.\u001b[0m\u001b[0mapply_async\u001b[0m\u001b[0;34m(\u001b[0m\u001b[0mbatch\u001b[0m\u001b[0;34m,\u001b[0m \u001b[0mcallback\u001b[0m\u001b[0;34m=\u001b[0m\u001b[0mcb\u001b[0m\u001b[0;34m)\u001b[0m\u001b[0;34m\u001b[0m\u001b[0;34m\u001b[0m\u001b[0m\n\u001b[0m\u001b[1;32m    778\u001b[0m             \u001b[0;31m# A job can complete so quickly than its callback is\u001b[0m\u001b[0;34m\u001b[0m\u001b[0;34m\u001b[0m\u001b[0;34m\u001b[0m\u001b[0m\n\u001b[1;32m    779\u001b[0m             \u001b[0;31m# called before we get here, causing self._jobs to\u001b[0m\u001b[0;34m\u001b[0m\u001b[0;34m\u001b[0m\u001b[0;34m\u001b[0m\u001b[0m\n",
            "\u001b[0;32m/usr/local/lib/python3.6/dist-packages/joblib/_parallel_backends.py\u001b[0m in \u001b[0;36mapply_async\u001b[0;34m(self, func, callback)\u001b[0m\n\u001b[1;32m    206\u001b[0m     \u001b[0;32mdef\u001b[0m \u001b[0mapply_async\u001b[0m\u001b[0;34m(\u001b[0m\u001b[0mself\u001b[0m\u001b[0;34m,\u001b[0m \u001b[0mfunc\u001b[0m\u001b[0;34m,\u001b[0m \u001b[0mcallback\u001b[0m\u001b[0;34m=\u001b[0m\u001b[0;32mNone\u001b[0m\u001b[0;34m)\u001b[0m\u001b[0;34m:\u001b[0m\u001b[0;34m\u001b[0m\u001b[0;34m\u001b[0m\u001b[0m\n\u001b[1;32m    207\u001b[0m         \u001b[0;34m\"\"\"Schedule a func to be run\"\"\"\u001b[0m\u001b[0;34m\u001b[0m\u001b[0;34m\u001b[0m\u001b[0m\n\u001b[0;32m--> 208\u001b[0;31m         \u001b[0mresult\u001b[0m \u001b[0;34m=\u001b[0m \u001b[0mImmediateResult\u001b[0m\u001b[0;34m(\u001b[0m\u001b[0mfunc\u001b[0m\u001b[0;34m)\u001b[0m\u001b[0;34m\u001b[0m\u001b[0;34m\u001b[0m\u001b[0m\n\u001b[0m\u001b[1;32m    209\u001b[0m         \u001b[0;32mif\u001b[0m \u001b[0mcallback\u001b[0m\u001b[0;34m:\u001b[0m\u001b[0;34m\u001b[0m\u001b[0;34m\u001b[0m\u001b[0m\n\u001b[1;32m    210\u001b[0m             \u001b[0mcallback\u001b[0m\u001b[0;34m(\u001b[0m\u001b[0mresult\u001b[0m\u001b[0;34m)\u001b[0m\u001b[0;34m\u001b[0m\u001b[0;34m\u001b[0m\u001b[0m\n",
            "\u001b[0;32m/usr/local/lib/python3.6/dist-packages/joblib/_parallel_backends.py\u001b[0m in \u001b[0;36m__init__\u001b[0;34m(self, batch)\u001b[0m\n\u001b[1;32m    570\u001b[0m         \u001b[0;31m# Don't delay the application, to avoid keeping the input\u001b[0m\u001b[0;34m\u001b[0m\u001b[0;34m\u001b[0m\u001b[0;34m\u001b[0m\u001b[0m\n\u001b[1;32m    571\u001b[0m         \u001b[0;31m# arguments in memory\u001b[0m\u001b[0;34m\u001b[0m\u001b[0;34m\u001b[0m\u001b[0;34m\u001b[0m\u001b[0m\n\u001b[0;32m--> 572\u001b[0;31m         \u001b[0mself\u001b[0m\u001b[0;34m.\u001b[0m\u001b[0mresults\u001b[0m \u001b[0;34m=\u001b[0m \u001b[0mbatch\u001b[0m\u001b[0;34m(\u001b[0m\u001b[0;34m)\u001b[0m\u001b[0;34m\u001b[0m\u001b[0;34m\u001b[0m\u001b[0m\n\u001b[0m\u001b[1;32m    573\u001b[0m \u001b[0;34m\u001b[0m\u001b[0m\n\u001b[1;32m    574\u001b[0m     \u001b[0;32mdef\u001b[0m \u001b[0mget\u001b[0m\u001b[0;34m(\u001b[0m\u001b[0mself\u001b[0m\u001b[0;34m)\u001b[0m\u001b[0;34m:\u001b[0m\u001b[0;34m\u001b[0m\u001b[0;34m\u001b[0m\u001b[0m\n",
            "\u001b[0;32m/usr/local/lib/python3.6/dist-packages/joblib/parallel.py\u001b[0m in \u001b[0;36m__call__\u001b[0;34m(self)\u001b[0m\n\u001b[1;32m    261\u001b[0m         \u001b[0;32mwith\u001b[0m \u001b[0mparallel_backend\u001b[0m\u001b[0;34m(\u001b[0m\u001b[0mself\u001b[0m\u001b[0;34m.\u001b[0m\u001b[0m_backend\u001b[0m\u001b[0;34m,\u001b[0m \u001b[0mn_jobs\u001b[0m\u001b[0;34m=\u001b[0m\u001b[0mself\u001b[0m\u001b[0;34m.\u001b[0m\u001b[0m_n_jobs\u001b[0m\u001b[0;34m)\u001b[0m\u001b[0;34m:\u001b[0m\u001b[0;34m\u001b[0m\u001b[0;34m\u001b[0m\u001b[0m\n\u001b[1;32m    262\u001b[0m             return [func(*args, **kwargs)\n\u001b[0;32m--> 263\u001b[0;31m                     for func, args, kwargs in self.items]\n\u001b[0m\u001b[1;32m    264\u001b[0m \u001b[0;34m\u001b[0m\u001b[0m\n\u001b[1;32m    265\u001b[0m     \u001b[0;32mdef\u001b[0m \u001b[0m__reduce__\u001b[0m\u001b[0;34m(\u001b[0m\u001b[0mself\u001b[0m\u001b[0;34m)\u001b[0m\u001b[0;34m:\u001b[0m\u001b[0;34m\u001b[0m\u001b[0;34m\u001b[0m\u001b[0m\n",
            "\u001b[0;32m/usr/local/lib/python3.6/dist-packages/joblib/parallel.py\u001b[0m in \u001b[0;36m<listcomp>\u001b[0;34m(.0)\u001b[0m\n\u001b[1;32m    261\u001b[0m         \u001b[0;32mwith\u001b[0m \u001b[0mparallel_backend\u001b[0m\u001b[0;34m(\u001b[0m\u001b[0mself\u001b[0m\u001b[0;34m.\u001b[0m\u001b[0m_backend\u001b[0m\u001b[0;34m,\u001b[0m \u001b[0mn_jobs\u001b[0m\u001b[0;34m=\u001b[0m\u001b[0mself\u001b[0m\u001b[0;34m.\u001b[0m\u001b[0m_n_jobs\u001b[0m\u001b[0;34m)\u001b[0m\u001b[0;34m:\u001b[0m\u001b[0;34m\u001b[0m\u001b[0;34m\u001b[0m\u001b[0m\n\u001b[1;32m    262\u001b[0m             return [func(*args, **kwargs)\n\u001b[0;32m--> 263\u001b[0;31m                     for func, args, kwargs in self.items]\n\u001b[0m\u001b[1;32m    264\u001b[0m \u001b[0;34m\u001b[0m\u001b[0m\n\u001b[1;32m    265\u001b[0m     \u001b[0;32mdef\u001b[0m \u001b[0m__reduce__\u001b[0m\u001b[0;34m(\u001b[0m\u001b[0mself\u001b[0m\u001b[0;34m)\u001b[0m\u001b[0;34m:\u001b[0m\u001b[0;34m\u001b[0m\u001b[0;34m\u001b[0m\u001b[0m\n",
            "\u001b[0;32m/usr/local/lib/python3.6/dist-packages/sklearn/ensemble/_forest.py\u001b[0m in \u001b[0;36m_parallel_build_trees\u001b[0;34m(tree, forest, X, y, sample_weight, tree_idx, n_trees, verbose, class_weight, n_samples_bootstrap)\u001b[0m\n\u001b[1;32m    163\u001b[0m             \u001b[0mcurr_sample_weight\u001b[0m \u001b[0;34m*=\u001b[0m \u001b[0mcompute_sample_weight\u001b[0m\u001b[0;34m(\u001b[0m\u001b[0;34m'balanced'\u001b[0m\u001b[0;34m,\u001b[0m \u001b[0my\u001b[0m\u001b[0;34m,\u001b[0m \u001b[0mindices\u001b[0m\u001b[0;34m)\u001b[0m\u001b[0;34m\u001b[0m\u001b[0;34m\u001b[0m\u001b[0m\n\u001b[1;32m    164\u001b[0m \u001b[0;34m\u001b[0m\u001b[0m\n\u001b[0;32m--> 165\u001b[0;31m         \u001b[0mtree\u001b[0m\u001b[0;34m.\u001b[0m\u001b[0mfit\u001b[0m\u001b[0;34m(\u001b[0m\u001b[0mX\u001b[0m\u001b[0;34m,\u001b[0m \u001b[0my\u001b[0m\u001b[0;34m,\u001b[0m \u001b[0msample_weight\u001b[0m\u001b[0;34m=\u001b[0m\u001b[0mcurr_sample_weight\u001b[0m\u001b[0;34m,\u001b[0m \u001b[0mcheck_input\u001b[0m\u001b[0;34m=\u001b[0m\u001b[0;32mFalse\u001b[0m\u001b[0;34m)\u001b[0m\u001b[0;34m\u001b[0m\u001b[0;34m\u001b[0m\u001b[0m\n\u001b[0m\u001b[1;32m    166\u001b[0m     \u001b[0;32melse\u001b[0m\u001b[0;34m:\u001b[0m\u001b[0;34m\u001b[0m\u001b[0;34m\u001b[0m\u001b[0m\n\u001b[1;32m    167\u001b[0m         \u001b[0mtree\u001b[0m\u001b[0;34m.\u001b[0m\u001b[0mfit\u001b[0m\u001b[0;34m(\u001b[0m\u001b[0mX\u001b[0m\u001b[0;34m,\u001b[0m \u001b[0my\u001b[0m\u001b[0;34m,\u001b[0m \u001b[0msample_weight\u001b[0m\u001b[0;34m=\u001b[0m\u001b[0msample_weight\u001b[0m\u001b[0;34m,\u001b[0m \u001b[0mcheck_input\u001b[0m\u001b[0;34m=\u001b[0m\u001b[0;32mFalse\u001b[0m\u001b[0;34m)\u001b[0m\u001b[0;34m\u001b[0m\u001b[0;34m\u001b[0m\u001b[0m\n",
            "\u001b[0;32m/usr/local/lib/python3.6/dist-packages/sklearn/tree/_classes.py\u001b[0m in \u001b[0;36mfit\u001b[0;34m(self, X, y, sample_weight, check_input, X_idx_sorted)\u001b[0m\n\u001b[1;32m    875\u001b[0m             \u001b[0msample_weight\u001b[0m\u001b[0;34m=\u001b[0m\u001b[0msample_weight\u001b[0m\u001b[0;34m,\u001b[0m\u001b[0;34m\u001b[0m\u001b[0;34m\u001b[0m\u001b[0m\n\u001b[1;32m    876\u001b[0m             \u001b[0mcheck_input\u001b[0m\u001b[0;34m=\u001b[0m\u001b[0mcheck_input\u001b[0m\u001b[0;34m,\u001b[0m\u001b[0;34m\u001b[0m\u001b[0;34m\u001b[0m\u001b[0m\n\u001b[0;32m--> 877\u001b[0;31m             X_idx_sorted=X_idx_sorted)\n\u001b[0m\u001b[1;32m    878\u001b[0m         \u001b[0;32mreturn\u001b[0m \u001b[0mself\u001b[0m\u001b[0;34m\u001b[0m\u001b[0;34m\u001b[0m\u001b[0m\n\u001b[1;32m    879\u001b[0m \u001b[0;34m\u001b[0m\u001b[0m\n",
            "\u001b[0;32m/usr/local/lib/python3.6/dist-packages/sklearn/tree/_classes.py\u001b[0m in \u001b[0;36mfit\u001b[0;34m(self, X, y, sample_weight, check_input, X_idx_sorted)\u001b[0m\n\u001b[1;32m    365\u001b[0m                                            min_impurity_split)\n\u001b[1;32m    366\u001b[0m \u001b[0;34m\u001b[0m\u001b[0m\n\u001b[0;32m--> 367\u001b[0;31m         \u001b[0mbuilder\u001b[0m\u001b[0;34m.\u001b[0m\u001b[0mbuild\u001b[0m\u001b[0;34m(\u001b[0m\u001b[0mself\u001b[0m\u001b[0;34m.\u001b[0m\u001b[0mtree_\u001b[0m\u001b[0;34m,\u001b[0m \u001b[0mX\u001b[0m\u001b[0;34m,\u001b[0m \u001b[0my\u001b[0m\u001b[0;34m,\u001b[0m \u001b[0msample_weight\u001b[0m\u001b[0;34m,\u001b[0m \u001b[0mX_idx_sorted\u001b[0m\u001b[0;34m)\u001b[0m\u001b[0;34m\u001b[0m\u001b[0;34m\u001b[0m\u001b[0m\n\u001b[0m\u001b[1;32m    368\u001b[0m \u001b[0;34m\u001b[0m\u001b[0m\n\u001b[1;32m    369\u001b[0m         \u001b[0;32mif\u001b[0m \u001b[0mself\u001b[0m\u001b[0;34m.\u001b[0m\u001b[0mn_outputs_\u001b[0m \u001b[0;34m==\u001b[0m \u001b[0;36m1\u001b[0m \u001b[0;32mand\u001b[0m \u001b[0mis_classifier\u001b[0m\u001b[0;34m(\u001b[0m\u001b[0mself\u001b[0m\u001b[0;34m)\u001b[0m\u001b[0;34m:\u001b[0m\u001b[0;34m\u001b[0m\u001b[0;34m\u001b[0m\u001b[0m\n",
            "\u001b[0;31mKeyboardInterrupt\u001b[0m: "
          ]
        }
      ]
    },
    {
      "cell_type": "markdown",
      "metadata": {
        "id": "GdbyIm_eSWBt"
      },
      "source": [
        "## Dobby"
      ]
    },
    {
      "cell_type": "code",
      "metadata": {
        "id": "mqtlPi41SVk3"
      },
      "source": [
        "# import pandas as pd\r\n",
        "# import numpy as np\r\n",
        "# import random\r\n",
        "# import matplotlib.pyplot as plt\r\n",
        "# from tqdm import tqdm\r\n",
        "# from glob import glob\r\n",
        "\r\n",
        "# x_train = []\r\n",
        "\r\n",
        "# for uid in tqdm(train['id'].unique()):\r\n",
        "#     temp = np.array(train[train['id'] == uid].iloc[:,2:], np.float32).T\r\n",
        "#     x_train.append(temp)\r\n",
        "\r\n",
        "# x_train = np.array(x_train, np.float32)\r\n",
        "# x_train = x_train[:,:,:,np.newaxis]\r\n",
        "\r\n",
        "# x_test = []\r\n",
        "\r\n",
        "# for uid in tqdm(test['id'].unique()):\r\n",
        "#     temp = np.array(test[test['id'] == uid].iloc[:,2:], np.float32).T\r\n",
        "#     x_test.append(temp)\r\n",
        "\r\n",
        "# x_test = np.array(x_test, np.float32)\r\n",
        "# x_test = x_test[:,:,:,np.newaxis]"
      ],
      "execution_count": null,
      "outputs": []
    },
    {
      "cell_type": "code",
      "metadata": {
        "id": "zpXfnmgwUZTX"
      },
      "source": [
        "# x_train.shape"
      ],
      "execution_count": null,
      "outputs": []
    },
    {
      "cell_type": "markdown",
      "metadata": {
        "id": "HhnsyZSrPaUb"
      },
      "source": [
        "## DACON"
      ]
    },
    {
      "cell_type": "code",
      "metadata": {
        "id": "J6v1rTq-PcmR",
        "colab": {
          "base_uri": "https://localhost:8080/"
        },
        "outputId": "0d1986d8-c994-4fd1-86ed-8dc7ce38fef8"
      },
      "source": [
        "# X, y 원본\r\n",
        "X      = tf.reshape(np.array(train.iloc[:,2:]),[-1, 600, 6])\r\n",
        "test_X = tf.reshape(np.array( test.iloc[:,2:]),[-1, 600, 6])\r\n",
        "y      = tf.keras.utils.to_categorical(y_train) \r\n",
        "\r\n",
        "# X_train, y_train aggregation\r\n",
        "# X_train = train[features].groupby('id').agg(['max', 'min', 'median', 'std'])   #, 'median', 'std'])\r\n",
        "# X_test  = test[features].groupby('id').agg(['max', 'min', 'median', 'std'])    #, 'median', 'std'])\r\n",
        "# y_train = train_label['label']\r\n",
        "print(X.shape, y.shape)"
      ],
      "execution_count": null,
      "outputs": [
        {
          "output_type": "stream",
          "text": [
            "(3125, 600, 6) (3125, 61)\n"
          ],
          "name": "stdout"
        }
      ]
    },
    {
      "cell_type": "markdown",
      "metadata": {
        "id": "heOQaFaZPgEE"
      },
      "source": [
        "### 모델 학습 및 예측 - normal"
      ]
    },
    {
      "cell_type": "code",
      "metadata": {
        "id": "7d2eSZby-YmH"
      },
      "source": [
        "X_scaler.shape"
      ],
      "execution_count": null,
      "outputs": []
    },
    {
      "cell_type": "code",
      "metadata": {
        "id": "1NydMbsOU2jN",
        "colab": {
          "base_uri": "https://localhost:8080/"
        },
        "outputId": "e6feb620-50ba-4a5c-c7d3-2b33ae050288"
      },
      "source": [
        "model = Sequential()\r\n",
        "\r\n",
        "# model.add(LSTM(32, input_shape=(600,6)))                    # 합치지 않은 데이터 사용시(시계열 유지)\r\n",
        "model.add(Dense(30,  input_dim=24, activation='relu'))    # 합친 데이터 또는 time 없이 쓰기\r\n",
        "\r\n",
        "model.add(Dense(20, activation='relu'))\r\n",
        "model.add(Dense(12, activation='relu'))\r\n",
        "# Dropout(0.25)\r\n",
        "model.add(Dense(8 , activation='relu'))\r\n",
        "model.add(Dense(61, activation='softmax'))                  # sigmoid or softmax\r\n",
        "\r\n",
        "model.compile(loss='categorical_crossentropy',              # binary_crossentropy or categorical_crossentropy\r\n",
        "              optimizer='adam', metrics=['accuracy'])       # optimizer='rmsprop' : basecode # adam이 상위\r\n",
        "\r\n",
        "# 모델 업데이트 및 저장\r\n",
        "modelpath=\"content/MyDrive/Colab Notebooks/dacon/model/{epoch:02d}-{val_loss:.4f}.hdf5\"\r\n",
        "checkpointer = ModelCheckpoint(filepath=modelpath, monitor='val_loss', verbose=1, save_best_only=True)\r\n",
        "\r\n",
        "# 학습 자동 중단 설정\r\n",
        "early_stopping_callback = EarlyStopping(monitor='val_loss', patience=100)\r\n",
        "\r\n",
        "# 학습: epoch - 역전파 횟수, batch_size - 나눠 돌리는 수\r\n",
        "  # X값 바꿔서 해보기(X_scaler, X_train, etc.), y는 그대로 두기\r\n",
        "model.fit(X_scaler, y, epochs=3000, batch_size=100, validation_split=0.2, verbose=0, callbacks=[early_stopping_callback,checkpointer])"
      ],
      "execution_count": null,
      "outputs": [
        {
          "output_type": "stream",
          "text": [
            "\n",
            "Epoch 00001: val_loss improved from inf to 4.03742, saving model to content/MyDrive/Colab Notebooks/dacon/model/01-4.0374.hdf5\n",
            "\n",
            "Epoch 00002: val_loss improved from 4.03742 to 3.89622, saving model to content/MyDrive/Colab Notebooks/dacon/model/02-3.8962.hdf5\n",
            "\n",
            "Epoch 00003: val_loss improved from 3.89622 to 3.59953, saving model to content/MyDrive/Colab Notebooks/dacon/model/03-3.5995.hdf5\n",
            "\n",
            "Epoch 00004: val_loss improved from 3.59953 to 3.14831, saving model to content/MyDrive/Colab Notebooks/dacon/model/04-3.1483.hdf5\n",
            "\n",
            "Epoch 00005: val_loss improved from 3.14831 to 2.75979, saving model to content/MyDrive/Colab Notebooks/dacon/model/05-2.7598.hdf5\n",
            "\n",
            "Epoch 00006: val_loss improved from 2.75979 to 2.52349, saving model to content/MyDrive/Colab Notebooks/dacon/model/06-2.5235.hdf5\n",
            "\n",
            "Epoch 00007: val_loss improved from 2.52349 to 2.36992, saving model to content/MyDrive/Colab Notebooks/dacon/model/07-2.3699.hdf5\n",
            "\n",
            "Epoch 00008: val_loss improved from 2.36992 to 2.26729, saving model to content/MyDrive/Colab Notebooks/dacon/model/08-2.2673.hdf5\n",
            "\n",
            "Epoch 00009: val_loss improved from 2.26729 to 2.19634, saving model to content/MyDrive/Colab Notebooks/dacon/model/09-2.1963.hdf5\n",
            "\n",
            "Epoch 00010: val_loss improved from 2.19634 to 2.13755, saving model to content/MyDrive/Colab Notebooks/dacon/model/10-2.1375.hdf5\n",
            "\n",
            "Epoch 00011: val_loss improved from 2.13755 to 2.09066, saving model to content/MyDrive/Colab Notebooks/dacon/model/11-2.0907.hdf5\n",
            "\n",
            "Epoch 00012: val_loss improved from 2.09066 to 2.04230, saving model to content/MyDrive/Colab Notebooks/dacon/model/12-2.0423.hdf5\n",
            "\n",
            "Epoch 00013: val_loss improved from 2.04230 to 1.99745, saving model to content/MyDrive/Colab Notebooks/dacon/model/13-1.9974.hdf5\n",
            "\n",
            "Epoch 00014: val_loss improved from 1.99745 to 1.95527, saving model to content/MyDrive/Colab Notebooks/dacon/model/14-1.9553.hdf5\n",
            "\n",
            "Epoch 00015: val_loss improved from 1.95527 to 1.90566, saving model to content/MyDrive/Colab Notebooks/dacon/model/15-1.9057.hdf5\n",
            "\n",
            "Epoch 00016: val_loss improved from 1.90566 to 1.85827, saving model to content/MyDrive/Colab Notebooks/dacon/model/16-1.8583.hdf5\n",
            "\n",
            "Epoch 00017: val_loss improved from 1.85827 to 1.81536, saving model to content/MyDrive/Colab Notebooks/dacon/model/17-1.8154.hdf5\n",
            "\n",
            "Epoch 00018: val_loss improved from 1.81536 to 1.77789, saving model to content/MyDrive/Colab Notebooks/dacon/model/18-1.7779.hdf5\n",
            "\n",
            "Epoch 00019: val_loss improved from 1.77789 to 1.74084, saving model to content/MyDrive/Colab Notebooks/dacon/model/19-1.7408.hdf5\n",
            "\n",
            "Epoch 00020: val_loss improved from 1.74084 to 1.70818, saving model to content/MyDrive/Colab Notebooks/dacon/model/20-1.7082.hdf5\n",
            "\n",
            "Epoch 00021: val_loss improved from 1.70818 to 1.66975, saving model to content/MyDrive/Colab Notebooks/dacon/model/21-1.6697.hdf5\n",
            "\n",
            "Epoch 00022: val_loss improved from 1.66975 to 1.63400, saving model to content/MyDrive/Colab Notebooks/dacon/model/22-1.6340.hdf5\n",
            "\n",
            "Epoch 00023: val_loss improved from 1.63400 to 1.60684, saving model to content/MyDrive/Colab Notebooks/dacon/model/23-1.6068.hdf5\n",
            "\n",
            "Epoch 00024: val_loss improved from 1.60684 to 1.57938, saving model to content/MyDrive/Colab Notebooks/dacon/model/24-1.5794.hdf5\n",
            "\n",
            "Epoch 00025: val_loss improved from 1.57938 to 1.55621, saving model to content/MyDrive/Colab Notebooks/dacon/model/25-1.5562.hdf5\n",
            "\n",
            "Epoch 00026: val_loss improved from 1.55621 to 1.54242, saving model to content/MyDrive/Colab Notebooks/dacon/model/26-1.5424.hdf5\n",
            "\n",
            "Epoch 00027: val_loss improved from 1.54242 to 1.51490, saving model to content/MyDrive/Colab Notebooks/dacon/model/27-1.5149.hdf5\n",
            "\n",
            "Epoch 00028: val_loss improved from 1.51490 to 1.49707, saving model to content/MyDrive/Colab Notebooks/dacon/model/28-1.4971.hdf5\n",
            "\n",
            "Epoch 00029: val_loss improved from 1.49707 to 1.49023, saving model to content/MyDrive/Colab Notebooks/dacon/model/29-1.4902.hdf5\n",
            "\n",
            "Epoch 00030: val_loss improved from 1.49023 to 1.46957, saving model to content/MyDrive/Colab Notebooks/dacon/model/30-1.4696.hdf5\n",
            "\n",
            "Epoch 00031: val_loss improved from 1.46957 to 1.44935, saving model to content/MyDrive/Colab Notebooks/dacon/model/31-1.4493.hdf5\n",
            "\n",
            "Epoch 00032: val_loss improved from 1.44935 to 1.43447, saving model to content/MyDrive/Colab Notebooks/dacon/model/32-1.4345.hdf5\n",
            "\n",
            "Epoch 00033: val_loss improved from 1.43447 to 1.43291, saving model to content/MyDrive/Colab Notebooks/dacon/model/33-1.4329.hdf5\n",
            "\n",
            "Epoch 00034: val_loss improved from 1.43291 to 1.42424, saving model to content/MyDrive/Colab Notebooks/dacon/model/34-1.4242.hdf5\n",
            "\n",
            "Epoch 00035: val_loss improved from 1.42424 to 1.40855, saving model to content/MyDrive/Colab Notebooks/dacon/model/35-1.4085.hdf5\n",
            "\n",
            "Epoch 00036: val_loss improved from 1.40855 to 1.39399, saving model to content/MyDrive/Colab Notebooks/dacon/model/36-1.3940.hdf5\n",
            "\n",
            "Epoch 00037: val_loss improved from 1.39399 to 1.39042, saving model to content/MyDrive/Colab Notebooks/dacon/model/37-1.3904.hdf5\n",
            "\n",
            "Epoch 00038: val_loss improved from 1.39042 to 1.37013, saving model to content/MyDrive/Colab Notebooks/dacon/model/38-1.3701.hdf5\n",
            "\n",
            "Epoch 00039: val_loss improved from 1.37013 to 1.36233, saving model to content/MyDrive/Colab Notebooks/dacon/model/39-1.3623.hdf5\n",
            "\n",
            "Epoch 00040: val_loss improved from 1.36233 to 1.35768, saving model to content/MyDrive/Colab Notebooks/dacon/model/40-1.3577.hdf5\n",
            "\n",
            "Epoch 00041: val_loss did not improve from 1.35768\n",
            "\n",
            "Epoch 00042: val_loss improved from 1.35768 to 1.34861, saving model to content/MyDrive/Colab Notebooks/dacon/model/42-1.3486.hdf5\n",
            "\n",
            "Epoch 00043: val_loss improved from 1.34861 to 1.33709, saving model to content/MyDrive/Colab Notebooks/dacon/model/43-1.3371.hdf5\n",
            "\n",
            "Epoch 00044: val_loss improved from 1.33709 to 1.33658, saving model to content/MyDrive/Colab Notebooks/dacon/model/44-1.3366.hdf5\n",
            "\n",
            "Epoch 00045: val_loss improved from 1.33658 to 1.32802, saving model to content/MyDrive/Colab Notebooks/dacon/model/45-1.3280.hdf5\n",
            "\n",
            "Epoch 00046: val_loss improved from 1.32802 to 1.31946, saving model to content/MyDrive/Colab Notebooks/dacon/model/46-1.3195.hdf5\n",
            "\n",
            "Epoch 00047: val_loss improved from 1.31946 to 1.30905, saving model to content/MyDrive/Colab Notebooks/dacon/model/47-1.3090.hdf5\n",
            "\n",
            "Epoch 00048: val_loss improved from 1.30905 to 1.30819, saving model to content/MyDrive/Colab Notebooks/dacon/model/48-1.3082.hdf5\n",
            "\n",
            "Epoch 00049: val_loss improved from 1.30819 to 1.30794, saving model to content/MyDrive/Colab Notebooks/dacon/model/49-1.3079.hdf5\n",
            "\n",
            "Epoch 00050: val_loss improved from 1.30794 to 1.29789, saving model to content/MyDrive/Colab Notebooks/dacon/model/50-1.2979.hdf5\n",
            "\n",
            "Epoch 00051: val_loss improved from 1.29789 to 1.29177, saving model to content/MyDrive/Colab Notebooks/dacon/model/51-1.2918.hdf5\n",
            "\n",
            "Epoch 00052: val_loss did not improve from 1.29177\n",
            "\n",
            "Epoch 00053: val_loss improved from 1.29177 to 1.28745, saving model to content/MyDrive/Colab Notebooks/dacon/model/53-1.2874.hdf5\n",
            "\n",
            "Epoch 00054: val_loss did not improve from 1.28745\n",
            "\n",
            "Epoch 00055: val_loss improved from 1.28745 to 1.27471, saving model to content/MyDrive/Colab Notebooks/dacon/model/55-1.2747.hdf5\n",
            "\n",
            "Epoch 00056: val_loss did not improve from 1.27471\n",
            "\n",
            "Epoch 00057: val_loss improved from 1.27471 to 1.26830, saving model to content/MyDrive/Colab Notebooks/dacon/model/57-1.2683.hdf5\n",
            "\n",
            "Epoch 00058: val_loss improved from 1.26830 to 1.25828, saving model to content/MyDrive/Colab Notebooks/dacon/model/58-1.2583.hdf5\n",
            "\n",
            "Epoch 00059: val_loss did not improve from 1.25828\n",
            "\n",
            "Epoch 00060: val_loss improved from 1.25828 to 1.25390, saving model to content/MyDrive/Colab Notebooks/dacon/model/60-1.2539.hdf5\n",
            "\n",
            "Epoch 00061: val_loss improved from 1.25390 to 1.25220, saving model to content/MyDrive/Colab Notebooks/dacon/model/61-1.2522.hdf5\n",
            "\n",
            "Epoch 00062: val_loss improved from 1.25220 to 1.25038, saving model to content/MyDrive/Colab Notebooks/dacon/model/62-1.2504.hdf5\n",
            "\n",
            "Epoch 00063: val_loss improved from 1.25038 to 1.24751, saving model to content/MyDrive/Colab Notebooks/dacon/model/63-1.2475.hdf5\n",
            "\n",
            "Epoch 00064: val_loss did not improve from 1.24751\n",
            "\n",
            "Epoch 00065: val_loss improved from 1.24751 to 1.23867, saving model to content/MyDrive/Colab Notebooks/dacon/model/65-1.2387.hdf5\n",
            "\n",
            "Epoch 00066: val_loss did not improve from 1.23867\n",
            "\n",
            "Epoch 00067: val_loss improved from 1.23867 to 1.23527, saving model to content/MyDrive/Colab Notebooks/dacon/model/67-1.2353.hdf5\n",
            "\n",
            "Epoch 00068: val_loss did not improve from 1.23527\n",
            "\n",
            "Epoch 00069: val_loss did not improve from 1.23527\n",
            "\n",
            "Epoch 00070: val_loss improved from 1.23527 to 1.22594, saving model to content/MyDrive/Colab Notebooks/dacon/model/70-1.2259.hdf5\n",
            "\n",
            "Epoch 00071: val_loss did not improve from 1.22594\n",
            "\n",
            "Epoch 00072: val_loss did not improve from 1.22594\n",
            "\n",
            "Epoch 00073: val_loss did not improve from 1.22594\n",
            "\n",
            "Epoch 00074: val_loss did not improve from 1.22594\n",
            "\n",
            "Epoch 00075: val_loss did not improve from 1.22594\n",
            "\n",
            "Epoch 00076: val_loss did not improve from 1.22594\n",
            "\n",
            "Epoch 00077: val_loss improved from 1.22594 to 1.22543, saving model to content/MyDrive/Colab Notebooks/dacon/model/77-1.2254.hdf5\n",
            "\n",
            "Epoch 00078: val_loss did not improve from 1.22543\n",
            "\n",
            "Epoch 00079: val_loss did not improve from 1.22543\n",
            "\n",
            "Epoch 00080: val_loss did not improve from 1.22543\n",
            "\n",
            "Epoch 00081: val_loss did not improve from 1.22543\n",
            "\n",
            "Epoch 00082: val_loss did not improve from 1.22543\n",
            "\n",
            "Epoch 00083: val_loss did not improve from 1.22543\n",
            "\n",
            "Epoch 00084: val_loss did not improve from 1.22543\n",
            "\n",
            "Epoch 00085: val_loss did not improve from 1.22543\n",
            "\n",
            "Epoch 00086: val_loss did not improve from 1.22543\n",
            "\n",
            "Epoch 00087: val_loss did not improve from 1.22543\n",
            "\n",
            "Epoch 00088: val_loss did not improve from 1.22543\n",
            "\n",
            "Epoch 00089: val_loss did not improve from 1.22543\n",
            "\n",
            "Epoch 00090: val_loss did not improve from 1.22543\n",
            "\n",
            "Epoch 00091: val_loss did not improve from 1.22543\n",
            "\n",
            "Epoch 00092: val_loss did not improve from 1.22543\n",
            "\n",
            "Epoch 00093: val_loss did not improve from 1.22543\n",
            "\n",
            "Epoch 00094: val_loss did not improve from 1.22543\n",
            "\n",
            "Epoch 00095: val_loss did not improve from 1.22543\n",
            "\n",
            "Epoch 00096: val_loss did not improve from 1.22543\n",
            "\n",
            "Epoch 00097: val_loss did not improve from 1.22543\n",
            "\n",
            "Epoch 00098: val_loss did not improve from 1.22543\n",
            "\n",
            "Epoch 00099: val_loss did not improve from 1.22543\n",
            "\n",
            "Epoch 00100: val_loss did not improve from 1.22543\n",
            "\n",
            "Epoch 00101: val_loss did not improve from 1.22543\n",
            "\n",
            "Epoch 00102: val_loss did not improve from 1.22543\n",
            "\n",
            "Epoch 00103: val_loss did not improve from 1.22543\n",
            "\n",
            "Epoch 00104: val_loss did not improve from 1.22543\n",
            "\n",
            "Epoch 00105: val_loss did not improve from 1.22543\n",
            "\n",
            "Epoch 00106: val_loss did not improve from 1.22543\n",
            "\n",
            "Epoch 00107: val_loss did not improve from 1.22543\n",
            "\n",
            "Epoch 00108: val_loss did not improve from 1.22543\n",
            "\n",
            "Epoch 00109: val_loss did not improve from 1.22543\n",
            "\n",
            "Epoch 00110: val_loss did not improve from 1.22543\n",
            "\n",
            "Epoch 00111: val_loss did not improve from 1.22543\n",
            "\n",
            "Epoch 00112: val_loss did not improve from 1.22543\n",
            "\n",
            "Epoch 00113: val_loss did not improve from 1.22543\n",
            "\n",
            "Epoch 00114: val_loss did not improve from 1.22543\n",
            "\n",
            "Epoch 00115: val_loss did not improve from 1.22543\n",
            "\n",
            "Epoch 00116: val_loss did not improve from 1.22543\n",
            "\n",
            "Epoch 00117: val_loss did not improve from 1.22543\n",
            "\n",
            "Epoch 00118: val_loss did not improve from 1.22543\n",
            "\n",
            "Epoch 00119: val_loss did not improve from 1.22543\n",
            "\n",
            "Epoch 00120: val_loss did not improve from 1.22543\n",
            "\n",
            "Epoch 00121: val_loss did not improve from 1.22543\n",
            "\n",
            "Epoch 00122: val_loss did not improve from 1.22543\n",
            "\n",
            "Epoch 00123: val_loss did not improve from 1.22543\n",
            "\n",
            "Epoch 00124: val_loss did not improve from 1.22543\n",
            "\n",
            "Epoch 00125: val_loss did not improve from 1.22543\n",
            "\n",
            "Epoch 00126: val_loss did not improve from 1.22543\n",
            "\n",
            "Epoch 00127: val_loss did not improve from 1.22543\n",
            "\n",
            "Epoch 00128: val_loss did not improve from 1.22543\n",
            "\n",
            "Epoch 00129: val_loss did not improve from 1.22543\n",
            "\n",
            "Epoch 00130: val_loss did not improve from 1.22543\n",
            "\n",
            "Epoch 00131: val_loss did not improve from 1.22543\n",
            "\n",
            "Epoch 00132: val_loss did not improve from 1.22543\n",
            "\n",
            "Epoch 00133: val_loss did not improve from 1.22543\n",
            "\n",
            "Epoch 00134: val_loss did not improve from 1.22543\n",
            "\n",
            "Epoch 00135: val_loss did not improve from 1.22543\n",
            "\n",
            "Epoch 00136: val_loss did not improve from 1.22543\n",
            "\n",
            "Epoch 00137: val_loss did not improve from 1.22543\n",
            "\n",
            "Epoch 00138: val_loss did not improve from 1.22543\n",
            "\n",
            "Epoch 00139: val_loss did not improve from 1.22543\n",
            "\n",
            "Epoch 00140: val_loss did not improve from 1.22543\n",
            "\n",
            "Epoch 00141: val_loss did not improve from 1.22543\n",
            "\n",
            "Epoch 00142: val_loss did not improve from 1.22543\n",
            "\n",
            "Epoch 00143: val_loss did not improve from 1.22543\n",
            "\n",
            "Epoch 00144: val_loss did not improve from 1.22543\n",
            "\n",
            "Epoch 00145: val_loss did not improve from 1.22543\n",
            "\n",
            "Epoch 00146: val_loss did not improve from 1.22543\n",
            "\n",
            "Epoch 00147: val_loss did not improve from 1.22543\n",
            "\n",
            "Epoch 00148: val_loss did not improve from 1.22543\n",
            "\n",
            "Epoch 00149: val_loss did not improve from 1.22543\n",
            "\n",
            "Epoch 00150: val_loss did not improve from 1.22543\n",
            "\n",
            "Epoch 00151: val_loss did not improve from 1.22543\n",
            "\n",
            "Epoch 00152: val_loss did not improve from 1.22543\n",
            "\n",
            "Epoch 00153: val_loss did not improve from 1.22543\n",
            "\n",
            "Epoch 00154: val_loss did not improve from 1.22543\n",
            "\n",
            "Epoch 00155: val_loss did not improve from 1.22543\n",
            "\n",
            "Epoch 00156: val_loss did not improve from 1.22543\n",
            "\n",
            "Epoch 00157: val_loss did not improve from 1.22543\n",
            "\n",
            "Epoch 00158: val_loss did not improve from 1.22543\n",
            "\n",
            "Epoch 00159: val_loss did not improve from 1.22543\n",
            "\n",
            "Epoch 00160: val_loss did not improve from 1.22543\n",
            "\n",
            "Epoch 00161: val_loss did not improve from 1.22543\n",
            "\n",
            "Epoch 00162: val_loss did not improve from 1.22543\n",
            "\n",
            "Epoch 00163: val_loss did not improve from 1.22543\n",
            "\n",
            "Epoch 00164: val_loss did not improve from 1.22543\n",
            "\n",
            "Epoch 00165: val_loss did not improve from 1.22543\n",
            "\n",
            "Epoch 00166: val_loss did not improve from 1.22543\n",
            "\n",
            "Epoch 00167: val_loss did not improve from 1.22543\n",
            "\n",
            "Epoch 00168: val_loss did not improve from 1.22543\n",
            "\n",
            "Epoch 00169: val_loss did not improve from 1.22543\n",
            "\n",
            "Epoch 00170: val_loss did not improve from 1.22543\n",
            "\n",
            "Epoch 00171: val_loss did not improve from 1.22543\n",
            "\n",
            "Epoch 00172: val_loss did not improve from 1.22543\n",
            "\n",
            "Epoch 00173: val_loss did not improve from 1.22543\n",
            "\n",
            "Epoch 00174: val_loss did not improve from 1.22543\n",
            "\n",
            "Epoch 00175: val_loss did not improve from 1.22543\n",
            "\n",
            "Epoch 00176: val_loss did not improve from 1.22543\n",
            "\n",
            "Epoch 00177: val_loss did not improve from 1.22543\n"
          ],
          "name": "stdout"
        },
        {
          "output_type": "execute_result",
          "data": {
            "text/plain": [
              "<tensorflow.python.keras.callbacks.History at 0x7f4682f89b38>"
            ]
          },
          "metadata": {
            "tags": []
          },
          "execution_count": 40
        }
      ]
    },
    {
      "cell_type": "markdown",
      "metadata": {
        "id": "rU2ykMYW8f93"
      },
      "source": [
        "## prediction & 저장\r\n",
        "- model: rf_model, xg_model, etc."
      ]
    },
    {
      "cell_type": "code",
      "metadata": {
        "id": "QTUO7crAPmXW",
        "colab": {
          "base_uri": "https://localhost:8080/"
        },
        "outputId": "3279fccb-1adf-4301-d022-f61ac6b470ce"
      },
      "source": [
        "xg_model.fit(X_train, y_train)\r\n",
        "\r\n",
        "# X 원본 시계열 데이터 사용했을 때, test_X 사용\r\n",
        "# prediction = xg_model.predict(test_X)\r\n",
        "\r\n",
        "# X_train 합친 데이터(Max, Min, etc.) 사용했을 때, X_test 사용\r\n",
        "prediction = xg_model.predict(X_test)\r\n",
        "proba = xg_model.predict_proba(X_test)\r\n",
        "\r\n",
        "# test_X.shape\r\n",
        "# X_test.shape\r\n",
        "print(prediction.shape, proba.shape)"
      ],
      "execution_count": null,
      "outputs": [
        {
          "output_type": "stream",
          "text": [
            "(782,) (782, 61)\n"
          ],
          "name": "stdout"
        }
      ]
    },
    {
      "cell_type": "code",
      "metadata": {
        "id": "wk3ox7BTYOjB"
      },
      "source": [
        "# submission.iloc[:,1:]=prediction      # sequential 사용시\r\n",
        "submission.iloc[:,1:]=proba             # xg_model, rf_model 등\r\n",
        "submission.to_csv('baseline_submission12.csv', index=False)"
      ],
      "execution_count": null,
      "outputs": []
    },
    {
      "cell_type": "code",
      "metadata": {
        "id": "9wpfP2XBr3gH"
      },
      "source": [
        ""
      ],
      "execution_count": null,
      "outputs": []
    }
  ]
}