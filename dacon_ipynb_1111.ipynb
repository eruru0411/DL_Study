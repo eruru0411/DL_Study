{
  "nbformat": 4,
  "nbformat_minor": 0,
  "metadata": {
    "colab": {
      "name": "dacon.ipynb 1111",
      "provenance": [],
      "collapsed_sections": [],
      "include_colab_link": true
    },
    "kernelspec": {
      "name": "python3",
      "display_name": "Python 3"
    }
  },
  "cells": [
    {
      "cell_type": "markdown",
      "metadata": {
        "id": "view-in-github",
        "colab_type": "text"
      },
      "source": [
        "<a href=\"https://colab.research.google.com/github/eruru0411/git-test/blob/master/dacon_ipynb_1111.ipynb\" target=\"_parent\"><img src=\"https://colab.research.google.com/assets/colab-badge.svg\" alt=\"Open In Colab\"/></a>"
      ]
    },
    {
      "cell_type": "code",
      "metadata": {
        "id": "VXyzxncpp_KU"
      },
      "source": [
        "# 1. EDA  : 데이터 사전 탐색\r\n",
        "#    0) Dataframe 살펴보기\r\n",
        "#    1) 차트그리기\r\n",
        "# 2. 결측치/이상치 --> 처리\r\n",
        "# 3. 피쳐 전처리/가공\r\n",
        "# 4. 학습/평가 : f1, auc\r\n",
        "# 5. 검증(GridSearchCV, confusion_matrix)\r\n",
        "\r\n",
        "import pandas  as pd\r\n",
        "import numpy   as np\r\n",
        "import seaborn as sns\r\n",
        "import matplotlib.pyplot as plt\r\n",
        "\r\n",
        "from scipy            import stats\r\n",
        "from sklearn.ensemble import RandomForestClassifier\r\n",
        "from sklearn.metrics  import confusion_matrix, accuracy_score, f1_score, roc_auc_score,\\\r\n",
        "                             precision_score,recall_score, roc_curve, classification_report,precision_recall_curve\r\n",
        "from sklearn                 import preprocessing\r\n",
        "from sklearn.preprocessing   import StandardScaler,RobustScaler,MinMaxScaler, Binarizer, OneHotEncoder, LabelEncoder\r\n",
        "from sklearn.model_selection import train_test_split, cross_val_score, cross_validate, GridSearchCV, KFold\r\n",
        "import warnings\r\n",
        "warnings.filterwarnings(action=\"ignore\")\r\n",
        "barline = \"\\n============================================\"\r\n",
        "e = \"\\n\"\r\n",
        "\r\n",
        "# Dataframe 확인 ---------------------------------------\r\n",
        "def MyCheckDataframe(df, target=\"target\") :\r\n",
        "    print(\"Check Dataframe ----------------------------\")\r\n",
        "    print(\"Shape :\", e, df.shape)\r\n",
        "    print(\"Info  :\", e, df.info())\r\n",
        "    print(\"Head  :\", e, df.head())\r\n",
        "    print(\"Count :\", e, df[target].value_counts())\r\n",
        "\r\n",
        "    y = df[target]\r\n",
        "    X = df.drop(target, axis=1)\r\n",
        "    print(\"Target Shape :\", e, X.shape, y.shape, barline)\r\n",
        "    return X, y\r\n",
        "# X,y = CHECK_DATAFRAME(df, target=\"\")\r\n",
        "\r\n",
        "\r\n",
        "# -------------------------------------\r\n",
        "# 4-2. IQR : 25%~75% 범위 값\r\n",
        "# -------------------------------------\r\n",
        "def MyCheckOutlier(df=None, column=None, print=None):\r\n",
        "    # target 값과 상관관계가 높은 열을 우선적으로 진행\r\n",
        "    for k, v in df.items():\r\n",
        "        Q1 = v.quantile(0.25)\r\n",
        "        Q3 = v.quantile(0.75)\r\n",
        "        IQR = Q3 - Q1\r\n",
        "        IQR_weight = IQR * 1.5\r\n",
        "        minimum = Q1 - IQR_weight\r\n",
        "        maximum = Q3 + IQR_weight\r\n",
        "        outlier_idx = v[(v < minimum) | (v> maximum)].index\r\n",
        "\r\n",
        "        if print == True:\r\n",
        "            perc = np.shape(outlier_idx)[0] * 100.0 / np.shape(df)[0]\r\n",
        "            print(\"Column %s outliers = %.2f%%\" % (k, perc))\r\n",
        "\r\n",
        "    print(barline)\r\n",
        "    return outlier_idx\r\n",
        "    # Q1  = np.percentile(df[column].values, 25)\r\n",
        "    # Q3  = np.percentile(df[column].values, 75)\r\n",
        "    # IQR = Q3 - Q1\r\n",
        "    # IQR_weight  = IQR * 1.5\r\n",
        "    # minimum     = Q1 - IQR_weight\r\n",
        "    # maximum     = Q3 + IQR_weight\r\n",
        "    # outlier_idx = df[column][  (df[column] < minimum) | (df[column] > maximum)  ].index\r\n",
        "\r\n",
        "# outlier_idx = CHECK_OUTLIER(df=df, column=col)\r\n",
        "# print(col, oulier_idx)\r\n",
        "# df.drop(outlier_idx, axis=0, inplace=True)\r\n",
        "    #---------------------------------------------\r\n",
        "    # numeric_columns = df.dtypes[df.dtypes != 'object'].index\r\n",
        "    # for i, col in enumerate(numeric_columns) :\r\n",
        "    #     oulier_idx = CHECK_OUTLIER(df=df, column=col)\r\n",
        "    #     print(col , oulier_idx)\r\n",
        "    #     #df.drop(outlier_idx, axis=0, inplace=True)\r\n",
        "\r\n",
        "\r\n",
        "def MyCheckZeros(X):\r\n",
        "    print(\"Check Zeros --------------------------------\")\r\n",
        "    for col in X.columns:\r\n",
        "        gcnt = X[col][X[col] == 0].count()\r\n",
        "        print(col, \":\", gcnt, \"(\", np.round(gcnt / X.shape[0] * 100, 2), \")\")\r\n",
        "    print(barline)\r\n",
        "\r\n",
        "def MyCheckNull(X):\r\n",
        "    print(\"Check Null ---------------------------------\")\r\n",
        "    # print(df.isnull().sum())\r\n",
        "    for col in X.columns:\r\n",
        "        gcnt = X[col][X[col] == np.nan].count()\r\n",
        "        print(col, \":\", gcnt, \"(\", np.round(gcnt / X.shape[0] * 100, 2), \")\")\r\n",
        "    print(barline)\r\n",
        "\r\n",
        "def MyScores(y_test, pred, proba, str=None) :\r\n",
        "    print(\"Scores : {} ---------\" .format(str))\r\n",
        "    acc       = accuracy_score(y_test, pred)\r\n",
        "    f1        = f1_score(y_test, pred)\r\n",
        "    precision = precision_score(y_test, pred)\r\n",
        "    recall    = recall_score(y_test, pred)\r\n",
        "    auc       = roc_auc_score(y_test, proba[:, 1].reshape(-1, 1))\r\n",
        "    print(\"정확도{:.4f}  F1 {:.4f}=(정밀도{:.4f} 재현률{:.4f}) auc {:.4f}\" .format(acc, f1, precision, recall, auc))\r\n",
        "    cf_matrix = confusion_matrix(y_test, pred)\r\n",
        "    print(\"Confusion Matrix\", e, cf_matrix, barline)\r\n",
        "\r\n",
        "\r\n",
        "def MySplitFitPredict(model, X, y, str=None, rate=0.2, prc=False, roc=False) :\r\n",
        "    X_train ,X_test , y_train, y_test = train_test_split(X, y, test_size=rate, random_state=121)\r\n",
        "    model.fit(X_train, y_train)\r\n",
        "    pred  = model.predict(X_test)\r\n",
        "    proba = model.predict_proba(X_test)\r\n",
        "\r\n",
        "    MyScores(y_test, pred, proba, str)\r\n",
        "\r\n",
        "    if prc == True:\r\n",
        "        MyChartPrcRclCurve(y_test, proba)\r\n",
        "    if roc == True:\r\n",
        "        MyChartRocCurve(y_test, proba)\r\n",
        "    return proba # X_train, X_test, y_train, y_test, proba # , pred, proba\r\n",
        "# rf_model = RandomForestClassifier()\r\n",
        "# SPLIT_FIT_PREDICT(rf_model, X, y, str=\"최초점수\", 0.5)\r\n",
        "# SPLIT_FIT_PREDICT(rf_model, X, y)\r\n",
        "\r\n",
        "\r\n",
        "def MyChartHeatmap(df, targetClass=None, topn=0):\r\n",
        "    plt.figure(figsize=(10,6))\r\n",
        "    if   topn > 0 :\r\n",
        "        idx = df.corr().nlargest(topn, targetClass).index\r\n",
        "        print(\"Correlation: Top\", topn, e, idx, barline)\r\n",
        "        sns.heatmap(df[idx].corr(), annot=True, fmt=\".2g\", cmap=\"Blues\")\r\n",
        "    elif topn < 0 :\r\n",
        "        idx = df.corr().nsmallest(-1 * topn, targetClass).index\r\n",
        "        print(\"Correlation: Bottom\", -topn, e, idx, barline)\r\n",
        "        sns.heatmap(df[idx].corr(), annot=True, fmt=\".2g\", cmap=\"Blues\")\r\n",
        "        # cols = ['V12', 'V14', 'V10', 'V17', 'V3','Class']\r\n",
        "        # sns.heatmap(df[cols].corr(), annot=True, fmt=\".2g\", cmap=\"Blues\")\r\n",
        "    else :\r\n",
        "        sns.heatmap(df.corr(), annot=True, fmt=\".2g\", cmap=\"Blues\")\r\n",
        "    plt.show()\r\n",
        "# CHART_HEATMAP(df, 5)\r\n",
        "# CHART_HEATMAP(df, -5)\r\n",
        "# CHART_HEATMAP(df)\r\n",
        "\r\n",
        "def MyCrossValidate(model, X, y, cv=5) :\r\n",
        "    print(\"Cross Validation ---------------------------\")\r\n",
        "    my_score   = {\"acc\":\"accuracy\", \"f1\":\"f1\"}\r\n",
        "    score_list = cross_validate(model, X, y, scoring=my_score, cv=5, verbose=0)\r\n",
        "    score_df   = pd.DataFrame(score_list)\r\n",
        "    print(\"cross_validation 평균 정확도 : \" , score_df[\"test_acc\"].mean())\r\n",
        "    print(\"cross_validation 평균 f1    : \"    , score_df[\"test_f1\"].mean())\r\n",
        "    print(barline)\r\n",
        "# CROSS_VALIDATION(model, X, y)\r\n",
        "\r\n",
        "my_hyper_param = {  \"n_estimators\"     :[100, 300],\r\n",
        "                    \"max_depth\"        :[4, 5, 6],\r\n",
        "                    \"min_samples_leaf\" :[2, 3, 4],\r\n",
        "                    \"random_state\"     :[121,]    }\r\n",
        "\r\n",
        "def MyGridSearchCV(my_hyper_param, model, X, y) :\r\n",
        "    print(\"GridSerchCV --------------------------------\")\r\n",
        "    X_train, X_test, y_train, y_test = train_test_split(X, y, test_size=0.2, random_state=121)\r\n",
        "    my_score  = {\"acc\": \"accuracy\", \"f1\": \"f1\"}\r\n",
        "    gcv_model = GridSearchCV(model, param_grid=my_hyper_param, scoring=my_score, refit=\"f1\", cv=5, verbose=0)\r\n",
        "    gcv_model.fit(X_train, y_train)\r\n",
        "\r\n",
        "    # print(\"best_estimator:\", gcv_model.best_estimator_)\r\n",
        "    print(\"best_params :\", gcv_model.best_params_)\r\n",
        "    print(\"best_score  :\", gcv_model.best_score_)\r\n",
        "    print(\"GridSearchCV 평균 정확도 : \", gcv_model.cv_results_[\"mean_test_acc\"].mean())  #mean_test_(본인의score키값)\r\n",
        "    print(\"GridSearchCV 평균 F1    : \", gcv_model.cv_results_[\"mean_test_f1\"].mean())\r\n",
        "    print(barline)\r\n",
        "# my_hyper_param = {  \"n_estimators\"     :[100]}\r\n",
        "# GRIDSEARCHCV(my_hyper_param, model, X_train, y_train)\r\n",
        "\r\n",
        "\r\n",
        "def MyGroupFillNa(bycol, cols, tcol):\r\n",
        "    dict = df.groupby(by=[bycol])[cols].mean().astype(np.int32).to_dict()\r\n",
        "    fill_mean_func = lambda gname: gname.fillna(dict[bycol][gname[tcol]])\r\n",
        "    df   = df.groupby(bycol).apply(fill_mean_func)\r\n",
        "    return df\r\n",
        "# df[\"Name2\"] = df[\"Name\"].str.extract(\"([A-Za-z]+)\\.\")\r\n",
        "# dict = df.groupby(by=[\"Name2\"])[[\"Name2\",\"Age\"]].mean().astype(np.int32).to_dict()\r\n",
        "# fill_mean_func = lambda gname: gname.fillna(dict['Age'][gname.name])\r\n",
        "# df = df.groupby('Name2').apply(fill_mean_func)\r\n",
        "# df = GROUP_FILLNA_MEAN(\"Name2\",[\"Name2\",\"Age\"],\"name\"\r\n",
        "\r\n",
        "def MyReplace(target_df, a, b) :\r\n",
        "    target_df = target_df.replace(a, b)\r\n",
        "    return target_df\r\n",
        "#DF_REPLACE(X[[\"Insulin\", \"BMI\"]], 0, X[[\"Insulin\", \"BMI\"]].median())\r\n",
        "#X[\"BMI\"] = DF_REPLACE(X[\"BMI\"], 0, 99)\r\n",
        "\r\n",
        "# def MyScaler(scaler_model):\r\n",
        "#     scaler   = scaler_model\r\n",
        "#     X_scaler = scaler.fit_transform(X)\r\n",
        "#     return X_scaler\r\n",
        "# # X_scaler = SCALER(StandardScaler())\r\n",
        "def MyScaler(X):\r\n",
        "    scaler   = StandardScaler()\r\n",
        "    X_scaler = scaler.fit_transform(X)\r\n",
        "    return X_scaler\r\n",
        "# X_scaler = SCALER(StandardScaler())\r\n",
        "\r\n",
        "def MyChartPrcRclCurve(y_test, proba):\r\n",
        "    precision, recall, th = precision_recall_curve(y_test, proba[:, 1])\r\n",
        "    print(len(precision), len(recall), len(th), barline)\r\n",
        "    plt.plot(th, precision[:len(th)], label=\"precision\")\r\n",
        "    plt.plot(th, recall[:len(th)],    label=\"recall\")\r\n",
        "    plt.xlabel(\"threadshold\"); plt.ylabel(\"precision & recall value\")\r\n",
        "    plt.legend()  # plt.legend([\"precision\",\"recall\"])\r\n",
        "    plt.grid()\r\n",
        "    plt.show()\r\n",
        "\r\n",
        "def MyChartRocCurve(y_test, proba):\r\n",
        "    fpr, tpr, th = roc_curve(y_test, proba[:, 1])\r\n",
        "    plt.plot(fpr, tpr, label='ROC')\r\n",
        "    plt.plot([0, 1], [0, 1], label='th:0.5')\r\n",
        "    # plt.title(auc)\r\n",
        "    plt.xlabel(\"FPR\"); plt.ylabel(\"TPR(recall)\")\r\n",
        "    plt.grid()\r\n",
        "    plt.show()\r\n",
        "\r\n",
        "\r\n",
        "# ------------------------------------------------\r\n",
        "# precision_recall_curve : 임계치 튜닝을 통한 점수 보정\r\n",
        "#-------------------------------------------------\r\n",
        "ths = [.4, .43, .45, .47, .49, .51, .53]\r\n",
        "def MyPrcRclTune(model, X, y, ths=ths):\r\n",
        "    for th in ths:\r\n",
        "        print(\"N : P =\", th, \":\", 1 - th)\r\n",
        "        prob = MySplitFitPredict(model, X, y, prc=True)\r\n",
        "        print(prob[4])\r\n",
        "        bn = Binarizer(threshold=ths)\r\n",
        "        fit_trans = bn.fit_transform(prob[:, 1].reshape(-1, 1))  # 세로로 reshape\r\n",
        "\r\n",
        "        auc = roc_auc_score(y_test, prob[:, 1].reshape(-1, 1))\r\n",
        "        print(auc)\r\n",
        "\r\n",
        "# ------------------------------------------------\r\n",
        "# boxplot : Boston-house-prices 사용\r\n",
        "# distplot: Boston-house-prices 사용\r\n",
        "#-------------------------------------------------\r\n",
        "def MyPlots(data, plot, ncols=7, nrows=2):\r\n",
        "    fig, axs = plt.subplots(ncols=ncols, nrows=nrows, figsize=(10, 10))\r\n",
        "    index = 0\r\n",
        "    axs = axs.flatten()     # 1차원으로 바꿔주기\r\n",
        "    for k, v in data.items():\r\n",
        "        if   plot == 'distplot':\r\n",
        "            sns.distplot(v, ax=axs[index])\r\n",
        "        elif plot == 'boxplot':\r\n",
        "            sns.boxplot(y=k, data=data, ax=axs[index])\r\n",
        "        index += 1\r\n",
        "    plt.tight_layout(pad=0.4, w_pad=0.5, h_pad=5.0)"
      ],
      "execution_count": 1,
      "outputs": []
    },
    {
      "cell_type": "code",
      "metadata": {
        "id": "pYNcmf9Rqwev"
      },
      "source": [
        "# df_feature = pd.read_csv(\"train_features.csv\")\r\n",
        "# df_labels  = pd.read_csv(\"train_labels.csv\")"
      ],
      "execution_count": 2,
      "outputs": []
    },
    {
      "cell_type": "code",
      "metadata": {
        "id": "Q6LYK031q9ak"
      },
      "source": [
        "# df_feature.info()\r\n",
        "# df_labels.info()"
      ],
      "execution_count": 3,
      "outputs": []
    },
    {
      "cell_type": "code",
      "metadata": {
        "id": "uA99su3DrMPa"
      },
      "source": [
        "# df = pd.merge(df_feature, df_labels, on='id', how='outer')\r\n",
        "# df.head(100)"
      ],
      "execution_count": 4,
      "outputs": []
    },
    {
      "cell_type": "code",
      "metadata": {
        "id": "BhwCAaEmLXPj"
      },
      "source": [
        "# target_col = [\"label\", \"label_desc\"]\r\n",
        "# X_train = df.drop(target_col, axis=1)\r\n",
        "# y_train = df[\"label\"]\r\n",
        "\r\n",
        "# X_train.info()\r\n",
        "# y_train.head()"
      ],
      "execution_count": 5,
      "outputs": []
    },
    {
      "cell_type": "markdown",
      "metadata": {
        "id": "d20bYyhHFUtK"
      },
      "source": [
        "## 1. 데이터 불러오기"
      ]
    },
    {
      "cell_type": "code",
      "metadata": {
        "id": "YWj2_wkeFUN9"
      },
      "source": [
        "# train       = pd.read_csv('train_features.csv')\r\n",
        "# train_label = pd.read_csv('train_labels.csv')\r\n",
        "# test        = pd.read_csv('test_features.csv')\r\n",
        "# submission  = pd.read_csv('sample_submission.csv')"
      ],
      "execution_count": 6,
      "outputs": []
    },
    {
      "cell_type": "code",
      "metadata": {
        "id": "NHqWkk53I_9u",
        "colab": {
          "base_uri": "https://localhost:8080/"
        },
        "outputId": "245560a9-ba23-41d7-f1a7-9483da96527f"
      },
      "source": [
        "from google.colab import drive\r\n",
        "drive.mount('/content/drive')"
      ],
      "execution_count": 7,
      "outputs": [
        {
          "output_type": "stream",
          "text": [
            "Mounted at /content/drive\n"
          ],
          "name": "stdout"
        }
      ]
    },
    {
      "cell_type": "code",
      "metadata": {
        "id": "j99o09JiJfed"
      },
      "source": [
        "train       = pd.read_csv('/content/drive/MyDrive/Colab Notebooks/train_features.csv')\r\n",
        "train_label = pd.read_csv('/content/drive/MyDrive/Colab Notebooks/train_labels.csv')\r\n",
        "test        = pd.read_csv('/content/drive/MyDrive/Colab Notebooks/test_features.csv')\r\n",
        "submission  = pd.read_csv('/content/drive/MyDrive/Colab Notebooks/sample_submission.csv')"
      ],
      "execution_count": 8,
      "outputs": []
    },
    {
      "cell_type": "markdown",
      "metadata": {
        "id": "fwHn605j_Qs3"
      },
      "source": [
        "## 2. 데이터 탐색"
      ]
    },
    {
      "cell_type": "markdown",
      "metadata": {
        "id": "Qdob8Mlo_gKV"
      },
      "source": [
        "## 3. 데이터 전처리"
      ]
    },
    {
      "cell_type": "code",
      "metadata": {
        "id": "_WB_KxSFMEpG"
      },
      "source": [
        "# id reset_index"
      ],
      "execution_count": 9,
      "outputs": []
    },
    {
      "cell_type": "markdown",
      "metadata": {
        "id": "FKqO1E0mMFGW"
      },
      "source": [
        "#### 내꺼"
      ]
    },
    {
      "cell_type": "code",
      "metadata": {
        "id": "lvebrVkd_emF"
      },
      "source": [
        "features = ['id', 'acc_x', 'acc_y', 'acc_z', 'gy_x', 'gy_y', 'gy_z']\r\n",
        "X_train = train[features].groupby('id').agg(['max', 'min', 'median', 'std'])   #, 'median', 'std'])\r\n",
        "X_test  = test[features].groupby('id').agg(['max', 'min', 'median', 'std'])    #, 'median', 'std'])"
      ],
      "execution_count": 10,
      "outputs": []
    },
    {
      "cell_type": "code",
      "metadata": {
        "id": "oy7cERd0_kKl",
        "colab": {
          "base_uri": "https://localhost:8080/"
        },
        "outputId": "65bd390f-da04-43fe-98a8-d019b37c2133"
      },
      "source": [
        "X_train.shape, X_test.shape\r\n",
        "# X_train.head()"
      ],
      "execution_count": 11,
      "outputs": [
        {
          "output_type": "execute_result",
          "data": {
            "text/plain": [
              "((3125, 24), (782, 24))"
            ]
          },
          "metadata": {
            "tags": []
          },
          "execution_count": 11
        }
      ]
    },
    {
      "cell_type": "code",
      "metadata": {
        "id": "2M8nr41fOVQQ",
        "colab": {
          "base_uri": "https://localhost:8080/",
          "height": 348
        },
        "outputId": "373c3363-a9cf-469a-bcbe-f47881b97b4e"
      },
      "source": [
        "X_train.describe()"
      ],
      "execution_count": 12,
      "outputs": [
        {
          "output_type": "execute_result",
          "data": {
            "text/html": [
              "<div>\n",
              "<style scoped>\n",
              "    .dataframe tbody tr th:only-of-type {\n",
              "        vertical-align: middle;\n",
              "    }\n",
              "\n",
              "    .dataframe tbody tr th {\n",
              "        vertical-align: top;\n",
              "    }\n",
              "\n",
              "    .dataframe thead tr th {\n",
              "        text-align: left;\n",
              "    }\n",
              "</style>\n",
              "<table border=\"1\" class=\"dataframe\">\n",
              "  <thead>\n",
              "    <tr>\n",
              "      <th></th>\n",
              "      <th colspan=\"4\" halign=\"left\">acc_x</th>\n",
              "      <th colspan=\"4\" halign=\"left\">acc_y</th>\n",
              "      <th colspan=\"4\" halign=\"left\">acc_z</th>\n",
              "      <th colspan=\"4\" halign=\"left\">gy_x</th>\n",
              "      <th colspan=\"4\" halign=\"left\">gy_y</th>\n",
              "      <th colspan=\"4\" halign=\"left\">gy_z</th>\n",
              "    </tr>\n",
              "    <tr>\n",
              "      <th></th>\n",
              "      <th>max</th>\n",
              "      <th>min</th>\n",
              "      <th>median</th>\n",
              "      <th>std</th>\n",
              "      <th>max</th>\n",
              "      <th>min</th>\n",
              "      <th>median</th>\n",
              "      <th>std</th>\n",
              "      <th>max</th>\n",
              "      <th>min</th>\n",
              "      <th>median</th>\n",
              "      <th>std</th>\n",
              "      <th>max</th>\n",
              "      <th>min</th>\n",
              "      <th>median</th>\n",
              "      <th>std</th>\n",
              "      <th>max</th>\n",
              "      <th>min</th>\n",
              "      <th>median</th>\n",
              "      <th>std</th>\n",
              "      <th>max</th>\n",
              "      <th>min</th>\n",
              "      <th>median</th>\n",
              "      <th>std</th>\n",
              "    </tr>\n",
              "  </thead>\n",
              "  <tbody>\n",
              "    <tr>\n",
              "      <th>count</th>\n",
              "      <td>3125.000000</td>\n",
              "      <td>3125.000000</td>\n",
              "      <td>3125.000000</td>\n",
              "      <td>3125.000000</td>\n",
              "      <td>3125.000000</td>\n",
              "      <td>3125.000000</td>\n",
              "      <td>3125.000000</td>\n",
              "      <td>3125.000000</td>\n",
              "      <td>3125.000000</td>\n",
              "      <td>3125.000000</td>\n",
              "      <td>3125.000000</td>\n",
              "      <td>3125.000000</td>\n",
              "      <td>3125.000000</td>\n",
              "      <td>3125.000000</td>\n",
              "      <td>3125.000000</td>\n",
              "      <td>3125.000000</td>\n",
              "      <td>3125.000000</td>\n",
              "      <td>3125.000000</td>\n",
              "      <td>3125.000000</td>\n",
              "      <td>3125.000000</td>\n",
              "      <td>3125.000000</td>\n",
              "      <td>3125.000000</td>\n",
              "      <td>3125.000000</td>\n",
              "      <td>3125.000000</td>\n",
              "    </tr>\n",
              "    <tr>\n",
              "      <th>mean</th>\n",
              "      <td>0.589042</td>\n",
              "      <td>-1.593947</td>\n",
              "      <td>-0.463145</td>\n",
              "      <td>0.382066</td>\n",
              "      <td>0.737050</td>\n",
              "      <td>-1.120306</td>\n",
              "      <td>-0.161527</td>\n",
              "      <td>0.293806</td>\n",
              "      <td>0.776394</td>\n",
              "      <td>-0.777862</td>\n",
              "      <td>0.063373</td>\n",
              "      <td>0.265876</td>\n",
              "      <td>186.062035</td>\n",
              "      <td>-178.650048</td>\n",
              "      <td>-2.127839</td>\n",
              "      <td>48.550142</td>\n",
              "      <td>176.165657</td>\n",
              "      <td>-161.839446</td>\n",
              "      <td>-0.713121</td>\n",
              "      <td>54.520131</td>\n",
              "      <td>157.865820</td>\n",
              "      <td>-146.217440</td>\n",
              "      <td>0.098485</td>\n",
              "      <td>50.507994</td>\n",
              "    </tr>\n",
              "    <tr>\n",
              "      <th>std</th>\n",
              "      <td>0.998574</td>\n",
              "      <td>1.254887</td>\n",
              "      <td>0.573489</td>\n",
              "      <td>0.308692</td>\n",
              "      <td>0.946714</td>\n",
              "      <td>1.047121</td>\n",
              "      <td>0.459723</td>\n",
              "      <td>0.247211</td>\n",
              "      <td>0.676200</td>\n",
              "      <td>0.883825</td>\n",
              "      <td>0.366576</td>\n",
              "      <td>0.183703</td>\n",
              "      <td>154.524395</td>\n",
              "      <td>148.587300</td>\n",
              "      <td>10.670343</td>\n",
              "      <td>34.878612</td>\n",
              "      <td>158.793048</td>\n",
              "      <td>137.912214</td>\n",
              "      <td>9.771372</td>\n",
              "      <td>48.520016</td>\n",
              "      <td>139.579078</td>\n",
              "      <td>127.974229</td>\n",
              "      <td>10.418103</td>\n",
              "      <td>49.008674</td>\n",
              "    </tr>\n",
              "    <tr>\n",
              "      <th>min</th>\n",
              "      <td>-1.010246</td>\n",
              "      <td>-8.838427</td>\n",
              "      <td>-2.531971</td>\n",
              "      <td>0.001731</td>\n",
              "      <td>-0.928830</td>\n",
              "      <td>-9.299714</td>\n",
              "      <td>-1.320460</td>\n",
              "      <td>0.001971</td>\n",
              "      <td>-0.945226</td>\n",
              "      <td>-8.316425</td>\n",
              "      <td>-2.086342</td>\n",
              "      <td>0.001563</td>\n",
              "      <td>-9.172903</td>\n",
              "      <td>-1811.126713</td>\n",
              "      <td>-168.499180</td>\n",
              "      <td>0.030033</td>\n",
              "      <td>-6.562988</td>\n",
              "      <td>-1594.255615</td>\n",
              "      <td>-75.921063</td>\n",
              "      <td>0.030975</td>\n",
              "      <td>-4.233586</td>\n",
              "      <td>-1346.142960</td>\n",
              "      <td>-134.505407</td>\n",
              "      <td>0.030056</td>\n",
              "    </tr>\n",
              "    <tr>\n",
              "      <th>25%</th>\n",
              "      <td>-0.076559</td>\n",
              "      <td>-1.829921</td>\n",
              "      <td>-0.927887</td>\n",
              "      <td>0.167460</td>\n",
              "      <td>0.155942</td>\n",
              "      <td>-1.400192</td>\n",
              "      <td>-0.471325</td>\n",
              "      <td>0.152780</td>\n",
              "      <td>0.394348</td>\n",
              "      <td>-1.027230</td>\n",
              "      <td>-0.142816</td>\n",
              "      <td>0.159620</td>\n",
              "      <td>85.275028</td>\n",
              "      <td>-223.180930</td>\n",
              "      <td>-5.920046</td>\n",
              "      <td>26.185176</td>\n",
              "      <td>79.705489</td>\n",
              "      <td>-207.041443</td>\n",
              "      <td>-3.018636</td>\n",
              "      <td>26.705876</td>\n",
              "      <td>65.219945</td>\n",
              "      <td>-189.667573</td>\n",
              "      <td>-2.394793</td>\n",
              "      <td>22.234081</td>\n",
              "    </tr>\n",
              "    <tr>\n",
              "      <th>50%</th>\n",
              "      <td>0.510224</td>\n",
              "      <td>-1.456669</td>\n",
              "      <td>-0.678501</td>\n",
              "      <td>0.341742</td>\n",
              "      <td>0.510597</td>\n",
              "      <td>-0.964034</td>\n",
              "      <td>-0.229428</td>\n",
              "      <td>0.243278</td>\n",
              "      <td>0.710177</td>\n",
              "      <td>-0.635558</td>\n",
              "      <td>0.028567</td>\n",
              "      <td>0.247587</td>\n",
              "      <td>154.717766</td>\n",
              "      <td>-145.614987</td>\n",
              "      <td>-1.433087</td>\n",
              "      <td>44.653660</td>\n",
              "      <td>141.333844</td>\n",
              "      <td>-134.146042</td>\n",
              "      <td>-0.368975</td>\n",
              "      <td>44.621057</td>\n",
              "      <td>122.871139</td>\n",
              "      <td>-115.613567</td>\n",
              "      <td>0.018462</td>\n",
              "      <td>39.532874</td>\n",
              "    </tr>\n",
              "    <tr>\n",
              "      <th>75%</th>\n",
              "      <td>1.069205</td>\n",
              "      <td>-1.104682</td>\n",
              "      <td>-0.113224</td>\n",
              "      <td>0.528772</td>\n",
              "      <td>1.124048</td>\n",
              "      <td>-0.516685</td>\n",
              "      <td>0.093323</td>\n",
              "      <td>0.348918</td>\n",
              "      <td>0.979544</td>\n",
              "      <td>-0.358329</td>\n",
              "      <td>0.289416</td>\n",
              "      <td>0.333782</td>\n",
              "      <td>239.367080</td>\n",
              "      <td>-86.511903</td>\n",
              "      <td>1.767329</td>\n",
              "      <td>60.438852</td>\n",
              "      <td>225.964808</td>\n",
              "      <td>-78.560098</td>\n",
              "      <td>2.166743</td>\n",
              "      <td>66.297175</td>\n",
              "      <td>206.678437</td>\n",
              "      <td>-63.511913</td>\n",
              "      <td>2.299125</td>\n",
              "      <td>60.663193</td>\n",
              "    </tr>\n",
              "    <tr>\n",
              "      <th>max</th>\n",
              "      <td>8.426799</td>\n",
              "      <td>0.873007</td>\n",
              "      <td>2.054190</td>\n",
              "      <td>3.393979</td>\n",
              "      <td>8.484622</td>\n",
              "      <td>1.035266</td>\n",
              "      <td>1.523244</td>\n",
              "      <td>2.027837</td>\n",
              "      <td>6.432668</td>\n",
              "      <td>0.905643</td>\n",
              "      <td>1.218838</td>\n",
              "      <td>1.842797</td>\n",
              "      <td>1870.255994</td>\n",
              "      <td>10.495269</td>\n",
              "      <td>191.138447</td>\n",
              "      <td>361.671644</td>\n",
              "      <td>2111.656826</td>\n",
              "      <td>8.400429</td>\n",
              "      <td>108.142014</td>\n",
              "      <td>435.508447</td>\n",
              "      <td>1255.849180</td>\n",
              "      <td>8.931564</td>\n",
              "      <td>98.103222</td>\n",
              "      <td>462.832350</td>\n",
              "    </tr>\n",
              "  </tbody>\n",
              "</table>\n",
              "</div>"
            ],
            "text/plain": [
              "             acc_x               ...         gy_z             \n",
              "               max          min  ...       median          std\n",
              "count  3125.000000  3125.000000  ...  3125.000000  3125.000000\n",
              "mean      0.589042    -1.593947  ...     0.098485    50.507994\n",
              "std       0.998574     1.254887  ...    10.418103    49.008674\n",
              "min      -1.010246    -8.838427  ...  -134.505407     0.030056\n",
              "25%      -0.076559    -1.829921  ...    -2.394793    22.234081\n",
              "50%       0.510224    -1.456669  ...     0.018462    39.532874\n",
              "75%       1.069205    -1.104682  ...     2.299125    60.663193\n",
              "max       8.426799     0.873007  ...    98.103222   462.832350\n",
              "\n",
              "[8 rows x 24 columns]"
            ]
          },
          "metadata": {
            "tags": []
          },
          "execution_count": 12
        }
      ]
    },
    {
      "cell_type": "code",
      "metadata": {
        "id": "czdSk0MGMgU3",
        "colab": {
          "base_uri": "https://localhost:8080/",
          "height": 286
        },
        "outputId": "2bb5245b-253f-40d7-9072-65bebb9ad1b2"
      },
      "source": [
        "X_test.head()"
      ],
      "execution_count": 13,
      "outputs": [
        {
          "output_type": "execute_result",
          "data": {
            "text/html": [
              "<div>\n",
              "<style scoped>\n",
              "    .dataframe tbody tr th:only-of-type {\n",
              "        vertical-align: middle;\n",
              "    }\n",
              "\n",
              "    .dataframe tbody tr th {\n",
              "        vertical-align: top;\n",
              "    }\n",
              "\n",
              "    .dataframe thead tr th {\n",
              "        text-align: left;\n",
              "    }\n",
              "\n",
              "    .dataframe thead tr:last-of-type th {\n",
              "        text-align: right;\n",
              "    }\n",
              "</style>\n",
              "<table border=\"1\" class=\"dataframe\">\n",
              "  <thead>\n",
              "    <tr>\n",
              "      <th></th>\n",
              "      <th colspan=\"4\" halign=\"left\">acc_x</th>\n",
              "      <th colspan=\"4\" halign=\"left\">acc_y</th>\n",
              "      <th colspan=\"4\" halign=\"left\">acc_z</th>\n",
              "      <th colspan=\"4\" halign=\"left\">gy_x</th>\n",
              "      <th colspan=\"4\" halign=\"left\">gy_y</th>\n",
              "      <th colspan=\"4\" halign=\"left\">gy_z</th>\n",
              "    </tr>\n",
              "    <tr>\n",
              "      <th></th>\n",
              "      <th>max</th>\n",
              "      <th>min</th>\n",
              "      <th>median</th>\n",
              "      <th>std</th>\n",
              "      <th>max</th>\n",
              "      <th>min</th>\n",
              "      <th>median</th>\n",
              "      <th>std</th>\n",
              "      <th>max</th>\n",
              "      <th>min</th>\n",
              "      <th>median</th>\n",
              "      <th>std</th>\n",
              "      <th>max</th>\n",
              "      <th>min</th>\n",
              "      <th>median</th>\n",
              "      <th>std</th>\n",
              "      <th>max</th>\n",
              "      <th>min</th>\n",
              "      <th>median</th>\n",
              "      <th>std</th>\n",
              "      <th>max</th>\n",
              "      <th>min</th>\n",
              "      <th>median</th>\n",
              "      <th>std</th>\n",
              "    </tr>\n",
              "    <tr>\n",
              "      <th>id</th>\n",
              "      <th></th>\n",
              "      <th></th>\n",
              "      <th></th>\n",
              "      <th></th>\n",
              "      <th></th>\n",
              "      <th></th>\n",
              "      <th></th>\n",
              "      <th></th>\n",
              "      <th></th>\n",
              "      <th></th>\n",
              "      <th></th>\n",
              "      <th></th>\n",
              "      <th></th>\n",
              "      <th></th>\n",
              "      <th></th>\n",
              "      <th></th>\n",
              "      <th></th>\n",
              "      <th></th>\n",
              "      <th></th>\n",
              "      <th></th>\n",
              "      <th></th>\n",
              "      <th></th>\n",
              "      <th></th>\n",
              "      <th></th>\n",
              "    </tr>\n",
              "  </thead>\n",
              "  <tbody>\n",
              "    <tr>\n",
              "      <th>3125</th>\n",
              "      <td>-0.275446</td>\n",
              "      <td>-1.564000</td>\n",
              "      <td>-1.064222</td>\n",
              "      <td>0.236232</td>\n",
              "      <td>0.228040</td>\n",
              "      <td>-0.470937</td>\n",
              "      <td>-0.005735</td>\n",
              "      <td>0.091641</td>\n",
              "      <td>0.286182</td>\n",
              "      <td>-0.573836</td>\n",
              "      <td>-0.268442</td>\n",
              "      <td>0.174672</td>\n",
              "      <td>56.953059</td>\n",
              "      <td>-50.429364</td>\n",
              "      <td>-3.770150</td>\n",
              "      <td>12.897967</td>\n",
              "      <td>96.185341</td>\n",
              "      <td>-81.607713</td>\n",
              "      <td>0.108956</td>\n",
              "      <td>31.993022</td>\n",
              "      <td>49.981455</td>\n",
              "      <td>-35.446915</td>\n",
              "      <td>-1.607847</td>\n",
              "      <td>12.251648</td>\n",
              "    </tr>\n",
              "    <tr>\n",
              "      <th>3126</th>\n",
              "      <td>0.627571</td>\n",
              "      <td>-1.929033</td>\n",
              "      <td>-0.677411</td>\n",
              "      <td>0.539688</td>\n",
              "      <td>1.708743</td>\n",
              "      <td>-0.200678</td>\n",
              "      <td>0.606215</td>\n",
              "      <td>0.333015</td>\n",
              "      <td>0.671876</td>\n",
              "      <td>-1.212052</td>\n",
              "      <td>-0.026089</td>\n",
              "      <td>0.383800</td>\n",
              "      <td>132.830402</td>\n",
              "      <td>-273.572486</td>\n",
              "      <td>-14.305258</td>\n",
              "      <td>51.625096</td>\n",
              "      <td>241.240196</td>\n",
              "      <td>-97.100707</td>\n",
              "      <td>-0.974696</td>\n",
              "      <td>45.706311</td>\n",
              "      <td>169.417650</td>\n",
              "      <td>-147.597574</td>\n",
              "      <td>-10.833508</td>\n",
              "      <td>61.604867</td>\n",
              "    </tr>\n",
              "    <tr>\n",
              "      <th>3127</th>\n",
              "      <td>2.972063</td>\n",
              "      <td>-0.792916</td>\n",
              "      <td>0.497370</td>\n",
              "      <td>0.219934</td>\n",
              "      <td>1.941820</td>\n",
              "      <td>0.219008</td>\n",
              "      <td>0.931239</td>\n",
              "      <td>0.191485</td>\n",
              "      <td>0.644154</td>\n",
              "      <td>-0.484614</td>\n",
              "      <td>-0.156647</td>\n",
              "      <td>0.152077</td>\n",
              "      <td>160.426058</td>\n",
              "      <td>-99.799971</td>\n",
              "      <td>0.476247</td>\n",
              "      <td>22.770845</td>\n",
              "      <td>74.530763</td>\n",
              "      <td>-98.420987</td>\n",
              "      <td>-2.319172</td>\n",
              "      <td>13.467885</td>\n",
              "      <td>97.211730</td>\n",
              "      <td>-154.477074</td>\n",
              "      <td>-3.087735</td>\n",
              "      <td>23.041463</td>\n",
              "    </tr>\n",
              "    <tr>\n",
              "      <th>3128</th>\n",
              "      <td>0.337281</td>\n",
              "      <td>-1.045889</td>\n",
              "      <td>-0.880541</td>\n",
              "      <td>0.431713</td>\n",
              "      <td>-0.258476</td>\n",
              "      <td>-1.294482</td>\n",
              "      <td>-0.507927</td>\n",
              "      <td>0.233601</td>\n",
              "      <td>0.702574</td>\n",
              "      <td>-0.469924</td>\n",
              "      <td>-0.092860</td>\n",
              "      <td>0.326569</td>\n",
              "      <td>119.527887</td>\n",
              "      <td>-229.072919</td>\n",
              "      <td>1.457625</td>\n",
              "      <td>42.818157</td>\n",
              "      <td>118.268797</td>\n",
              "      <td>-168.031080</td>\n",
              "      <td>-0.269600</td>\n",
              "      <td>45.069932</td>\n",
              "      <td>167.860762</td>\n",
              "      <td>-117.297766</td>\n",
              "      <td>-0.404583</td>\n",
              "      <td>37.967372</td>\n",
              "    </tr>\n",
              "    <tr>\n",
              "      <th>3129</th>\n",
              "      <td>0.015642</td>\n",
              "      <td>-2.153047</td>\n",
              "      <td>-0.703842</td>\n",
              "      <td>0.305797</td>\n",
              "      <td>1.562602</td>\n",
              "      <td>-0.860883</td>\n",
              "      <td>0.122280</td>\n",
              "      <td>0.314294</td>\n",
              "      <td>1.037876</td>\n",
              "      <td>-0.631258</td>\n",
              "      <td>0.432678</td>\n",
              "      <td>0.261848</td>\n",
              "      <td>366.167357</td>\n",
              "      <td>-345.447240</td>\n",
              "      <td>-3.066063</td>\n",
              "      <td>92.301963</td>\n",
              "      <td>226.728939</td>\n",
              "      <td>-223.475411</td>\n",
              "      <td>1.631638</td>\n",
              "      <td>67.911174</td>\n",
              "      <td>138.130133</td>\n",
              "      <td>-125.598600</td>\n",
              "      <td>1.866352</td>\n",
              "      <td>43.353007</td>\n",
              "    </tr>\n",
              "  </tbody>\n",
              "</table>\n",
              "</div>"
            ],
            "text/plain": [
              "         acc_x                      ...        gy_z                      \n",
              "           max       min    median  ...         min     median        std\n",
              "id                                  ...                                  \n",
              "3125 -0.275446 -1.564000 -1.064222  ...  -35.446915  -1.607847  12.251648\n",
              "3126  0.627571 -1.929033 -0.677411  ... -147.597574 -10.833508  61.604867\n",
              "3127  2.972063 -0.792916  0.497370  ... -154.477074  -3.087735  23.041463\n",
              "3128  0.337281 -1.045889 -0.880541  ... -117.297766  -0.404583  37.967372\n",
              "3129  0.015642 -2.153047 -0.703842  ... -125.598600   1.866352  43.353007\n",
              "\n",
              "[5 rows x 24 columns]"
            ]
          },
          "metadata": {
            "tags": []
          },
          "execution_count": 13
        }
      ]
    },
    {
      "cell_type": "code",
      "metadata": {
        "id": "UPCU6bsB_nyF"
      },
      "source": [
        "# y_train = train_label['label']"
      ],
      "execution_count": 14,
      "outputs": []
    },
    {
      "cell_type": "code",
      "metadata": {
        "id": "EHgo6jI22WA_"
      },
      "source": [
        "#컬럼명 변경\r\n",
        "p_columns = [agg + '_' + column for agg, column in X_train.columns]\r\n",
        "X_train.columns = p_columns\r\n",
        "X_test.columns = p_columns"
      ],
      "execution_count": 15,
      "outputs": []
    },
    {
      "cell_type": "code",
      "metadata": {
        "id": "pbBK9OEw2ys_",
        "colab": {
          "base_uri": "https://localhost:8080/",
          "height": 255
        },
        "outputId": "67c88bcb-f29d-4977-9aca-8352c837a0e9"
      },
      "source": [
        "X_train.head()"
      ],
      "execution_count": 16,
      "outputs": [
        {
          "output_type": "execute_result",
          "data": {
            "text/html": [
              "<div>\n",
              "<style scoped>\n",
              "    .dataframe tbody tr th:only-of-type {\n",
              "        vertical-align: middle;\n",
              "    }\n",
              "\n",
              "    .dataframe tbody tr th {\n",
              "        vertical-align: top;\n",
              "    }\n",
              "\n",
              "    .dataframe thead th {\n",
              "        text-align: right;\n",
              "    }\n",
              "</style>\n",
              "<table border=\"1\" class=\"dataframe\">\n",
              "  <thead>\n",
              "    <tr style=\"text-align: right;\">\n",
              "      <th></th>\n",
              "      <th>acc_x_max</th>\n",
              "      <th>acc_x_min</th>\n",
              "      <th>acc_x_median</th>\n",
              "      <th>acc_x_std</th>\n",
              "      <th>acc_y_max</th>\n",
              "      <th>acc_y_min</th>\n",
              "      <th>acc_y_median</th>\n",
              "      <th>acc_y_std</th>\n",
              "      <th>acc_z_max</th>\n",
              "      <th>acc_z_min</th>\n",
              "      <th>acc_z_median</th>\n",
              "      <th>acc_z_std</th>\n",
              "      <th>gy_x_max</th>\n",
              "      <th>gy_x_min</th>\n",
              "      <th>gy_x_median</th>\n",
              "      <th>gy_x_std</th>\n",
              "      <th>gy_y_max</th>\n",
              "      <th>gy_y_min</th>\n",
              "      <th>gy_y_median</th>\n",
              "      <th>gy_y_std</th>\n",
              "      <th>gy_z_max</th>\n",
              "      <th>gy_z_min</th>\n",
              "      <th>gy_z_median</th>\n",
              "      <th>gy_z_std</th>\n",
              "    </tr>\n",
              "    <tr>\n",
              "      <th>id</th>\n",
              "      <th></th>\n",
              "      <th></th>\n",
              "      <th></th>\n",
              "      <th></th>\n",
              "      <th></th>\n",
              "      <th></th>\n",
              "      <th></th>\n",
              "      <th></th>\n",
              "      <th></th>\n",
              "      <th></th>\n",
              "      <th></th>\n",
              "      <th></th>\n",
              "      <th></th>\n",
              "      <th></th>\n",
              "      <th></th>\n",
              "      <th></th>\n",
              "      <th></th>\n",
              "      <th></th>\n",
              "      <th></th>\n",
              "      <th></th>\n",
              "      <th></th>\n",
              "      <th></th>\n",
              "      <th></th>\n",
              "      <th></th>\n",
              "    </tr>\n",
              "  </thead>\n",
              "  <tbody>\n",
              "    <tr>\n",
              "      <th>0</th>\n",
              "      <td>1.344268</td>\n",
              "      <td>0.591940</td>\n",
              "      <td>0.956149</td>\n",
              "      <td>0.191479</td>\n",
              "      <td>0.176871</td>\n",
              "      <td>-0.624113</td>\n",
              "      <td>-0.240638</td>\n",
              "      <td>0.177131</td>\n",
              "      <td>-0.054876</td>\n",
              "      <td>-0.786336</td>\n",
              "      <td>-0.346749</td>\n",
              "      <td>0.135131</td>\n",
              "      <td>31.644123</td>\n",
              "      <td>-46.254836</td>\n",
              "      <td>-1.273569</td>\n",
              "      <td>13.284216</td>\n",
              "      <td>69.847244</td>\n",
              "      <td>-85.887677</td>\n",
              "      <td>-2.362230</td>\n",
              "      <td>24.300479</td>\n",
              "      <td>55.953827</td>\n",
              "      <td>-79.930029</td>\n",
              "      <td>1.913286</td>\n",
              "      <td>25.275185</td>\n",
              "    </tr>\n",
              "    <tr>\n",
              "      <th>1</th>\n",
              "      <td>1.234020</td>\n",
              "      <td>-2.156208</td>\n",
              "      <td>-0.805767</td>\n",
              "      <td>0.495528</td>\n",
              "      <td>0.700065</td>\n",
              "      <td>-1.295598</td>\n",
              "      <td>-0.228905</td>\n",
              "      <td>0.336415</td>\n",
              "      <td>0.888661</td>\n",
              "      <td>-1.019531</td>\n",
              "      <td>-0.034583</td>\n",
              "      <td>0.499395</td>\n",
              "      <td>286.624363</td>\n",
              "      <td>-325.328531</td>\n",
              "      <td>3.810650</td>\n",
              "      <td>79.244561</td>\n",
              "      <td>389.608060</td>\n",
              "      <td>-315.096003</td>\n",
              "      <td>8.043707</td>\n",
              "      <td>96.005289</td>\n",
              "      <td>340.170199</td>\n",
              "      <td>-270.980823</td>\n",
              "      <td>-0.655819</td>\n",
              "      <td>75.545343</td>\n",
              "    </tr>\n",
              "    <tr>\n",
              "      <th>2</th>\n",
              "      <td>1.219836</td>\n",
              "      <td>-1.142847</td>\n",
              "      <td>0.140667</td>\n",
              "      <td>0.711972</td>\n",
              "      <td>0.650645</td>\n",
              "      <td>-0.690990</td>\n",
              "      <td>-0.062598</td>\n",
              "      <td>0.147127</td>\n",
              "      <td>1.332992</td>\n",
              "      <td>0.073846</td>\n",
              "      <td>0.634781</td>\n",
              "      <td>0.248807</td>\n",
              "      <td>73.525082</td>\n",
              "      <td>-164.779067</td>\n",
              "      <td>-8.112557</td>\n",
              "      <td>25.422926</td>\n",
              "      <td>297.320834</td>\n",
              "      <td>-249.953944</td>\n",
              "      <td>19.306132</td>\n",
              "      <td>118.956646</td>\n",
              "      <td>55.642836</td>\n",
              "      <td>-44.192071</td>\n",
              "      <td>3.568888</td>\n",
              "      <td>13.920337</td>\n",
              "    </tr>\n",
              "    <tr>\n",
              "      <th>3</th>\n",
              "      <td>-0.622250</td>\n",
              "      <td>-1.417751</td>\n",
              "      <td>-0.880343</td>\n",
              "      <td>0.130899</td>\n",
              "      <td>0.283721</td>\n",
              "      <td>-0.540827</td>\n",
              "      <td>-0.054577</td>\n",
              "      <td>0.194008</td>\n",
              "      <td>0.598814</td>\n",
              "      <td>-0.257124</td>\n",
              "      <td>0.231537</td>\n",
              "      <td>0.205882</td>\n",
              "      <td>192.765368</td>\n",
              "      <td>-69.419166</td>\n",
              "      <td>8.229938</td>\n",
              "      <td>42.928860</td>\n",
              "      <td>159.083788</td>\n",
              "      <td>-82.537304</td>\n",
              "      <td>1.783260</td>\n",
              "      <td>36.953466</td>\n",
              "      <td>56.456908</td>\n",
              "      <td>-85.600536</td>\n",
              "      <td>-3.853078</td>\n",
              "      <td>23.647153</td>\n",
              "    </tr>\n",
              "    <tr>\n",
              "      <th>4</th>\n",
              "      <td>0.599720</td>\n",
              "      <td>-2.429109</td>\n",
              "      <td>-0.941146</td>\n",
              "      <td>0.495170</td>\n",
              "      <td>1.724782</td>\n",
              "      <td>-2.055076</td>\n",
              "      <td>-0.168467</td>\n",
              "      <td>0.570305</td>\n",
              "      <td>2.678034</td>\n",
              "      <td>-1.250483</td>\n",
              "      <td>0.293556</td>\n",
              "      <td>0.389646</td>\n",
              "      <td>613.972600</td>\n",
              "      <td>-769.076518</td>\n",
              "      <td>-1.292194</td>\n",
              "      <td>108.258866</td>\n",
              "      <td>284.952954</td>\n",
              "      <td>-243.909948</td>\n",
              "      <td>0.977772</td>\n",
              "      <td>60.514531</td>\n",
              "      <td>221.015193</td>\n",
              "      <td>-270.581913</td>\n",
              "      <td>-0.750283</td>\n",
              "      <td>46.148326</td>\n",
              "    </tr>\n",
              "  </tbody>\n",
              "</table>\n",
              "</div>"
            ],
            "text/plain": [
              "    acc_x_max  acc_x_min  acc_x_median  ...    gy_z_min  gy_z_median   gy_z_std\n",
              "id                                      ...                                    \n",
              "0    1.344268   0.591940      0.956149  ...  -79.930029     1.913286  25.275185\n",
              "1    1.234020  -2.156208     -0.805767  ... -270.980823    -0.655819  75.545343\n",
              "2    1.219836  -1.142847      0.140667  ...  -44.192071     3.568888  13.920337\n",
              "3   -0.622250  -1.417751     -0.880343  ...  -85.600536    -3.853078  23.647153\n",
              "4    0.599720  -2.429109     -0.941146  ... -270.581913    -0.750283  46.148326\n",
              "\n",
              "[5 rows x 24 columns]"
            ]
          },
          "metadata": {
            "tags": []
          },
          "execution_count": 16
        }
      ]
    },
    {
      "cell_type": "code",
      "metadata": {
        "id": "hMeDwZdW3fpw",
        "colab": {
          "base_uri": "https://localhost:8080/"
        },
        "outputId": "4ce831dd-d34a-4e99-b274-8001a5ed5a54"
      },
      "source": [
        "X_train.shape"
      ],
      "execution_count": 17,
      "outputs": [
        {
          "output_type": "execute_result",
          "data": {
            "text/plain": [
              "(3125, 24)"
            ]
          },
          "metadata": {
            "tags": []
          },
          "execution_count": 17
        }
      ]
    },
    {
      "cell_type": "code",
      "metadata": {
        "colab": {
          "base_uri": "https://localhost:8080/",
          "height": 204
        },
        "id": "8ZqYTJ1n3ZRF",
        "outputId": "271025c1-a659-44c4-aa8e-e845a7b956fa"
      },
      "source": [
        "train.head()"
      ],
      "execution_count": 18,
      "outputs": [
        {
          "output_type": "execute_result",
          "data": {
            "text/html": [
              "<div>\n",
              "<style scoped>\n",
              "    .dataframe tbody tr th:only-of-type {\n",
              "        vertical-align: middle;\n",
              "    }\n",
              "\n",
              "    .dataframe tbody tr th {\n",
              "        vertical-align: top;\n",
              "    }\n",
              "\n",
              "    .dataframe thead th {\n",
              "        text-align: right;\n",
              "    }\n",
              "</style>\n",
              "<table border=\"1\" class=\"dataframe\">\n",
              "  <thead>\n",
              "    <tr style=\"text-align: right;\">\n",
              "      <th></th>\n",
              "      <th>id</th>\n",
              "      <th>time</th>\n",
              "      <th>acc_x</th>\n",
              "      <th>acc_y</th>\n",
              "      <th>acc_z</th>\n",
              "      <th>gy_x</th>\n",
              "      <th>gy_y</th>\n",
              "      <th>gy_z</th>\n",
              "    </tr>\n",
              "  </thead>\n",
              "  <tbody>\n",
              "    <tr>\n",
              "      <th>0</th>\n",
              "      <td>0</td>\n",
              "      <td>0</td>\n",
              "      <td>1.206087</td>\n",
              "      <td>-0.179371</td>\n",
              "      <td>-0.148447</td>\n",
              "      <td>-0.591608</td>\n",
              "      <td>-30.549010</td>\n",
              "      <td>-31.676112</td>\n",
              "    </tr>\n",
              "    <tr>\n",
              "      <th>1</th>\n",
              "      <td>0</td>\n",
              "      <td>1</td>\n",
              "      <td>1.287696</td>\n",
              "      <td>-0.198974</td>\n",
              "      <td>-0.182444</td>\n",
              "      <td>0.303100</td>\n",
              "      <td>-39.139103</td>\n",
              "      <td>-24.927216</td>\n",
              "    </tr>\n",
              "    <tr>\n",
              "      <th>2</th>\n",
              "      <td>0</td>\n",
              "      <td>2</td>\n",
              "      <td>1.304609</td>\n",
              "      <td>-0.195114</td>\n",
              "      <td>-0.253382</td>\n",
              "      <td>-3.617278</td>\n",
              "      <td>-44.122565</td>\n",
              "      <td>-25.019629</td>\n",
              "    </tr>\n",
              "    <tr>\n",
              "      <th>3</th>\n",
              "      <td>0</td>\n",
              "      <td>3</td>\n",
              "      <td>1.293095</td>\n",
              "      <td>-0.230366</td>\n",
              "      <td>-0.215210</td>\n",
              "      <td>2.712986</td>\n",
              "      <td>-53.597843</td>\n",
              "      <td>-27.454013</td>\n",
              "    </tr>\n",
              "    <tr>\n",
              "      <th>4</th>\n",
              "      <td>0</td>\n",
              "      <td>4</td>\n",
              "      <td>1.300887</td>\n",
              "      <td>-0.187757</td>\n",
              "      <td>-0.222523</td>\n",
              "      <td>4.286707</td>\n",
              "      <td>-57.906561</td>\n",
              "      <td>-27.961234</td>\n",
              "    </tr>\n",
              "  </tbody>\n",
              "</table>\n",
              "</div>"
            ],
            "text/plain": [
              "   id  time     acc_x     acc_y     acc_z      gy_x       gy_y       gy_z\n",
              "0   0     0  1.206087 -0.179371 -0.148447 -0.591608 -30.549010 -31.676112\n",
              "1   0     1  1.287696 -0.198974 -0.182444  0.303100 -39.139103 -24.927216\n",
              "2   0     2  1.304609 -0.195114 -0.253382 -3.617278 -44.122565 -25.019629\n",
              "3   0     3  1.293095 -0.230366 -0.215210  2.712986 -53.597843 -27.454013\n",
              "4   0     4  1.300887 -0.187757 -0.222523  4.286707 -57.906561 -27.961234"
            ]
          },
          "metadata": {
            "tags": []
          },
          "execution_count": 18
        }
      ]
    },
    {
      "cell_type": "code",
      "metadata": {
        "id": "HG_cBNS8p089"
      },
      "source": [
        "def plot_acc_id(df, id_num):\r\n",
        "    return df.query('id == @id_num')[['time', 'acc_x', 'acc_y', 'acc_z']].plot(x = 'time')\r\n",
        "\r\n",
        "def plot_gy_id(df, id_num):\r\n",
        "    return df.query('id == @id_num')[['time', 'gy_x', 'gy_y', 'gy_z']].plot(x = 'time')"
      ],
      "execution_count": 19,
      "outputs": []
    },
    {
      "cell_type": "code",
      "metadata": {
        "colab": {
          "base_uri": "https://localhost:8080/",
          "height": 567
        },
        "id": "EB2D2FdY_WSv",
        "outputId": "0a101f69-7bee-42c3-aa81-615733ea6b6a"
      },
      "source": [
        "plot_acc_id(train, 0)\r\n",
        "plt.ylim((-1.5, 1.5))\r\n",
        "plot_gy_id(train, 0)\r\n",
        "plt.ylim((-100, 100))"
      ],
      "execution_count": 20,
      "outputs": [
        {
          "output_type": "execute_result",
          "data": {
            "text/plain": [
              "(-100.0, 100.0)"
            ]
          },
          "metadata": {
            "tags": []
          },
          "execution_count": 20
        },
        {
          "output_type": "display_data",
          "data": {
            "image/png": "[encoded data removed]",
            "text/plain": [
              "<Figure size 432x288 with 1 Axes>"
            ]
          },
          "metadata": {
            "tags": [],
            "needs_background": "light"
          }
        },
        {
          "output_type": "display_data",
          "data": {
            "image/png": "[encoded data removed]",
            "text/plain": [
              "<Figure size 432x288 with 1 Axes>"
            ]
          },
          "metadata": {
            "tags": [],
            "needs_background": "light"
          }
        }
      ]
    },
    {
      "cell_type": "code",
      "metadata": {
        "colab": {
          "base_uri": "https://localhost:8080/",
          "height": 567
        },
        "id": "rggH-YLo_W9w",
        "outputId": "cc4af01f-2801-49bb-f606-836977cbac4e"
      },
      "source": [
        "plot_acc_id(train, 3)\r\n",
        "plt.ylim((-1.5, 1.5))\r\n",
        "plot_gy_id(train, 3)\r\n",
        "plt.ylim((-200, 200))"
      ],
      "execution_count": 21,
      "outputs": [
        {
          "output_type": "execute_result",
          "data": {
            "text/plain": [
              "(-200.0, 200.0)"
            ]
          },
          "metadata": {
            "tags": []
          },
          "execution_count": 21
        },
        {
          "output_type": "display_data",
          "data": {
            "image/png": "[encoded data removed]",
            "text/plain": [
              "<Figure size 432x288 with 1 Axes>"
            ]
          },
          "metadata": {
            "tags": [],
            "needs_background": "light"
          }
        },
        {
          "output_type": "display_data",
          "data": {
            "image/png": "[encoded data removed]",
            "text/plain": [
              "<Figure size 432x288 with 1 Axes>"
            ]
          },
          "metadata": {
            "tags": [],
            "needs_background": "light"
          }
        }
      ]
    },
    {
      "cell_type": "markdown",
      "metadata": {
        "id": "FamSvg8U_djW"
      },
      "source": [
        "쉴 때는 움직임이 dynamic하지 않음\r\n",
        "운동과 쉴 때 측정된 값 높낮이가 다를 것이며, 운동 끼리도 높낮이가 다를 것으로 추정"
      ]
    },
    {
      "cell_type": "markdown",
      "metadata": {
        "id": "LLTskGl0_ovv"
      },
      "source": [
        "## 4. 모델링"
      ]
    },
    {
      "cell_type": "code",
      "metadata": {
        "id": "_8clSftFAsaW"
      },
      "source": [
        "y_train = train_label['label']"
      ],
      "execution_count": 22,
      "outputs": []
    },
    {
      "cell_type": "code",
      "metadata": {
        "id": "XI8OjieJ_qzI",
        "colab": {
          "base_uri": "https://localhost:8080/"
        },
        "outputId": "23dd2d68-ae66-4c7f-8f13-7338693478b0"
      },
      "source": [
        "from sklearn.ensemble import RandomForestClassifier\r\n",
        "\r\n",
        "model = RandomForestClassifier(n_jobs=-1, random_state=0, min_samples_leaf=30)\r\n",
        "model.fit(X_train, y_train)"
      ],
      "execution_count": 23,
      "outputs": [
        {
          "output_type": "execute_result",
          "data": {
            "text/plain": [
              "RandomForestClassifier(bootstrap=True, ccp_alpha=0.0, class_weight=None,\n",
              "                       criterion='gini', max_depth=None, max_features='auto',\n",
              "                       max_leaf_nodes=None, max_samples=None,\n",
              "                       min_impurity_decrease=0.0, min_impurity_split=None,\n",
              "                       min_samples_leaf=30, min_samples_split=2,\n",
              "                       min_weight_fraction_leaf=0.0, n_estimators=100,\n",
              "                       n_jobs=-1, oob_score=False, random_state=0, verbose=0,\n",
              "                       warm_start=False)"
            ]
          },
          "metadata": {
            "tags": []
          },
          "execution_count": 23
        }
      ]
    },
    {
      "cell_type": "code",
      "metadata": {
        "id": "prkbjVMB_vJU"
      },
      "source": [
        "# y_pred = model.predict_proba(X_test)\r\n",
        "# y_pred"
      ],
      "execution_count": 24,
      "outputs": []
    },
    {
      "cell_type": "code",
      "metadata": {
        "id": "_soLUtatFnaC"
      },
      "source": [
        "# MyPlots(X_train, \"boxplot\", 8, 3)"
      ],
      "execution_count": 25,
      "outputs": []
    },
    {
      "cell_type": "code",
      "metadata": {
        "id": "Ip3Vo_igGufe"
      },
      "source": [
        "scaler   = RobustScaler()\r\n",
        "\r\n",
        "X_scaler = scaler.fit_transform(X_train)"
      ],
      "execution_count": 26,
      "outputs": []
    },
    {
      "cell_type": "code",
      "metadata": {
        "id": "TUgI_lpEH3m_"
      },
      "source": [
        "# MySplitFitPredict(model, X_scaler, y)\r\n",
        "# y_pred = model.predict_proba(X_scaler)\r\n",
        "# y_pred"
      ],
      "execution_count": 27,
      "outputs": []
    },
    {
      "cell_type": "code",
      "metadata": {
        "id": "28J1WZotYZoh"
      },
      "source": [
        "# scaler   = RobustScaler()\r\n",
        "\r\n",
        "# num_sample   = X.shape[0] # 3 (샘플 데이터)\r\n",
        "# num_sequence = X.shape[1] # 4 (시계열 데이터)\r\n",
        "# num_feature  = X.shape[2] # 2 (Feature)\r\n",
        "\r\n",
        "# # 시계열을 선회하면서 피팅합니다\r\n",
        "# for ss in range(num_sequence):\r\n",
        "#     scaler.fit_transform(X[:, ss, :])\r\n",
        "# # 스케일링(변환)합니다.\r\n",
        "# results = []\r\n",
        "# for ss in range(num_sequence):\r\n",
        "#     results.append(scaler.transform(X[:, ss, :]).reshape(num_sample, 1, num_feature))\r\n",
        "# X_scaled = np.concatenate(results, axis=1)\r\n",
        "\r\n",
        "\r\n",
        "# # X_scaler = scaler.fit_transform(X)\r\n",
        "\r\n",
        "# X_scaled.shape"
      ],
      "execution_count": 28,
      "outputs": []
    },
    {
      "cell_type": "code",
      "metadata": {
        "colab": {
          "base_uri": "https://localhost:8080/",
          "height": 376
        },
        "id": "-5uwKUe-Zq_b",
        "outputId": "3658ef76-849f-4847-e0c2-14a780abdaec"
      },
      "source": [
        "my_hyper_param = {  \"n_estimators\"     :[100, 300],\r\n",
        "                    \"max_depth\"        :[4, 5, 6],\r\n",
        "                    \"min_samples_leaf\" :[2, 3, 4],\r\n",
        "                    \"random_state\"     :[121,]    }\r\n",
        "\r\n",
        "def MyGridSearchCV(my_hyper_param, model, X, y) :\r\n",
        "    print(\"GridSerchCV --------------------------------\")\r\n",
        "    X_train, X_test, y_train, y_test = train_test_split(X, y, test_size=0.2, random_state=121)\r\n",
        "    my_score  = {\"acc\": \"accuracy\", \"f1\": \"f1\"}\r\n",
        "    gcv_model = GridSearchCV(model, param_grid=my_hyper_param, scoring=my_score, refit=\"f1\", cv=5, verbose=0)\r\n",
        "    gcv_model.fit(X_train, y_train)\r\n",
        "\r\n",
        "    # print(\"best_estimator:\", gcv_model.best_estimator_)\r\n",
        "    print(\"best_params :\", gcv_model.best_params_)\r\n",
        "    print(\"best_score  :\", gcv_model.best_score_)\r\n",
        "    print(\"GridSearchCV 평균 정확도 : \", gcv_model.cv_results_[\"mean_test_acc\"].mean())  #mean_test_(본인의score키값)\r\n",
        "    print(\"GridSearchCV 평균 F1    : \", gcv_model.cv_results_[\"mean_test_f1\"].mean())\r\n",
        "    print(barline)\r\n",
        "\r\n",
        "MyGridSearchCV(my_hyper_param, model, X_scaler, y_train)"
      ],
      "execution_count": 29,
      "outputs": [
        {
          "output_type": "stream",
          "text": [
            "GridSerchCV --------------------------------\n"
          ],
          "name": "stdout"
        },
        {
          "output_type": "error",
          "ename": "ValueError",
          "evalue": "ignored",
          "traceback": [
            "\u001b[0;31m---------------------------------------------------------------------------\u001b[0m",
            "\u001b[0;31mValueError\u001b[0m                                Traceback (most recent call last)",
            "\u001b[0;32m<ipython-input-29-302094d6d48a>\u001b[0m in \u001b[0;36m<module>\u001b[0;34m()\u001b[0m\n\u001b[1;32m     18\u001b[0m     \u001b[0mprint\u001b[0m\u001b[0;34m(\u001b[0m\u001b[0mbarline\u001b[0m\u001b[0;34m)\u001b[0m\u001b[0;34m\u001b[0m\u001b[0;34m\u001b[0m\u001b[0m\n\u001b[1;32m     19\u001b[0m \u001b[0;34m\u001b[0m\u001b[0m\n\u001b[0;32m---> 20\u001b[0;31m \u001b[0mMyGridSearchCV\u001b[0m\u001b[0;34m(\u001b[0m\u001b[0mmy_hyper_param\u001b[0m\u001b[0;34m,\u001b[0m \u001b[0mmodel\u001b[0m\u001b[0;34m,\u001b[0m \u001b[0mX_scaler\u001b[0m\u001b[0;34m,\u001b[0m \u001b[0my_train\u001b[0m\u001b[0;34m)\u001b[0m\u001b[0;34m\u001b[0m\u001b[0;34m\u001b[0m\u001b[0m\n\u001b[0m",
            "\u001b[0;32m<ipython-input-29-302094d6d48a>\u001b[0m in \u001b[0;36mMyGridSearchCV\u001b[0;34m(my_hyper_param, model, X, y)\u001b[0m\n\u001b[1;32m      9\u001b[0m     \u001b[0mmy_score\u001b[0m  \u001b[0;34m=\u001b[0m \u001b[0;34m{\u001b[0m\u001b[0;34m\"acc\"\u001b[0m\u001b[0;34m:\u001b[0m \u001b[0;34m\"accuracy\"\u001b[0m\u001b[0;34m,\u001b[0m \u001b[0;34m\"f1\"\u001b[0m\u001b[0;34m:\u001b[0m \u001b[0;34m\"f1\"\u001b[0m\u001b[0;34m}\u001b[0m\u001b[0;34m\u001b[0m\u001b[0;34m\u001b[0m\u001b[0m\n\u001b[1;32m     10\u001b[0m     \u001b[0mgcv_model\u001b[0m \u001b[0;34m=\u001b[0m \u001b[0mGridSearchCV\u001b[0m\u001b[0;34m(\u001b[0m\u001b[0mmodel\u001b[0m\u001b[0;34m,\u001b[0m \u001b[0mparam_grid\u001b[0m\u001b[0;34m=\u001b[0m\u001b[0mmy_hyper_param\u001b[0m\u001b[0;34m,\u001b[0m \u001b[0mscoring\u001b[0m\u001b[0;34m=\u001b[0m\u001b[0mmy_score\u001b[0m\u001b[0;34m,\u001b[0m \u001b[0mrefit\u001b[0m\u001b[0;34m=\u001b[0m\u001b[0;34m\"f1\"\u001b[0m\u001b[0;34m,\u001b[0m \u001b[0mcv\u001b[0m\u001b[0;34m=\u001b[0m\u001b[0;36m5\u001b[0m\u001b[0;34m,\u001b[0m \u001b[0mverbose\u001b[0m\u001b[0;34m=\u001b[0m\u001b[0;36m0\u001b[0m\u001b[0;34m)\u001b[0m\u001b[0;34m\u001b[0m\u001b[0;34m\u001b[0m\u001b[0m\n\u001b[0;32m---> 11\u001b[0;31m     \u001b[0mgcv_model\u001b[0m\u001b[0;34m.\u001b[0m\u001b[0mfit\u001b[0m\u001b[0;34m(\u001b[0m\u001b[0mX_train\u001b[0m\u001b[0;34m,\u001b[0m \u001b[0my_train\u001b[0m\u001b[0;34m)\u001b[0m\u001b[0;34m\u001b[0m\u001b[0;34m\u001b[0m\u001b[0m\n\u001b[0m\u001b[1;32m     12\u001b[0m \u001b[0;34m\u001b[0m\u001b[0m\n\u001b[1;32m     13\u001b[0m     \u001b[0;31m# print(\"best_estimator:\", gcv_model.best_estimator_)\u001b[0m\u001b[0;34m\u001b[0m\u001b[0;34m\u001b[0m\u001b[0;34m\u001b[0m\u001b[0m\n",
            "\u001b[0;32m/usr/local/lib/python3.6/dist-packages/sklearn/model_selection/_search.py\u001b[0m in \u001b[0;36mfit\u001b[0;34m(self, X, y, groups, **fit_params)\u001b[0m\n\u001b[1;32m    708\u001b[0m                 \u001b[0;32mreturn\u001b[0m \u001b[0mresults\u001b[0m\u001b[0;34m\u001b[0m\u001b[0;34m\u001b[0m\u001b[0m\n\u001b[1;32m    709\u001b[0m \u001b[0;34m\u001b[0m\u001b[0m\n\u001b[0;32m--> 710\u001b[0;31m             \u001b[0mself\u001b[0m\u001b[0;34m.\u001b[0m\u001b[0m_run_search\u001b[0m\u001b[0;34m(\u001b[0m\u001b[0mevaluate_candidates\u001b[0m\u001b[0;34m)\u001b[0m\u001b[0;34m\u001b[0m\u001b[0;34m\u001b[0m\u001b[0m\n\u001b[0m\u001b[1;32m    711\u001b[0m \u001b[0;34m\u001b[0m\u001b[0m\n\u001b[1;32m    712\u001b[0m         \u001b[0;31m# For multi-metric evaluation, store the best_index_, best_params_ and\u001b[0m\u001b[0;34m\u001b[0m\u001b[0;34m\u001b[0m\u001b[0;34m\u001b[0m\u001b[0m\n",
            "\u001b[0;32m/usr/local/lib/python3.6/dist-packages/sklearn/model_selection/_search.py\u001b[0m in \u001b[0;36m_run_search\u001b[0;34m(self, evaluate_candidates)\u001b[0m\n\u001b[1;32m   1149\u001b[0m     \u001b[0;32mdef\u001b[0m \u001b[0m_run_search\u001b[0m\u001b[0;34m(\u001b[0m\u001b[0mself\u001b[0m\u001b[0;34m,\u001b[0m \u001b[0mevaluate_candidates\u001b[0m\u001b[0;34m)\u001b[0m\u001b[0;34m:\u001b[0m\u001b[0;34m\u001b[0m\u001b[0;34m\u001b[0m\u001b[0m\n\u001b[1;32m   1150\u001b[0m         \u001b[0;34m\"\"\"Search all candidates in param_grid\"\"\"\u001b[0m\u001b[0;34m\u001b[0m\u001b[0;34m\u001b[0m\u001b[0m\n\u001b[0;32m-> 1151\u001b[0;31m         \u001b[0mevaluate_candidates\u001b[0m\u001b[0;34m(\u001b[0m\u001b[0mParameterGrid\u001b[0m\u001b[0;34m(\u001b[0m\u001b[0mself\u001b[0m\u001b[0;34m.\u001b[0m\u001b[0mparam_grid\u001b[0m\u001b[0;34m)\u001b[0m\u001b[0;34m)\u001b[0m\u001b[0;34m\u001b[0m\u001b[0;34m\u001b[0m\u001b[0m\n\u001b[0m\u001b[1;32m   1152\u001b[0m \u001b[0;34m\u001b[0m\u001b[0m\n\u001b[1;32m   1153\u001b[0m \u001b[0;34m\u001b[0m\u001b[0m\n",
            "\u001b[0;32m/usr/local/lib/python3.6/dist-packages/sklearn/model_selection/_search.py\u001b[0m in \u001b[0;36mevaluate_candidates\u001b[0;34m(candidate_params)\u001b[0m\n\u001b[1;32m    687\u001b[0m                                \u001b[0;32mfor\u001b[0m \u001b[0mparameters\u001b[0m\u001b[0;34m,\u001b[0m \u001b[0;34m(\u001b[0m\u001b[0mtrain\u001b[0m\u001b[0;34m,\u001b[0m \u001b[0mtest\u001b[0m\u001b[0;34m)\u001b[0m\u001b[0;34m\u001b[0m\u001b[0;34m\u001b[0m\u001b[0m\n\u001b[1;32m    688\u001b[0m                                in product(candidate_params,\n\u001b[0;32m--> 689\u001b[0;31m                                           cv.split(X, y, groups)))\n\u001b[0m\u001b[1;32m    690\u001b[0m \u001b[0;34m\u001b[0m\u001b[0m\n\u001b[1;32m    691\u001b[0m                 \u001b[0;32mif\u001b[0m \u001b[0mlen\u001b[0m\u001b[0;34m(\u001b[0m\u001b[0mout\u001b[0m\u001b[0;34m)\u001b[0m \u001b[0;34m<\u001b[0m \u001b[0;36m1\u001b[0m\u001b[0;34m:\u001b[0m\u001b[0;34m\u001b[0m\u001b[0;34m\u001b[0m\u001b[0m\n",
            "\u001b[0;32m/usr/local/lib/python3.6/dist-packages/joblib/parallel.py\u001b[0m in \u001b[0;36m__call__\u001b[0;34m(self, iterable)\u001b[0m\n\u001b[1;32m   1039\u001b[0m             \u001b[0;31m# remaining jobs.\u001b[0m\u001b[0;34m\u001b[0m\u001b[0;34m\u001b[0m\u001b[0;34m\u001b[0m\u001b[0m\n\u001b[1;32m   1040\u001b[0m             \u001b[0mself\u001b[0m\u001b[0;34m.\u001b[0m\u001b[0m_iterating\u001b[0m \u001b[0;34m=\u001b[0m \u001b[0;32mFalse\u001b[0m\u001b[0;34m\u001b[0m\u001b[0;34m\u001b[0m\u001b[0m\n\u001b[0;32m-> 1041\u001b[0;31m             \u001b[0;32mif\u001b[0m \u001b[0mself\u001b[0m\u001b[0;34m.\u001b[0m\u001b[0mdispatch_one_batch\u001b[0m\u001b[0;34m(\u001b[0m\u001b[0miterator\u001b[0m\u001b[0;34m)\u001b[0m\u001b[0;34m:\u001b[0m\u001b[0;34m\u001b[0m\u001b[0;34m\u001b[0m\u001b[0m\n\u001b[0m\u001b[1;32m   1042\u001b[0m                 \u001b[0mself\u001b[0m\u001b[0;34m.\u001b[0m\u001b[0m_iterating\u001b[0m \u001b[0;34m=\u001b[0m \u001b[0mself\u001b[0m\u001b[0;34m.\u001b[0m\u001b[0m_original_iterator\u001b[0m \u001b[0;32mis\u001b[0m \u001b[0;32mnot\u001b[0m \u001b[0;32mNone\u001b[0m\u001b[0;34m\u001b[0m\u001b[0;34m\u001b[0m\u001b[0m\n\u001b[1;32m   1043\u001b[0m \u001b[0;34m\u001b[0m\u001b[0m\n",
            "\u001b[0;32m/usr/local/lib/python3.6/dist-packages/joblib/parallel.py\u001b[0m in \u001b[0;36mdispatch_one_batch\u001b[0;34m(self, iterator)\u001b[0m\n\u001b[1;32m    857\u001b[0m                 \u001b[0;32mreturn\u001b[0m \u001b[0;32mFalse\u001b[0m\u001b[0;34m\u001b[0m\u001b[0;34m\u001b[0m\u001b[0m\n\u001b[1;32m    858\u001b[0m             \u001b[0;32melse\u001b[0m\u001b[0;34m:\u001b[0m\u001b[0;34m\u001b[0m\u001b[0;34m\u001b[0m\u001b[0m\n\u001b[0;32m--> 859\u001b[0;31m                 \u001b[0mself\u001b[0m\u001b[0;34m.\u001b[0m\u001b[0m_dispatch\u001b[0m\u001b[0;34m(\u001b[0m\u001b[0mtasks\u001b[0m\u001b[0;34m)\u001b[0m\u001b[0;34m\u001b[0m\u001b[0;34m\u001b[0m\u001b[0m\n\u001b[0m\u001b[1;32m    860\u001b[0m                 \u001b[0;32mreturn\u001b[0m \u001b[0;32mTrue\u001b[0m\u001b[0;34m\u001b[0m\u001b[0;34m\u001b[0m\u001b[0m\n\u001b[1;32m    861\u001b[0m \u001b[0;34m\u001b[0m\u001b[0m\n",
            "\u001b[0;32m/usr/local/lib/python3.6/dist-packages/joblib/parallel.py\u001b[0m in \u001b[0;36m_dispatch\u001b[0;34m(self, batch)\u001b[0m\n\u001b[1;32m    775\u001b[0m         \u001b[0;32mwith\u001b[0m \u001b[0mself\u001b[0m\u001b[0;34m.\u001b[0m\u001b[0m_lock\u001b[0m\u001b[0;34m:\u001b[0m\u001b[0;34m\u001b[0m\u001b[0;34m\u001b[0m\u001b[0m\n\u001b[1;32m    776\u001b[0m             \u001b[0mjob_idx\u001b[0m \u001b[0;34m=\u001b[0m \u001b[0mlen\u001b[0m\u001b[0;34m(\u001b[0m\u001b[0mself\u001b[0m\u001b[0;34m.\u001b[0m\u001b[0m_jobs\u001b[0m\u001b[0;34m)\u001b[0m\u001b[0;34m\u001b[0m\u001b[0;34m\u001b[0m\u001b[0m\n\u001b[0;32m--> 777\u001b[0;31m             \u001b[0mjob\u001b[0m \u001b[0;34m=\u001b[0m \u001b[0mself\u001b[0m\u001b[0;34m.\u001b[0m\u001b[0m_backend\u001b[0m\u001b[0;34m.\u001b[0m\u001b[0mapply_async\u001b[0m\u001b[0;34m(\u001b[0m\u001b[0mbatch\u001b[0m\u001b[0;34m,\u001b[0m \u001b[0mcallback\u001b[0m\u001b[0;34m=\u001b[0m\u001b[0mcb\u001b[0m\u001b[0;34m)\u001b[0m\u001b[0;34m\u001b[0m\u001b[0;34m\u001b[0m\u001b[0m\n\u001b[0m\u001b[1;32m    778\u001b[0m             \u001b[0;31m# A job can complete so quickly than its callback is\u001b[0m\u001b[0;34m\u001b[0m\u001b[0;34m\u001b[0m\u001b[0;34m\u001b[0m\u001b[0m\n\u001b[1;32m    779\u001b[0m             \u001b[0;31m# called before we get here, causing self._jobs to\u001b[0m\u001b[0;34m\u001b[0m\u001b[0;34m\u001b[0m\u001b[0;34m\u001b[0m\u001b[0m\n",
            "\u001b[0;32m/usr/local/lib/python3.6/dist-packages/joblib/_parallel_backends.py\u001b[0m in \u001b[0;36mapply_async\u001b[0;34m(self, func, callback)\u001b[0m\n\u001b[1;32m    206\u001b[0m     \u001b[0;32mdef\u001b[0m \u001b[0mapply_async\u001b[0m\u001b[0;34m(\u001b[0m\u001b[0mself\u001b[0m\u001b[0;34m,\u001b[0m \u001b[0mfunc\u001b[0m\u001b[0;34m,\u001b[0m \u001b[0mcallback\u001b[0m\u001b[0;34m=\u001b[0m\u001b[0;32mNone\u001b[0m\u001b[0;34m)\u001b[0m\u001b[0;34m:\u001b[0m\u001b[0;34m\u001b[0m\u001b[0;34m\u001b[0m\u001b[0m\n\u001b[1;32m    207\u001b[0m         \u001b[0;34m\"\"\"Schedule a func to be run\"\"\"\u001b[0m\u001b[0;34m\u001b[0m\u001b[0;34m\u001b[0m\u001b[0m\n\u001b[0;32m--> 208\u001b[0;31m         \u001b[0mresult\u001b[0m \u001b[0;34m=\u001b[0m \u001b[0mImmediateResult\u001b[0m\u001b[0;34m(\u001b[0m\u001b[0mfunc\u001b[0m\u001b[0;34m)\u001b[0m\u001b[0;34m\u001b[0m\u001b[0;34m\u001b[0m\u001b[0m\n\u001b[0m\u001b[1;32m    209\u001b[0m         \u001b[0;32mif\u001b[0m \u001b[0mcallback\u001b[0m\u001b[0;34m:\u001b[0m\u001b[0;34m\u001b[0m\u001b[0;34m\u001b[0m\u001b[0m\n\u001b[1;32m    210\u001b[0m             \u001b[0mcallback\u001b[0m\u001b[0;34m(\u001b[0m\u001b[0mresult\u001b[0m\u001b[0;34m)\u001b[0m\u001b[0;34m\u001b[0m\u001b[0;34m\u001b[0m\u001b[0m\n",
            "\u001b[0;32m/usr/local/lib/python3.6/dist-packages/joblib/_parallel_backends.py\u001b[0m in \u001b[0;36m__init__\u001b[0;34m(self, batch)\u001b[0m\n\u001b[1;32m    570\u001b[0m         \u001b[0;31m# Don't delay the application, to avoid keeping the input\u001b[0m\u001b[0;34m\u001b[0m\u001b[0;34m\u001b[0m\u001b[0;34m\u001b[0m\u001b[0m\n\u001b[1;32m    571\u001b[0m         \u001b[0;31m# arguments in memory\u001b[0m\u001b[0;34m\u001b[0m\u001b[0;34m\u001b[0m\u001b[0;34m\u001b[0m\u001b[0m\n\u001b[0;32m--> 572\u001b[0;31m         \u001b[0mself\u001b[0m\u001b[0;34m.\u001b[0m\u001b[0mresults\u001b[0m \u001b[0;34m=\u001b[0m \u001b[0mbatch\u001b[0m\u001b[0;34m(\u001b[0m\u001b[0;34m)\u001b[0m\u001b[0;34m\u001b[0m\u001b[0;34m\u001b[0m\u001b[0m\n\u001b[0m\u001b[1;32m    573\u001b[0m \u001b[0;34m\u001b[0m\u001b[0m\n\u001b[1;32m    574\u001b[0m     \u001b[0;32mdef\u001b[0m \u001b[0mget\u001b[0m\u001b[0;34m(\u001b[0m\u001b[0mself\u001b[0m\u001b[0;34m)\u001b[0m\u001b[0;34m:\u001b[0m\u001b[0;34m\u001b[0m\u001b[0;34m\u001b[0m\u001b[0m\n",
            "\u001b[0;32m/usr/local/lib/python3.6/dist-packages/joblib/parallel.py\u001b[0m in \u001b[0;36m__call__\u001b[0;34m(self)\u001b[0m\n\u001b[1;32m    261\u001b[0m         \u001b[0;32mwith\u001b[0m \u001b[0mparallel_backend\u001b[0m\u001b[0;34m(\u001b[0m\u001b[0mself\u001b[0m\u001b[0;34m.\u001b[0m\u001b[0m_backend\u001b[0m\u001b[0;34m,\u001b[0m \u001b[0mn_jobs\u001b[0m\u001b[0;34m=\u001b[0m\u001b[0mself\u001b[0m\u001b[0;34m.\u001b[0m\u001b[0m_n_jobs\u001b[0m\u001b[0;34m)\u001b[0m\u001b[0;34m:\u001b[0m\u001b[0;34m\u001b[0m\u001b[0;34m\u001b[0m\u001b[0m\n\u001b[1;32m    262\u001b[0m             return [func(*args, **kwargs)\n\u001b[0;32m--> 263\u001b[0;31m                     for func, args, kwargs in self.items]\n\u001b[0m\u001b[1;32m    264\u001b[0m \u001b[0;34m\u001b[0m\u001b[0m\n\u001b[1;32m    265\u001b[0m     \u001b[0;32mdef\u001b[0m \u001b[0m__reduce__\u001b[0m\u001b[0;34m(\u001b[0m\u001b[0mself\u001b[0m\u001b[0;34m)\u001b[0m\u001b[0;34m:\u001b[0m\u001b[0;34m\u001b[0m\u001b[0;34m\u001b[0m\u001b[0m\n",
            "\u001b[0;32m/usr/local/lib/python3.6/dist-packages/joblib/parallel.py\u001b[0m in \u001b[0;36m<listcomp>\u001b[0;34m(.0)\u001b[0m\n\u001b[1;32m    261\u001b[0m         \u001b[0;32mwith\u001b[0m \u001b[0mparallel_backend\u001b[0m\u001b[0;34m(\u001b[0m\u001b[0mself\u001b[0m\u001b[0;34m.\u001b[0m\u001b[0m_backend\u001b[0m\u001b[0;34m,\u001b[0m \u001b[0mn_jobs\u001b[0m\u001b[0;34m=\u001b[0m\u001b[0mself\u001b[0m\u001b[0;34m.\u001b[0m\u001b[0m_n_jobs\u001b[0m\u001b[0;34m)\u001b[0m\u001b[0;34m:\u001b[0m\u001b[0;34m\u001b[0m\u001b[0;34m\u001b[0m\u001b[0m\n\u001b[1;32m    262\u001b[0m             return [func(*args, **kwargs)\n\u001b[0;32m--> 263\u001b[0;31m                     for func, args, kwargs in self.items]\n\u001b[0m\u001b[1;32m    264\u001b[0m \u001b[0;34m\u001b[0m\u001b[0m\n\u001b[1;32m    265\u001b[0m     \u001b[0;32mdef\u001b[0m \u001b[0m__reduce__\u001b[0m\u001b[0;34m(\u001b[0m\u001b[0mself\u001b[0m\u001b[0;34m)\u001b[0m\u001b[0;34m:\u001b[0m\u001b[0;34m\u001b[0m\u001b[0;34m\u001b[0m\u001b[0m\n",
            "\u001b[0;32m/usr/local/lib/python3.6/dist-packages/sklearn/model_selection/_validation.py\u001b[0m in \u001b[0;36m_fit_and_score\u001b[0;34m(estimator, X, y, scorer, train, test, verbose, parameters, fit_params, return_train_score, return_parameters, return_n_test_samples, return_times, return_estimator, error_score)\u001b[0m\n\u001b[1;32m    542\u001b[0m     \u001b[0;32melse\u001b[0m\u001b[0;34m:\u001b[0m\u001b[0;34m\u001b[0m\u001b[0;34m\u001b[0m\u001b[0m\n\u001b[1;32m    543\u001b[0m         \u001b[0mfit_time\u001b[0m \u001b[0;34m=\u001b[0m \u001b[0mtime\u001b[0m\u001b[0;34m.\u001b[0m\u001b[0mtime\u001b[0m\u001b[0;34m(\u001b[0m\u001b[0;34m)\u001b[0m \u001b[0;34m-\u001b[0m \u001b[0mstart_time\u001b[0m\u001b[0;34m\u001b[0m\u001b[0;34m\u001b[0m\u001b[0m\n\u001b[0;32m--> 544\u001b[0;31m         \u001b[0mtest_scores\u001b[0m \u001b[0;34m=\u001b[0m \u001b[0m_score\u001b[0m\u001b[0;34m(\u001b[0m\u001b[0mestimator\u001b[0m\u001b[0;34m,\u001b[0m \u001b[0mX_test\u001b[0m\u001b[0;34m,\u001b[0m \u001b[0my_test\u001b[0m\u001b[0;34m,\u001b[0m \u001b[0mscorer\u001b[0m\u001b[0;34m)\u001b[0m\u001b[0;34m\u001b[0m\u001b[0;34m\u001b[0m\u001b[0m\n\u001b[0m\u001b[1;32m    545\u001b[0m         \u001b[0mscore_time\u001b[0m \u001b[0;34m=\u001b[0m \u001b[0mtime\u001b[0m\u001b[0;34m.\u001b[0m\u001b[0mtime\u001b[0m\u001b[0;34m(\u001b[0m\u001b[0;34m)\u001b[0m \u001b[0;34m-\u001b[0m \u001b[0mstart_time\u001b[0m \u001b[0;34m-\u001b[0m \u001b[0mfit_time\u001b[0m\u001b[0;34m\u001b[0m\u001b[0;34m\u001b[0m\u001b[0m\n\u001b[1;32m    546\u001b[0m         \u001b[0;32mif\u001b[0m \u001b[0mreturn_train_score\u001b[0m\u001b[0;34m:\u001b[0m\u001b[0;34m\u001b[0m\u001b[0;34m\u001b[0m\u001b[0m\n",
            "\u001b[0;32m/usr/local/lib/python3.6/dist-packages/sklearn/model_selection/_validation.py\u001b[0m in \u001b[0;36m_score\u001b[0;34m(estimator, X_test, y_test, scorer)\u001b[0m\n\u001b[1;32m    589\u001b[0m         \u001b[0mscores\u001b[0m \u001b[0;34m=\u001b[0m \u001b[0mscorer\u001b[0m\u001b[0;34m(\u001b[0m\u001b[0mestimator\u001b[0m\u001b[0;34m,\u001b[0m \u001b[0mX_test\u001b[0m\u001b[0;34m)\u001b[0m\u001b[0;34m\u001b[0m\u001b[0;34m\u001b[0m\u001b[0m\n\u001b[1;32m    590\u001b[0m     \u001b[0;32melse\u001b[0m\u001b[0;34m:\u001b[0m\u001b[0;34m\u001b[0m\u001b[0;34m\u001b[0m\u001b[0m\n\u001b[0;32m--> 591\u001b[0;31m         \u001b[0mscores\u001b[0m \u001b[0;34m=\u001b[0m \u001b[0mscorer\u001b[0m\u001b[0;34m(\u001b[0m\u001b[0mestimator\u001b[0m\u001b[0;34m,\u001b[0m \u001b[0mX_test\u001b[0m\u001b[0;34m,\u001b[0m \u001b[0my_test\u001b[0m\u001b[0;34m)\u001b[0m\u001b[0;34m\u001b[0m\u001b[0;34m\u001b[0m\u001b[0m\n\u001b[0m\u001b[1;32m    592\u001b[0m \u001b[0;34m\u001b[0m\u001b[0m\n\u001b[1;32m    593\u001b[0m     error_msg = (\"scoring must return a number, got %s (%s) \"\n",
            "\u001b[0;32m/usr/local/lib/python3.6/dist-packages/sklearn/metrics/_scorer.py\u001b[0m in \u001b[0;36m__call__\u001b[0;34m(self, estimator, *args, **kwargs)\u001b[0m\n\u001b[1;32m     85\u001b[0m             \u001b[0;32mif\u001b[0m \u001b[0misinstance\u001b[0m\u001b[0;34m(\u001b[0m\u001b[0mscorer\u001b[0m\u001b[0;34m,\u001b[0m \u001b[0m_BaseScorer\u001b[0m\u001b[0;34m)\u001b[0m\u001b[0;34m:\u001b[0m\u001b[0;34m\u001b[0m\u001b[0;34m\u001b[0m\u001b[0m\n\u001b[1;32m     86\u001b[0m                 score = scorer._score(cached_call, estimator,\n\u001b[0;32m---> 87\u001b[0;31m                                       *args, **kwargs)\n\u001b[0m\u001b[1;32m     88\u001b[0m             \u001b[0;32melse\u001b[0m\u001b[0;34m:\u001b[0m\u001b[0;34m\u001b[0m\u001b[0;34m\u001b[0m\u001b[0m\n\u001b[1;32m     89\u001b[0m                 \u001b[0mscore\u001b[0m \u001b[0;34m=\u001b[0m \u001b[0mscorer\u001b[0m\u001b[0;34m(\u001b[0m\u001b[0mestimator\u001b[0m\u001b[0;34m,\u001b[0m \u001b[0;34m*\u001b[0m\u001b[0margs\u001b[0m\u001b[0;34m,\u001b[0m \u001b[0;34m**\u001b[0m\u001b[0mkwargs\u001b[0m\u001b[0;34m)\u001b[0m\u001b[0;34m\u001b[0m\u001b[0;34m\u001b[0m\u001b[0m\n",
            "\u001b[0;32m/usr/local/lib/python3.6/dist-packages/sklearn/metrics/_scorer.py\u001b[0m in \u001b[0;36m_score\u001b[0;34m(self, method_caller, estimator, X, y_true, sample_weight)\u001b[0m\n\u001b[1;32m    210\u001b[0m         \u001b[0;32melse\u001b[0m\u001b[0;34m:\u001b[0m\u001b[0;34m\u001b[0m\u001b[0;34m\u001b[0m\u001b[0m\n\u001b[1;32m    211\u001b[0m             return self._sign * self._score_func(y_true, y_pred,\n\u001b[0;32m--> 212\u001b[0;31m                                                  **self._kwargs)\n\u001b[0m\u001b[1;32m    213\u001b[0m \u001b[0;34m\u001b[0m\u001b[0m\n\u001b[1;32m    214\u001b[0m \u001b[0;34m\u001b[0m\u001b[0m\n",
            "\u001b[0;32m/usr/local/lib/python3.6/dist-packages/sklearn/metrics/_classification.py\u001b[0m in \u001b[0;36mf1_score\u001b[0;34m(y_true, y_pred, labels, pos_label, average, sample_weight, zero_division)\u001b[0m\n\u001b[1;32m   1097\u001b[0m                        \u001b[0mpos_label\u001b[0m\u001b[0;34m=\u001b[0m\u001b[0mpos_label\u001b[0m\u001b[0;34m,\u001b[0m \u001b[0maverage\u001b[0m\u001b[0;34m=\u001b[0m\u001b[0maverage\u001b[0m\u001b[0;34m,\u001b[0m\u001b[0;34m\u001b[0m\u001b[0;34m\u001b[0m\u001b[0m\n\u001b[1;32m   1098\u001b[0m                        \u001b[0msample_weight\u001b[0m\u001b[0;34m=\u001b[0m\u001b[0msample_weight\u001b[0m\u001b[0;34m,\u001b[0m\u001b[0;34m\u001b[0m\u001b[0;34m\u001b[0m\u001b[0m\n\u001b[0;32m-> 1099\u001b[0;31m                        zero_division=zero_division)\n\u001b[0m\u001b[1;32m   1100\u001b[0m \u001b[0;34m\u001b[0m\u001b[0m\n\u001b[1;32m   1101\u001b[0m \u001b[0;34m\u001b[0m\u001b[0m\n",
            "\u001b[0;32m/usr/local/lib/python3.6/dist-packages/sklearn/metrics/_classification.py\u001b[0m in \u001b[0;36mfbeta_score\u001b[0;34m(y_true, y_pred, beta, labels, pos_label, average, sample_weight, zero_division)\u001b[0m\n\u001b[1;32m   1224\u001b[0m                                                  \u001b[0mwarn_for\u001b[0m\u001b[0;34m=\u001b[0m\u001b[0;34m(\u001b[0m\u001b[0;34m'f-score'\u001b[0m\u001b[0;34m,\u001b[0m\u001b[0;34m)\u001b[0m\u001b[0;34m,\u001b[0m\u001b[0;34m\u001b[0m\u001b[0;34m\u001b[0m\u001b[0m\n\u001b[1;32m   1225\u001b[0m                                                  \u001b[0msample_weight\u001b[0m\u001b[0;34m=\u001b[0m\u001b[0msample_weight\u001b[0m\u001b[0;34m,\u001b[0m\u001b[0;34m\u001b[0m\u001b[0;34m\u001b[0m\u001b[0m\n\u001b[0;32m-> 1226\u001b[0;31m                                                  zero_division=zero_division)\n\u001b[0m\u001b[1;32m   1227\u001b[0m     \u001b[0;32mreturn\u001b[0m \u001b[0mf\u001b[0m\u001b[0;34m\u001b[0m\u001b[0;34m\u001b[0m\u001b[0m\n\u001b[1;32m   1228\u001b[0m \u001b[0;34m\u001b[0m\u001b[0m\n",
            "\u001b[0;32m/usr/local/lib/python3.6/dist-packages/sklearn/metrics/_classification.py\u001b[0m in \u001b[0;36mprecision_recall_fscore_support\u001b[0;34m(y_true, y_pred, beta, labels, pos_label, average, warn_for, sample_weight, zero_division)\u001b[0m\n\u001b[1;32m   1482\u001b[0m         \u001b[0;32mraise\u001b[0m \u001b[0mValueError\u001b[0m\u001b[0;34m(\u001b[0m\u001b[0;34m\"beta should be >=0 in the F-beta score\"\u001b[0m\u001b[0;34m)\u001b[0m\u001b[0;34m\u001b[0m\u001b[0;34m\u001b[0m\u001b[0m\n\u001b[1;32m   1483\u001b[0m     labels = _check_set_wise_labels(y_true, y_pred, average, labels,\n\u001b[0;32m-> 1484\u001b[0;31m                                     pos_label)\n\u001b[0m\u001b[1;32m   1485\u001b[0m \u001b[0;34m\u001b[0m\u001b[0m\n\u001b[1;32m   1486\u001b[0m     \u001b[0;31m# Calculate tp_sum, pred_sum, true_sum ###\u001b[0m\u001b[0;34m\u001b[0m\u001b[0;34m\u001b[0m\u001b[0;34m\u001b[0m\u001b[0m\n",
            "\u001b[0;32m/usr/local/lib/python3.6/dist-packages/sklearn/metrics/_classification.py\u001b[0m in \u001b[0;36m_check_set_wise_labels\u001b[0;34m(y_true, y_pred, average, labels, pos_label)\u001b[0m\n\u001b[1;32m   1314\u001b[0m             raise ValueError(\"Target is %s but average='binary'. Please \"\n\u001b[1;32m   1315\u001b[0m                              \u001b[0;34m\"choose another average setting, one of %r.\"\u001b[0m\u001b[0;34m\u001b[0m\u001b[0;34m\u001b[0m\u001b[0m\n\u001b[0;32m-> 1316\u001b[0;31m                              % (y_type, average_options))\n\u001b[0m\u001b[1;32m   1317\u001b[0m     \u001b[0;32melif\u001b[0m \u001b[0mpos_label\u001b[0m \u001b[0;32mnot\u001b[0m \u001b[0;32min\u001b[0m \u001b[0;34m(\u001b[0m\u001b[0;32mNone\u001b[0m\u001b[0;34m,\u001b[0m \u001b[0;36m1\u001b[0m\u001b[0;34m)\u001b[0m\u001b[0;34m:\u001b[0m\u001b[0;34m\u001b[0m\u001b[0;34m\u001b[0m\u001b[0m\n\u001b[1;32m   1318\u001b[0m         warnings.warn(\"Note that pos_label (set to %r) is ignored when \"\n",
            "\u001b[0;31mValueError\u001b[0m: Target is multiclass but average='binary'. Please choose another average setting, one of [None, 'micro', 'macro', 'weighted']."
          ]
        }
      ]
    },
    {
      "cell_type": "markdown",
      "metadata": {
        "id": "GdbyIm_eSWBt"
      },
      "source": [
        "# Dobby"
      ]
    },
    {
      "cell_type": "code",
      "metadata": {
        "id": "mqtlPi41SVk3"
      },
      "source": [
        "# import pandas as pd\r\n",
        "# import numpy as np\r\n",
        "# import random\r\n",
        "# import matplotlib.pyplot as plt\r\n",
        "# from tqdm import tqdm\r\n",
        "# from glob import glob\r\n",
        "\r\n",
        "# x_train = []\r\n",
        "\r\n",
        "# for uid in tqdm(train['id'].unique()):\r\n",
        "#     temp = np.array(train[train['id'] == uid].iloc[:,2:], np.float32).T\r\n",
        "#     x_train.append(temp)\r\n",
        "\r\n",
        "# x_train = np.array(x_train, np.float32)\r\n",
        "# x_train = x_train[:,:,:,np.newaxis]\r\n",
        "\r\n",
        "# x_test = []\r\n",
        "\r\n",
        "# for uid in tqdm(test['id'].unique()):\r\n",
        "#     temp = np.array(test[test['id'] == uid].iloc[:,2:], np.float32).T\r\n",
        "#     x_test.append(temp)\r\n",
        "\r\n",
        "# x_test = np.array(x_test, np.float32)\r\n",
        "# x_test = x_test[:,:,:,np.newaxis]"
      ],
      "execution_count": null,
      "outputs": []
    },
    {
      "cell_type": "code",
      "metadata": {
        "id": "zpXfnmgwUZTX"
      },
      "source": [
        "x_train.shape"
      ],
      "execution_count": null,
      "outputs": []
    },
    {
      "cell_type": "markdown",
      "metadata": {
        "id": "HhnsyZSrPaUb"
      },
      "source": [
        "## DACON"
      ]
    },
    {
      "cell_type": "code",
      "metadata": {
        "id": "ZBb3ft3zPYyA"
      },
      "source": [
        "from keras.models import Sequential\r\n",
        "from keras.layers import Dense, LSTM, Dropout\r\n",
        "from keras.callbacks import ModelCheckpoint,EarlyStopping\r\n",
        "\r\n",
        "import pandas as pd\r\n",
        "import numpy\r\n",
        "import os\r\n",
        "import tensorflow as tf"
      ],
      "execution_count": 30,
      "outputs": []
    },
    {
      "cell_type": "code",
      "metadata": {
        "id": "J6v1rTq-PcmR",
        "colab": {
          "base_uri": "https://localhost:8080/"
        },
        "outputId": "73411b60-b349-4cbf-adc8-9fdc495b1a97"
      },
      "source": [
        "X = tf.reshape(np.array(train.iloc[:,2:]),[-1, 600, 6])\r\n",
        "\r\n",
        "y = tf.keras.utils.to_categorical(train_label['label']) \r\n",
        "\r\n",
        "\r\n",
        "y_train = tf.keras.utils.to_categorical(y_train) \r\n",
        "\r\n",
        "X.shape; y.shape"
      ],
      "execution_count": 31,
      "outputs": [
        {
          "output_type": "execute_result",
          "data": {
            "text/plain": [
              "(3125, 61)"
            ]
          },
          "metadata": {
            "tags": []
          },
          "execution_count": 31
        }
      ]
    },
    {
      "cell_type": "markdown",
      "metadata": {
        "id": "_kwAVqyFPzQ9"
      },
      "source": [
        "LSTM: (3125, 600, 6) -> 600개씩 feature 6개를 잘라\r\n",
        "\r\n",
        "Dense: (3125*600, 6)  -> 6개 feature: 3125개\r\n",
        "\r\n",
        "X = (3125, 600, 6)  => reshape\r\n",
        "Dense (X) "
      ]
    },
    {
      "cell_type": "markdown",
      "metadata": {
        "id": "heOQaFaZPgEE"
      },
      "source": [
        "### 모델 학습 및 예측"
      ]
    },
    {
      "cell_type": "code",
      "metadata": {
        "id": "1NydMbsOU2jN",
        "colab": {
          "base_uri": "https://localhost:8080/"
        },
        "outputId": "2158a748-7a47-4a50-dcb0-7dcdde48c5d6"
      },
      "source": [
        "model = Sequential()\r\n",
        "model.add(LSTM(32, input_shape=(600,6)))\r\n",
        "# model.add(Dense(30,  input_dim=12, activation='relu'))\r\n",
        "model.add(Dense(20, activation='relu'))\r\n",
        "model.add(Dense(12, kernel_initializer='normal', activation='relu'))\r\n",
        "Dropout(0.25)\r\n",
        "model.add(Dense(8, activation='relu'))\r\n",
        "model.add(Dense(61, activation='softmax'))\r\n",
        "\r\n",
        "model.compile(loss='categorical_crossentropy',\r\n",
        "          optimizer='adam',\r\n",
        "          metrics=['accuracy'])\r\n",
        "# model.compile(optimizer='rmsprop', loss='categorical_crossentropy', metrics=['accuracy'])\r\n",
        "\r\n",
        "# 모델 저장 폴더 만들기\r\n",
        "# MODEL_DIR = 'content/MyDrive/Colab Notebooks/dacon/model/'\r\n",
        "# if not os.path.exists(MODEL_DIR):\r\n",
        "#    os.mkdir(MODEL_DIR)\r\n",
        "\r\n",
        "modelpath=\"content/MyDrive/Colab Notebooks/dacon/model/{epoch:02d}-{val_loss:.4f}.hdf5\"\r\n",
        "\r\n",
        "# 모델 업데이트 및 저장\r\n",
        "checkpointer = ModelCheckpoint(filepath=modelpath, monitor='val_loss', verbose=1, save_best_only=True)\r\n",
        "\r\n",
        "# 학습 자동 중단 설정\r\n",
        "early_stopping_callback = EarlyStopping(monitor='val_loss', patience=100)\r\n",
        "\r\n",
        "# model.fit(X, y, validation_split=0.2, epochs=3500, batch_size=500, verbose=0, callbacks=[early_stopping_callback,checkpointer])\r\n",
        "model.fit(X,y, epochs=3000, batch_size=128, validation_split=0.2, verbose=0, callbacks=[early_stopping_callback,checkpointer])\r\n",
        "# model.fit(X,y, epochs=30, batch_size=128, validation_split=0.2)   # leaderboard"
      ],
      "execution_count": 32,
      "outputs": [
        {
          "output_type": "stream",
          "text": [
            "\n",
            "Epoch 00001: val_loss improved from inf to 4.00529, saving model to content/MyDrive/Colab Notebooks/dacon/model/01-4.0053.hdf5\n",
            "\n",
            "Epoch 00002: val_loss improved from 4.00529 to 3.72460, saving model to content/MyDrive/Colab Notebooks/dacon/model/02-3.7246.hdf5\n",
            "\n",
            "Epoch 00003: val_loss improved from 3.72460 to 3.08801, saving model to content/MyDrive/Colab Notebooks/dacon/model/03-3.0880.hdf5\n",
            "\n",
            "Epoch 00004: val_loss improved from 3.08801 to 2.84106, saving model to content/MyDrive/Colab Notebooks/dacon/model/04-2.8411.hdf5\n",
            "\n",
            "Epoch 00005: val_loss improved from 2.84106 to 2.77135, saving model to content/MyDrive/Colab Notebooks/dacon/model/05-2.7714.hdf5\n",
            "\n",
            "Epoch 00006: val_loss improved from 2.77135 to 2.73702, saving model to content/MyDrive/Colab Notebooks/dacon/model/06-2.7370.hdf5\n",
            "\n",
            "Epoch 00007: val_loss improved from 2.73702 to 2.71989, saving model to content/MyDrive/Colab Notebooks/dacon/model/07-2.7199.hdf5\n",
            "\n",
            "Epoch 00008: val_loss improved from 2.71989 to 2.70826, saving model to content/MyDrive/Colab Notebooks/dacon/model/08-2.7083.hdf5\n",
            "\n",
            "Epoch 00009: val_loss improved from 2.70826 to 2.69603, saving model to content/MyDrive/Colab Notebooks/dacon/model/09-2.6960.hdf5\n",
            "\n",
            "Epoch 00010: val_loss improved from 2.69603 to 2.69178, saving model to content/MyDrive/Colab Notebooks/dacon/model/10-2.6918.hdf5\n",
            "\n",
            "Epoch 00011: val_loss improved from 2.69178 to 2.68924, saving model to content/MyDrive/Colab Notebooks/dacon/model/11-2.6892.hdf5\n",
            "\n",
            "Epoch 00012: val_loss improved from 2.68924 to 2.68404, saving model to content/MyDrive/Colab Notebooks/dacon/model/12-2.6840.hdf5\n",
            "\n",
            "Epoch 00013: val_loss improved from 2.68404 to 2.68063, saving model to content/MyDrive/Colab Notebooks/dacon/model/13-2.6806.hdf5\n",
            "\n",
            "Epoch 00014: val_loss improved from 2.68063 to 2.67694, saving model to content/MyDrive/Colab Notebooks/dacon/model/14-2.6769.hdf5\n",
            "\n",
            "Epoch 00015: val_loss improved from 2.67694 to 2.67414, saving model to content/MyDrive/Colab Notebooks/dacon/model/15-2.6741.hdf5\n",
            "\n",
            "Epoch 00016: val_loss improved from 2.67414 to 2.66964, saving model to content/MyDrive/Colab Notebooks/dacon/model/16-2.6696.hdf5\n",
            "\n",
            "Epoch 00017: val_loss improved from 2.66964 to 2.66302, saving model to content/MyDrive/Colab Notebooks/dacon/model/17-2.6630.hdf5\n",
            "\n",
            "Epoch 00018: val_loss improved from 2.66302 to 2.65823, saving model to content/MyDrive/Colab Notebooks/dacon/model/18-2.6582.hdf5\n",
            "\n",
            "Epoch 00019: val_loss improved from 2.65823 to 2.65090, saving model to content/MyDrive/Colab Notebooks/dacon/model/19-2.6509.hdf5\n",
            "\n",
            "Epoch 00020: val_loss improved from 2.65090 to 2.64866, saving model to content/MyDrive/Colab Notebooks/dacon/model/20-2.6487.hdf5\n",
            "\n",
            "Epoch 00021: val_loss improved from 2.64866 to 2.63546, saving model to content/MyDrive/Colab Notebooks/dacon/model/21-2.6355.hdf5\n",
            "\n",
            "Epoch 00022: val_loss improved from 2.63546 to 2.63115, saving model to content/MyDrive/Colab Notebooks/dacon/model/22-2.6312.hdf5\n",
            "\n",
            "Epoch 00023: val_loss improved from 2.63115 to 2.62399, saving model to content/MyDrive/Colab Notebooks/dacon/model/23-2.6240.hdf5\n",
            "\n",
            "Epoch 00024: val_loss did not improve from 2.62399\n",
            "\n",
            "Epoch 00025: val_loss improved from 2.62399 to 2.60741, saving model to content/MyDrive/Colab Notebooks/dacon/model/25-2.6074.hdf5\n",
            "\n",
            "Epoch 00026: val_loss improved from 2.60741 to 2.60269, saving model to content/MyDrive/Colab Notebooks/dacon/model/26-2.6027.hdf5\n",
            "\n",
            "Epoch 00027: val_loss did not improve from 2.60269\n",
            "\n",
            "Epoch 00028: val_loss improved from 2.60269 to 2.59499, saving model to content/MyDrive/Colab Notebooks/dacon/model/28-2.5950.hdf5\n",
            "\n",
            "Epoch 00029: val_loss improved from 2.59499 to 2.57266, saving model to content/MyDrive/Colab Notebooks/dacon/model/29-2.5727.hdf5\n",
            "\n",
            "Epoch 00030: val_loss improved from 2.57266 to 2.57119, saving model to content/MyDrive/Colab Notebooks/dacon/model/30-2.5712.hdf5\n",
            "\n",
            "Epoch 00031: val_loss improved from 2.57119 to 2.55886, saving model to content/MyDrive/Colab Notebooks/dacon/model/31-2.5589.hdf5\n",
            "\n",
            "Epoch 00032: val_loss improved from 2.55886 to 2.55071, saving model to content/MyDrive/Colab Notebooks/dacon/model/32-2.5507.hdf5\n",
            "\n",
            "Epoch 00033: val_loss improved from 2.55071 to 2.53618, saving model to content/MyDrive/Colab Notebooks/dacon/model/33-2.5362.hdf5\n",
            "\n",
            "Epoch 00034: val_loss improved from 2.53618 to 2.52251, saving model to content/MyDrive/Colab Notebooks/dacon/model/34-2.5225.hdf5\n",
            "\n",
            "Epoch 00035: val_loss improved from 2.52251 to 2.51455, saving model to content/MyDrive/Colab Notebooks/dacon/model/35-2.5145.hdf5\n",
            "\n",
            "Epoch 00036: val_loss improved from 2.51455 to 2.50635, saving model to content/MyDrive/Colab Notebooks/dacon/model/36-2.5064.hdf5\n",
            "\n",
            "Epoch 00037: val_loss improved from 2.50635 to 2.49946, saving model to content/MyDrive/Colab Notebooks/dacon/model/37-2.4995.hdf5\n",
            "\n",
            "Epoch 00038: val_loss did not improve from 2.49946\n",
            "\n",
            "Epoch 00039: val_loss improved from 2.49946 to 2.49241, saving model to content/MyDrive/Colab Notebooks/dacon/model/39-2.4924.hdf5\n",
            "\n",
            "Epoch 00040: val_loss improved from 2.49241 to 2.48090, saving model to content/MyDrive/Colab Notebooks/dacon/model/40-2.4809.hdf5\n",
            "\n",
            "Epoch 00041: val_loss did not improve from 2.48090\n",
            "\n",
            "Epoch 00042: val_loss did not improve from 2.48090\n",
            "\n",
            "Epoch 00043: val_loss improved from 2.48090 to 2.46086, saving model to content/MyDrive/Colab Notebooks/dacon/model/43-2.4609.hdf5\n",
            "\n",
            "Epoch 00044: val_loss improved from 2.46086 to 2.45104, saving model to content/MyDrive/Colab Notebooks/dacon/model/44-2.4510.hdf5\n",
            "\n",
            "Epoch 00045: val_loss did not improve from 2.45104\n",
            "\n",
            "Epoch 00046: val_loss did not improve from 2.45104\n",
            "\n",
            "Epoch 00047: val_loss improved from 2.45104 to 2.45082, saving model to content/MyDrive/Colab Notebooks/dacon/model/47-2.4508.hdf5\n",
            "\n",
            "Epoch 00048: val_loss improved from 2.45082 to 2.44826, saving model to content/MyDrive/Colab Notebooks/dacon/model/48-2.4483.hdf5\n",
            "\n",
            "Epoch 00049: val_loss did not improve from 2.44826\n",
            "\n",
            "Epoch 00050: val_loss did not improve from 2.44826\n",
            "\n",
            "Epoch 00051: val_loss did not improve from 2.44826\n",
            "\n",
            "Epoch 00052: val_loss improved from 2.44826 to 2.44803, saving model to content/MyDrive/Colab Notebooks/dacon/model/52-2.4480.hdf5\n",
            "\n",
            "Epoch 00053: val_loss did not improve from 2.44803\n",
            "\n",
            "Epoch 00054: val_loss did not improve from 2.44803\n",
            "\n",
            "Epoch 00055: val_loss did not improve from 2.44803\n",
            "\n",
            "Epoch 00056: val_loss did not improve from 2.44803\n",
            "\n",
            "Epoch 00057: val_loss did not improve from 2.44803\n",
            "\n",
            "Epoch 00058: val_loss did not improve from 2.44803\n",
            "\n",
            "Epoch 00059: val_loss did not improve from 2.44803\n",
            "\n",
            "Epoch 00060: val_loss did not improve from 2.44803\n",
            "\n",
            "Epoch 00061: val_loss did not improve from 2.44803\n",
            "\n",
            "Epoch 00062: val_loss did not improve from 2.44803\n",
            "\n",
            "Epoch 00063: val_loss did not improve from 2.44803\n",
            "\n",
            "Epoch 00064: val_loss did not improve from 2.44803\n",
            "\n",
            "Epoch 00065: val_loss did not improve from 2.44803\n",
            "\n",
            "Epoch 00066: val_loss did not improve from 2.44803\n",
            "\n",
            "Epoch 00067: val_loss did not improve from 2.44803\n",
            "\n",
            "Epoch 00068: val_loss did not improve from 2.44803\n",
            "\n",
            "Epoch 00069: val_loss did not improve from 2.44803\n",
            "\n",
            "Epoch 00070: val_loss did not improve from 2.44803\n",
            "\n",
            "Epoch 00071: val_loss did not improve from 2.44803\n",
            "\n",
            "Epoch 00072: val_loss did not improve from 2.44803\n",
            "\n",
            "Epoch 00073: val_loss did not improve from 2.44803\n",
            "\n",
            "Epoch 00074: val_loss did not improve from 2.44803\n",
            "\n",
            "Epoch 00075: val_loss did not improve from 2.44803\n",
            "\n",
            "Epoch 00076: val_loss did not improve from 2.44803\n",
            "\n",
            "Epoch 00077: val_loss did not improve from 2.44803\n",
            "\n",
            "Epoch 00078: val_loss did not improve from 2.44803\n",
            "\n",
            "Epoch 00079: val_loss did not improve from 2.44803\n",
            "\n",
            "Epoch 00080: val_loss did not improve from 2.44803\n",
            "\n",
            "Epoch 00081: val_loss did not improve from 2.44803\n",
            "\n",
            "Epoch 00082: val_loss did not improve from 2.44803\n",
            "\n",
            "Epoch 00083: val_loss did not improve from 2.44803\n",
            "\n",
            "Epoch 00084: val_loss did not improve from 2.44803\n",
            "\n",
            "Epoch 00085: val_loss did not improve from 2.44803\n",
            "\n",
            "Epoch 00086: val_loss did not improve from 2.44803\n",
            "\n",
            "Epoch 00087: val_loss did not improve from 2.44803\n",
            "\n",
            "Epoch 00088: val_loss did not improve from 2.44803\n",
            "\n",
            "Epoch 00089: val_loss did not improve from 2.44803\n",
            "\n",
            "Epoch 00090: val_loss did not improve from 2.44803\n",
            "\n",
            "Epoch 00091: val_loss did not improve from 2.44803\n",
            "\n",
            "Epoch 00092: val_loss did not improve from 2.44803\n",
            "\n",
            "Epoch 00093: val_loss did not improve from 2.44803\n",
            "\n",
            "Epoch 00094: val_loss did not improve from 2.44803\n",
            "\n",
            "Epoch 00095: val_loss did not improve from 2.44803\n",
            "\n",
            "Epoch 00096: val_loss did not improve from 2.44803\n",
            "\n",
            "Epoch 00097: val_loss did not improve from 2.44803\n",
            "\n",
            "Epoch 00098: val_loss did not improve from 2.44803\n",
            "\n",
            "Epoch 00099: val_loss did not improve from 2.44803\n",
            "\n",
            "Epoch 00100: val_loss did not improve from 2.44803\n",
            "\n",
            "Epoch 00101: val_loss did not improve from 2.44803\n",
            "\n",
            "Epoch 00102: val_loss did not improve from 2.44803\n",
            "\n",
            "Epoch 00103: val_loss did not improve from 2.44803\n",
            "\n",
            "Epoch 00104: val_loss did not improve from 2.44803\n",
            "\n",
            "Epoch 00105: val_loss did not improve from 2.44803\n",
            "\n",
            "Epoch 00106: val_loss did not improve from 2.44803\n",
            "\n",
            "Epoch 00107: val_loss did not improve from 2.44803\n",
            "\n",
            "Epoch 00108: val_loss did not improve from 2.44803\n",
            "\n",
            "Epoch 00109: val_loss did not improve from 2.44803\n",
            "\n",
            "Epoch 00110: val_loss did not improve from 2.44803\n",
            "\n",
            "Epoch 00111: val_loss did not improve from 2.44803\n",
            "\n",
            "Epoch 00112: val_loss did not improve from 2.44803\n",
            "\n",
            "Epoch 00113: val_loss did not improve from 2.44803\n",
            "\n",
            "Epoch 00114: val_loss did not improve from 2.44803\n",
            "\n",
            "Epoch 00115: val_loss did not improve from 2.44803\n",
            "\n",
            "Epoch 00116: val_loss did not improve from 2.44803\n",
            "\n",
            "Epoch 00117: val_loss did not improve from 2.44803\n",
            "\n",
            "Epoch 00118: val_loss did not improve from 2.44803\n",
            "\n",
            "Epoch 00119: val_loss did not improve from 2.44803\n",
            "\n",
            "Epoch 00120: val_loss did not improve from 2.44803\n",
            "\n",
            "Epoch 00121: val_loss did not improve from 2.44803\n",
            "\n",
            "Epoch 00122: val_loss did not improve from 2.44803\n",
            "\n",
            "Epoch 00123: val_loss did not improve from 2.44803\n",
            "\n",
            "Epoch 00124: val_loss did not improve from 2.44803\n",
            "\n",
            "Epoch 00125: val_loss did not improve from 2.44803\n",
            "\n",
            "Epoch 00126: val_loss did not improve from 2.44803\n",
            "\n",
            "Epoch 00127: val_loss did not improve from 2.44803\n",
            "\n",
            "Epoch 00128: val_loss did not improve from 2.44803\n",
            "\n",
            "Epoch 00129: val_loss did not improve from 2.44803\n",
            "\n",
            "Epoch 00130: val_loss did not improve from 2.44803\n",
            "\n",
            "Epoch 00131: val_loss did not improve from 2.44803\n",
            "\n",
            "Epoch 00132: val_loss did not improve from 2.44803\n",
            "\n",
            "Epoch 00133: val_loss did not improve from 2.44803\n",
            "\n",
            "Epoch 00134: val_loss did not improve from 2.44803\n",
            "\n",
            "Epoch 00135: val_loss did not improve from 2.44803\n",
            "\n",
            "Epoch 00136: val_loss did not improve from 2.44803\n",
            "\n",
            "Epoch 00137: val_loss did not improve from 2.44803\n",
            "\n",
            "Epoch 00138: val_loss did not improve from 2.44803\n",
            "\n",
            "Epoch 00139: val_loss did not improve from 2.44803\n",
            "\n",
            "Epoch 00140: val_loss did not improve from 2.44803\n",
            "\n",
            "Epoch 00141: val_loss did not improve from 2.44803\n",
            "\n",
            "Epoch 00142: val_loss did not improve from 2.44803\n",
            "\n",
            "Epoch 00143: val_loss did not improve from 2.44803\n",
            "\n",
            "Epoch 00144: val_loss did not improve from 2.44803\n",
            "\n",
            "Epoch 00145: val_loss did not improve from 2.44803\n",
            "\n",
            "Epoch 00146: val_loss did not improve from 2.44803\n",
            "\n",
            "Epoch 00147: val_loss did not improve from 2.44803\n",
            "\n",
            "Epoch 00148: val_loss did not improve from 2.44803\n",
            "\n",
            "Epoch 00149: val_loss did not improve from 2.44803\n",
            "\n",
            "Epoch 00150: val_loss did not improve from 2.44803\n",
            "\n",
            "Epoch 00151: val_loss did not improve from 2.44803\n",
            "\n",
            "Epoch 00152: val_loss did not improve from 2.44803\n"
          ],
          "name": "stdout"
        },
        {
          "output_type": "execute_result",
          "data": {
            "text/plain": [
              "<tensorflow.python.keras.callbacks.History at 0x7fe73ce2e550>"
            ]
          },
          "metadata": {
            "tags": []
          },
          "execution_count": 32
        }
      ]
    },
    {
      "cell_type": "code",
      "metadata": {
        "id": "KY3_Qapu5BF6",
        "colab": {
          "base_uri": "https://localhost:8080/"
        },
        "outputId": "553303fe-2655-4f1a-9c08-c4aa23157eec"
      },
      "source": [
        "X_test.shape"
      ],
      "execution_count": 33,
      "outputs": [
        {
          "output_type": "execute_result",
          "data": {
            "text/plain": [
              "(782, 24)"
            ]
          },
          "metadata": {
            "tags": []
          },
          "execution_count": 33
        }
      ]
    },
    {
      "cell_type": "code",
      "metadata": {
        "id": "KIzHn3W50YBy",
        "colab": {
          "base_uri": "https://localhost:8080/",
          "height": 208
        },
        "outputId": "501ed671-46bd-487b-b179-8bc77a69d896"
      },
      "source": [
        "model = Sequential()\r\n",
        "model.add(LSTM(32, input_shape=(600,6)))\r\n",
        "# model.add(Dense(30,  input_dim=24, activation='relu'))\r\n",
        "model.add(Dense(20, activation='relu'))\r\n",
        "Dropout(0.25)\r\n",
        "model.add(Dense(12, kernel_initializer='normal', activation='relu'))\r\n",
        "model.add(Dense(8, activation='relu'))\r\n",
        "model.add(Dense(61, activation='softmax'))\r\n",
        "\r\n",
        "model.compile(loss='categorical_crossentropy',\r\n",
        "          optimizer='adam',\r\n",
        "          metrics=['accuracy'])\r\n",
        "\r\n",
        "# 모델 업데이트 및 저장\r\n",
        "modelpath=\"content/MyDrive/Colab Notebooks/dacon/model/{epoch:02d}-{val_loss:.4f}.hdf5\"\r\n",
        "checkpointer = ModelCheckpoint(filepath=modelpath, monitor='val_loss', verbose=1, save_best_only=True)\r\n",
        "\r\n",
        "# 학습 자동 중단 설정\r\n",
        "early_stopping_callback = EarlyStopping(monitor='val_loss', patience=100)\r\n",
        "\r\n",
        "model.fit(X_scaled,y, epochs=3000, batch_size=128, validation_split=0.2, verbose=0, callbacks=[early_stopping_callback,checkpointer])"
      ],
      "execution_count": 34,
      "outputs": [
        {
          "output_type": "error",
          "ename": "NameError",
          "evalue": "ignored",
          "traceback": [
            "\u001b[0;31m---------------------------------------------------------------------------\u001b[0m",
            "\u001b[0;31mNameError\u001b[0m                                 Traceback (most recent call last)",
            "\u001b[0;32m<ipython-input-34-d1d25fdeb8f3>\u001b[0m in \u001b[0;36m<module>\u001b[0;34m()\u001b[0m\n\u001b[1;32m     19\u001b[0m \u001b[0mearly_stopping_callback\u001b[0m \u001b[0;34m=\u001b[0m \u001b[0mEarlyStopping\u001b[0m\u001b[0;34m(\u001b[0m\u001b[0mmonitor\u001b[0m\u001b[0;34m=\u001b[0m\u001b[0;34m'val_loss'\u001b[0m\u001b[0;34m,\u001b[0m \u001b[0mpatience\u001b[0m\u001b[0;34m=\u001b[0m\u001b[0;36m100\u001b[0m\u001b[0;34m)\u001b[0m\u001b[0;34m\u001b[0m\u001b[0;34m\u001b[0m\u001b[0m\n\u001b[1;32m     20\u001b[0m \u001b[0;34m\u001b[0m\u001b[0m\n\u001b[0;32m---> 21\u001b[0;31m \u001b[0mmodel\u001b[0m\u001b[0;34m.\u001b[0m\u001b[0mfit\u001b[0m\u001b[0;34m(\u001b[0m\u001b[0mX_scaled\u001b[0m\u001b[0;34m,\u001b[0m\u001b[0my\u001b[0m\u001b[0;34m,\u001b[0m \u001b[0mepochs\u001b[0m\u001b[0;34m=\u001b[0m\u001b[0;36m3000\u001b[0m\u001b[0;34m,\u001b[0m \u001b[0mbatch_size\u001b[0m\u001b[0;34m=\u001b[0m\u001b[0;36m128\u001b[0m\u001b[0;34m,\u001b[0m \u001b[0mvalidation_split\u001b[0m\u001b[0;34m=\u001b[0m\u001b[0;36m0.2\u001b[0m\u001b[0;34m,\u001b[0m \u001b[0mverbose\u001b[0m\u001b[0;34m=\u001b[0m\u001b[0;36m0\u001b[0m\u001b[0;34m,\u001b[0m \u001b[0mcallbacks\u001b[0m\u001b[0;34m=\u001b[0m\u001b[0;34m[\u001b[0m\u001b[0mearly_stopping_callback\u001b[0m\u001b[0;34m,\u001b[0m\u001b[0mcheckpointer\u001b[0m\u001b[0;34m]\u001b[0m\u001b[0;34m)\u001b[0m\u001b[0;34m\u001b[0m\u001b[0;34m\u001b[0m\u001b[0m\n\u001b[0m",
            "\u001b[0;31mNameError\u001b[0m: name 'X_scaled' is not defined"
          ]
        }
      ]
    },
    {
      "cell_type": "code",
      "metadata": {
        "id": "tV295yK3iKrM"
      },
      "source": [
        "X_test  = test[features].groupby('id').agg(['max', 'min', 'median', 'std'])    #, 'median', 'std'])"
      ],
      "execution_count": null,
      "outputs": []
    },
    {
      "cell_type": "code",
      "metadata": {
        "id": "1Ao5dBYtiwD_"
      },
      "source": [
        "X_test.shape"
      ],
      "execution_count": null,
      "outputs": []
    },
    {
      "cell_type": "code",
      "metadata": {
        "id": "QTUO7crAPmXW"
      },
      "source": [
        "test_X=tf.reshape(np.array(test.iloc[:,2:]),[-1, 600, 6])\r\n",
        "# test_X.shape\r\n",
        "\r\n",
        "prediction=model.predict(test_X)\r\n",
        "# prediction=model.predict(X_test)\r\n",
        "\r\n",
        "prediction.shape"
      ],
      "execution_count": null,
      "outputs": []
    },
    {
      "cell_type": "code",
      "metadata": {
        "id": "wk3ox7BTYOjB"
      },
      "source": [
        "submission.iloc[:,1:]=prediction\r\n",
        "submission.to_csv('baseline_submission5.csv', index=False)"
      ],
      "execution_count": null,
      "outputs": []
    },
    {
      "cell_type": "code",
      "metadata": {
        "id": "wPwThdNNtwMg"
      },
      "source": [
        ""
      ],
      "execution_count": null,
      "outputs": []
    }
  ]
}