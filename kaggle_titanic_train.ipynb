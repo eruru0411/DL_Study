{
  "nbformat": 4,
  "nbformat_minor": 0,
  "metadata": {
    "colab": {
      "name": "kaggle_titanic_train.ipynb",
      "provenance": [],
      "authorship_tag": "ABX9TyPOdhvABe5JMBczMhXBesLX",
      "include_colab_link": true
    },
    "kernelspec": {
      "name": "python3",
      "display_name": "Python 3"
    }
  },
  "cells": [
    {
      "cell_type": "markdown",
      "metadata": {
        "id": "view-in-github",
        "colab_type": "text"
      },
      "source": [
        "<a href=\"https://colab.research.google.com/github/eruru0411/git-test/blob/master/kaggle_titanic_train.ipynb\" target=\"_parent\"><img src=\"https://colab.research.google.com/assets/colab-badge.svg\" alt=\"Open In Colab\"/></a>"
      ]
    },
    {
      "cell_type": "markdown",
      "metadata": {
        "id": "YyuZrGvSV3bx"
      },
      "source": [
        "##Kaggle Titanic 생존률 예측"
      ]
    },
    {
      "cell_type": "code",
      "metadata": {
        "id": "VGmR_kusVe76"
      },
      "source": [
        "import pandas as pd\r\n",
        "import numpy as np\r\n",
        "import matplotlib.pyplot as plt\r\n",
        "import seaborn as sns\r\n",
        "from sklearn.model_selection import train_test_split"
      ],
      "execution_count": 22,
      "outputs": []
    },
    {
      "cell_type": "code",
      "metadata": {
        "colab": {
          "base_uri": "https://localhost:8080/"
        },
        "id": "aPKfxR8xVph-",
        "outputId": "4e941fe3-72fd-464a-a363-04e536ecebae"
      },
      "source": [
        "df=pd.read_csv(\"train.csv\")\r\n",
        "df.info()"
      ],
      "execution_count": 23,
      "outputs": [
        {
          "output_type": "stream",
          "text": [
            "<class 'pandas.core.frame.DataFrame'>\n",
            "RangeIndex: 891 entries, 0 to 890\n",
            "Data columns (total 12 columns):\n",
            " #   Column       Non-Null Count  Dtype  \n",
            "---  ------       --------------  -----  \n",
            " 0   PassengerId  891 non-null    int64  \n",
            " 1   Survived     891 non-null    int64  \n",
            " 2   Pclass       891 non-null    int64  \n",
            " 3   Name         891 non-null    object \n",
            " 4   Sex          891 non-null    object \n",
            " 5   Age          714 non-null    float64\n",
            " 6   SibSp        891 non-null    int64  \n",
            " 7   Parch        891 non-null    int64  \n",
            " 8   Ticket       891 non-null    object \n",
            " 9   Fare         891 non-null    float64\n",
            " 10  Cabin        204 non-null    object \n",
            " 11  Embarked     889 non-null    object \n",
            "dtypes: float64(2), int64(5), object(5)\n",
            "memory usage: 83.7+ KB\n"
          ],
          "name": "stdout"
        }
      ]
    },
    {
      "cell_type": "code",
      "metadata": {
        "colab": {
          "base_uri": "https://localhost:8080/",
          "height": 408
        },
        "id": "W3blgTwDXQhH",
        "outputId": "03b293f6-713f-494b-b35e-2d54d3a06906"
      },
      "source": [
        "df.head()"
      ],
      "execution_count": 24,
      "outputs": [
        {
          "output_type": "execute_result",
          "data": {
            "text/html": [
              "<div>\n",
              "<style scoped>\n",
              "    .dataframe tbody tr th:only-of-type {\n",
              "        vertical-align: middle;\n",
              "    }\n",
              "\n",
              "    .dataframe tbody tr th {\n",
              "        vertical-align: top;\n",
              "    }\n",
              "\n",
              "    .dataframe thead th {\n",
              "        text-align: right;\n",
              "    }\n",
              "</style>\n",
              "<table border=\"1\" class=\"dataframe\">\n",
              "  <thead>\n",
              "    <tr style=\"text-align: right;\">\n",
              "      <th></th>\n",
              "      <th>PassengerId</th>\n",
              "      <th>Survived</th>\n",
              "      <th>Pclass</th>\n",
              "      <th>Name</th>\n",
              "      <th>Sex</th>\n",
              "      <th>Age</th>\n",
              "      <th>SibSp</th>\n",
              "      <th>Parch</th>\n",
              "      <th>Ticket</th>\n",
              "      <th>Fare</th>\n",
              "      <th>Cabin</th>\n",
              "      <th>Embarked</th>\n",
              "    </tr>\n",
              "  </thead>\n",
              "  <tbody>\n",
              "    <tr>\n",
              "      <th>0</th>\n",
              "      <td>1</td>\n",
              "      <td>0</td>\n",
              "      <td>3</td>\n",
              "      <td>Braund, Mr. Owen Harris</td>\n",
              "      <td>male</td>\n",
              "      <td>22.0</td>\n",
              "      <td>1</td>\n",
              "      <td>0</td>\n",
              "      <td>A/5 21171</td>\n",
              "      <td>7.2500</td>\n",
              "      <td>NaN</td>\n",
              "      <td>S</td>\n",
              "    </tr>\n",
              "    <tr>\n",
              "      <th>1</th>\n",
              "      <td>2</td>\n",
              "      <td>1</td>\n",
              "      <td>1</td>\n",
              "      <td>Cumings, Mrs. John Bradley (Florence Briggs Th...</td>\n",
              "      <td>female</td>\n",
              "      <td>38.0</td>\n",
              "      <td>1</td>\n",
              "      <td>0</td>\n",
              "      <td>PC 17599</td>\n",
              "      <td>71.2833</td>\n",
              "      <td>C85</td>\n",
              "      <td>C</td>\n",
              "    </tr>\n",
              "    <tr>\n",
              "      <th>2</th>\n",
              "      <td>3</td>\n",
              "      <td>1</td>\n",
              "      <td>3</td>\n",
              "      <td>Heikkinen, Miss. Laina</td>\n",
              "      <td>female</td>\n",
              "      <td>26.0</td>\n",
              "      <td>0</td>\n",
              "      <td>0</td>\n",
              "      <td>STON/O2. 3101282</td>\n",
              "      <td>7.9250</td>\n",
              "      <td>NaN</td>\n",
              "      <td>S</td>\n",
              "    </tr>\n",
              "    <tr>\n",
              "      <th>3</th>\n",
              "      <td>4</td>\n",
              "      <td>1</td>\n",
              "      <td>1</td>\n",
              "      <td>Futrelle, Mrs. Jacques Heath (Lily May Peel)</td>\n",
              "      <td>female</td>\n",
              "      <td>35.0</td>\n",
              "      <td>1</td>\n",
              "      <td>0</td>\n",
              "      <td>113803</td>\n",
              "      <td>53.1000</td>\n",
              "      <td>C123</td>\n",
              "      <td>S</td>\n",
              "    </tr>\n",
              "    <tr>\n",
              "      <th>4</th>\n",
              "      <td>5</td>\n",
              "      <td>0</td>\n",
              "      <td>3</td>\n",
              "      <td>Allen, Mr. William Henry</td>\n",
              "      <td>male</td>\n",
              "      <td>35.0</td>\n",
              "      <td>0</td>\n",
              "      <td>0</td>\n",
              "      <td>373450</td>\n",
              "      <td>8.0500</td>\n",
              "      <td>NaN</td>\n",
              "      <td>S</td>\n",
              "    </tr>\n",
              "  </tbody>\n",
              "</table>\n",
              "</div>"
            ],
            "text/plain": [
              "   PassengerId  Survived  Pclass  ...     Fare Cabin  Embarked\n",
              "0            1         0       3  ...   7.2500   NaN         S\n",
              "1            2         1       1  ...  71.2833   C85         C\n",
              "2            3         1       3  ...   7.9250   NaN         S\n",
              "3            4         1       1  ...  53.1000  C123         S\n",
              "4            5         0       3  ...   8.0500   NaN         S\n",
              "\n",
              "[5 rows x 12 columns]"
            ]
          },
          "metadata": {
            "tags": []
          },
          "execution_count": 24
        }
      ]
    },
    {
      "cell_type": "code",
      "metadata": {
        "colab": {
          "base_uri": "https://localhost:8080/"
        },
        "id": "wKgC-W2AWXRj",
        "outputId": "8c525edb-ea8a-456e-c037-a0fddac61251"
      },
      "source": [
        "#Target feature 선정\r\n",
        "X = df.drop(\"Survived\", axis=1)\r\n",
        "y = df[\"Survived\"]\r\n",
        "print(X.head())\r\n",
        "print(y.head())"
      ],
      "execution_count": 26,
      "outputs": [
        {
          "output_type": "stream",
          "text": [
            "   PassengerId  Pclass  ... Cabin Embarked\n",
            "0            1       3  ...   NaN        S\n",
            "1            2       1  ...   C85        C\n",
            "2            3       3  ...   NaN        S\n",
            "3            4       1  ...  C123        S\n",
            "4            5       3  ...   NaN        S\n",
            "\n",
            "[5 rows x 11 columns]\n",
            "0    0\n",
            "1    1\n",
            "2    1\n",
            "3    1\n",
            "4    0\n",
            "Name: Survived, dtype: int64\n"
          ],
          "name": "stdout"
        }
      ]
    },
    {
      "cell_type": "markdown",
      "metadata": {
        "id": "Q7cDTzI9ix_W"
      },
      "source": [
        "#### Object 처리"
      ]
    },
    {
      "cell_type": "code",
      "metadata": {
        "colab": {
          "base_uri": "https://localhost:8080/"
        },
        "id": "rHG_YGZKXLVR",
        "outputId": "47d1266c-114b-4c18-a2df-bb9e11b89e68"
      },
      "source": [
        "X[\"Sex\"]=X[\"Sex\"].apply(lambda x:0 if x==\"female\" else 1) #여자 0, 남자 1\r\n",
        "print(X[\"Sex\"].head())"
      ],
      "execution_count": 27,
      "outputs": [
        {
          "output_type": "stream",
          "text": [
            "0    1\n",
            "1    0\n",
            "2    0\n",
            "3    0\n",
            "4    1\n",
            "Name: Sex, dtype: int64\n"
          ],
          "name": "stdout"
        }
      ]
    },
    {
      "cell_type": "markdown",
      "metadata": {
        "id": "FHjfqj10inkE"
      },
      "source": [
        "#### 결측처리 \r\n",
        "1. 삭제\r\n",
        "2. 대체\r\n",
        "3. 예측"
      ]
    },
    {
      "cell_type": "code",
      "metadata": {
        "colab": {
          "base_uri": "https://localhost:8080/"
        },
        "id": "igp8n1zLXnSz",
        "outputId": "2ace5051-0eee-4b89-87d1-b0a52886eb5d"
      },
      "source": [
        "#결측데이터 확인\r\n",
        "print(X.isnull().sum()) #age 177/ Cabin 687, embarked 2건의 null 데이터 확인 -> Cabin은 결측이 너무 많아서(687건) 삭제. "
      ],
      "execution_count": 28,
      "outputs": [
        {
          "output_type": "stream",
          "text": [
            "PassengerId      0\n",
            "Pclass           0\n",
            "Name             0\n",
            "Sex              0\n",
            "Age            177\n",
            "SibSp            0\n",
            "Parch            0\n",
            "Ticket           0\n",
            "Fare             0\n",
            "Cabin          687\n",
            "Embarked         2\n",
            "dtype: int64\n"
          ],
          "name": "stdout"
        }
      ]
    },
    {
      "cell_type": "code",
      "metadata": {
        "colab": {
          "base_uri": "https://localhost:8080/"
        },
        "id": "6KsCHOGjbIZB",
        "outputId": "f80dc4d0-cf48-4296-984c-1f1472af0810"
      },
      "source": [
        "#나이 예측하기 위해 이름의 호칭 추출 \r\n",
        "X[\"Name2\"] = X[\"Name\"].str.extract(\"([A-Za-z]+)\\.\")\r\n",
        "X[\"Name2\"].value_counts()"
      ],
      "execution_count": 29,
      "outputs": [
        {
          "output_type": "execute_result",
          "data": {
            "text/plain": [
              "Mr          517\n",
              "Miss        182\n",
              "Mrs         125\n",
              "Master       40\n",
              "Dr            7\n",
              "Rev           6\n",
              "Major         2\n",
              "Col           2\n",
              "Mlle          2\n",
              "Jonkheer      1\n",
              "Lady          1\n",
              "Mme           1\n",
              "Sir           1\n",
              "Countess      1\n",
              "Capt          1\n",
              "Don           1\n",
              "Ms            1\n",
              "Name: Name2, dtype: int64"
            ]
          },
          "metadata": {
            "tags": []
          },
          "execution_count": 29
        }
      ]
    },
    {
      "cell_type": "code",
      "metadata": {
        "colab": {
          "base_uri": "https://localhost:8080/"
        },
        "id": "W8XIJYzzd41i",
        "outputId": "4ba94ecd-9917-44c9-93b8-34947eae3abe"
      },
      "source": [
        "#Mr.Miss.Mrs.Master.Other로 분류\r\n",
        "X[\"Name2\"].replace(['Mlle','Mme','Ms','Dr','Major','Lady','Countess','Jonkheer','Col','Rev','Capt','Sir','Don'],['Miss','Miss','Miss','Mr','Mr','Mrs','Mrs','Other','Other','Other','Mr','Mr','Mr'],inplace=True)\r\n",
        "X[\"Name2\"].value_counts()"
      ],
      "execution_count": 30,
      "outputs": [
        {
          "output_type": "execute_result",
          "data": {
            "text/plain": [
              "Mr        529\n",
              "Miss      186\n",
              "Mrs       127\n",
              "Master     40\n",
              "Other       9\n",
              "Name: Name2, dtype: int64"
            ]
          },
          "metadata": {
            "tags": []
          },
          "execution_count": 30
        }
      ]
    },
    {
      "cell_type": "code",
      "metadata": {
        "colab": {
          "base_uri": "https://localhost:8080/"
        },
        "id": "KM_krMLleV4U",
        "outputId": "111a20ed-9ec1-40f7-fe9b-73f07b7f316e"
      },
      "source": [
        "X.groupby(\"Name2\")[\"Age\"].mean()"
      ],
      "execution_count": 31,
      "outputs": [
        {
          "output_type": "execute_result",
          "data": {
            "text/plain": [
              "Name2\n",
              "Master     4.574167\n",
              "Miss      21.860000\n",
              "Mr        32.739609\n",
              "Mrs       35.981818\n",
              "Other     45.888889\n",
              "Name: Age, dtype: float64"
            ]
          },
          "metadata": {
            "tags": []
          },
          "execution_count": 31
        }
      ]
    },
    {
      "cell_type": "code",
      "metadata": {
        "id": "ctdqwMwIf4cU"
      },
      "source": [
        "#위에서 구한 Age 평균 값을 결측 데이터 값에 대입\r\n",
        "X.loc[(X.Age.isnull())&(X.Name2=='Mr'), 'Age'] = 33\r\n",
        "X.loc[(X.Age.isnull())&(X.Name2=='Mrs'), 'Age'] = 36\r\n",
        "X.loc[(X.Age.isnull())&(X.Name2=='Miss'), 'Age'] = 22\r\n",
        "X.loc[(X.Age.isnull())&(X.Name2=='Master'), 'Age'] = 5\r\n",
        "X.loc[(X.Age.isnull())&(X.Name2=='Other'), 'Age'] = 46"
      ],
      "execution_count": 32,
      "outputs": []
    },
    {
      "cell_type": "code",
      "metadata": {
        "colab": {
          "base_uri": "https://localhost:8080/"
        },
        "id": "3pBrimowgJZ9",
        "outputId": "be8aa381-4ce2-43bf-9505-59863e1a64fe"
      },
      "source": [
        "X.Age.isnull().sum()"
      ],
      "execution_count": 33,
      "outputs": [
        {
          "output_type": "execute_result",
          "data": {
            "text/plain": [
              "0"
            ]
          },
          "metadata": {
            "tags": []
          },
          "execution_count": 33
        }
      ]
    },
    {
      "cell_type": "code",
      "metadata": {
        "colab": {
          "base_uri": "https://localhost:8080/"
        },
        "id": "bnOn9vUqikRi",
        "outputId": "e5f029cd-29ad-47de-fdb0-f788d88f118d"
      },
      "source": [
        "#나이 구간화 \r\n",
        "X[\"Age_cate\"] = X[\"Age\"].apply(lambda x: int(x//10))\r\n",
        "X[\"Age_cate\"]"
      ],
      "execution_count": 34,
      "outputs": [
        {
          "output_type": "execute_result",
          "data": {
            "text/plain": [
              "0      2\n",
              "1      3\n",
              "2      2\n",
              "3      3\n",
              "4      3\n",
              "      ..\n",
              "886    2\n",
              "887    1\n",
              "888    2\n",
              "889    2\n",
              "890    3\n",
              "Name: Age_cate, Length: 891, dtype: int64"
            ]
          },
          "metadata": {
            "tags": []
          },
          "execution_count": 34
        }
      ]
    },
    {
      "cell_type": "code",
      "metadata": {
        "colab": {
          "base_uri": "https://localhost:8080/"
        },
        "id": "ipsgz93fjZ7k",
        "outputId": "d3bf8913-7ce8-4c10-e833-2155b9705a41"
      },
      "source": [
        "print(pd.crosstab([X[\"Pclass\"] ,X[\"Sex\"], X[\"Age_cate\"]], y).T)\r\n",
        "#생존률 : 1등급>2등급>3등급 / 여자>남자"
      ],
      "execution_count": 35,
      "outputs": [
        {
          "output_type": "stream",
          "text": [
            "Pclass    1                                  ...  3                                 \n",
            "Sex       0                         1        ...  0      1                          \n",
            "Age_cate  0   1   2   3   4   5  6  0  1  2  ...  4  6   0   1   2    3   4  5  6  7\n",
            "Survived                                     ...                                    \n",
            "0         1   0   1   0   0   1  0  0  3  9  ...  9  0  15  38  86  128  23  6  2  2\n",
            "1         0  13  16  35  13  11  3  2  2  9  ...  0  1  10   4  16   15   2  0  0  0\n",
            "\n",
            "[2 rows x 44 columns]\n"
          ],
          "name": "stdout"
        }
      ]
    },
    {
      "cell_type": "code",
      "metadata": {
        "colab": {
          "base_uri": "https://localhost:8080/"
        },
        "id": "pIygl7JdlIHM",
        "outputId": "9a6b958c-e70a-42fb-ecd5-8fda2a30dc56"
      },
      "source": [
        "print(pd.crosstab(X[\"Embarked\"],y).T)\r\n",
        "print(pd.crosstab(X[\"Embarked\"],X[\"Pclass\"]).T) \r\n",
        "#S에서 압도적으로 죽은 사람이 많은 것은 맞지만 S에서 탔다고 죽었다고 보긴 어려움. Embarked와 생존여부엔 큰 차이가 없어보임"
      ],
      "execution_count": 36,
      "outputs": [
        {
          "output_type": "stream",
          "text": [
            "Embarked   C   Q    S\n",
            "Survived             \n",
            "0         75  47  427\n",
            "1         93  30  217\n",
            "Embarked   C   Q    S\n",
            "Pclass               \n",
            "1         85   2  127\n",
            "2         17   3  164\n",
            "3         66  72  353\n"
          ],
          "name": "stdout"
        }
      ]
    },
    {
      "cell_type": "code",
      "metadata": {
        "colab": {
          "base_uri": "https://localhost:8080/"
        },
        "id": "Z97oTVAImXUT",
        "outputId": "9c90bb97-32ec-46e4-fdf1-aab6f2f5067f"
      },
      "source": [
        "#SibSP,Parch 병합\r\n",
        "X[\"SP\"] = X[\"SibSp\"] + X[\"Parch\"]\r\n",
        "print(X[[\"SP\", \"SibSp\", \"Parch\"]])"
      ],
      "execution_count": 37,
      "outputs": [
        {
          "output_type": "stream",
          "text": [
            "     SP  SibSp  Parch\n",
            "0     1      1      0\n",
            "1     1      1      0\n",
            "2     0      0      0\n",
            "3     1      1      0\n",
            "4     0      0      0\n",
            "..   ..    ...    ...\n",
            "886   0      0      0\n",
            "887   0      0      0\n",
            "888   3      1      2\n",
            "889   0      0      0\n",
            "890   0      0      0\n",
            "\n",
            "[891 rows x 3 columns]\n"
          ],
          "name": "stdout"
        }
      ]
    },
    {
      "cell_type": "code",
      "metadata": {
        "colab": {
          "base_uri": "https://localhost:8080/"
        },
        "id": "X4jsbETQoFU4",
        "outputId": "bdd5a9ae-9c50-4a4f-9ce4-ced56ae321cf"
      },
      "source": [
        "print(X.info())"
      ],
      "execution_count": 38,
      "outputs": [
        {
          "output_type": "stream",
          "text": [
            "<class 'pandas.core.frame.DataFrame'>\n",
            "RangeIndex: 891 entries, 0 to 890\n",
            "Data columns (total 14 columns):\n",
            " #   Column       Non-Null Count  Dtype  \n",
            "---  ------       --------------  -----  \n",
            " 0   PassengerId  891 non-null    int64  \n",
            " 1   Pclass       891 non-null    int64  \n",
            " 2   Name         891 non-null    object \n",
            " 3   Sex          891 non-null    int64  \n",
            " 4   Age          891 non-null    float64\n",
            " 5   SibSp        891 non-null    int64  \n",
            " 6   Parch        891 non-null    int64  \n",
            " 7   Ticket       891 non-null    object \n",
            " 8   Fare         891 non-null    float64\n",
            " 9   Cabin        204 non-null    object \n",
            " 10  Embarked     889 non-null    object \n",
            " 11  Name2        891 non-null    object \n",
            " 12  Age_cate     891 non-null    int64  \n",
            " 13  SP           891 non-null    int64  \n",
            "dtypes: float64(2), int64(7), object(5)\n",
            "memory usage: 97.6+ KB\n",
            "None\n"
          ],
          "name": "stdout"
        }
      ]
    },
    {
      "cell_type": "code",
      "metadata": {
        "colab": {
          "base_uri": "https://localhost:8080/"
        },
        "id": "p6CVu6X4nPq8",
        "outputId": "70d17558-d607-4d00-935f-20b0aeec45d1"
      },
      "source": [
        "# 컬럼 삭제 \r\n",
        "replace_col = [\"SibSp\", \"Parch\", \"Name\", \"Name2\", \"Age\"] #대체 컬럼 삭제\r\n",
        "del_col = [\"PassengerId\", \"Ticket\", \"Fare\", \"Cabin\", \"Embarked\"] #분석에 필요없는 컬럼 삭제\r\n",
        "drop_col = replace_col + del_col\r\n",
        "X.drop(drop_col, axis=1, inplace=True)\r\n",
        "print(X.info())"
      ],
      "execution_count": 39,
      "outputs": [
        {
          "output_type": "stream",
          "text": [
            "<class 'pandas.core.frame.DataFrame'>\n",
            "RangeIndex: 891 entries, 0 to 890\n",
            "Data columns (total 4 columns):\n",
            " #   Column    Non-Null Count  Dtype\n",
            "---  ------    --------------  -----\n",
            " 0   Pclass    891 non-null    int64\n",
            " 1   Sex       891 non-null    int64\n",
            " 2   Age_cate  891 non-null    int64\n",
            " 3   SP        891 non-null    int64\n",
            "dtypes: int64(4)\n",
            "memory usage: 28.0 KB\n",
            "None\n"
          ],
          "name": "stdout"
        }
      ]
    },
    {
      "cell_type": "markdown",
      "metadata": {
        "id": "3sclLMGKpD55"
      },
      "source": [
        "#### 상관분석 \r\n",
        "- target 변수에 영향을 주는 주요 feature 확인 -> 분석 예측도 높임\r\n",
        "- 중복+불필요한 변수 제거, 다중공선 제거 => 모델 복잡도를 낮춤\r\n",
        "- 성능 개선 "
      ]
    },
    {
      "cell_type": "code",
      "metadata": {
        "colab": {
          "base_uri": "https://localhost:8080/",
          "height": 614
        },
        "id": "_wmLP3agnXxm",
        "outputId": "ab9f32a7-9cd0-46e8-f219-4dd485766955"
      },
      "source": [
        "head_df = X.copy()\r\n",
        "head_df[\"Serv\"] = y\r\n",
        "plt.figure(figsize=(10,10))\r\n",
        "sns.heatmap(data=X.corr(), annot=True, fmt=\".2g\", cmap=\"Blues\")"
      ],
      "execution_count": 41,
      "outputs": [
        {
          "output_type": "execute_result",
          "data": {
            "text/plain": [
              "<matplotlib.axes._subplots.AxesSubplot at 0x7f6bca661780>"
            ]
          },
          "metadata": {
            "tags": []
          },
          "execution_count": 41
        },
        {
          "output_type": "display_data",
          "data": {
            "image/png": "[encoded data removed]",
            "text/plain": [
              "<Figure size 720x720 with 2 Axes>"
            ]
          },
          "metadata": {
            "tags": [],
            "needs_background": "light"
          }
        }
      ]
    },
    {
      "cell_type": "code",
      "metadata": {
        "colab": {
          "base_uri": "https://localhost:8080/",
          "height": 614
        },
        "id": "O3VZn7H_0b10",
        "outputId": "95d283cd-1f77-4749-905a-c5b7a1936a1f"
      },
      "source": [
        "plt.figure(figsize=(10,10))\r\n",
        "sns.heatmap(data=df.corr(), annot=True, fmt=\".2g\")\r\n",
        "#Pclassd와 survived 관계 있어 보임, Pclass와 fare?"
      ],
      "execution_count": 42,
      "outputs": [
        {
          "output_type": "execute_result",
          "data": {
            "text/plain": [
              "<matplotlib.axes._subplots.AxesSubplot at 0x7f6bca15fa58>"
            ]
          },
          "metadata": {
            "tags": []
          },
          "execution_count": 42
        },
        {
          "output_type": "display_data",
          "data": {
            "image/png": "[encoded data removed]",
            "text/plain": [
              "<Figure size 720x720 with 2 Axes>"
            ]
          },
          "metadata": {
            "tags": [],
            "needs_background": "light"
          }
        }
      ]
    },
    {
      "cell_type": "markdown",
      "metadata": {
        "id": "hiaX3YTkqTTd"
      },
      "source": [
        "#### 분석 (모델선정 / 평가척도/ 검증)"
      ]
    },
    {
      "cell_type": "code",
      "metadata": {
        "colab": {
          "base_uri": "https://localhost:8080/"
        },
        "id": "66FYshHPqRDF",
        "outputId": "e2fbab37-a1ac-4c63-a726-55928b8110b6"
      },
      "source": [
        "X_train, X_test, y_train, y_test = train_test_split(X, y, test_size=0.2, random_state=121, shuffle=True)\r\n",
        "\r\n",
        "from sklearn.tree import DecisionTreeClassifier #의사결정트리\r\n",
        "from sklearn.neighbors import KNeighborsClassifier #이웃노드 분류\r\n",
        "from sklearn.metrics import accuracy_score, f1_score, recall_score, precision_score, roc_auc_score  #정확도 평가\r\n",
        "from sklearn.ensemble import RandomForestClassifier #랜덤포레스트\r\n",
        "\r\n",
        "dt_model = DecisionTreeClassifier()\r\n",
        "knn_model = KNeighborsClassifier()\r\n",
        "rf_model = RandomForestClassifier()\r\n",
        "\r\n",
        "models = [dt_model, knn_model, rf_model]\r\n",
        "\r\n",
        "for model in models :\r\n",
        "  #fit : 학습\r\n",
        "  model.fit(X_train, y_train)\r\n",
        "  #predict : 시험\r\n",
        "  y_pred=model.predict(X_test)\r\n",
        "  #score : 예측 정확도 확인\r\n",
        "  score = accuracy_score(y_test, y_pred)\r\n",
        "  \r\n",
        "  print(model.__class__, \":\", score)\r\n",
        "  print(X.head())"
      ],
      "execution_count": 43,
      "outputs": [
        {
          "output_type": "stream",
          "text": [
            "<class 'sklearn.tree._classes.DecisionTreeClassifier'> : 0.7932960893854749\n",
            "   Pclass  Sex  Age_cate  SP\n",
            "0       3    1         2   1\n",
            "1       1    0         3   1\n",
            "2       3    0         2   0\n",
            "3       1    0         3   1\n",
            "4       3    1         3   0\n",
            "<class 'sklearn.neighbors._classification.KNeighborsClassifier'> : 0.7541899441340782\n",
            "   Pclass  Sex  Age_cate  SP\n",
            "0       3    1         2   1\n",
            "1       1    0         3   1\n",
            "2       3    0         2   0\n",
            "3       1    0         3   1\n",
            "4       3    1         3   0\n",
            "<class 'sklearn.ensemble._forest.RandomForestClassifier'> : 0.7988826815642458\n",
            "   Pclass  Sex  Age_cate  SP\n",
            "0       3    1         2   1\n",
            "1       1    0         3   1\n",
            "2       3    0         2   0\n",
            "3       1    0         3   1\n",
            "4       3    1         3   0\n"
          ],
          "name": "stdout"
        }
      ]
    },
    {
      "cell_type": "markdown",
      "metadata": {
        "id": "gQaCOEPEre5W"
      },
      "source": [
        "#####분석(예측)력을 저해하는 원인\r\n",
        "1. 피쳐가 많은 경우 --> 모델의 복잡도가 증가하는 경우(overfitting<-->underfitting)\r\n",
        "2. 수치가 큰 경우 --> log,scailing\r\n",
        "3. 결측데이터(null) --> isnull(),fillna()\r\n",
        "4. 이상치(outlier) --> 협의 후 삭제/대체 (boxplot, histogram, scatter로 확인)\r\n",
        "5. 데이터가 편중 --> 정규분포화\r\n",
        "6. 피쳐가공 (Object-->변환, unique한 일련번호x, 구간(범주)화, OneHot인코딩)\r\n",
        "7. 데이터가 적은 경우 --> 데이터 증강\r\n",
        "8. 모델이 적절하지 않은 경우 --> 다른 모델 사용"
      ]
    },
    {
      "cell_type": "code",
      "metadata": {
        "colab": {
          "base_uri": "https://localhost:8080/"
        },
        "id": "Gz70kwzkqOua",
        "outputId": "692c7791-87ed-4afc-c4d4-fdc8ebcd7112"
      },
      "source": [
        "#결측 데이터 확인\r\n",
        "print(X.isnull().sum()) #null값 없는 것 확인"
      ],
      "execution_count": 44,
      "outputs": [
        {
          "output_type": "stream",
          "text": [
            "Pclass      0\n",
            "Sex         0\n",
            "Age_cate    0\n",
            "SP          0\n",
            "dtype: int64\n"
          ],
          "name": "stdout"
        }
      ]
    },
    {
      "cell_type": "code",
      "metadata": {
        "colab": {
          "base_uri": "https://localhost:8080/",
          "height": 269
        },
        "id": "usaKjb2creVC",
        "outputId": "0dd5ed82-fc29-42b8-a9b0-2b91dbc96809"
      },
      "source": [
        "#이상치 확인\r\n",
        "fig, axes = plt.subplots(nrows=3, ncols=5)\r\n",
        "columns = df.columns\r\n",
        "for i, col in enumerate(columns) :\r\n",
        "  r = int(i/5)\r\n",
        "  c = i % 5\r\n",
        "  sns.boxplot(x=col, y='Survived', data=df, ax=axes[r][c])\r\n",
        "  plt.show()"
      ],
      "execution_count": 46,
      "outputs": [
        {
          "output_type": "display_data",
          "data": {
            "image/png": "[encoded data removed]",
            "text/plain": [
              "<Figure size 432x288 with 15 Axes>"
            ]
          },
          "metadata": {
            "tags": [],
            "needs_background": "light"
          }
        }
      ]
    },
    {
      "cell_type": "code",
      "metadata": {
        "id": "XPd7WdCQtWjT"
      },
      "source": [
        "#IQR : 25~75%의 범위 값\r\n",
        "def get_outlier(df=None, column=None):\r\n",
        "  Q1 = np.percentile(df[column].values, 25)\r\n",
        "  Q3 = np.percentile(df[column].values, 75)\r\n",
        "  IQR = Q3 - Q1\r\n",
        "  IQR_weight = IQR * 1.5\r\n",
        "  minimum = Q1 - IQR_weight\r\n",
        "  maximum = Q3 + IQR_weight\r\n",
        "  outlier_idx = df[column][(df[column] < minimum) | df[column] > maximum].index\r\n",
        "  return outlier_idx"
      ],
      "execution_count": 47,
      "outputs": []
    },
    {
      "cell_type": "code",
      "metadata": {
        "colab": {
          "base_uri": "https://localhost:8080/"
        },
        "id": "E55yYqguuQ2v",
        "outputId": "f5392a80-13a3-4906-bd47-23905d47e577"
      },
      "source": [
        "numeric_columns = df.dtypes[df.dtypes!='object'].index #object를 뺀 컬럼값만 돌려받기\r\n",
        "for i, col in enumerate(numeric_columns) :\r\n",
        "  outlier_idx = get_outlier(df=df, column=col)\r\n",
        "  print(col, outlier_idx) #여기서는 outlier안 지우고 하겠음(데이터가 너무 빈약해질 수 있어서..)"
      ],
      "execution_count": 50,
      "outputs": [
        {
          "output_type": "stream",
          "text": [
            "PassengerId Int64Index([], dtype='int64')\n",
            "Survived Int64Index([], dtype='int64')\n",
            "Pclass Int64Index([], dtype='int64')\n",
            "Age Int64Index([], dtype='int64')\n",
            "SibSp Int64Index([], dtype='int64')\n",
            "Parch Int64Index([  7,   8,  10,  13,  16,  24,  25,  27,  43,  50,\n",
            "            ...\n",
            "            855, 856, 858, 863, 869, 871, 879, 880, 885, 888],\n",
            "           dtype='int64', length=213)\n",
            "Fare Int64Index([], dtype='int64')\n"
          ],
          "name": "stdout"
        }
      ]
    },
    {
      "cell_type": "code",
      "metadata": {
        "colab": {
          "base_uri": "https://localhost:8080/",
          "height": 428
        },
        "id": "lQzgvu4kvaBc",
        "outputId": "1c54798f-357c-49fe-9525-4772cc95ec8d"
      },
      "source": [
        "#데이터가 편중 --> 정규분포화\r\n",
        "df.hist(figsize=(20,5))"
      ],
      "execution_count": 51,
      "outputs": [
        {
          "output_type": "execute_result",
          "data": {
            "text/plain": [
              "array([[<matplotlib.axes._subplots.AxesSubplot object at 0x7f6bb7e2fa20>,\n",
              "        <matplotlib.axes._subplots.AxesSubplot object at 0x7f6bb7e0d128>,\n",
              "        <matplotlib.axes._subplots.AxesSubplot object at 0x7f6bb7db5f60>],\n",
              "       [<matplotlib.axes._subplots.AxesSubplot object at 0x7f6bb7d74208>,\n",
              "        <matplotlib.axes._subplots.AxesSubplot object at 0x7f6bb7d2a470>,\n",
              "        <matplotlib.axes._subplots.AxesSubplot object at 0x7f6bb7cdb6d8>],\n",
              "       [<matplotlib.axes._subplots.AxesSubplot object at 0x7f6bb7c90940>,\n",
              "        <matplotlib.axes._subplots.AxesSubplot object at 0x7f6bb7cc2b70>,\n",
              "        <matplotlib.axes._subplots.AxesSubplot object at 0x7f6bb7cc2be0>]],\n",
              "      dtype=object)"
            ]
          },
          "metadata": {
            "tags": []
          },
          "execution_count": 51
        },
        {
          "output_type": "display_data",
          "data": {
            "image/png": "[encoded data removed]",
            "text/plain": [
              "<Figure size 1440x360 with 9 Axes>"
            ]
          },
          "metadata": {
            "tags": [],
            "needs_background": "light"
          }
        }
      ]
    },
    {
      "cell_type": "code",
      "metadata": {
        "colab": {
          "base_uri": "https://localhost:8080/"
        },
        "id": "W8jxS8pnvTz0",
        "outputId": "d7abc26c-d2f7-460d-fbff-150293f68e58"
      },
      "source": [
        "from sklearn.preprocessing import StandardScaler\r\n",
        "from sklearn.preprocessing import MinMaxScaler\r\n",
        "from sklearn.preprocessing import RobustScaler\r\n",
        "\r\n",
        "scaler = StandardScaler()\r\n",
        "\r\n",
        "X_scaler = scaler.fit_transform(X)\r\n",
        "\r\n",
        "X_train, X_test, y_train, y_test = train_test_split(X_scaler, y, test_size=0.2, random_state=121, shuffle=True)\r\n",
        "models = [dt_model, knn_model, rf_model]\r\n",
        "\r\n",
        "for model in models :\r\n",
        "  #fit : 학습\r\n",
        "  model.fit(X_train, y_train)\r\n",
        "  #predict : 시험\r\n",
        "  y_pred=model.predict(X_test)\r\n",
        "  #score : 예측 정확도 확인\r\n",
        "  score = accuracy_score(y_test, y_pred)\r\n",
        "  \r\n",
        "  print(model.__class__, \":\", score)\r\n",
        "  print(X.head())"
      ],
      "execution_count": 52,
      "outputs": [
        {
          "output_type": "stream",
          "text": [
            "<class 'sklearn.tree._classes.DecisionTreeClassifier'> : 0.7932960893854749\n",
            "   Pclass  Sex  Age_cate  SP\n",
            "0       3    1         2   1\n",
            "1       1    0         3   1\n",
            "2       3    0         2   0\n",
            "3       1    0         3   1\n",
            "4       3    1         3   0\n",
            "<class 'sklearn.neighbors._classification.KNeighborsClassifier'> : 0.7653631284916201\n",
            "   Pclass  Sex  Age_cate  SP\n",
            "0       3    1         2   1\n",
            "1       1    0         3   1\n",
            "2       3    0         2   0\n",
            "3       1    0         3   1\n",
            "4       3    1         3   0\n",
            "<class 'sklearn.ensemble._forest.RandomForestClassifier'> : 0.7932960893854749\n",
            "   Pclass  Sex  Age_cate  SP\n",
            "0       3    1         2   1\n",
            "1       1    0         3   1\n",
            "2       3    0         2   0\n",
            "3       1    0         3   1\n",
            "4       3    1         3   0\n"
          ],
          "name": "stdout"
        }
      ]
    },
    {
      "cell_type": "code",
      "metadata": {
        "colab": {
          "base_uri": "https://localhost:8080/"
        },
        "id": "dRjRoqJTxlER",
        "outputId": "17f52274-0185-4812-e811-4758e8e028fc"
      },
      "source": [
        "# 6. 피쳐가공 (Object-->변환, unique한 일련번호x, 구간(범주)화, OneHot인코딩)\r\n",
        "print(X[\"Age_cate\"].head())"
      ],
      "execution_count": 53,
      "outputs": [
        {
          "output_type": "stream",
          "text": [
            "0    2\n",
            "1    3\n",
            "2    2\n",
            "3    3\n",
            "4    3\n",
            "Name: Age_cate, dtype: int64\n"
          ],
          "name": "stdout"
        }
      ]
    },
    {
      "cell_type": "code",
      "metadata": {
        "colab": {
          "base_uri": "https://localhost:8080/"
        },
        "id": "Ja1MurR3xtWu",
        "outputId": "c990539b-368f-49f7-a52e-304da5c22fa0"
      },
      "source": [
        "print(X.info())"
      ],
      "execution_count": 54,
      "outputs": [
        {
          "output_type": "stream",
          "text": [
            "<class 'pandas.core.frame.DataFrame'>\n",
            "RangeIndex: 891 entries, 0 to 890\n",
            "Data columns (total 4 columns):\n",
            " #   Column    Non-Null Count  Dtype\n",
            "---  ------    --------------  -----\n",
            " 0   Pclass    891 non-null    int64\n",
            " 1   Sex       891 non-null    int64\n",
            " 2   Age_cate  891 non-null    int64\n",
            " 3   SP        891 non-null    int64\n",
            "dtypes: int64(4)\n",
            "memory usage: 28.0 KB\n",
            "None\n"
          ],
          "name": "stdout"
        }
      ]
    },
    {
      "cell_type": "code",
      "metadata": {
        "colab": {
          "base_uri": "https://localhost:8080/"
        },
        "id": "i3Lo1yqtxunN",
        "outputId": "60ce1de3-f407-472a-cf41-eadb6863be64"
      },
      "source": [
        "X_encoding = pd.get_dummies(data=X, columns=[\"Age_cate\"], prefix=\"OH_Age_cate\", drop_first=False)\r\n",
        "print(X_encoding.info())\r\n",
        "print(X_encoding.head())"
      ],
      "execution_count": 55,
      "outputs": [
        {
          "output_type": "stream",
          "text": [
            "<class 'pandas.core.frame.DataFrame'>\n",
            "RangeIndex: 891 entries, 0 to 890\n",
            "Data columns (total 12 columns):\n",
            " #   Column         Non-Null Count  Dtype\n",
            "---  ------         --------------  -----\n",
            " 0   Pclass         891 non-null    int64\n",
            " 1   Sex            891 non-null    int64\n",
            " 2   SP             891 non-null    int64\n",
            " 3   OH_Age_cate_0  891 non-null    uint8\n",
            " 4   OH_Age_cate_1  891 non-null    uint8\n",
            " 5   OH_Age_cate_2  891 non-null    uint8\n",
            " 6   OH_Age_cate_3  891 non-null    uint8\n",
            " 7   OH_Age_cate_4  891 non-null    uint8\n",
            " 8   OH_Age_cate_5  891 non-null    uint8\n",
            " 9   OH_Age_cate_6  891 non-null    uint8\n",
            " 10  OH_Age_cate_7  891 non-null    uint8\n",
            " 11  OH_Age_cate_8  891 non-null    uint8\n",
            "dtypes: int64(3), uint8(9)\n",
            "memory usage: 28.8 KB\n",
            "None\n",
            "   Pclass  Sex  SP  ...  OH_Age_cate_6  OH_Age_cate_7  OH_Age_cate_8\n",
            "0       3    1   1  ...              0              0              0\n",
            "1       1    0   1  ...              0              0              0\n",
            "2       3    0   0  ...              0              0              0\n",
            "3       1    0   1  ...              0              0              0\n",
            "4       3    1   0  ...              0              0              0\n",
            "\n",
            "[5 rows x 12 columns]\n"
          ],
          "name": "stdout"
        }
      ]
    },
    {
      "cell_type": "code",
      "metadata": {
        "colab": {
          "base_uri": "https://localhost:8080/"
        },
        "id": "FXZOLb9CyfTs",
        "outputId": "ed348c97-7de4-4135-8746-4acb90910b59"
      },
      "source": [
        "X_train, X_test, y_train, y_test = train_test_split(X_encoding, y, test_size=0.2, random_state=121, shuffle=True)\r\n",
        "models = [dt_model, knn_model, rf_model]\r\n",
        "\r\n",
        "for model in models :\r\n",
        "  #fit : 학습\r\n",
        "  model.fit(X_train, y_train)\r\n",
        "  #predict : 시험\r\n",
        "  y_pred=model.predict(X_test)\r\n",
        "  #score : 예측 정확도 확인\r\n",
        "  score = accuracy_score(y_test, y_pred)\r\n",
        "  \r\n",
        "  print(model.__class__, \":\", score)\r\n",
        "  print(X.head())"
      ],
      "execution_count": 56,
      "outputs": [
        {
          "output_type": "stream",
          "text": [
            "<class 'sklearn.tree._classes.DecisionTreeClassifier'> : 0.7877094972067039\n",
            "   Pclass  Sex  Age_cate  SP\n",
            "0       3    1         2   1\n",
            "1       1    0         3   1\n",
            "2       3    0         2   0\n",
            "3       1    0         3   1\n",
            "4       3    1         3   0\n",
            "<class 'sklearn.neighbors._classification.KNeighborsClassifier'> : 0.7597765363128491\n",
            "   Pclass  Sex  Age_cate  SP\n",
            "0       3    1         2   1\n",
            "1       1    0         3   1\n",
            "2       3    0         2   0\n",
            "3       1    0         3   1\n",
            "4       3    1         3   0\n",
            "<class 'sklearn.ensemble._forest.RandomForestClassifier'> : 0.7932960893854749\n",
            "   Pclass  Sex  Age_cate  SP\n",
            "0       3    1         2   1\n",
            "1       1    0         3   1\n",
            "2       3    0         2   0\n",
            "3       1    0         3   1\n",
            "4       3    1         3   0\n"
          ],
          "name": "stdout"
        }
      ]
    },
    {
      "cell_type": "markdown",
      "metadata": {
        "id": "tYDRUpUS5qaW"
      },
      "source": [
        "#### 평가 matrix"
      ]
    },
    {
      "cell_type": "code",
      "metadata": {
        "id": "Bw29Vl6A5o71"
      },
      "source": [
        "from sklearn.model_selection import KFold\r\n",
        "from sklearn.model_selection import StratifiedKFold"
      ],
      "execution_count": 57,
      "outputs": []
    },
    {
      "cell_type": "code",
      "metadata": {
        "colab": {
          "base_uri": "https://localhost:8080/"
        },
        "id": "fGHCUHU55zs6",
        "outputId": "8c8bf2ae-a166-4db7-ffd8-0d49d6b4a198"
      },
      "source": [
        "skf = StratifiedKFold(n_splits=5, shuffle=True, random_state=121)\r\n",
        "kf = KFold(n_splits=5, shuffle=True, random_state=121)\r\n",
        "\r\n",
        "accuracy_score_list = []\r\n",
        "f1_score_list = []\r\n",
        "\r\n",
        "for i, (idx_train, idx_test) in enumerate (kf.split(X)):\r\n",
        "  X_train, X_test = X.iloc[idx_train], X.iloc[idx_test]\r\n",
        "  y_train, y_test = y.iloc[idx_train], y.iloc[idx_test]\r\n",
        "\r\n",
        "  rf_model.fit(X_train, y_train)\r\n",
        "  y_pred = rf_model.predict(X_test)\r\n",
        "  accuracy = accuracy_score(y_test, y_pred)\r\n",
        "  f1 = f1_score(y_test, y_pred)\r\n",
        "  accuracy_score_list.append(accuracy)\r\n",
        "  f1_score_list.append(f1)\r\n",
        "  print(i, \":\", accuracy, f1)"
      ],
      "execution_count": 61,
      "outputs": [
        {
          "output_type": "stream",
          "text": [
            "0 : 0.7988826815642458 0.7230769230769231\n",
            "1 : 0.8314606741573034 0.7580645161290323\n",
            "2 : 0.8258426966292135 0.752\n",
            "3 : 0.8595505617977528 0.8\n",
            "4 : 0.797752808988764 0.76\n"
          ],
          "name": "stdout"
        }
      ]
    },
    {
      "cell_type": "code",
      "metadata": {
        "id": "P3CzNDHD6sLd"
      },
      "source": [
        ""
      ],
      "execution_count": null,
      "outputs": []
    }
  ]
}