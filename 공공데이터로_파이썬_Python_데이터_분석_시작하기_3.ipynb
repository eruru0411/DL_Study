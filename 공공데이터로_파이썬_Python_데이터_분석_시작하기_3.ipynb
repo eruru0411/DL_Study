{
  "nbformat": 4,
  "nbformat_minor": 0,
  "metadata": {
    "colab": {
      "name": "공공데이터로 파이썬 Python 데이터 분석 시작하기_3.ipynb",
      "provenance": [],
      "collapsed_sections": []
    },
    "kernelspec": {
      "name": "python3",
      "display_name": "Python 3"
    }
  },
  "cells": [
    {
      "cell_type": "markdown",
      "metadata": {
        "id": "lOGtbkvvgIi0"
      },
      "source": [
        "공공데이터 포털에서 제공하고 있는 소상공인시장진흥공단 상가업소정보 데이터를 분석합니다. https://www.data.go.kr/dataset/15012005/fileData.do"
      ]
    },
    {
      "cell_type": "markdown",
      "metadata": {
        "id": "uHqvTVeGgxpz"
      },
      "source": [
        "!ls\n",
        "%ls\n",
        "윈도우 dir"
      ]
    },
    {
      "cell_type": "code",
      "metadata": {
        "id": "1vYlukNUftM3"
      },
      "source": [
        "import pandas as pd\n",
        "import numpy as np\n",
        "from plotnine import *\n",
        "import seaborn as sns\n",
        "# 지도 시각화를 위해\n",
        "import folium"
      ],
      "execution_count": null,
      "outputs": []
    },
    {
      "cell_type": "code",
      "metadata": {
        "id": "GTyRmuVvgnEv"
      },
      "source": [
        "import matplotlib.pyplot as plt\n",
        "\n",
        "# Window 의 한글 폰트 설정\n",
        "# plt.rc('font',family='Malgun Gothic')\n",
        "# Mac 의 한글 폰트 설정\n",
        "plt.rc('font', family='AppleGothic')"
      ],
      "execution_count": null,
      "outputs": []
    },
    {
      "cell_type": "code",
      "metadata": {
        "id": "Sew7u986gpw_"
      },
      "source": [
        "shop_2018 = pd.read_csv('data/shop_201806/shop_201806_01.csv', encoding='cp949')\n",
        "shop_2018.head()"
      ],
      "execution_count": null,
      "outputs": []
    },
    {
      "cell_type": "code",
      "metadata": {
        "id": "852hDQRHguPK",
        "colab": {
          "base_uri": "https://localhost:8080/",
          "height": 34
        },
        "outputId": "83d69671-3c50-4f79-87fe-03dc3427d1ba"
      },
      "source": [
        "!ls"
      ],
      "execution_count": null,
      "outputs": [
        {
          "output_type": "stream",
          "text": [
            "sample_data\n"
          ],
          "name": "stdout"
        }
      ]
    },
    {
      "cell_type": "code",
      "metadata": {
        "id": "46UwiE7ThMU9"
      },
      "source": [
        "shop_2018.shape"
      ],
      "execution_count": null,
      "outputs": []
    },
    {
      "cell_type": "code",
      "metadata": {
        "id": "aAvkS4lJhPHe"
      },
      "source": [
        "coffee = shop_2018[shop_2018['상권업종소분류명'].str.contains('커피')]\n",
        "coffee.shape"
      ],
      "execution_count": null,
      "outputs": []
    },
    {
      "cell_type": "code",
      "metadata": {
        "id": "OAzNzUJQhRKr"
      },
      "source": [
        "coffee.columns"
      ],
      "execution_count": null,
      "outputs": []
    },
    {
      "cell_type": "code",
      "metadata": {
        "id": "85pCLOhShSss"
      },
      "source": [
        "# 상호명으로 봤을 때 커피점이 12472개가 있다.\n",
        "coffee['상호명'].unique().shape"
      ],
      "execution_count": null,
      "outputs": []
    },
    {
      "cell_type": "code",
      "metadata": {
        "id": "Bj3c5slNokWv"
      },
      "source": [
        "coffee['상호명'].value_counts()"
      ],
      "execution_count": null,
      "outputs": []
    },
    {
      "cell_type": "code",
      "metadata": {
        "id": "xacDElpto1NZ"
      },
      "source": [
        "coffee[coffee['상호명'].str.contains('스타벅스')]\n",
        "#coffee[coffee['상호명'] == '스타벅스']"
      ],
      "execution_count": null,
      "outputs": []
    },
    {
      "cell_type": "code",
      "metadata": {
        "id": "SIb6l8AahUu7"
      },
      "source": [
        "coffee.loc[coffee['상호명'].str.contains('스타벅스'), '상호명'].unique()"
      ],
      "execution_count": null,
      "outputs": []
    },
    {
      "cell_type": "code",
      "metadata": {
        "id": "iSnnWzA4hWu8"
      },
      "source": [
        "coffee['시도명'].isnull().sum()"
      ],
      "execution_count": null,
      "outputs": []
    },
    {
      "cell_type": "code",
      "metadata": {
        "id": "3rvUPe_Yppq3"
      },
      "source": [
        "coffee['시도명'].unique()"
      ],
      "execution_count": null,
      "outputs": []
    },
    {
      "cell_type": "code",
      "metadata": {
        "id": "9Skp34VthYSb"
      },
      "source": [
        "# 지난 데이터와 마찬가지로 서울과 부산만 있습니다.\n",
        "# 다른 지역을 참고하고 싶다면 같은 폴더에 있는 다른 파일을 참고해 주세요.\n",
        "coffee['시도명'].value_counts()"
      ],
      "execution_count": null,
      "outputs": []
    },
    {
      "cell_type": "code",
      "metadata": {
        "id": "32CsArP1hZ2U"
      },
      "source": [
        "coffee['시군구명'].unique()"
      ],
      "execution_count": null,
      "outputs": []
    },
    {
      "cell_type": "code",
      "metadata": {
        "id": "tWnqqPGvhbff"
      },
      "source": [
        "coffee['상권업종중분류명'].value_counts()"
      ],
      "execution_count": null,
      "outputs": []
    },
    {
      "cell_type": "code",
      "metadata": {
        "id": "5HlTjxVHhdML"
      },
      "source": [
        " (ggplot(shop_2018[:1000])\n",
        "  + aes(x='경도', y='위도')\n",
        "  + geom_point()\n",
        "  + theme(text=element_text(family='NanumBarunGothic'))\n",
        " )\n",
        "\n",
        "'''\n",
        "shop_2018[:1000].plot.scatter(x=\"경도\", y=\"위도\", grid=\"True\")\n",
        "'''"
      ],
      "execution_count": null,
      "outputs": []
    },
    {
      "cell_type": "code",
      "metadata": {
        "id": "tWJRLGHFhlEe"
      },
      "source": [
        "df_seoul = shop_2018.loc[shop_2018['시도명'].str.startswith('서울')].copy()\n",
        "df_seoul.shape"
      ],
      "execution_count": null,
      "outputs": []
    },
    {
      "cell_type": "code",
      "metadata": {
        "id": "ZzBc4y7FhmjN",
        "colab": {
          "base_uri": "https://localhost:8080/",
          "height": 164
        },
        "outputId": "b84faebc-41d4-4d28-9b31-188aca0cf8d1"
      },
      "source": [
        "df_seoul.isnull().sum()"
      ],
      "execution_count": null,
      "outputs": [
        {
          "output_type": "error",
          "ename": "NameError",
          "evalue": "ignored",
          "traceback": [
            "\u001b[0;31m---------------------------------------------------------------------------\u001b[0m",
            "\u001b[0;31mNameError\u001b[0m                                 Traceback (most recent call last)",
            "\u001b[0;32m<ipython-input-1-a5eb4809c860>\u001b[0m in \u001b[0;36m<module>\u001b[0;34m()\u001b[0m\n\u001b[0;32m----> 1\u001b[0;31m \u001b[0mdf_seoul\u001b[0m\u001b[0;34m.\u001b[0m\u001b[0misnull\u001b[0m\u001b[0;34m(\u001b[0m\u001b[0;34m)\u001b[0m\u001b[0;34m.\u001b[0m\u001b[0msum\u001b[0m\u001b[0;34m(\u001b[0m\u001b[0;34m)\u001b[0m\u001b[0;34m\u001b[0m\u001b[0;34m\u001b[0m\u001b[0m\n\u001b[0m",
            "\u001b[0;31mNameError\u001b[0m: name 'df_seoul' is not defined"
          ]
        }
      ]
    },
    {
      "cell_type": "markdown",
      "metadata": {
        "id": "B7rRO074sY9T"
      },
      "source": [
        "##########2교시"
      ]
    },
    {
      "cell_type": "code",
      "metadata": {
        "id": "MrybhG4hhol6"
      },
      "source": [
        "df_seoul['상권업종대분류명'].value_counts()"
      ],
      "execution_count": null,
      "outputs": []
    },
    {
      "cell_type": "code",
      "metadata": {
        "id": "YY8975cyiGNC"
      },
      "source": [
        "df_seoul.describe(include=np.object)"
      ],
      "execution_count": null,
      "outputs": []
    },
    {
      "cell_type": "code",
      "metadata": {
        "id": "EuXRCIZgiLEs"
      },
      "source": [
        "df_seoul[['위도', '경도']].describe(include=np.number)"
      ],
      "execution_count": null,
      "outputs": []
    },
    {
      "cell_type": "code",
      "metadata": {
        "id": "N_2_1Cv7iN1k"
      },
      "source": [
        "'''\n",
        "(ggplot(df_seoul)\n",
        " + aes('상권업종대분류명')\n",
        " + geom_bar(fill='#8181F7')\n",
        " + ggtitle('상권업종대분류명')\n",
        " + coord_flip() #가로로 보기\n",
        " + theme(text=element_text(family='NanumBarunGothic')\n",
        ")\n",
        "'''\n",
        "'''\n",
        "(ggplot(df_seoul)\n",
        " + aes('상권업종대분류명')\n",
        " + geom_bar(fill='#8181F7')\n",
        " + ggtitle('상권업종대분류명')\n",
        " + theme(text=element_text(family='NanumBarunGothic'),\n",
        "        axis_text_x=element_text(rotation=60))\n",
        ")\n",
        "'''\n",
        "\n",
        "sns.countplot(data=df_seoul, y=\"상권업종대분류명\")"
      ],
      "execution_count": null,
      "outputs": []
    },
    {
      "cell_type": "code",
      "metadata": {
        "id": "g-b8JbwiitXz"
      },
      "source": [
        "df_food = df_seoul.loc[df_seoul['상권업종대분류명'].str.contains('음식')]\n",
        "df_food.shape"
      ],
      "execution_count": null,
      "outputs": []
    },
    {
      "cell_type": "code",
      "metadata": {
        "id": "Aif37iVxivM2"
      },
      "source": [
        "'''\n",
        "# (ggplot(df_food)\n",
        "#  + aes('상권업종중분류명')\n",
        "#  + geom_bar(fill='#817FEE')\n",
        "#  + ggtitle('상권업종중분류명')\n",
        "#  + coord_flip()\n",
        "#  + theme(text=element_text(family='NanumBarunGothic')\n",
        "# )\n",
        "'''\n",
        "sns.countplot(data=df_food, y=\"상권업종중분류명\")"
      ],
      "execution_count": null,
      "outputs": []
    },
    {
      "cell_type": "code",
      "metadata": {
        "id": "exbSFEGsi7Jl"
      },
      "source": [
        "df_fast_food = df_food.loc[df_food['상권업종중분류명'] == '패스트푸드']\n",
        "df_fast_food.shape"
      ],
      "execution_count": null,
      "outputs": []
    },
    {
      "cell_type": "code",
      "metadata": {
        "id": "yG31k_0hi8p9"
      },
      "source": [
        "df_food.columns"
      ],
      "execution_count": null,
      "outputs": []
    },
    {
      "cell_type": "code",
      "metadata": {
        "id": "3sZ98Zx3i-UI"
      },
      "source": [
        "df_fast_food['상호명'].unique()"
      ],
      "execution_count": null,
      "outputs": []
    },
    {
      "cell_type": "markdown",
      "metadata": {
        "id": "dZM6546J3d6z"
      },
      "source": [
        "##########3교시"
      ]
    },
    {
      "cell_type": "markdown",
      "metadata": {
        "id": "fYApy-SbjHEs"
      },
      "source": [
        "배스킨라빈스와 던킨도너츠 입지분석"
      ]
    },
    {
      "cell_type": "code",
      "metadata": {
        "id": "aVIJt2xwjIwL"
      },
      "source": [
        "\n",
        "df_31 = df_seoul[df_seoul['상호명'].str.contains('배스킨|던킨')].copy()\n",
        "df_31.shape"
      ],
      "execution_count": null,
      "outputs": []
    },
    {
      "cell_type": "code",
      "metadata": {
        "id": "cdE__GI_4RU-"
      },
      "source": [
        "df_31.columns"
      ],
      "execution_count": null,
      "outputs": []
    },
    {
      "cell_type": "code",
      "metadata": {
        "id": "FNutI8KnjKa8"
      },
      "source": [
        "df_31 = df_31[['상호명', '지점명', '상권업종대분류명', '상권업종중분류명', \n",
        "               '지번주소', '도로명주소',  '위도', '경도', '시군구명', '행정동명']].copy()\n",
        "df_31.columns"
      ],
      "execution_count": null,
      "outputs": []
    },
    {
      "cell_type": "code",
      "metadata": {
        "id": "3fPkkJIPjMU9"
      },
      "source": [
        "\n",
        "df_31.head()"
      ],
      "execution_count": null,
      "outputs": []
    },
    {
      "cell_type": "code",
      "metadata": {
        "id": "jlFtNiQbjOgt"
      },
      "source": [
        "df_31['상호명'].value_counts()"
      ],
      "execution_count": null,
      "outputs": []
    },
    {
      "cell_type": "code",
      "metadata": {
        "id": "e2CVaWy_jQ8Y"
      },
      "source": [
        "# 브랜드명이라는 컬럼을 새로 만들어줍니다.\n",
        "df_31['브랜드명'] = ''"
      ],
      "execution_count": null,
      "outputs": []
    },
    {
      "cell_type": "code",
      "metadata": {
        "id": "4rtfqK-kjSVc"
      },
      "source": [
        "df_31[['상호명', '브랜드명']].head()"
      ],
      "execution_count": null,
      "outputs": []
    },
    {
      "cell_type": "code",
      "metadata": {
        "id": "c8T5W9MPjT37"
      },
      "source": [
        "df_31.loc[df_31['상호명'].str.contains('배스킨'), '브랜드명'] = '배스킨라빈스'\n",
        "df_31.loc[df_31['상호명'].str.contains('던킨'), '브랜드명'] = '던킨도너츠'"
      ],
      "execution_count": null,
      "outputs": []
    },
    {
      "cell_type": "code",
      "metadata": {
        "id": "U7bgv3oEjVTu"
      },
      "source": [
        "df_31[['상호명', '브랜드명']].head()"
      ],
      "execution_count": null,
      "outputs": []
    },
    {
      "cell_type": "code",
      "metadata": {
        "id": "sCSgjRikjYRT"
      },
      "source": [
        "df_31_group_count = df_31['브랜드명'].value_counts()\n",
        "df_31_group_count"
      ],
      "execution_count": null,
      "outputs": []
    },
    {
      "cell_type": "code",
      "metadata": {
        "id": "khf7HzP1jaB0"
      },
      "source": [
        "df_31_ratio = df_31_group_count[0]/df_31_group_count[1]\n",
        "print('제공된 데이터로 봤을 때 서울에는 던킨도너츠보다 배스킨라빈스의 매장이 {0:.2f}배가량 많습니다.'.format(df_31_ratio))"
      ],
      "execution_count": null,
      "outputs": []
    },
    {
      "cell_type": "code",
      "metadata": {
        "id": "WIUn20e_jbgT"
      },
      "source": [
        "df_31.info()"
      ],
      "execution_count": null,
      "outputs": []
    },
    {
      "cell_type": "code",
      "metadata": {
        "id": "qWIn_Pf-jdRb"
      },
      "source": [
        "df_31['위도'] = df_31['위도'].astype(float)\n",
        "df_31['경도'] = df_31['경도'].astype(float)"
      ],
      "execution_count": null,
      "outputs": []
    },
    {
      "cell_type": "code",
      "metadata": {
        "id": "qBHW4uZUje69"
      },
      "source": [
        "'''\n",
        "# 같은 그래프를 여러가지 시각화 툴로 그려봅니다. plotnine을 사용해서 ggplot으로 그려본 사례\n",
        "# (ggplot(df_31)\n",
        "#  + aes(x='경도', y='위도', color='브랜드명')\n",
        "#  + geom_point()\n",
        "#  + theme(text=element_text(family='NanumBarunGothic'))\n",
        "# )\n",
        "'''\n",
        "'''\n",
        "# Pandas 로 scatter plot 그리기\n",
        "df_31.plot.scatter(x='경도', y='위도')\n",
        "'''\n",
        "\n",
        "# seaborn 으로 scatter plot 그리기\n",
        "sns.scatterplot(data=df_31, x='경도', y='위도', hue=\"브랜드명\")"
      ],
      "execution_count": null,
      "outputs": []
    },
    {
      "cell_type": "markdown",
      "metadata": {
        "id": "VkFfHKDfj5Ug"
      },
      "source": [
        "Folium 사용예제\n",
        "http://nbviewer.jupyter.org/github/python-visualization/folium/tree/master/examples/"
      ]
    },
    {
      "cell_type": "code",
      "metadata": {
        "id": "ct9aI0HRkBNq"
      },
      "source": [
        "# folium.Map?"
      ],
      "execution_count": null,
      "outputs": []
    },
    {
      "cell_type": "code",
      "metadata": {
        "id": "eeVAruBnkFJw"
      },
      "source": [
        "geo_df = df_31.copy()\n",
        "\n",
        "# 지도를 초기화 해줄 때 어디를 중심으로 보여줄지 설정합니다.\n",
        "# 우리가 가져온 데이터프레임 안에 있는 데이터를 기준으로 출력할 수 있도록 위경도의 평균값을 구해옵니다.\n",
        "map = folium.Map(location=[geo_df['위도'].mean(), geo_df['경도'].mean()], zoom_start=12)\n",
        "\n",
        "for n in geo_df.index:\n",
        "    # 팝업에 들어갈 텍스트를 지정해 줍니다.\n",
        "    popup_name = geo_df.loc[n, '브랜드명'] + ' - ' + geo_df.loc[n, '도로명주소']\n",
        "    # 브랜드명에 따라 아이콘 색상을 달리해서 찍어줍니다.\n",
        "    if geo_df['브랜드명'][n] == '던킨도너츠' :\n",
        "        icon_color = 'pink'\n",
        "    else:\n",
        "        icon_color = 'blue'    \n",
        "    \n",
        "    folium.Marker([geo_df.loc[n, '위도'], geo_df.loc[n, '경도']], \n",
        "                  popup=popup_name, \n",
        "                  icon=folium.Icon(color=icon_color)).add_to(map)\n",
        "\n",
        "map"
      ],
      "execution_count": null,
      "outputs": []
    },
    {
      "cell_type": "code",
      "metadata": {
        "id": "7REboyEmkH2P"
      },
      "source": [
        "map = folium.Map(location=[geo_df['위도'].mean(), geo_df['경도'].mean()], zoom_start=12, tiles='Stamen Toner')\n",
        "\n",
        "for n in geo_df.index:\n",
        "    # 팝업에 들어갈 텍스트를 지정해 줍니다.\n",
        "    popup_name = geo_df['브랜드명'][n] + ' - ' + geo_df['도로명주소'][n]\n",
        "    # 브랜드명에 따라 아이콘 색상을 달리해서 찍어줍니다.\n",
        "    if geo_df['브랜드명'][n] == '던킨도너츠' :\n",
        "        icon_color = 'red'\n",
        "    else:\n",
        "        icon_color = 'blue'    \n",
        "    \n",
        "    # folium.features.CircleMarker 오류가 날 경우 --> folium.vector_layer.CircleMarker\n",
        "    folium.CircleMarker(\n",
        "        location=[geo_df['위도'][n], geo_df['경도'][n]],\n",
        "        radius=3,\n",
        "        popup=popup_name,\n",
        "        color= icon_color,\n",
        "        fill=True,\n",
        "        fill_color=icon_color\n",
        "    ).add_to(map)\n",
        "\n",
        "\n",
        "map"
      ],
      "execution_count": null,
      "outputs": []
    },
    {
      "cell_type": "markdown",
      "metadata": {
        "id": "PAepH8Af_uuS"
      },
      "source": [
        "##########4교시"
      ]
    },
    {
      "cell_type": "markdown",
      "metadata": {
        "id": "lYK-grH_kKHf"
      },
      "source": [
        "뚜레쥬르, 파리바게뜨 매장 위치 분석"
      ]
    },
    {
      "cell_type": "code",
      "metadata": {
        "id": "0pgmm-OykL9K"
      },
      "source": [
        "##df_seoul[df_seoul['상호명'].str.extract('(뚜레쥬르|파리(바게|크라상))').notnull()]"
      ],
      "execution_count": null,
      "outputs": []
    },
    {
      "cell_type": "code",
      "metadata": {
        "id": "e0IYVlaDkPPP"
      },
      "source": [
        "df_bread = df_seoul.loc[\n",
        "    df_seoul['상호명'].str.contains('뚜레쥬르|파리(바게|크라상)') &\n",
        "    (~df_seoul['상호명'].str.contains('파스쿠찌|잠바주스'))\n",
        "].copy()\n",
        "# 파스쿠찌 상호명에 파리크라상이 들어가기 때문에 파스쿠찌는 제외합니다.\n",
        "df_bread.shape"
      ],
      "execution_count": null,
      "outputs": []
    },
    {
      "cell_type": "code",
      "metadata": {
        "id": "U797Hw-akR-3"
      },
      "source": [
        "df_bread['상호명'].value_counts()"
      ],
      "execution_count": null,
      "outputs": []
    },
    {
      "cell_type": "code",
      "metadata": {
        "id": "A25j_NBgkVBS"
      },
      "source": [
        "df_bread.loc[df_bread['상호명'].str.contains('파리(바게|크라상)'), '브랜드명'] = '파리바게뜨'\n",
        "df_bread.loc[df_bread['상호명'].str.contains('뚜레(쥬|주)르'), '브랜드명'] = '뚜레쥬르'"
      ],
      "execution_count": null,
      "outputs": []
    },
    {
      "cell_type": "code",
      "metadata": {
        "id": "wLApKxZKkW8W"
      },
      "source": [
        "df_bread_group_count = df_bread['브랜드명'].value_counts()\n",
        "df_bread_group_count"
      ],
      "execution_count": null,
      "outputs": []
    },
    {
      "cell_type": "code",
      "metadata": {
        "id": "gq-70cEIkZEe"
      },
      "source": [
        "df_bread.shape"
      ],
      "execution_count": null,
      "outputs": []
    },
    {
      "cell_type": "code",
      "metadata": {
        "id": "PaJDBWzTkatt"
      },
      "source": [
        "434 + 194"
      ],
      "execution_count": null,
      "outputs": []
    },
    {
      "cell_type": "code",
      "metadata": {
        "id": "HDnPSSJNkcXp"
      },
      "source": [
        "df_bread_ratio = df_bread_group_count[0]/df_bread_group_count[1]\n",
        "print(f'제공된 데이터로 봤을 때 서울에는 파리바게뜨가 뚜레쥬르보다 매장이 {df_31_ratio:.2f}배가량 많습니다.')"
      ],
      "execution_count": null,
      "outputs": []
    },
    {
      "cell_type": "code",
      "metadata": {
        "id": "B9easjD5kegW"
      },
      "source": [
        "798/244"
      ],
      "execution_count": null,
      "outputs": []
    },
    {
      "cell_type": "markdown",
      "metadata": {
        "id": "MBBydfwPkihx"
      },
      "source": [
        "하지만, 파리바게뜨 홈페이지에서 서울시특별시의 매장정보를 보면 798개의 매장이 있습니다. 뚜레쥬르는 244개의 매장이 있습니다.\n",
        "\n",
        "1.   파리바게뜨 : https://www.paris.co.kr/store/store_list.jsp?sido=&gugun=&s_sido=%EC%84%9C%EC%9A%B8%ED%8A%B9%EB%B3%84%EC%8B%9C&s_gugun=&s_name=&page=98\n",
        "2.   뚜레쥬르 : https://www.tlj.co.kr:7008/store/search.asp?store_type=&sido=%BC%AD%BF%EF%C6%AF%BA%B0%BD%C3&gugun=&keyword="
      ]
    },
    {
      "cell_type": "code",
      "metadata": {
        "id": "aHCsCPvgkvvD"
      },
      "source": [
        "(ggplot(df_bread)\n",
        " + aes(x='경도', y='위도', color='브랜드명')\n",
        " + geom_point()\n",
        " + theme(text=element_text(family='NanumBarunGothic'))\n",
        ")\n",
        "\n",
        "\n",
        "'''\n",
        "df_tou = df_bread[df_bread[\"브랜드명\"] == \"뚜레쥬르\"]\n",
        "df_paris = df_bread[df_bread[\"브랜드명\"] == \"파리바게뜨\"]\n",
        "\n",
        "# pandas로 그리기\n",
        "ax = df_tou[[\"경도\", \"위도\", \"브랜드명\"]].plot.scatter(x='경도', y='위도', \n",
        "                                               color='DarkGreen', label='뚜레쥬르')\n",
        "df_paris[[\"경도\", \"위도\", \"브랜드명\"]].plot.scatter(x='경도', y='위도', \n",
        "                                            color='DarkBlue', label='파리바게뜨', \n",
        "                                            ax=ax, grid=True)\n",
        "'''\n",
        "\n",
        "'''\n",
        "# seaborn 으로 그리기\n",
        "sns.scatterplot(data=df_bread, x='경도', y='위도', hue='브랜드명')\n",
        "'''"
      ],
      "execution_count": null,
      "outputs": []
    },
    {
      "cell_type": "code",
      "metadata": {
        "id": "ts8T7QYjlEM0"
      },
      "source": [
        "geo_df = df_bread.copy()\n",
        "\n",
        "# 지도를 초기화 해줄 때 어디를 중심으로 보여줄지 설정합니다.\n",
        "# 우리가 가져온 데이터프레임 안에 있는 데이터를 기준으로 출력할 수 있도록 위경도의 평균값을 구해옵니다.\n",
        "map = folium.Map(location=[geo_df['위도'].mean(), geo_df['경도'].mean()], zoom_start=12)\n",
        "\n",
        "for n in geo_df.index:\n",
        "    # 팝업에 들어갈 텍스트를 지정해 줍니다.\n",
        "    popup_name = geo_df['브랜드명'][n] + ' - ' + geo_df['도로명주소'][n]\n",
        "    # 브랜드명에 따라 아이콘 색상을 달리해서 찍어줍니다.\n",
        "    if geo_df['브랜드명'][n] == '뚜레쥬르' :\n",
        "        icon_color = 'green'\n",
        "    else:\n",
        "        icon_color = 'blue'    \n",
        "    \n",
        "    folium.Marker([geo_df['위도'][n], geo_df['경도'][n]], \n",
        "                  popup=popup_name, \n",
        "                  icon=folium.Icon(color=icon_color)).add_to(map)\n",
        "\n",
        "map"
      ],
      "execution_count": null,
      "outputs": []
    },
    {
      "cell_type": "code",
      "metadata": {
        "id": "JLru7JfBlHBM"
      },
      "source": [
        "map = folium.Map(location=[geo_df['위도'].mean(), geo_df['경도'].mean()], zoom_start=12, tiles='Stamen Toner')\n",
        "\n",
        "for n in geo_df.index:\n",
        "    # 팝업에 들어갈 텍스트를 지정해 줍니다.\n",
        "    popup_name = geo_df.loc[n, '브랜드명'] + ' - ' + geo_df.loc[n, '도로명주소']\n",
        "    # 브랜드명에 따라 아이콘 색상을 달리해서 찍어줍니다.\n",
        "    if geo_df.loc[n, '브랜드명'] == '뚜레쥬르' :\n",
        "        icon_color = 'green'\n",
        "    else:\n",
        "        icon_color = 'blue'    \n",
        "      \n",
        "    # folium.CircleMarker 혹은 folium.features.CircleMarker 오류가 날 경우\n",
        "    # --> folium.vector_layer.CircleMarker 를 사용합니다.\n",
        "    folium.CircleMarker(\n",
        "        location=[geo_df.loc[n,'위도'], geo_df.loc[n, '경도']],\n",
        "        radius=3,\n",
        "        popup=popup_name,\n",
        "        color= icon_color,\n",
        "        fill=True,\n",
        "        fill_color=icon_color\n",
        "    ).add_to(map)\n",
        "\n",
        "\n",
        "map"
      ],
      "execution_count": null,
      "outputs": []
    },
    {
      "cell_type": "markdown",
      "metadata": {
        "id": "9jwLqz9fQ8Bo"
      },
      "source": [
        "Chapter4. 스타벅스, 이디야 매장위치 비교"
      ]
    },
    {
      "cell_type": "markdown",
      "metadata": {
        "id": "tBxKuO_1lKKy"
      },
      "source": [
        "스타벅스, 이디야 위치 분석\n",
        "[[비즈&빅데이터]스타벅스 '쏠림' vs 이디야 '분산'](http://news.bizwatch.co.kr/article/consumer/2018/01/19/0015)"
      ]
    },
    {
      "cell_type": "code",
      "metadata": {
        "id": "jK7Zaa2elSuK"
      },
      "source": [
        "df_seoul[df_seoul['상호명'].str.contains('스타벅스|starbucks|STARBUCKS')].shape"
      ],
      "execution_count": null,
      "outputs": []
    },
    {
      "cell_type": "code",
      "metadata": {
        "id": "WQZrG5nCR8AA"
      },
      "source": [
        "df_seoul.loc[df_seoul['상호명'].str.contains('스타벅스|starbucks|STARBUCKS'), '상호명'].shape"
      ],
      "execution_count": null,
      "outputs": []
    },
    {
      "cell_type": "code",
      "metadata": {
        "id": "1z5MKriOSH9e"
      },
      "source": [
        "df_seoul[df_seoul['상호명'].str.contains('이디야|ediya|EDIYA')].shape"
      ],
      "execution_count": null,
      "outputs": []
    },
    {
      "cell_type": "code",
      "metadata": {
        "id": "gAL34Fv3lUJz"
      },
      "source": [
        "df_seoul.loc[df_seoul['상호명'].str.contains('이디야|ediya|EDIYA'), '상호명'].shape"
      ],
      "execution_count": null,
      "outputs": []
    },
    {
      "cell_type": "code",
      "metadata": {
        "id": "2gk-Quw8UCB8"
      },
      "source": [
        "df_seoul.loc[df_seoul['상호명'].str.contains('이디야|ediya|EDIYA'), '상호명'].value_counts()"
      ],
      "execution_count": null,
      "outputs": []
    },
    {
      "cell_type": "code",
      "metadata": {
        "id": "7hV8zU5KlVld"
      },
      "source": [
        "df_cafe = df_seoul[df_seoul['상호명'].str.contains('스타벅스|starbucks|STARBUCKS|이디야|ediya|EDIYA')]\n",
        "df_cafe.shape"
      ],
      "execution_count": null,
      "outputs": []
    },
    {
      "cell_type": "code",
      "metadata": {
        "id": "A_6a5J2HlXV1"
      },
      "source": [
        "#df_cafe[df_cafe['상호명'].str.contains('스타벅스|starbucks|STARBUCKS')]['브랜드명'] = '스타벅스'\n",
        "df_cafe.loc[df_cafe['상호명'].str.contains('스타벅스|starbucks|STARBUCKS'), '브랜드명'] = '스타벅스'"
      ],
      "execution_count": null,
      "outputs": []
    },
    {
      "cell_type": "code",
      "metadata": {
        "id": "9CuGac49VvkH"
      },
      "source": [
        "df_cafe[['상호명', '브랜드명']]"
      ],
      "execution_count": null,
      "outputs": []
    },
    {
      "cell_type": "code",
      "metadata": {
        "id": "0xRTTRXGlZG0"
      },
      "source": [
        "# ~은 not을 의미합니다. 스타벅스가 아닌 데이터는 이디야로 넣어주어도 되지만\n",
        "# 아래 코드처럼 결측치를 이디야로 채워줘도 괜찮습니다.\n",
        "df_cafe.loc[~df_cafe['상호명'].str.contains('스타벅스|starbucks|STARBUCKS'), '브랜드명'] = '이디야'"
      ],
      "execution_count": null,
      "outputs": []
    },
    {
      "cell_type": "code",
      "metadata": {
        "id": "q0qFQpOgWA1u"
      },
      "source": [
        "df_cafe[['상호명', '브랜드명']]"
      ],
      "execution_count": null,
      "outputs": []
    },
    {
      "cell_type": "code",
      "metadata": {
        "id": "9JuivL5BWdhQ"
      },
      "source": [
        "df_cafe.loc[df_cafe['브랜드명'].isnull(), '상호명'].head()"
      ],
      "execution_count": null,
      "outputs": []
    },
    {
      "cell_type": "code",
      "metadata": {
        "id": "MX7nf3PRlaZi"
      },
      "source": [
        "df_cafe['브랜드명'] = df_cafe['브랜드명'].fillna('이디야')"
      ],
      "execution_count": null,
      "outputs": []
    },
    {
      "cell_type": "code",
      "metadata": {
        "id": "RMHxONtsldoj"
      },
      "source": [
        "df_cafe[['상호명','브랜드명']].head()"
      ],
      "execution_count": null,
      "outputs": []
    },
    {
      "cell_type": "code",
      "metadata": {
        "id": "joWdaU0llbpg"
      },
      "source": [
        "df_cafe.loc[df_cafe['브랜드명'].isnull(), '상호명'].head()"
      ],
      "execution_count": null,
      "outputs": []
    },
    {
      "cell_type": "code",
      "metadata": {
        "id": "v_0spNeXlfKW"
      },
      "source": [
        "df_cafe['브랜드명'].value_counts()"
      ],
      "execution_count": null,
      "outputs": []
    },
    {
      "cell_type": "code",
      "metadata": {
        "id": "sXYfTa4nlgbz"
      },
      "source": [
        "geo_df = df_cafe"
      ],
      "execution_count": null,
      "outputs": []
    },
    {
      "cell_type": "code",
      "metadata": {
        "id": "fwq6gducliNL"
      },
      "source": [
        "map = folium.Map(location=[geo_df['위도'].mean(), geo_df['경도'].mean()], zoom_start=12, tiles='Stamen Toner')\n",
        "\n",
        "for n in geo_df.index:\n",
        "    # 팝업에 들어갈 텍스트를 지정해 줍니다.\n",
        "    popup_name = geo_df.loc[n, '상호명'] + ' - ' + geo_df.loc[n, '도로명주소']\n",
        "    # 브랜드명에 따라 아이콘 색상을 달리해서 찍어줍니다.\n",
        "    if geo_df.loc[n, '브랜드명'] == '스타벅스' :\n",
        "        icon_color = 'green'\n",
        "    else:\n",
        "        icon_color = 'blue'    \n",
        "        \n",
        "    # folium.CircleMarker 혹은 folium.features.CircleMarker 오류가 날 경우\n",
        "    # --> folium.vector_layer.CircleMarker 를 사용합니다.\n",
        "    folium.CircleMarker(\n",
        "        location=[geo_df.loc[n,'위도'], geo_df.loc[n, '경도']],\n",
        "        radius=3,\n",
        "        popup=popup_name,\n",
        "        color= icon_color,\n",
        "        fill=True,\n",
        "        fill_color=icon_color\n",
        "    ).add_to(map)\n",
        "\n",
        "\n",
        "map"
      ],
      "execution_count": null,
      "outputs": []
    },
    {
      "cell_type": "markdown",
      "metadata": {
        "id": "hWqiUZVyllUr"
      },
      "source": [
        "구별 브랜드별 점포수"
      ]
    },
    {
      "cell_type": "code",
      "metadata": {
        "id": "NkE9tR_VZjLL"
      },
      "source": [
        "df_cafe.groupby(['시군구명', '브랜드명'])['상호명'].count()"
      ],
      "execution_count": null,
      "outputs": []
    },
    {
      "cell_type": "code",
      "metadata": {
        "id": "OZ-dJe8ZbA-5"
      },
      "source": [
        "pd.DataFrame(\n",
        "    df_cafe.groupby(['시군구명', '브랜드명'])['상호명'].count()\n",
        ")"
      ],
      "execution_count": null,
      "outputs": []
    },
    {
      "cell_type": "code",
      "metadata": {
        "id": "xRdv7EH2lnzH"
      },
      "source": [
        "df_cafe_brand = pd.DataFrame(\n",
        "    df_cafe.groupby(['시군구명', '브랜드명'])['상호명'].count()\n",
        ").reset_index()\n",
        "df_cafe_brand.columns = ['구', '브랜드명', '매장수']\n",
        "df_cafe_brand"
      ],
      "execution_count": null,
      "outputs": []
    },
    {
      "cell_type": "code",
      "metadata": {
        "id": "ZRaQ0NY3lqVi"
      },
      "source": [
        "(ggplot(df_cafe_brand)\n",
        " + aes(x='구', y='매장수', fill='브랜드명')\n",
        " + geom_bar(stat='identity', position='dodge') #position='dodge' 제거하면 한 바에 브랜드명 들이 같이 표시 (두개를 더한 수 표시)\n",
        " + ggtitle('구별 스타벅스 이디야 매장수')\n",
        " + theme(text=element_text(family='NanumBarunGothic'),\n",
        "        axis_text_x=element_text(rotation=60), \n",
        "        figure_size=(8, 4))\n",
        ")\n",
        "'''\n",
        "plt.figure(figsize=(24, 6))\n",
        "sns.barplot(data=df_cafe_brand, x='구', y='매장수', hue='브랜드명')\n",
        "'''"
      ],
      "execution_count": null,
      "outputs": []
    },
    {
      "cell_type": "code",
      "metadata": {
        "id": "1Gl8_izXlsSq"
      },
      "source": [
        "df_cafe.groupby(['시군구명'])['상호명'].count()"
      ],
      "execution_count": null,
      "outputs": []
    },
    {
      "cell_type": "code",
      "metadata": {
        "id": "bO2mm0jTluTY"
      },
      "source": [
        "df_cafe_gu = pd.DataFrame(df_cafe.groupby(['시군구명'])['상호명'].count())\n",
        "df_cafe_gu.head()"
      ],
      "execution_count": null,
      "outputs": []
    },
    {
      "cell_type": "markdown",
      "metadata": {
        "id": "mm4zUoVJlwaS"
      },
      "source": [
        "choropleth 그리기\n",
        "\n",
        "구별로 매장수를 표현하기 위해 GeoJSON 파일 로드\n",
        "파일출처 : [southkorea/seoul-maps: Seoul administrative divisions in ESRI Shapefile, GeoJSON and TopoJSON formats.](https://github.com/southkorea/seoul-maps)\n",
        "\n",
        "https://github.com/southkorea/seoul-maps/blob/master/kostat/2013/json/seoul_municipalities_geo_simple.json\n",
        "\n",
        "https://raw.githubusercontent.com/southkorea/seoul-maps/master/kostat/2013/json/seoul_municipalities_geo_simple.json\n",
        "\n",
        "https://github.com/southkorea/southkorea-maps/blob/master/kostat/2013/json/skorea_municipalities_geo_simple.json\n",
        "\n",
        "https://raw.githubusercontent.com/southkorea/southkorea-maps/master/kostat/2013/json/skorea_municipalities_geo_simple.json\n"
      ]
    },
    {
      "cell_type": "code",
      "metadata": {
        "id": "vukCeBUDl-I2"
      },
      "source": [
        "import json\n",
        "\n",
        "geo_path = 'data/seoul_municipalities_geo_simple.json'\n",
        "geo_json = json.load(open(geo_path, encoding='utf-8'))"
      ],
      "execution_count": null,
      "outputs": []
    },
    {
      "cell_type": "code",
      "metadata": {
        "id": "08jllPvDgD5M"
      },
      "source": [
        "geo_json"
      ],
      "execution_count": null,
      "outputs": []
    },
    {
      "cell_type": "markdown",
      "metadata": {
        "id": "Yo_pFk-qmCms"
      },
      "source": [
        "스타벅스 이디야 카페 매장 합계 분포\n",
        "\n",
        "http://colorbrewer2.org"
      ]
    },
    {
      "cell_type": "code",
      "metadata": {
        "id": "16_dJ5owmAWA"
      },
      "source": [
        "map = folium.Map(location=[geo_df['위도'].mean(), geo_df['경도'].mean()], \n",
        "                 zoom_start=11)\n",
        "\n",
        "map.choropleth(geo_data = geo_json,\n",
        "               data = df_cafe_gu['상호명'],\n",
        "               columns = [df_cafe_brand.index, df_cafe_gu['상호명']],\n",
        "               fill_color = 'Purples',\n",
        "               key_on = 'feature.properties.name',\n",
        "               fill_opacity=0.7,\n",
        "               line_opacity=0.2,\n",
        "               highlight=True)\n",
        "\n",
        "\n",
        "for n in geo_df.index:\n",
        "    # 팝업에 들어갈 텍스트를 지정해 줍니다.\n",
        "    popup_name = geo_df.loc[n, '상호명'] + ' - ' + geo_df.loc[n, '도로명주소']\n",
        "    # 브랜드명에 따라 아이콘 색상을 달리해서 찍어줍니다.\n",
        "    if geo_df.loc[n, '브랜드명'] == '스타벅스' :\n",
        "        icon_color = 'green'\n",
        "    else:\n",
        "        icon_color = 'blue'    \n",
        "    \n",
        "    # folium.CircleMarker 혹은 folium.features.CircleMarker 오류가 날 경우\n",
        "    # --> folium.vector_layer.CircleMarker 를 사용합니다. \n",
        "    folium.CircleMarker(\n",
        "        location=[geo_df.loc[n,'위도'], geo_df.loc[n, '경도']],\n",
        "        radius=3,\n",
        "        popup=popup_name,\n",
        "        color= icon_color,\n",
        "        fill=True,\n",
        "        fill_color=icon_color\n",
        "    ).add_to(map)\n",
        "\n",
        "map"
      ],
      "execution_count": null,
      "outputs": []
    },
    {
      "cell_type": "markdown",
      "metadata": {
        "id": "o0nmzxLSmIq7"
      },
      "source": [
        "스타벅스 매장 분포"
      ]
    },
    {
      "cell_type": "code",
      "metadata": {
        "id": "QYsA0bn4kjiF"
      },
      "source": [
        "df_cafe.head()"
      ],
      "execution_count": null,
      "outputs": []
    },
    {
      "cell_type": "code",
      "metadata": {
        "id": "T8bbVikbmMW9"
      },
      "source": [
        "df_cafe_temp = df_cafe[df_cafe['브랜드명'] == '스타벅스']\n",
        "df_cafe_temp df_cafe_temp.groupby(['시군구명'])['상호명'].count()\n",
        "df_cafe_starbucks = pd.DataFrame(df_cafe_temp)\n",
        "df_cafe_starbucks.head()\n",
        "df_cafe_starbucks.columns = ['매장수']\n",
        "df_cafe_starbucks.head()"
      ],
      "execution_count": null,
      "outputs": []
    },
    {
      "cell_type": "code",
      "metadata": {
        "id": "nE1BAHHomQax"
      },
      "source": [
        "map = folium.Map(location=[geo_df['위도'].mean(), geo_df['경도'].mean()], \n",
        "                 zoom_start=11, tiles='Stamen Toner')\n",
        "\n",
        "map.choropleth(geo_data = geo_json,\n",
        "               data = df_cafe_starbucks['매장수'],\n",
        "               columns = [df_cafe_starbucks.index, df_cafe_starbucks['매장수']],\n",
        "               fill_color = 'YlGn',\n",
        "               key_on = 'feature.properties.name',\n",
        "               fill_opacity=0.7,\n",
        "               line_opacity=0.2,\n",
        "               highlight=True)\n",
        "\n",
        "\n",
        "for n in geo_df.index:\n",
        "    # 팝업에 들어갈 텍스트를 지정해 줍니다.\n",
        "    popup_name = geo_df.loc[n, '상호명'] + ' - ' + geo_df.loc[n, '도로명주소']\n",
        "    # 브랜드명에 따라 아이콘 색상을 달리해서 찍어줍니다.\n",
        "    if geo_df.loc[n, '브랜드명'] == '스타벅스' :\n",
        "        icon_color = 'green'    \n",
        "\n",
        "            \n",
        "        # folium.CircleMarker 혹은 folium.features.CircleMarker 오류가 날 경우\n",
        "        # --> folium.vector_layer.CircleMarker 를 사용합니다.\n",
        "        folium.CircleMarker(\n",
        "            location=[geo_df.loc[n,'위도'], geo_df.loc[n, '경도']],\n",
        "            radius=3,\n",
        "            popup=popup_name,\n",
        "            color= icon_color,\n",
        "            fill=True,\n",
        "            fill_color=icon_color\n",
        "        ).add_to(map)\n",
        "\n",
        "\n",
        "map"
      ],
      "execution_count": null,
      "outputs": []
    },
    {
      "cell_type": "markdown",
      "metadata": {
        "id": "Tw2k-ca6mSx_"
      },
      "source": [
        "이디야 매장 분포"
      ]
    },
    {
      "cell_type": "code",
      "metadata": {
        "id": "LsUE7WnjmTuw"
      },
      "source": [
        "df_cafe_temp = df_cafe[df_cafe['브랜드명'] == '이디야']\n",
        "df_cafe_temp.groupby(['시군구명'])['상호명'].count()\n",
        "df_cafe_ediya = pd.DataFrame(df_cafe_temp)\n",
        "df_cafe_ediya.head()\n",
        "df_cafe_ediya.columns = ['매장수']\n",
        "df_cafe_ediya.head()"
      ],
      "execution_count": null,
      "outputs": []
    },
    {
      "cell_type": "code",
      "metadata": {
        "id": "obpsmqOVmXku"
      },
      "source": [
        "map = folium.Map(location=[geo_df['위도'].mean(), geo_df['경도'].mean()], \n",
        "                 zoom_start=11, tiles='Stamen Toner')\n",
        "\n",
        "map.choropleth(geo_data = geo_json,\n",
        "               data = df_cafe_ediya['매장수'],\n",
        "               columns = [df_cafe_ediya.index, df_cafe_ediya['매장수']],\n",
        "               fill_color = 'PuBu',\n",
        "               key_on = 'feature.properties.name',\n",
        "               fill_opacity=0.7,\n",
        "               line_opacity=0.2,\n",
        "               highlight=True)\n",
        "\n",
        "\n",
        "for n in geo_df.index:\n",
        "    # 팝업에 들어갈 텍스트를 지정해 줍니다.\n",
        "    popup_name = geo_df.loc[n, '상호명'] + ' - ' + geo_df.loc[n, '도로명주소']\n",
        "    # 브랜드명에 따라 아이콘 색상을 달리해서 찍어줍니다.\n",
        "    if geo_df.loc[n, '브랜드명'] == '이디야' :\n",
        "        icon_color = 'blue'    \n",
        "\n",
        "            \n",
        "        # folium.CircleMarker 혹은 folium.features.CircleMarker 오류가 날 경우\n",
        "        # --> folium.vector_layer.CircleMarker 를 사용합니다.\n",
        "        folium.CircleMarker(\n",
        "            location=[geo_df.loc[n,'위도'], geo_df.loc[n, '경도']],\n",
        "            radius=3,\n",
        "            popup=popup_name,\n",
        "            color= icon_color,\n",
        "            fill=True,\n",
        "            fill_color=icon_color\n",
        "        ).add_to(map)\n",
        "\n",
        "\n",
        "map"
      ],
      "execution_count": null,
      "outputs": []
    },
    {
      "cell_type": "markdown",
      "metadata": {
        "id": "wguHuMpbmbRf"
      },
      "source": [
        "매장수 크기를 반영해 CircleMaker 그리기\n",
        "\n",
        "Pandas 의 reshaping data 활용하기\n",
        "\n",
        "![대체 텍스트](https://camo.githubusercontent.com/691dd4b6b2dff4446342423163cf567a9f7d6abb/68747470733a2f2f692e696d6775722e636f6d2f49496855306e462e706e67)\n",
        "\n",
        "출처 : https://github.com/pandas-dev/pandas/blob/master/doc/cheatsheet/Pandas_Cheat_Sheet.pdf\n",
        "reshaping 관련 문서 : https://pandas.pydata.org/pandas-docs/stable/user_guide/reshaping.html"
      ]
    },
    {
      "cell_type": "code",
      "metadata": {
        "id": "bOxTgh5nmoMQ"
      },
      "source": [
        "df_cafe_brand.head()"
      ],
      "execution_count": null,
      "outputs": []
    },
    {
      "cell_type": "code",
      "metadata": {
        "id": "TCNY4-c9mplN"
      },
      "source": [
        "df_cafe_brand_vs = df_cafe_brand.pivot_table(index='구',\n",
        "                                             columns='브랜드명',\n",
        "                                             values='매장수')\n",
        "df_cafe_brand_vs.columns = ['스타벅스', '이디야']\n",
        "df_cafe_brand_vs.head()"
      ],
      "execution_count": null,
      "outputs": []
    },
    {
      "cell_type": "code",
      "metadata": {
        "id": "rhQMu47dmrcm"
      },
      "source": [
        "df_cafe_brand_vs['매장수비교'] = df_cafe_brand_vs.apply( \\\n",
        "    lambda x : 1 if x['스타벅스'] > x['이디야'] else 0, axis=1)\n",
        "df_cafe_brand_vs.head()"
      ],
      "execution_count": null,
      "outputs": []
    },
    {
      "cell_type": "code",
      "metadata": {
        "id": "N5lyl2c-xGyC"
      },
      "source": [
        "for gu in df_cafe_brand_vs.index:\n",
        "    print(gu)"
      ],
      "execution_count": null,
      "outputs": []
    },
    {
      "cell_type": "code",
      "metadata": {
        "id": "oi0LhxZJmtgi"
      },
      "source": [
        "lng_list = []\n",
        "lat_list = []\n",
        "for gu in df_cafe_brand_vs.index:\n",
        "    lat = df_cafe.loc[df_cafe['시군구명'] == gu, '위도'].mean()\n",
        "    lng = df_cafe.loc[df_cafe['시군구명'] == gu, '경도'].mean()\n",
        "    lat_list.append(lat)\n",
        "    lng_list.append(lng)\n",
        "    \n",
        "df_cafe_brand_vs['위도'] = lat_list\n",
        "df_cafe_brand_vs['경도'] = lng_list\n",
        "df_cafe_brand_vs.head()"
      ],
      "execution_count": null,
      "outputs": []
    },
    {
      "cell_type": "code",
      "metadata": {
        "id": "qwl2a8TLmvYm"
      },
      "source": [
        "# CircleMarker의 radius 지정시 다음과 같은 타입오류가 나서 float type 으로 변경\n",
        "# TypeError: Object of type 'int64' is not JSON serializable\n",
        "\n",
        "df_cafe_brand_vs['스타벅스'] = df_cafe_brand_vs['스타벅스'].astype(float)\n",
        "df_cafe_brand_vs['이디야'] = df_cafe_brand_vs['이디야'].astype(float)\n",
        "df_cafe_brand_vs.info()"
      ],
      "execution_count": null,
      "outputs": []
    },
    {
      "cell_type": "code",
      "metadata": {
        "id": "CoilnYLkmx31"
      },
      "source": [
        "map = folium.Map(location=[geo_df['위도'].mean(), geo_df['경도'].mean()], \n",
        "                 zoom_start=11, tiles='Stamen Toner')\n",
        "\n",
        "map.choropleth(geo_data = geo_json,\n",
        "               data = df_cafe_brand_vs['매장수비교'],\n",
        "               columns = [df_cafe_brand_vs.index, \n",
        "                          df_cafe_brand_vs['매장수비교']],\n",
        "               fill_color = 'BuGn',\n",
        "               key_on = 'feature.properties.name',\n",
        "               fill_opacity=0.7,\n",
        "               line_opacity=0.2,\n",
        "               highlight=True)\n",
        "\n",
        "\n",
        "for gu in df_cafe_brand_vs.index:\n",
        "        \n",
        "    for cafe in ['스타벅스', '이디야']:\n",
        "        \n",
        "        cafe_count = df_cafe_brand_vs.loc[gu, cafe]\n",
        "        msg = f'{gu} {cafe} 매장수 : {cafe_count:.0f}'\n",
        "        \n",
        "        icon_color = 'blue'\n",
        "        if cafe == '스타벅스': \n",
        "            icon_color = 'green'\n",
        "        \n",
        "        \n",
        "        # folium.CircleMarker 혹은 folium.features.CircleMarker 오류가 날 경우\n",
        "        # --> folium.vector_layer.CircleMarker 를 사용합니다.\n",
        "        folium.CircleMarker(\n",
        "            location = [df_cafe_brand_vs.loc[gu,'위도'], \n",
        "                      df_cafe_brand_vs.loc[gu, '경도']],\n",
        "            radius = cafe_count,\n",
        "            color = icon_color,\n",
        "            popup = msg,\n",
        "            fill = True,\n",
        "            fill_color = icon_color\n",
        "        ).add_to(map)\n",
        "\n",
        "map"
      ],
      "execution_count": null,
      "outputs": []
    },
    {
      "cell_type": "markdown",
      "metadata": {
        "id": "9NaMsAbPm1S5"
      },
      "source": [
        "# 지도 출력 시 색상 참고\n",
        "http://colorbrewer2.org/\n",
        "\n",
        "# folium 공부를 위해 더 읽어보면 좋을 것\n",
        "\n",
        "*   https://nbviewer.jupyter.org/github/python-visualization/folium/tree/master/examples/\n",
        "*   https://python-visualization.github.io/folium/quickstart.html#Choropleth-maps\n",
        "*   [PinkWink의 데이터 사이언스 관련 책 - 파이썬으로 데이터 주무르기](https://pinkwink.kr/1070)\n",
        "\n",
        "# 카토그램\n",
        "\n",
        "[총선⑫ 인구 비례로 본 당선 지도…‘카토그램’으로 살펴본 당선 현황 > 데이터룸 > 정치 > 뉴스 | KBSNEWS](http://news.kbs.co.kr/news/view.do?ncd=3264019)\n",
        "\n",
        "[The Housing Value of Every County in the U.S. - Metrocosm](http://metrocosm.com/the-housing-value-of-every-county-in-the-u-s/)"
      ]
    },
    {
      "cell_type": "code",
      "metadata": {
        "id": "zxaonXd9m6re"
      },
      "source": [
        ""
      ],
      "execution_count": null,
      "outputs": []
    }
  ]
}